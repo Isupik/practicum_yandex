{
 "cells": [
  {
   "cell_type": "markdown",
   "metadata": {},
   "source": [
    "<div style=\"border:solid Chocolate 2px; padding: 40px\">\n",
    "\n",
    "<b>Привет!👋</b>\n",
    "\n",
    "Меня зовут Огурлиев Анзор, я буду ревьюером твоего проекта. Сразу хочу предложить тебе общаться на \"ты\", если тебе это неудобно, скажи мне об этом. Нам предстоит пройти с тобой через тернистый и от того интересный путь анализа данных! Можешь не переживать, я всегда помогу тебе, если у тебя возникнут вопросы)\n",
    "\n",
    "По ходу твоей работы я буду оставлять свои комментарии, по выполненным тобой шагам. Попрошу тебя не удалять их, так мне будет проще отслеживать твой прогресс в случае повторной проверки.\n",
    "\n",
    "Очень важно вести диалог и обсуждать те пункты, которые у тебя могли не получиться, поэтому, ты можешь оставлять свои комментарии, и мы обязательно во всем разберемся! Самое главное - выделяй свои комментарии удобным для тебя способом (цвет, рамка), но так, чтобы они отчетлитво отличались от моих комментариев. Так мы ни в чем не запутаемся)\n",
    "\n",
    "Свои комментарии я буду выделять так: <font color='green'>зеленый</font>, <font color='gold'>желтый</font> и <font color='red'>красный</font> цвет, например:\n",
    "\n",
    "<br/>\n",
    "\n",
    "<div class=\"alert alert-success\">\n",
    "<h2> Комментарий ревьюера V1<a class=\"tocSkip\"> </h2>\n",
    "\n",
    "<b>Все отлично!👍:</b> Этот комментарий я буду оставлять, если твое решение оптимально для данного шага.\n",
    "</div>\n",
    "\n",
    "<br/>\n",
    "\n",
    "<div class=\"alert alert-warning\">\n",
    "    <h2> Комментарий ревьюера V1<a class=\"tocSkip\"> </h2>\n",
    "\n",
    "<b>Некоторые замечания и рекомендации💡:</b> Это не означает, что ты совершил ошибку. Такими комментариями я буду отмечать места, где ты справился с задачей, но её можно решить ещё лучше. Также в таких комментариях я буду оставлять для тебя другие советы.\n",
    "</div>\n",
    "\n",
    "\n",
    "<br/>\n",
    "<div class=\"alert alert-block alert-danger\">\n",
    "<h2> Комментарий ревьюера V1<a class=\"tocSkip\"></h2>\n",
    "\n",
    "\n",
    "<b>На доработку🤔:</b>\n",
    "Если решение, которое ты применил на определенном шаге, требует значительных изменений, то я буду оставлять такой комментарий. Тебе нужно будет подумать еще раз как правильным образом решить данный этап. Если ревью содержит такие комментарии, то я не смогу принять проект с первого раза.\n",
    "</div>\n",
    "\n",
    "P.S. В оглавлении комментария ты увидишь `V1` (`V1`, `V2`, `V3`) - это версия моего комментария, которая понадобится нам с тобой, чтобы не запутаться, если потребуется оставить тебе комментарии после первой проверки."
   ]
  },
  {
   "cell_type": "markdown",
   "metadata": {},
   "source": [
    "# Исследование объявлений о продаже квартир\n",
    "\n",
    "В вашем распоряжении данные сервиса Яндекс.Недвижимость — архив объявлений о продаже квартир в Санкт-Петербурге и соседних населённых пунктов за несколько лет. Нужно научиться определять рыночную стоимость объектов недвижимости. Ваша задача — установить параметры. Это позволит построить автоматизированную систему: она отследит аномалии и мошенническую деятельность. \n",
    "\n",
    "По каждой квартире на продажу доступны два вида данных. Первые вписаны пользователем, вторые — получены автоматически на основе картографических данных. Например, расстояние до центра, аэропорта, ближайшего парка и водоёма. "
   ]
  },
  {
   "cell_type": "markdown",
   "metadata": {},
   "source": [
    "<div class=\"alert alert-success\">\n",
    "<h2> Комментарий ревьюера V1<a class=\"tocSkip\"> </h2>\n",
    "\n",
    "<b>Все отлично!👍:</b> Молодец, что начинаешь проект с описания."
   ]
  },
  {
   "cell_type": "markdown",
   "metadata": {},
   "source": [
    "### Откройте файл с данными и изучите общую информацию. "
   ]
  },
  {
   "cell_type": "markdown",
   "metadata": {},
   "source": [
    "#### Импортируем данные в датасет"
   ]
  },
  {
   "cell_type": "code",
   "execution_count": 1,
   "metadata": {},
   "outputs": [
    {
     "data": {
      "text/html": [
       "<div>\n",
       "<style scoped>\n",
       "    .dataframe tbody tr th:only-of-type {\n",
       "        vertical-align: middle;\n",
       "    }\n",
       "\n",
       "    .dataframe tbody tr th {\n",
       "        vertical-align: top;\n",
       "    }\n",
       "\n",
       "    .dataframe thead th {\n",
       "        text-align: right;\n",
       "    }\n",
       "</style>\n",
       "<table border=\"1\" class=\"dataframe\">\n",
       "  <thead>\n",
       "    <tr style=\"text-align: right;\">\n",
       "      <th></th>\n",
       "      <th>total_images\\tlast_price\\ttotal_area\\tfirst_day_exposition\\trooms\\tceiling_height\\tfloors_total\\tliving_area\\tfloor\\tis_apartment\\tstudio\\topen_plan\\tkitchen_area\\tbalcony\\tlocality_name\\tairports_nearest\\tcityCenters_nearest\\tparks_around3000\\tparks_nearest\\tponds_around3000\\tponds_nearest\\tdays_exposition</th>\n",
       "    </tr>\n",
       "  </thead>\n",
       "  <tbody>\n",
       "    <tr>\n",
       "      <th>0</th>\n",
       "      <td>20\\t13000000.0\\t108.0\\t2019-03-07T00:00:00\\t3\\...</td>\n",
       "    </tr>\n",
       "    <tr>\n",
       "      <th>1</th>\n",
       "      <td>7\\t3350000.0\\t40.4\\t2018-12-04T00:00:00\\t1\\t\\t...</td>\n",
       "    </tr>\n",
       "    <tr>\n",
       "      <th>2</th>\n",
       "      <td>10\\t5196000.0\\t56.0\\t2015-08-20T00:00:00\\t2\\t\\...</td>\n",
       "    </tr>\n",
       "    <tr>\n",
       "      <th>3</th>\n",
       "      <td>0\\t64900000.0\\t159.0\\t2015-07-24T00:00:00\\t3\\t...</td>\n",
       "    </tr>\n",
       "    <tr>\n",
       "      <th>4</th>\n",
       "      <td>2\\t10000000.0\\t100.0\\t2018-06-19T00:00:00\\t2\\t...</td>\n",
       "    </tr>\n",
       "    <tr>\n",
       "      <th>5</th>\n",
       "      <td>10\\t2890000.0\\t30.4\\t2018-09-10T00:00:00\\t1\\t\\...</td>\n",
       "    </tr>\n",
       "    <tr>\n",
       "      <th>6</th>\n",
       "      <td>6\\t3700000.0\\t37.3\\t2017-11-02T00:00:00\\t1\\t\\t...</td>\n",
       "    </tr>\n",
       "    <tr>\n",
       "      <th>7</th>\n",
       "      <td>5\\t7915000.0\\t71.6\\t2019-04-18T00:00:00\\t2\\t\\t...</td>\n",
       "    </tr>\n",
       "    <tr>\n",
       "      <th>8</th>\n",
       "      <td>20\\t2900000.0\\t33.16\\t2018-05-23T00:00:00\\t1\\t...</td>\n",
       "    </tr>\n",
       "    <tr>\n",
       "      <th>9</th>\n",
       "      <td>18\\t5400000.0\\t61.0\\t2017-02-26T00:00:00\\t3\\t2...</td>\n",
       "    </tr>\n",
       "  </tbody>\n",
       "</table>\n",
       "</div>"
      ],
      "text/plain": [
       "  total_images\\tlast_price\\ttotal_area\\tfirst_day_exposition\\trooms\\tceiling_height\\tfloors_total\\tliving_area\\tfloor\\tis_apartment\\tstudio\\topen_plan\\tkitchen_area\\tbalcony\\tlocality_name\\tairports_nearest\\tcityCenters_nearest\\tparks_around3000\\tparks_nearest\\tponds_around3000\\tponds_nearest\\tdays_exposition\n",
       "0  20\\t13000000.0\\t108.0\\t2019-03-07T00:00:00\\t3\\...                                                                                                                                                                                                                                                                  \n",
       "1  7\\t3350000.0\\t40.4\\t2018-12-04T00:00:00\\t1\\t\\t...                                                                                                                                                                                                                                                                  \n",
       "2  10\\t5196000.0\\t56.0\\t2015-08-20T00:00:00\\t2\\t\\...                                                                                                                                                                                                                                                                  \n",
       "3  0\\t64900000.0\\t159.0\\t2015-07-24T00:00:00\\t3\\t...                                                                                                                                                                                                                                                                  \n",
       "4  2\\t10000000.0\\t100.0\\t2018-06-19T00:00:00\\t2\\t...                                                                                                                                                                                                                                                                  \n",
       "5  10\\t2890000.0\\t30.4\\t2018-09-10T00:00:00\\t1\\t\\...                                                                                                                                                                                                                                                                  \n",
       "6  6\\t3700000.0\\t37.3\\t2017-11-02T00:00:00\\t1\\t\\t...                                                                                                                                                                                                                                                                  \n",
       "7  5\\t7915000.0\\t71.6\\t2019-04-18T00:00:00\\t2\\t\\t...                                                                                                                                                                                                                                                                  \n",
       "8  20\\t2900000.0\\t33.16\\t2018-05-23T00:00:00\\t1\\t...                                                                                                                                                                                                                                                                  \n",
       "9  18\\t5400000.0\\t61.0\\t2017-02-26T00:00:00\\t3\\t2...                                                                                                                                                                                                                                                                  "
      ]
     },
     "execution_count": 1,
     "metadata": {},
     "output_type": "execute_result"
    }
   ],
   "source": [
    "import pandas as pd\n",
    "import numpy as np\n",
    "data = pd.read_csv('/datasets/real_estate_data.csv')\n",
    "data.head(10)"
   ]
  },
  {
   "cell_type": "markdown",
   "metadata": {},
   "source": [
    "Данные в таблице \"слиплись\", не удобно к просмотру и анализу. Добавим разделитель \"sep='\\t'\""
   ]
  },
  {
   "cell_type": "code",
   "execution_count": 2,
   "metadata": {
    "scrolled": true
   },
   "outputs": [
    {
     "data": {
      "text/html": [
       "<div>\n",
       "<style scoped>\n",
       "    .dataframe tbody tr th:only-of-type {\n",
       "        vertical-align: middle;\n",
       "    }\n",
       "\n",
       "    .dataframe tbody tr th {\n",
       "        vertical-align: top;\n",
       "    }\n",
       "\n",
       "    .dataframe thead th {\n",
       "        text-align: right;\n",
       "    }\n",
       "</style>\n",
       "<table border=\"1\" class=\"dataframe\">\n",
       "  <thead>\n",
       "    <tr style=\"text-align: right;\">\n",
       "      <th></th>\n",
       "      <th>total_images</th>\n",
       "      <th>last_price</th>\n",
       "      <th>total_area</th>\n",
       "      <th>first_day_exposition</th>\n",
       "      <th>rooms</th>\n",
       "      <th>ceiling_height</th>\n",
       "      <th>floors_total</th>\n",
       "      <th>living_area</th>\n",
       "      <th>floor</th>\n",
       "      <th>is_apartment</th>\n",
       "      <th>...</th>\n",
       "      <th>kitchen_area</th>\n",
       "      <th>balcony</th>\n",
       "      <th>locality_name</th>\n",
       "      <th>airports_nearest</th>\n",
       "      <th>cityCenters_nearest</th>\n",
       "      <th>parks_around3000</th>\n",
       "      <th>parks_nearest</th>\n",
       "      <th>ponds_around3000</th>\n",
       "      <th>ponds_nearest</th>\n",
       "      <th>days_exposition</th>\n",
       "    </tr>\n",
       "  </thead>\n",
       "  <tbody>\n",
       "    <tr>\n",
       "      <th>0</th>\n",
       "      <td>20</td>\n",
       "      <td>13000000.0</td>\n",
       "      <td>108.0</td>\n",
       "      <td>2019-03-07T00:00:00</td>\n",
       "      <td>3</td>\n",
       "      <td>2.70</td>\n",
       "      <td>16.0</td>\n",
       "      <td>51.0</td>\n",
       "      <td>8</td>\n",
       "      <td>NaN</td>\n",
       "      <td>...</td>\n",
       "      <td>25.0</td>\n",
       "      <td>NaN</td>\n",
       "      <td>Санкт-Петербург</td>\n",
       "      <td>18863.0</td>\n",
       "      <td>16028.0</td>\n",
       "      <td>1.0</td>\n",
       "      <td>482.0</td>\n",
       "      <td>2.0</td>\n",
       "      <td>755.0</td>\n",
       "      <td>NaN</td>\n",
       "    </tr>\n",
       "    <tr>\n",
       "      <th>1</th>\n",
       "      <td>7</td>\n",
       "      <td>3350000.0</td>\n",
       "      <td>40.4</td>\n",
       "      <td>2018-12-04T00:00:00</td>\n",
       "      <td>1</td>\n",
       "      <td>NaN</td>\n",
       "      <td>11.0</td>\n",
       "      <td>18.6</td>\n",
       "      <td>1</td>\n",
       "      <td>NaN</td>\n",
       "      <td>...</td>\n",
       "      <td>11.0</td>\n",
       "      <td>2.0</td>\n",
       "      <td>посёлок Шушары</td>\n",
       "      <td>12817.0</td>\n",
       "      <td>18603.0</td>\n",
       "      <td>0.0</td>\n",
       "      <td>NaN</td>\n",
       "      <td>0.0</td>\n",
       "      <td>NaN</td>\n",
       "      <td>81.0</td>\n",
       "    </tr>\n",
       "    <tr>\n",
       "      <th>2</th>\n",
       "      <td>10</td>\n",
       "      <td>5196000.0</td>\n",
       "      <td>56.0</td>\n",
       "      <td>2015-08-20T00:00:00</td>\n",
       "      <td>2</td>\n",
       "      <td>NaN</td>\n",
       "      <td>5.0</td>\n",
       "      <td>34.3</td>\n",
       "      <td>4</td>\n",
       "      <td>NaN</td>\n",
       "      <td>...</td>\n",
       "      <td>8.3</td>\n",
       "      <td>0.0</td>\n",
       "      <td>Санкт-Петербург</td>\n",
       "      <td>21741.0</td>\n",
       "      <td>13933.0</td>\n",
       "      <td>1.0</td>\n",
       "      <td>90.0</td>\n",
       "      <td>2.0</td>\n",
       "      <td>574.0</td>\n",
       "      <td>558.0</td>\n",
       "    </tr>\n",
       "    <tr>\n",
       "      <th>3</th>\n",
       "      <td>0</td>\n",
       "      <td>64900000.0</td>\n",
       "      <td>159.0</td>\n",
       "      <td>2015-07-24T00:00:00</td>\n",
       "      <td>3</td>\n",
       "      <td>NaN</td>\n",
       "      <td>14.0</td>\n",
       "      <td>NaN</td>\n",
       "      <td>9</td>\n",
       "      <td>NaN</td>\n",
       "      <td>...</td>\n",
       "      <td>NaN</td>\n",
       "      <td>0.0</td>\n",
       "      <td>Санкт-Петербург</td>\n",
       "      <td>28098.0</td>\n",
       "      <td>6800.0</td>\n",
       "      <td>2.0</td>\n",
       "      <td>84.0</td>\n",
       "      <td>3.0</td>\n",
       "      <td>234.0</td>\n",
       "      <td>424.0</td>\n",
       "    </tr>\n",
       "    <tr>\n",
       "      <th>4</th>\n",
       "      <td>2</td>\n",
       "      <td>10000000.0</td>\n",
       "      <td>100.0</td>\n",
       "      <td>2018-06-19T00:00:00</td>\n",
       "      <td>2</td>\n",
       "      <td>3.03</td>\n",
       "      <td>14.0</td>\n",
       "      <td>32.0</td>\n",
       "      <td>13</td>\n",
       "      <td>NaN</td>\n",
       "      <td>...</td>\n",
       "      <td>41.0</td>\n",
       "      <td>NaN</td>\n",
       "      <td>Санкт-Петербург</td>\n",
       "      <td>31856.0</td>\n",
       "      <td>8098.0</td>\n",
       "      <td>2.0</td>\n",
       "      <td>112.0</td>\n",
       "      <td>1.0</td>\n",
       "      <td>48.0</td>\n",
       "      <td>121.0</td>\n",
       "    </tr>\n",
       "  </tbody>\n",
       "</table>\n",
       "<p>5 rows × 22 columns</p>\n",
       "</div>"
      ],
      "text/plain": [
       "   total_images  last_price  total_area first_day_exposition  rooms  \\\n",
       "0            20  13000000.0       108.0  2019-03-07T00:00:00      3   \n",
       "1             7   3350000.0        40.4  2018-12-04T00:00:00      1   \n",
       "2            10   5196000.0        56.0  2015-08-20T00:00:00      2   \n",
       "3             0  64900000.0       159.0  2015-07-24T00:00:00      3   \n",
       "4             2  10000000.0       100.0  2018-06-19T00:00:00      2   \n",
       "\n",
       "   ceiling_height  floors_total  living_area  floor is_apartment  ...  \\\n",
       "0            2.70          16.0         51.0      8          NaN  ...   \n",
       "1             NaN          11.0         18.6      1          NaN  ...   \n",
       "2             NaN           5.0         34.3      4          NaN  ...   \n",
       "3             NaN          14.0          NaN      9          NaN  ...   \n",
       "4            3.03          14.0         32.0     13          NaN  ...   \n",
       "\n",
       "   kitchen_area  balcony    locality_name  airports_nearest  \\\n",
       "0          25.0      NaN  Санкт-Петербург           18863.0   \n",
       "1          11.0      2.0   посёлок Шушары           12817.0   \n",
       "2           8.3      0.0  Санкт-Петербург           21741.0   \n",
       "3           NaN      0.0  Санкт-Петербург           28098.0   \n",
       "4          41.0      NaN  Санкт-Петербург           31856.0   \n",
       "\n",
       "  cityCenters_nearest  parks_around3000  parks_nearest  ponds_around3000  \\\n",
       "0             16028.0               1.0          482.0               2.0   \n",
       "1             18603.0               0.0            NaN               0.0   \n",
       "2             13933.0               1.0           90.0               2.0   \n",
       "3              6800.0               2.0           84.0               3.0   \n",
       "4              8098.0               2.0          112.0               1.0   \n",
       "\n",
       "   ponds_nearest  days_exposition  \n",
       "0          755.0              NaN  \n",
       "1            NaN             81.0  \n",
       "2          574.0            558.0  \n",
       "3          234.0            424.0  \n",
       "4           48.0            121.0  \n",
       "\n",
       "[5 rows x 22 columns]"
      ]
     },
     "execution_count": 2,
     "metadata": {},
     "output_type": "execute_result"
    }
   ],
   "source": [
    "data = pd.read_csv('/datasets/real_estate_data.csv', sep='\\t')\n",
    "data.head()"
   ]
  },
  {
   "cell_type": "markdown",
   "metadata": {},
   "source": [
    "Теперь таблица имеет презентабельный внешний вид."
   ]
  },
  {
   "cell_type": "markdown",
   "metadata": {},
   "source": [
    "#### Изучаем общую информацию о полученных данных"
   ]
  },
  {
   "cell_type": "code",
   "execution_count": 3,
   "metadata": {},
   "outputs": [
    {
     "name": "stdout",
     "output_type": "stream",
     "text": [
      "<class 'pandas.core.frame.DataFrame'>\n",
      "RangeIndex: 23699 entries, 0 to 23698\n",
      "Data columns (total 22 columns):\n",
      " #   Column                Non-Null Count  Dtype  \n",
      "---  ------                --------------  -----  \n",
      " 0   total_images          23699 non-null  int64  \n",
      " 1   last_price            23699 non-null  float64\n",
      " 2   total_area            23699 non-null  float64\n",
      " 3   first_day_exposition  23699 non-null  object \n",
      " 4   rooms                 23699 non-null  int64  \n",
      " 5   ceiling_height        14504 non-null  float64\n",
      " 6   floors_total          23613 non-null  float64\n",
      " 7   living_area           21796 non-null  float64\n",
      " 8   floor                 23699 non-null  int64  \n",
      " 9   is_apartment          2775 non-null   object \n",
      " 10  studio                23699 non-null  bool   \n",
      " 11  open_plan             23699 non-null  bool   \n",
      " 12  kitchen_area          21421 non-null  float64\n",
      " 13  balcony               12180 non-null  float64\n",
      " 14  locality_name         23650 non-null  object \n",
      " 15  airports_nearest      18157 non-null  float64\n",
      " 16  cityCenters_nearest   18180 non-null  float64\n",
      " 17  parks_around3000      18181 non-null  float64\n",
      " 18  parks_nearest         8079 non-null   float64\n",
      " 19  ponds_around3000      18181 non-null  float64\n",
      " 20  ponds_nearest         9110 non-null   float64\n",
      " 21  days_exposition       20518 non-null  float64\n",
      "dtypes: bool(2), float64(14), int64(3), object(3)\n",
      "memory usage: 3.7+ MB\n"
     ]
    }
   ],
   "source": [
    "data.info() #посмотрим типы данных и количество ненулевых значений"
   ]
  },
  {
   "cell_type": "markdown",
   "metadata": {},
   "source": [
    "#### Строим гистограммы"
   ]
  },
  {
   "cell_type": "markdown",
   "metadata": {},
   "source": [
    "``_ = `` для того, чтобы не выводилась информация об объекте"
   ]
  },
  {
   "cell_type": "code",
   "execution_count": 4,
   "metadata": {},
   "outputs": [
    {
     "data": {
      "image/png": "[encoded data removed]",
      "text/plain": [
       "<Figure size 1080x1080 with 20 Axes>"
      ]
     },
     "metadata": {
      "needs_background": "light"
     },
     "output_type": "display_data"
    }
   ],
   "source": [
    "_ = data.hist(figsize=(15, 15)) #строим гистораммы"
   ]
  },
  {
   "cell_type": "markdown",
   "metadata": {},
   "source": [
    "# Вывод:\n",
    "\n",
    "По выводу таблицы можно заметить следующее:\n",
    "\n",
    " * **first_day_exposition** (дата публикации) имеет тип object, а должен быть тип datatime\n",
    " * **ceiling_height** имеет нулевые значения\n",
    " * **floors_total** (всего этажей в доме) имеет тип float64, а должен быть тип int. Имеет нулевые значения\n",
    " * **living_area** имеет нулевые значения\n",
    " * **is_apartment** (апартаменты (булев тип) имеет тип object, а должен быть тип bool\n",
    " * **kitchen_area** имеет нулевые значения\n",
    " * **balcony** имеет нулевые значения\n",
    " * **locality_name** имеет нулевые значения\n",
    " * **airports_nearest** имеет нулевые значения\n",
    " * **cityCenters_nearest** имеет нулевые значения\n",
    " * **parks_around3000** (число парков в радиусе 3 км) имеет тип float64, а должен быть тип int. Имеет нулевые значения\n",
    " * **parks_nearest** имеет нулевые значения\n",
    " * **ponds_around3000** (число водоемов в радиусе 3 км) имеет тип float64, а должен быть тип int. Имеет нулевые значения\n",
    " * **ponds_nearest** имеет нулевые значения\n",
    " * **days_exposition** ( сколько дней было размещено объявление (от публикации до снятия) имеет тип float64, а должен быть тип int. Имеет нулевые значения"
   ]
  },
  {
   "cell_type": "markdown",
   "metadata": {},
   "source": [
    "<div class=\"alert alert-success\">\n",
    "<h2> Комментарий ревьюера V1<a class=\"tocSkip\"> </h2>\n",
    "\n",
    "<b>Все отлично!👍:</b> Правильно рассмотрела данные, с которыми предстоит работать."
   ]
  },
  {
   "cell_type": "markdown",
   "metadata": {},
   "source": [
    "### Предобработка данных"
   ]
  },
  {
   "cell_type": "code",
   "execution_count": 5,
   "metadata": {},
   "outputs": [],
   "source": [
    "#переименуем столбцы, чтобы названия соответсвовали единому стилю\n",
    "data.rename(columns={'cityCenters_nearest' : 'city_centers_nearest'}, inplace=True)"
   ]
  },
  {
   "cell_type": "code",
   "execution_count": 6,
   "metadata": {},
   "outputs": [
    {
     "data": {
      "text/plain": [
       "total_images                0\n",
       "last_price                  0\n",
       "total_area                  0\n",
       "first_day_exposition        0\n",
       "rooms                       0\n",
       "ceiling_height           9195\n",
       "floors_total               86\n",
       "living_area              1903\n",
       "floor                       0\n",
       "is_apartment            20924\n",
       "studio                      0\n",
       "open_plan                   0\n",
       "kitchen_area             2278\n",
       "balcony                 11519\n",
       "locality_name              49\n",
       "airports_nearest         5542\n",
       "city_centers_nearest     5519\n",
       "parks_around3000         5518\n",
       "parks_nearest           15620\n",
       "ponds_around3000         5518\n",
       "ponds_nearest           14589\n",
       "days_exposition          3181\n",
       "dtype: int64"
      ]
     },
     "execution_count": 6,
     "metadata": {},
     "output_type": "execute_result"
    }
   ],
   "source": [
    "#смотрим пропущенные значения\n",
    "data.isna().sum()"
   ]
  },
  {
   "cell_type": "markdown",
   "metadata": {},
   "source": [
    "#### Замена значений"
   ]
  },
  {
   "cell_type": "code",
   "execution_count": 7,
   "metadata": {},
   "outputs": [
    {
     "data": {
      "text/html": [
       "<div>\n",
       "<style scoped>\n",
       "    .dataframe tbody tr th:only-of-type {\n",
       "        vertical-align: middle;\n",
       "    }\n",
       "\n",
       "    .dataframe tbody tr th {\n",
       "        vertical-align: top;\n",
       "    }\n",
       "\n",
       "    .dataframe thead th {\n",
       "        text-align: right;\n",
       "    }\n",
       "</style>\n",
       "<table border=\"1\" class=\"dataframe\">\n",
       "  <thead>\n",
       "    <tr style=\"text-align: right;\">\n",
       "      <th></th>\n",
       "      <th>is_apartment</th>\n",
       "    </tr>\n",
       "  </thead>\n",
       "  <tbody>\n",
       "    <tr>\n",
       "      <th>0</th>\n",
       "      <td>False</td>\n",
       "    </tr>\n",
       "    <tr>\n",
       "      <th>1</th>\n",
       "      <td>False</td>\n",
       "    </tr>\n",
       "    <tr>\n",
       "      <th>2</th>\n",
       "      <td>False</td>\n",
       "    </tr>\n",
       "    <tr>\n",
       "      <th>3</th>\n",
       "      <td>False</td>\n",
       "    </tr>\n",
       "    <tr>\n",
       "      <th>4</th>\n",
       "      <td>False</td>\n",
       "    </tr>\n",
       "    <tr>\n",
       "      <th>5</th>\n",
       "      <td>False</td>\n",
       "    </tr>\n",
       "    <tr>\n",
       "      <th>6</th>\n",
       "      <td>False</td>\n",
       "    </tr>\n",
       "    <tr>\n",
       "      <th>7</th>\n",
       "      <td>False</td>\n",
       "    </tr>\n",
       "    <tr>\n",
       "      <th>8</th>\n",
       "      <td>False</td>\n",
       "    </tr>\n",
       "    <tr>\n",
       "      <th>9</th>\n",
       "      <td>False</td>\n",
       "    </tr>\n",
       "  </tbody>\n",
       "</table>\n",
       "</div>"
      ],
      "text/plain": [
       "   is_apartment\n",
       "0         False\n",
       "1         False\n",
       "2         False\n",
       "3         False\n",
       "4         False\n",
       "5         False\n",
       "6         False\n",
       "7         False\n",
       "8         False\n",
       "9         False"
      ]
     },
     "execution_count": 7,
     "metadata": {},
     "output_type": "execute_result"
    }
   ],
   "source": [
    "# в столбец 'is_apartment', наверное, вносили записи не регулярно, все пропущенные значения заменим на False\n",
    "data['is_apartment'] = data['is_apartment'].fillna(False)\n",
    "data[['is_apartment']].head(10)"
   ]
  },
  {
   "cell_type": "code",
   "execution_count": 8,
   "metadata": {},
   "outputs": [
    {
     "data": {
      "text/html": [
       "<div>\n",
       "<style scoped>\n",
       "    .dataframe tbody tr th:only-of-type {\n",
       "        vertical-align: middle;\n",
       "    }\n",
       "\n",
       "    .dataframe tbody tr th {\n",
       "        vertical-align: top;\n",
       "    }\n",
       "\n",
       "    .dataframe thead th {\n",
       "        text-align: right;\n",
       "    }\n",
       "</style>\n",
       "<table border=\"1\" class=\"dataframe\">\n",
       "  <thead>\n",
       "    <tr style=\"text-align: right;\">\n",
       "      <th></th>\n",
       "      <th>ceiling_height</th>\n",
       "    </tr>\n",
       "  </thead>\n",
       "  <tbody>\n",
       "    <tr>\n",
       "      <th>0</th>\n",
       "      <td>2.70</td>\n",
       "    </tr>\n",
       "    <tr>\n",
       "      <th>1</th>\n",
       "      <td>2.00</td>\n",
       "    </tr>\n",
       "    <tr>\n",
       "      <th>2</th>\n",
       "      <td>2.00</td>\n",
       "    </tr>\n",
       "    <tr>\n",
       "      <th>3</th>\n",
       "      <td>2.00</td>\n",
       "    </tr>\n",
       "    <tr>\n",
       "      <th>4</th>\n",
       "      <td>3.03</td>\n",
       "    </tr>\n",
       "    <tr>\n",
       "      <th>5</th>\n",
       "      <td>2.00</td>\n",
       "    </tr>\n",
       "    <tr>\n",
       "      <th>6</th>\n",
       "      <td>2.00</td>\n",
       "    </tr>\n",
       "    <tr>\n",
       "      <th>7</th>\n",
       "      <td>2.00</td>\n",
       "    </tr>\n",
       "    <tr>\n",
       "      <th>8</th>\n",
       "      <td>2.00</td>\n",
       "    </tr>\n",
       "    <tr>\n",
       "      <th>9</th>\n",
       "      <td>2.50</td>\n",
       "    </tr>\n",
       "  </tbody>\n",
       "</table>\n",
       "</div>"
      ],
      "text/plain": [
       "   ceiling_height\n",
       "0            2.70\n",
       "1            2.00\n",
       "2            2.00\n",
       "3            2.00\n",
       "4            3.03\n",
       "5            2.00\n",
       "6            2.00\n",
       "7            2.00\n",
       "8            2.00\n",
       "9            2.50"
      ]
     },
     "execution_count": 8,
     "metadata": {},
     "output_type": "execute_result"
    }
   ],
   "source": [
    "# востанавливаем пропуски высоты потолков медианным значением\n",
    "data['ceiling_height'] = data['ceiling_height'].fillna(int(data['ceiling_height'].median()))\n",
    "data[['ceiling_height']].head(10)"
   ]
  },
  {
   "cell_type": "code",
   "execution_count": 9,
   "metadata": {},
   "outputs": [
    {
     "data": {
      "text/html": [
       "<div>\n",
       "<style scoped>\n",
       "    .dataframe tbody tr th:only-of-type {\n",
       "        vertical-align: middle;\n",
       "    }\n",
       "\n",
       "    .dataframe tbody tr th {\n",
       "        vertical-align: top;\n",
       "    }\n",
       "\n",
       "    .dataframe thead th {\n",
       "        text-align: right;\n",
       "    }\n",
       "</style>\n",
       "<table border=\"1\" class=\"dataframe\">\n",
       "  <thead>\n",
       "    <tr style=\"text-align: right;\">\n",
       "      <th></th>\n",
       "      <th>balcony</th>\n",
       "    </tr>\n",
       "  </thead>\n",
       "  <tbody>\n",
       "    <tr>\n",
       "      <th>0</th>\n",
       "      <td>0</td>\n",
       "    </tr>\n",
       "    <tr>\n",
       "      <th>1</th>\n",
       "      <td>2</td>\n",
       "    </tr>\n",
       "    <tr>\n",
       "      <th>2</th>\n",
       "      <td>0</td>\n",
       "    </tr>\n",
       "    <tr>\n",
       "      <th>3</th>\n",
       "      <td>0</td>\n",
       "    </tr>\n",
       "    <tr>\n",
       "      <th>4</th>\n",
       "      <td>0</td>\n",
       "    </tr>\n",
       "    <tr>\n",
       "      <th>5</th>\n",
       "      <td>0</td>\n",
       "    </tr>\n",
       "    <tr>\n",
       "      <th>6</th>\n",
       "      <td>1</td>\n",
       "    </tr>\n",
       "    <tr>\n",
       "      <th>7</th>\n",
       "      <td>2</td>\n",
       "    </tr>\n",
       "    <tr>\n",
       "      <th>8</th>\n",
       "      <td>0</td>\n",
       "    </tr>\n",
       "    <tr>\n",
       "      <th>9</th>\n",
       "      <td>2</td>\n",
       "    </tr>\n",
       "  </tbody>\n",
       "</table>\n",
       "</div>"
      ],
      "text/plain": [
       "   balcony\n",
       "0        0\n",
       "1        2\n",
       "2        0\n",
       "3        0\n",
       "4        0\n",
       "5        0\n",
       "6        1\n",
       "7        2\n",
       "8        0\n",
       "9        2"
      ]
     },
     "execution_count": 9,
     "metadata": {},
     "output_type": "execute_result"
    }
   ],
   "source": [
    "#заменим пропуски в 'balcony' на 0 и изменим тип данных на int\n",
    "data['balcony'] = data['balcony'].fillna(0)\n",
    "data['balcony'] = data['balcony'].astype('int')\n",
    "data[['balcony']].head(10)"
   ]
  },
  {
   "cell_type": "code",
   "execution_count": 10,
   "metadata": {},
   "outputs": [
    {
     "data": {
      "text/html": [
       "<div>\n",
       "<style scoped>\n",
       "    .dataframe tbody tr th:only-of-type {\n",
       "        vertical-align: middle;\n",
       "    }\n",
       "\n",
       "    .dataframe tbody tr th {\n",
       "        vertical-align: top;\n",
       "    }\n",
       "\n",
       "    .dataframe thead th {\n",
       "        text-align: right;\n",
       "    }\n",
       "</style>\n",
       "<table border=\"1\" class=\"dataframe\">\n",
       "  <thead>\n",
       "    <tr style=\"text-align: right;\">\n",
       "      <th></th>\n",
       "      <th>locality_name</th>\n",
       "    </tr>\n",
       "  </thead>\n",
       "  <tbody>\n",
       "    <tr>\n",
       "      <th>0</th>\n",
       "      <td>Санкт-Петербург</td>\n",
       "    </tr>\n",
       "    <tr>\n",
       "      <th>1</th>\n",
       "      <td>посёлок Шушары</td>\n",
       "    </tr>\n",
       "    <tr>\n",
       "      <th>2</th>\n",
       "      <td>Санкт-Петербург</td>\n",
       "    </tr>\n",
       "    <tr>\n",
       "      <th>3</th>\n",
       "      <td>Санкт-Петербург</td>\n",
       "    </tr>\n",
       "    <tr>\n",
       "      <th>4</th>\n",
       "      <td>Санкт-Петербург</td>\n",
       "    </tr>\n",
       "    <tr>\n",
       "      <th>5</th>\n",
       "      <td>городской посёлок Янино-1</td>\n",
       "    </tr>\n",
       "    <tr>\n",
       "      <th>6</th>\n",
       "      <td>посёлок Парголово</td>\n",
       "    </tr>\n",
       "    <tr>\n",
       "      <th>7</th>\n",
       "      <td>Санкт-Петербург</td>\n",
       "    </tr>\n",
       "    <tr>\n",
       "      <th>8</th>\n",
       "      <td>посёлок Мурино</td>\n",
       "    </tr>\n",
       "    <tr>\n",
       "      <th>9</th>\n",
       "      <td>Санкт-Петербург</td>\n",
       "    </tr>\n",
       "  </tbody>\n",
       "</table>\n",
       "</div>"
      ],
      "text/plain": [
       "               locality_name\n",
       "0            Санкт-Петербург\n",
       "1             посёлок Шушары\n",
       "2            Санкт-Петербург\n",
       "3            Санкт-Петербург\n",
       "4            Санкт-Петербург\n",
       "5  городской посёлок Янино-1\n",
       "6          посёлок Парголово\n",
       "7            Санкт-Петербург\n",
       "8             посёлок Мурино\n",
       "9            Санкт-Петербург"
      ]
     },
     "execution_count": 10,
     "metadata": {},
     "output_type": "execute_result"
    }
   ],
   "source": [
    "#удалем строки с Null 'locality_name'\n",
    "data['locality_name'].dropna(inplace=True)\n",
    "data[['locality_name']].head(10)"
   ]
  },
  {
   "cell_type": "code",
   "execution_count": 11,
   "metadata": {},
   "outputs": [
    {
     "data": {
      "text/html": [
       "<div>\n",
       "<style scoped>\n",
       "    .dataframe tbody tr th:only-of-type {\n",
       "        vertical-align: middle;\n",
       "    }\n",
       "\n",
       "    .dataframe tbody tr th {\n",
       "        vertical-align: top;\n",
       "    }\n",
       "\n",
       "    .dataframe thead th {\n",
       "        text-align: right;\n",
       "    }\n",
       "</style>\n",
       "<table border=\"1\" class=\"dataframe\">\n",
       "  <thead>\n",
       "    <tr style=\"text-align: right;\">\n",
       "      <th></th>\n",
       "      <th>floors_total</th>\n",
       "    </tr>\n",
       "  </thead>\n",
       "  <tbody>\n",
       "    <tr>\n",
       "      <th>0</th>\n",
       "      <td>16.0</td>\n",
       "    </tr>\n",
       "    <tr>\n",
       "      <th>1</th>\n",
       "      <td>11.0</td>\n",
       "    </tr>\n",
       "    <tr>\n",
       "      <th>2</th>\n",
       "      <td>5.0</td>\n",
       "    </tr>\n",
       "    <tr>\n",
       "      <th>3</th>\n",
       "      <td>14.0</td>\n",
       "    </tr>\n",
       "    <tr>\n",
       "      <th>4</th>\n",
       "      <td>14.0</td>\n",
       "    </tr>\n",
       "    <tr>\n",
       "      <th>5</th>\n",
       "      <td>12.0</td>\n",
       "    </tr>\n",
       "    <tr>\n",
       "      <th>6</th>\n",
       "      <td>26.0</td>\n",
       "    </tr>\n",
       "    <tr>\n",
       "      <th>7</th>\n",
       "      <td>24.0</td>\n",
       "    </tr>\n",
       "    <tr>\n",
       "      <th>8</th>\n",
       "      <td>27.0</td>\n",
       "    </tr>\n",
       "    <tr>\n",
       "      <th>9</th>\n",
       "      <td>9.0</td>\n",
       "    </tr>\n",
       "  </tbody>\n",
       "</table>\n",
       "</div>"
      ],
      "text/plain": [
       "   floors_total\n",
       "0          16.0\n",
       "1          11.0\n",
       "2           5.0\n",
       "3          14.0\n",
       "4          14.0\n",
       "5          12.0\n",
       "6          26.0\n",
       "7          24.0\n",
       "8          27.0\n",
       "9           9.0"
      ]
     },
     "execution_count": 11,
     "metadata": {},
     "output_type": "execute_result"
    }
   ],
   "source": [
    "#удалем строки с Null floors_total\n",
    "data['floors_total'].dropna(inplace=True)\n",
    "#data['floors_total'] = data['floors_total'].fillna(int(data['floors_total'].mean()))\n",
    "data[['floors_total']].head(10)"
   ]
  },
  {
   "cell_type": "markdown",
   "metadata": {},
   "source": [
    "living_area - жилая площадь\n",
    "kitchen_area - площадь кухни\n",
    "total_area - общая площадь"
   ]
  },
  {
   "cell_type": "code",
   "execution_count": 12,
   "metadata": {},
   "outputs": [
    {
     "name": "stdout",
     "output_type": "stream",
     "text": [
      "<class 'pandas.core.frame.DataFrame'>\n",
      "RangeIndex: 23699 entries, 0 to 23698\n",
      "Data columns (total 22 columns):\n",
      " #   Column                Non-Null Count  Dtype  \n",
      "---  ------                --------------  -----  \n",
      " 0   total_images          23699 non-null  int64  \n",
      " 1   last_price            23699 non-null  float64\n",
      " 2   total_area            23699 non-null  float64\n",
      " 3   first_day_exposition  23699 non-null  object \n",
      " 4   rooms                 23699 non-null  int64  \n",
      " 5   ceiling_height        23699 non-null  float64\n",
      " 6   floors_total          23613 non-null  float64\n",
      " 7   living_area           23699 non-null  float64\n",
      " 8   floor                 23699 non-null  int64  \n",
      " 9   is_apartment          23699 non-null  bool   \n",
      " 10  studio                23699 non-null  bool   \n",
      " 11  open_plan             23699 non-null  bool   \n",
      " 12  kitchen_area          23699 non-null  float64\n",
      " 13  balcony               23699 non-null  int64  \n",
      " 14  locality_name         23650 non-null  object \n",
      " 15  airports_nearest      18157 non-null  float64\n",
      " 16  city_centers_nearest  18180 non-null  float64\n",
      " 17  parks_around3000      18181 non-null  float64\n",
      " 18  parks_nearest         8079 non-null   float64\n",
      " 19  ponds_around3000      18181 non-null  float64\n",
      " 20  ponds_nearest         9110 non-null   float64\n",
      " 21  days_exposition       20518 non-null  float64\n",
      "dtypes: bool(3), float64(13), int64(4), object(2)\n",
      "memory usage: 3.5+ MB\n"
     ]
    }
   ],
   "source": [
    "#восстанавливаем данные жилой площади\n",
    "# создаем перпеменную avg_ratio_between_living_and_total_area - среднее соотношение площадей между жилой и общей плащадью\n",
    "avg_ratio_between_living_and_total_area = (data[~data['living_area'].isnull()]['living_area'] / data[~data['living_area'].isnull()]['total_area']).median()\n",
    "data.loc[data['living_area'].isnull(), 'living_area'] = avg_ratio_between_living_and_total_area * data[data['living_area'].isnull()]['total_area']\n",
    "\n",
    "#восстанавливаем данные кухонной площади\n",
    "#по анологии с жилой площадью\n",
    "avg_ratio_between_kitchen_and_total_area = (data[~data['kitchen_area'].isnull()]['kitchen_area'] / data[~data['kitchen_area'].isnull()]['total_area']).median()\n",
    "data.loc[data['kitchen_area'].isnull(), 'kitchen_area'] = avg_ratio_between_kitchen_and_total_area * data[data['kitchen_area'].isnull()]['total_area']\n",
    "data.info()"
   ]
  },
  {
   "cell_type": "markdown",
   "metadata": {},
   "source": [
    "<div class=\"alert alert-success\">\n",
    "<h2> Комментарий ревьюера V1<a class=\"tocSkip\"> </h2>\n",
    "\n",
    "<b>Все отлично!👍:</b> Правильно обработала пропуски в параметрах выше."
   ]
  },
  {
   "cell_type": "markdown",
   "metadata": {},
   "source": [
    "<div class=\"alert alert-block alert-danger\">\n",
    "<h2> Комментарий ревьюера V1<a class=\"tocSkip\"></h2>\n",
    "\n",
    "\n",
    "<b>На доработку🤔:</b>\n",
    "Никогда не выводи полностью датафрейм, ты в данном случае не увидела больше 10 строк, а все остальные загрузились в память и в ней хранятся. Если блокнот будет большим и датафрейм в разы больше, то все будет тормозить. Используй метод head() вместо вывода всего датафрейма."
   ]
  },
  {
   "cell_type": "markdown",
   "metadata": {},
   "source": [
    "<div class=\"alert alert-block alert-danger\">\n",
    "<h2> Комментарий ревьюера V1<a class=\"tocSkip\"></h2>\n",
    "\n",
    "\n",
    "<b>На доработку🤔:</b>\n",
    "Пропуски в высоте потолков можно восстановить, это достаточно типовое значение, можно заполнить медианой.\n",
    "   \n",
    "В площадях тоже нужно восстановить пропуски. Жилая площадь и площадь кухни сильно коррелируют с общей площадью, можно отталкиваться от этого. Посчитать отношение жилой площади к общей площади, взять медиану от этих коэффициентов, и с её помощью восстановить пропуски, умножив на общую площадь. Аналогично и площадь кухни."
   ]
  },
  {
   "cell_type": "markdown",
   "metadata": {},
   "source": [
    "<div class=\"alert alert-info\"\n",
    "<h5>🎓 <font color=\"SteelBlue\">Комментарий от студента (синий)</font></h5>    \n",
    "\n",
    " * пропуски в высоте потолков восстановили медианным значением\n",
    " * заполнили пропуски жилой площади и кухонной площади\n",
    "\n",
    "</div>"
   ]
  },
  {
   "cell_type": "markdown",
   "metadata": {},
   "source": [
    "<div class=\"alert alert-success\">\n",
    "<h2> Комментарий ревьюера V2<a class=\"tocSkip\"> </h2>\n",
    "\n",
    "<b>Все отлично!👍:</b> Все правильно доработала, молодец!"
   ]
  },
  {
   "cell_type": "markdown",
   "metadata": {},
   "source": [
    "#### Смена типа строк"
   ]
  },
  {
   "cell_type": "code",
   "execution_count": 13,
   "metadata": {},
   "outputs": [
    {
     "data": {
      "text/html": [
       "<div>\n",
       "<style scoped>\n",
       "    .dataframe tbody tr th:only-of-type {\n",
       "        vertical-align: middle;\n",
       "    }\n",
       "\n",
       "    .dataframe tbody tr th {\n",
       "        vertical-align: top;\n",
       "    }\n",
       "\n",
       "    .dataframe thead th {\n",
       "        text-align: right;\n",
       "    }\n",
       "</style>\n",
       "<table border=\"1\" class=\"dataframe\">\n",
       "  <thead>\n",
       "    <tr style=\"text-align: right;\">\n",
       "      <th></th>\n",
       "      <th>last_price</th>\n",
       "    </tr>\n",
       "  </thead>\n",
       "  <tbody>\n",
       "    <tr>\n",
       "      <th>0</th>\n",
       "      <td>13000000</td>\n",
       "    </tr>\n",
       "    <tr>\n",
       "      <th>1</th>\n",
       "      <td>3350000</td>\n",
       "    </tr>\n",
       "    <tr>\n",
       "      <th>2</th>\n",
       "      <td>5196000</td>\n",
       "    </tr>\n",
       "    <tr>\n",
       "      <th>3</th>\n",
       "      <td>64900000</td>\n",
       "    </tr>\n",
       "    <tr>\n",
       "      <th>4</th>\n",
       "      <td>10000000</td>\n",
       "    </tr>\n",
       "    <tr>\n",
       "      <th>5</th>\n",
       "      <td>2890000</td>\n",
       "    </tr>\n",
       "    <tr>\n",
       "      <th>6</th>\n",
       "      <td>3700000</td>\n",
       "    </tr>\n",
       "    <tr>\n",
       "      <th>7</th>\n",
       "      <td>7915000</td>\n",
       "    </tr>\n",
       "    <tr>\n",
       "      <th>8</th>\n",
       "      <td>2900000</td>\n",
       "    </tr>\n",
       "    <tr>\n",
       "      <th>9</th>\n",
       "      <td>5400000</td>\n",
       "    </tr>\n",
       "  </tbody>\n",
       "</table>\n",
       "</div>"
      ],
      "text/plain": [
       "   last_price\n",
       "0    13000000\n",
       "1     3350000\n",
       "2     5196000\n",
       "3    64900000\n",
       "4    10000000\n",
       "5     2890000\n",
       "6     3700000\n",
       "7     7915000\n",
       "8     2900000\n",
       "9     5400000"
      ]
     },
     "execution_count": 13,
     "metadata": {},
     "output_type": "execute_result"
    }
   ],
   "source": [
    "#изменим 'last_price' на тип int для удобства просмотра\n",
    "data['last_price'] = data['last_price'].astype('int')\n",
    "data[['last_price']].head(10)"
   ]
  },
  {
   "cell_type": "code",
   "execution_count": 14,
   "metadata": {},
   "outputs": [
    {
     "data": {
      "text/plain": [
       "0   2019-03-07\n",
       "1   2018-12-04\n",
       "2   2015-08-20\n",
       "3   2015-07-24\n",
       "4   2018-06-19\n",
       "5   2018-09-10\n",
       "6   2017-11-02\n",
       "7   2019-04-18\n",
       "8   2018-05-23\n",
       "9   2017-02-26\n",
       "Name: first_day_exposition, dtype: datetime64[ns]"
      ]
     },
     "execution_count": 14,
     "metadata": {},
     "output_type": "execute_result"
    }
   ],
   "source": [
    "#переведем столбец 'first_day_exposition' в формат даты без времени, \n",
    "#так как время не указано и не несет за собой важной информации\n",
    "data['first_day_exposition'] = pd.to_datetime(data['first_day_exposition'], format = '%Y-%m-%d')\n",
    "data['first_day_exposition'].head(10)"
   ]
  },
  {
   "cell_type": "code",
   "execution_count": 15,
   "metadata": {},
   "outputs": [
    {
     "data": {
      "text/html": [
       "<div>\n",
       "<style scoped>\n",
       "    .dataframe tbody tr th:only-of-type {\n",
       "        vertical-align: middle;\n",
       "    }\n",
       "\n",
       "    .dataframe tbody tr th {\n",
       "        vertical-align: top;\n",
       "    }\n",
       "\n",
       "    .dataframe thead th {\n",
       "        text-align: right;\n",
       "    }\n",
       "</style>\n",
       "<table border=\"1\" class=\"dataframe\">\n",
       "  <thead>\n",
       "    <tr style=\"text-align: right;\">\n",
       "      <th></th>\n",
       "      <th>days_exposition</th>\n",
       "    </tr>\n",
       "  </thead>\n",
       "  <tbody>\n",
       "    <tr>\n",
       "      <th>count</th>\n",
       "      <td>20518.000000</td>\n",
       "    </tr>\n",
       "    <tr>\n",
       "      <th>mean</th>\n",
       "      <td>180.888634</td>\n",
       "    </tr>\n",
       "    <tr>\n",
       "      <th>std</th>\n",
       "      <td>219.727988</td>\n",
       "    </tr>\n",
       "    <tr>\n",
       "      <th>min</th>\n",
       "      <td>1.000000</td>\n",
       "    </tr>\n",
       "    <tr>\n",
       "      <th>25%</th>\n",
       "      <td>45.000000</td>\n",
       "    </tr>\n",
       "    <tr>\n",
       "      <th>50%</th>\n",
       "      <td>95.000000</td>\n",
       "    </tr>\n",
       "    <tr>\n",
       "      <th>75%</th>\n",
       "      <td>232.000000</td>\n",
       "    </tr>\n",
       "    <tr>\n",
       "      <th>max</th>\n",
       "      <td>1580.000000</td>\n",
       "    </tr>\n",
       "  </tbody>\n",
       "</table>\n",
       "</div>"
      ],
      "text/plain": [
       "       days_exposition\n",
       "count     20518.000000\n",
       "mean        180.888634\n",
       "std         219.727988\n",
       "min           1.000000\n",
       "25%          45.000000\n",
       "50%          95.000000\n",
       "75%         232.000000\n",
       "max        1580.000000"
      ]
     },
     "execution_count": 15,
     "metadata": {},
     "output_type": "execute_result"
    }
   ],
   "source": [
    "#заменим пропуски в 'days_exposition' на -100 т.к. минимальное значение в этом столбце 1,\n",
    "#значит в качестве пустого значения можно использовать -100\n",
    "data[['days_exposition']].describe()"
   ]
  },
  {
   "cell_type": "code",
   "execution_count": 16,
   "metadata": {},
   "outputs": [
    {
     "data": {
      "text/html": [
       "<div>\n",
       "<style scoped>\n",
       "    .dataframe tbody tr th:only-of-type {\n",
       "        vertical-align: middle;\n",
       "    }\n",
       "\n",
       "    .dataframe tbody tr th {\n",
       "        vertical-align: top;\n",
       "    }\n",
       "\n",
       "    .dataframe thead th {\n",
       "        text-align: right;\n",
       "    }\n",
       "</style>\n",
       "<table border=\"1\" class=\"dataframe\">\n",
       "  <thead>\n",
       "    <tr style=\"text-align: right;\">\n",
       "      <th></th>\n",
       "      <th>days_exposition</th>\n",
       "    </tr>\n",
       "  </thead>\n",
       "  <tbody>\n",
       "    <tr>\n",
       "      <th>0</th>\n",
       "      <td>-100</td>\n",
       "    </tr>\n",
       "    <tr>\n",
       "      <th>1</th>\n",
       "      <td>81</td>\n",
       "    </tr>\n",
       "    <tr>\n",
       "      <th>2</th>\n",
       "      <td>558</td>\n",
       "    </tr>\n",
       "    <tr>\n",
       "      <th>3</th>\n",
       "      <td>424</td>\n",
       "    </tr>\n",
       "    <tr>\n",
       "      <th>4</th>\n",
       "      <td>121</td>\n",
       "    </tr>\n",
       "    <tr>\n",
       "      <th>5</th>\n",
       "      <td>55</td>\n",
       "    </tr>\n",
       "    <tr>\n",
       "      <th>6</th>\n",
       "      <td>155</td>\n",
       "    </tr>\n",
       "    <tr>\n",
       "      <th>7</th>\n",
       "      <td>-100</td>\n",
       "    </tr>\n",
       "    <tr>\n",
       "      <th>8</th>\n",
       "      <td>189</td>\n",
       "    </tr>\n",
       "    <tr>\n",
       "      <th>9</th>\n",
       "      <td>289</td>\n",
       "    </tr>\n",
       "  </tbody>\n",
       "</table>\n",
       "</div>"
      ],
      "text/plain": [
       "   days_exposition\n",
       "0             -100\n",
       "1               81\n",
       "2              558\n",
       "3              424\n",
       "4              121\n",
       "5               55\n",
       "6              155\n",
       "7             -100\n",
       "8              189\n",
       "9              289"
      ]
     },
     "execution_count": 16,
     "metadata": {},
     "output_type": "execute_result"
    }
   ],
   "source": [
    "# В качестве заглушки проставим значение -100 в столбце days_exposition\n",
    "data['days_exposition'] = data['days_exposition'].fillna(-100).astype('int')\n",
    "data[['days_exposition']].head(10)"
   ]
  },
  {
   "cell_type": "markdown",
   "metadata": {},
   "source": [
    "<div class=\"alert alert-block alert-danger\">\n",
    "<h2> Комментарий ревьюера V1<a class=\"tocSkip\"></h2>\n",
    "\n",
    "\n",
    "<b>На доработку🤔:</b>\n",
    "Всегда подробно объясняй свои действия. В данном случае 0 это что? Заглушка или ты считаешь, что это какие то определнные объявления. Если это заглушка, то её в дальнейшем нужно не забыть отфильтровать при анализе срока продаж."
   ]
  },
  {
   "cell_type": "markdown",
   "metadata": {},
   "source": [
    "<div class=\"alert alert-info\"\n",
    "<h5>🎓 <font color=\"SteelBlue\">Комментарий от студента (синий)</font></h5>\n",
    "\n",
    "* прислушались к комментариям и добавили описание шагов"
   ]
  },
  {
   "cell_type": "markdown",
   "metadata": {},
   "source": [
    "<div class=\"alert alert-success\">\n",
    "<h2> Комментарий ревьюера V2<a class=\"tocSkip\"> </h2>\n",
    "\n",
    "<b>Все отлично!👍:</b> Отлично!"
   ]
  },
  {
   "cell_type": "code",
   "execution_count": 17,
   "metadata": {},
   "outputs": [
    {
     "name": "stdout",
     "output_type": "stream",
     "text": [
      "<class 'pandas.core.frame.DataFrame'>\n",
      "RangeIndex: 23699 entries, 0 to 23698\n",
      "Data columns (total 22 columns):\n",
      " #   Column                Non-Null Count  Dtype         \n",
      "---  ------                --------------  -----         \n",
      " 0   total_images          23699 non-null  int64         \n",
      " 1   last_price            23699 non-null  int64         \n",
      " 2   total_area            23699 non-null  float64       \n",
      " 3   first_day_exposition  23699 non-null  datetime64[ns]\n",
      " 4   rooms                 23699 non-null  int64         \n",
      " 5   ceiling_height        23699 non-null  float64       \n",
      " 6   floors_total          23613 non-null  float64       \n",
      " 7   living_area           23699 non-null  float64       \n",
      " 8   floor                 23699 non-null  int64         \n",
      " 9   is_apartment          23699 non-null  bool          \n",
      " 10  studio                23699 non-null  bool          \n",
      " 11  open_plan             23699 non-null  bool          \n",
      " 12  kitchen_area          23699 non-null  float64       \n",
      " 13  balcony               23699 non-null  int64         \n",
      " 14  locality_name         23650 non-null  object        \n",
      " 15  airports_nearest      18157 non-null  float64       \n",
      " 16  city_centers_nearest  18180 non-null  float64       \n",
      " 17  parks_around3000      18181 non-null  float64       \n",
      " 18  parks_nearest         8079 non-null   float64       \n",
      " 19  ponds_around3000      18181 non-null  float64       \n",
      " 20  ponds_nearest         9110 non-null   float64       \n",
      " 21  days_exposition       23699 non-null  int64         \n",
      "dtypes: bool(3), datetime64[ns](1), float64(11), int64(6), object(1)\n",
      "memory usage: 3.5+ MB\n"
     ]
    }
   ],
   "source": [
    "data.info()"
   ]
  },
  {
   "cell_type": "markdown",
   "metadata": {},
   "source": [
    "#### Изучение уникальных значений"
   ]
  },
  {
   "cell_type": "code",
   "execution_count": 18,
   "metadata": {},
   "outputs": [
    {
     "name": "stdout",
     "output_type": "stream",
     "text": [
      "Количество уникальных занчений locality_name: 365\n"
     ]
    }
   ],
   "source": [
    "#изучение уникальных значений\n",
    "def loc_length():\n",
    "    return print('Количество уникальных занчений locality_name:', data['locality_name'].unique().shape[0])\n",
    "loc_length()"
   ]
  },
  {
   "cell_type": "code",
   "execution_count": 19,
   "metadata": {},
   "outputs": [],
   "source": [
    "#приводим к нижнему регистру\n",
    "data['locality_name'] = data['locality_name'].str.lower()"
   ]
  },
  {
   "cell_type": "code",
   "execution_count": 20,
   "metadata": {},
   "outputs": [
    {
     "name": "stdout",
     "output_type": "stream",
     "text": [
      "Количество уникальных занчений locality_name: 331\n"
     ]
    }
   ],
   "source": [
    "#заменяем все \"ё\" на \"е\"\n",
    "data['locality_name'] = data['locality_name'].str.replace('ё', 'е')\n",
    "loc_length()"
   ]
  },
  {
   "cell_type": "code",
   "execution_count": 21,
   "metadata": {},
   "outputs": [
    {
     "name": "stdout",
     "output_type": "stream",
     "text": [
      "Количество уникальных занчений locality_name: 324\n"
     ]
    }
   ],
   "source": [
    "#заменяем \"городской поселок\" на \"поселок городского типа\"\n",
    "data['locality_name'] = data['locality_name'].str.replace('городской поселок','поселок городского типа')\n",
    "loc_length()"
   ]
  },
  {
   "cell_type": "code",
   "execution_count": 22,
   "metadata": {},
   "outputs": [
    {
     "name": "stdout",
     "output_type": "stream",
     "text": [
      "Количетво явных дубликатов: 0\n"
     ]
    }
   ],
   "source": [
    "#проверка наличия дубликатов\n",
    "print('Количетво явных дубликатов:', data.duplicated().sum())"
   ]
  },
  {
   "cell_type": "markdown",
   "metadata": {},
   "source": [
    "<div class=\"alert alert-warning\">\n",
    "<h2> Комментарий ревьюера V1<a class=\"tocSkip\"> </h2>\n",
    "\n",
    "<b>Некоторые замечания и рекомендации💡:</b> Это далеко не все неявные дубликаты. Есть еще много типов населенных пунктов, написанных по-разному, но означающих одно и то же. Я бы оставил только названия, удалив все типы, так можно было бы избавиться от всех неявных дубликатов."
   ]
  },
  {
   "cell_type": "markdown",
   "metadata": {},
   "source": [
    "#### Устронение выбросов"
   ]
  },
  {
   "cell_type": "code",
   "execution_count": 23,
   "metadata": {},
   "outputs": [
    {
     "data": {
      "text/html": [
       "<div>\n",
       "<style scoped>\n",
       "    .dataframe tbody tr th:only-of-type {\n",
       "        vertical-align: middle;\n",
       "    }\n",
       "\n",
       "    .dataframe tbody tr th {\n",
       "        vertical-align: top;\n",
       "    }\n",
       "\n",
       "    .dataframe thead th {\n",
       "        text-align: right;\n",
       "    }\n",
       "</style>\n",
       "<table border=\"1\" class=\"dataframe\">\n",
       "  <thead>\n",
       "    <tr style=\"text-align: right;\">\n",
       "      <th></th>\n",
       "      <th>total_images</th>\n",
       "      <th>last_price</th>\n",
       "      <th>total_area</th>\n",
       "      <th>rooms</th>\n",
       "      <th>ceiling_height</th>\n",
       "      <th>floors_total</th>\n",
       "      <th>living_area</th>\n",
       "      <th>floor</th>\n",
       "      <th>kitchen_area</th>\n",
       "      <th>balcony</th>\n",
       "      <th>airports_nearest</th>\n",
       "      <th>city_centers_nearest</th>\n",
       "      <th>parks_around3000</th>\n",
       "      <th>parks_nearest</th>\n",
       "      <th>ponds_around3000</th>\n",
       "      <th>ponds_nearest</th>\n",
       "      <th>days_exposition</th>\n",
       "    </tr>\n",
       "  </thead>\n",
       "  <tbody>\n",
       "    <tr>\n",
       "      <th>count</th>\n",
       "      <td>23699.000000</td>\n",
       "      <td>2.369900e+04</td>\n",
       "      <td>23699.000000</td>\n",
       "      <td>23699.000000</td>\n",
       "      <td>23699.000000</td>\n",
       "      <td>23613.000000</td>\n",
       "      <td>23699.000000</td>\n",
       "      <td>23699.000000</td>\n",
       "      <td>23699.000000</td>\n",
       "      <td>23699.000000</td>\n",
       "      <td>18157.000000</td>\n",
       "      <td>18180.000000</td>\n",
       "      <td>18181.000000</td>\n",
       "      <td>8079.000000</td>\n",
       "      <td>18181.000000</td>\n",
       "      <td>9110.000000</td>\n",
       "      <td>23699.000000</td>\n",
       "    </tr>\n",
       "    <tr>\n",
       "      <th>mean</th>\n",
       "      <td>9.858475</td>\n",
       "      <td>6.541549e+06</td>\n",
       "      <td>60.348651</td>\n",
       "      <td>2.070636</td>\n",
       "      <td>2.472164</td>\n",
       "      <td>10.673824</td>\n",
       "      <td>34.578214</td>\n",
       "      <td>5.892358</td>\n",
       "      <td>10.491431</td>\n",
       "      <td>0.591080</td>\n",
       "      <td>28793.672193</td>\n",
       "      <td>14191.277833</td>\n",
       "      <td>0.611408</td>\n",
       "      <td>490.804555</td>\n",
       "      <td>0.770255</td>\n",
       "      <td>517.980900</td>\n",
       "      <td>143.186337</td>\n",
       "    </tr>\n",
       "    <tr>\n",
       "      <th>std</th>\n",
       "      <td>5.682529</td>\n",
       "      <td>1.088701e+07</td>\n",
       "      <td>35.654083</td>\n",
       "      <td>1.078405</td>\n",
       "      <td>1.055732</td>\n",
       "      <td>6.597173</td>\n",
       "      <td>22.340665</td>\n",
       "      <td>4.885249</td>\n",
       "      <td>6.029020</td>\n",
       "      <td>0.959298</td>\n",
       "      <td>12630.880622</td>\n",
       "      <td>8608.386210</td>\n",
       "      <td>0.802074</td>\n",
       "      <td>342.317995</td>\n",
       "      <td>0.938346</td>\n",
       "      <td>277.720643</td>\n",
       "      <td>225.762590</td>\n",
       "    </tr>\n",
       "    <tr>\n",
       "      <th>min</th>\n",
       "      <td>0.000000</td>\n",
       "      <td>1.219000e+04</td>\n",
       "      <td>12.000000</td>\n",
       "      <td>0.000000</td>\n",
       "      <td>1.000000</td>\n",
       "      <td>1.000000</td>\n",
       "      <td>2.000000</td>\n",
       "      <td>1.000000</td>\n",
       "      <td>1.300000</td>\n",
       "      <td>0.000000</td>\n",
       "      <td>0.000000</td>\n",
       "      <td>181.000000</td>\n",
       "      <td>0.000000</td>\n",
       "      <td>1.000000</td>\n",
       "      <td>0.000000</td>\n",
       "      <td>13.000000</td>\n",
       "      <td>-100.000000</td>\n",
       "    </tr>\n",
       "    <tr>\n",
       "      <th>25%</th>\n",
       "      <td>6.000000</td>\n",
       "      <td>3.400000e+06</td>\n",
       "      <td>40.000000</td>\n",
       "      <td>1.000000</td>\n",
       "      <td>2.000000</td>\n",
       "      <td>5.000000</td>\n",
       "      <td>19.000000</td>\n",
       "      <td>2.000000</td>\n",
       "      <td>7.000000</td>\n",
       "      <td>0.000000</td>\n",
       "      <td>18585.000000</td>\n",
       "      <td>9238.000000</td>\n",
       "      <td>0.000000</td>\n",
       "      <td>288.000000</td>\n",
       "      <td>0.000000</td>\n",
       "      <td>294.000000</td>\n",
       "      <td>22.000000</td>\n",
       "    </tr>\n",
       "    <tr>\n",
       "      <th>50%</th>\n",
       "      <td>9.000000</td>\n",
       "      <td>4.650000e+06</td>\n",
       "      <td>52.000000</td>\n",
       "      <td>2.000000</td>\n",
       "      <td>2.500000</td>\n",
       "      <td>9.000000</td>\n",
       "      <td>30.000000</td>\n",
       "      <td>4.000000</td>\n",
       "      <td>9.000000</td>\n",
       "      <td>0.000000</td>\n",
       "      <td>26726.000000</td>\n",
       "      <td>13098.500000</td>\n",
       "      <td>0.000000</td>\n",
       "      <td>455.000000</td>\n",
       "      <td>1.000000</td>\n",
       "      <td>502.000000</td>\n",
       "      <td>74.000000</td>\n",
       "    </tr>\n",
       "    <tr>\n",
       "      <th>75%</th>\n",
       "      <td>14.000000</td>\n",
       "      <td>6.800000e+06</td>\n",
       "      <td>69.900000</td>\n",
       "      <td>3.000000</td>\n",
       "      <td>2.700000</td>\n",
       "      <td>16.000000</td>\n",
       "      <td>42.100000</td>\n",
       "      <td>8.000000</td>\n",
       "      <td>12.000000</td>\n",
       "      <td>1.000000</td>\n",
       "      <td>37273.000000</td>\n",
       "      <td>16293.000000</td>\n",
       "      <td>1.000000</td>\n",
       "      <td>612.000000</td>\n",
       "      <td>1.000000</td>\n",
       "      <td>729.000000</td>\n",
       "      <td>199.000000</td>\n",
       "    </tr>\n",
       "    <tr>\n",
       "      <th>max</th>\n",
       "      <td>50.000000</td>\n",
       "      <td>7.630000e+08</td>\n",
       "      <td>900.000000</td>\n",
       "      <td>19.000000</td>\n",
       "      <td>100.000000</td>\n",
       "      <td>60.000000</td>\n",
       "      <td>409.700000</td>\n",
       "      <td>33.000000</td>\n",
       "      <td>112.000000</td>\n",
       "      <td>5.000000</td>\n",
       "      <td>84869.000000</td>\n",
       "      <td>65968.000000</td>\n",
       "      <td>3.000000</td>\n",
       "      <td>3190.000000</td>\n",
       "      <td>3.000000</td>\n",
       "      <td>1344.000000</td>\n",
       "      <td>1580.000000</td>\n",
       "    </tr>\n",
       "  </tbody>\n",
       "</table>\n",
       "</div>"
      ],
      "text/plain": [
       "       total_images    last_price    total_area         rooms  ceiling_height  \\\n",
       "count  23699.000000  2.369900e+04  23699.000000  23699.000000    23699.000000   \n",
       "mean       9.858475  6.541549e+06     60.348651      2.070636        2.472164   \n",
       "std        5.682529  1.088701e+07     35.654083      1.078405        1.055732   \n",
       "min        0.000000  1.219000e+04     12.000000      0.000000        1.000000   \n",
       "25%        6.000000  3.400000e+06     40.000000      1.000000        2.000000   \n",
       "50%        9.000000  4.650000e+06     52.000000      2.000000        2.500000   \n",
       "75%       14.000000  6.800000e+06     69.900000      3.000000        2.700000   \n",
       "max       50.000000  7.630000e+08    900.000000     19.000000      100.000000   \n",
       "\n",
       "       floors_total   living_area         floor  kitchen_area       balcony  \\\n",
       "count  23613.000000  23699.000000  23699.000000  23699.000000  23699.000000   \n",
       "mean      10.673824     34.578214      5.892358     10.491431      0.591080   \n",
       "std        6.597173     22.340665      4.885249      6.029020      0.959298   \n",
       "min        1.000000      2.000000      1.000000      1.300000      0.000000   \n",
       "25%        5.000000     19.000000      2.000000      7.000000      0.000000   \n",
       "50%        9.000000     30.000000      4.000000      9.000000      0.000000   \n",
       "75%       16.000000     42.100000      8.000000     12.000000      1.000000   \n",
       "max       60.000000    409.700000     33.000000    112.000000      5.000000   \n",
       "\n",
       "       airports_nearest  city_centers_nearest  parks_around3000  \\\n",
       "count      18157.000000          18180.000000      18181.000000   \n",
       "mean       28793.672193          14191.277833          0.611408   \n",
       "std        12630.880622           8608.386210          0.802074   \n",
       "min            0.000000            181.000000          0.000000   \n",
       "25%        18585.000000           9238.000000          0.000000   \n",
       "50%        26726.000000          13098.500000          0.000000   \n",
       "75%        37273.000000          16293.000000          1.000000   \n",
       "max        84869.000000          65968.000000          3.000000   \n",
       "\n",
       "       parks_nearest  ponds_around3000  ponds_nearest  days_exposition  \n",
       "count    8079.000000      18181.000000    9110.000000     23699.000000  \n",
       "mean      490.804555          0.770255     517.980900       143.186337  \n",
       "std       342.317995          0.938346     277.720643       225.762590  \n",
       "min         1.000000          0.000000      13.000000      -100.000000  \n",
       "25%       288.000000          0.000000     294.000000        22.000000  \n",
       "50%       455.000000          1.000000     502.000000        74.000000  \n",
       "75%       612.000000          1.000000     729.000000       199.000000  \n",
       "max      3190.000000          3.000000    1344.000000      1580.000000  "
      ]
     },
     "execution_count": 23,
     "metadata": {},
     "output_type": "execute_result"
    }
   ],
   "source": [
    "#устроняем выбросы\n",
    "#смотрим на распределение значений в данных\n",
    "data.describe()"
   ]
  },
  {
   "cell_type": "markdown",
   "metadata": {},
   "source": [
    " ``total_images `` - выглядит хорошо, оставим без изменений\n",
    "\n",
    " ``last_price `` - взглянем на квартиры от 0 до 20 млн, нет квартир стоимостью 0.\n",
    "Есть одна квартира стоимостью меньше 100 000, её мы учитывать не будем.\n",
    "225 квартир стоимостью меньше 1млн - не похоже на выброс, оставляем.\n",
    "Убираем слишком дорогие квартиры стоимостью больше 100.000.000."
   ]
  },
  {
   "cell_type": "code",
   "execution_count": 24,
   "metadata": {},
   "outputs": [
    {
     "data": {
      "image/png": "[encoded data removed]",
      "text/plain": [
       "<Figure size 432x288 with 1 Axes>"
      ]
     },
     "metadata": {
      "needs_background": "light"
     },
     "output_type": "display_data"
    },
    {
     "data": {
      "image/png": "[encoded data removed]",
      "text/plain": [
       "<Figure size 432x288 with 1 Axes>"
      ]
     },
     "metadata": {
      "needs_background": "light"
     },
     "output_type": "display_data"
    }
   ],
   "source": [
    "data.drop(index=data.query('last_price < 1e+05').index,inplace=True)\n",
    "\n",
    "_ = data.hist('last_price', bins=100, range=(0,2e+07));\n",
    "_ = data.hist('last_price', bins=100, range=(0,4e+06));"
   ]
  },
  {
   "cell_type": "markdown",
   "metadata": {},
   "source": [
    "``total_area`` - нет квартир площадью меньше 10 кв.м., но есть меньше 20.\n",
    "\n",
    "Квартиры со слишком большой площадью более 500 кв.м. похожи на элитную недвижимость, поэтому удалим.\n",
    "\n"
   ]
  },
  {
   "cell_type": "code",
   "execution_count": 25,
   "metadata": {},
   "outputs": [
    {
     "data": {
      "image/png": "[encoded data removed]",
      "text/plain": [
       "<Figure size 432x288 with 1 Axes>"
      ]
     },
     "metadata": {
      "needs_background": "light"
     },
     "output_type": "display_data"
    },
    {
     "data": {
      "image/png": "[encoded data removed]",
      "text/plain": [
       "<Figure size 432x288 with 1 Axes>"
      ]
     },
     "metadata": {
      "needs_background": "light"
     },
     "output_type": "display_data"
    }
   ],
   "source": [
    "data.drop(index=data.query('total_area > 500').index,inplace=True)\n",
    "\n",
    "_ = data.hist('total_area', bins=50, range=(0,900))\n",
    "_ = data.hist('total_area', bins=50, range=(0,100))"
   ]
  },
  {
   "cell_type": "code",
   "execution_count": 26,
   "metadata": {},
   "outputs": [],
   "source": [
    "#удаляем квартиры с аномальным кол-вом комнат\n",
    "data.drop(index=data.query('rooms > 7').index,inplace=True)"
   ]
  },
  {
   "cell_type": "markdown",
   "metadata": {},
   "source": [
    "``ceiling_height`` - высота потолков.\n",
    "Независимо от года постройки и от типа здания, высота от пола до потолка должна быть в пределах 2,5-3,2 метров. Можно предположить, что квартиры с высотой потолков 25-36м на самом деле являются опечаткой и соотвествуют 2.5-3.6м\n",
    "Исходя их этого предполагаем, что все квартиры с высотой потолков от 36м являются выбросами. "
   ]
  },
  {
   "cell_type": "code",
   "execution_count": 27,
   "metadata": {},
   "outputs": [],
   "source": [
    "#удаляем квартиры с высотой потолков от 4 до 25метров.\n",
    "data.drop(index=data.query('ceiling_height > 4 and ceiling_height < 25').index,inplace=True)\n",
    "#для квартир с высотой потолков до 25 до 36 метров предполагаем, что это опечатка и делим на 10, получая 2.5 и 3.6 метра.\n",
    "data.update(data[(data['ceiling_height'] >= 25) & (data['ceiling_height'] <= 36)]['ceiling_height']/10)\n",
    "#удаляем квартиры с высотой потолков от 36 метров.\n",
    "data.drop(index=data.query('ceiling_height > 36').index,inplace=True)"
   ]
  },
  {
   "cell_type": "code",
   "execution_count": 28,
   "metadata": {},
   "outputs": [
    {
     "data": {
      "image/png": "[encoded data removed]",
      "text/plain": [
       "<Figure size 432x288 with 1 Axes>"
      ]
     },
     "metadata": {
      "needs_background": "light"
     },
     "output_type": "display_data"
    }
   ],
   "source": [
    "#строим гистограмму\n",
    "_ = data.hist('ceiling_height',bins=50,range=(0,4))"
   ]
  },
  {
   "cell_type": "markdown",
   "metadata": {},
   "source": [
    "``living_area``\n",
    "Отбросим значения с жилой площадью меньше 10кв.м.\n",
    "Отбросим квартиры с площадью более 200 кв.м."
   ]
  },
  {
   "cell_type": "code",
   "execution_count": 29,
   "metadata": {},
   "outputs": [
    {
     "data": {
      "image/png": "[encoded data removed]",
      "text/plain": [
       "<Figure size 432x288 with 1 Axes>"
      ]
     },
     "metadata": {
      "needs_background": "light"
     },
     "output_type": "display_data"
    },
    {
     "data": {
      "image/png": "[encoded data removed]",
      "text/plain": [
       "<Figure size 432x288 with 1 Axes>"
      ]
     },
     "metadata": {
      "needs_background": "light"
     },
     "output_type": "display_data"
    }
   ],
   "source": [
    "data.drop(index=data.query('living_area < 10').index,inplace=True) #убираем кв меньше 10кв.м\n",
    "data.drop(index=data.query('living_area > 200').index,inplace=True) #убираем кв более 200 кв.м.\n",
    "\n",
    "_ = data.hist('living_area', bins=50);\n",
    "_ = data.hist('living_area', bins=50, range=(0,60))"
   ]
  },
  {
   "cell_type": "markdown",
   "metadata": {},
   "source": [
    "``kitchen_area`` - площадь кухни. Здесь есть одна квартира с площадью кухни меньше 1 кв. метра. Явно аномалия.Удалим строки с кухнами менее 2кв.м. и больше 50кв.м."
   ]
  },
  {
   "cell_type": "code",
   "execution_count": 30,
   "metadata": {},
   "outputs": [
    {
     "data": {
      "image/png": "[encoded data removed]",
      "text/plain": [
       "<Figure size 432x288 with 1 Axes>"
      ]
     },
     "metadata": {
      "needs_background": "light"
     },
     "output_type": "display_data"
    },
    {
     "data": {
      "image/png": "[encoded data removed]",
      "text/plain": [
       "<Figure size 432x288 with 1 Axes>"
      ]
     },
     "metadata": {
      "needs_background": "light"
     },
     "output_type": "display_data"
    }
   ],
   "source": [
    "data.drop(index=data.query('kitchen_area < 2').index,inplace=True) #удаляем строки с кухнями менее 2кв.м\n",
    "data.drop(index=data.query('kitchen_area > 50').index,inplace=True) #удаляем строки с кухнями более 50кв.м\n",
    "\n",
    "_ = data.hist('kitchen_area', bins=50)\n",
    "_ = data.hist('kitchen_area', bins=50, range=(0,30))"
   ]
  },
  {
   "cell_type": "code",
   "execution_count": 31,
   "metadata": {},
   "outputs": [
    {
     "data": {
      "image/png": "[encoded data removed]",
      "text/plain": [
       "<Figure size 432x288 with 1 Axes>"
      ]
     },
     "metadata": {
      "needs_background": "light"
     },
     "output_type": "display_data"
    }
   ],
   "source": [
    "#отбросим объявления, которые висели более 3-х лет\n",
    "data.drop(index=data.query('days_exposition > 365*3').index,inplace=True)\n",
    "_ = data.hist('days_exposition', bins=50)"
   ]
  },
  {
   "cell_type": "code",
   "execution_count": 32,
   "metadata": {},
   "outputs": [],
   "source": [
    "#сбрасываем индексацию после удаления строк\n",
    "data.reset_index(drop=True,inplace=True)"
   ]
  },
  {
   "cell_type": "code",
   "execution_count": 33,
   "metadata": {},
   "outputs": [
    {
     "name": "stdout",
     "output_type": "stream",
     "text": [
      "<class 'pandas.core.frame.DataFrame'>\n",
      "RangeIndex: 23342 entries, 0 to 23341\n",
      "Data columns (total 22 columns):\n",
      " #   Column                Non-Null Count  Dtype         \n",
      "---  ------                --------------  -----         \n",
      " 0   total_images          23342 non-null  int64         \n",
      " 1   last_price            23342 non-null  int64         \n",
      " 2   total_area            23342 non-null  float64       \n",
      " 3   first_day_exposition  23342 non-null  datetime64[ns]\n",
      " 4   rooms                 23342 non-null  int64         \n",
      " 5   ceiling_height        23342 non-null  float64       \n",
      " 6   floors_total          23258 non-null  float64       \n",
      " 7   living_area           23342 non-null  float64       \n",
      " 8   floor                 23342 non-null  int64         \n",
      " 9   is_apartment          23342 non-null  bool          \n",
      " 10  studio                23342 non-null  bool          \n",
      " 11  open_plan             23342 non-null  bool          \n",
      " 12  kitchen_area          23342 non-null  float64       \n",
      " 13  balcony               23342 non-null  int64         \n",
      " 14  locality_name         23293 non-null  object        \n",
      " 15  airports_nearest      17834 non-null  float64       \n",
      " 16  city_centers_nearest  17854 non-null  float64       \n",
      " 17  parks_around3000      17855 non-null  float64       \n",
      " 18  parks_nearest         7885 non-null   float64       \n",
      " 19  ponds_around3000      17855 non-null  float64       \n",
      " 20  ponds_nearest         8905 non-null   float64       \n",
      " 21  days_exposition       23342 non-null  int64         \n",
      "dtypes: bool(3), datetime64[ns](1), float64(11), int64(6), object(1)\n",
      "memory usage: 3.5+ MB\n"
     ]
    }
   ],
   "source": [
    "data.info()"
   ]
  },
  {
   "cell_type": "markdown",
   "metadata": {},
   "source": [
    "<div class=\"alert alert-success\">\n",
    "<h2> Комментарий ревьюера V1<a class=\"tocSkip\"> </h2>\n",
    "\n",
    "<b>Все отлично!👍:</b> Правильно обработала аномальные значения и выбросы, молодец!"
   ]
  },
  {
   "cell_type": "markdown",
   "metadata": {},
   "source": [
    "### Посчитайте и добавьте в таблицу новые столбцы"
   ]
  },
  {
   "cell_type": "markdown",
   "metadata": {},
   "source": [
    "Добавляем в таблицу следующие столбцы с параметрами:\n",
    "\n",
    "* цена одного квадратного метра;\n",
    "* день недели публикации объявления (0 — понедельник, 1 — вторник и так далее);\n",
    "* месяц публикации объявления;\n",
    "* год публикации объявления;\n",
    "* тип этажа квартиры (значения — «‎первый», «последний», «другой»);\n",
    "* расстояние до центра города в километрах (переведите из м в км и округлите до целых значений)."
   ]
  },
  {
   "cell_type": "code",
   "execution_count": 34,
   "metadata": {},
   "outputs": [
    {
     "data": {
      "text/html": [
       "<div>\n",
       "<style scoped>\n",
       "    .dataframe tbody tr th:only-of-type {\n",
       "        vertical-align: middle;\n",
       "    }\n",
       "\n",
       "    .dataframe tbody tr th {\n",
       "        vertical-align: top;\n",
       "    }\n",
       "\n",
       "    .dataframe thead th {\n",
       "        text-align: right;\n",
       "    }\n",
       "</style>\n",
       "<table border=\"1\" class=\"dataframe\">\n",
       "  <thead>\n",
       "    <tr style=\"text-align: right;\">\n",
       "      <th></th>\n",
       "      <th>price_per_square_meter</th>\n",
       "    </tr>\n",
       "  </thead>\n",
       "  <tbody>\n",
       "    <tr>\n",
       "      <th>0</th>\n",
       "      <td>120370</td>\n",
       "    </tr>\n",
       "    <tr>\n",
       "      <th>1</th>\n",
       "      <td>82920</td>\n",
       "    </tr>\n",
       "    <tr>\n",
       "      <th>2</th>\n",
       "      <td>92785</td>\n",
       "    </tr>\n",
       "    <tr>\n",
       "      <th>3</th>\n",
       "      <td>408176</td>\n",
       "    </tr>\n",
       "    <tr>\n",
       "      <th>4</th>\n",
       "      <td>100000</td>\n",
       "    </tr>\n",
       "    <tr>\n",
       "      <th>5</th>\n",
       "      <td>95065</td>\n",
       "    </tr>\n",
       "    <tr>\n",
       "      <th>6</th>\n",
       "      <td>99195</td>\n",
       "    </tr>\n",
       "    <tr>\n",
       "      <th>7</th>\n",
       "      <td>110544</td>\n",
       "    </tr>\n",
       "    <tr>\n",
       "      <th>8</th>\n",
       "      <td>87454</td>\n",
       "    </tr>\n",
       "    <tr>\n",
       "      <th>9</th>\n",
       "      <td>88524</td>\n",
       "    </tr>\n",
       "  </tbody>\n",
       "</table>\n",
       "</div>"
      ],
      "text/plain": [
       "   price_per_square_meter\n",
       "0                  120370\n",
       "1                   82920\n",
       "2                   92785\n",
       "3                  408176\n",
       "4                  100000\n",
       "5                   95065\n",
       "6                   99195\n",
       "7                  110544\n",
       "8                   87454\n",
       "9                   88524"
      ]
     },
     "execution_count": 34,
     "metadata": {},
     "output_type": "execute_result"
    }
   ],
   "source": [
    "#считаем цену квадратного метра\n",
    "data['price_per_square_meter'] = data['last_price'] / data['total_area']\n",
    "#и для удобства просмотра приводим к типу int\n",
    "data['price_per_square_meter'] = data['price_per_square_meter'].astype('int')\n",
    "data[['price_per_square_meter']].head(10)"
   ]
  },
  {
   "cell_type": "code",
   "execution_count": 35,
   "metadata": {},
   "outputs": [
    {
     "data": {
      "text/html": [
       "<div>\n",
       "<style scoped>\n",
       "    .dataframe tbody tr th:only-of-type {\n",
       "        vertical-align: middle;\n",
       "    }\n",
       "\n",
       "    .dataframe tbody tr th {\n",
       "        vertical-align: top;\n",
       "    }\n",
       "\n",
       "    .dataframe thead th {\n",
       "        text-align: right;\n",
       "    }\n",
       "</style>\n",
       "<table border=\"1\" class=\"dataframe\">\n",
       "  <thead>\n",
       "    <tr style=\"text-align: right;\">\n",
       "      <th></th>\n",
       "      <th>weekday_exposition</th>\n",
       "    </tr>\n",
       "  </thead>\n",
       "  <tbody>\n",
       "    <tr>\n",
       "      <th>0</th>\n",
       "      <td>3</td>\n",
       "    </tr>\n",
       "    <tr>\n",
       "      <th>1</th>\n",
       "      <td>1</td>\n",
       "    </tr>\n",
       "    <tr>\n",
       "      <th>2</th>\n",
       "      <td>3</td>\n",
       "    </tr>\n",
       "    <tr>\n",
       "      <th>3</th>\n",
       "      <td>4</td>\n",
       "    </tr>\n",
       "    <tr>\n",
       "      <th>4</th>\n",
       "      <td>1</td>\n",
       "    </tr>\n",
       "    <tr>\n",
       "      <th>5</th>\n",
       "      <td>0</td>\n",
       "    </tr>\n",
       "    <tr>\n",
       "      <th>6</th>\n",
       "      <td>3</td>\n",
       "    </tr>\n",
       "    <tr>\n",
       "      <th>7</th>\n",
       "      <td>3</td>\n",
       "    </tr>\n",
       "    <tr>\n",
       "      <th>8</th>\n",
       "      <td>2</td>\n",
       "    </tr>\n",
       "    <tr>\n",
       "      <th>9</th>\n",
       "      <td>6</td>\n",
       "    </tr>\n",
       "  </tbody>\n",
       "</table>\n",
       "</div>"
      ],
      "text/plain": [
       "   weekday_exposition\n",
       "0                   3\n",
       "1                   1\n",
       "2                   3\n",
       "3                   4\n",
       "4                   1\n",
       "5                   0\n",
       "6                   3\n",
       "7                   3\n",
       "8                   2\n",
       "9                   6"
      ]
     },
     "execution_count": 35,
     "metadata": {},
     "output_type": "execute_result"
    }
   ],
   "source": [
    "#создаем столбец дня недели,0 - понедельник, 1 - вторник и так далее\n",
    "data['weekday_exposition'] = data['first_day_exposition'].dt.weekday\n",
    "data[['weekday_exposition']].head(10)"
   ]
  },
  {
   "cell_type": "code",
   "execution_count": 36,
   "metadata": {},
   "outputs": [
    {
     "data": {
      "text/html": [
       "<div>\n",
       "<style scoped>\n",
       "    .dataframe tbody tr th:only-of-type {\n",
       "        vertical-align: middle;\n",
       "    }\n",
       "\n",
       "    .dataframe tbody tr th {\n",
       "        vertical-align: top;\n",
       "    }\n",
       "\n",
       "    .dataframe thead th {\n",
       "        text-align: right;\n",
       "    }\n",
       "</style>\n",
       "<table border=\"1\" class=\"dataframe\">\n",
       "  <thead>\n",
       "    <tr style=\"text-align: right;\">\n",
       "      <th></th>\n",
       "      <th>month_exposition</th>\n",
       "    </tr>\n",
       "  </thead>\n",
       "  <tbody>\n",
       "    <tr>\n",
       "      <th>0</th>\n",
       "      <td>3</td>\n",
       "    </tr>\n",
       "    <tr>\n",
       "      <th>1</th>\n",
       "      <td>12</td>\n",
       "    </tr>\n",
       "    <tr>\n",
       "      <th>2</th>\n",
       "      <td>8</td>\n",
       "    </tr>\n",
       "    <tr>\n",
       "      <th>3</th>\n",
       "      <td>7</td>\n",
       "    </tr>\n",
       "    <tr>\n",
       "      <th>4</th>\n",
       "      <td>6</td>\n",
       "    </tr>\n",
       "  </tbody>\n",
       "</table>\n",
       "</div>"
      ],
      "text/plain": [
       "   month_exposition\n",
       "0                 3\n",
       "1                12\n",
       "2                 8\n",
       "3                 7\n",
       "4                 6"
      ]
     },
     "execution_count": 36,
     "metadata": {},
     "output_type": "execute_result"
    }
   ],
   "source": [
    "#создаем столбец месяца публикации объявления\n",
    "data['month_exposition'] = data['first_day_exposition'].dt.month\n",
    "data[['month_exposition']].head()"
   ]
  },
  {
   "cell_type": "code",
   "execution_count": 37,
   "metadata": {},
   "outputs": [
    {
     "data": {
      "text/html": [
       "<div>\n",
       "<style scoped>\n",
       "    .dataframe tbody tr th:only-of-type {\n",
       "        vertical-align: middle;\n",
       "    }\n",
       "\n",
       "    .dataframe tbody tr th {\n",
       "        vertical-align: top;\n",
       "    }\n",
       "\n",
       "    .dataframe thead th {\n",
       "        text-align: right;\n",
       "    }\n",
       "</style>\n",
       "<table border=\"1\" class=\"dataframe\">\n",
       "  <thead>\n",
       "    <tr style=\"text-align: right;\">\n",
       "      <th></th>\n",
       "      <th>year_exposition</th>\n",
       "    </tr>\n",
       "  </thead>\n",
       "  <tbody>\n",
       "    <tr>\n",
       "      <th>0</th>\n",
       "      <td>2019</td>\n",
       "    </tr>\n",
       "    <tr>\n",
       "      <th>1</th>\n",
       "      <td>2018</td>\n",
       "    </tr>\n",
       "    <tr>\n",
       "      <th>2</th>\n",
       "      <td>2015</td>\n",
       "    </tr>\n",
       "    <tr>\n",
       "      <th>3</th>\n",
       "      <td>2015</td>\n",
       "    </tr>\n",
       "    <tr>\n",
       "      <th>4</th>\n",
       "      <td>2018</td>\n",
       "    </tr>\n",
       "    <tr>\n",
       "      <th>5</th>\n",
       "      <td>2018</td>\n",
       "    </tr>\n",
       "    <tr>\n",
       "      <th>6</th>\n",
       "      <td>2017</td>\n",
       "    </tr>\n",
       "    <tr>\n",
       "      <th>7</th>\n",
       "      <td>2019</td>\n",
       "    </tr>\n",
       "    <tr>\n",
       "      <th>8</th>\n",
       "      <td>2018</td>\n",
       "    </tr>\n",
       "    <tr>\n",
       "      <th>9</th>\n",
       "      <td>2017</td>\n",
       "    </tr>\n",
       "  </tbody>\n",
       "</table>\n",
       "</div>"
      ],
      "text/plain": [
       "   year_exposition\n",
       "0             2019\n",
       "1             2018\n",
       "2             2015\n",
       "3             2015\n",
       "4             2018\n",
       "5             2018\n",
       "6             2017\n",
       "7             2019\n",
       "8             2018\n",
       "9             2017"
      ]
     },
     "execution_count": 37,
     "metadata": {},
     "output_type": "execute_result"
    }
   ],
   "source": [
    "#создаем столбец года публикауции объявления\n",
    "data['year_exposition'] = data['first_day_exposition'].dt.year\n",
    "data[['year_exposition']].head(10)"
   ]
  },
  {
   "cell_type": "code",
   "execution_count": 38,
   "metadata": {},
   "outputs": [
    {
     "data": {
      "text/html": [
       "<div>\n",
       "<style scoped>\n",
       "    .dataframe tbody tr th:only-of-type {\n",
       "        vertical-align: middle;\n",
       "    }\n",
       "\n",
       "    .dataframe tbody tr th {\n",
       "        vertical-align: top;\n",
       "    }\n",
       "\n",
       "    .dataframe thead th {\n",
       "        text-align: right;\n",
       "    }\n",
       "</style>\n",
       "<table border=\"1\" class=\"dataframe\">\n",
       "  <thead>\n",
       "    <tr style=\"text-align: right;\">\n",
       "      <th></th>\n",
       "      <th>floor_category</th>\n",
       "    </tr>\n",
       "  </thead>\n",
       "  <tbody>\n",
       "    <tr>\n",
       "      <th>0</th>\n",
       "      <td>другой</td>\n",
       "    </tr>\n",
       "    <tr>\n",
       "      <th>1</th>\n",
       "      <td>первый</td>\n",
       "    </tr>\n",
       "    <tr>\n",
       "      <th>2</th>\n",
       "      <td>другой</td>\n",
       "    </tr>\n",
       "    <tr>\n",
       "      <th>3</th>\n",
       "      <td>другой</td>\n",
       "    </tr>\n",
       "    <tr>\n",
       "      <th>4</th>\n",
       "      <td>другой</td>\n",
       "    </tr>\n",
       "    <tr>\n",
       "      <th>5</th>\n",
       "      <td>другой</td>\n",
       "    </tr>\n",
       "    <tr>\n",
       "      <th>6</th>\n",
       "      <td>другой</td>\n",
       "    </tr>\n",
       "    <tr>\n",
       "      <th>7</th>\n",
       "      <td>другой</td>\n",
       "    </tr>\n",
       "    <tr>\n",
       "      <th>8</th>\n",
       "      <td>другой</td>\n",
       "    </tr>\n",
       "    <tr>\n",
       "      <th>9</th>\n",
       "      <td>другой</td>\n",
       "    </tr>\n",
       "  </tbody>\n",
       "</table>\n",
       "</div>"
      ],
      "text/plain": [
       "  floor_category\n",
       "0         другой\n",
       "1         первый\n",
       "2         другой\n",
       "3         другой\n",
       "4         другой\n",
       "5         другой\n",
       "6         другой\n",
       "7         другой\n",
       "8         другой\n",
       "9         другой"
      ]
     },
     "execution_count": 38,
     "metadata": {},
     "output_type": "execute_result"
    }
   ],
   "source": [
    "#напишем функцию категоризации по этажам, используя метод apply к каждой строке датафрейма через axis = 1\n",
    "def floor_category(row):\n",
    "    floors_total = row['floors_total']\n",
    "    floor = row['floor']\n",
    "    if floor == 1:\n",
    "        return 'первый'\n",
    "    elif floor == floors_total:\n",
    "        return 'последний'\n",
    "    elif 1 < floor < floors_total:\n",
    "        return 'другой'\n",
    "\n",
    "data['floor_category'] = data.apply(floor_category, axis = 1)\n",
    "data[['floor_category']].head(10)"
   ]
  },
  {
   "cell_type": "code",
   "execution_count": 39,
   "metadata": {},
   "outputs": [
    {
     "name": "stdout",
     "output_type": "stream",
     "text": [
      "city_centers_nearest_km ok\n"
     ]
    }
   ],
   "source": [
    "# расстояние до центра города в километрах (переводим из м в км и округляем до целых значений)\n",
    "data['city_centers_nearest_km'] = round(data['city_centers_nearest'] / 1000)\n",
    "# Fixed\n",
    "# try:\n",
    "data['city_centers_nearest_km'] =  data['city_centers_nearest_km'].astype('Int32')\n",
    "print('city_centers_nearest_km ok')\n",
    "# except:\n",
    "#     print('city_centers_nearest_km Int32 type conversion fail')"
   ]
  },
  {
   "cell_type": "markdown",
   "metadata": {},
   "source": [
    "<div class=\"alert alert-success\">\n",
    "<h2> Комментарий ревьюера V1<a class=\"tocSkip\"> </h2>\n",
    "\n",
    "<b>Все отлично!👍:</b> Новые столбцы создала правильно, подходящие методы использовала."
   ]
  },
  {
   "cell_type": "markdown",
   "metadata": {},
   "source": [
    "<div class=\"alert alert-warning\">\n",
    "<h2> Комментарий ревьюера V1<a class=\"tocSkip\"> </h2>\n",
    "\n",
    "<b>Некоторые замечания и рекомендации💡:</b> Напоминаю про метод head() и не понятно зачем ты выше использовала try except, можно вполне без него обойтись."
   ]
  },
  {
   "cell_type": "markdown",
   "metadata": {},
   "source": [
    "### Проведите исследовательский анализ данных"
   ]
  },
  {
   "cell_type": "markdown",
   "metadata": {},
   "source": [
    "#### Изучаем параметры объектов"
   ]
  },
  {
   "cell_type": "code",
   "execution_count": 40,
   "metadata": {},
   "outputs": [
    {
     "data": {
      "text/html": [
       "<div>\n",
       "<style scoped>\n",
       "    .dataframe tbody tr th:only-of-type {\n",
       "        vertical-align: middle;\n",
       "    }\n",
       "\n",
       "    .dataframe tbody tr th {\n",
       "        vertical-align: top;\n",
       "    }\n",
       "\n",
       "    .dataframe thead th {\n",
       "        text-align: right;\n",
       "    }\n",
       "</style>\n",
       "<table border=\"1\" class=\"dataframe\">\n",
       "  <thead>\n",
       "    <tr style=\"text-align: right;\">\n",
       "      <th></th>\n",
       "      <th>total_images</th>\n",
       "      <th>last_price</th>\n",
       "      <th>total_area</th>\n",
       "      <th>rooms</th>\n",
       "      <th>ceiling_height</th>\n",
       "      <th>floors_total</th>\n",
       "      <th>living_area</th>\n",
       "      <th>floor</th>\n",
       "      <th>kitchen_area</th>\n",
       "      <th>balcony</th>\n",
       "      <th>...</th>\n",
       "      <th>parks_around3000</th>\n",
       "      <th>parks_nearest</th>\n",
       "      <th>ponds_around3000</th>\n",
       "      <th>ponds_nearest</th>\n",
       "      <th>days_exposition</th>\n",
       "      <th>price_per_square_meter</th>\n",
       "      <th>weekday_exposition</th>\n",
       "      <th>month_exposition</th>\n",
       "      <th>year_exposition</th>\n",
       "      <th>city_centers_nearest_km</th>\n",
       "    </tr>\n",
       "  </thead>\n",
       "  <tbody>\n",
       "    <tr>\n",
       "      <th>count</th>\n",
       "      <td>23342.000000</td>\n",
       "      <td>2.334200e+04</td>\n",
       "      <td>23342.000000</td>\n",
       "      <td>23342.000000</td>\n",
       "      <td>23342.000000</td>\n",
       "      <td>23258.000000</td>\n",
       "      <td>23342.000000</td>\n",
       "      <td>23342.000000</td>\n",
       "      <td>23342.000000</td>\n",
       "      <td>23342.000000</td>\n",
       "      <td>...</td>\n",
       "      <td>17855.000000</td>\n",
       "      <td>7885.000000</td>\n",
       "      <td>17855.000000</td>\n",
       "      <td>8905.000000</td>\n",
       "      <td>23342.000000</td>\n",
       "      <td>2.334200e+04</td>\n",
       "      <td>23342.000000</td>\n",
       "      <td>23342.000000</td>\n",
       "      <td>23342.000000</td>\n",
       "      <td>17854.000000</td>\n",
       "    </tr>\n",
       "    <tr>\n",
       "      <th>mean</th>\n",
       "      <td>9.862051</td>\n",
       "      <td>6.188924e+06</td>\n",
       "      <td>59.029267</td>\n",
       "      <td>2.048668</td>\n",
       "      <td>2.436935</td>\n",
       "      <td>10.699931</td>\n",
       "      <td>33.838306</td>\n",
       "      <td>5.899623</td>\n",
       "      <td>10.277946</td>\n",
       "      <td>0.592751</td>\n",
       "      <td>...</td>\n",
       "      <td>0.605153</td>\n",
       "      <td>490.309321</td>\n",
       "      <td>0.763372</td>\n",
       "      <td>519.994385</td>\n",
       "      <td>134.914146</td>\n",
       "      <td>9.853003e+04</td>\n",
       "      <td>2.572059</td>\n",
       "      <td>6.400009</td>\n",
       "      <td>2017.386085</td>\n",
       "      <td>14.260670</td>\n",
       "    </tr>\n",
       "    <tr>\n",
       "      <th>std</th>\n",
       "      <td>5.676043</td>\n",
       "      <td>7.345970e+06</td>\n",
       "      <td>29.909989</td>\n",
       "      <td>1.019595</td>\n",
       "      <td>0.402010</td>\n",
       "      <td>6.602123</td>\n",
       "      <td>19.189145</td>\n",
       "      <td>4.887412</td>\n",
       "      <td>5.150688</td>\n",
       "      <td>0.959099</td>\n",
       "      <td>...</td>\n",
       "      <td>0.797186</td>\n",
       "      <td>339.617188</td>\n",
       "      <td>0.933346</td>\n",
       "      <td>277.758277</td>\n",
       "      <td>205.479297</td>\n",
       "      <td>4.634419e+04</td>\n",
       "      <td>1.789849</td>\n",
       "      <td>3.486772</td>\n",
       "      <td>1.020139</td>\n",
       "      <td>8.588806</td>\n",
       "    </tr>\n",
       "    <tr>\n",
       "      <th>min</th>\n",
       "      <td>0.000000</td>\n",
       "      <td>4.300000e+05</td>\n",
       "      <td>12.000000</td>\n",
       "      <td>0.000000</td>\n",
       "      <td>1.000000</td>\n",
       "      <td>1.000000</td>\n",
       "      <td>10.000000</td>\n",
       "      <td>1.000000</td>\n",
       "      <td>2.000000</td>\n",
       "      <td>0.000000</td>\n",
       "      <td>...</td>\n",
       "      <td>0.000000</td>\n",
       "      <td>1.000000</td>\n",
       "      <td>0.000000</td>\n",
       "      <td>13.000000</td>\n",
       "      <td>-100.000000</td>\n",
       "      <td>7.962000e+03</td>\n",
       "      <td>0.000000</td>\n",
       "      <td>1.000000</td>\n",
       "      <td>2014.000000</td>\n",
       "      <td>0.000000</td>\n",
       "    </tr>\n",
       "    <tr>\n",
       "      <th>25%</th>\n",
       "      <td>6.000000</td>\n",
       "      <td>3.400000e+06</td>\n",
       "      <td>40.000000</td>\n",
       "      <td>1.000000</td>\n",
       "      <td>2.000000</td>\n",
       "      <td>5.000000</td>\n",
       "      <td>19.000000</td>\n",
       "      <td>2.000000</td>\n",
       "      <td>7.000000</td>\n",
       "      <td>0.000000</td>\n",
       "      <td>...</td>\n",
       "      <td>0.000000</td>\n",
       "      <td>288.000000</td>\n",
       "      <td>0.000000</td>\n",
       "      <td>296.000000</td>\n",
       "      <td>22.000000</td>\n",
       "      <td>7.647000e+04</td>\n",
       "      <td>1.000000</td>\n",
       "      <td>3.000000</td>\n",
       "      <td>2017.000000</td>\n",
       "      <td>9.000000</td>\n",
       "    </tr>\n",
       "    <tr>\n",
       "      <th>50%</th>\n",
       "      <td>9.000000</td>\n",
       "      <td>4.600000e+06</td>\n",
       "      <td>52.000000</td>\n",
       "      <td>2.000000</td>\n",
       "      <td>2.500000</td>\n",
       "      <td>9.000000</td>\n",
       "      <td>30.000000</td>\n",
       "      <td>4.000000</td>\n",
       "      <td>9.000000</td>\n",
       "      <td>0.000000</td>\n",
       "      <td>...</td>\n",
       "      <td>0.000000</td>\n",
       "      <td>455.000000</td>\n",
       "      <td>0.000000</td>\n",
       "      <td>503.000000</td>\n",
       "      <td>72.000000</td>\n",
       "      <td>9.480100e+04</td>\n",
       "      <td>3.000000</td>\n",
       "      <td>6.000000</td>\n",
       "      <td>2017.000000</td>\n",
       "      <td>13.000000</td>\n",
       "    </tr>\n",
       "    <tr>\n",
       "      <th>75%</th>\n",
       "      <td>14.000000</td>\n",
       "      <td>6.700000e+06</td>\n",
       "      <td>69.000000</td>\n",
       "      <td>3.000000</td>\n",
       "      <td>2.700000</td>\n",
       "      <td>16.000000</td>\n",
       "      <td>42.000000</td>\n",
       "      <td>8.000000</td>\n",
       "      <td>11.850000</td>\n",
       "      <td>1.000000</td>\n",
       "      <td>...</td>\n",
       "      <td>1.000000</td>\n",
       "      <td>612.000000</td>\n",
       "      <td>1.000000</td>\n",
       "      <td>733.000000</td>\n",
       "      <td>193.000000</td>\n",
       "      <td>1.137692e+05</td>\n",
       "      <td>4.000000</td>\n",
       "      <td>10.000000</td>\n",
       "      <td>2018.000000</td>\n",
       "      <td>16.000000</td>\n",
       "    </tr>\n",
       "    <tr>\n",
       "      <th>max</th>\n",
       "      <td>50.000000</td>\n",
       "      <td>3.300000e+08</td>\n",
       "      <td>413.500000</td>\n",
       "      <td>7.000000</td>\n",
       "      <td>4.000000</td>\n",
       "      <td>60.000000</td>\n",
       "      <td>200.000000</td>\n",
       "      <td>33.000000</td>\n",
       "      <td>50.000000</td>\n",
       "      <td>5.000000</td>\n",
       "      <td>...</td>\n",
       "      <td>3.000000</td>\n",
       "      <td>3190.000000</td>\n",
       "      <td>3.000000</td>\n",
       "      <td>1344.000000</td>\n",
       "      <td>1095.000000</td>\n",
       "      <td>1.736842e+06</td>\n",
       "      <td>6.000000</td>\n",
       "      <td>12.000000</td>\n",
       "      <td>2019.000000</td>\n",
       "      <td>66.000000</td>\n",
       "    </tr>\n",
       "  </tbody>\n",
       "</table>\n",
       "<p>8 rows × 22 columns</p>\n",
       "</div>"
      ],
      "text/plain": [
       "       total_images    last_price    total_area         rooms  ceiling_height  \\\n",
       "count  23342.000000  2.334200e+04  23342.000000  23342.000000    23342.000000   \n",
       "mean       9.862051  6.188924e+06     59.029267      2.048668        2.436935   \n",
       "std        5.676043  7.345970e+06     29.909989      1.019595        0.402010   \n",
       "min        0.000000  4.300000e+05     12.000000      0.000000        1.000000   \n",
       "25%        6.000000  3.400000e+06     40.000000      1.000000        2.000000   \n",
       "50%        9.000000  4.600000e+06     52.000000      2.000000        2.500000   \n",
       "75%       14.000000  6.700000e+06     69.000000      3.000000        2.700000   \n",
       "max       50.000000  3.300000e+08    413.500000      7.000000        4.000000   \n",
       "\n",
       "       floors_total   living_area         floor  kitchen_area       balcony  \\\n",
       "count  23258.000000  23342.000000  23342.000000  23342.000000  23342.000000   \n",
       "mean      10.699931     33.838306      5.899623     10.277946      0.592751   \n",
       "std        6.602123     19.189145      4.887412      5.150688      0.959099   \n",
       "min        1.000000     10.000000      1.000000      2.000000      0.000000   \n",
       "25%        5.000000     19.000000      2.000000      7.000000      0.000000   \n",
       "50%        9.000000     30.000000      4.000000      9.000000      0.000000   \n",
       "75%       16.000000     42.000000      8.000000     11.850000      1.000000   \n",
       "max       60.000000    200.000000     33.000000     50.000000      5.000000   \n",
       "\n",
       "       ...  parks_around3000  parks_nearest  ponds_around3000  ponds_nearest  \\\n",
       "count  ...      17855.000000    7885.000000      17855.000000    8905.000000   \n",
       "mean   ...          0.605153     490.309321          0.763372     519.994385   \n",
       "std    ...          0.797186     339.617188          0.933346     277.758277   \n",
       "min    ...          0.000000       1.000000          0.000000      13.000000   \n",
       "25%    ...          0.000000     288.000000          0.000000     296.000000   \n",
       "50%    ...          0.000000     455.000000          0.000000     503.000000   \n",
       "75%    ...          1.000000     612.000000          1.000000     733.000000   \n",
       "max    ...          3.000000    3190.000000          3.000000    1344.000000   \n",
       "\n",
       "       days_exposition  price_per_square_meter  weekday_exposition  \\\n",
       "count     23342.000000            2.334200e+04        23342.000000   \n",
       "mean        134.914146            9.853003e+04            2.572059   \n",
       "std         205.479297            4.634419e+04            1.789849   \n",
       "min        -100.000000            7.962000e+03            0.000000   \n",
       "25%          22.000000            7.647000e+04            1.000000   \n",
       "50%          72.000000            9.480100e+04            3.000000   \n",
       "75%         193.000000            1.137692e+05            4.000000   \n",
       "max        1095.000000            1.736842e+06            6.000000   \n",
       "\n",
       "       month_exposition  year_exposition  city_centers_nearest_km  \n",
       "count      23342.000000     23342.000000             17854.000000  \n",
       "mean           6.400009      2017.386085                14.260670  \n",
       "std            3.486772         1.020139                 8.588806  \n",
       "min            1.000000      2014.000000                 0.000000  \n",
       "25%            3.000000      2017.000000                 9.000000  \n",
       "50%            6.000000      2017.000000                13.000000  \n",
       "75%           10.000000      2018.000000                16.000000  \n",
       "max           12.000000      2019.000000                66.000000  \n",
       "\n",
       "[8 rows x 22 columns]"
      ]
     },
     "execution_count": 40,
     "metadata": {},
     "output_type": "execute_result"
    }
   ],
   "source": [
    "data.describe()"
   ]
  },
  {
   "cell_type": "code",
   "execution_count": 41,
   "metadata": {
    "scrolled": true
   },
   "outputs": [
    {
     "data": {
      "image/png": "[encoded data removed]",
      "text/plain": [
       "<Figure size 432x288 with 1 Axes>"
      ]
     },
     "metadata": {
      "needs_background": "light"
     },
     "output_type": "display_data"
    }
   ],
   "source": [
    "#общая площадь\n",
    "_ = data.hist('total_area', bins=50)"
   ]
  },
  {
   "cell_type": "code",
   "execution_count": 42,
   "metadata": {},
   "outputs": [
    {
     "data": {
      "image/png": "[encoded data removed]",
      "text/plain": [
       "<Figure size 432x288 with 1 Axes>"
      ]
     },
     "metadata": {
      "needs_background": "light"
     },
     "output_type": "display_data"
    }
   ],
   "source": [
    "#жилая площадь\n",
    "_ = data.hist('living_area', bins=50, range=(0,50))"
   ]
  },
  {
   "cell_type": "code",
   "execution_count": 43,
   "metadata": {},
   "outputs": [
    {
     "data": {
      "image/png": "[encoded data removed]",
      "text/plain": [
       "<Figure size 432x288 with 1 Axes>"
      ]
     },
     "metadata": {
      "needs_background": "light"
     },
     "output_type": "display_data"
    }
   ],
   "source": [
    "#площадь кухни\n",
    "_ = data.hist('kitchen_area', bins=50, range=(0,20))"
   ]
  },
  {
   "cell_type": "code",
   "execution_count": 44,
   "metadata": {},
   "outputs": [
    {
     "data": {
      "image/png": "[encoded data removed]",
      "text/plain": [
       "<Figure size 432x288 with 1 Axes>"
      ]
     },
     "metadata": {
      "needs_background": "light"
     },
     "output_type": "display_data"
    }
   ],
   "source": [
    "#цена объекта\n",
    "_ = data.hist('last_price', bins=50, range=(0,2e+07))"
   ]
  },
  {
   "cell_type": "code",
   "execution_count": 45,
   "metadata": {},
   "outputs": [
    {
     "data": {
      "image/png": "[encoded data removed]",
      "text/plain": [
       "<Figure size 432x288 with 1 Axes>"
      ]
     },
     "metadata": {
      "needs_background": "light"
     },
     "output_type": "display_data"
    }
   ],
   "source": [
    "#кол-во комнат\n",
    "_ = data.hist('rooms', bins=data['rooms'].max())"
   ]
  },
  {
   "cell_type": "code",
   "execution_count": 46,
   "metadata": {},
   "outputs": [
    {
     "data": {
      "image/png": "[encoded data removed]",
      "text/plain": [
       "<Figure size 432x288 with 1 Axes>"
      ]
     },
     "metadata": {
      "needs_background": "light"
     },
     "output_type": "display_data"
    }
   ],
   "source": [
    "# высота потолков\n",
    "_ = data.hist('ceiling_height', bins=30)"
   ]
  },
  {
   "cell_type": "code",
   "execution_count": 47,
   "metadata": {},
   "outputs": [],
   "source": [
    "data['floors_total'] = data['floors_total'].astype('Int64') # была ошибка в типе данных, меняем тут тип данных"
   ]
  },
  {
   "cell_type": "code",
   "execution_count": 48,
   "metadata": {},
   "outputs": [
    {
     "data": {
      "image/png": "[encoded data removed]",
      "text/plain": [
       "<Figure size 432x288 with 1 Axes>"
      ]
     },
     "metadata": {
      "needs_background": "light"
     },
     "output_type": "display_data"
    }
   ],
   "source": [
    "#общее кол-во этажей\n",
    "_ = data.hist('floors_total', bins=data['floors_total'].max())"
   ]
  },
  {
   "cell_type": "code",
   "execution_count": 49,
   "metadata": {},
   "outputs": [
    {
     "data": {
      "image/png": "[encoded data removed]",
      "text/plain": [
       "<Figure size 432x288 with 1 Axes>"
      ]
     },
     "metadata": {
      "needs_background": "light"
     },
     "output_type": "display_data"
    }
   ],
   "source": [
    "# расстояние до центра города в метрах\n",
    "_ = data.hist('city_centers_nearest', bins=50)"
   ]
  },
  {
   "cell_type": "code",
   "execution_count": 50,
   "metadata": {},
   "outputs": [
    {
     "data": {
      "image/png": "[encoded data removed]",
      "text/plain": [
       "<Figure size 432x288 with 1 Axes>"
      ]
     },
     "metadata": {
      "needs_background": "light"
     },
     "output_type": "display_data"
    }
   ],
   "source": [
    "#расстояние до ближайшего аэропорта\n",
    "_ = data.hist('airports_nearest', bins=50)"
   ]
  },
  {
   "cell_type": "code",
   "execution_count": 51,
   "metadata": {},
   "outputs": [
    {
     "data": {
      "image/png": "[encoded data removed]",
      "text/plain": [
       "<Figure size 432x288 with 1 Axes>"
      ]
     },
     "metadata": {
      "needs_background": "light"
     },
     "output_type": "display_data"
    }
   ],
   "source": [
    "# расстояние до ближайшего парка\n",
    "_ = data.hist('parks_nearest', bins=50)"
   ]
  },
  {
   "cell_type": "code",
   "execution_count": 52,
   "metadata": {},
   "outputs": [
    {
     "data": {
      "image/png": "[encoded data removed]",
      "text/plain": [
       "<Figure size 432x288 with 1 Axes>"
      ]
     },
     "metadata": {
      "needs_background": "light"
     },
     "output_type": "display_data"
    }
   ],
   "source": [
    "#день публикации объявления\n",
    "_ = data.hist('weekday_exposition', bins=50)"
   ]
  },
  {
   "cell_type": "code",
   "execution_count": 53,
   "metadata": {},
   "outputs": [
    {
     "data": {
      "image/png": "[encoded data removed]",
      "text/plain": [
       "<Figure size 432x288 with 1 Axes>"
      ]
     },
     "metadata": {
      "needs_background": "light"
     },
     "output_type": "display_data"
    }
   ],
   "source": [
    "#месяц публикации объявлений\n",
    "_ = data.hist('month_exposition', bins=50)"
   ]
  },
  {
   "cell_type": "code",
   "execution_count": 54,
   "metadata": {},
   "outputs": [
    {
     "data": {
      "image/png": "[encoded data removed]",
      "text/plain": [
       "<Figure size 432x288 with 1 Axes>"
      ]
     },
     "metadata": {
      "needs_background": "light"
     },
     "output_type": "display_data"
    }
   ],
   "source": [
    "#тип этажа квартиры\n",
    "_ = data.groupby(by='floor_category')['floor_category'].count().plot(kind='bar', ylabel = 'count')"
   ]
  },
  {
   "cell_type": "markdown",
   "metadata": {},
   "source": [
    "Построили гистограммы для:\n",
    "\n",
    "* Тип этажа квартиры («первый», «последний», «другой») в этом случае используем тип bar. Больше всего квартир на \"другом\" этаже и это логично. Первых и последних этажей одинакого мало.\n",
    "* Общая площадь. Наблюдаем очень малое количество квартир с общей площадью более 100 кв.м. \n",
    "* Жилая площадь. Наблюдаем два пика - на 18 кв.м. и на 30 кв.м. Видимо, стоит перепроверить, почему два пика.\n",
    "* Площадь кухни выглядит хорошо.\n",
    "* Цена объекта. Цена объекта выглядит хорошо. Немного \"шумный\" график. Очень длинный \"хвост\" вправо - это похоже элитная недвижимость.\n",
    "* Количество комнат. Больше всего двух- и трёх-комнатных квартир, но встречаются и редкие исключения.\n",
    "* Высота потолков. Пика 2.5м.\n",
    "* Этаж квартиры. Больше всего квартир с 1 по 5 этаж.\n",
    "* Общее количество этажей в доме. Видим явные пики: 5-этажная застройка, 9-этажная застройка, и небольшие пики более высоких новостроек.\n",
    "* Расстояние до центра города в метрах. Здесь наблюдаем два пика, один маленький, 5км и другой побльшой от 10 км. до 15 км. Так же есть совсем небольшие всплески на 30 км. и 50 км.\n",
    "* Расстояние до ближайшего аэропорта. Здесь видим довольно \"шумный\" график. Скорее всего, это в пределах нормы.\n",
    "* Расстояние до ближайшего парка. Судя по графику больше всего квартир с парками на расстоянии до 750м.\n",
    "* День и месяц публикации объявления. Видим провал в публикации объявлений в субботу и воскресенье, что логично. Так же видим что с февраля по апрель наблюдалосась повышенная активность. Так же был плавный рост активности с июля по ноябрь. Провалы в декабре, январе и мае."
   ]
  },
  {
   "cell_type": "markdown",
   "metadata": {},
   "source": [
    "<div class=\"alert alert-warning\">\n",
    "<h2> Комментарий ревьюера V1<a class=\"tocSkip\"> </h2>\n",
    "\n",
    "<b>Некоторые замечания и рекомендации💡:</b> Правильно все рассмотрела и описала. Всегда нужно подробно анализировать данные, можно добавить анализ статистик случайных величин, визуализирвоать их с помощью диаграмм размаха, например."
   ]
  },
  {
   "cell_type": "markdown",
   "metadata": {},
   "source": [
    "#### Изучение days_exposition -/ как быстро продавались квартиры"
   ]
  },
  {
   "cell_type": "code",
   "execution_count": 55,
   "metadata": {},
   "outputs": [
    {
     "name": "stdout",
     "output_type": "stream",
     "text": [
      "Среднее время продажи квартиры в днях: 171\n",
      "Медианное время продажи квартиры в днях: 94\n",
      "\n",
      "[Выбросы] Количество объявлений, которые сняты через:\n",
      "45 дней: 879\n",
      "60 дней: 536\n",
      "90 дней: 200\n"
     ]
    },
    {
     "data": {
      "image/png": "[encoded data removed]",
      "text/plain": [
       "<Figure size 432x288 with 1 Axes>"
      ]
     },
     "metadata": {
      "needs_background": "light"
     },
     "output_type": "display_data"
    },
    {
     "data": {
      "image/png": "[encoded data removed]",
      "text/plain": [
       "<Figure size 432x288 with 1 Axes>"
      ]
     },
     "metadata": {
      "needs_background": "light"
     },
     "output_type": "display_data"
    }
   ],
   "source": [
    "#в предыдущем задании в столбце \"days_exposition\" мы заменили пустые значения на - 100\n",
    "# значит, чтобы избавиться от пустных значений, можно поставить фильтр-проверку на больше 0\n",
    "data[data['days_exposition'] > 0].hist('days_exposition', bins=100);\n",
    "data[data['days_exposition'] > 0].hist('days_exposition', bins=100, range = (0,100));\n",
    "print(f'Среднее время продажи квартиры в днях:',int(data[data['days_exposition'] > 0]['days_exposition'].mean()))\n",
    "print('Медианное время продажи квартиры в днях:',int(data[data['days_exposition'] > 0]['days_exposition'].median()))\n",
    "\n",
    "print('\\n[Выбросы] Количество объявлений, которые сняты через:')\n",
    "print('45 дней:',data[data['days_exposition']==45]['days_exposition'].count())\n",
    "print('60 дней:',data[data['days_exposition']==60]['days_exposition'].count())\n",
    "print('90 дней:',data[data['days_exposition']==90]['days_exposition'].count())"
   ]
  },
  {
   "cell_type": "markdown",
   "metadata": {},
   "source": [
    "Можно сказать, что среднее время продажи квартиры составляет 171 дней. Но если взять медиану - то это уже 94 дня, в два раза меньше.\n",
    "\n",
    "Возникает вопрос: *Почему такая разница?* \n",
    "\n",
    "Потому что у нас есть \"длинный хвост\" квартир, которые продавались очень долго, буквально годами."
   ]
  },
  {
   "cell_type": "markdown",
   "metadata": {},
   "source": [
    "<div class=\"alert alert-block alert-danger\">\n",
    "<h2> Комментарий ревьюера V1<a class=\"tocSkip\"></h2>\n",
    "\n",
    "\n",
    "<b>На доработку🤔:</b>\n",
    "Нули, которые ты вставила вместо пропусков искажают статистики, еще раз проанализируй сроки продаж без них."
   ]
  },
  {
   "cell_type": "markdown",
   "metadata": {},
   "source": [
    "<div class=\"alert alert-info\"\n",
    "<h5>🎓 <font color=\"SteelBlue\">Комментарий от студента (синий)</font></h5>    \n",
    "\n",
    " * убрали нули\n",
    " * проанализировали еще раз\n",
    "\n",
    "</div>"
   ]
  },
  {
   "cell_type": "markdown",
   "metadata": {},
   "source": [
    "<div class=\"alert alert-success\">\n",
    "<h2> Комментарий ревьюера V2<a class=\"tocSkip\"> </h2>\n",
    "\n",
    "<b>Все отлично!👍:</b> Все так, разница обусловлена оъявлениями, которые очень долго висят на платформе."
   ]
  },
  {
   "cell_type": "markdown",
   "metadata": {},
   "source": [
    "#### Факторы которые больше всего влияют на общую (полную) стоимость объекта"
   ]
  },
  {
   "cell_type": "code",
   "execution_count": 56,
   "metadata": {},
   "outputs": [
    {
     "data": {
      "text/html": [
       "<div>\n",
       "<style scoped>\n",
       "    .dataframe tbody tr th:only-of-type {\n",
       "        vertical-align: middle;\n",
       "    }\n",
       "\n",
       "    .dataframe tbody tr th {\n",
       "        vertical-align: top;\n",
       "    }\n",
       "\n",
       "    .dataframe thead th {\n",
       "        text-align: right;\n",
       "    }\n",
       "</style>\n",
       "<table border=\"1\" class=\"dataframe\">\n",
       "  <thead>\n",
       "    <tr style=\"text-align: right;\">\n",
       "      <th></th>\n",
       "      <th>total_images</th>\n",
       "      <th>last_price</th>\n",
       "      <th>total_area</th>\n",
       "      <th>first_day_exposition</th>\n",
       "      <th>rooms</th>\n",
       "      <th>ceiling_height</th>\n",
       "      <th>floors_total</th>\n",
       "      <th>living_area</th>\n",
       "      <th>floor</th>\n",
       "      <th>is_apartment</th>\n",
       "      <th>...</th>\n",
       "      <th>parks_nearest</th>\n",
       "      <th>ponds_around3000</th>\n",
       "      <th>ponds_nearest</th>\n",
       "      <th>days_exposition</th>\n",
       "      <th>price_per_square_meter</th>\n",
       "      <th>weekday_exposition</th>\n",
       "      <th>month_exposition</th>\n",
       "      <th>year_exposition</th>\n",
       "      <th>floor_category</th>\n",
       "      <th>city_centers_nearest_km</th>\n",
       "    </tr>\n",
       "  </thead>\n",
       "  <tbody>\n",
       "    <tr>\n",
       "      <th>0</th>\n",
       "      <td>20</td>\n",
       "      <td>13000000</td>\n",
       "      <td>108.00</td>\n",
       "      <td>2019-03-07</td>\n",
       "      <td>3</td>\n",
       "      <td>2.70</td>\n",
       "      <td>16</td>\n",
       "      <td>51.000000</td>\n",
       "      <td>8</td>\n",
       "      <td>False</td>\n",
       "      <td>...</td>\n",
       "      <td>482.0</td>\n",
       "      <td>2.0</td>\n",
       "      <td>755.0</td>\n",
       "      <td>-100</td>\n",
       "      <td>120370</td>\n",
       "      <td>3</td>\n",
       "      <td>3</td>\n",
       "      <td>2019</td>\n",
       "      <td>другой</td>\n",
       "      <td>16</td>\n",
       "    </tr>\n",
       "    <tr>\n",
       "      <th>1</th>\n",
       "      <td>7</td>\n",
       "      <td>3350000</td>\n",
       "      <td>40.40</td>\n",
       "      <td>2018-12-04</td>\n",
       "      <td>1</td>\n",
       "      <td>2.00</td>\n",
       "      <td>11</td>\n",
       "      <td>18.600000</td>\n",
       "      <td>1</td>\n",
       "      <td>False</td>\n",
       "      <td>...</td>\n",
       "      <td>NaN</td>\n",
       "      <td>0.0</td>\n",
       "      <td>NaN</td>\n",
       "      <td>81</td>\n",
       "      <td>82920</td>\n",
       "      <td>1</td>\n",
       "      <td>12</td>\n",
       "      <td>2018</td>\n",
       "      <td>первый</td>\n",
       "      <td>19</td>\n",
       "    </tr>\n",
       "    <tr>\n",
       "      <th>2</th>\n",
       "      <td>10</td>\n",
       "      <td>5196000</td>\n",
       "      <td>56.00</td>\n",
       "      <td>2015-08-20</td>\n",
       "      <td>2</td>\n",
       "      <td>2.00</td>\n",
       "      <td>5</td>\n",
       "      <td>34.300000</td>\n",
       "      <td>4</td>\n",
       "      <td>False</td>\n",
       "      <td>...</td>\n",
       "      <td>90.0</td>\n",
       "      <td>2.0</td>\n",
       "      <td>574.0</td>\n",
       "      <td>558</td>\n",
       "      <td>92785</td>\n",
       "      <td>3</td>\n",
       "      <td>8</td>\n",
       "      <td>2015</td>\n",
       "      <td>другой</td>\n",
       "      <td>14</td>\n",
       "    </tr>\n",
       "    <tr>\n",
       "      <th>3</th>\n",
       "      <td>0</td>\n",
       "      <td>64900000</td>\n",
       "      <td>159.00</td>\n",
       "      <td>2015-07-24</td>\n",
       "      <td>3</td>\n",
       "      <td>2.00</td>\n",
       "      <td>14</td>\n",
       "      <td>90.289724</td>\n",
       "      <td>9</td>\n",
       "      <td>False</td>\n",
       "      <td>...</td>\n",
       "      <td>84.0</td>\n",
       "      <td>3.0</td>\n",
       "      <td>234.0</td>\n",
       "      <td>424</td>\n",
       "      <td>408176</td>\n",
       "      <td>4</td>\n",
       "      <td>7</td>\n",
       "      <td>2015</td>\n",
       "      <td>другой</td>\n",
       "      <td>7</td>\n",
       "    </tr>\n",
       "    <tr>\n",
       "      <th>4</th>\n",
       "      <td>2</td>\n",
       "      <td>10000000</td>\n",
       "      <td>100.00</td>\n",
       "      <td>2018-06-19</td>\n",
       "      <td>2</td>\n",
       "      <td>3.03</td>\n",
       "      <td>14</td>\n",
       "      <td>32.000000</td>\n",
       "      <td>13</td>\n",
       "      <td>False</td>\n",
       "      <td>...</td>\n",
       "      <td>112.0</td>\n",
       "      <td>1.0</td>\n",
       "      <td>48.0</td>\n",
       "      <td>121</td>\n",
       "      <td>100000</td>\n",
       "      <td>1</td>\n",
       "      <td>6</td>\n",
       "      <td>2018</td>\n",
       "      <td>другой</td>\n",
       "      <td>8</td>\n",
       "    </tr>\n",
       "    <tr>\n",
       "      <th>5</th>\n",
       "      <td>10</td>\n",
       "      <td>2890000</td>\n",
       "      <td>30.40</td>\n",
       "      <td>2018-09-10</td>\n",
       "      <td>1</td>\n",
       "      <td>2.00</td>\n",
       "      <td>12</td>\n",
       "      <td>14.400000</td>\n",
       "      <td>5</td>\n",
       "      <td>False</td>\n",
       "      <td>...</td>\n",
       "      <td>NaN</td>\n",
       "      <td>NaN</td>\n",
       "      <td>NaN</td>\n",
       "      <td>55</td>\n",
       "      <td>95065</td>\n",
       "      <td>0</td>\n",
       "      <td>9</td>\n",
       "      <td>2018</td>\n",
       "      <td>другой</td>\n",
       "      <td>&lt;NA&gt;</td>\n",
       "    </tr>\n",
       "    <tr>\n",
       "      <th>6</th>\n",
       "      <td>6</td>\n",
       "      <td>3700000</td>\n",
       "      <td>37.30</td>\n",
       "      <td>2017-11-02</td>\n",
       "      <td>1</td>\n",
       "      <td>2.00</td>\n",
       "      <td>26</td>\n",
       "      <td>10.600000</td>\n",
       "      <td>6</td>\n",
       "      <td>False</td>\n",
       "      <td>...</td>\n",
       "      <td>NaN</td>\n",
       "      <td>0.0</td>\n",
       "      <td>NaN</td>\n",
       "      <td>155</td>\n",
       "      <td>99195</td>\n",
       "      <td>3</td>\n",
       "      <td>11</td>\n",
       "      <td>2017</td>\n",
       "      <td>другой</td>\n",
       "      <td>19</td>\n",
       "    </tr>\n",
       "    <tr>\n",
       "      <th>7</th>\n",
       "      <td>5</td>\n",
       "      <td>7915000</td>\n",
       "      <td>71.60</td>\n",
       "      <td>2019-04-18</td>\n",
       "      <td>2</td>\n",
       "      <td>2.00</td>\n",
       "      <td>24</td>\n",
       "      <td>40.658769</td>\n",
       "      <td>22</td>\n",
       "      <td>False</td>\n",
       "      <td>...</td>\n",
       "      <td>NaN</td>\n",
       "      <td>0.0</td>\n",
       "      <td>NaN</td>\n",
       "      <td>-100</td>\n",
       "      <td>110544</td>\n",
       "      <td>3</td>\n",
       "      <td>4</td>\n",
       "      <td>2019</td>\n",
       "      <td>другой</td>\n",
       "      <td>12</td>\n",
       "    </tr>\n",
       "    <tr>\n",
       "      <th>8</th>\n",
       "      <td>20</td>\n",
       "      <td>2900000</td>\n",
       "      <td>33.16</td>\n",
       "      <td>2018-05-23</td>\n",
       "      <td>1</td>\n",
       "      <td>2.00</td>\n",
       "      <td>27</td>\n",
       "      <td>15.430000</td>\n",
       "      <td>26</td>\n",
       "      <td>False</td>\n",
       "      <td>...</td>\n",
       "      <td>NaN</td>\n",
       "      <td>NaN</td>\n",
       "      <td>NaN</td>\n",
       "      <td>189</td>\n",
       "      <td>87454</td>\n",
       "      <td>2</td>\n",
       "      <td>5</td>\n",
       "      <td>2018</td>\n",
       "      <td>другой</td>\n",
       "      <td>&lt;NA&gt;</td>\n",
       "    </tr>\n",
       "    <tr>\n",
       "      <th>9</th>\n",
       "      <td>18</td>\n",
       "      <td>5400000</td>\n",
       "      <td>61.00</td>\n",
       "      <td>2017-02-26</td>\n",
       "      <td>3</td>\n",
       "      <td>2.50</td>\n",
       "      <td>9</td>\n",
       "      <td>43.600000</td>\n",
       "      <td>7</td>\n",
       "      <td>False</td>\n",
       "      <td>...</td>\n",
       "      <td>NaN</td>\n",
       "      <td>0.0</td>\n",
       "      <td>NaN</td>\n",
       "      <td>289</td>\n",
       "      <td>88524</td>\n",
       "      <td>6</td>\n",
       "      <td>2</td>\n",
       "      <td>2017</td>\n",
       "      <td>другой</td>\n",
       "      <td>15</td>\n",
       "    </tr>\n",
       "  </tbody>\n",
       "</table>\n",
       "<p>10 rows × 28 columns</p>\n",
       "</div>"
      ],
      "text/plain": [
       "   total_images  last_price  total_area first_day_exposition  rooms  \\\n",
       "0            20    13000000      108.00           2019-03-07      3   \n",
       "1             7     3350000       40.40           2018-12-04      1   \n",
       "2            10     5196000       56.00           2015-08-20      2   \n",
       "3             0    64900000      159.00           2015-07-24      3   \n",
       "4             2    10000000      100.00           2018-06-19      2   \n",
       "5            10     2890000       30.40           2018-09-10      1   \n",
       "6             6     3700000       37.30           2017-11-02      1   \n",
       "7             5     7915000       71.60           2019-04-18      2   \n",
       "8            20     2900000       33.16           2018-05-23      1   \n",
       "9            18     5400000       61.00           2017-02-26      3   \n",
       "\n",
       "   ceiling_height  floors_total  living_area  floor  is_apartment  ...  \\\n",
       "0            2.70            16    51.000000      8         False  ...   \n",
       "1            2.00            11    18.600000      1         False  ...   \n",
       "2            2.00             5    34.300000      4         False  ...   \n",
       "3            2.00            14    90.289724      9         False  ...   \n",
       "4            3.03            14    32.000000     13         False  ...   \n",
       "5            2.00            12    14.400000      5         False  ...   \n",
       "6            2.00            26    10.600000      6         False  ...   \n",
       "7            2.00            24    40.658769     22         False  ...   \n",
       "8            2.00            27    15.430000     26         False  ...   \n",
       "9            2.50             9    43.600000      7         False  ...   \n",
       "\n",
       "   parks_nearest  ponds_around3000  ponds_nearest  days_exposition  \\\n",
       "0          482.0               2.0          755.0             -100   \n",
       "1            NaN               0.0            NaN               81   \n",
       "2           90.0               2.0          574.0              558   \n",
       "3           84.0               3.0          234.0              424   \n",
       "4          112.0               1.0           48.0              121   \n",
       "5            NaN               NaN            NaN               55   \n",
       "6            NaN               0.0            NaN              155   \n",
       "7            NaN               0.0            NaN             -100   \n",
       "8            NaN               NaN            NaN              189   \n",
       "9            NaN               0.0            NaN              289   \n",
       "\n",
       "  price_per_square_meter  weekday_exposition  month_exposition  \\\n",
       "0                 120370                   3                 3   \n",
       "1                  82920                   1                12   \n",
       "2                  92785                   3                 8   \n",
       "3                 408176                   4                 7   \n",
       "4                 100000                   1                 6   \n",
       "5                  95065                   0                 9   \n",
       "6                  99195                   3                11   \n",
       "7                 110544                   3                 4   \n",
       "8                  87454                   2                 5   \n",
       "9                  88524                   6                 2   \n",
       "\n",
       "   year_exposition  floor_category  city_centers_nearest_km  \n",
       "0             2019          другой                       16  \n",
       "1             2018          первый                       19  \n",
       "2             2015          другой                       14  \n",
       "3             2015          другой                        7  \n",
       "4             2018          другой                        8  \n",
       "5             2018          другой                     <NA>  \n",
       "6             2017          другой                       19  \n",
       "7             2019          другой                       12  \n",
       "8             2018          другой                     <NA>  \n",
       "9             2017          другой                       15  \n",
       "\n",
       "[10 rows x 28 columns]"
      ]
     },
     "execution_count": 56,
     "metadata": {},
     "output_type": "execute_result"
    }
   ],
   "source": [
    "data.head(10)"
   ]
  },
  {
   "cell_type": "markdown",
   "metadata": {},
   "source": [
    "<div class=\"alert alert-block alert-danger\">\n",
    "<h2> Комментарий ревьюера V1<a class=\"tocSkip\"></h2>\n",
    "\n",
    "\n",
    "<b>На доработку🤔:</b>\n",
    "Не нужно целиком выводить датафрейм."
   ]
  },
  {
   "cell_type": "markdown",
   "metadata": {},
   "source": [
    "<div class=\"alert alert-info\"\n",
    "<h5>🎓 <font color=\"SteelBlue\">Комментарий от студента (синий)</font></h5>    \n",
    "\n",
    " * исправленно)))\n",
    "\n",
    "</div>"
   ]
  },
  {
   "cell_type": "markdown",
   "metadata": {},
   "source": [
    "<div class=\"alert alert-success\">\n",
    "<h2> Комментарий ревьюера V2<a class=\"tocSkip\"> </h2>\n",
    "\n",
    "<b>Все отлично!👍:</b> Супер)"
   ]
  },
  {
   "cell_type": "markdown",
   "metadata": {},
   "source": [
    "**Изучим зависимость цены квартиры от общей площади квартиры:**"
   ]
  },
  {
   "cell_type": "code",
   "execution_count": 57,
   "metadata": {},
   "outputs": [
    {
     "data": {
      "text/plain": [
       "0.6731579669037413"
      ]
     },
     "execution_count": 57,
     "metadata": {},
     "output_type": "execute_result"
    },
    {
     "data": {
      "image/png": "[encoded data removed]",
      "text/plain": [
       "<Figure size 432x288 with 1 Axes>"
      ]
     },
     "metadata": {
      "needs_background": "light"
     },
     "output_type": "display_data"
    }
   ],
   "source": [
    "pivot_table_total_area = data.pivot_table(index = 'total_area', values = 'last_price', aggfunc = ['mean', 'count', 'median'])\n",
    "pivot_table_total_area.columns = ['mean', 'count', 'median']\n",
    "pivot_table_total_area.plot(y = 'median', style = 'o')\n",
    "\n",
    "pivot_table_total_area.sort_values('median', ascending = False)\n",
    "\n",
    "data['total_area'].corr(data['last_price'])"
   ]
  },
  {
   "cell_type": "markdown",
   "metadata": {},
   "source": [
    "<div class=\"alert alert-block alert-danger\">\n",
    "<h2> Комментарий ревьюера V2<a class=\"tocSkip\"></h2>\n",
    "\n",
    "\n",
    "<b>На доработку🤔:</b>\n",
    "Почему ты стала в этот раз смотреть зависимость цены за метр квадратный? В задании требуется посмотреть в этом пункте зависимость общей стоимости квартир от других параметров."
   ]
  },
  {
   "cell_type": "markdown",
   "metadata": {},
   "source": [
    "<div class=\"alert alert-info\"\n",
    "<h5>🎓 <font color=\"SteelBlue\">Комментарий от студента (синий)</font></h5>    \n",
    "​\n",
    " \n",
    "   * исправили на соотношение цены квартиры от общей площади\n"
   ]
  },
  {
   "cell_type": "markdown",
   "metadata": {},
   "source": [
    "**Вывод:** видим, что зависимость есть (0.67), хоть и не очень сильная. То есть, чем больше площадь тем немного выше стоимость."
   ]
  },
  {
   "cell_type": "markdown",
   "metadata": {},
   "source": [
    "**Изучим стоимость квартиры в соотношении с жилой площадью**"
   ]
  },
  {
   "cell_type": "code",
   "execution_count": 58,
   "metadata": {
    "scrolled": true
   },
   "outputs": [
    {
     "data": {
      "text/plain": [
       "0.5976062417829049"
      ]
     },
     "execution_count": 58,
     "metadata": {},
     "output_type": "execute_result"
    },
    {
     "data": {
      "image/png": "[encoded data removed]",
      "text/plain": [
       "<Figure size 432x288 with 1 Axes>"
      ]
     },
     "metadata": {
      "needs_background": "light"
     },
     "output_type": "display_data"
    }
   ],
   "source": [
    "pivot_table_living_area = data.pivot_table(index = 'living_area', values = 'last_price', aggfunc = ['mean', 'count', 'median'])\n",
    "pivot_table_living_area.columns = ['mean', 'count', 'median']\n",
    "pivot_table_living_area.plot(y = 'median', style = 'o')\n",
    "\n",
    "pivot_table_living_area.sort_values('median', ascending = False)\n",
    "\n",
    "data['living_area'].corr(data['last_price'])"
   ]
  },
  {
   "cell_type": "markdown",
   "metadata": {},
   "source": [
    "**Вывод:** средняя зависимость."
   ]
  },
  {
   "cell_type": "markdown",
   "metadata": {},
   "source": [
    "**Изучим стоимость квартиры в соотношении с площадью кухни**"
   ]
  },
  {
   "cell_type": "code",
   "execution_count": 59,
   "metadata": {},
   "outputs": [
    {
     "data": {
      "text/plain": [
       "0.5128522718771996"
      ]
     },
     "execution_count": 59,
     "metadata": {},
     "output_type": "execute_result"
    },
    {
     "data": {
      "image/png": "[encoded data removed]",
      "text/plain": [
       "<Figure size 432x288 with 1 Axes>"
      ]
     },
     "metadata": {
      "needs_background": "light"
     },
     "output_type": "display_data"
    }
   ],
   "source": [
    "pivot_table_kitchen_area = data.pivot_table(index = 'kitchen_area', values = 'last_price', aggfunc = ['mean', 'count', 'median'])\n",
    "pivot_table_kitchen_area.columns = ['mean', 'count', 'median']\n",
    "pivot_table_kitchen_area.plot(y = 'median', style = 'o')\n",
    "\n",
    "pivot_table_total_area.sort_values('median', ascending = False)\n",
    "\n",
    "data['kitchen_area'].corr(data['last_price'])"
   ]
  },
  {
   "cell_type": "markdown",
   "metadata": {},
   "source": [
    "**Вывод:** корреляция слабая (0,51), во всяком случае линейная зависимость слабая.  "
   ]
  },
  {
   "cell_type": "markdown",
   "metadata": {},
   "source": [
    "<div class=\"alert alert-block alert-danger\">\n",
    "<h2> Комментарий ревьюера V2<a class=\"tocSkip\"></h2>\n",
    "\n",
    "\n",
    "<b>На доработку🤔:</b> Не увидел анализа зависимость от жилой площади и площади кухни."
   ]
  },
  {
   "cell_type": "markdown",
   "metadata": {},
   "source": [
    "<div class=\"alert alert-info\"\n",
    "<h5>🎓 <font color=\"SteelBlue\">Комментарий от студента (синий)</font></h5>    \n",
    "•\n",
    " \n",
    "* добавлено соотношение стоимости квартиры с жилой площадью\n",
    "* добавлено соотношение стоимости квартиры с площадью кухни"
   ]
  },
  {
   "cell_type": "markdown",
   "metadata": {},
   "source": [
    "**Изучим зависимость цены квартиры от числа комнат:**"
   ]
  },
  {
   "cell_type": "code",
   "execution_count": 60,
   "metadata": {},
   "outputs": [
    {
     "data": {
      "text/plain": [
       "0.393386864168653"
      ]
     },
     "execution_count": 60,
     "metadata": {},
     "output_type": "execute_result"
    },
    {
     "data": {
      "image/png": "[encoded data removed]",
      "text/plain": [
       "<Figure size 432x288 with 1 Axes>"
      ]
     },
     "metadata": {
      "needs_background": "light"
     },
     "output_type": "display_data"
    }
   ],
   "source": [
    "pivot_table_rooms = data.pivot_table(index = 'rooms', values = 'last_price', aggfunc = ['mean', 'count', 'median'])\n",
    "pivot_table_rooms.columns = ['mean', 'count', 'median']\n",
    "pivot_table_rooms.query('count > 50').plot(y = 'median')\n",
    "\n",
    "pivot_table_rooms.query('count > 50').sort_values('median', ascending = False)\n",
    "\n",
    "data['rooms'].corr(data['last_price'])"
   ]
  },
  {
   "cell_type": "markdown",
   "metadata": {},
   "source": [
    "**Вывод:** чем больше кол-во комнат, тем выше стоимость квартиры."
   ]
  },
  {
   "cell_type": "markdown",
   "metadata": {},
   "source": [
    "**Изучим зависимость цены квартиры от этажа.**"
   ]
  },
  {
   "cell_type": "code",
   "execution_count": 61,
   "metadata": {},
   "outputs": [
    {
     "data": {
      "text/html": [
       "<div>\n",
       "<style scoped>\n",
       "    .dataframe tbody tr th:only-of-type {\n",
       "        vertical-align: middle;\n",
       "    }\n",
       "\n",
       "    .dataframe tbody tr th {\n",
       "        vertical-align: top;\n",
       "    }\n",
       "\n",
       "    .dataframe thead th {\n",
       "        text-align: right;\n",
       "    }\n",
       "</style>\n",
       "<table border=\"1\" class=\"dataframe\">\n",
       "  <thead>\n",
       "    <tr style=\"text-align: right;\">\n",
       "      <th></th>\n",
       "      <th>mean</th>\n",
       "      <th>count</th>\n",
       "      <th>median</th>\n",
       "    </tr>\n",
       "    <tr>\n",
       "      <th>floor_category</th>\n",
       "      <th></th>\n",
       "      <th></th>\n",
       "      <th></th>\n",
       "    </tr>\n",
       "  </thead>\n",
       "  <tbody>\n",
       "    <tr>\n",
       "      <th>другой</th>\n",
       "      <td>6.451645e+06</td>\n",
       "      <td>17128</td>\n",
       "      <td>4800000</td>\n",
       "    </tr>\n",
       "    <tr>\n",
       "      <th>первый</th>\n",
       "      <td>4.656170e+06</td>\n",
       "      <td>2876</td>\n",
       "      <td>3900000</td>\n",
       "    </tr>\n",
       "    <tr>\n",
       "      <th>последний</th>\n",
       "      <td>6.141942e+06</td>\n",
       "      <td>3257</td>\n",
       "      <td>4300000</td>\n",
       "    </tr>\n",
       "  </tbody>\n",
       "</table>\n",
       "</div>"
      ],
      "text/plain": [
       "                        mean  count   median\n",
       "floor_category                              \n",
       "другой          6.451645e+06  17128  4800000\n",
       "первый          4.656170e+06   2876  3900000\n",
       "последний       6.141942e+06   3257  4300000"
      ]
     },
     "execution_count": 61,
     "metadata": {},
     "output_type": "execute_result"
    },
    {
     "data": {
      "image/png": "[encoded data removed]",
      "text/plain": [
       "<Figure size 432x288 with 1 Axes>"
      ]
     },
     "metadata": {
      "needs_background": "light"
     },
     "output_type": "display_data"
    }
   ],
   "source": [
    "pivot_table_floor_category = data.pivot_table(index = 'floor_category', values = 'last_price', aggfunc = ['mean', 'count', 'median'])\n",
    "pivot_table_floor_category.columns = ['mean', 'count', 'median']\n",
    "_ = pivot_table_floor_category.plot(y = 'median')\n",
    "pivot_table_floor_category"
   ]
  },
  {
   "cell_type": "markdown",
   "metadata": {},
   "source": [
    "<div class=\"alert alert-block alert-danger\">\n",
    "<h2> Комментарий ревьюера V2<a class=\"tocSkip\"></h2>\n",
    "\n",
    "\n",
    "<b>На доработку🤔:</b> Почему здесь ты не смотришь квартиры на \"другом\" этаже? На графике нужно также вывести подписи все на оси абсцисс."
   ]
  },
  {
   "cell_type": "markdown",
   "metadata": {},
   "source": [
    "**Вывод:** Согласно медиане - как правило квартиры на первом этаже дешевле."
   ]
  },
  {
   "cell_type": "markdown",
   "metadata": {},
   "source": [
    "<div class=\"alert alert-info\"\n",
    "<h5>🎓 <font color=\"SteelBlue\">Комментарий от студента (синий)</font></h5>    \n",
    "•\n",
    " \n",
    "* замечания исправлены: \"другой\" этаж возвращен и оси подписаны"
   ]
  },
  {
   "cell_type": "markdown",
   "metadata": {},
   "source": [
    "**Изучим зависимость цены квартиры от удалённости от центра:**"
   ]
  },
  {
   "cell_type": "code",
   "execution_count": 62,
   "metadata": {},
   "outputs": [
    {
     "data": {
      "text/plain": [
       "-0.2596818380295466"
      ]
     },
     "execution_count": 62,
     "metadata": {},
     "output_type": "execute_result"
    },
    {
     "data": {
      "image/png": "[encoded data removed]",
      "text/plain": [
       "<Figure size 432x288 with 1 Axes>"
      ]
     },
     "metadata": {
      "needs_background": "light"
     },
     "output_type": "display_data"
    }
   ],
   "source": [
    "data.plot(kind = 'scatter', y = 'last_price', x = 'city_centers_nearest', alpha = 0.3)\n",
    "data['city_centers_nearest'].corr(data['last_price'])"
   ]
  },
  {
   "cell_type": "markdown",
   "metadata": {},
   "source": [
    "**Вывод:** видим слабую линейную зависимость"
   ]
  },
  {
   "cell_type": "markdown",
   "metadata": {},
   "source": [
    "**Изучим зависимость цены квартиры от даты размещения: дня недели.**"
   ]
  },
  {
   "cell_type": "code",
   "execution_count": 63,
   "metadata": {},
   "outputs": [
    {
     "data": {
      "image/png": "[encoded data removed]",
      "text/plain": [
       "<Figure size 432x288 with 1 Axes>"
      ]
     },
     "metadata": {
      "needs_background": "light"
     },
     "output_type": "display_data"
    }
   ],
   "source": [
    "pivot_table_weekday_exposition = data.pivot_table(index = 'weekday_exposition', values = 'last_price', aggfunc = ['mean', 'count', 'median'])\n",
    "pivot_table_weekday_exposition.columns = ['mean', 'count', 'median']\n",
    "pivot_table_weekday_exposition.plot(y = 'median')\n",
    "_ = pivot_table_weekday_exposition.sort_values('median', ascending = False)"
   ]
  },
  {
   "cell_type": "markdown",
   "metadata": {},
   "source": [
    "**Вывод:** видим, что чем ближе ко вторнику выставлены объявления тем в среднем выше стоимость, но незначительно. По субботам стоимость самая низкая."
   ]
  },
  {
   "cell_type": "markdown",
   "metadata": {},
   "source": [
    "**Изучим зависимость цены квартиры от даты размещения: месяца.**"
   ]
  },
  {
   "cell_type": "code",
   "execution_count": 64,
   "metadata": {},
   "outputs": [
    {
     "data": {
      "image/png": "[encoded data removed]",
      "text/plain": [
       "<Figure size 432x288 with 1 Axes>"
      ]
     },
     "metadata": {
      "needs_background": "light"
     },
     "output_type": "display_data"
    }
   ],
   "source": [
    "pivot_table_month_exposition = data.pivot_table(index = 'month_exposition', values = 'last_price', aggfunc = ['mean', 'count', 'median'])\n",
    "pivot_table_month_exposition.columns = ['mean', 'count', 'median']\n",
    "pivot_table_month_exposition.plot(y = 'median')\n",
    "_ = pivot_table_month_exposition.sort_values('median', ascending = False)"
   ]
  },
  {
   "cell_type": "markdown",
   "metadata": {},
   "source": [
    "**Вывод:** самая высокая стоимость квартиры в апреле. Самая низкая стоимость в июне.\n",
    "На рынке недвижимости, как и во многих других сферах присутствует сезонность - в начале лета мы видим наименьшее предложение как по количеству, так и по стоимости недвижимости. Наверное, это связано с отпусками."
   ]
  },
  {
   "cell_type": "markdown",
   "metadata": {},
   "source": [
    "**Изучим зависимость цены квартиры от даты размещения: года.**"
   ]
  },
  {
   "cell_type": "code",
   "execution_count": 65,
   "metadata": {},
   "outputs": [
    {
     "data": {
      "image/png": "[encoded data removed]",
      "text/plain": [
       "<Figure size 432x288 with 1 Axes>"
      ]
     },
     "metadata": {
      "needs_background": "light"
     },
     "output_type": "display_data"
    }
   ],
   "source": [
    "pivot_table_year_exposition = data.pivot_table(index = 'year_exposition', values = 'last_price', aggfunc = ['mean', 'count', 'median'])\n",
    "pivot_table_year_exposition.columns = ['mean', 'count', 'median']\n",
    "pivot_table_year_exposition.plot(y = 'median')\n",
    "_ = pivot_table_year_exposition.sort_values('median', ascending = False)"
   ]
  },
  {
   "cell_type": "markdown",
   "metadata": {},
   "source": [
    "**Вывод:** видим, что с 2014 до 2018 года цена падала, но далее начала увеличиваться ."
   ]
  },
  {
   "cell_type": "code",
   "execution_count": 66,
   "metadata": {},
   "outputs": [],
   "source": [
    "# Предыдущий код удалять не стали, закомментировали\n",
    "\n",
    "#list_for = ['total_area',\n",
    "                  #'living_area',\n",
    "                 # 'kitchen_area',\n",
    "                 # 'rooms',\n",
    "                 # 'weekday_exposition',\n",
    "                 # 'month_exposition']\n",
    "\n",
    "#for ror in list_for:\n",
    "  #  correlation = data['last_price'].corr(data[ror])\n",
    "  #  print(f'Корреляция между last_price и {ror} составляет: {correlation:0.2%}')\n",
    "\n",
    "#list_for.plot(x='total_area', y='last_price_m', kind='scatter', grid=True, figsize=(10, 5))"
   ]
  },
  {
   "cell_type": "markdown",
   "metadata": {},
   "source": [
    "<div class=\"alert alert-block alert-danger\">\n",
    "<h2> Комментарий ревьюера V1<a class=\"tocSkip\"></h2>\n",
    "\n",
    "\n",
    "<b>На доработку🤔:</b>\n",
    "Корреляция в полной мере никогда не показывает зависимость.\n",
    "\n",
    "Подробно построй график для каждой пары параметров, для количественных подойдут диаграммы рассеяния, а для категориальных величин подойдут сводные таблицы, сгруппируй данные по категориям и выведи с помощью линейной диаграммы или столбчатой зависимость средней цены квартир от категорий.\n",
    "    \n",
    "Опиши подробно как именно зависит цены от всех параметров.\n",
    "    \n",
    "Также изучи к каким случайным величинам можно применять коэффициент корреляции Пирсона. Можно ли его здесь использовать для категориальных параметров?\n",
    "    "
   ]
  },
  {
   "cell_type": "markdown",
   "metadata": {},
   "source": [
    "<div class=\"alert alert-info\"\n",
    "<h5>🎓 <font color=\"SteelBlue\">Комментарий от студента (синий)</font></h5>    \n",
    "\n",
    " * построили графики для каждой пары параметров\n",
    " * под каждым графиком сделали вывод\n",
    " * изучили как можно применять коэффициент корреляции Пирсона\n",
    "    \n",
    "\n",
    "</div>"
   ]
  },
  {
   "cell_type": "markdown",
   "metadata": {},
   "source": [
    "<div class=\"alert alert-block alert-danger\">\n",
    "<h2> Комментарий ревьюера V2<a class=\"tocSkip\"></h2>\n",
    "\n",
    "\n",
    "<b>На доработку🤔:</b> Посмотри на влияние параметров на общую цену квартир, скорректируй выводы."
   ]
  },
  {
   "cell_type": "markdown",
   "metadata": {},
   "source": [
    "<div class=\"alert alert-info\"\n",
    "<h5>🎓 <font color=\"SteelBlue\">Комментарий от студента (синий)</font></h5>    \n",
    "\n",
    " * исправленно\n",
    "    \n",
    "\n",
    "</div>"
   ]
  },
  {
   "cell_type": "markdown",
   "metadata": {},
   "source": [
    "<div class=\"alert alert-success\">\n",
    "<h2> Комментарий ревьюера V3<a class=\"tocSkip\"> </h2>\n",
    "\n",
    "<b>Все отлично!👍:</b> Все правильно доработала. Видно, что на общую стоимость влияют больше всего площади, количество комнат. В среднем квартиры на первом этаже дешевле, чем на других. Прослеживается также некоторая сезонность в размещении объявлениях."
   ]
  },
  {
   "cell_type": "markdown",
   "metadata": {},
   "source": [
    "#### Cредняя цена одного квадратного метра в топ-10 населенных пунктах"
   ]
  },
  {
   "cell_type": "code",
   "execution_count": 67,
   "metadata": {},
   "outputs": [
    {
     "data": {
      "image/png": "[encoded data removed]",
      "text/plain": [
       "<Figure size 432x288 with 1 Axes>"
      ]
     },
     "metadata": {
      "needs_background": "light"
     },
     "output_type": "display_data"
    }
   ],
   "source": [
    "top_10 = data.pivot_table(index='locality_name', values=['last_price','total_area'] ,aggfunc=['sum','count'])\n",
    "top_10.columns=['last_price_sum','total_area_sum','last_price_count','total_area_count']\n",
    "top_10.pop('total_area_count')\n",
    "top_10.sort_values(by=['last_price_count'],ascending=False, inplace=True)\n",
    "top_10 = top_10.iloc[:10]\n",
    "top_10['price_per_sq_m'] = top_10['last_price_sum']/top_10['total_area_sum']\n",
    "top_10.sort_values(by=['price_per_sq_m'],ascending=True, inplace=True)\n",
    "_ = top_10['price_per_sq_m'].plot(kind='barh')"
   ]
  },
  {
   "cell_type": "markdown",
   "metadata": {},
   "source": [
    "<div class=\"alert alert-success\">\n",
    "<h2> Комментарий ревьюера V1<a class=\"tocSkip\"> </h2>\n",
    "\n",
    "<b>Все отлично!👍:</b> Все верно"
   ]
  },
  {
   "cell_type": "markdown",
   "metadata": {},
   "source": [
    "#### Расстояние до центра города"
   ]
  },
  {
   "cell_type": "code",
   "execution_count": 68,
   "metadata": {},
   "outputs": [
    {
     "data": {
      "text/plain": [
       "<AxesSubplot:xlabel='city_centers_nearest_km'>"
      ]
     },
     "execution_count": 68,
     "metadata": {},
     "output_type": "execute_result"
    },
    {
     "data": {
      "image/png": "[encoded data removed]",
      "text/plain": [
       "<Figure size 432x288 with 1 Axes>"
      ]
     },
     "metadata": {
      "needs_background": "light"
     },
     "output_type": "display_data"
    }
   ],
   "source": [
    "(\n",
    "    data[data['locality_name']=='санкт-петербург']\n",
    "    .pivot_table(\n",
    "        index='city_centers_nearest_km',\n",
    "        values='last_price',\n",
    "        aggfunc='mean')\n",
    "    .plot(kind='bar')\n",
    ")"
   ]
  },
  {
   "cell_type": "markdown",
   "metadata": {},
   "source": [
    "С большим отрывом лидирует недвижимость до 1км.\n",
    "Видим более низкие цены на недвижимость на расстоянии от 1 км. до 7 км. включительно.\n",
    "Далее цена спадает на расстоянии от 8 км. до 27 км.\n",
    "Видим пик на 27км, его сложно объяснить, возможно это недвижимость в \"особом\" районе."
   ]
  },
  {
   "cell_type": "markdown",
   "metadata": {},
   "source": [
    "<div class=\"alert alert-success\">\n",
    "<h2> Комментарий ревьюера V1<a class=\"tocSkip\"> </h2>\n",
    "\n",
    "<b>Все отлично!👍:</b> Именно так, прослеживается общая тенденция снижения цены при удалении от центра."
   ]
  },
  {
   "cell_type": "markdown",
   "metadata": {},
   "source": [
    "### Общий вывод"
   ]
  },
  {
   "cell_type": "markdown",
   "metadata": {},
   "source": [
    "Мы обработали полученный архив данных - обработали пропущенные значения там, где это необходимо, заменили типы данных на необходимые для удобной работы. Посчитали и добавили в таблицу цену квадратного метра жилья, вывели из даты дни недели, месяцы и года размещения объявлений, добавили категории по этажам квартир. Изучили следующие параметры на наличие выбивающихся значений - площадь, цена, число комнат, высота потолков. Были определены аномалии в данных параметрах. Изучая время продажи квартир мы выявили, что большое количество объявлений было автоматически снято с Яндекс Недвижимость и дату из снятия нельзя считать датой продажи квартиры, поэтому, изучая средние сроки продажи квартир - данные значения не учитывались. \n",
    "\n",
    "Работа оказалась очень объемной и сложной.\n",
    "\n",
    "Данные всё-таки лучше очищать от явных \"выбросов\", но возможно чистить данные придётся после этапа исследовательского анализа данных. В нашем примере - это дорогие квартиры, которые портили корреляции и графики зависимости полной стоимости от разных параметров. Из необычных особенностей:\n",
    "* Чем больше площадь тем немного выше стоимость;\n",
    "* Стоимость квартиры зависит от жилой площади;\n",
    "* Стоимость квартиры не сильно зависит от площади кухни;\n",
    "* Чем больше кол-во комнат, тем выше стоимость квартиры;\n",
    "* Как правило квартиры на первом этаже дешевле;\n",
    "* Нет линейной зависимости стоимости квартиры от ее удаленности от центра;\n",
    "* Чем ближе ко вторнику выставлены объявления тем в среднем выше стоимость, но незначительно. По субботам стоимость самая низкая;\n",
    "* Самая высокая стоимость квартиры в апреле. Самая низкая стоимость в июне\n",
    "* В 27 км от центра Санкт-Петербурга есть недвижимость по цене почти равная недвижимости в 8 км. от центра;\n",
    "* В ТОП-10 входят в основном ближайшие к Санкт-Петербургу города и самые крупные города области: Пушкин.\n",
    "\n",
    "Быстрые продажи это до 95 дней, а необычно долгие - свыше 171 дня.\n",
    "\n",
    "Выбросы Количество объявлений, которые сняты через:\n",
    "45 дней: 879\n",
    "60 дней: 536\n",
    "90 дней: 200\n"
   ]
  },
  {
   "cell_type": "markdown",
   "metadata": {},
   "source": [
    "<div class=\"alert alert-warning\">\n",
    "<h2> Комментарий ревьюера V1<a class=\"tocSkip\"> </h2>\n",
    "\n",
    "<b>Некоторые замечания и рекомендации💡:</b> В итоговом выводе нужно достаточно подробно написать основные пункты выявленных зависимостей. Стоит доработать вывод с учетом моих комментариев по ходу работы. В итоговом выводе также старайся оставлять рекомендации для последующих шагов. Например рекомендации, что можно обработать и проанализировать другие признаки, на что твоим коллегам стоить обратить внимание."
   ]
  },
  {
   "cell_type": "markdown",
   "metadata": {},
   "source": [
    "<div class=\"alert alert-success\">\n",
    "<h2> Комментарий ревьюера V3<a class=\"tocSkip\"> </h2>\n",
    "\n",
    "<b>Все отлично!👍:</b> Отличный вывод, все четко, понятно и структурировано. Вывод в полной мере отражает существующие зависимости, и по нему можно принимать дальнейшие решения.\n",
    "</div>"
   ]
  },
  {
   "cell_type": "markdown",
   "metadata": {},
   "source": []
  },
  {
   "cell_type": "markdown",
   "metadata": {},
   "source": [
    "**Чек-лист готовности проекта**\n",
    "\n",
    "Поставьте 'x' в выполненных пунктах. Далее нажмите Shift+Enter."
   ]
  },
  {
   "cell_type": "markdown",
   "metadata": {},
   "source": [
    "- [x]  открыт файл\n",
    "- [x]  файлы изучены (выведены первые строки, метод `info()`, гистограммы и т.д.)\n",
    "- [x]  определены пропущенные значения\n",
    "- [x]  заполнены пропущенные значения там, где это возможно\n",
    "- [x]  есть пояснение, какие пропущенные значения обнаружены\n",
    "- [x]  изменены типы данных\n",
    "- [x]  есть пояснение, в каких столбцах изменены типы и почему\n",
    "- [x]  устранены неявные дубликаты в названиях населённых пунктов\n",
    "- [x]  устранены редкие и выбивающиеся значения (аномалии) во всех столбцах\n",
    "- [x]  посчитано и добавлено в таблицу: цена одного квадратного метра\n",
    "- [x]  посчитано и добавлено в таблицу: день публикации объявления (0 - понедельник, 1 - вторник и т.д.)\n",
    "- [x]  посчитано и добавлено в таблицу: месяц публикации объявления\n",
    "- [x]  посчитано и добавлено в таблицу: год публикации объявления\n",
    "- [x]  посчитано и добавлено в таблицу: тип этажа квартиры (значения — «первый», «последний», «другой»)\n",
    "- [x]  посчитано и добавлено в таблицу: расстояние в км до центра города\n",
    "- [x]  изучены и описаны следующие параметры:\n",
    "        - общая площадь;\n",
    "        - жилая площадь;\n",
    "        - площадь кухни;\n",
    "        - цена объекта;\n",
    "        - количество комнат;\n",
    "        - высота потолков;\n",
    "        - этаж квартиры;\n",
    "        - тип этажа квартиры («первый», «последний», «другой»);\n",
    "        - общее количество этажей в доме;\n",
    "        - расстояние до центра города в метрах;\n",
    "        - расстояние до ближайшего аэропорта;\n",
    "        - расстояние до ближайшего парка;\n",
    "        - день и месяц публикации объявления\n",
    "- [x]  построены гистограммы для каждого параметра\n",
    "- [x]  выполнено задание: \"Изучите, как быстро продавались квартиры (столбец days_exposition). Этот параметр показывает, сколько дней «висело» каждое объявление.\n",
    "    - Постройте гистограмму.\n",
    "    - Посчитайте среднее и медиану.\n",
    "    - В ячейке типа markdown опишите, сколько обычно занимает продажа. Какие продажи можно считать быстрыми, а какие — необычно долгими?\"\n",
    "- [x]  выполнено задание: \"Какие факторы больше всего влияют на общую (полную) стоимость объекта? Постройте графики, которые покажут зависимость цены от указанных ниже параметров. Для подготовки данных перед визуализацией вы можете использовать сводные таблицы.\"\n",
    "        - общей площади;\n",
    "        - жилой площади;\n",
    "        - площади кухни;\n",
    "        - количество комнат;\n",
    "        - типа этажа, на котором расположена квартира (первый, последний, другой);\n",
    "        - даты размещения (день недели, месяц, год);\n",
    "- [x]  выполнено задание: \"Посчитайте среднюю цену одного квадратного метра в 10 населённых пунктах с наибольшим числом объявлений. Выделите населённые пункты с самой высокой и низкой стоимостью квадратного метра. Эти данные можно найти по имени в столбце `locality_name`.\"\n",
    "- [x]  выполнено задание: \"Ранее вы посчитали расстояние до центра в километрах. Теперь выделите квартиры в Санкт-Петербурге с помощью столбца `locality_name` и вычислите среднюю цену каждого километра. Опишите, как стоимость объектов зависит от расстояния до центра города.\"\n",
    "- [x]  в каждом этапе есть промежуточные выводы\n",
    "- [x]  есть общий вывод"
   ]
  },
  {
   "cell_type": "markdown",
   "metadata": {},
   "source": [
    "<div style=\"border:solid Chocolate 2px; padding: 40px\">\n",
    "\n",
    "**Общий вывод по проекту**\n",
    "\n",
    "Спасибо за твой проект! Я уверен, что ты приложила все усилия, чтобы сделать этот проект. Это видно по твоей работе, а сформулированные выводы отражают, насколько успешно ты осваиваешь материал.\n",
    "\n",
    "**Отмечу отдельные положительные моменты проекта🙂**:\n",
    "\n",
    "* Ты полностью следовала всем этапам выполнения задания и справилась почти со всем. Хорошая работа!\n",
    "* Отдельно выделю некоторые выводы, которые ты смогла сформулировать абсолютно точно!\n",
    "* У тебя опрятный и читаемый код. Возможно это звучит банально, однако при работе с чужим кодом это крайне важно)\n",
    "\n",
    "\n",
    "**На что стоит обратить внимание🤓**:\n",
    "\n",
    "* Важно доработать итоговый вывод.\n",
    "* Нужно корректно обработать все признаки.\n",
    "* Подробно проанализируй зависимость цены от параметров.\n",
    "* Остальные рекомендации ты найдешь в моих комментариях!\n",
    "\n",
    "\n",
    "**Желаю удачи и жду твой проект на повторное ревью!**😉"
   ]
  },
  {
   "cell_type": "markdown",
   "metadata": {},
   "source": [
    "<div style=\"border:solid Chocolate 2px; padding: 40px\">\n",
    "\n",
    "**Общий вывод по проекту**\n",
    "\n",
    "\n",
    "**На что стоит обратить внимание🤓**:\n",
    "\n",
    "* Важно доработать итоговый вывод.\n",
    "* Внимательно проанализируй зависимость цены квартир от параметров.\n",
    "* Остальные рекомендации ты найдешь в моих комментариях!\n",
    "\n",
    "\n",
    "**Желаю удачи и жду твой проект на повторное ревью!**😉"
   ]
  },
  {
   "cell_type": "markdown",
   "metadata": {},
   "source": [
    "<div style=\"border:solid Chocolate 2px; padding: 40px\">\n",
    "\n",
    "Ты отлично справилась с данной работой! Видно, как ты успешно осваиваешь материал, применяешь полученные знания на практике. Мне было очень приятно проверять твою работу, надеюсь, мои комментарии и советы были для тебя полезными.\n",
    "\n",
    "**Желаю удачи в последующем обучении и исследованиях!**😉"
   ]
  },
  {
   "cell_type": "code",
   "execution_count": null,
   "metadata": {},
   "outputs": [],
   "source": []
  }
 ],
 "metadata": {
  "ExecuteTimeLog": [
   {
    "duration": 550,
    "start_time": "2023-07-05T08:45:06.614Z"
   },
   {
    "duration": 124,
    "start_time": "2023-07-05T08:45:13.948Z"
   },
   {
    "duration": 620,
    "start_time": "2023-07-05T08:47:33.533Z"
   },
   {
    "duration": 9,
    "start_time": "2023-07-05T08:48:05.605Z"
   },
   {
    "duration": 24,
    "start_time": "2023-07-05T08:48:17.614Z"
   },
   {
    "duration": 9,
    "start_time": "2023-07-05T08:53:22.964Z"
   },
   {
    "duration": 128,
    "start_time": "2023-07-05T08:53:38.248Z"
   },
   {
    "duration": 161,
    "start_time": "2023-07-05T08:54:14.522Z"
   },
   {
    "duration": 136,
    "start_time": "2023-07-05T08:54:29.594Z"
   },
   {
    "duration": 19,
    "start_time": "2023-07-05T08:59:29.117Z"
   },
   {
    "duration": 20,
    "start_time": "2023-07-05T09:34:19.317Z"
   },
   {
    "duration": 3,
    "start_time": "2023-07-05T09:35:04.234Z"
   },
   {
    "duration": 24,
    "start_time": "2023-07-05T09:35:05.438Z"
   },
   {
    "duration": 6,
    "start_time": "2023-07-05T09:38:13.623Z"
   },
   {
    "duration": 4,
    "start_time": "2023-07-05T09:38:15.546Z"
   },
   {
    "duration": 7,
    "start_time": "2023-07-05T09:38:34.382Z"
   },
   {
    "duration": 11,
    "start_time": "2023-07-05T09:39:00.894Z"
   },
   {
    "duration": 9,
    "start_time": "2023-07-05T09:39:48.844Z"
   },
   {
    "duration": 14,
    "start_time": "2023-07-05T09:41:42.893Z"
   },
   {
    "duration": 15,
    "start_time": "2023-07-05T09:43:42.430Z"
   },
   {
    "duration": 7,
    "start_time": "2023-07-05T09:45:29.038Z"
   },
   {
    "duration": 9,
    "start_time": "2023-07-05T09:45:43.486Z"
   },
   {
    "duration": 7,
    "start_time": "2023-07-05T09:46:44.305Z"
   },
   {
    "duration": 8,
    "start_time": "2023-07-05T09:46:50.892Z"
   },
   {
    "duration": 8,
    "start_time": "2023-07-05T09:46:56.543Z"
   },
   {
    "duration": 16,
    "start_time": "2023-07-05T09:49:46.539Z"
   },
   {
    "duration": 8,
    "start_time": "2023-07-05T09:49:46.984Z"
   },
   {
    "duration": 326,
    "start_time": "2023-07-05T09:50:46.753Z"
   },
   {
    "duration": 204,
    "start_time": "2023-07-05T09:52:48.574Z"
   },
   {
    "duration": 178,
    "start_time": "2023-07-05T09:53:28.574Z"
   },
   {
    "duration": 149,
    "start_time": "2023-07-05T09:53:46.594Z"
   },
   {
    "duration": 136,
    "start_time": "2023-07-05T09:53:53.556Z"
   },
   {
    "duration": 167,
    "start_time": "2023-07-05T09:54:15.236Z"
   },
   {
    "duration": 146,
    "start_time": "2023-07-05T09:54:22.435Z"
   },
   {
    "duration": 283,
    "start_time": "2023-07-05T09:54:33.531Z"
   },
   {
    "duration": 185,
    "start_time": "2023-07-05T09:54:45.820Z"
   },
   {
    "duration": 192,
    "start_time": "2023-07-05T09:55:31.918Z"
   },
   {
    "duration": 214,
    "start_time": "2023-07-05T09:55:53.806Z"
   },
   {
    "duration": 184,
    "start_time": "2023-07-05T09:56:56.630Z"
   },
   {
    "duration": 9,
    "start_time": "2023-07-05T10:01:00.784Z"
   },
   {
    "duration": 7,
    "start_time": "2023-07-05T10:02:34.471Z"
   },
   {
    "duration": 9,
    "start_time": "2023-07-05T10:03:26.327Z"
   },
   {
    "duration": 48,
    "start_time": "2023-07-05T10:08:12.297Z"
   },
   {
    "duration": 50,
    "start_time": "2023-07-05T10:09:53.937Z"
   },
   {
    "duration": 8,
    "start_time": "2023-07-05T10:14:28.198Z"
   },
   {
    "duration": 6,
    "start_time": "2023-07-05T10:14:30.620Z"
   },
   {
    "duration": 17,
    "start_time": "2023-07-05T10:15:03.348Z"
   },
   {
    "duration": 22,
    "start_time": "2023-07-05T10:15:44.278Z"
   },
   {
    "duration": 6,
    "start_time": "2023-07-05T10:19:06.548Z"
   },
   {
    "duration": 11,
    "start_time": "2023-07-05T10:22:04.545Z"
   },
   {
    "duration": 17,
    "start_time": "2023-07-05T10:23:59.956Z"
   },
   {
    "duration": 16,
    "start_time": "2023-07-05T10:25:40.617Z"
   },
   {
    "duration": 16,
    "start_time": "2023-07-05T10:34:10.469Z"
   },
   {
    "duration": 4,
    "start_time": "2023-07-05T11:19:27.240Z"
   },
   {
    "duration": 8,
    "start_time": "2023-07-05T11:19:38.658Z"
   },
   {
    "duration": 15,
    "start_time": "2023-07-05T11:20:04.210Z"
   },
   {
    "duration": 14,
    "start_time": "2023-07-05T11:21:38.820Z"
   },
   {
    "duration": 13,
    "start_time": "2023-07-05T11:22:54.601Z"
   },
   {
    "duration": 24,
    "start_time": "2023-07-05T11:25:50.178Z"
   },
   {
    "duration": 14,
    "start_time": "2023-07-05T11:26:01.717Z"
   },
   {
    "duration": 15,
    "start_time": "2023-07-05T11:27:30.516Z"
   },
   {
    "duration": 345,
    "start_time": "2023-07-05T11:29:47.708Z"
   },
   {
    "duration": 312,
    "start_time": "2023-07-05T11:30:09.621Z"
   },
   {
    "duration": 10,
    "start_time": "2023-07-05T11:42:07.041Z"
   },
   {
    "duration": 7,
    "start_time": "2023-07-05T11:42:45.659Z"
   },
   {
    "duration": 2952,
    "start_time": "2023-07-05T11:48:24.021Z"
   },
   {
    "duration": 89,
    "start_time": "2023-07-05T11:48:45.103Z"
   },
   {
    "duration": 135,
    "start_time": "2023-07-05T11:48:46.246Z"
   },
   {
    "duration": 1843,
    "start_time": "2023-07-05T11:49:09.085Z"
   },
   {
    "duration": 7,
    "start_time": "2023-07-05T11:52:24.134Z"
   },
   {
    "duration": 29,
    "start_time": "2023-07-05T11:54:27.298Z"
   },
   {
    "duration": 7,
    "start_time": "2023-07-05T11:55:07.891Z"
   },
   {
    "duration": 27,
    "start_time": "2023-07-05T11:55:08.328Z"
   },
   {
    "duration": 22,
    "start_time": "2023-07-05T11:56:19.631Z"
   },
   {
    "duration": 19,
    "start_time": "2023-07-05T11:56:28.216Z"
   },
   {
    "duration": 24,
    "start_time": "2023-07-05T11:58:02.217Z"
   },
   {
    "duration": 86,
    "start_time": "2023-07-05T12:00:29.611Z"
   },
   {
    "duration": 133,
    "start_time": "2023-07-05T12:00:32.898Z"
   },
   {
    "duration": 2157,
    "start_time": "2023-07-05T12:00:34.642Z"
   },
   {
    "duration": 550,
    "start_time": "2023-07-05T12:00:46.143Z"
   },
   {
    "duration": 121,
    "start_time": "2023-07-05T12:00:46.695Z"
   },
   {
    "duration": 2098,
    "start_time": "2023-07-05T12:00:46.818Z"
   },
   {
    "duration": 17,
    "start_time": "2023-07-05T12:00:48.954Z"
   },
   {
    "duration": 16,
    "start_time": "2023-07-05T12:00:48.973Z"
   },
   {
    "duration": 28,
    "start_time": "2023-07-05T12:00:48.991Z"
   },
   {
    "duration": 25,
    "start_time": "2023-07-05T12:00:49.020Z"
   },
   {
    "duration": 188,
    "start_time": "2023-07-05T12:00:49.047Z"
   },
   {
    "duration": 9,
    "start_time": "2023-07-05T12:00:49.237Z"
   },
   {
    "duration": 22,
    "start_time": "2023-07-05T12:00:49.249Z"
   },
   {
    "duration": 15,
    "start_time": "2023-07-05T12:00:49.273Z"
   },
   {
    "duration": 17,
    "start_time": "2023-07-05T12:00:49.290Z"
   },
   {
    "duration": 16,
    "start_time": "2023-07-05T12:00:49.308Z"
   },
   {
    "duration": 5,
    "start_time": "2023-07-05T12:00:49.325Z"
   },
   {
    "duration": 65,
    "start_time": "2023-07-05T12:00:49.331Z"
   },
   {
    "duration": 27,
    "start_time": "2023-07-05T12:00:49.399Z"
   },
   {
    "duration": 35,
    "start_time": "2023-07-05T12:00:49.428Z"
   },
   {
    "duration": 12,
    "start_time": "2023-07-05T12:00:49.465Z"
   },
   {
    "duration": 39,
    "start_time": "2023-07-05T12:00:49.479Z"
   },
   {
    "duration": 13,
    "start_time": "2023-07-05T12:00:49.520Z"
   },
   {
    "duration": 12,
    "start_time": "2023-07-05T12:00:49.534Z"
   },
   {
    "duration": 307,
    "start_time": "2023-07-05T12:00:49.548Z"
   },
   {
    "duration": 3,
    "start_time": "2023-07-05T12:02:51.438Z"
   },
   {
    "duration": 2,
    "start_time": "2023-07-05T12:03:39.672Z"
   },
   {
    "duration": 2566,
    "start_time": "2023-07-05T12:03:45.570Z"
   },
   {
    "duration": 3,
    "start_time": "2023-07-05T12:05:24.256Z"
   },
   {
    "duration": 10,
    "start_time": "2023-07-05T12:05:57.979Z"
   },
   {
    "duration": 7,
    "start_time": "2023-07-05T12:07:08.815Z"
   },
   {
    "duration": 490,
    "start_time": "2023-07-05T12:11:31.412Z"
   },
   {
    "duration": 127,
    "start_time": "2023-07-05T12:11:31.904Z"
   },
   {
    "duration": 15,
    "start_time": "2023-07-05T12:11:32.032Z"
   },
   {
    "duration": 2332,
    "start_time": "2023-07-05T12:11:32.049Z"
   },
   {
    "duration": 3,
    "start_time": "2023-07-05T12:11:34.383Z"
   },
   {
    "duration": 23,
    "start_time": "2023-07-05T12:11:34.388Z"
   },
   {
    "duration": 9,
    "start_time": "2023-07-05T12:11:34.412Z"
   },
   {
    "duration": 23,
    "start_time": "2023-07-05T12:11:34.423Z"
   },
   {
    "duration": 5,
    "start_time": "2023-07-05T12:11:34.448Z"
   },
   {
    "duration": 4,
    "start_time": "2023-07-05T12:11:34.456Z"
   },
   {
    "duration": 5,
    "start_time": "2023-07-05T12:11:34.461Z"
   },
   {
    "duration": 18,
    "start_time": "2023-07-05T12:11:34.468Z"
   },
   {
    "duration": 3,
    "start_time": "2023-07-05T12:11:34.487Z"
   },
   {
    "duration": 10,
    "start_time": "2023-07-05T12:11:34.491Z"
   },
   {
    "duration": 14,
    "start_time": "2023-07-05T12:11:34.503Z"
   },
   {
    "duration": 20,
    "start_time": "2023-07-05T12:11:34.518Z"
   },
   {
    "duration": 14,
    "start_time": "2023-07-05T12:11:34.539Z"
   },
   {
    "duration": 40,
    "start_time": "2023-07-05T12:11:34.554Z"
   },
   {
    "duration": 18,
    "start_time": "2023-07-05T12:11:34.597Z"
   },
   {
    "duration": 32,
    "start_time": "2023-07-05T12:11:34.617Z"
   },
   {
    "duration": 25,
    "start_time": "2023-07-05T12:11:34.651Z"
   },
   {
    "duration": 18,
    "start_time": "2023-07-05T12:11:34.678Z"
   },
   {
    "duration": 15,
    "start_time": "2023-07-05T12:11:34.698Z"
   },
   {
    "duration": 38,
    "start_time": "2023-07-05T12:11:34.715Z"
   },
   {
    "duration": 304,
    "start_time": "2023-07-05T12:11:34.754Z"
   },
   {
    "duration": 559,
    "start_time": "2023-07-05T12:17:07.884Z"
   },
   {
    "duration": 128,
    "start_time": "2023-07-05T12:17:08.445Z"
   },
   {
    "duration": 17,
    "start_time": "2023-07-05T12:17:08.575Z"
   },
   {
    "duration": 2159,
    "start_time": "2023-07-05T12:17:08.594Z"
   },
   {
    "duration": 3,
    "start_time": "2023-07-05T12:17:10.756Z"
   },
   {
    "duration": 14,
    "start_time": "2023-07-05T12:17:10.761Z"
   },
   {
    "duration": 7,
    "start_time": "2023-07-05T12:17:10.777Z"
   },
   {
    "duration": 17,
    "start_time": "2023-07-05T12:17:10.785Z"
   },
   {
    "duration": 5,
    "start_time": "2023-07-05T12:17:10.804Z"
   },
   {
    "duration": 7,
    "start_time": "2023-07-05T12:17:10.810Z"
   },
   {
    "duration": 4,
    "start_time": "2023-07-05T12:17:10.819Z"
   },
   {
    "duration": 21,
    "start_time": "2023-07-05T12:17:10.824Z"
   },
   {
    "duration": 20,
    "start_time": "2023-07-05T12:17:10.847Z"
   },
   {
    "duration": 6,
    "start_time": "2023-07-05T12:17:10.872Z"
   },
   {
    "duration": 5,
    "start_time": "2023-07-05T12:17:10.880Z"
   },
   {
    "duration": 7,
    "start_time": "2023-07-05T12:17:10.886Z"
   },
   {
    "duration": 7,
    "start_time": "2023-07-05T12:17:10.895Z"
   },
   {
    "duration": 11,
    "start_time": "2023-07-05T12:17:10.903Z"
   },
   {
    "duration": 37,
    "start_time": "2023-07-05T12:17:10.916Z"
   },
   {
    "duration": 20,
    "start_time": "2023-07-05T12:17:10.968Z"
   },
   {
    "duration": 25,
    "start_time": "2023-07-05T12:17:10.989Z"
   },
   {
    "duration": 14,
    "start_time": "2023-07-05T12:17:11.016Z"
   },
   {
    "duration": 43,
    "start_time": "2023-07-05T12:17:11.032Z"
   },
   {
    "duration": 13,
    "start_time": "2023-07-05T12:17:11.077Z"
   },
   {
    "duration": 20,
    "start_time": "2023-07-05T12:17:11.091Z"
   },
   {
    "duration": 314,
    "start_time": "2023-07-05T12:17:11.113Z"
   },
   {
    "duration": 5,
    "start_time": "2023-07-05T12:24:09.426Z"
   },
   {
    "duration": 9,
    "start_time": "2023-07-05T12:24:18.613Z"
   },
   {
    "duration": 8,
    "start_time": "2023-07-05T12:24:33.675Z"
   },
   {
    "duration": 19,
    "start_time": "2023-07-05T12:25:16.283Z"
   },
   {
    "duration": 31,
    "start_time": "2023-07-05T12:26:11.125Z"
   },
   {
    "duration": 21,
    "start_time": "2023-07-05T12:26:57.788Z"
   },
   {
    "duration": 19,
    "start_time": "2023-07-05T12:26:58.300Z"
   },
   {
    "duration": 19,
    "start_time": "2023-07-05T12:27:04.609Z"
   },
   {
    "duration": 91,
    "start_time": "2023-07-05T12:27:37.329Z"
   },
   {
    "duration": 2,
    "start_time": "2023-07-05T12:29:50.486Z"
   },
   {
    "duration": 3,
    "start_time": "2023-07-05T12:30:28.478Z"
   },
   {
    "duration": 3,
    "start_time": "2023-07-05T12:31:25.934Z"
   },
   {
    "duration": 2,
    "start_time": "2023-07-05T12:32:19.855Z"
   },
   {
    "duration": 93,
    "start_time": "2023-07-05T12:33:43.649Z"
   },
   {
    "duration": 25,
    "start_time": "2023-07-05T12:35:34.124Z"
   },
   {
    "duration": 464,
    "start_time": "2023-07-05T12:35:58.072Z"
   },
   {
    "duration": 2,
    "start_time": "2023-07-05T12:36:29.954Z"
   },
   {
    "duration": 554,
    "start_time": "2023-07-05T12:36:30.922Z"
   },
   {
    "duration": 417,
    "start_time": "2023-07-05T12:40:12.579Z"
   },
   {
    "duration": 439,
    "start_time": "2023-07-05T12:40:56.397Z"
   },
   {
    "duration": 431,
    "start_time": "2023-07-05T12:41:07.268Z"
   },
   {
    "duration": 637,
    "start_time": "2023-07-05T12:41:39.089Z"
   },
   {
    "duration": 834,
    "start_time": "2023-07-05T12:41:58.393Z"
   },
   {
    "duration": 11,
    "start_time": "2023-07-05T12:44:22.325Z"
   },
   {
    "duration": 107,
    "start_time": "2023-07-05T12:46:34.350Z"
   },
   {
    "duration": 31,
    "start_time": "2023-07-05T12:49:05.702Z"
   },
   {
    "duration": 37,
    "start_time": "2023-07-05T12:50:17.845Z"
   },
   {
    "duration": 214,
    "start_time": "2023-07-05T12:51:21.604Z"
   },
   {
    "duration": 224,
    "start_time": "2023-07-05T12:51:40.900Z"
   },
   {
    "duration": 191,
    "start_time": "2023-07-05T12:54:25.426Z"
   },
   {
    "duration": 220,
    "start_time": "2023-07-05T12:54:33.707Z"
   },
   {
    "duration": 205,
    "start_time": "2023-07-05T12:56:15.109Z"
   },
   {
    "duration": 211,
    "start_time": "2023-07-05T12:56:28.711Z"
   },
   {
    "duration": 618,
    "start_time": "2023-07-05T12:58:36.437Z"
   },
   {
    "duration": 481,
    "start_time": "2023-07-05T13:00:18.917Z"
   },
   {
    "duration": 566,
    "start_time": "2023-07-05T13:00:32.341Z"
   },
   {
    "duration": 469,
    "start_time": "2023-07-05T13:00:49.934Z"
   },
   {
    "duration": 501,
    "start_time": "2023-07-05T13:00:58.205Z"
   },
   {
    "duration": 587,
    "start_time": "2023-07-05T13:03:33.909Z"
   },
   {
    "duration": 311,
    "start_time": "2023-07-05T13:04:24.016Z"
   },
   {
    "duration": 295,
    "start_time": "2023-07-05T13:04:57.655Z"
   },
   {
    "duration": 293,
    "start_time": "2023-07-05T13:05:01.224Z"
   },
   {
    "duration": 213,
    "start_time": "2023-07-05T13:05:13.249Z"
   },
   {
    "duration": 14,
    "start_time": "2023-07-05T13:05:48.856Z"
   },
   {
    "duration": 3,
    "start_time": "2023-07-05T13:07:19.528Z"
   },
   {
    "duration": 15,
    "start_time": "2023-07-05T13:07:24.785Z"
   },
   {
    "duration": 38,
    "start_time": "2023-07-05T13:08:56.232Z"
   },
   {
    "duration": 7,
    "start_time": "2023-07-05T13:09:50.790Z"
   },
   {
    "duration": 7,
    "start_time": "2023-07-05T13:11:24.690Z"
   },
   {
    "duration": 1638,
    "start_time": "2023-07-05T13:13:41.587Z"
   },
   {
    "duration": 7,
    "start_time": "2023-07-05T13:14:12.163Z"
   },
   {
    "duration": 9,
    "start_time": "2023-07-05T13:14:33.705Z"
   },
   {
    "duration": 10,
    "start_time": "2023-07-05T13:16:15.547Z"
   },
   {
    "duration": 7,
    "start_time": "2023-07-05T13:16:35.611Z"
   },
   {
    "duration": 100,
    "start_time": "2023-07-05T13:17:23.392Z"
   },
   {
    "duration": 274,
    "start_time": "2023-07-05T13:21:38.601Z"
   },
   {
    "duration": 437,
    "start_time": "2023-07-05T13:22:03.837Z"
   },
   {
    "duration": 248,
    "start_time": "2023-07-05T13:22:29.054Z"
   },
   {
    "duration": 254,
    "start_time": "2023-07-05T13:22:38.822Z"
   },
   {
    "duration": 348,
    "start_time": "2023-07-05T13:31:59.085Z"
   },
   {
    "duration": 599,
    "start_time": "2023-07-05T13:32:07.659Z"
   },
   {
    "duration": 138,
    "start_time": "2023-07-05T13:32:08.260Z"
   },
   {
    "duration": 16,
    "start_time": "2023-07-05T13:32:08.401Z"
   },
   {
    "duration": 2450,
    "start_time": "2023-07-05T13:32:08.420Z"
   },
   {
    "duration": 6,
    "start_time": "2023-07-05T13:32:10.873Z"
   },
   {
    "duration": 13,
    "start_time": "2023-07-05T13:32:10.882Z"
   },
   {
    "duration": 7,
    "start_time": "2023-07-05T13:32:10.897Z"
   },
   {
    "duration": 17,
    "start_time": "2023-07-05T13:32:10.906Z"
   },
   {
    "duration": 5,
    "start_time": "2023-07-05T13:32:10.925Z"
   },
   {
    "duration": 4,
    "start_time": "2023-07-05T13:32:10.933Z"
   },
   {
    "duration": 29,
    "start_time": "2023-07-05T13:32:10.939Z"
   },
   {
    "duration": 12,
    "start_time": "2023-07-05T13:32:10.971Z"
   },
   {
    "duration": 102,
    "start_time": "2023-07-05T13:32:10.985Z"
   },
   {
    "duration": 0,
    "start_time": "2023-07-05T13:32:11.090Z"
   },
   {
    "duration": 0,
    "start_time": "2023-07-05T13:32:11.092Z"
   },
   {
    "duration": 0,
    "start_time": "2023-07-05T13:32:11.094Z"
   },
   {
    "duration": 0,
    "start_time": "2023-07-05T13:32:11.096Z"
   },
   {
    "duration": 1,
    "start_time": "2023-07-05T13:32:11.097Z"
   },
   {
    "duration": 0,
    "start_time": "2023-07-05T13:32:11.100Z"
   },
   {
    "duration": 0,
    "start_time": "2023-07-05T13:32:11.101Z"
   },
   {
    "duration": 0,
    "start_time": "2023-07-05T13:32:11.104Z"
   },
   {
    "duration": 0,
    "start_time": "2023-07-05T13:32:11.106Z"
   },
   {
    "duration": 0,
    "start_time": "2023-07-05T13:32:11.107Z"
   },
   {
    "duration": 0,
    "start_time": "2023-07-05T13:32:11.109Z"
   },
   {
    "duration": 0,
    "start_time": "2023-07-05T13:32:11.110Z"
   },
   {
    "duration": 0,
    "start_time": "2023-07-05T13:32:11.112Z"
   },
   {
    "duration": 0,
    "start_time": "2023-07-05T13:32:11.113Z"
   },
   {
    "duration": 0,
    "start_time": "2023-07-05T13:32:11.115Z"
   },
   {
    "duration": 0,
    "start_time": "2023-07-05T13:32:11.117Z"
   },
   {
    "duration": 0,
    "start_time": "2023-07-05T13:32:11.118Z"
   },
   {
    "duration": 0,
    "start_time": "2023-07-05T13:32:11.120Z"
   },
   {
    "duration": 1,
    "start_time": "2023-07-05T13:32:11.121Z"
   },
   {
    "duration": 0,
    "start_time": "2023-07-05T13:32:11.167Z"
   },
   {
    "duration": 0,
    "start_time": "2023-07-05T13:32:11.169Z"
   },
   {
    "duration": 1,
    "start_time": "2023-07-05T13:32:11.171Z"
   },
   {
    "duration": 0,
    "start_time": "2023-07-05T13:32:11.173Z"
   },
   {
    "duration": 0,
    "start_time": "2023-07-05T13:32:11.175Z"
   },
   {
    "duration": 0,
    "start_time": "2023-07-05T13:32:11.176Z"
   },
   {
    "duration": 0,
    "start_time": "2023-07-05T13:32:11.177Z"
   },
   {
    "duration": 0,
    "start_time": "2023-07-05T13:32:11.179Z"
   },
   {
    "duration": 0,
    "start_time": "2023-07-05T13:32:11.181Z"
   },
   {
    "duration": 0,
    "start_time": "2023-07-05T13:32:11.182Z"
   },
   {
    "duration": 0,
    "start_time": "2023-07-05T13:32:11.184Z"
   },
   {
    "duration": 1,
    "start_time": "2023-07-05T13:32:11.185Z"
   },
   {
    "duration": 0,
    "start_time": "2023-07-05T13:32:11.187Z"
   },
   {
    "duration": 16,
    "start_time": "2023-07-05T13:33:47.410Z"
   },
   {
    "duration": 20,
    "start_time": "2023-07-05T13:34:31.389Z"
   },
   {
    "duration": 5,
    "start_time": "2023-07-05T13:35:09.486Z"
   },
   {
    "duration": 19,
    "start_time": "2023-07-05T13:35:10.099Z"
   },
   {
    "duration": 13,
    "start_time": "2023-07-05T13:35:11.454Z"
   },
   {
    "duration": 2426,
    "start_time": "2023-07-05T13:35:54.198Z"
   },
   {
    "duration": 10,
    "start_time": "2023-07-05T13:36:08.533Z"
   },
   {
    "duration": 12,
    "start_time": "2023-07-05T13:36:11.797Z"
   },
   {
    "duration": 13,
    "start_time": "2023-07-05T13:36:18.389Z"
   },
   {
    "duration": 13,
    "start_time": "2023-07-05T13:36:20.853Z"
   },
   {
    "duration": 4,
    "start_time": "2023-07-05T13:36:24.229Z"
   },
   {
    "duration": 10,
    "start_time": "2023-07-05T13:36:46.654Z"
   },
   {
    "duration": 20,
    "start_time": "2023-07-05T13:36:51.582Z"
   },
   {
    "duration": 20,
    "start_time": "2023-07-05T13:36:58.082Z"
   },
   {
    "duration": 21,
    "start_time": "2023-07-05T13:38:38.462Z"
   },
   {
    "duration": 17,
    "start_time": "2023-07-05T13:39:47.366Z"
   },
   {
    "duration": 6,
    "start_time": "2023-07-05T13:40:50.221Z"
   },
   {
    "duration": 7,
    "start_time": "2023-07-05T13:40:54.359Z"
   },
   {
    "duration": 10,
    "start_time": "2023-07-05T13:41:05.136Z"
   },
   {
    "duration": 18,
    "start_time": "2023-07-05T13:41:08.158Z"
   },
   {
    "duration": 8,
    "start_time": "2023-07-05T13:41:11.983Z"
   },
   {
    "duration": 23,
    "start_time": "2023-07-05T13:41:12.576Z"
   },
   {
    "duration": 17,
    "start_time": "2023-07-05T13:41:13.111Z"
   },
   {
    "duration": 20,
    "start_time": "2023-07-05T13:41:16.902Z"
   },
   {
    "duration": 26,
    "start_time": "2023-07-05T13:41:17.327Z"
   },
   {
    "duration": 82,
    "start_time": "2023-07-05T13:41:21.235Z"
   },
   {
    "duration": 632,
    "start_time": "2023-07-05T13:41:24.503Z"
   },
   {
    "duration": 422,
    "start_time": "2023-07-05T13:41:28.214Z"
   },
   {
    "duration": 12,
    "start_time": "2023-07-05T13:41:28.637Z"
   },
   {
    "duration": 227,
    "start_time": "2023-07-05T13:41:32.703Z"
   },
   {
    "duration": 213,
    "start_time": "2023-07-05T13:41:33.195Z"
   },
   {
    "duration": 474,
    "start_time": "2023-07-05T13:41:38.327Z"
   },
   {
    "duration": 441,
    "start_time": "2023-07-05T13:41:41.766Z"
   },
   {
    "duration": 233,
    "start_time": "2023-07-05T13:41:42.314Z"
   },
   {
    "duration": 4,
    "start_time": "2023-07-05T13:41:44.991Z"
   },
   {
    "duration": 15,
    "start_time": "2023-07-05T13:41:45.454Z"
   },
   {
    "duration": 12,
    "start_time": "2023-07-05T13:41:47.144Z"
   },
   {
    "duration": 14,
    "start_time": "2023-07-05T13:41:47.550Z"
   },
   {
    "duration": 15,
    "start_time": "2023-07-05T13:41:47.934Z"
   },
   {
    "duration": 15,
    "start_time": "2023-07-05T13:41:50.221Z"
   },
   {
    "duration": 308,
    "start_time": "2023-07-05T13:41:50.525Z"
   },
   {
    "duration": 8,
    "start_time": "2023-07-05T13:41:53.414Z"
   },
   {
    "duration": 113,
    "start_time": "2023-07-05T13:41:55.833Z"
   },
   {
    "duration": 272,
    "start_time": "2023-07-05T13:41:56.222Z"
   },
   {
    "duration": 400,
    "start_time": "2023-07-05T13:41:57.133Z"
   },
   {
    "duration": 204,
    "start_time": "2023-07-05T13:41:57.904Z"
   },
   {
    "duration": 289,
    "start_time": "2023-07-05T13:41:58.138Z"
   },
   {
    "duration": 167,
    "start_time": "2023-07-05T13:42:00.288Z"
   },
   {
    "duration": 208,
    "start_time": "2023-07-05T13:42:04.025Z"
   },
   {
    "duration": 18,
    "start_time": "2023-07-05T13:42:05.069Z"
   },
   {
    "duration": 292,
    "start_time": "2023-07-05T13:43:31.408Z"
   },
   {
    "duration": 13,
    "start_time": "2023-07-05T13:43:59.831Z"
   },
   {
    "duration": 291,
    "start_time": "2023-07-05T13:47:16.673Z"
   },
   {
    "duration": 13,
    "start_time": "2023-07-05T13:49:25.114Z"
   },
   {
    "duration": 13,
    "start_time": "2023-07-05T13:49:31.328Z"
   },
   {
    "duration": 14,
    "start_time": "2023-07-05T13:49:44.163Z"
   },
   {
    "duration": 14,
    "start_time": "2023-07-05T13:50:27.716Z"
   },
   {
    "duration": 8,
    "start_time": "2023-07-05T13:51:42.756Z"
   },
   {
    "duration": 13,
    "start_time": "2023-07-05T13:51:48.739Z"
   },
   {
    "duration": 14,
    "start_time": "2023-07-05T13:53:12.876Z"
   },
   {
    "duration": 13,
    "start_time": "2023-07-05T13:54:18.313Z"
   },
   {
    "duration": 4,
    "start_time": "2023-07-05T13:54:32.934Z"
   },
   {
    "duration": 18,
    "start_time": "2023-07-05T13:54:42.001Z"
   },
   {
    "duration": 15,
    "start_time": "2023-07-05T13:54:58.219Z"
   },
   {
    "duration": 1323,
    "start_time": "2023-07-05T13:56:16.599Z"
   },
   {
    "duration": 6,
    "start_time": "2023-07-05T13:56:24.528Z"
   },
   {
    "duration": 4,
    "start_time": "2023-07-05T13:56:40.100Z"
   },
   {
    "duration": 308,
    "start_time": "2023-07-05T13:56:41.969Z"
   },
   {
    "duration": 259,
    "start_time": "2023-07-05T13:59:24.350Z"
   },
   {
    "duration": 4,
    "start_time": "2023-07-05T14:00:08.923Z"
   },
   {
    "duration": 219,
    "start_time": "2023-07-05T14:00:09.388Z"
   },
   {
    "duration": 262,
    "start_time": "2023-07-05T14:01:02.429Z"
   },
   {
    "duration": 249,
    "start_time": "2023-07-05T14:01:49.562Z"
   },
   {
    "duration": 232,
    "start_time": "2023-07-05T14:04:19.278Z"
   },
   {
    "duration": 189,
    "start_time": "2023-07-05T14:06:20.137Z"
   },
   {
    "duration": 330,
    "start_time": "2023-07-05T14:06:34.475Z"
   },
   {
    "duration": 193,
    "start_time": "2023-07-05T14:07:08.085Z"
   },
   {
    "duration": 224,
    "start_time": "2023-07-05T14:07:34.200Z"
   },
   {
    "duration": 556,
    "start_time": "2023-07-05T14:11:24.592Z"
   },
   {
    "duration": 148,
    "start_time": "2023-07-05T14:11:25.150Z"
   },
   {
    "duration": 18,
    "start_time": "2023-07-05T14:11:25.301Z"
   },
   {
    "duration": 2528,
    "start_time": "2023-07-05T14:11:25.321Z"
   },
   {
    "duration": 4,
    "start_time": "2023-07-05T14:11:27.852Z"
   },
   {
    "duration": 20,
    "start_time": "2023-07-05T14:11:27.858Z"
   },
   {
    "duration": 20,
    "start_time": "2023-07-05T14:11:27.881Z"
   },
   {
    "duration": 19,
    "start_time": "2023-07-05T14:11:27.904Z"
   },
   {
    "duration": 11,
    "start_time": "2023-07-05T14:11:27.925Z"
   },
   {
    "duration": 46,
    "start_time": "2023-07-05T14:11:27.940Z"
   },
   {
    "duration": 14,
    "start_time": "2023-07-05T14:11:27.991Z"
   },
   {
    "duration": 14,
    "start_time": "2023-07-05T14:11:28.007Z"
   },
   {
    "duration": 15,
    "start_time": "2023-07-05T14:11:28.023Z"
   },
   {
    "duration": 23,
    "start_time": "2023-07-05T14:11:28.069Z"
   },
   {
    "duration": 5,
    "start_time": "2023-07-05T14:11:28.094Z"
   },
   {
    "duration": 15,
    "start_time": "2023-07-05T14:11:28.101Z"
   },
   {
    "duration": 18,
    "start_time": "2023-07-05T14:11:28.118Z"
   },
   {
    "duration": 49,
    "start_time": "2023-07-05T14:11:28.138Z"
   },
   {
    "duration": 25,
    "start_time": "2023-07-05T14:11:28.189Z"
   },
   {
    "duration": 114,
    "start_time": "2023-07-05T14:11:28.215Z"
   },
   {
    "duration": 662,
    "start_time": "2023-07-05T14:11:28.331Z"
   },
   {
    "duration": 449,
    "start_time": "2023-07-05T14:11:28.995Z"
   },
   {
    "duration": 39,
    "start_time": "2023-07-05T14:11:29.446Z"
   },
   {
    "duration": 30,
    "start_time": "2023-07-05T14:11:29.489Z"
   },
   {
    "duration": 225,
    "start_time": "2023-07-05T14:11:29.521Z"
   },
   {
    "duration": 619,
    "start_time": "2023-07-05T14:11:29.747Z"
   },
   {
    "duration": 496,
    "start_time": "2023-07-05T14:11:30.369Z"
   },
   {
    "duration": 230,
    "start_time": "2023-07-05T14:11:30.885Z"
   },
   {
    "duration": 3,
    "start_time": "2023-07-05T14:11:31.117Z"
   },
   {
    "duration": 51,
    "start_time": "2023-07-05T14:11:31.122Z"
   },
   {
    "duration": 32,
    "start_time": "2023-07-05T14:11:31.176Z"
   },
   {
    "duration": 37,
    "start_time": "2023-07-05T14:11:31.210Z"
   },
   {
    "duration": 55,
    "start_time": "2023-07-05T14:11:31.249Z"
   },
   {
    "duration": 69,
    "start_time": "2023-07-05T14:11:31.306Z"
   },
   {
    "duration": 348,
    "start_time": "2023-07-05T14:11:31.377Z"
   },
   {
    "duration": 8,
    "start_time": "2023-07-05T14:11:31.727Z"
   },
   {
    "duration": 149,
    "start_time": "2023-07-05T14:11:31.737Z"
   },
   {
    "duration": 325,
    "start_time": "2023-07-05T14:11:31.888Z"
   },
   {
    "duration": 291,
    "start_time": "2023-07-05T14:11:32.215Z"
   },
   {
    "duration": 390,
    "start_time": "2023-07-05T14:11:32.509Z"
   },
   {
    "duration": 235,
    "start_time": "2023-07-05T14:11:32.901Z"
   },
   {
    "duration": 196,
    "start_time": "2023-07-05T14:11:33.137Z"
   },
   {
    "duration": 180,
    "start_time": "2023-07-05T14:11:33.335Z"
   },
   {
    "duration": 6,
    "start_time": "2023-07-05T14:11:33.516Z"
   },
   {
    "duration": 231,
    "start_time": "2023-07-05T14:11:33.523Z"
   },
   {
    "duration": 345,
    "start_time": "2023-07-05T14:11:33.756Z"
   },
   {
    "duration": 331,
    "start_time": "2023-07-05T14:11:34.104Z"
   },
   {
    "duration": 359,
    "start_time": "2023-07-05T14:11:34.437Z"
   },
   {
    "duration": 232,
    "start_time": "2023-07-05T14:11:34.798Z"
   },
   {
    "duration": 208,
    "start_time": "2023-07-05T14:11:35.032Z"
   },
   {
    "duration": 164,
    "start_time": "2023-07-05T14:14:44.755Z"
   },
   {
    "duration": 153,
    "start_time": "2023-07-05T14:15:16.213Z"
   },
   {
    "duration": 232,
    "start_time": "2023-07-05T14:16:23.266Z"
   },
   {
    "duration": 563,
    "start_time": "2023-07-05T14:26:56.434Z"
   },
   {
    "duration": 2,
    "start_time": "2023-07-05T14:30:31.297Z"
   },
   {
    "duration": 1422,
    "start_time": "2023-07-05T14:31:59.582Z"
   },
   {
    "duration": 130,
    "start_time": "2023-07-05T14:33:27.178Z"
   },
   {
    "duration": 417,
    "start_time": "2023-07-05T14:33:50.498Z"
   },
   {
    "duration": 414,
    "start_time": "2023-07-05T14:34:47.548Z"
   },
   {
    "duration": 429,
    "start_time": "2023-07-05T14:35:30.260Z"
   },
   {
    "duration": 1425,
    "start_time": "2023-07-05T14:35:45.723Z"
   },
   {
    "duration": 11,
    "start_time": "2023-07-05T14:36:07.386Z"
   },
   {
    "duration": 398,
    "start_time": "2023-07-05T14:38:08.565Z"
   },
   {
    "duration": 12,
    "start_time": "2023-07-05T14:38:21.975Z"
   },
   {
    "duration": 185,
    "start_time": "2023-07-05T14:41:36.876Z"
   },
   {
    "duration": 182,
    "start_time": "2023-07-05T14:41:50.287Z"
   },
   {
    "duration": 293,
    "start_time": "2023-07-05T14:43:21.677Z"
   },
   {
    "duration": 102,
    "start_time": "2023-07-05T14:43:32.509Z"
   },
   {
    "duration": 294,
    "start_time": "2023-07-05T14:43:44.854Z"
   },
   {
    "duration": 510,
    "start_time": "2023-07-05T14:55:06.787Z"
   },
   {
    "duration": 149,
    "start_time": "2023-07-05T14:55:07.299Z"
   },
   {
    "duration": 28,
    "start_time": "2023-07-05T14:55:07.450Z"
   },
   {
    "duration": 2237,
    "start_time": "2023-07-05T14:55:07.480Z"
   },
   {
    "duration": 4,
    "start_time": "2023-07-05T14:55:09.720Z"
   },
   {
    "duration": 18,
    "start_time": "2023-07-05T14:55:09.725Z"
   },
   {
    "duration": 14,
    "start_time": "2023-07-05T14:55:09.744Z"
   },
   {
    "duration": 17,
    "start_time": "2023-07-05T14:55:09.760Z"
   },
   {
    "duration": 11,
    "start_time": "2023-07-05T14:55:09.779Z"
   },
   {
    "duration": 23,
    "start_time": "2023-07-05T14:55:09.791Z"
   },
   {
    "duration": 29,
    "start_time": "2023-07-05T14:55:09.817Z"
   },
   {
    "duration": 13,
    "start_time": "2023-07-05T14:55:09.848Z"
   },
   {
    "duration": 21,
    "start_time": "2023-07-05T14:55:09.867Z"
   },
   {
    "duration": 22,
    "start_time": "2023-07-05T14:55:09.891Z"
   },
   {
    "duration": 17,
    "start_time": "2023-07-05T14:55:09.914Z"
   },
   {
    "duration": 16,
    "start_time": "2023-07-05T14:55:09.933Z"
   },
   {
    "duration": 45,
    "start_time": "2023-07-05T14:55:09.951Z"
   },
   {
    "duration": 31,
    "start_time": "2023-07-05T14:55:09.998Z"
   },
   {
    "duration": 71,
    "start_time": "2023-07-05T14:55:10.030Z"
   },
   {
    "duration": 78,
    "start_time": "2023-07-05T14:55:10.103Z"
   },
   {
    "duration": 531,
    "start_time": "2023-07-05T14:55:10.184Z"
   },
   {
    "duration": 390,
    "start_time": "2023-07-05T14:55:10.717Z"
   },
   {
    "duration": 12,
    "start_time": "2023-07-05T14:55:11.110Z"
   },
   {
    "duration": 46,
    "start_time": "2023-07-05T14:55:11.123Z"
   },
   {
    "duration": 216,
    "start_time": "2023-07-05T14:55:11.171Z"
   },
   {
    "duration": 538,
    "start_time": "2023-07-05T14:55:11.389Z"
   },
   {
    "duration": 399,
    "start_time": "2023-07-05T14:55:11.929Z"
   },
   {
    "duration": 221,
    "start_time": "2023-07-05T14:55:12.330Z"
   },
   {
    "duration": 3,
    "start_time": "2023-07-05T14:55:12.552Z"
   },
   {
    "duration": 16,
    "start_time": "2023-07-05T14:55:12.567Z"
   },
   {
    "duration": 17,
    "start_time": "2023-07-05T14:55:12.584Z"
   },
   {
    "duration": 12,
    "start_time": "2023-07-05T14:55:12.603Z"
   },
   {
    "duration": 15,
    "start_time": "2023-07-05T14:55:12.617Z"
   },
   {
    "duration": 46,
    "start_time": "2023-07-05T14:55:12.633Z"
   },
   {
    "duration": 311,
    "start_time": "2023-07-05T14:55:12.681Z"
   },
   {
    "duration": 7,
    "start_time": "2023-07-05T14:55:12.994Z"
   },
   {
    "duration": 107,
    "start_time": "2023-07-05T14:55:13.002Z"
   },
   {
    "duration": 206,
    "start_time": "2023-07-05T14:55:13.111Z"
   },
   {
    "duration": 200,
    "start_time": "2023-07-05T14:55:13.319Z"
   },
   {
    "duration": 206,
    "start_time": "2023-07-05T14:55:13.521Z"
   },
   {
    "duration": 369,
    "start_time": "2023-07-05T14:55:13.731Z"
   },
   {
    "duration": 175,
    "start_time": "2023-07-05T14:55:14.102Z"
   },
   {
    "duration": 169,
    "start_time": "2023-07-05T14:55:14.279Z"
   },
   {
    "duration": 5,
    "start_time": "2023-07-05T14:55:14.450Z"
   },
   {
    "duration": 199,
    "start_time": "2023-07-05T14:55:14.457Z"
   },
   {
    "duration": 222,
    "start_time": "2023-07-05T14:55:14.658Z"
   },
   {
    "duration": 214,
    "start_time": "2023-07-05T14:55:14.882Z"
   },
   {
    "duration": 195,
    "start_time": "2023-07-05T14:55:15.098Z"
   },
   {
    "duration": 209,
    "start_time": "2023-07-05T14:55:15.294Z"
   },
   {
    "duration": 197,
    "start_time": "2023-07-05T14:55:15.505Z"
   },
   {
    "duration": 240,
    "start_time": "2023-07-05T14:55:15.704Z"
   },
   {
    "duration": 521,
    "start_time": "2023-07-05T14:55:15.946Z"
   },
   {
    "duration": 39,
    "start_time": "2023-07-05T14:55:16.469Z"
   },
   {
    "duration": 12,
    "start_time": "2023-07-05T14:55:16.510Z"
   },
   {
    "duration": 235,
    "start_time": "2023-07-05T14:55:16.524Z"
   },
   {
    "duration": 318,
    "start_time": "2023-07-05T14:55:16.761Z"
   },
   {
    "duration": 604,
    "start_time": "2023-07-06T08:19:25.765Z"
   },
   {
    "duration": 155,
    "start_time": "2023-07-06T08:19:26.371Z"
   },
   {
    "duration": 27,
    "start_time": "2023-07-06T08:19:26.528Z"
   },
   {
    "duration": 2558,
    "start_time": "2023-07-06T08:19:26.557Z"
   },
   {
    "duration": 4,
    "start_time": "2023-07-06T08:19:29.120Z"
   },
   {
    "duration": 14,
    "start_time": "2023-07-06T08:19:29.126Z"
   },
   {
    "duration": 14,
    "start_time": "2023-07-06T08:19:29.142Z"
   },
   {
    "duration": 14,
    "start_time": "2023-07-06T08:19:29.157Z"
   },
   {
    "duration": 11,
    "start_time": "2023-07-06T08:19:29.173Z"
   },
   {
    "duration": 9,
    "start_time": "2023-07-06T08:19:29.186Z"
   },
   {
    "duration": 17,
    "start_time": "2023-07-06T08:19:29.197Z"
   },
   {
    "duration": 45,
    "start_time": "2023-07-06T08:19:29.215Z"
   },
   {
    "duration": 13,
    "start_time": "2023-07-06T08:19:29.262Z"
   },
   {
    "duration": 21,
    "start_time": "2023-07-06T08:19:29.279Z"
   },
   {
    "duration": 6,
    "start_time": "2023-07-06T08:19:29.301Z"
   },
   {
    "duration": 52,
    "start_time": "2023-07-06T08:19:29.309Z"
   },
   {
    "duration": 17,
    "start_time": "2023-07-06T08:19:29.364Z"
   },
   {
    "duration": 25,
    "start_time": "2023-07-06T08:19:29.383Z"
   },
   {
    "duration": 24,
    "start_time": "2023-07-06T08:19:29.410Z"
   },
   {
    "duration": 71,
    "start_time": "2023-07-06T08:19:29.455Z"
   },
   {
    "duration": 575,
    "start_time": "2023-07-06T08:19:29.528Z"
   },
   {
    "duration": 409,
    "start_time": "2023-07-06T08:19:30.105Z"
   },
   {
    "duration": 12,
    "start_time": "2023-07-06T08:19:30.516Z"
   },
   {
    "duration": 184,
    "start_time": "2023-07-06T08:19:30.529Z"
   },
   {
    "duration": 221,
    "start_time": "2023-07-06T08:19:30.715Z"
   },
   {
    "duration": 438,
    "start_time": "2023-07-06T08:19:30.939Z"
   },
   {
    "duration": 389,
    "start_time": "2023-07-06T08:19:31.380Z"
   },
   {
    "duration": 201,
    "start_time": "2023-07-06T08:19:31.772Z"
   },
   {
    "duration": 4,
    "start_time": "2023-07-06T08:19:31.975Z"
   },
   {
    "duration": 32,
    "start_time": "2023-07-06T08:19:31.980Z"
   },
   {
    "duration": 17,
    "start_time": "2023-07-06T08:19:32.014Z"
   },
   {
    "duration": 35,
    "start_time": "2023-07-06T08:19:32.033Z"
   },
   {
    "duration": 14,
    "start_time": "2023-07-06T08:19:32.070Z"
   },
   {
    "duration": 14,
    "start_time": "2023-07-06T08:19:32.086Z"
   },
   {
    "duration": 336,
    "start_time": "2023-07-06T08:19:32.102Z"
   },
   {
    "duration": 15,
    "start_time": "2023-07-06T08:19:32.440Z"
   },
   {
    "duration": 107,
    "start_time": "2023-07-06T08:19:32.457Z"
   },
   {
    "duration": 200,
    "start_time": "2023-07-06T08:19:32.566Z"
   },
   {
    "duration": 210,
    "start_time": "2023-07-06T08:19:32.768Z"
   },
   {
    "duration": 319,
    "start_time": "2023-07-06T08:19:32.980Z"
   },
   {
    "duration": 226,
    "start_time": "2023-07-06T08:19:33.304Z"
   },
   {
    "duration": 170,
    "start_time": "2023-07-06T08:19:33.532Z"
   },
   {
    "duration": 176,
    "start_time": "2023-07-06T08:19:33.704Z"
   },
   {
    "duration": 5,
    "start_time": "2023-07-06T08:19:33.882Z"
   },
   {
    "duration": 230,
    "start_time": "2023-07-06T08:19:33.888Z"
   },
   {
    "duration": 235,
    "start_time": "2023-07-06T08:19:34.120Z"
   },
   {
    "duration": 211,
    "start_time": "2023-07-06T08:19:34.357Z"
   },
   {
    "duration": 198,
    "start_time": "2023-07-06T08:19:34.569Z"
   },
   {
    "duration": 302,
    "start_time": "2023-07-06T08:19:34.769Z"
   },
   {
    "duration": 202,
    "start_time": "2023-07-06T08:19:35.073Z"
   },
   {
    "duration": 155,
    "start_time": "2023-07-06T08:19:35.277Z"
   },
   {
    "duration": 546,
    "start_time": "2023-07-06T08:19:35.434Z"
   },
   {
    "duration": 37,
    "start_time": "2023-07-06T08:19:35.982Z"
   },
   {
    "duration": 10,
    "start_time": "2023-07-06T08:19:36.020Z"
   },
   {
    "duration": 205,
    "start_time": "2023-07-06T08:19:36.032Z"
   },
   {
    "duration": 321,
    "start_time": "2023-07-06T08:19:36.239Z"
   },
   {
    "duration": 51,
    "start_time": "2023-07-06T09:04:51.937Z"
   },
   {
    "duration": 552,
    "start_time": "2023-07-06T09:05:02.856Z"
   },
   {
    "duration": 115,
    "start_time": "2023-07-06T09:05:03.411Z"
   },
   {
    "duration": 13,
    "start_time": "2023-07-06T09:05:03.527Z"
   },
   {
    "duration": 2134,
    "start_time": "2023-07-06T09:05:03.542Z"
   },
   {
    "duration": 3,
    "start_time": "2023-07-06T09:05:05.678Z"
   },
   {
    "duration": 27,
    "start_time": "2023-07-06T09:05:05.682Z"
   },
   {
    "duration": 15,
    "start_time": "2023-07-06T09:05:05.711Z"
   },
   {
    "duration": 12,
    "start_time": "2023-07-06T09:05:05.728Z"
   },
   {
    "duration": 9,
    "start_time": "2023-07-06T09:05:05.742Z"
   },
   {
    "duration": 14,
    "start_time": "2023-07-06T09:05:05.753Z"
   },
   {
    "duration": 11,
    "start_time": "2023-07-06T09:05:05.769Z"
   },
   {
    "duration": 11,
    "start_time": "2023-07-06T09:05:05.782Z"
   },
   {
    "duration": 14,
    "start_time": "2023-07-06T09:05:05.795Z"
   },
   {
    "duration": 16,
    "start_time": "2023-07-06T09:05:05.813Z"
   },
   {
    "duration": 5,
    "start_time": "2023-07-06T09:05:05.831Z"
   },
   {
    "duration": 15,
    "start_time": "2023-07-06T09:05:05.867Z"
   },
   {
    "duration": 23,
    "start_time": "2023-07-06T09:05:05.884Z"
   },
   {
    "duration": 18,
    "start_time": "2023-07-06T09:05:05.909Z"
   },
   {
    "duration": 52,
    "start_time": "2023-07-06T09:05:05.929Z"
   },
   {
    "duration": 65,
    "start_time": "2023-07-06T09:05:05.983Z"
   },
   {
    "duration": 488,
    "start_time": "2023-07-06T09:05:06.050Z"
   },
   {
    "duration": 329,
    "start_time": "2023-07-06T09:05:06.539Z"
   },
   {
    "duration": 9,
    "start_time": "2023-07-06T09:05:06.869Z"
   },
   {
    "duration": 127,
    "start_time": "2023-07-06T09:05:06.879Z"
   },
   {
    "duration": 185,
    "start_time": "2023-07-06T09:05:07.008Z"
   },
   {
    "duration": 385,
    "start_time": "2023-07-06T09:05:07.195Z"
   },
   {
    "duration": 332,
    "start_time": "2023-07-06T09:05:07.582Z"
   },
   {
    "duration": 172,
    "start_time": "2023-07-06T09:05:07.915Z"
   },
   {
    "duration": 2,
    "start_time": "2023-07-06T09:05:08.089Z"
   },
   {
    "duration": 15,
    "start_time": "2023-07-06T09:05:08.093Z"
   },
   {
    "duration": 10,
    "start_time": "2023-07-06T09:05:08.109Z"
   },
   {
    "duration": 12,
    "start_time": "2023-07-06T09:05:08.120Z"
   },
   {
    "duration": 40,
    "start_time": "2023-07-06T09:05:08.134Z"
   },
   {
    "duration": 12,
    "start_time": "2023-07-06T09:05:08.176Z"
   },
   {
    "duration": 268,
    "start_time": "2023-07-06T09:05:08.190Z"
   },
   {
    "duration": 11,
    "start_time": "2023-07-06T09:05:08.460Z"
   },
   {
    "duration": 96,
    "start_time": "2023-07-06T09:05:08.473Z"
   },
   {
    "duration": 165,
    "start_time": "2023-07-06T09:05:08.571Z"
   },
   {
    "duration": 176,
    "start_time": "2023-07-06T09:05:08.738Z"
   },
   {
    "duration": 262,
    "start_time": "2023-07-06T09:05:08.916Z"
   },
   {
    "duration": 201,
    "start_time": "2023-07-06T09:05:09.182Z"
   },
   {
    "duration": 151,
    "start_time": "2023-07-06T09:05:09.384Z"
   },
   {
    "duration": 150,
    "start_time": "2023-07-06T09:05:09.537Z"
   },
   {
    "duration": 5,
    "start_time": "2023-07-06T09:05:09.688Z"
   },
   {
    "duration": 181,
    "start_time": "2023-07-06T09:05:09.694Z"
   },
   {
    "duration": 182,
    "start_time": "2023-07-06T09:05:09.877Z"
   },
   {
    "duration": 158,
    "start_time": "2023-07-06T09:05:10.061Z"
   },
   {
    "duration": 183,
    "start_time": "2023-07-06T09:05:10.220Z"
   },
   {
    "duration": 250,
    "start_time": "2023-07-06T09:05:10.404Z"
   },
   {
    "duration": 172,
    "start_time": "2023-07-06T09:05:10.656Z"
   },
   {
    "duration": 123,
    "start_time": "2023-07-06T09:05:10.830Z"
   },
   {
    "duration": 462,
    "start_time": "2023-07-06T09:05:10.955Z"
   },
   {
    "duration": 33,
    "start_time": "2023-07-06T09:05:11.419Z"
   },
   {
    "duration": 23,
    "start_time": "2023-07-06T09:05:11.453Z"
   },
   {
    "duration": 164,
    "start_time": "2023-07-06T09:05:11.478Z"
   },
   {
    "duration": 267,
    "start_time": "2023-07-06T09:05:11.643Z"
   },
   {
    "duration": 12,
    "start_time": "2023-07-06T09:05:23.556Z"
   },
   {
    "duration": 9,
    "start_time": "2023-07-06T09:06:41.756Z"
   },
   {
    "duration": 12,
    "start_time": "2023-07-06T09:06:49.989Z"
   },
   {
    "duration": 8,
    "start_time": "2023-07-06T09:06:55.952Z"
   },
   {
    "duration": 8,
    "start_time": "2023-07-06T09:07:01.097Z"
   },
   {
    "duration": 5,
    "start_time": "2023-07-06T09:08:02.348Z"
   },
   {
    "duration": 89,
    "start_time": "2023-07-06T09:08:24.462Z"
   },
   {
    "duration": 7,
    "start_time": "2023-07-06T09:09:08.643Z"
   },
   {
    "duration": 9,
    "start_time": "2023-07-06T09:09:31.371Z"
   },
   {
    "duration": 11,
    "start_time": "2023-07-06T09:09:47.201Z"
   },
   {
    "duration": 9,
    "start_time": "2023-07-06T09:09:49.187Z"
   },
   {
    "duration": 9,
    "start_time": "2023-07-06T09:10:03.654Z"
   },
   {
    "duration": 14,
    "start_time": "2023-07-06T09:10:11.661Z"
   },
   {
    "duration": 9,
    "start_time": "2023-07-06T09:10:18.387Z"
   },
   {
    "duration": 15,
    "start_time": "2023-07-06T09:10:27.631Z"
   },
   {
    "duration": 17,
    "start_time": "2023-07-06T09:11:49.134Z"
   },
   {
    "duration": 11,
    "start_time": "2023-07-06T09:14:49.417Z"
   },
   {
    "duration": 10,
    "start_time": "2023-07-06T09:14:54.974Z"
   },
   {
    "duration": 9,
    "start_time": "2023-07-06T09:15:00.255Z"
   },
   {
    "duration": 9,
    "start_time": "2023-07-06T09:15:08.765Z"
   },
   {
    "duration": 389,
    "start_time": "2023-07-06T09:15:15.654Z"
   },
   {
    "duration": 257,
    "start_time": "2023-07-06T09:15:21.218Z"
   },
   {
    "duration": 95,
    "start_time": "2023-07-06T09:15:42.734Z"
   },
   {
    "duration": 7,
    "start_time": "2023-07-06T09:15:48.617Z"
   },
   {
    "duration": 26,
    "start_time": "2023-07-06T09:19:33.655Z"
   },
   {
    "duration": 22,
    "start_time": "2023-07-06T09:19:43.099Z"
   },
   {
    "duration": 530,
    "start_time": "2023-07-06T09:21:31.852Z"
   },
   {
    "duration": 110,
    "start_time": "2023-07-06T09:21:32.385Z"
   },
   {
    "duration": 14,
    "start_time": "2023-07-06T09:21:32.496Z"
   },
   {
    "duration": 2001,
    "start_time": "2023-07-06T09:21:32.511Z"
   },
   {
    "duration": 3,
    "start_time": "2023-07-06T09:21:34.514Z"
   },
   {
    "duration": 12,
    "start_time": "2023-07-06T09:21:34.519Z"
   },
   {
    "duration": 11,
    "start_time": "2023-07-06T09:21:34.533Z"
   },
   {
    "duration": 11,
    "start_time": "2023-07-06T09:21:34.546Z"
   },
   {
    "duration": 9,
    "start_time": "2023-07-06T09:21:34.568Z"
   },
   {
    "duration": 13,
    "start_time": "2023-07-06T09:21:34.579Z"
   },
   {
    "duration": 19,
    "start_time": "2023-07-06T09:21:34.593Z"
   },
   {
    "duration": 12,
    "start_time": "2023-07-06T09:21:34.613Z"
   },
   {
    "duration": 16,
    "start_time": "2023-07-06T09:21:34.627Z"
   },
   {
    "duration": 10,
    "start_time": "2023-07-06T09:21:34.667Z"
   },
   {
    "duration": 12,
    "start_time": "2023-07-06T09:21:34.679Z"
   },
   {
    "duration": 5,
    "start_time": "2023-07-06T09:21:34.692Z"
   },
   {
    "duration": 14,
    "start_time": "2023-07-06T09:21:34.698Z"
   },
   {
    "duration": 14,
    "start_time": "2023-07-06T09:21:34.713Z"
   },
   {
    "duration": 49,
    "start_time": "2023-07-06T09:21:34.728Z"
   },
   {
    "duration": 23,
    "start_time": "2023-07-06T09:21:34.779Z"
   },
   {
    "duration": 85,
    "start_time": "2023-07-06T09:21:34.803Z"
   },
   {
    "duration": 507,
    "start_time": "2023-07-06T09:21:34.889Z"
   },
   {
    "duration": 331,
    "start_time": "2023-07-06T09:21:35.398Z"
   },
   {
    "duration": 9,
    "start_time": "2023-07-06T09:21:35.730Z"
   },
   {
    "duration": 34,
    "start_time": "2023-07-06T09:21:35.741Z"
   },
   {
    "duration": 193,
    "start_time": "2023-07-06T09:21:35.776Z"
   },
   {
    "duration": 461,
    "start_time": "2023-07-06T09:21:35.971Z"
   },
   {
    "duration": 336,
    "start_time": "2023-07-06T09:21:36.434Z"
   },
   {
    "duration": 168,
    "start_time": "2023-07-06T09:21:36.772Z"
   },
   {
    "duration": 3,
    "start_time": "2023-07-06T09:21:36.942Z"
   },
   {
    "duration": 26,
    "start_time": "2023-07-06T09:21:36.946Z"
   },
   {
    "duration": 10,
    "start_time": "2023-07-06T09:21:36.974Z"
   },
   {
    "duration": 20,
    "start_time": "2023-07-06T09:21:36.986Z"
   },
   {
    "duration": 11,
    "start_time": "2023-07-06T09:21:37.008Z"
   },
   {
    "duration": 11,
    "start_time": "2023-07-06T09:21:37.021Z"
   },
   {
    "duration": 305,
    "start_time": "2023-07-06T09:21:37.034Z"
   },
   {
    "duration": 7,
    "start_time": "2023-07-06T09:21:37.340Z"
   },
   {
    "duration": 99,
    "start_time": "2023-07-06T09:21:37.348Z"
   },
   {
    "duration": 171,
    "start_time": "2023-07-06T09:21:37.448Z"
   },
   {
    "duration": 185,
    "start_time": "2023-07-06T09:21:37.621Z"
   },
   {
    "duration": 195,
    "start_time": "2023-07-06T09:21:37.811Z"
   },
   {
    "duration": 271,
    "start_time": "2023-07-06T09:21:38.008Z"
   },
   {
    "duration": 142,
    "start_time": "2023-07-06T09:21:38.281Z"
   },
   {
    "duration": 151,
    "start_time": "2023-07-06T09:21:38.425Z"
   },
   {
    "duration": 5,
    "start_time": "2023-07-06T09:21:38.578Z"
   },
   {
    "duration": 186,
    "start_time": "2023-07-06T09:21:38.584Z"
   },
   {
    "duration": 183,
    "start_time": "2023-07-06T09:21:38.771Z"
   },
   {
    "duration": 172,
    "start_time": "2023-07-06T09:21:38.955Z"
   },
   {
    "duration": 164,
    "start_time": "2023-07-06T09:21:39.129Z"
   },
   {
    "duration": 184,
    "start_time": "2023-07-06T09:21:39.295Z"
   },
   {
    "duration": 168,
    "start_time": "2023-07-06T09:21:39.481Z"
   },
   {
    "duration": 192,
    "start_time": "2023-07-06T09:21:39.651Z"
   },
   {
    "duration": 456,
    "start_time": "2023-07-06T09:21:39.845Z"
   },
   {
    "duration": 22,
    "start_time": "2023-07-06T09:21:40.303Z"
   },
   {
    "duration": 14,
    "start_time": "2023-07-06T09:21:40.326Z"
   },
   {
    "duration": 164,
    "start_time": "2023-07-06T09:21:40.341Z"
   },
   {
    "duration": 245,
    "start_time": "2023-07-06T09:21:40.507Z"
   },
   {
    "duration": 111,
    "start_time": "2023-07-06T09:28:18.490Z"
   },
   {
    "duration": 103,
    "start_time": "2023-07-06T09:28:27.156Z"
   },
   {
    "duration": 82,
    "start_time": "2023-07-06T09:28:31.615Z"
   },
   {
    "duration": 5,
    "start_time": "2023-07-06T14:12:17.632Z"
   },
   {
    "duration": 65,
    "start_time": "2023-07-06T14:22:53.255Z"
   },
   {
    "duration": 9,
    "start_time": "2023-07-06T14:29:12.235Z"
   },
   {
    "duration": 7,
    "start_time": "2023-07-06T14:40:44.256Z"
   },
   {
    "duration": 1166,
    "start_time": "2023-07-06T14:41:03.809Z"
   },
   {
    "duration": 101,
    "start_time": "2023-07-06T14:41:04.977Z"
   },
   {
    "duration": 26,
    "start_time": "2023-07-06T14:41:05.080Z"
   },
   {
    "duration": 2585,
    "start_time": "2023-07-06T14:41:05.113Z"
   },
   {
    "duration": 8,
    "start_time": "2023-07-06T14:41:07.700Z"
   },
   {
    "duration": 35,
    "start_time": "2023-07-06T14:41:07.711Z"
   },
   {
    "duration": 19,
    "start_time": "2023-07-06T14:41:07.748Z"
   },
   {
    "duration": 47,
    "start_time": "2023-07-06T14:41:07.769Z"
   },
   {
    "duration": 12,
    "start_time": "2023-07-06T14:41:07.819Z"
   },
   {
    "duration": 37,
    "start_time": "2023-07-06T14:41:07.834Z"
   },
   {
    "duration": 17,
    "start_time": "2023-07-06T14:41:07.873Z"
   },
   {
    "duration": 43,
    "start_time": "2023-07-06T14:41:07.891Z"
   },
   {
    "duration": 39,
    "start_time": "2023-07-06T14:41:07.936Z"
   },
   {
    "duration": 18,
    "start_time": "2023-07-06T14:41:07.976Z"
   },
   {
    "duration": 50,
    "start_time": "2023-07-06T14:41:07.995Z"
   },
   {
    "duration": 6,
    "start_time": "2023-07-06T14:41:08.047Z"
   },
   {
    "duration": 34,
    "start_time": "2023-07-06T14:41:08.055Z"
   },
   {
    "duration": 44,
    "start_time": "2023-07-06T14:41:08.091Z"
   },
   {
    "duration": 25,
    "start_time": "2023-07-06T14:41:08.137Z"
   },
   {
    "duration": 42,
    "start_time": "2023-07-06T14:41:08.164Z"
   },
   {
    "duration": 97,
    "start_time": "2023-07-06T14:41:08.210Z"
   },
   {
    "duration": 599,
    "start_time": "2023-07-06T14:41:08.309Z"
   },
   {
    "duration": 432,
    "start_time": "2023-07-06T14:41:08.911Z"
   },
   {
    "duration": 11,
    "start_time": "2023-07-06T14:41:09.345Z"
   },
   {
    "duration": 166,
    "start_time": "2023-07-06T14:41:09.358Z"
   },
   {
    "duration": 227,
    "start_time": "2023-07-06T14:41:09.526Z"
   },
   {
    "duration": 465,
    "start_time": "2023-07-06T14:41:09.755Z"
   },
   {
    "duration": 502,
    "start_time": "2023-07-06T14:41:10.226Z"
   },
   {
    "duration": 238,
    "start_time": "2023-07-06T14:41:10.731Z"
   },
   {
    "duration": 3,
    "start_time": "2023-07-06T14:41:10.971Z"
   },
   {
    "duration": 19,
    "start_time": "2023-07-06T14:41:10.975Z"
   },
   {
    "duration": 19,
    "start_time": "2023-07-06T14:41:11.005Z"
   },
   {
    "duration": 20,
    "start_time": "2023-07-06T14:41:11.026Z"
   },
   {
    "duration": 11,
    "start_time": "2023-07-06T14:41:11.048Z"
   },
   {
    "duration": 11,
    "start_time": "2023-07-06T14:41:11.060Z"
   },
   {
    "duration": 357,
    "start_time": "2023-07-06T14:41:11.073Z"
   },
   {
    "duration": 7,
    "start_time": "2023-07-06T14:41:11.431Z"
   },
   {
    "duration": 125,
    "start_time": "2023-07-06T14:41:11.439Z"
   },
   {
    "duration": 209,
    "start_time": "2023-07-06T14:41:11.566Z"
   },
   {
    "duration": 251,
    "start_time": "2023-07-06T14:41:11.777Z"
   },
   {
    "duration": 333,
    "start_time": "2023-07-06T14:41:12.029Z"
   },
   {
    "duration": 245,
    "start_time": "2023-07-06T14:41:12.363Z"
   },
   {
    "duration": 180,
    "start_time": "2023-07-06T14:41:12.611Z"
   },
   {
    "duration": 195,
    "start_time": "2023-07-06T14:41:12.793Z"
   },
   {
    "duration": 17,
    "start_time": "2023-07-06T14:41:12.990Z"
   },
   {
    "duration": 244,
    "start_time": "2023-07-06T14:41:13.011Z"
   },
   {
    "duration": 239,
    "start_time": "2023-07-06T14:41:13.257Z"
   },
   {
    "duration": 241,
    "start_time": "2023-07-06T14:41:13.503Z"
   },
   {
    "duration": 231,
    "start_time": "2023-07-06T14:41:13.746Z"
   },
   {
    "duration": 315,
    "start_time": "2023-07-06T14:41:13.979Z"
   },
   {
    "duration": 216,
    "start_time": "2023-07-06T14:41:14.296Z"
   },
   {
    "duration": 145,
    "start_time": "2023-07-06T14:41:14.516Z"
   },
   {
    "duration": 581,
    "start_time": "2023-07-06T14:41:14.663Z"
   },
   {
    "duration": 26,
    "start_time": "2023-07-06T14:41:15.247Z"
   },
   {
    "duration": 7,
    "start_time": "2023-07-06T14:41:15.275Z"
   },
   {
    "duration": 115,
    "start_time": "2023-07-06T14:41:15.283Z"
   },
   {
    "duration": 0,
    "start_time": "2023-07-06T14:41:15.402Z"
   },
   {
    "duration": 0,
    "start_time": "2023-07-06T14:41:15.404Z"
   },
   {
    "duration": 0,
    "start_time": "2023-07-06T14:41:15.405Z"
   },
   {
    "duration": 22,
    "start_time": "2023-07-06T14:48:01.089Z"
   },
   {
    "duration": 15,
    "start_time": "2023-07-06T14:49:42.115Z"
   },
   {
    "duration": 2,
    "start_time": "2023-07-06T14:53:52.322Z"
   },
   {
    "duration": 2,
    "start_time": "2023-07-06T14:54:00.891Z"
   },
   {
    "duration": 172,
    "start_time": "2023-07-06T14:54:29.146Z"
   },
   {
    "duration": 72,
    "start_time": "2023-07-06T14:54:54.101Z"
   },
   {
    "duration": 189,
    "start_time": "2023-07-06T14:55:00.547Z"
   },
   {
    "duration": 192,
    "start_time": "2023-07-06T14:55:10.364Z"
   },
   {
    "duration": 188,
    "start_time": "2023-07-06T14:56:42.487Z"
   },
   {
    "duration": 274,
    "start_time": "2023-07-06T14:56:48.934Z"
   },
   {
    "duration": 168,
    "start_time": "2023-07-06T14:59:33.311Z"
   },
   {
    "duration": 182,
    "start_time": "2023-07-06T14:59:46.589Z"
   },
   {
    "duration": 166,
    "start_time": "2023-07-06T14:59:55.940Z"
   },
   {
    "duration": 191,
    "start_time": "2023-07-06T15:00:32.185Z"
   },
   {
    "duration": 97,
    "start_time": "2023-07-06T15:01:19.653Z"
   },
   {
    "duration": 1274,
    "start_time": "2023-07-06T15:01:57.917Z"
   },
   {
    "duration": 237,
    "start_time": "2023-07-06T15:03:05.320Z"
   },
   {
    "duration": 193,
    "start_time": "2023-07-06T15:03:27.283Z"
   },
   {
    "duration": 210,
    "start_time": "2023-07-06T15:07:42.447Z"
   },
   {
    "duration": 165,
    "start_time": "2023-07-06T15:07:49.226Z"
   },
   {
    "duration": 182,
    "start_time": "2023-07-06T15:08:55.621Z"
   },
   {
    "duration": 60,
    "start_time": "2023-07-06T15:12:35.639Z"
   },
   {
    "duration": 243,
    "start_time": "2023-07-06T15:13:02.921Z"
   },
   {
    "duration": 175,
    "start_time": "2023-07-06T15:15:13.880Z"
   },
   {
    "duration": 160,
    "start_time": "2023-07-06T15:20:10.733Z"
   },
   {
    "duration": 81,
    "start_time": "2023-07-06T15:20:17.995Z"
   },
   {
    "duration": 92,
    "start_time": "2023-07-06T15:20:25.955Z"
   },
   {
    "duration": 13,
    "start_time": "2023-07-06T15:28:19.160Z"
   },
   {
    "duration": 12,
    "start_time": "2023-07-06T15:32:32.443Z"
   },
   {
    "duration": 53,
    "start_time": "2023-07-06T15:41:01.508Z"
   },
   {
    "duration": 59,
    "start_time": "2023-07-06T15:41:09.739Z"
   },
   {
    "duration": 22,
    "start_time": "2023-07-06T15:41:42.716Z"
   },
   {
    "duration": 16,
    "start_time": "2023-07-06T15:41:56.844Z"
   },
   {
    "duration": 17,
    "start_time": "2023-07-06T15:42:01.995Z"
   },
   {
    "duration": 19,
    "start_time": "2023-07-06T15:42:05.541Z"
   },
   {
    "duration": 32,
    "start_time": "2023-07-06T15:43:16.956Z"
   },
   {
    "duration": 29,
    "start_time": "2023-07-06T15:44:00.551Z"
   },
   {
    "duration": 24,
    "start_time": "2023-07-06T15:44:18.833Z"
   },
   {
    "duration": 36,
    "start_time": "2023-07-06T15:44:22.503Z"
   },
   {
    "duration": 31,
    "start_time": "2023-07-06T15:44:33.095Z"
   },
   {
    "duration": 25,
    "start_time": "2023-07-06T15:44:57.305Z"
   },
   {
    "duration": 45,
    "start_time": "2023-07-06T15:45:05.268Z"
   },
   {
    "duration": 33,
    "start_time": "2023-07-06T15:45:13.213Z"
   },
   {
    "duration": 28,
    "start_time": "2023-07-06T15:45:13.355Z"
   },
   {
    "duration": 38,
    "start_time": "2023-07-06T15:45:47.564Z"
   },
   {
    "duration": 38,
    "start_time": "2023-07-06T15:46:40.038Z"
   },
   {
    "duration": 54,
    "start_time": "2023-07-06T15:48:54.596Z"
   },
   {
    "duration": 61,
    "start_time": "2023-07-06T15:51:14.163Z"
   },
   {
    "duration": 525,
    "start_time": "2023-07-06T15:53:38.247Z"
   },
   {
    "duration": 105,
    "start_time": "2023-07-06T15:53:38.774Z"
   },
   {
    "duration": 28,
    "start_time": "2023-07-06T15:53:38.881Z"
   },
   {
    "duration": 2651,
    "start_time": "2023-07-06T15:53:38.912Z"
   },
   {
    "duration": 5,
    "start_time": "2023-07-06T15:53:41.565Z"
   },
   {
    "duration": 17,
    "start_time": "2023-07-06T15:53:41.572Z"
   },
   {
    "duration": 15,
    "start_time": "2023-07-06T15:53:41.591Z"
   },
   {
    "duration": 12,
    "start_time": "2023-07-06T15:53:41.608Z"
   },
   {
    "duration": 13,
    "start_time": "2023-07-06T15:53:41.621Z"
   },
   {
    "duration": 12,
    "start_time": "2023-07-06T15:53:41.637Z"
   },
   {
    "duration": 24,
    "start_time": "2023-07-06T15:53:41.650Z"
   },
   {
    "duration": 138,
    "start_time": "2023-07-06T15:53:41.676Z"
   },
   {
    "duration": 0,
    "start_time": "2023-07-06T15:53:41.816Z"
   },
   {
    "duration": 0,
    "start_time": "2023-07-06T15:53:41.818Z"
   },
   {
    "duration": 0,
    "start_time": "2023-07-06T15:53:41.819Z"
   },
   {
    "duration": 0,
    "start_time": "2023-07-06T15:53:41.821Z"
   },
   {
    "duration": 0,
    "start_time": "2023-07-06T15:53:41.823Z"
   },
   {
    "duration": 0,
    "start_time": "2023-07-06T15:53:41.824Z"
   },
   {
    "duration": 0,
    "start_time": "2023-07-06T15:53:41.825Z"
   },
   {
    "duration": 0,
    "start_time": "2023-07-06T15:53:41.827Z"
   },
   {
    "duration": 0,
    "start_time": "2023-07-06T15:53:41.828Z"
   },
   {
    "duration": 0,
    "start_time": "2023-07-06T15:53:41.831Z"
   },
   {
    "duration": 0,
    "start_time": "2023-07-06T15:53:41.832Z"
   },
   {
    "duration": 0,
    "start_time": "2023-07-06T15:53:41.834Z"
   },
   {
    "duration": 0,
    "start_time": "2023-07-06T15:53:41.836Z"
   },
   {
    "duration": 0,
    "start_time": "2023-07-06T15:53:41.837Z"
   },
   {
    "duration": 0,
    "start_time": "2023-07-06T15:53:41.838Z"
   },
   {
    "duration": 0,
    "start_time": "2023-07-06T15:53:41.840Z"
   },
   {
    "duration": 0,
    "start_time": "2023-07-06T15:53:41.841Z"
   },
   {
    "duration": 0,
    "start_time": "2023-07-06T15:53:41.844Z"
   },
   {
    "duration": 0,
    "start_time": "2023-07-06T15:53:41.845Z"
   },
   {
    "duration": 0,
    "start_time": "2023-07-06T15:53:41.847Z"
   },
   {
    "duration": 0,
    "start_time": "2023-07-06T15:53:41.848Z"
   },
   {
    "duration": 0,
    "start_time": "2023-07-06T15:53:41.849Z"
   },
   {
    "duration": 0,
    "start_time": "2023-07-06T15:53:41.850Z"
   },
   {
    "duration": 0,
    "start_time": "2023-07-06T15:53:41.851Z"
   },
   {
    "duration": 0,
    "start_time": "2023-07-06T15:53:41.851Z"
   },
   {
    "duration": 0,
    "start_time": "2023-07-06T15:53:41.852Z"
   },
   {
    "duration": 0,
    "start_time": "2023-07-06T15:53:41.852Z"
   },
   {
    "duration": 0,
    "start_time": "2023-07-06T15:53:41.903Z"
   },
   {
    "duration": 0,
    "start_time": "2023-07-06T15:53:41.905Z"
   },
   {
    "duration": 0,
    "start_time": "2023-07-06T15:53:41.906Z"
   },
   {
    "duration": 0,
    "start_time": "2023-07-06T15:53:41.908Z"
   },
   {
    "duration": 0,
    "start_time": "2023-07-06T15:53:41.909Z"
   },
   {
    "duration": 0,
    "start_time": "2023-07-06T15:53:41.910Z"
   },
   {
    "duration": 0,
    "start_time": "2023-07-06T15:53:41.912Z"
   },
   {
    "duration": 0,
    "start_time": "2023-07-06T15:53:41.913Z"
   },
   {
    "duration": 0,
    "start_time": "2023-07-06T15:53:41.914Z"
   },
   {
    "duration": 0,
    "start_time": "2023-07-06T15:53:41.915Z"
   },
   {
    "duration": 0,
    "start_time": "2023-07-06T15:53:41.917Z"
   },
   {
    "duration": 0,
    "start_time": "2023-07-06T15:53:41.919Z"
   },
   {
    "duration": 0,
    "start_time": "2023-07-06T15:53:41.920Z"
   },
   {
    "duration": 0,
    "start_time": "2023-07-06T15:53:41.922Z"
   },
   {
    "duration": 0,
    "start_time": "2023-07-06T15:53:41.923Z"
   },
   {
    "duration": 0,
    "start_time": "2023-07-06T15:53:41.924Z"
   },
   {
    "duration": 0,
    "start_time": "2023-07-06T15:53:41.925Z"
   },
   {
    "duration": 0,
    "start_time": "2023-07-06T15:53:41.926Z"
   },
   {
    "duration": 1,
    "start_time": "2023-07-06T15:53:41.927Z"
   },
   {
    "duration": 0,
    "start_time": "2023-07-06T15:53:41.929Z"
   },
   {
    "duration": 0,
    "start_time": "2023-07-06T15:53:41.930Z"
   },
   {
    "duration": 0,
    "start_time": "2023-07-06T15:53:41.932Z"
   },
   {
    "duration": 0,
    "start_time": "2023-07-06T15:53:41.932Z"
   },
   {
    "duration": 0,
    "start_time": "2023-07-06T15:53:41.934Z"
   },
   {
    "duration": 0,
    "start_time": "2023-07-06T15:53:41.935Z"
   },
   {
    "duration": 1,
    "start_time": "2023-07-06T15:53:41.936Z"
   },
   {
    "duration": 0,
    "start_time": "2023-07-06T15:53:42.003Z"
   },
   {
    "duration": 523,
    "start_time": "2023-07-06T15:54:24.495Z"
   },
   {
    "duration": 132,
    "start_time": "2023-07-06T15:54:25.021Z"
   },
   {
    "duration": 16,
    "start_time": "2023-07-06T15:54:25.155Z"
   },
   {
    "duration": 2286,
    "start_time": "2023-07-06T15:54:25.173Z"
   },
   {
    "duration": 4,
    "start_time": "2023-07-06T15:54:27.461Z"
   },
   {
    "duration": 14,
    "start_time": "2023-07-06T15:54:27.467Z"
   },
   {
    "duration": 19,
    "start_time": "2023-07-06T15:54:27.483Z"
   },
   {
    "duration": 17,
    "start_time": "2023-07-06T15:54:27.504Z"
   },
   {
    "duration": 20,
    "start_time": "2023-07-06T15:54:27.522Z"
   },
   {
    "duration": 12,
    "start_time": "2023-07-06T15:54:27.545Z"
   },
   {
    "duration": 16,
    "start_time": "2023-07-06T15:54:27.559Z"
   },
   {
    "duration": 61,
    "start_time": "2023-07-06T15:54:27.577Z"
   },
   {
    "duration": 10,
    "start_time": "2023-07-06T15:54:27.640Z"
   },
   {
    "duration": 13,
    "start_time": "2023-07-06T15:54:27.654Z"
   },
   {
    "duration": 49,
    "start_time": "2023-07-06T15:54:27.669Z"
   },
   {
    "duration": 11,
    "start_time": "2023-07-06T15:54:27.721Z"
   },
   {
    "duration": 17,
    "start_time": "2023-07-06T15:54:27.734Z"
   },
   {
    "duration": 7,
    "start_time": "2023-07-06T15:54:27.753Z"
   },
   {
    "duration": 55,
    "start_time": "2023-07-06T15:54:27.762Z"
   },
   {
    "duration": 24,
    "start_time": "2023-07-06T15:54:27.820Z"
   },
   {
    "duration": 30,
    "start_time": "2023-07-06T15:54:27.847Z"
   },
   {
    "duration": 46,
    "start_time": "2023-07-06T15:54:27.879Z"
   },
   {
    "duration": 95,
    "start_time": "2023-07-06T15:54:27.927Z"
   },
   {
    "duration": 556,
    "start_time": "2023-07-06T15:54:28.024Z"
   },
   {
    "duration": 391,
    "start_time": "2023-07-06T15:54:28.581Z"
   },
   {
    "duration": 13,
    "start_time": "2023-07-06T15:54:28.973Z"
   },
   {
    "duration": 40,
    "start_time": "2023-07-06T15:54:28.988Z"
   },
   {
    "duration": 219,
    "start_time": "2023-07-06T15:54:29.030Z"
   },
   {
    "duration": 535,
    "start_time": "2023-07-06T15:54:29.251Z"
   },
   {
    "duration": 395,
    "start_time": "2023-07-06T15:54:29.788Z"
   },
   {
    "duration": 209,
    "start_time": "2023-07-06T15:54:30.185Z"
   },
   {
    "duration": 3,
    "start_time": "2023-07-06T15:54:30.396Z"
   },
   {
    "duration": 60,
    "start_time": "2023-07-06T15:54:30.402Z"
   },
   {
    "duration": 65,
    "start_time": "2023-07-06T15:54:30.463Z"
   },
   {
    "duration": 47,
    "start_time": "2023-07-06T15:54:30.530Z"
   },
   {
    "duration": 41,
    "start_time": "2023-07-06T15:54:30.579Z"
   },
   {
    "duration": 42,
    "start_time": "2023-07-06T15:54:30.622Z"
   },
   {
    "duration": 371,
    "start_time": "2023-07-06T15:54:30.667Z"
   },
   {
    "duration": 7,
    "start_time": "2023-07-06T15:54:31.040Z"
   },
   {
    "duration": 153,
    "start_time": "2023-07-06T15:54:31.049Z"
   },
   {
    "duration": 270,
    "start_time": "2023-07-06T15:54:31.207Z"
   },
   {
    "duration": 210,
    "start_time": "2023-07-06T15:54:31.479Z"
   },
   {
    "duration": 223,
    "start_time": "2023-07-06T15:54:31.691Z"
   },
   {
    "duration": 335,
    "start_time": "2023-07-06T15:54:31.916Z"
   },
   {
    "duration": 182,
    "start_time": "2023-07-06T15:54:32.253Z"
   },
   {
    "duration": 188,
    "start_time": "2023-07-06T15:54:32.437Z"
   },
   {
    "duration": 6,
    "start_time": "2023-07-06T15:54:32.627Z"
   },
   {
    "duration": 226,
    "start_time": "2023-07-06T15:54:32.634Z"
   },
   {
    "duration": 212,
    "start_time": "2023-07-06T15:54:32.863Z"
   },
   {
    "duration": 204,
    "start_time": "2023-07-06T15:54:33.077Z"
   },
   {
    "duration": 205,
    "start_time": "2023-07-06T15:54:33.283Z"
   },
   {
    "duration": 220,
    "start_time": "2023-07-06T15:54:33.490Z"
   },
   {
    "duration": 224,
    "start_time": "2023-07-06T15:54:33.713Z"
   },
   {
    "duration": 245,
    "start_time": "2023-07-06T15:54:33.939Z"
   },
   {
    "duration": 544,
    "start_time": "2023-07-06T15:54:34.187Z"
   },
   {
    "duration": 27,
    "start_time": "2023-07-06T15:54:34.733Z"
   },
   {
    "duration": 193,
    "start_time": "2023-07-06T15:54:34.762Z"
   },
   {
    "duration": 180,
    "start_time": "2023-07-06T15:54:34.958Z"
   },
   {
    "duration": 170,
    "start_time": "2023-07-06T15:54:35.140Z"
   },
   {
    "duration": 207,
    "start_time": "2023-07-06T15:54:35.312Z"
   },
   {
    "duration": 175,
    "start_time": "2023-07-06T15:54:35.522Z"
   },
   {
    "duration": 168,
    "start_time": "2023-07-06T15:54:35.699Z"
   },
   {
    "duration": 270,
    "start_time": "2023-07-06T15:54:35.869Z"
   },
   {
    "duration": 3,
    "start_time": "2023-07-06T15:54:36.141Z"
   },
   {
    "duration": 183,
    "start_time": "2023-07-06T15:54:36.145Z"
   },
   {
    "duration": 296,
    "start_time": "2023-07-06T15:54:36.330Z"
   },
   {
    "duration": 527,
    "start_time": "2023-07-06T15:57:28.220Z"
   },
   {
    "duration": 53,
    "start_time": "2023-07-06T15:59:23.815Z"
   },
   {
    "duration": 28,
    "start_time": "2023-07-06T15:59:45.504Z"
   },
   {
    "duration": 174,
    "start_time": "2023-07-06T16:00:02.047Z"
   },
   {
    "duration": 66,
    "start_time": "2023-07-06T16:01:11.850Z"
   },
   {
    "duration": 555,
    "start_time": "2023-07-06T16:12:37.632Z"
   },
   {
    "duration": 147,
    "start_time": "2023-07-06T16:12:38.189Z"
   },
   {
    "duration": 69,
    "start_time": "2023-07-06T16:12:38.337Z"
   },
   {
    "duration": 2282,
    "start_time": "2023-07-06T16:12:38.409Z"
   },
   {
    "duration": 4,
    "start_time": "2023-07-06T16:12:40.693Z"
   },
   {
    "duration": 16,
    "start_time": "2023-07-06T16:12:40.698Z"
   },
   {
    "duration": 12,
    "start_time": "2023-07-06T16:12:40.717Z"
   },
   {
    "duration": 15,
    "start_time": "2023-07-06T16:12:40.731Z"
   },
   {
    "duration": 17,
    "start_time": "2023-07-06T16:12:40.748Z"
   },
   {
    "duration": 9,
    "start_time": "2023-07-06T16:12:40.768Z"
   },
   {
    "duration": 10,
    "start_time": "2023-07-06T16:12:40.802Z"
   },
   {
    "duration": 44,
    "start_time": "2023-07-06T16:12:40.813Z"
   },
   {
    "duration": 9,
    "start_time": "2023-07-06T16:12:40.859Z"
   },
   {
    "duration": 13,
    "start_time": "2023-07-06T16:12:40.870Z"
   },
   {
    "duration": 30,
    "start_time": "2023-07-06T16:12:40.885Z"
   },
   {
    "duration": 10,
    "start_time": "2023-07-06T16:12:40.917Z"
   },
   {
    "duration": 13,
    "start_time": "2023-07-06T16:12:40.929Z"
   },
   {
    "duration": 6,
    "start_time": "2023-07-06T16:12:40.944Z"
   },
   {
    "duration": 23,
    "start_time": "2023-07-06T16:12:40.951Z"
   },
   {
    "duration": 37,
    "start_time": "2023-07-06T16:12:40.976Z"
   },
   {
    "duration": 26,
    "start_time": "2023-07-06T16:12:41.015Z"
   },
   {
    "duration": 27,
    "start_time": "2023-07-06T16:12:41.043Z"
   },
   {
    "duration": 82,
    "start_time": "2023-07-06T16:12:41.072Z"
   },
   {
    "duration": 590,
    "start_time": "2023-07-06T16:12:41.156Z"
   },
   {
    "duration": 377,
    "start_time": "2023-07-06T16:12:41.748Z"
   },
   {
    "duration": 12,
    "start_time": "2023-07-06T16:12:42.127Z"
   },
   {
    "duration": 68,
    "start_time": "2023-07-06T16:12:42.141Z"
   },
   {
    "duration": 199,
    "start_time": "2023-07-06T16:12:42.214Z"
   },
   {
    "duration": 540,
    "start_time": "2023-07-06T16:12:42.415Z"
   },
   {
    "duration": 388,
    "start_time": "2023-07-06T16:12:42.957Z"
   },
   {
    "duration": 196,
    "start_time": "2023-07-06T16:12:43.347Z"
   },
   {
    "duration": 3,
    "start_time": "2023-07-06T16:12:43.545Z"
   },
   {
    "duration": 17,
    "start_time": "2023-07-06T16:12:43.550Z"
   },
   {
    "duration": 11,
    "start_time": "2023-07-06T16:12:43.569Z"
   },
   {
    "duration": 40,
    "start_time": "2023-07-06T16:12:43.581Z"
   },
   {
    "duration": 14,
    "start_time": "2023-07-06T16:12:43.623Z"
   },
   {
    "duration": 16,
    "start_time": "2023-07-06T16:12:43.639Z"
   },
   {
    "duration": 325,
    "start_time": "2023-07-06T16:12:43.658Z"
   },
   {
    "duration": 17,
    "start_time": "2023-07-06T16:12:43.985Z"
   },
   {
    "duration": 103,
    "start_time": "2023-07-06T16:12:44.004Z"
   },
   {
    "duration": 215,
    "start_time": "2023-07-06T16:12:44.109Z"
   },
   {
    "duration": 203,
    "start_time": "2023-07-06T16:12:44.326Z"
   },
   {
    "duration": 225,
    "start_time": "2023-07-06T16:12:44.530Z"
   },
   {
    "duration": 314,
    "start_time": "2023-07-06T16:12:44.757Z"
   },
   {
    "duration": 164,
    "start_time": "2023-07-06T16:12:45.074Z"
   },
   {
    "duration": 183,
    "start_time": "2023-07-06T16:12:45.240Z"
   },
   {
    "duration": 6,
    "start_time": "2023-07-06T16:12:45.425Z"
   },
   {
    "duration": 216,
    "start_time": "2023-07-06T16:12:45.433Z"
   },
   {
    "duration": 215,
    "start_time": "2023-07-06T16:12:45.651Z"
   },
   {
    "duration": 201,
    "start_time": "2023-07-06T16:12:45.869Z"
   },
   {
    "duration": 198,
    "start_time": "2023-07-06T16:12:46.071Z"
   },
   {
    "duration": 212,
    "start_time": "2023-07-06T16:12:46.271Z"
   },
   {
    "duration": 195,
    "start_time": "2023-07-06T16:12:46.485Z"
   },
   {
    "duration": 229,
    "start_time": "2023-07-06T16:12:46.682Z"
   },
   {
    "duration": 543,
    "start_time": "2023-07-06T16:12:46.914Z"
   },
   {
    "duration": 26,
    "start_time": "2023-07-06T16:12:47.460Z"
   },
   {
    "duration": 201,
    "start_time": "2023-07-06T16:12:47.488Z"
   },
   {
    "duration": 168,
    "start_time": "2023-07-06T16:12:47.691Z"
   },
   {
    "duration": 161,
    "start_time": "2023-07-06T16:12:47.860Z"
   },
   {
    "duration": 198,
    "start_time": "2023-07-06T16:12:48.022Z"
   },
   {
    "duration": 182,
    "start_time": "2023-07-06T16:12:48.222Z"
   },
   {
    "duration": 208,
    "start_time": "2023-07-06T16:12:48.406Z"
   },
   {
    "duration": 286,
    "start_time": "2023-07-06T16:12:48.616Z"
   },
   {
    "duration": 2,
    "start_time": "2023-07-06T16:12:48.904Z"
   },
   {
    "duration": 182,
    "start_time": "2023-07-06T16:12:48.908Z"
   },
   {
    "duration": 313,
    "start_time": "2023-07-06T16:12:49.092Z"
   },
   {
    "duration": 552,
    "start_time": "2023-07-06T16:15:36.898Z"
   },
   {
    "duration": 113,
    "start_time": "2023-07-06T16:15:37.452Z"
   },
   {
    "duration": 18,
    "start_time": "2023-07-06T16:15:37.567Z"
   },
   {
    "duration": 2288,
    "start_time": "2023-07-06T16:15:37.587Z"
   },
   {
    "duration": 3,
    "start_time": "2023-07-06T16:15:39.877Z"
   },
   {
    "duration": 16,
    "start_time": "2023-07-06T16:15:39.882Z"
   },
   {
    "duration": 15,
    "start_time": "2023-07-06T16:15:39.900Z"
   },
   {
    "duration": 33,
    "start_time": "2023-07-06T16:15:39.918Z"
   },
   {
    "duration": 20,
    "start_time": "2023-07-06T16:15:39.954Z"
   },
   {
    "duration": 13,
    "start_time": "2023-07-06T16:15:39.976Z"
   },
   {
    "duration": 19,
    "start_time": "2023-07-06T16:15:39.991Z"
   },
   {
    "duration": 50,
    "start_time": "2023-07-06T16:15:40.018Z"
   },
   {
    "duration": 9,
    "start_time": "2023-07-06T16:15:40.070Z"
   },
   {
    "duration": 23,
    "start_time": "2023-07-06T16:15:40.083Z"
   },
   {
    "duration": 28,
    "start_time": "2023-07-06T16:15:40.108Z"
   },
   {
    "duration": 11,
    "start_time": "2023-07-06T16:15:40.138Z"
   },
   {
    "duration": 17,
    "start_time": "2023-07-06T16:15:40.151Z"
   },
   {
    "duration": 8,
    "start_time": "2023-07-06T16:15:40.170Z"
   },
   {
    "duration": 24,
    "start_time": "2023-07-06T16:15:40.180Z"
   },
   {
    "duration": 26,
    "start_time": "2023-07-06T16:15:40.207Z"
   },
   {
    "duration": 23,
    "start_time": "2023-07-06T16:15:40.236Z"
   },
   {
    "duration": 35,
    "start_time": "2023-07-06T16:15:40.261Z"
   },
   {
    "duration": 95,
    "start_time": "2023-07-06T16:15:40.298Z"
   },
   {
    "duration": 729,
    "start_time": "2023-07-06T16:15:40.402Z"
   },
   {
    "duration": 400,
    "start_time": "2023-07-06T16:15:41.133Z"
   },
   {
    "duration": 11,
    "start_time": "2023-07-06T16:15:41.535Z"
   },
   {
    "duration": 29,
    "start_time": "2023-07-06T16:15:41.548Z"
   },
   {
    "duration": 229,
    "start_time": "2023-07-06T16:15:41.579Z"
   },
   {
    "duration": 576,
    "start_time": "2023-07-06T16:15:41.810Z"
   },
   {
    "duration": 402,
    "start_time": "2023-07-06T16:15:42.388Z"
   },
   {
    "duration": 748,
    "start_time": "2023-07-07T11:58:47.713Z"
   },
   {
    "duration": 115,
    "start_time": "2023-07-07T11:58:48.464Z"
   },
   {
    "duration": 21,
    "start_time": "2023-07-07T11:58:48.581Z"
   },
   {
    "duration": 2190,
    "start_time": "2023-07-07T11:58:48.605Z"
   },
   {
    "duration": 4,
    "start_time": "2023-07-07T11:58:50.798Z"
   },
   {
    "duration": 33,
    "start_time": "2023-07-07T11:58:50.803Z"
   },
   {
    "duration": 11,
    "start_time": "2023-07-07T11:58:50.838Z"
   },
   {
    "duration": 22,
    "start_time": "2023-07-07T11:58:50.851Z"
   },
   {
    "duration": 21,
    "start_time": "2023-07-07T11:58:50.875Z"
   },
   {
    "duration": 8,
    "start_time": "2023-07-07T11:58:50.898Z"
   },
   {
    "duration": 15,
    "start_time": "2023-07-07T11:58:50.908Z"
   },
   {
    "duration": 70,
    "start_time": "2023-07-07T11:58:50.924Z"
   },
   {
    "duration": 9,
    "start_time": "2023-07-07T11:58:50.996Z"
   },
   {
    "duration": 27,
    "start_time": "2023-07-07T11:58:51.006Z"
   },
   {
    "duration": 59,
    "start_time": "2023-07-07T11:58:51.035Z"
   },
   {
    "duration": 10,
    "start_time": "2023-07-07T11:58:51.096Z"
   },
   {
    "duration": 23,
    "start_time": "2023-07-07T11:58:51.107Z"
   },
   {
    "duration": 7,
    "start_time": "2023-07-07T11:58:51.131Z"
   },
   {
    "duration": 33,
    "start_time": "2023-07-07T11:58:51.140Z"
   },
   {
    "duration": 20,
    "start_time": "2023-07-07T11:58:51.175Z"
   },
   {
    "duration": 17,
    "start_time": "2023-07-07T11:58:51.197Z"
   },
   {
    "duration": 24,
    "start_time": "2023-07-07T11:58:51.216Z"
   },
   {
    "duration": 80,
    "start_time": "2023-07-07T11:58:51.242Z"
   },
   {
    "duration": 571,
    "start_time": "2023-07-07T11:58:51.323Z"
   },
   {
    "duration": 384,
    "start_time": "2023-07-07T11:58:51.896Z"
   },
   {
    "duration": 10,
    "start_time": "2023-07-07T11:58:52.282Z"
   },
   {
    "duration": 29,
    "start_time": "2023-07-07T11:58:52.294Z"
   },
   {
    "duration": 212,
    "start_time": "2023-07-07T11:58:52.327Z"
   },
   {
    "duration": 540,
    "start_time": "2023-07-07T11:58:52.540Z"
   },
   {
    "duration": 401,
    "start_time": "2023-07-07T11:58:53.081Z"
   },
   {
    "duration": 213,
    "start_time": "2023-07-07T11:58:53.484Z"
   },
   {
    "duration": 2,
    "start_time": "2023-07-07T11:58:53.699Z"
   },
   {
    "duration": 20,
    "start_time": "2023-07-07T11:58:53.703Z"
   },
   {
    "duration": 9,
    "start_time": "2023-07-07T11:58:53.725Z"
   },
   {
    "duration": 36,
    "start_time": "2023-07-07T11:58:53.736Z"
   },
   {
    "duration": 20,
    "start_time": "2023-07-07T11:58:53.773Z"
   },
   {
    "duration": 10,
    "start_time": "2023-07-07T11:58:53.795Z"
   },
   {
    "duration": 299,
    "start_time": "2023-07-07T11:58:53.806Z"
   },
   {
    "duration": 6,
    "start_time": "2023-07-07T11:58:54.107Z"
   },
   {
    "duration": 113,
    "start_time": "2023-07-07T11:58:54.115Z"
   },
   {
    "duration": 211,
    "start_time": "2023-07-07T11:58:54.230Z"
   },
   {
    "duration": 218,
    "start_time": "2023-07-07T11:58:54.443Z"
   },
   {
    "duration": 218,
    "start_time": "2023-07-07T11:58:54.665Z"
   },
   {
    "duration": 308,
    "start_time": "2023-07-07T11:58:54.885Z"
   },
   {
    "duration": 195,
    "start_time": "2023-07-07T11:58:55.195Z"
   },
   {
    "duration": 178,
    "start_time": "2023-07-07T11:58:55.392Z"
   },
   {
    "duration": 6,
    "start_time": "2023-07-07T11:58:55.572Z"
   },
   {
    "duration": 207,
    "start_time": "2023-07-07T11:58:55.580Z"
   },
   {
    "duration": 209,
    "start_time": "2023-07-07T11:58:55.789Z"
   },
   {
    "duration": 189,
    "start_time": "2023-07-07T11:58:56.000Z"
   },
   {
    "duration": 196,
    "start_time": "2023-07-07T11:58:56.190Z"
   },
   {
    "duration": 229,
    "start_time": "2023-07-07T11:58:56.388Z"
   },
   {
    "duration": 213,
    "start_time": "2023-07-07T11:58:56.619Z"
   },
   {
    "duration": 208,
    "start_time": "2023-07-07T11:58:56.834Z"
   },
   {
    "duration": 528,
    "start_time": "2023-07-07T11:58:57.044Z"
   },
   {
    "duration": 24,
    "start_time": "2023-07-07T11:58:57.574Z"
   },
   {
    "duration": 179,
    "start_time": "2023-07-07T11:58:57.600Z"
   },
   {
    "duration": 171,
    "start_time": "2023-07-07T11:58:57.781Z"
   },
   {
    "duration": 160,
    "start_time": "2023-07-07T11:58:57.956Z"
   },
   {
    "duration": 222,
    "start_time": "2023-07-07T11:58:58.118Z"
   },
   {
    "duration": 191,
    "start_time": "2023-07-07T11:58:58.342Z"
   },
   {
    "duration": 197,
    "start_time": "2023-07-07T11:58:58.535Z"
   },
   {
    "duration": 296,
    "start_time": "2023-07-07T11:58:58.734Z"
   },
   {
    "duration": 3,
    "start_time": "2023-07-07T11:58:59.032Z"
   },
   {
    "duration": 188,
    "start_time": "2023-07-07T11:58:59.037Z"
   },
   {
    "duration": 295,
    "start_time": "2023-07-07T11:58:59.228Z"
   },
   {
    "duration": 353,
    "start_time": "2023-07-07T12:01:34.547Z"
   },
   {
    "duration": 115,
    "start_time": "2023-07-07T12:01:42.036Z"
   },
   {
    "duration": 2,
    "start_time": "2023-07-07T12:01:53.580Z"
   },
   {
    "duration": 721,
    "start_time": "2023-07-09T04:42:36.319Z"
   },
   {
    "duration": 104,
    "start_time": "2023-07-09T04:42:37.043Z"
   },
   {
    "duration": 15,
    "start_time": "2023-07-09T04:42:37.148Z"
   },
   {
    "duration": 2087,
    "start_time": "2023-07-09T04:42:37.165Z"
   },
   {
    "duration": 3,
    "start_time": "2023-07-09T04:42:39.255Z"
   },
   {
    "duration": 13,
    "start_time": "2023-07-09T04:42:39.260Z"
   },
   {
    "duration": 11,
    "start_time": "2023-07-09T04:42:39.275Z"
   },
   {
    "duration": 14,
    "start_time": "2023-07-09T04:42:39.287Z"
   },
   {
    "duration": 11,
    "start_time": "2023-07-09T04:42:39.303Z"
   },
   {
    "duration": 8,
    "start_time": "2023-07-09T04:42:39.316Z"
   },
   {
    "duration": 9,
    "start_time": "2023-07-09T04:42:39.326Z"
   },
   {
    "duration": 66,
    "start_time": "2023-07-09T04:42:39.336Z"
   },
   {
    "duration": 9,
    "start_time": "2023-07-09T04:42:39.404Z"
   },
   {
    "duration": 11,
    "start_time": "2023-07-09T04:42:39.416Z"
   },
   {
    "duration": 18,
    "start_time": "2023-07-09T04:42:39.428Z"
   },
   {
    "duration": 31,
    "start_time": "2023-07-09T04:42:39.448Z"
   },
   {
    "duration": 17,
    "start_time": "2023-07-09T04:42:39.481Z"
   },
   {
    "duration": 8,
    "start_time": "2023-07-09T04:42:39.500Z"
   },
   {
    "duration": 23,
    "start_time": "2023-07-09T04:42:39.510Z"
   },
   {
    "duration": 19,
    "start_time": "2023-07-09T04:42:39.535Z"
   },
   {
    "duration": 18,
    "start_time": "2023-07-09T04:42:39.576Z"
   },
   {
    "duration": 23,
    "start_time": "2023-07-09T04:42:39.596Z"
   },
   {
    "duration": 94,
    "start_time": "2023-07-09T04:42:39.621Z"
   },
   {
    "duration": 529,
    "start_time": "2023-07-09T04:42:39.717Z"
   },
   {
    "duration": 329,
    "start_time": "2023-07-09T04:42:40.248Z"
   },
   {
    "duration": 9,
    "start_time": "2023-07-09T04:42:40.578Z"
   },
   {
    "duration": 136,
    "start_time": "2023-07-09T04:42:40.589Z"
   },
   {
    "duration": 166,
    "start_time": "2023-07-09T04:42:40.726Z"
   },
   {
    "duration": 361,
    "start_time": "2023-07-09T04:42:40.894Z"
   },
   {
    "duration": 340,
    "start_time": "2023-07-09T04:42:41.258Z"
   },
   {
    "duration": 190,
    "start_time": "2023-07-09T04:42:41.600Z"
   },
   {
    "duration": 3,
    "start_time": "2023-07-09T04:42:41.791Z"
   },
   {
    "duration": 14,
    "start_time": "2023-07-09T04:42:41.796Z"
   },
   {
    "duration": 10,
    "start_time": "2023-07-09T04:42:41.811Z"
   },
   {
    "duration": 14,
    "start_time": "2023-07-09T04:42:41.822Z"
   },
   {
    "duration": 39,
    "start_time": "2023-07-09T04:42:41.837Z"
   },
   {
    "duration": 15,
    "start_time": "2023-07-09T04:42:41.878Z"
   },
   {
    "duration": 267,
    "start_time": "2023-07-09T04:42:41.894Z"
   },
   {
    "duration": 17,
    "start_time": "2023-07-09T04:42:42.162Z"
   },
   {
    "duration": 91,
    "start_time": "2023-07-09T04:42:42.180Z"
   },
   {
    "duration": 185,
    "start_time": "2023-07-09T04:42:42.274Z"
   },
   {
    "duration": 178,
    "start_time": "2023-07-09T04:42:42.461Z"
   },
   {
    "duration": 267,
    "start_time": "2023-07-09T04:42:42.641Z"
   },
   {
    "duration": 199,
    "start_time": "2023-07-09T04:42:42.910Z"
   },
   {
    "duration": 142,
    "start_time": "2023-07-09T04:42:43.111Z"
   },
   {
    "duration": 148,
    "start_time": "2023-07-09T04:42:43.255Z"
   },
   {
    "duration": 5,
    "start_time": "2023-07-09T04:42:43.405Z"
   },
   {
    "duration": 199,
    "start_time": "2023-07-09T04:42:43.412Z"
   },
   {
    "duration": 194,
    "start_time": "2023-07-09T04:42:43.613Z"
   },
   {
    "duration": 193,
    "start_time": "2023-07-09T04:42:43.809Z"
   },
   {
    "duration": 174,
    "start_time": "2023-07-09T04:42:44.003Z"
   },
   {
    "duration": 258,
    "start_time": "2023-07-09T04:42:44.179Z"
   },
   {
    "duration": 177,
    "start_time": "2023-07-09T04:42:44.439Z"
   },
   {
    "duration": 112,
    "start_time": "2023-07-09T04:42:44.617Z"
   },
   {
    "duration": 546,
    "start_time": "2023-07-09T04:42:44.731Z"
   },
   {
    "duration": 24,
    "start_time": "2023-07-09T04:42:45.279Z"
   },
   {
    "duration": 395,
    "start_time": "2023-07-09T04:42:45.304Z"
   },
   {
    "duration": 151,
    "start_time": "2023-07-09T04:42:45.702Z"
   },
   {
    "duration": 164,
    "start_time": "2023-07-09T04:42:45.855Z"
   },
   {
    "duration": 178,
    "start_time": "2023-07-09T04:42:46.020Z"
   },
   {
    "duration": 303,
    "start_time": "2023-07-09T04:42:46.199Z"
   },
   {
    "duration": 145,
    "start_time": "2023-07-09T04:42:46.504Z"
   },
   {
    "duration": 160,
    "start_time": "2023-07-09T04:42:46.650Z"
   },
   {
    "duration": 2,
    "start_time": "2023-07-09T04:42:46.812Z"
   },
   {
    "duration": 170,
    "start_time": "2023-07-09T04:42:46.816Z"
   },
   {
    "duration": 260,
    "start_time": "2023-07-09T04:42:46.987Z"
   },
   {
    "duration": 173,
    "start_time": "2023-07-09T04:43:40.953Z"
   },
   {
    "duration": 153,
    "start_time": "2023-07-09T04:52:10.343Z"
   },
   {
    "duration": 52,
    "start_time": "2023-07-09T04:53:27.269Z"
   },
   {
    "duration": 156,
    "start_time": "2023-07-09T04:55:51.456Z"
   },
   {
    "duration": 146,
    "start_time": "2023-07-09T04:56:11.905Z"
   },
   {
    "duration": 154,
    "start_time": "2023-07-09T04:56:39.703Z"
   },
   {
    "duration": 221,
    "start_time": "2023-07-09T04:59:27.917Z"
   },
   {
    "duration": 183,
    "start_time": "2023-07-09T05:02:40.750Z"
   },
   {
    "duration": 178,
    "start_time": "2023-07-09T05:02:54.105Z"
   },
   {
    "duration": 77,
    "start_time": "2023-07-09T05:05:16.603Z"
   },
   {
    "duration": 84,
    "start_time": "2023-07-09T05:07:34.900Z"
   },
   {
    "duration": 178,
    "start_time": "2023-07-09T05:10:02.017Z"
   },
   {
    "duration": 185,
    "start_time": "2023-07-09T05:10:49.227Z"
   },
   {
    "duration": 173,
    "start_time": "2023-07-09T05:15:41.402Z"
   },
   {
    "duration": 162,
    "start_time": "2023-07-09T05:18:58.113Z"
   },
   {
    "duration": 160,
    "start_time": "2023-07-09T05:20:16.585Z"
   },
   {
    "duration": 164,
    "start_time": "2023-07-09T05:20:26.969Z"
   },
   {
    "duration": 157,
    "start_time": "2023-07-09T05:23:03.523Z"
   },
   {
    "duration": 172,
    "start_time": "2023-07-09T05:28:57.883Z"
   },
   {
    "duration": 743,
    "start_time": "2023-07-09T05:30:08.927Z"
   },
   {
    "duration": 115,
    "start_time": "2023-07-09T05:30:09.672Z"
   },
   {
    "duration": 23,
    "start_time": "2023-07-09T05:30:09.792Z"
   },
   {
    "duration": 2243,
    "start_time": "2023-07-09T05:30:09.817Z"
   },
   {
    "duration": 4,
    "start_time": "2023-07-09T05:30:12.062Z"
   },
   {
    "duration": 34,
    "start_time": "2023-07-09T05:30:12.067Z"
   },
   {
    "duration": 12,
    "start_time": "2023-07-09T05:30:12.102Z"
   },
   {
    "duration": 19,
    "start_time": "2023-07-09T05:30:12.116Z"
   },
   {
    "duration": 14,
    "start_time": "2023-07-09T05:30:12.136Z"
   },
   {
    "duration": 9,
    "start_time": "2023-07-09T05:30:12.151Z"
   },
   {
    "duration": 12,
    "start_time": "2023-07-09T05:30:12.162Z"
   },
   {
    "duration": 52,
    "start_time": "2023-07-09T05:30:12.175Z"
   },
   {
    "duration": 12,
    "start_time": "2023-07-09T05:30:12.230Z"
   },
   {
    "duration": 14,
    "start_time": "2023-07-09T05:30:12.247Z"
   },
   {
    "duration": 48,
    "start_time": "2023-07-09T05:30:12.262Z"
   },
   {
    "duration": 11,
    "start_time": "2023-07-09T05:30:12.312Z"
   },
   {
    "duration": 23,
    "start_time": "2023-07-09T05:30:12.325Z"
   },
   {
    "duration": 5,
    "start_time": "2023-07-09T05:30:12.350Z"
   },
   {
    "duration": 33,
    "start_time": "2023-07-09T05:30:12.357Z"
   },
   {
    "duration": 37,
    "start_time": "2023-07-09T05:30:12.393Z"
   },
   {
    "duration": 19,
    "start_time": "2023-07-09T05:30:12.432Z"
   },
   {
    "duration": 37,
    "start_time": "2023-07-09T05:30:12.453Z"
   },
   {
    "duration": 87,
    "start_time": "2023-07-09T05:30:12.495Z"
   },
   {
    "duration": 542,
    "start_time": "2023-07-09T05:30:12.584Z"
   },
   {
    "duration": 376,
    "start_time": "2023-07-09T05:30:13.128Z"
   },
   {
    "duration": 10,
    "start_time": "2023-07-09T05:30:13.507Z"
   },
   {
    "duration": 27,
    "start_time": "2023-07-09T05:30:13.519Z"
   },
   {
    "duration": 208,
    "start_time": "2023-07-09T05:30:13.548Z"
   },
   {
    "duration": 527,
    "start_time": "2023-07-09T05:30:13.758Z"
   },
   {
    "duration": 359,
    "start_time": "2023-07-09T05:30:14.288Z"
   },
   {
    "duration": 193,
    "start_time": "2023-07-09T05:30:14.649Z"
   },
   {
    "duration": 3,
    "start_time": "2023-07-09T05:30:14.844Z"
   },
   {
    "duration": 29,
    "start_time": "2023-07-09T05:30:14.849Z"
   },
   {
    "duration": 11,
    "start_time": "2023-07-09T05:30:14.891Z"
   },
   {
    "duration": 24,
    "start_time": "2023-07-09T05:30:14.905Z"
   },
   {
    "duration": 12,
    "start_time": "2023-07-09T05:30:14.932Z"
   },
   {
    "duration": 16,
    "start_time": "2023-07-09T05:30:14.946Z"
   },
   {
    "duration": 300,
    "start_time": "2023-07-09T05:30:14.964Z"
   },
   {
    "duration": 24,
    "start_time": "2023-07-09T05:30:15.266Z"
   },
   {
    "duration": 99,
    "start_time": "2023-07-09T05:30:15.293Z"
   },
   {
    "duration": 212,
    "start_time": "2023-07-09T05:30:15.399Z"
   },
   {
    "duration": 201,
    "start_time": "2023-07-09T05:30:15.613Z"
   },
   {
    "duration": 212,
    "start_time": "2023-07-09T05:30:15.816Z"
   },
   {
    "duration": 368,
    "start_time": "2023-07-09T05:30:16.030Z"
   },
   {
    "duration": 198,
    "start_time": "2023-07-09T05:30:16.400Z"
   },
   {
    "duration": 168,
    "start_time": "2023-07-09T05:30:16.600Z"
   },
   {
    "duration": 13,
    "start_time": "2023-07-09T05:30:16.770Z"
   },
   {
    "duration": 214,
    "start_time": "2023-07-09T05:30:16.793Z"
   },
   {
    "duration": 196,
    "start_time": "2023-07-09T05:30:17.009Z"
   },
   {
    "duration": 198,
    "start_time": "2023-07-09T05:30:17.207Z"
   },
   {
    "duration": 231,
    "start_time": "2023-07-09T05:30:17.407Z"
   },
   {
    "duration": 206,
    "start_time": "2023-07-09T05:30:17.639Z"
   },
   {
    "duration": 195,
    "start_time": "2023-07-09T05:30:17.847Z"
   },
   {
    "duration": 233,
    "start_time": "2023-07-09T05:30:18.043Z"
   },
   {
    "duration": 509,
    "start_time": "2023-07-09T05:30:18.279Z"
   },
   {
    "duration": 26,
    "start_time": "2023-07-09T05:30:18.795Z"
   },
   {
    "duration": 182,
    "start_time": "2023-07-09T05:30:18.822Z"
   },
   {
    "duration": 186,
    "start_time": "2023-07-09T05:30:19.006Z"
   },
   {
    "duration": 68,
    "start_time": "2023-07-09T05:30:19.193Z"
   },
   {
    "duration": 0,
    "start_time": "2023-07-09T05:30:19.264Z"
   },
   {
    "duration": 0,
    "start_time": "2023-07-09T05:30:19.266Z"
   },
   {
    "duration": 0,
    "start_time": "2023-07-09T05:30:19.268Z"
   },
   {
    "duration": 0,
    "start_time": "2023-07-09T05:30:19.270Z"
   },
   {
    "duration": 0,
    "start_time": "2023-07-09T05:30:19.271Z"
   },
   {
    "duration": 0,
    "start_time": "2023-07-09T05:30:19.272Z"
   },
   {
    "duration": 0,
    "start_time": "2023-07-09T05:30:19.273Z"
   },
   {
    "duration": 0,
    "start_time": "2023-07-09T05:30:19.274Z"
   },
   {
    "duration": 0,
    "start_time": "2023-07-09T05:30:19.278Z"
   },
   {
    "duration": 0,
    "start_time": "2023-07-09T05:30:19.279Z"
   },
   {
    "duration": 239,
    "start_time": "2023-07-09T05:33:36.264Z"
   },
   {
    "duration": 167,
    "start_time": "2023-07-09T05:33:40.658Z"
   },
   {
    "duration": 168,
    "start_time": "2023-07-09T05:38:39.916Z"
   },
   {
    "duration": 206,
    "start_time": "2023-07-09T05:41:33.755Z"
   },
   {
    "duration": 538,
    "start_time": "2023-07-09T05:42:11.962Z"
   },
   {
    "duration": 93,
    "start_time": "2023-07-09T05:42:12.502Z"
   },
   {
    "duration": 14,
    "start_time": "2023-07-09T05:42:12.597Z"
   },
   {
    "duration": 1855,
    "start_time": "2023-07-09T05:42:12.613Z"
   },
   {
    "duration": 3,
    "start_time": "2023-07-09T05:42:14.470Z"
   },
   {
    "duration": 13,
    "start_time": "2023-07-09T05:42:14.475Z"
   },
   {
    "duration": 9,
    "start_time": "2023-07-09T05:42:14.490Z"
   },
   {
    "duration": 9,
    "start_time": "2023-07-09T05:42:14.500Z"
   },
   {
    "duration": 13,
    "start_time": "2023-07-09T05:42:14.510Z"
   },
   {
    "duration": 7,
    "start_time": "2023-07-09T05:42:14.526Z"
   },
   {
    "duration": 19,
    "start_time": "2023-07-09T05:42:14.535Z"
   },
   {
    "duration": 32,
    "start_time": "2023-07-09T05:42:14.575Z"
   },
   {
    "duration": 8,
    "start_time": "2023-07-09T05:42:14.609Z"
   },
   {
    "duration": 25,
    "start_time": "2023-07-09T05:42:14.619Z"
   },
   {
    "duration": 24,
    "start_time": "2023-07-09T05:42:14.646Z"
   },
   {
    "duration": 18,
    "start_time": "2023-07-09T05:42:14.672Z"
   },
   {
    "duration": 18,
    "start_time": "2023-07-09T05:42:14.692Z"
   },
   {
    "duration": 19,
    "start_time": "2023-07-09T05:42:14.711Z"
   },
   {
    "duration": 27,
    "start_time": "2023-07-09T05:42:14.732Z"
   },
   {
    "duration": 24,
    "start_time": "2023-07-09T05:42:14.760Z"
   },
   {
    "duration": 36,
    "start_time": "2023-07-09T05:42:14.785Z"
   },
   {
    "duration": 40,
    "start_time": "2023-07-09T05:42:14.823Z"
   },
   {
    "duration": 85,
    "start_time": "2023-07-09T05:42:14.864Z"
   },
   {
    "duration": 516,
    "start_time": "2023-07-09T05:42:14.951Z"
   },
   {
    "duration": 322,
    "start_time": "2023-07-09T05:42:15.468Z"
   },
   {
    "duration": 10,
    "start_time": "2023-07-09T05:42:15.791Z"
   },
   {
    "duration": 26,
    "start_time": "2023-07-09T05:42:15.802Z"
   },
   {
    "duration": 186,
    "start_time": "2023-07-09T05:42:15.833Z"
   },
   {
    "duration": 501,
    "start_time": "2023-07-09T05:42:16.020Z"
   },
   {
    "duration": 321,
    "start_time": "2023-07-09T05:42:16.523Z"
   },
   {
    "duration": 159,
    "start_time": "2023-07-09T05:42:16.846Z"
   },
   {
    "duration": 3,
    "start_time": "2023-07-09T05:42:17.006Z"
   },
   {
    "duration": 24,
    "start_time": "2023-07-09T05:42:17.010Z"
   },
   {
    "duration": 9,
    "start_time": "2023-07-09T05:42:17.035Z"
   },
   {
    "duration": 15,
    "start_time": "2023-07-09T05:42:17.045Z"
   },
   {
    "duration": 18,
    "start_time": "2023-07-09T05:42:17.061Z"
   },
   {
    "duration": 9,
    "start_time": "2023-07-09T05:42:17.080Z"
   },
   {
    "duration": 261,
    "start_time": "2023-07-09T05:42:17.090Z"
   },
   {
    "duration": 5,
    "start_time": "2023-07-09T05:42:17.353Z"
   },
   {
    "duration": 91,
    "start_time": "2023-07-09T05:42:17.360Z"
   },
   {
    "duration": 178,
    "start_time": "2023-07-09T05:42:17.453Z"
   },
   {
    "duration": 165,
    "start_time": "2023-07-09T05:42:17.632Z"
   },
   {
    "duration": 177,
    "start_time": "2023-07-09T05:42:17.799Z"
   },
   {
    "duration": 264,
    "start_time": "2023-07-09T05:42:17.977Z"
   },
   {
    "duration": 134,
    "start_time": "2023-07-09T05:42:18.243Z"
   },
   {
    "duration": 144,
    "start_time": "2023-07-09T05:42:18.379Z"
   },
   {
    "duration": 5,
    "start_time": "2023-07-09T05:42:18.525Z"
   },
   {
    "duration": 173,
    "start_time": "2023-07-09T05:42:18.531Z"
   },
   {
    "duration": 171,
    "start_time": "2023-07-09T05:42:18.705Z"
   },
   {
    "duration": 155,
    "start_time": "2023-07-09T05:42:18.877Z"
   },
   {
    "duration": 167,
    "start_time": "2023-07-09T05:42:19.034Z"
   },
   {
    "duration": 179,
    "start_time": "2023-07-09T05:42:19.203Z"
   },
   {
    "duration": 153,
    "start_time": "2023-07-09T05:42:19.384Z"
   },
   {
    "duration": 180,
    "start_time": "2023-07-09T05:42:19.539Z"
   },
   {
    "duration": 430,
    "start_time": "2023-07-09T05:42:19.721Z"
   },
   {
    "duration": 34,
    "start_time": "2023-07-09T05:42:20.153Z"
   },
   {
    "duration": 153,
    "start_time": "2023-07-09T05:42:20.200Z"
   },
   {
    "duration": 151,
    "start_time": "2023-07-09T05:42:20.355Z"
   },
   {
    "duration": 151,
    "start_time": "2023-07-09T05:42:20.507Z"
   },
   {
    "duration": 152,
    "start_time": "2023-07-09T05:42:20.660Z"
   },
   {
    "duration": 143,
    "start_time": "2023-07-09T05:42:20.814Z"
   },
   {
    "duration": 181,
    "start_time": "2023-07-09T05:42:20.959Z"
   },
   {
    "duration": 232,
    "start_time": "2023-07-09T05:42:21.142Z"
   },
   {
    "duration": 150,
    "start_time": "2023-07-09T05:42:21.376Z"
   },
   {
    "duration": 150,
    "start_time": "2023-07-09T05:42:21.527Z"
   },
   {
    "duration": 2,
    "start_time": "2023-07-09T05:42:21.680Z"
   },
   {
    "duration": 171,
    "start_time": "2023-07-09T05:42:21.684Z"
   },
   {
    "duration": 243,
    "start_time": "2023-07-09T05:42:21.856Z"
   }
  ],
  "kernelspec": {
   "display_name": "Python 3 (ipykernel)",
   "language": "python",
   "name": "python3"
  },
  "language_info": {
   "codemirror_mode": {
    "name": "ipython",
    "version": 3
   },
   "file_extension": ".py",
   "mimetype": "text/x-python",
   "name": "python",
   "nbconvert_exporter": "python",
   "pygments_lexer": "ipython3",
   "version": "3.9.5"
  },
  "toc": {
   "base_numbering": 1,
   "nav_menu": {},
   "number_sections": true,
   "sideBar": true,
   "skip_h1_title": true,
   "title_cell": "Table of Contents",
   "title_sidebar": "Contents",
   "toc_cell": false,
   "toc_position": {},
   "toc_section_display": true,
   "toc_window_display": false
  }
 },
 "nbformat": 4,
 "nbformat_minor": 2
}
