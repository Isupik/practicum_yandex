{
 "cells": [
  {
   "cell_type": "markdown",
   "id": "e351619f",
   "metadata": {},
   "source": [
    "**Выполнила Грищенко Анастасия**"
   ]
  },
  {
   "cell_type": "markdown",
   "id": "48f15070",
   "metadata": {},
   "source": [
    "# Проект: Статистический анализ данных"
   ]
  },
  {
   "cell_type": "markdown",
   "id": "a0a4a40c",
   "metadata": {},
   "source": [
    "Вы аналитик популярного сервиса аренды самокатов GoFast. Вам передали данные о некоторых пользователях из нескольких городов, а также об их поездках. Проанализируйте данные и проверьте некоторые гипотезы, которые могут помочь бизнесу вырасти.\n",
    "\n",
    "Чтобы совершать поездки по городу, пользователи сервиса GoFast пользуются мобильным приложением. \n",
    "Сервисом можно пользоваться:\n",
    "\n",
    "без подписки:\n",
    "      \n",
    "* абонентская плата отсутствует;\n",
    "* стоимость одной минуты поездки — 8 рублей;\n",
    "* стоимость старта (начала поездки) — 50 рублей;\n",
    "        \n",
    "с подпиской Ultra:\n",
    "      \n",
    "* абонентская плата — 199 рублей в месяц;\n",
    "* стоимость одной минуты поездки — 6 рублей;\n",
    "* стоимость старта — бесплатно."
   ]
  },
  {
   "cell_type": "markdown",
   "id": "295cfded",
   "metadata": {},
   "source": [
    "**Описание данных**"
   ]
  },
  {
   "cell_type": "markdown",
   "id": "a7c75f8b",
   "metadata": {},
   "source": [
    "В основных данных есть информация о пользователях, их поездках и подписках."
   ]
  },
  {
   "cell_type": "markdown",
   "id": "e9b2442c",
   "metadata": {},
   "source": [
    "**Пользователи - `users_go.csv`**\n",
    "\n",
    "* `user_id` - универсальный идендификатор пользователя\n",
    "* `name` - имя пользователя\n",
    "* `age` - возраст\n",
    "* `city` - город\n",
    "* `subscription_type` - тип подписки(free, ultra)\n",
    "\n",
    "**Поездки - `rides_go.csv`**\n",
    "\n",
    "* `user_id` - уникальный идентификатор пользователя\n",
    "* `distance` - расстояние, которое пользователь проехал в текущей сессии (в метрах)\n",
    "* `duration` - продолжительность сессии (в минутах) — время с того момента, как пользователь нажал кнопку «Начать поездку» до момента, как он нажал кнопку «Завершить поездку»\n",
    "* `date` - дата совершения поездки\n",
    "\n",
    "**Подписки - `subscriptions_go.csv`**\n",
    "\n",
    "* `subscription_type` - тип подписки\n",
    "* `minute_price` - стоимость одной минуты поездки по данной подписке\n",
    "* `start_ride_price` - стоимость начала поездки\n",
    "* `subscription_fee` - стоимость ежемесячного платежа\n"
   ]
  },
  {
   "cell_type": "markdown",
   "id": "c42cbe00",
   "metadata": {},
   "source": [
    "#### Шаг 1. Загрузка данных"
   ]
  },
  {
   "cell_type": "markdown",
   "id": "7c33c60a",
   "metadata": {},
   "source": [
    "**1.1 Считайте CSV-файлы с данными с помощью библиотеки pandas и сохраните их в датафреймы.**"
   ]
  },
  {
   "cell_type": "code",
   "execution_count": 1,
   "id": "eff9f206",
   "metadata": {},
   "outputs": [],
   "source": [
    "import numpy as np\n",
    "import pandas as pd\n",
    "import matplotlib.pyplot as plt\n",
    "from scipy import stats as st\n",
    "from scipy.stats import binom, poisson, norm\n",
    "from math import sqrt, factorial"
   ]
  },
  {
   "cell_type": "code",
   "execution_count": 2,
   "id": "b531003c",
   "metadata": {},
   "outputs": [],
   "source": [
    "df_users_go = pd.read_csv('/datasets/users_go.csv')\n",
    "df_rider_go = pd.read_csv('/datasets/rides_go.csv')\n",
    "df_subscriptions_go = pd.read_csv('/datasets/subscriptions_go.csv')"
   ]
  },
  {
   "cell_type": "markdown",
   "id": "3934428f",
   "metadata": {},
   "source": [
    "**1.2 Выведите первые строки каждого набора данных. Изучите общую информацию о каждом датафрейме.**"
   ]
  },
  {
   "cell_type": "code",
   "execution_count": 3,
   "id": "4843400c",
   "metadata": {},
   "outputs": [
    {
     "name": "stdout",
     "output_type": "stream",
     "text": [
      "<class 'pandas.core.frame.DataFrame'>\n",
      "RangeIndex: 1565 entries, 0 to 1564\n",
      "Data columns (total 5 columns):\n",
      " #   Column             Non-Null Count  Dtype \n",
      "---  ------             --------------  ----- \n",
      " 0   user_id            1565 non-null   int64 \n",
      " 1   name               1565 non-null   object\n",
      " 2   age                1565 non-null   int64 \n",
      " 3   city               1565 non-null   object\n",
      " 4   subscription_type  1565 non-null   object\n",
      "dtypes: int64(2), object(3)\n",
      "memory usage: 61.3+ KB\n"
     ]
    }
   ],
   "source": [
    "# датафрейм Пользователи\n",
    "df_users_go.info()"
   ]
  },
  {
   "cell_type": "code",
   "execution_count": 4,
   "id": "dc01c34f",
   "metadata": {
    "scrolled": true
   },
   "outputs": [
    {
     "name": "stdout",
     "output_type": "stream",
     "text": [
      "<class 'pandas.core.frame.DataFrame'>\n",
      "RangeIndex: 18068 entries, 0 to 18067\n",
      "Data columns (total 4 columns):\n",
      " #   Column    Non-Null Count  Dtype  \n",
      "---  ------    --------------  -----  \n",
      " 0   user_id   18068 non-null  int64  \n",
      " 1   distance  18068 non-null  float64\n",
      " 2   duration  18068 non-null  float64\n",
      " 3   date      18068 non-null  object \n",
      "dtypes: float64(2), int64(1), object(1)\n",
      "memory usage: 564.8+ KB\n"
     ]
    }
   ],
   "source": [
    "# датафрейм Поездки\n",
    "df_rider_go.info()"
   ]
  },
  {
   "cell_type": "code",
   "execution_count": 5,
   "id": "03ab64c5",
   "metadata": {
    "scrolled": true
   },
   "outputs": [
    {
     "name": "stdout",
     "output_type": "stream",
     "text": [
      "<class 'pandas.core.frame.DataFrame'>\n",
      "RangeIndex: 2 entries, 0 to 1\n",
      "Data columns (total 4 columns):\n",
      " #   Column             Non-Null Count  Dtype \n",
      "---  ------             --------------  ----- \n",
      " 0   subscription_type  2 non-null      object\n",
      " 1   minute_price       2 non-null      int64 \n",
      " 2   start_ride_price   2 non-null      int64 \n",
      " 3   subscription_fee   2 non-null      int64 \n",
      "dtypes: int64(3), object(1)\n",
      "memory usage: 192.0+ bytes\n"
     ]
    }
   ],
   "source": [
    "# датафрейм Подписки\n",
    "df_subscriptions_go.info()"
   ]
  },
  {
   "cell_type": "markdown",
   "id": "e404bd17",
   "metadata": {},
   "source": [
    "**Вывод:**\n",
    "\n",
    "Таблицы загрузились без ошибок. Пропуски отсутствуют во всех трех датафреймах.\n",
    "В датафрейме Поездки (`rides_go.csv`) поле `date` имеет тип `object`."
   ]
  },
  {
   "cell_type": "markdown",
   "id": "e95ebca7",
   "metadata": {},
   "source": [
    "#### Шаг 2. Предобработка данных"
   ]
  },
  {
   "cell_type": "markdown",
   "id": "8feccaea",
   "metadata": {},
   "source": [
    "***Датафрейм Пользователи `users_go.csv`***"
   ]
  },
  {
   "cell_type": "code",
   "execution_count": 6,
   "id": "44e014b2",
   "metadata": {},
   "outputs": [
    {
     "name": "stdout",
     "output_type": "stream",
     "text": [
      "Сумма дубликатов:  31\n"
     ]
    }
   ],
   "source": [
    "print('Сумма дубликатов: ', df_users_go.duplicated().sum())"
   ]
  },
  {
   "cell_type": "code",
   "execution_count": 7,
   "id": "517ca23f",
   "metadata": {},
   "outputs": [
    {
     "name": "stdout",
     "output_type": "stream",
     "text": [
      "Количество явных дубликатов в датасете: 0\n"
     ]
    }
   ],
   "source": [
    "# удаляем дубликаты\n",
    "df_users_go = df_users_go.drop_duplicates()\n",
    "print('Количество явных дубликатов в датасете:', df_users_go.duplicated().sum())"
   ]
  },
  {
   "cell_type": "code",
   "execution_count": 8,
   "id": "8272d750",
   "metadata": {
    "scrolled": true
   },
   "outputs": [
    {
     "data": {
      "text/plain": [
       "user_id              0\n",
       "name                 0\n",
       "age                  0\n",
       "city                 0\n",
       "subscription_type    0\n",
       "dtype: int64"
      ]
     },
     "execution_count": 8,
     "metadata": {},
     "output_type": "execute_result"
    }
   ],
   "source": [
    "# сумма пропусков\n",
    "df_users_go.isnull().sum()"
   ]
  },
  {
   "cell_type": "markdown",
   "id": "2ede57f6",
   "metadata": {},
   "source": [
    "***Датафрейм Поездки `rides_go.csv`***"
   ]
  },
  {
   "cell_type": "code",
   "execution_count": 9,
   "id": "a81a9e75",
   "metadata": {},
   "outputs": [
    {
     "name": "stdout",
     "output_type": "stream",
     "text": [
      "Сумма дубликатов:  0\n"
     ]
    }
   ],
   "source": [
    "print('Сумма дубликатов: ', df_rider_go.duplicated().sum())"
   ]
  },
  {
   "cell_type": "code",
   "execution_count": 10,
   "id": "29ec3ef3",
   "metadata": {},
   "outputs": [
    {
     "data": {
      "text/plain": [
       "user_id     0\n",
       "distance    0\n",
       "duration    0\n",
       "date        0\n",
       "dtype: int64"
      ]
     },
     "execution_count": 10,
     "metadata": {},
     "output_type": "execute_result"
    }
   ],
   "source": [
    "# сумма пропусков\n",
    "df_rider_go.isnull().sum()"
   ]
  },
  {
   "cell_type": "code",
   "execution_count": 11,
   "id": "c38b40f1",
   "metadata": {
    "scrolled": true
   },
   "outputs": [
    {
     "data": {
      "text/html": [
       "<div>\n",
       "<style scoped>\n",
       "    .dataframe tbody tr th:only-of-type {\n",
       "        vertical-align: middle;\n",
       "    }\n",
       "\n",
       "    .dataframe tbody tr th {\n",
       "        vertical-align: top;\n",
       "    }\n",
       "\n",
       "    .dataframe thead th {\n",
       "        text-align: right;\n",
       "    }\n",
       "</style>\n",
       "<table border=\"1\" class=\"dataframe\">\n",
       "  <thead>\n",
       "    <tr style=\"text-align: right;\">\n",
       "      <th></th>\n",
       "      <th>user_id</th>\n",
       "      <th>distance</th>\n",
       "      <th>duration</th>\n",
       "      <th>date</th>\n",
       "      <th>month</th>\n",
       "    </tr>\n",
       "  </thead>\n",
       "  <tbody>\n",
       "    <tr>\n",
       "      <th>0</th>\n",
       "      <td>1</td>\n",
       "      <td>4409.919140</td>\n",
       "      <td>25.599769</td>\n",
       "      <td>2021-01-01</td>\n",
       "      <td>1</td>\n",
       "    </tr>\n",
       "    <tr>\n",
       "      <th>1</th>\n",
       "      <td>1</td>\n",
       "      <td>2617.592153</td>\n",
       "      <td>15.816871</td>\n",
       "      <td>2021-01-18</td>\n",
       "      <td>1</td>\n",
       "    </tr>\n",
       "    <tr>\n",
       "      <th>2</th>\n",
       "      <td>1</td>\n",
       "      <td>754.159807</td>\n",
       "      <td>6.232113</td>\n",
       "      <td>2021-04-20</td>\n",
       "      <td>4</td>\n",
       "    </tr>\n",
       "    <tr>\n",
       "      <th>3</th>\n",
       "      <td>1</td>\n",
       "      <td>2694.783254</td>\n",
       "      <td>18.511000</td>\n",
       "      <td>2021-08-11</td>\n",
       "      <td>8</td>\n",
       "    </tr>\n",
       "    <tr>\n",
       "      <th>4</th>\n",
       "      <td>1</td>\n",
       "      <td>4028.687306</td>\n",
       "      <td>26.265803</td>\n",
       "      <td>2021-08-28</td>\n",
       "      <td>8</td>\n",
       "    </tr>\n",
       "  </tbody>\n",
       "</table>\n",
       "</div>"
      ],
      "text/plain": [
       "   user_id     distance   duration       date  month\n",
       "0        1  4409.919140  25.599769 2021-01-01      1\n",
       "1        1  2617.592153  15.816871 2021-01-18      1\n",
       "2        1   754.159807   6.232113 2021-04-20      4\n",
       "3        1  2694.783254  18.511000 2021-08-11      8\n",
       "4        1  4028.687306  26.265803 2021-08-28      8"
      ]
     },
     "execution_count": 11,
     "metadata": {},
     "output_type": "execute_result"
    }
   ],
   "source": [
    "# изменим тип в столбце 'date' на datetime\n",
    "df_rider_go['date'] = pd.to_datetime(df_rider_go['date'], format='%Y-%m-%d')\n",
    "\n",
    "# cоздадим новый столбец с номером месяца на основе столбца date\n",
    "df_rider_go['month'] = df_rider_go['date'].dt.month\n",
    "df_rider_go.head()"
   ]
  },
  {
   "cell_type": "markdown",
   "id": "05c0c201",
   "metadata": {},
   "source": [
    "***Датафрейм Подписки `subscriptions_go.csv`***"
   ]
  },
  {
   "cell_type": "code",
   "execution_count": 12,
   "id": "09885647",
   "metadata": {
    "scrolled": true
   },
   "outputs": [
    {
     "name": "stdout",
     "output_type": "stream",
     "text": [
      "Сумма дубликатов:  0\n"
     ]
    }
   ],
   "source": [
    "print('Сумма дубликатов: ', df_subscriptions_go.duplicated().sum())"
   ]
  },
  {
   "cell_type": "code",
   "execution_count": 13,
   "id": "4710384a",
   "metadata": {},
   "outputs": [
    {
     "data": {
      "text/plain": [
       "subscription_type    0\n",
       "minute_price         0\n",
       "start_ride_price     0\n",
       "subscription_fee     0\n",
       "dtype: int64"
      ]
     },
     "execution_count": 13,
     "metadata": {},
     "output_type": "execute_result"
    }
   ],
   "source": [
    "# сумма пропусков\n",
    "df_subscriptions_go.isnull().sum()"
   ]
  },
  {
   "cell_type": "markdown",
   "id": "ecd0d1f0",
   "metadata": {},
   "source": [
    "**Вывод:**\n",
    "\n",
    "В данном шаге проведена проведена предобработка данных. Проблема была обнаружена в датафрейме `users_go.csv` - 31 дубликат. Дубликаты были удалены. В остальных датафреймах дубликатов и пропусков не обнаружено.\n",
    "\n",
    "Также в датафрейме `rides_go.csv` был изменен тип данных столбца `date' на `datetime`, а также создан дополнительный столбец с номером месяца."
   ]
  },
  {
   "cell_type": "markdown",
   "id": "212593c7",
   "metadata": {},
   "source": [
    "#### Шаг 3. Исследовательский анализ данных"
   ]
  },
  {
   "cell_type": "markdown",
   "id": "08f1ba20",
   "metadata": {},
   "source": [
    "**3.1 частота встречаемости городов**"
   ]
  },
  {
   "cell_type": "code",
   "execution_count": 14,
   "id": "1ba4956a",
   "metadata": {},
   "outputs": [
    {
     "data": {
      "image/png": "[encoded data removed]",
      "text/plain": [
       "<Figure size 720x360 with 1 Axes>"
      ]
     },
     "metadata": {
      "needs_background": "light"
     },
     "output_type": "display_data"
    }
   ],
   "source": [
    "users_city = df_users_go.pivot_table(index = 'city', values = 'user_id', aggfunc = 'count')\n",
    "users_city = users_city.sort_values(by='user_id', ascending = True)\n",
    "users_city.plot( kind='barh', figsize = (10,5),color='k', grid = True )\n",
    "plt.title('Частота встречаемости городов')\n",
    "plt.xlabel('Количество пользователей')\n",
    "plt.ylabel('Города')\n",
    "plt.legend(loc='lower left')\n",
    "plt.show()\n",
    "\n",
    "#display(users_city.sort_values(by='user_id', ascending = False))"
   ]
  },
  {
   "cell_type": "markdown",
   "id": "8892e5ac",
   "metadata": {},
   "source": [
    "**Вывод:**\n",
    "\n",
    "В данных представлены 8 городов: \n",
    "* Пятигорск -  219 пользователей, \n",
    "* Екатеринбург - 204 пользователей, \n",
    "* Ростов-на-Дону - 198 пользователей, \n",
    "* Краснодар - 193 пользователей, \n",
    "* Сочи - 189 пользователей, \n",
    "* Омск - 183 пользователей,\n",
    "* Тюмень - 180 пользователей,\n",
    "* Москва - 168 пользователей\n",
    "\n",
    "Больше всего пользователей из города Пятигорск, а меньше всего из Москвы. "
   ]
  },
  {
   "cell_type": "markdown",
   "id": "23e30af2",
   "metadata": {},
   "source": [
    "**3.2 соотношение пользователей с подпиской и без подписки**"
   ]
  },
  {
   "cell_type": "code",
   "execution_count": 15,
   "id": "47f8666a",
   "metadata": {},
   "outputs": [],
   "source": [
    "users_st = df_users_go.pivot_table(index = 'subscription_type', values = 'user_id', aggfunc = 'count').reset_index()"
   ]
  },
  {
   "cell_type": "code",
   "execution_count": 16,
   "id": "55ac78aa",
   "metadata": {
    "scrolled": false
   },
   "outputs": [],
   "source": [
    "# столбчатая диаграмма\n",
    "\n",
    "#users_st.plot(x = 'subscription_type', kind='barh', figsize = (10,5), color='k', grid = True )\n",
    "#plt.title('Соотношение пользователей с подпиской и без подписки')\n",
    "#plt.xlabel('Количество пользователей')\n",
    "#plt.ylabel('Тип подписки')\n",
    "#plt.show()\n",
    "\n",
    "#users_st"
   ]
  },
  {
   "cell_type": "code",
   "execution_count": 17,
   "id": "2e5b055a",
   "metadata": {},
   "outputs": [
    {
     "data": {
      "text/plain": [
       "<AxesSubplot:title={'center':'Соотношение пользователей с подпиской и без подписки'}, ylabel='user_id'>"
      ]
     },
     "execution_count": 17,
     "metadata": {},
     "output_type": "execute_result"
    },
    {
     "data": {
      "image/png": "[encoded data removed]",
      "text/plain": [
       "<Figure size 720x360 with 1 Axes>"
      ]
     },
     "metadata": {},
     "output_type": "display_data"
    }
   ],
   "source": [
    "# круговая диаграмма\n",
    "users_st.groupby(['subscription_type']).sum().plot(kind='pie', y='user_id', autopct='%1.1f%%', \n",
    "                                                      figsize = (10,5), colors = ['m', 'y'], \n",
    "                                                      title='Соотношение пользователей с подпиской и без подписки')"
   ]
  },
  {
   "cell_type": "markdown",
   "id": "a4db1d45",
   "metadata": {},
   "source": [
    "**Вывод:**\n",
    "\n",
    "Без подписки  пользователей больше(835) - это 54.4%, чем с подпиской Ultra(699) - 45.6%."
   ]
  },
  {
   "cell_type": "markdown",
   "id": "945bbb5d",
   "metadata": {},
   "source": [
    "**3.3 возраст пользователей**"
   ]
  },
  {
   "cell_type": "code",
   "execution_count": 18,
   "id": "9374c6e3",
   "metadata": {},
   "outputs": [
    {
     "data": {
      "image/png": "[encoded data removed]",
      "text/plain": [
       "<Figure size 720x360 with 1 Axes>"
      ]
     },
     "metadata": {
      "needs_background": "light"
     },
     "output_type": "display_data"
    },
    {
     "data": {
      "text/plain": [
       "count    1534.000000\n",
       "mean       24.903520\n",
       "std         4.572367\n",
       "min        12.000000\n",
       "25%        22.000000\n",
       "50%        25.000000\n",
       "75%        28.000000\n",
       "max        43.000000\n",
       "Name: age, dtype: float64"
      ]
     },
     "execution_count": 18,
     "metadata": {},
     "output_type": "execute_result"
    }
   ],
   "source": [
    "df_users_go['age'].plot(kind = 'hist', color='k', grid=True, figsize = (10,5), bins = 30)\n",
    "plt.title('Возраст пользователей')\n",
    "plt.xlabel('возраст')\n",
    "plt.ylabel('количество пользователей')\n",
    "plt.show()\n",
    "\n",
    "# высчитываем основные статистические характеристики\n",
    "df_users_go['age'].describe()"
   ]
  },
  {
   "cell_type": "markdown",
   "id": "7ba67c71",
   "metadata": {},
   "source": [
    "**Вывод:**\n",
    "\n",
    "Больше всего пользователей 25 лет. Медиана - 24,9, что доказывает наши выводы о графике."
   ]
  },
  {
   "cell_type": "markdown",
   "id": "bd39d8ed",
   "metadata": {},
   "source": [
    "**3.4 расстояние, которое пользователь преодолел за одну поездку**"
   ]
  },
  {
   "cell_type": "code",
   "execution_count": 19,
   "id": "26bdb8ca",
   "metadata": {},
   "outputs": [
    {
     "data": {
      "image/png": "[encoded data removed]",
      "text/plain": [
       "<Figure size 720x360 with 1 Axes>"
      ]
     },
     "metadata": {
      "needs_background": "light"
     },
     "output_type": "display_data"
    },
    {
     "data": {
      "text/plain": [
       "count    18068.000000\n",
       "mean      3070.659976\n",
       "std       1116.831209\n",
       "min          0.855683\n",
       "25%       2543.226360\n",
       "50%       3133.609994\n",
       "75%       3776.222735\n",
       "max       7211.007745\n",
       "Name: distance, dtype: float64"
      ]
     },
     "execution_count": 19,
     "metadata": {},
     "output_type": "execute_result"
    }
   ],
   "source": [
    "df_rider_go['distance'].plot(kind = 'hist', color='k', grid=True, figsize = (10,5), bins = 30)\n",
    "plt.title('Расстояние, которое пользователь преодолел за одну поездку')\n",
    "plt.xlabel('Расстояние в метрах')\n",
    "plt.ylabel('Количество пользователей')\n",
    "plt.show()\n",
    "\n",
    "# высчитываем основные статистические характеристики\n",
    "df_rider_go['distance'].describe()"
   ]
  },
  {
   "cell_type": "markdown",
   "id": "d693c753",
   "metadata": {},
   "source": [
    "**Вывод:**\n",
    "\n",
    "В среднем пользователель проезжает за одну поездку чуть больше 3-х киллометров."
   ]
  },
  {
   "cell_type": "markdown",
   "id": "6e8971a8",
   "metadata": {},
   "source": [
    "**3.5 продолжительность поездок**"
   ]
  },
  {
   "cell_type": "code",
   "execution_count": 20,
   "id": "d95e482f",
   "metadata": {},
   "outputs": [
    {
     "data": {
      "image/png": "[encoded data removed]",
      "text/plain": [
       "<Figure size 720x360 with 1 Axes>"
      ]
     },
     "metadata": {
      "needs_background": "light"
     },
     "output_type": "display_data"
    },
    {
     "data": {
      "text/plain": [
       "count    18068.000000\n",
       "mean        17.805011\n",
       "std          6.091051\n",
       "min          0.500000\n",
       "25%         13.597563\n",
       "50%         17.678395\n",
       "75%         21.724800\n",
       "max         40.823963\n",
       "Name: duration, dtype: float64"
      ]
     },
     "execution_count": 20,
     "metadata": {},
     "output_type": "execute_result"
    }
   ],
   "source": [
    "df_rider_go['duration'].plot(kind = 'hist', color='k', grid=True, figsize = (10,5), bins = 30)\n",
    "plt.title('Продолжительность одной поездки')\n",
    "plt.xlabel('Время в минутах')\n",
    "plt.ylabel('Количество пользователей')\n",
    "plt.show()\n",
    "\n",
    "# высчитываем основные статистические характеристики\n",
    "df_rider_go['duration'].describe()"
   ]
  },
  {
   "cell_type": "markdown",
   "id": "1e7b948e",
   "metadata": {},
   "source": [
    "**Вывод:**\n",
    "    \n",
    "Среднее время одной поездки 17.7 минут. Максимальное время поездки 40.8 минут."
   ]
  },
  {
   "cell_type": "markdown",
   "id": "4ef51331",
   "metadata": {},
   "source": [
    "#### Шаг 4. Объединение данных"
   ]
  },
  {
   "cell_type": "markdown",
   "id": "8cccf155",
   "metadata": {},
   "source": [
    "**4.1 Объедините данные о пользователях, поездках и подписках в один датафрейм. Для этого воспользуйтесь методом merge()**"
   ]
  },
  {
   "cell_type": "code",
   "execution_count": 21,
   "id": "935a8ead",
   "metadata": {},
   "outputs": [
    {
     "data": {
      "text/html": [
       "<div>\n",
       "<style scoped>\n",
       "    .dataframe tbody tr th:only-of-type {\n",
       "        vertical-align: middle;\n",
       "    }\n",
       "\n",
       "    .dataframe tbody tr th {\n",
       "        vertical-align: top;\n",
       "    }\n",
       "\n",
       "    .dataframe thead th {\n",
       "        text-align: right;\n",
       "    }\n",
       "</style>\n",
       "<table border=\"1\" class=\"dataframe\">\n",
       "  <thead>\n",
       "    <tr style=\"text-align: right;\">\n",
       "      <th></th>\n",
       "      <th>user_id</th>\n",
       "      <th>distance</th>\n",
       "      <th>duration</th>\n",
       "      <th>date</th>\n",
       "      <th>month</th>\n",
       "      <th>name</th>\n",
       "      <th>age</th>\n",
       "      <th>city</th>\n",
       "      <th>subscription_type</th>\n",
       "      <th>minute_price</th>\n",
       "      <th>start_ride_price</th>\n",
       "      <th>subscription_fee</th>\n",
       "    </tr>\n",
       "  </thead>\n",
       "  <tbody>\n",
       "    <tr>\n",
       "      <th>0</th>\n",
       "      <td>1</td>\n",
       "      <td>4409.919140</td>\n",
       "      <td>25.599769</td>\n",
       "      <td>2021-01-01</td>\n",
       "      <td>1</td>\n",
       "      <td>Кира</td>\n",
       "      <td>22</td>\n",
       "      <td>Тюмень</td>\n",
       "      <td>ultra</td>\n",
       "      <td>6</td>\n",
       "      <td>0</td>\n",
       "      <td>199</td>\n",
       "    </tr>\n",
       "    <tr>\n",
       "      <th>1</th>\n",
       "      <td>1</td>\n",
       "      <td>2617.592153</td>\n",
       "      <td>15.816871</td>\n",
       "      <td>2021-01-18</td>\n",
       "      <td>1</td>\n",
       "      <td>Кира</td>\n",
       "      <td>22</td>\n",
       "      <td>Тюмень</td>\n",
       "      <td>ultra</td>\n",
       "      <td>6</td>\n",
       "      <td>0</td>\n",
       "      <td>199</td>\n",
       "    </tr>\n",
       "    <tr>\n",
       "      <th>2</th>\n",
       "      <td>1</td>\n",
       "      <td>754.159807</td>\n",
       "      <td>6.232113</td>\n",
       "      <td>2021-04-20</td>\n",
       "      <td>4</td>\n",
       "      <td>Кира</td>\n",
       "      <td>22</td>\n",
       "      <td>Тюмень</td>\n",
       "      <td>ultra</td>\n",
       "      <td>6</td>\n",
       "      <td>0</td>\n",
       "      <td>199</td>\n",
       "    </tr>\n",
       "    <tr>\n",
       "      <th>3</th>\n",
       "      <td>1</td>\n",
       "      <td>2694.783254</td>\n",
       "      <td>18.511000</td>\n",
       "      <td>2021-08-11</td>\n",
       "      <td>8</td>\n",
       "      <td>Кира</td>\n",
       "      <td>22</td>\n",
       "      <td>Тюмень</td>\n",
       "      <td>ultra</td>\n",
       "      <td>6</td>\n",
       "      <td>0</td>\n",
       "      <td>199</td>\n",
       "    </tr>\n",
       "    <tr>\n",
       "      <th>4</th>\n",
       "      <td>1</td>\n",
       "      <td>4028.687306</td>\n",
       "      <td>26.265803</td>\n",
       "      <td>2021-08-28</td>\n",
       "      <td>8</td>\n",
       "      <td>Кира</td>\n",
       "      <td>22</td>\n",
       "      <td>Тюмень</td>\n",
       "      <td>ultra</td>\n",
       "      <td>6</td>\n",
       "      <td>0</td>\n",
       "      <td>199</td>\n",
       "    </tr>\n",
       "  </tbody>\n",
       "</table>\n",
       "</div>"
      ],
      "text/plain": [
       "   user_id     distance   duration       date  month  name  age    city  \\\n",
       "0        1  4409.919140  25.599769 2021-01-01      1  Кира   22  Тюмень   \n",
       "1        1  2617.592153  15.816871 2021-01-18      1  Кира   22  Тюмень   \n",
       "2        1   754.159807   6.232113 2021-04-20      4  Кира   22  Тюмень   \n",
       "3        1  2694.783254  18.511000 2021-08-11      8  Кира   22  Тюмень   \n",
       "4        1  4028.687306  26.265803 2021-08-28      8  Кира   22  Тюмень   \n",
       "\n",
       "  subscription_type  minute_price  start_ride_price  subscription_fee  \n",
       "0             ultra             6                 0               199  \n",
       "1             ultra             6                 0               199  \n",
       "2             ultra             6                 0               199  \n",
       "3             ultra             6                 0               199  \n",
       "4             ultra             6                 0               199  "
      ]
     },
     "execution_count": 21,
     "metadata": {},
     "output_type": "execute_result"
    }
   ],
   "source": [
    "df_merge = df_rider_go.copy()\n",
    "df_merge = df_merge.merge(df_users_go, on = 'user_id' )\n",
    "df_merge = df_merge.merge(df_subscriptions_go, on='subscription_type')\n",
    "df_merge.head()"
   ]
  },
  {
   "cell_type": "markdown",
   "id": "b4a55d58",
   "metadata": {},
   "source": [
    "**4.2 Создайте ещё два датафрейма из датафрейма (`df_merge`), созданного на этапе 4.1:**\n",
    "\n",
    "* **c данными о пользователях без подписки**\n",
    "* **с данными о пользователях с подпиской**"
   ]
  },
  {
   "cell_type": "code",
   "execution_count": 22,
   "id": "fbb5676d",
   "metadata": {},
   "outputs": [
    {
     "name": "stdout",
     "output_type": "stream",
     "text": [
      "<class 'pandas.core.frame.DataFrame'>\n",
      "Int64Index: 11568 entries, 6500 to 18067\n",
      "Data columns (total 12 columns):\n",
      " #   Column             Non-Null Count  Dtype         \n",
      "---  ------             --------------  -----         \n",
      " 0   user_id            11568 non-null  int64         \n",
      " 1   distance           11568 non-null  float64       \n",
      " 2   duration           11568 non-null  float64       \n",
      " 3   date               11568 non-null  datetime64[ns]\n",
      " 4   month              11568 non-null  int64         \n",
      " 5   name               11568 non-null  object        \n",
      " 6   age                11568 non-null  int64         \n",
      " 7   city               11568 non-null  object        \n",
      " 8   subscription_type  11568 non-null  object        \n",
      " 9   minute_price       11568 non-null  int64         \n",
      " 10  start_ride_price   11568 non-null  int64         \n",
      " 11  subscription_fee   11568 non-null  int64         \n",
      "dtypes: datetime64[ns](1), float64(2), int64(6), object(3)\n",
      "memory usage: 1.1+ MB\n"
     ]
    },
    {
     "data": {
      "text/html": [
       "<div>\n",
       "<style scoped>\n",
       "    .dataframe tbody tr th:only-of-type {\n",
       "        vertical-align: middle;\n",
       "    }\n",
       "\n",
       "    .dataframe tbody tr th {\n",
       "        vertical-align: top;\n",
       "    }\n",
       "\n",
       "    .dataframe thead th {\n",
       "        text-align: right;\n",
       "    }\n",
       "</style>\n",
       "<table border=\"1\" class=\"dataframe\">\n",
       "  <thead>\n",
       "    <tr style=\"text-align: right;\">\n",
       "      <th></th>\n",
       "      <th>user_id</th>\n",
       "      <th>distance</th>\n",
       "      <th>duration</th>\n",
       "      <th>date</th>\n",
       "      <th>month</th>\n",
       "      <th>name</th>\n",
       "      <th>age</th>\n",
       "      <th>city</th>\n",
       "      <th>subscription_type</th>\n",
       "      <th>minute_price</th>\n",
       "      <th>start_ride_price</th>\n",
       "      <th>subscription_fee</th>\n",
       "    </tr>\n",
       "  </thead>\n",
       "  <tbody>\n",
       "    <tr>\n",
       "      <th>6500</th>\n",
       "      <td>700</td>\n",
       "      <td>2515.690719</td>\n",
       "      <td>14.944286</td>\n",
       "      <td>2021-01-02</td>\n",
       "      <td>1</td>\n",
       "      <td>Айдар</td>\n",
       "      <td>22</td>\n",
       "      <td>Омск</td>\n",
       "      <td>free</td>\n",
       "      <td>8</td>\n",
       "      <td>50</td>\n",
       "      <td>0</td>\n",
       "    </tr>\n",
       "    <tr>\n",
       "      <th>6501</th>\n",
       "      <td>700</td>\n",
       "      <td>846.932642</td>\n",
       "      <td>16.234663</td>\n",
       "      <td>2021-02-01</td>\n",
       "      <td>2</td>\n",
       "      <td>Айдар</td>\n",
       "      <td>22</td>\n",
       "      <td>Омск</td>\n",
       "      <td>free</td>\n",
       "      <td>8</td>\n",
       "      <td>50</td>\n",
       "      <td>0</td>\n",
       "    </tr>\n",
       "    <tr>\n",
       "      <th>6502</th>\n",
       "      <td>700</td>\n",
       "      <td>4004.434142</td>\n",
       "      <td>20.016628</td>\n",
       "      <td>2021-02-04</td>\n",
       "      <td>2</td>\n",
       "      <td>Айдар</td>\n",
       "      <td>22</td>\n",
       "      <td>Омск</td>\n",
       "      <td>free</td>\n",
       "      <td>8</td>\n",
       "      <td>50</td>\n",
       "      <td>0</td>\n",
       "    </tr>\n",
       "    <tr>\n",
       "      <th>6503</th>\n",
       "      <td>700</td>\n",
       "      <td>1205.911290</td>\n",
       "      <td>9.782872</td>\n",
       "      <td>2021-02-10</td>\n",
       "      <td>2</td>\n",
       "      <td>Айдар</td>\n",
       "      <td>22</td>\n",
       "      <td>Омск</td>\n",
       "      <td>free</td>\n",
       "      <td>8</td>\n",
       "      <td>50</td>\n",
       "      <td>0</td>\n",
       "    </tr>\n",
       "    <tr>\n",
       "      <th>6504</th>\n",
       "      <td>700</td>\n",
       "      <td>3047.379435</td>\n",
       "      <td>17.427673</td>\n",
       "      <td>2021-02-14</td>\n",
       "      <td>2</td>\n",
       "      <td>Айдар</td>\n",
       "      <td>22</td>\n",
       "      <td>Омск</td>\n",
       "      <td>free</td>\n",
       "      <td>8</td>\n",
       "      <td>50</td>\n",
       "      <td>0</td>\n",
       "    </tr>\n",
       "  </tbody>\n",
       "</table>\n",
       "</div>"
      ],
      "text/plain": [
       "      user_id     distance   duration       date  month   name  age  city  \\\n",
       "6500      700  2515.690719  14.944286 2021-01-02      1  Айдар   22  Омск   \n",
       "6501      700   846.932642  16.234663 2021-02-01      2  Айдар   22  Омск   \n",
       "6502      700  4004.434142  20.016628 2021-02-04      2  Айдар   22  Омск   \n",
       "6503      700  1205.911290   9.782872 2021-02-10      2  Айдар   22  Омск   \n",
       "6504      700  3047.379435  17.427673 2021-02-14      2  Айдар   22  Омск   \n",
       "\n",
       "     subscription_type  minute_price  start_ride_price  subscription_fee  \n",
       "6500              free             8                50                 0  \n",
       "6501              free             8                50                 0  \n",
       "6502              free             8                50                 0  \n",
       "6503              free             8                50                 0  \n",
       "6504              free             8                50                 0  "
      ]
     },
     "execution_count": 22,
     "metadata": {},
     "output_type": "execute_result"
    }
   ],
   "source": [
    "df_merge_free = df_merge[df_merge['subscription_type'] == 'free']\n",
    "df_merge_free.info()\n",
    "df_merge_free.head()"
   ]
  },
  {
   "cell_type": "code",
   "execution_count": 23,
   "id": "1cb2d908",
   "metadata": {},
   "outputs": [
    {
     "name": "stdout",
     "output_type": "stream",
     "text": [
      "<class 'pandas.core.frame.DataFrame'>\n",
      "Int64Index: 6500 entries, 0 to 6499\n",
      "Data columns (total 12 columns):\n",
      " #   Column             Non-Null Count  Dtype         \n",
      "---  ------             --------------  -----         \n",
      " 0   user_id            6500 non-null   int64         \n",
      " 1   distance           6500 non-null   float64       \n",
      " 2   duration           6500 non-null   float64       \n",
      " 3   date               6500 non-null   datetime64[ns]\n",
      " 4   month              6500 non-null   int64         \n",
      " 5   name               6500 non-null   object        \n",
      " 6   age                6500 non-null   int64         \n",
      " 7   city               6500 non-null   object        \n",
      " 8   subscription_type  6500 non-null   object        \n",
      " 9   minute_price       6500 non-null   int64         \n",
      " 10  start_ride_price   6500 non-null   int64         \n",
      " 11  subscription_fee   6500 non-null   int64         \n",
      "dtypes: datetime64[ns](1), float64(2), int64(6), object(3)\n",
      "memory usage: 660.2+ KB\n"
     ]
    },
    {
     "data": {
      "text/html": [
       "<div>\n",
       "<style scoped>\n",
       "    .dataframe tbody tr th:only-of-type {\n",
       "        vertical-align: middle;\n",
       "    }\n",
       "\n",
       "    .dataframe tbody tr th {\n",
       "        vertical-align: top;\n",
       "    }\n",
       "\n",
       "    .dataframe thead th {\n",
       "        text-align: right;\n",
       "    }\n",
       "</style>\n",
       "<table border=\"1\" class=\"dataframe\">\n",
       "  <thead>\n",
       "    <tr style=\"text-align: right;\">\n",
       "      <th></th>\n",
       "      <th>user_id</th>\n",
       "      <th>distance</th>\n",
       "      <th>duration</th>\n",
       "      <th>date</th>\n",
       "      <th>month</th>\n",
       "      <th>name</th>\n",
       "      <th>age</th>\n",
       "      <th>city</th>\n",
       "      <th>subscription_type</th>\n",
       "      <th>minute_price</th>\n",
       "      <th>start_ride_price</th>\n",
       "      <th>subscription_fee</th>\n",
       "    </tr>\n",
       "  </thead>\n",
       "  <tbody>\n",
       "    <tr>\n",
       "      <th>0</th>\n",
       "      <td>1</td>\n",
       "      <td>4409.919140</td>\n",
       "      <td>25.599769</td>\n",
       "      <td>2021-01-01</td>\n",
       "      <td>1</td>\n",
       "      <td>Кира</td>\n",
       "      <td>22</td>\n",
       "      <td>Тюмень</td>\n",
       "      <td>ultra</td>\n",
       "      <td>6</td>\n",
       "      <td>0</td>\n",
       "      <td>199</td>\n",
       "    </tr>\n",
       "    <tr>\n",
       "      <th>1</th>\n",
       "      <td>1</td>\n",
       "      <td>2617.592153</td>\n",
       "      <td>15.816871</td>\n",
       "      <td>2021-01-18</td>\n",
       "      <td>1</td>\n",
       "      <td>Кира</td>\n",
       "      <td>22</td>\n",
       "      <td>Тюмень</td>\n",
       "      <td>ultra</td>\n",
       "      <td>6</td>\n",
       "      <td>0</td>\n",
       "      <td>199</td>\n",
       "    </tr>\n",
       "    <tr>\n",
       "      <th>2</th>\n",
       "      <td>1</td>\n",
       "      <td>754.159807</td>\n",
       "      <td>6.232113</td>\n",
       "      <td>2021-04-20</td>\n",
       "      <td>4</td>\n",
       "      <td>Кира</td>\n",
       "      <td>22</td>\n",
       "      <td>Тюмень</td>\n",
       "      <td>ultra</td>\n",
       "      <td>6</td>\n",
       "      <td>0</td>\n",
       "      <td>199</td>\n",
       "    </tr>\n",
       "    <tr>\n",
       "      <th>3</th>\n",
       "      <td>1</td>\n",
       "      <td>2694.783254</td>\n",
       "      <td>18.511000</td>\n",
       "      <td>2021-08-11</td>\n",
       "      <td>8</td>\n",
       "      <td>Кира</td>\n",
       "      <td>22</td>\n",
       "      <td>Тюмень</td>\n",
       "      <td>ultra</td>\n",
       "      <td>6</td>\n",
       "      <td>0</td>\n",
       "      <td>199</td>\n",
       "    </tr>\n",
       "    <tr>\n",
       "      <th>4</th>\n",
       "      <td>1</td>\n",
       "      <td>4028.687306</td>\n",
       "      <td>26.265803</td>\n",
       "      <td>2021-08-28</td>\n",
       "      <td>8</td>\n",
       "      <td>Кира</td>\n",
       "      <td>22</td>\n",
       "      <td>Тюмень</td>\n",
       "      <td>ultra</td>\n",
       "      <td>6</td>\n",
       "      <td>0</td>\n",
       "      <td>199</td>\n",
       "    </tr>\n",
       "  </tbody>\n",
       "</table>\n",
       "</div>"
      ],
      "text/plain": [
       "   user_id     distance   duration       date  month  name  age    city  \\\n",
       "0        1  4409.919140  25.599769 2021-01-01      1  Кира   22  Тюмень   \n",
       "1        1  2617.592153  15.816871 2021-01-18      1  Кира   22  Тюмень   \n",
       "2        1   754.159807   6.232113 2021-04-20      4  Кира   22  Тюмень   \n",
       "3        1  2694.783254  18.511000 2021-08-11      8  Кира   22  Тюмень   \n",
       "4        1  4028.687306  26.265803 2021-08-28      8  Кира   22  Тюмень   \n",
       "\n",
       "  subscription_type  minute_price  start_ride_price  subscription_fee  \n",
       "0             ultra             6                 0               199  \n",
       "1             ultra             6                 0               199  \n",
       "2             ultra             6                 0               199  \n",
       "3             ultra             6                 0               199  \n",
       "4             ultra             6                 0               199  "
      ]
     },
     "execution_count": 23,
     "metadata": {},
     "output_type": "execute_result"
    }
   ],
   "source": [
    "df_merge_ultra = df_merge[df_merge['subscription_type'] == 'ultra']\n",
    "df_merge_ultra.info()\n",
    "df_merge_ultra.head()"
   ]
  },
  {
   "cell_type": "markdown",
   "id": "d8fe4d72",
   "metadata": {},
   "source": [
    "<div class=\"alert alert-warning\">\n",
    "<b>⚠️ Комментарий ревьюера v1:</b> \n",
    "<br>Не забывай проверять размерность таблиц после любых операций с ними (создание, срезы, объединение). Это позволит понять, ничего ли не потерялось при объединении\n",
    "</div>"
   ]
  },
  {
   "cell_type": "markdown",
   "id": "8d54cf45",
   "metadata": {},
   "source": [
    "**4.3 Визуализируйте информацию о расстоянии и времени поездок для пользователей обеих категорий**"
   ]
  },
  {
   "cell_type": "code",
   "execution_count": 24,
   "id": "ae3c0f66",
   "metadata": {},
   "outputs": [
    {
     "data": {
      "image/png": "[encoded data removed]",
      "text/plain": [
       "<Figure size 720x360 with 1 Axes>"
      ]
     },
     "metadata": {
      "needs_background": "light"
     },
     "output_type": "display_data"
    }
   ],
   "source": [
    "# визуализируем расстоение пользователей с подпиской и без подписки\n",
    "ax = df_merge_free['distance'].plot(kind = 'hist',color='m', grid=True, figsize = (10,5), bins = 30, label='без подписки')\n",
    "ax = df_merge_ultra['distance'].plot(kind = 'hist', color='y', grid=True, figsize = (10,5), bins = 30, label='с подпиской Ultra')\n",
    "plt.title('Расстояние одной поездки (в метрах) для пользователей с подпиской и без подписки')\n",
    "plt.xlabel('Расстояние в метрах')\n",
    "plt.ylabel('Количество пользователей')\n",
    "plt.legend(loc='upper right')\n",
    "plt.show()"
   ]
  },
  {
   "cell_type": "code",
   "execution_count": 25,
   "id": "3ecff671",
   "metadata": {},
   "outputs": [
    {
     "data": {
      "image/png": "[encoded data removed]",
      "text/plain": [
       "<Figure size 720x360 with 1 Axes>"
      ]
     },
     "metadata": {
      "needs_background": "light"
     },
     "output_type": "display_data"
    }
   ],
   "source": [
    "# визуализируем время поездок пользователей с подпиской и без подписки\n",
    "ax = df_merge_free['duration'].plot(kind = 'hist',color='m', grid=True, figsize = (10,5), bins = 30, label='без подписки')\n",
    "ax = df_merge_ultra['duration'].plot(kind = 'hist', color='y', grid=True, figsize = (10,5), bins = 30, label='с подпиской Ultra')\n",
    "plt.title('Продолжительность одной поездки для пользователей с подпиской и без подписки')\n",
    "plt.xlabel('Время в минутах')\n",
    "plt.ylabel('Количество пользователей')\n",
    "plt.legend(loc='upper right')\n",
    "plt.show()\n"
   ]
  },
  {
   "cell_type": "markdown",
   "id": "826085ae",
   "metadata": {},
   "source": [
    "**Вывод:**\n",
    "\n",
    "На данном этапе мы соеденили все три датафрейми, а потом разделили на два датафрейма: пользователи с подпиской Ultra и пользователей без подписки.\n",
    "\n",
    "На двух сравнительных графиках по расстоянию и времени поездки мы видим различия в показателях. Так пользователи без подписки ездят на различные расстояния, когда пользователи с подпиской ездят на более длинные расстояния.\n",
    "Время поездки у пользователей без подписки на графике отображено шире, чем у пользователей с подпиской. Тут можно сделать вывод, что люди чаще пользуются самокатом пару раз, для чего оформление подписки им не нужно.\n"
   ]
  },
  {
   "cell_type": "markdown",
   "id": "402d620f",
   "metadata": {},
   "source": [
    "#### Шаг 5. Подсчёт выручки"
   ]
  },
  {
   "cell_type": "markdown",
   "id": "0ddc8934",
   "metadata": {},
   "source": [
    "**5.1 Создайте датафрейм с агрегированными данными о поездках на основе датафрейма с объединёнными данными из шага 4: найдите суммарное расстояние, количество поездок и суммарное время для каждого пользователя за каждый месяц**"
   ]
  },
  {
   "cell_type": "code",
   "execution_count": 26,
   "id": "51c58e2d",
   "metadata": {
    "scrolled": true
   },
   "outputs": [
    {
     "data": {
      "text/html": [
       "<div>\n",
       "<style scoped>\n",
       "    .dataframe tbody tr th:only-of-type {\n",
       "        vertical-align: middle;\n",
       "    }\n",
       "\n",
       "    .dataframe tbody tr th {\n",
       "        vertical-align: top;\n",
       "    }\n",
       "\n",
       "    .dataframe thead th {\n",
       "        text-align: right;\n",
       "    }\n",
       "</style>\n",
       "<table border=\"1\" class=\"dataframe\">\n",
       "  <thead>\n",
       "    <tr style=\"text-align: right;\">\n",
       "      <th></th>\n",
       "      <th>user_id</th>\n",
       "      <th>month</th>\n",
       "      <th>count_distance</th>\n",
       "      <th>sum_distance</th>\n",
       "      <th>sum_duration</th>\n",
       "    </tr>\n",
       "  </thead>\n",
       "  <tbody>\n",
       "    <tr>\n",
       "      <th>0</th>\n",
       "      <td>1</td>\n",
       "      <td>1</td>\n",
       "      <td>2</td>\n",
       "      <td>7027.511294</td>\n",
       "      <td>42</td>\n",
       "    </tr>\n",
       "    <tr>\n",
       "      <th>1</th>\n",
       "      <td>1</td>\n",
       "      <td>4</td>\n",
       "      <td>1</td>\n",
       "      <td>754.159807</td>\n",
       "      <td>7</td>\n",
       "    </tr>\n",
       "    <tr>\n",
       "      <th>2</th>\n",
       "      <td>1</td>\n",
       "      <td>8</td>\n",
       "      <td>2</td>\n",
       "      <td>6723.470560</td>\n",
       "      <td>46</td>\n",
       "    </tr>\n",
       "    <tr>\n",
       "      <th>3</th>\n",
       "      <td>1</td>\n",
       "      <td>10</td>\n",
       "      <td>2</td>\n",
       "      <td>5809.911100</td>\n",
       "      <td>32</td>\n",
       "    </tr>\n",
       "    <tr>\n",
       "      <th>4</th>\n",
       "      <td>1</td>\n",
       "      <td>11</td>\n",
       "      <td>3</td>\n",
       "      <td>7003.499363</td>\n",
       "      <td>56</td>\n",
       "    </tr>\n",
       "  </tbody>\n",
       "</table>\n",
       "</div>"
      ],
      "text/plain": [
       "   user_id  month  count_distance  sum_distance  sum_duration\n",
       "0        1      1               2   7027.511294            42\n",
       "1        1      4               1    754.159807             7\n",
       "2        1      8               2   6723.470560            46\n",
       "3        1     10               2   5809.911100            32\n",
       "4        1     11               3   7003.499363            56"
      ]
     },
     "execution_count": 26,
     "metadata": {},
     "output_type": "execute_result"
    }
   ],
   "source": [
    "# округлим время поезки до следующего целого числа\n",
    "df_merge['duration'] = np.ceil(df_merge['duration'])\n",
    "df_merge['duration'] = df_merge['duration'].astype('int')\n",
    "\n",
    "df_merge_agg = df_merge.pivot_table(index= ['user_id', 'month'], values = ['distance', 'duration'], aggfunc = ['count', 'sum'])\n",
    "df_merge_agg.columns = ['_'.join(col) for col in df_merge_agg.columns.values]\n",
    "df_merge_agg = df_merge_agg.drop(columns=['count_duration'])\n",
    "df_merge_agg = df_merge_agg.reset_index()\n",
    "df_merge_agg.head()"
   ]
  },
  {
   "cell_type": "markdown",
   "id": "588600de",
   "metadata": {},
   "source": [
    "\n",
    "\n",
    "* count_distance - количество поездок за месяц\n",
    "* sum_distance - общая дистанция за месяц\n",
    "* sum_duration - сумарное время пользователя за месяц (в минутах)\n",
    "\n"
   ]
  },
  {
   "cell_type": "markdown",
   "id": "0b6c940d",
   "metadata": {},
   "source": [
    "**5.2 В этот же датафрейм добавьте столбец с помесячной выручкой, которую принёс каждый пользователь. Для этого обратитесь к информации об условиях оплаты для подписчиков и тех, у кого нет подписки. Продолжительность каждой поездки в каждой строке исходного датафрейма для подсчёта стоимости округляется до следующего целого числа: например, значения 25.3, 25.5 и 26.0 должны быть преобразованы к 26**\n"
   ]
  },
  {
   "cell_type": "code",
   "execution_count": 27,
   "id": "a2686d57",
   "metadata": {},
   "outputs": [
    {
     "data": {
      "text/html": [
       "<div>\n",
       "<style scoped>\n",
       "    .dataframe tbody tr th:only-of-type {\n",
       "        vertical-align: middle;\n",
       "    }\n",
       "\n",
       "    .dataframe tbody tr th {\n",
       "        vertical-align: top;\n",
       "    }\n",
       "\n",
       "    .dataframe thead th {\n",
       "        text-align: right;\n",
       "    }\n",
       "</style>\n",
       "<table border=\"1\" class=\"dataframe\">\n",
       "  <thead>\n",
       "    <tr style=\"text-align: right;\">\n",
       "      <th></th>\n",
       "      <th>user_id</th>\n",
       "      <th>month</th>\n",
       "      <th>count_distance</th>\n",
       "      <th>sum_distance</th>\n",
       "      <th>sum_duration</th>\n",
       "      <th>name</th>\n",
       "      <th>age</th>\n",
       "      <th>city</th>\n",
       "      <th>subscription_type</th>\n",
       "      <th>minute_price</th>\n",
       "      <th>start_ride_price</th>\n",
       "      <th>subscription_fee</th>\n",
       "    </tr>\n",
       "  </thead>\n",
       "  <tbody>\n",
       "    <tr>\n",
       "      <th>0</th>\n",
       "      <td>1</td>\n",
       "      <td>1</td>\n",
       "      <td>2</td>\n",
       "      <td>7027.511294</td>\n",
       "      <td>42</td>\n",
       "      <td>Кира</td>\n",
       "      <td>22</td>\n",
       "      <td>Тюмень</td>\n",
       "      <td>ultra</td>\n",
       "      <td>6</td>\n",
       "      <td>0</td>\n",
       "      <td>199</td>\n",
       "    </tr>\n",
       "    <tr>\n",
       "      <th>1</th>\n",
       "      <td>1</td>\n",
       "      <td>4</td>\n",
       "      <td>1</td>\n",
       "      <td>754.159807</td>\n",
       "      <td>7</td>\n",
       "      <td>Кира</td>\n",
       "      <td>22</td>\n",
       "      <td>Тюмень</td>\n",
       "      <td>ultra</td>\n",
       "      <td>6</td>\n",
       "      <td>0</td>\n",
       "      <td>199</td>\n",
       "    </tr>\n",
       "    <tr>\n",
       "      <th>2</th>\n",
       "      <td>1</td>\n",
       "      <td>8</td>\n",
       "      <td>2</td>\n",
       "      <td>6723.470560</td>\n",
       "      <td>46</td>\n",
       "      <td>Кира</td>\n",
       "      <td>22</td>\n",
       "      <td>Тюмень</td>\n",
       "      <td>ultra</td>\n",
       "      <td>6</td>\n",
       "      <td>0</td>\n",
       "      <td>199</td>\n",
       "    </tr>\n",
       "    <tr>\n",
       "      <th>3</th>\n",
       "      <td>1</td>\n",
       "      <td>10</td>\n",
       "      <td>2</td>\n",
       "      <td>5809.911100</td>\n",
       "      <td>32</td>\n",
       "      <td>Кира</td>\n",
       "      <td>22</td>\n",
       "      <td>Тюмень</td>\n",
       "      <td>ultra</td>\n",
       "      <td>6</td>\n",
       "      <td>0</td>\n",
       "      <td>199</td>\n",
       "    </tr>\n",
       "    <tr>\n",
       "      <th>4</th>\n",
       "      <td>1</td>\n",
       "      <td>11</td>\n",
       "      <td>3</td>\n",
       "      <td>7003.499363</td>\n",
       "      <td>56</td>\n",
       "      <td>Кира</td>\n",
       "      <td>22</td>\n",
       "      <td>Тюмень</td>\n",
       "      <td>ultra</td>\n",
       "      <td>6</td>\n",
       "      <td>0</td>\n",
       "      <td>199</td>\n",
       "    </tr>\n",
       "  </tbody>\n",
       "</table>\n",
       "</div>"
      ],
      "text/plain": [
       "   user_id  month  count_distance  sum_distance  sum_duration  name  age  \\\n",
       "0        1      1               2   7027.511294            42  Кира   22   \n",
       "1        1      4               1    754.159807             7  Кира   22   \n",
       "2        1      8               2   6723.470560            46  Кира   22   \n",
       "3        1     10               2   5809.911100            32  Кира   22   \n",
       "4        1     11               3   7003.499363            56  Кира   22   \n",
       "\n",
       "     city subscription_type  minute_price  start_ride_price  subscription_fee  \n",
       "0  Тюмень             ultra             6                 0               199  \n",
       "1  Тюмень             ultra             6                 0               199  \n",
       "2  Тюмень             ultra             6                 0               199  \n",
       "3  Тюмень             ultra             6                 0               199  \n",
       "4  Тюмень             ultra             6                 0               199  "
      ]
     },
     "execution_count": 27,
     "metadata": {},
     "output_type": "execute_result"
    }
   ],
   "source": [
    "# соединяем датафреймы\n",
    "df_merge_agg = df_merge_agg.merge(df_users_go, on='user_id')\n",
    "df_merge_agg = df_merge_agg.merge(df_subscriptions_go, on='subscription_type')\n",
    "df_merge_agg.head()"
   ]
  },
  {
   "cell_type": "code",
   "execution_count": 28,
   "id": "3e35e67b",
   "metadata": {},
   "outputs": [
    {
     "data": {
      "text/html": [
       "<div>\n",
       "<style scoped>\n",
       "    .dataframe tbody tr th:only-of-type {\n",
       "        vertical-align: middle;\n",
       "    }\n",
       "\n",
       "    .dataframe tbody tr th {\n",
       "        vertical-align: top;\n",
       "    }\n",
       "\n",
       "    .dataframe thead th {\n",
       "        text-align: right;\n",
       "    }\n",
       "</style>\n",
       "<table border=\"1\" class=\"dataframe\">\n",
       "  <thead>\n",
       "    <tr style=\"text-align: right;\">\n",
       "      <th></th>\n",
       "      <th>user_id</th>\n",
       "      <th>month</th>\n",
       "      <th>count_distance</th>\n",
       "      <th>sum_distance</th>\n",
       "      <th>sum_duration</th>\n",
       "      <th>name</th>\n",
       "      <th>age</th>\n",
       "      <th>city</th>\n",
       "      <th>subscription_type</th>\n",
       "      <th>minute_price</th>\n",
       "      <th>start_ride_price</th>\n",
       "      <th>subscription_fee</th>\n",
       "      <th>gain</th>\n",
       "    </tr>\n",
       "  </thead>\n",
       "  <tbody>\n",
       "    <tr>\n",
       "      <th>0</th>\n",
       "      <td>1</td>\n",
       "      <td>1</td>\n",
       "      <td>2</td>\n",
       "      <td>7027.511294</td>\n",
       "      <td>42</td>\n",
       "      <td>Кира</td>\n",
       "      <td>22</td>\n",
       "      <td>Тюмень</td>\n",
       "      <td>ultra</td>\n",
       "      <td>6</td>\n",
       "      <td>0</td>\n",
       "      <td>199</td>\n",
       "      <td>451</td>\n",
       "    </tr>\n",
       "    <tr>\n",
       "      <th>1</th>\n",
       "      <td>1</td>\n",
       "      <td>4</td>\n",
       "      <td>1</td>\n",
       "      <td>754.159807</td>\n",
       "      <td>7</td>\n",
       "      <td>Кира</td>\n",
       "      <td>22</td>\n",
       "      <td>Тюмень</td>\n",
       "      <td>ultra</td>\n",
       "      <td>6</td>\n",
       "      <td>0</td>\n",
       "      <td>199</td>\n",
       "      <td>241</td>\n",
       "    </tr>\n",
       "    <tr>\n",
       "      <th>2</th>\n",
       "      <td>1</td>\n",
       "      <td>8</td>\n",
       "      <td>2</td>\n",
       "      <td>6723.470560</td>\n",
       "      <td>46</td>\n",
       "      <td>Кира</td>\n",
       "      <td>22</td>\n",
       "      <td>Тюмень</td>\n",
       "      <td>ultra</td>\n",
       "      <td>6</td>\n",
       "      <td>0</td>\n",
       "      <td>199</td>\n",
       "      <td>475</td>\n",
       "    </tr>\n",
       "    <tr>\n",
       "      <th>3</th>\n",
       "      <td>1</td>\n",
       "      <td>10</td>\n",
       "      <td>2</td>\n",
       "      <td>5809.911100</td>\n",
       "      <td>32</td>\n",
       "      <td>Кира</td>\n",
       "      <td>22</td>\n",
       "      <td>Тюмень</td>\n",
       "      <td>ultra</td>\n",
       "      <td>6</td>\n",
       "      <td>0</td>\n",
       "      <td>199</td>\n",
       "      <td>391</td>\n",
       "    </tr>\n",
       "    <tr>\n",
       "      <th>4</th>\n",
       "      <td>1</td>\n",
       "      <td>11</td>\n",
       "      <td>3</td>\n",
       "      <td>7003.499363</td>\n",
       "      <td>56</td>\n",
       "      <td>Кира</td>\n",
       "      <td>22</td>\n",
       "      <td>Тюмень</td>\n",
       "      <td>ultra</td>\n",
       "      <td>6</td>\n",
       "      <td>0</td>\n",
       "      <td>199</td>\n",
       "      <td>535</td>\n",
       "    </tr>\n",
       "  </tbody>\n",
       "</table>\n",
       "</div>"
      ],
      "text/plain": [
       "   user_id  month  count_distance  sum_distance  sum_duration  name  age  \\\n",
       "0        1      1               2   7027.511294            42  Кира   22   \n",
       "1        1      4               1    754.159807             7  Кира   22   \n",
       "2        1      8               2   6723.470560            46  Кира   22   \n",
       "3        1     10               2   5809.911100            32  Кира   22   \n",
       "4        1     11               3   7003.499363            56  Кира   22   \n",
       "\n",
       "     city subscription_type  minute_price  start_ride_price  subscription_fee  \\\n",
       "0  Тюмень             ultra             6                 0               199   \n",
       "1  Тюмень             ultra             6                 0               199   \n",
       "2  Тюмень             ultra             6                 0               199   \n",
       "3  Тюмень             ultra             6                 0               199   \n",
       "4  Тюмень             ultra             6                 0               199   \n",
       "\n",
       "   gain  \n",
       "0   451  \n",
       "1   241  \n",
       "2   475  \n",
       "3   391  \n",
       "4   535  "
      ]
     },
     "execution_count": 28,
     "metadata": {},
     "output_type": "execute_result"
    }
   ],
   "source": [
    "# добавляем столбец с помесячной выручкой, которую принёс каждый пользователь\n",
    "df_merge_agg['gain'] = (df_merge_agg['start_ride_price'] * df_merge_agg['count_distance'] \n",
    "                        + df_merge_agg['minute_price'] * df_merge_agg['sum_duration'] \n",
    "                        + df_merge_agg['subscription_fee']\n",
    "                       )\n",
    "df_merge_agg.head()\n",
    "\n",
    "#df_merge_agg[['user_id', 'name', 'month', 'gain']] # сокращенный датафрейм"
   ]
  },
  {
   "cell_type": "markdown",
   "id": "41545ac0",
   "metadata": {},
   "source": [
    "#### Шаг 6. Проверка гипотез"
   ]
  },
  {
   "cell_type": "markdown",
   "id": "9e5a2b8d",
   "metadata": {},
   "source": [
    "**Продакт-менеджеры сервиса хотят увеличить количество пользователей с подпиской. Для этого они будут проводить различные акции, но сначала нужно выяснить несколько важных моментов.**"
   ]
  },
  {
   "cell_type": "markdown",
   "id": "4c9dc611",
   "metadata": {},
   "source": [
    "**6.1 Важно понять, тратят ли пользователи с подпиской больше времени на поездки? Если да, то пользователи с подпиской могут быть «выгоднее» для компании. Проверьте гипотезу. Используйте исходные данные о продолжительности каждой сессии — отдельно для подписчиков и тех, у кого нет подписки.**"
   ]
  },
  {
   "cell_type": "markdown",
   "id": "eb84a7b0",
   "metadata": {},
   "source": [
    "Сравним две выборки, df_merge_free и df_merge_ultra и проверим гипотезы:\n",
    "\n",
    "    Нулевая теория: пользователи без подписки  и с подпиской тратят одинаковое времени на поездки\n",
    "    Альтернативная гипотеза: пользователи: пользователи с подпиской тратят больше времени на поездки"
   ]
  },
  {
   "cell_type": "code",
   "execution_count": 29,
   "id": "73cac330",
   "metadata": {},
   "outputs": [
    {
     "name": "stdout",
     "output_type": "stream",
     "text": [
      "p-значение: 1.2804098316645618e-34\n",
      "Отвергаем нулевую гипотезу\n"
     ]
    }
   ],
   "source": [
    "# выбранный уровень статичстической значимости\n",
    "alpha = 0.05\n",
    "\n",
    "# проверяем правосторонюю альтернативную гипотезу\n",
    "results = st.ttest_ind(df_merge_ultra['duration'], df_merge_free['duration'], alternative='greater')\n",
    "\n",
    "print('p-значение:', results.pvalue)\n",
    "\n",
    "if results.pvalue < alpha:\n",
    "    print('Отвергаем нулевую гипотезу')\n",
    "else:\n",
    "    print('Не получилось отвергнуть нулевую гипотезу')"
   ]
  },
  {
   "cell_type": "code",
   "execution_count": 30,
   "id": "ec0f6983",
   "metadata": {},
   "outputs": [
    {
     "name": "stdout",
     "output_type": "stream",
     "text": [
      "Среднее поездки пользователей с подпиской: 18.54198516280583\n",
      "Среднее поездки пользователей без подпиской: 17.39090929866399\n"
     ]
    }
   ],
   "source": [
    "# делаем проверку\n",
    "print(f'Среднее поездки пользователей с подпиской: {np.mean(df_merge_ultra.duration)}')\n",
    "print(f'Среднее поездки пользователей без подпиской: {np.mean(df_merge_free.duration)}')"
   ]
  },
  {
   "cell_type": "markdown",
   "id": "d890edab",
   "metadata": {},
   "source": [
    "*Гипотеза верна: среднее время поездок пользователей с подпиской больше, чем время поездок пользователей без подписки.*"
   ]
  },
  {
   "cell_type": "markdown",
   "id": "cca31406",
   "metadata": {},
   "source": [
    "**6.2 Расстояние одной поездки в 3130 метров — оптимальное с точки зрения износа самоката. Можно ли сказать, что среднее расстояние, которое проезжают пользователи с подпиской за одну поездку, не превышает 3130 метров? Проверьте гипотезу и сделайте выводы.**"
   ]
  },
  {
   "cell_type": "markdown",
   "id": "22728253",
   "metadata": {},
   "source": [
    "Проверим гипотезы:\n",
    "\n",
    "    Нулевая гипотеза: среднее расстояние поездки пользователи с подпиской равна 3130 метрам\n",
    "    Альтернативная гипотеза:  среднее расстояние поездки пользователи с подпиской меньше 3130 метров"
   ]
  },
  {
   "cell_type": "code",
   "execution_count": 31,
   "id": "6cad2af3",
   "metadata": {},
   "outputs": [
    {
     "name": "stdout",
     "output_type": "stream",
     "text": [
      "p-значение: 0.9195368847849785\n",
      "Не получилось отвергнуть нулевую гипотезу\n"
     ]
    }
   ],
   "source": [
    "# расстояние одной поездки в метрах\n",
    "interested_value = 3130 \n",
    "\n",
    "# выбранный уровень статичстической значимости\n",
    "alpha = 0.05 \n",
    "\n",
    "# проверяем правосторонюю альтернативную гипотезу\n",
    "results = st.ttest_1samp(df_merge_ultra['distance'], interested_value, alternative='greater')\n",
    "\n",
    "print('p-значение:', results.pvalue)\n",
    "\n",
    "if results.pvalue < alpha:\n",
    "    print('Отвергаем нулевую гипотезу')\n",
    "else:\n",
    "    print('Не получилось отвергнуть нулевую гипотезу')"
   ]
  },
  {
   "cell_type": "code",
   "execution_count": 32,
   "id": "a3060cc8",
   "metadata": {},
   "outputs": [
    {
     "name": "stdout",
     "output_type": "stream",
     "text": [
      "Среднее расстояние поездки пользователей c подпиской: 3115.4453880370247\n"
     ]
    }
   ],
   "source": [
    "# делаем проверку\n",
    "print(f'Среднее расстояние поездки пользователей c подпиской: {np.mean(df_merge_ultra.distance)}')"
   ]
  },
  {
   "cell_type": "markdown",
   "id": "cb8a5016",
   "metadata": {},
   "source": [
    "*Гипотеза верна: среднее расстояние поездки пользователей с подпиской меньше, чем 3130 метров.*"
   ]
  },
  {
   "cell_type": "markdown",
   "id": "13978deb",
   "metadata": {},
   "source": [
    "**6.3 Проверьте гипотезу о том, будет ли помесячная выручка от пользователей с подпиской по месяцам выше, чем выручка от пользователей без подписки. Сделайте вывод.**"
   ]
  },
  {
   "cell_type": "markdown",
   "id": "faab1403",
   "metadata": {},
   "source": [
    "Проверим гипотезы:\n",
    "\n",
    "    Нулевая гипотеза: помесячная выручка от пользователей с подпиской и без подписки равны.\n",
    "    Альтернативная гипотеза: помесячная выручка от пользователей с подпиской выше, чем выручка от пользователей без подписки"
   ]
  },
  {
   "cell_type": "code",
   "execution_count": 33,
   "id": "214ff098",
   "metadata": {},
   "outputs": [
    {
     "name": "stdout",
     "output_type": "stream",
     "text": [
      "p-значение: 1.8850394384715216e-31\n",
      "Отвергаем нулевую гипотезу\n"
     ]
    }
   ],
   "source": [
    "# создаем две выборки с помесячной выручкой \n",
    "df_merge_agg_ultra = df_merge_agg[df_merge_agg['subscription_type'] == 'ultra']\n",
    "df_merge_agg_free = df_merge_agg[df_merge_agg['subscription_type'] == 'free']\n",
    "\n",
    "# выбранный уровень статичстической значимости\n",
    "alpha = 0.05\n",
    "\n",
    "# проверяем правосторонюю альтернативную гипотезу\n",
    "results = st.ttest_ind(df_merge_agg_ultra['gain'], df_merge_agg_free['gain'], alternative='greater')\n",
    "\n",
    "print('p-значение:', results.pvalue)\n",
    "\n",
    "if results.pvalue < alpha:\n",
    "    print('Отвергаем нулевую гипотезу')\n",
    "else:\n",
    "    print('Нет оснований отвергнуть нулевую гипотезу')"
   ]
  },
  {
   "cell_type": "code",
   "execution_count": 34,
   "id": "f68112e3",
   "metadata": {},
   "outputs": [
    {
     "name": "stdout",
     "output_type": "stream",
     "text": [
      "Средняя помесячная выручка от пользователи с подпиской: 362.7921906022502\n",
      "Средняя помесячная выручка от пользователи без подписки:328.6413651073845\n"
     ]
    }
   ],
   "source": [
    "# делаем проверку\n",
    "print(f'Средняя помесячная выручка от пользователи с подпиской: {np.mean(df_merge_agg_ultra.gain)}')\n",
    "print(f'Средняя помесячная выручка от пользователи без подписки:{np.mean(df_merge_agg_free.gain)}')"
   ]
  },
  {
   "cell_type": "markdown",
   "id": "d559e9d4",
   "metadata": {},
   "source": [
    "*Гипотеза верна: средняя помесячная выручка от пользователей с подпиской больше, что от пользователей без подписки.*"
   ]
  },
  {
   "cell_type": "markdown",
   "id": "98335853",
   "metadata": {},
   "source": [
    "**6.4 Представьте такую ситуацию: техническая команда сервиса обновила сервера, с которыми взаимодействует мобильное приложение. Она надеется, что из-за этого количество обращений в техподдержку значимо снизилось. Некоторый файл содержит для каждого пользователя данные о количестве обращений до обновления и после него. Какой тест вам понадобился бы для проверки этой гипотезы?**"
   ]
  },
  {
   "cell_type": "markdown",
   "id": "7e84c380",
   "metadata": {},
   "source": [
    "В данном случае правильнее применить двухвыборочный t-тест для зависимых выборок. В метод st.ttest_rel() нужно передать две выборки: наборы данных до обновления и после."
   ]
  },
  {
   "cell_type": "markdown",
   "id": "fae8922a",
   "metadata": {},
   "source": [
    "**ИТОГОВЫЙ ВЫВОД:**\n",
    "\n",
    "При статистическом анализе данных нам удалость выяснить:\n",
    "\n",
    "* Больше всего пользователей из города Пятигорск (219), а меньше всего из Москвы (168);\n",
    "* Без подписки пользователей больше(835) - это 54.4%, чем с подпиской Ultra(699) - 45.6%;\n",
    "* Больше всего пользователей 25 лет. Медиана - 24,9, что доказывает наши выводы о графике;\n",
    "* В среднем пользователель проезжает за одну поездку чуть больше 3-х киллометров;\n",
    "* Среднее время одной поездки 17.7 минут. Максимальное время поездки 40.8 минут;\n",
    "\n",
    "В ходе исследования были подтверждены следующие гипотезы:\n",
    "\n",
    "* среднее время поездок пользователей с подпиской больше, чем время поездок пользователей без подписки;\n",
    "* среднее расстояние поездки пользователей с подпиской меньше, чем 3130 метров;\n",
    "* средняя помесячная выручка от пользователей с подпиской больше, что от пользователей без подписки.\n",
    "\n",
    "\n"
   ]
  }
 ],
 "metadata": {
  "ExecuteTimeLog": [
   {
    "duration": 47,
    "start_time": "2024-01-28T19:24:24.438Z"
   },
   {
    "duration": 335,
    "start_time": "2024-01-28T19:24:26.926Z"
   },
   {
    "duration": 206,
    "start_time": "2024-01-28T19:24:27.589Z"
   },
   {
    "duration": 2,
    "start_time": "2024-01-28T19:43:39.658Z"
   },
   {
    "duration": 67,
    "start_time": "2024-01-28T19:43:40.159Z"
   },
   {
    "duration": 50,
    "start_time": "2024-01-31T13:30:18.154Z"
   },
   {
    "duration": 438,
    "start_time": "2024-01-31T13:30:24.270Z"
   },
   {
    "duration": 187,
    "start_time": "2024-01-31T13:30:24.710Z"
   },
   {
    "duration": 11,
    "start_time": "2024-01-31T13:30:25.022Z"
   },
   {
    "duration": 15,
    "start_time": "2024-01-31T13:32:03.167Z"
   },
   {
    "duration": 10,
    "start_time": "2024-01-31T13:32:51.169Z"
   },
   {
    "duration": 11,
    "start_time": "2024-01-31T13:49:43.863Z"
   },
   {
    "duration": 5,
    "start_time": "2024-01-31T13:50:29.618Z"
   },
   {
    "duration": 7,
    "start_time": "2024-01-31T13:51:47.872Z"
   },
   {
    "duration": 6,
    "start_time": "2024-01-31T13:52:08.806Z"
   },
   {
    "duration": 6,
    "start_time": "2024-01-31T13:52:08.813Z"
   },
   {
    "duration": 67,
    "start_time": "2024-01-31T13:52:33.677Z"
   },
   {
    "duration": 100,
    "start_time": "2024-01-31T13:52:41.247Z"
   },
   {
    "duration": 29,
    "start_time": "2024-01-31T13:52:50.206Z"
   },
   {
    "duration": 5,
    "start_time": "2024-01-31T13:52:57.974Z"
   },
   {
    "duration": 7,
    "start_time": "2024-01-31T13:53:21.762Z"
   },
   {
    "duration": 6,
    "start_time": "2024-01-31T13:56:07.635Z"
   },
   {
    "duration": 7,
    "start_time": "2024-01-31T13:56:07.842Z"
   },
   {
    "duration": 7,
    "start_time": "2024-01-31T13:58:51.435Z"
   },
   {
    "duration": 11,
    "start_time": "2024-01-31T14:00:16.183Z"
   },
   {
    "duration": 6,
    "start_time": "2024-01-31T14:00:33.890Z"
   },
   {
    "duration": 10,
    "start_time": "2024-01-31T14:03:42.437Z"
   },
   {
    "duration": 897,
    "start_time": "2024-01-31T14:04:10.977Z"
   },
   {
    "duration": 79,
    "start_time": "2024-01-31T14:04:11.877Z"
   },
   {
    "duration": 13,
    "start_time": "2024-01-31T14:04:11.958Z"
   },
   {
    "duration": 16,
    "start_time": "2024-01-31T14:04:11.973Z"
   },
   {
    "duration": 11,
    "start_time": "2024-01-31T14:04:12.321Z"
   },
   {
    "duration": 6,
    "start_time": "2024-01-31T14:04:14.276Z"
   },
   {
    "duration": 9,
    "start_time": "2024-01-31T14:04:14.628Z"
   },
   {
    "duration": 6,
    "start_time": "2024-01-31T14:04:15.038Z"
   },
   {
    "duration": 9,
    "start_time": "2024-01-31T14:04:15.976Z"
   },
   {
    "duration": 8,
    "start_time": "2024-01-31T14:04:16.504Z"
   },
   {
    "duration": 42,
    "start_time": "2024-01-31T14:04:17.273Z"
   },
   {
    "duration": 9,
    "start_time": "2024-01-31T14:05:28.160Z"
   },
   {
    "duration": 9,
    "start_time": "2024-01-31T14:06:01.770Z"
   },
   {
    "duration": 19,
    "start_time": "2024-01-31T14:07:12.640Z"
   },
   {
    "duration": 23,
    "start_time": "2024-01-31T14:07:45.379Z"
   },
   {
    "duration": 5,
    "start_time": "2024-01-31T14:10:06.877Z"
   },
   {
    "duration": 5,
    "start_time": "2024-01-31T14:10:25.072Z"
   },
   {
    "duration": 1107,
    "start_time": "2024-01-31T14:10:41.133Z"
   },
   {
    "duration": 68,
    "start_time": "2024-01-31T14:10:42.242Z"
   },
   {
    "duration": 12,
    "start_time": "2024-01-31T14:10:42.312Z"
   },
   {
    "duration": 12,
    "start_time": "2024-01-31T14:10:42.326Z"
   },
   {
    "duration": 15,
    "start_time": "2024-01-31T14:10:42.339Z"
   },
   {
    "duration": 10,
    "start_time": "2024-01-31T14:10:42.356Z"
   },
   {
    "duration": 7,
    "start_time": "2024-01-31T14:10:42.367Z"
   },
   {
    "duration": 11,
    "start_time": "2024-01-31T14:10:42.376Z"
   },
   {
    "duration": 9,
    "start_time": "2024-01-31T14:10:42.388Z"
   },
   {
    "duration": 7,
    "start_time": "2024-01-31T14:10:42.399Z"
   },
   {
    "duration": 43,
    "start_time": "2024-01-31T14:10:42.407Z"
   },
   {
    "duration": 25,
    "start_time": "2024-01-31T14:10:42.452Z"
   },
   {
    "duration": 10,
    "start_time": "2024-01-31T14:10:42.479Z"
   },
   {
    "duration": 52,
    "start_time": "2024-02-01T08:16:42.213Z"
   },
   {
    "duration": 1245,
    "start_time": "2024-02-01T08:17:20.719Z"
   },
   {
    "duration": 281,
    "start_time": "2024-02-01T08:17:21.967Z"
   },
   {
    "duration": 14,
    "start_time": "2024-02-01T08:17:22.249Z"
   },
   {
    "duration": 26,
    "start_time": "2024-02-01T08:17:22.265Z"
   },
   {
    "duration": 24,
    "start_time": "2024-02-01T08:17:22.292Z"
   },
   {
    "duration": 5,
    "start_time": "2024-02-01T08:17:24.672Z"
   },
   {
    "duration": 8,
    "start_time": "2024-02-01T08:17:25.201Z"
   },
   {
    "duration": 7,
    "start_time": "2024-02-01T08:17:25.691Z"
   },
   {
    "duration": 7,
    "start_time": "2024-02-01T08:17:26.682Z"
   },
   {
    "duration": 6,
    "start_time": "2024-02-01T08:17:29.528Z"
   },
   {
    "duration": 24,
    "start_time": "2024-02-01T08:17:30.394Z"
   },
   {
    "duration": 4,
    "start_time": "2024-02-01T08:17:33.785Z"
   },
   {
    "duration": 5,
    "start_time": "2024-02-01T08:17:35.928Z"
   },
   {
    "duration": 173,
    "start_time": "2024-02-01T08:17:37.593Z"
   },
   {
    "duration": 15,
    "start_time": "2024-02-01T08:19:25.495Z"
   },
   {
    "duration": 10,
    "start_time": "2024-02-01T08:19:37.407Z"
   },
   {
    "duration": 6,
    "start_time": "2024-02-01T08:19:45.071Z"
   },
   {
    "duration": 7,
    "start_time": "2024-02-01T08:19:45.839Z"
   },
   {
    "duration": 1115,
    "start_time": "2024-02-01T08:19:52.859Z"
   },
   {
    "duration": 68,
    "start_time": "2024-02-01T08:19:53.976Z"
   },
   {
    "duration": 12,
    "start_time": "2024-02-01T08:19:54.046Z"
   },
   {
    "duration": 30,
    "start_time": "2024-02-01T08:19:54.059Z"
   },
   {
    "duration": 22,
    "start_time": "2024-02-01T08:19:54.090Z"
   },
   {
    "duration": 19,
    "start_time": "2024-02-01T08:19:54.113Z"
   },
   {
    "duration": 42,
    "start_time": "2024-02-01T08:19:54.134Z"
   },
   {
    "duration": 12,
    "start_time": "2024-02-01T08:19:54.178Z"
   },
   {
    "duration": 24,
    "start_time": "2024-02-01T08:19:54.191Z"
   },
   {
    "duration": 11,
    "start_time": "2024-02-01T08:19:54.218Z"
   },
   {
    "duration": 44,
    "start_time": "2024-02-01T08:19:54.231Z"
   },
   {
    "duration": 4,
    "start_time": "2024-02-01T08:19:54.277Z"
   },
   {
    "duration": 18,
    "start_time": "2024-02-01T08:19:54.283Z"
   },
   {
    "duration": 111,
    "start_time": "2024-02-01T08:19:54.303Z"
   },
   {
    "duration": 13,
    "start_time": "2024-02-01T08:20:07.672Z"
   },
   {
    "duration": 194,
    "start_time": "2024-02-01T08:20:59.831Z"
   },
   {
    "duration": 203,
    "start_time": "2024-02-01T08:25:13.045Z"
   },
   {
    "duration": 186,
    "start_time": "2024-02-01T08:25:25.802Z"
   },
   {
    "duration": 193,
    "start_time": "2024-02-01T08:25:38.325Z"
   },
   {
    "duration": 192,
    "start_time": "2024-02-01T08:25:53.798Z"
   },
   {
    "duration": 167,
    "start_time": "2024-02-01T08:26:01.447Z"
   },
   {
    "duration": 168,
    "start_time": "2024-02-01T08:38:38.099Z"
   },
   {
    "duration": 160,
    "start_time": "2024-02-01T08:42:06.179Z"
   },
   {
    "duration": 146,
    "start_time": "2024-02-01T08:46:01.015Z"
   },
   {
    "duration": 207,
    "start_time": "2024-02-01T08:46:15.155Z"
   },
   {
    "duration": 166,
    "start_time": "2024-02-01T08:51:33.488Z"
   },
   {
    "duration": 147,
    "start_time": "2024-02-01T08:51:55.555Z"
   },
   {
    "duration": 73,
    "start_time": "2024-02-01T08:53:25.380Z"
   },
   {
    "duration": 143,
    "start_time": "2024-02-01T08:53:34.874Z"
   },
   {
    "duration": 156,
    "start_time": "2024-02-01T08:53:58.519Z"
   },
   {
    "duration": 141,
    "start_time": "2024-02-01T08:54:09.804Z"
   },
   {
    "duration": 127,
    "start_time": "2024-02-01T08:54:22.806Z"
   },
   {
    "duration": 148,
    "start_time": "2024-02-01T08:54:31.311Z"
   },
   {
    "duration": 135,
    "start_time": "2024-02-01T08:54:51.888Z"
   },
   {
    "duration": 154,
    "start_time": "2024-02-01T08:55:13.233Z"
   },
   {
    "duration": 137,
    "start_time": "2024-02-01T08:55:48.456Z"
   },
   {
    "duration": 241,
    "start_time": "2024-02-01T09:00:10.758Z"
   },
   {
    "duration": 135,
    "start_time": "2024-02-01T09:00:16.590Z"
   },
   {
    "duration": 168,
    "start_time": "2024-02-01T09:02:51.775Z"
   },
   {
    "duration": 1340,
    "start_time": "2024-02-01T09:03:47.666Z"
   },
   {
    "duration": 281,
    "start_time": "2024-02-01T09:04:06.818Z"
   },
   {
    "duration": 176,
    "start_time": "2024-02-01T09:06:13.966Z"
   },
   {
    "duration": 169,
    "start_time": "2024-02-01T09:06:33.667Z"
   },
   {
    "duration": 175,
    "start_time": "2024-02-01T09:06:48.405Z"
   },
   {
    "duration": 171,
    "start_time": "2024-02-01T09:10:54.453Z"
   },
   {
    "duration": 198,
    "start_time": "2024-02-01T09:13:05.688Z"
   },
   {
    "duration": 170,
    "start_time": "2024-02-01T09:15:51.298Z"
   },
   {
    "duration": 255,
    "start_time": "2024-02-01T09:17:00.187Z"
   },
   {
    "duration": 177,
    "start_time": "2024-02-01T09:17:09.266Z"
   },
   {
    "duration": 1103,
    "start_time": "2024-02-01T09:27:58.020Z"
   },
   {
    "duration": 66,
    "start_time": "2024-02-01T09:27:59.124Z"
   },
   {
    "duration": 13,
    "start_time": "2024-02-01T09:27:59.192Z"
   },
   {
    "duration": 10,
    "start_time": "2024-02-01T09:27:59.206Z"
   },
   {
    "duration": 8,
    "start_time": "2024-02-01T09:27:59.218Z"
   },
   {
    "duration": 7,
    "start_time": "2024-02-01T09:27:59.228Z"
   },
   {
    "duration": 6,
    "start_time": "2024-02-01T09:27:59.236Z"
   },
   {
    "duration": 7,
    "start_time": "2024-02-01T09:27:59.243Z"
   },
   {
    "duration": 9,
    "start_time": "2024-02-01T09:27:59.251Z"
   },
   {
    "duration": 33,
    "start_time": "2024-02-01T09:27:59.262Z"
   },
   {
    "duration": 20,
    "start_time": "2024-02-01T09:27:59.297Z"
   },
   {
    "duration": 4,
    "start_time": "2024-02-01T09:27:59.319Z"
   },
   {
    "duration": 7,
    "start_time": "2024-02-01T09:27:59.324Z"
   },
   {
    "duration": 206,
    "start_time": "2024-02-01T09:27:59.333Z"
   },
   {
    "duration": 178,
    "start_time": "2024-02-01T09:27:59.541Z"
   },
   {
    "duration": 182,
    "start_time": "2024-02-01T09:27:59.720Z"
   },
   {
    "duration": 182,
    "start_time": "2024-02-01T09:27:59.904Z"
   },
   {
    "duration": 101,
    "start_time": "2024-02-01T09:28:00.094Z"
   },
   {
    "duration": 191,
    "start_time": "2024-02-01T09:28:39.639Z"
   },
   {
    "duration": 1045,
    "start_time": "2024-02-01T09:31:50.429Z"
   },
   {
    "duration": 67,
    "start_time": "2024-02-01T09:31:51.476Z"
   },
   {
    "duration": 11,
    "start_time": "2024-02-01T09:31:51.545Z"
   },
   {
    "duration": 30,
    "start_time": "2024-02-01T09:31:51.558Z"
   },
   {
    "duration": 22,
    "start_time": "2024-02-01T09:31:51.589Z"
   },
   {
    "duration": 7,
    "start_time": "2024-02-01T09:31:51.613Z"
   },
   {
    "duration": 26,
    "start_time": "2024-02-01T09:31:51.621Z"
   },
   {
    "duration": 28,
    "start_time": "2024-02-01T09:31:51.649Z"
   },
   {
    "duration": 47,
    "start_time": "2024-02-01T09:31:51.679Z"
   },
   {
    "duration": 15,
    "start_time": "2024-02-01T09:31:51.728Z"
   },
   {
    "duration": 33,
    "start_time": "2024-02-01T09:31:51.744Z"
   },
   {
    "duration": 11,
    "start_time": "2024-02-01T09:31:51.778Z"
   },
   {
    "duration": 19,
    "start_time": "2024-02-01T09:31:51.791Z"
   },
   {
    "duration": 182,
    "start_time": "2024-02-01T09:31:51.812Z"
   },
   {
    "duration": 158,
    "start_time": "2024-02-01T09:31:51.995Z"
   },
   {
    "duration": 191,
    "start_time": "2024-02-01T09:31:52.154Z"
   },
   {
    "duration": 196,
    "start_time": "2024-02-01T09:31:52.347Z"
   },
   {
    "duration": 212,
    "start_time": "2024-02-01T09:31:52.544Z"
   },
   {
    "duration": 197,
    "start_time": "2024-02-01T09:32:14.178Z"
   },
   {
    "duration": 223,
    "start_time": "2024-02-01T09:33:31.408Z"
   },
   {
    "duration": 1091,
    "start_time": "2024-02-01T09:36:45.068Z"
   },
   {
    "duration": 68,
    "start_time": "2024-02-01T09:36:46.161Z"
   },
   {
    "duration": 12,
    "start_time": "2024-02-01T09:36:46.231Z"
   },
   {
    "duration": 17,
    "start_time": "2024-02-01T09:36:46.245Z"
   },
   {
    "duration": 16,
    "start_time": "2024-02-01T09:36:46.263Z"
   },
   {
    "duration": 94,
    "start_time": "2024-02-01T09:36:46.281Z"
   },
   {
    "duration": 32,
    "start_time": "2024-02-01T09:36:46.377Z"
   },
   {
    "duration": 9,
    "start_time": "2024-02-01T09:36:46.410Z"
   },
   {
    "duration": 10,
    "start_time": "2024-02-01T09:36:46.420Z"
   },
   {
    "duration": 10,
    "start_time": "2024-02-01T09:36:46.432Z"
   },
   {
    "duration": 20,
    "start_time": "2024-02-01T09:36:46.443Z"
   },
   {
    "duration": 6,
    "start_time": "2024-02-01T09:36:46.465Z"
   },
   {
    "duration": 17,
    "start_time": "2024-02-01T09:36:46.472Z"
   },
   {
    "duration": 183,
    "start_time": "2024-02-01T09:36:46.494Z"
   },
   {
    "duration": 165,
    "start_time": "2024-02-01T09:36:46.679Z"
   },
   {
    "duration": 187,
    "start_time": "2024-02-01T09:36:46.846Z"
   },
   {
    "duration": 217,
    "start_time": "2024-02-01T09:36:47.034Z"
   },
   {
    "duration": 211,
    "start_time": "2024-02-01T09:36:47.252Z"
   },
   {
    "duration": 30,
    "start_time": "2024-02-01T10:57:02.653Z"
   },
   {
    "duration": 28,
    "start_time": "2024-02-01T10:58:15.186Z"
   },
   {
    "duration": 18,
    "start_time": "2024-02-01T10:59:21.460Z"
   },
   {
    "duration": 20,
    "start_time": "2024-02-01T10:59:37.903Z"
   },
   {
    "duration": 28,
    "start_time": "2024-02-01T10:59:50.307Z"
   },
   {
    "duration": 23,
    "start_time": "2024-02-01T11:00:00.019Z"
   },
   {
    "duration": 96,
    "start_time": "2024-02-01T11:05:12.018Z"
   },
   {
    "duration": 7,
    "start_time": "2024-02-01T11:05:19.767Z"
   },
   {
    "duration": 15,
    "start_time": "2024-02-01T11:05:34.007Z"
   },
   {
    "duration": 14,
    "start_time": "2024-02-01T11:06:50.506Z"
   },
   {
    "duration": 37,
    "start_time": "2024-02-01T11:08:00.029Z"
   },
   {
    "duration": 16,
    "start_time": "2024-02-01T11:08:00.551Z"
   },
   {
    "duration": 16,
    "start_time": "2024-02-01T11:08:00.764Z"
   },
   {
    "duration": 14,
    "start_time": "2024-02-01T11:08:06.089Z"
   },
   {
    "duration": 13,
    "start_time": "2024-02-01T11:08:06.363Z"
   },
   {
    "duration": 254,
    "start_time": "2024-02-01T11:10:46.590Z"
   },
   {
    "duration": 240,
    "start_time": "2024-02-01T11:12:12.242Z"
   },
   {
    "duration": 313,
    "start_time": "2024-02-01T11:13:44.000Z"
   },
   {
    "duration": 242,
    "start_time": "2024-02-01T11:14:33.014Z"
   },
   {
    "duration": 247,
    "start_time": "2024-02-01T11:14:50.695Z"
   },
   {
    "duration": 246,
    "start_time": "2024-02-01T11:15:09.174Z"
   },
   {
    "duration": 238,
    "start_time": "2024-02-01T11:15:28.497Z"
   },
   {
    "duration": 317,
    "start_time": "2024-02-01T11:16:12.187Z"
   },
   {
    "duration": 234,
    "start_time": "2024-02-01T11:16:19.119Z"
   },
   {
    "duration": 271,
    "start_time": "2024-02-01T11:16:48.800Z"
   },
   {
    "duration": 227,
    "start_time": "2024-02-01T11:16:59.512Z"
   },
   {
    "duration": 244,
    "start_time": "2024-02-01T11:23:36.625Z"
   },
   {
    "duration": 251,
    "start_time": "2024-02-01T11:25:59.936Z"
   },
   {
    "duration": 106,
    "start_time": "2024-02-01T11:47:34.287Z"
   },
   {
    "duration": 36,
    "start_time": "2024-02-01T11:47:51.362Z"
   },
   {
    "duration": 33,
    "start_time": "2024-02-01T11:49:32.510Z"
   },
   {
    "duration": 1412,
    "start_time": "2024-02-01T11:51:36.617Z"
   },
   {
    "duration": 32,
    "start_time": "2024-02-01T11:51:42.752Z"
   },
   {
    "duration": 24,
    "start_time": "2024-02-01T12:00:31.891Z"
   },
   {
    "duration": 224,
    "start_time": "2024-02-01T12:02:10.763Z"
   },
   {
    "duration": 2,
    "start_time": "2024-02-01T12:02:28.820Z"
   },
   {
    "duration": 186,
    "start_time": "2024-02-01T12:02:29.197Z"
   },
   {
    "duration": 198,
    "start_time": "2024-02-01T12:10:55.683Z"
   },
   {
    "duration": 192,
    "start_time": "2024-02-01T12:11:18.086Z"
   },
   {
    "duration": 18,
    "start_time": "2024-02-01T12:14:44.695Z"
   },
   {
    "duration": 80,
    "start_time": "2024-02-01T12:15:41.284Z"
   },
   {
    "duration": 108,
    "start_time": "2024-02-01T12:16:10.955Z"
   },
   {
    "duration": 3,
    "start_time": "2024-02-01T12:16:31.188Z"
   },
   {
    "duration": 13,
    "start_time": "2024-02-01T12:16:49.992Z"
   },
   {
    "duration": 12,
    "start_time": "2024-02-01T12:17:00.966Z"
   },
   {
    "duration": 13,
    "start_time": "2024-02-01T12:17:22.511Z"
   },
   {
    "duration": 1030,
    "start_time": "2024-02-01T12:17:44.026Z"
   },
   {
    "duration": 66,
    "start_time": "2024-02-01T12:17:45.058Z"
   },
   {
    "duration": 13,
    "start_time": "2024-02-01T12:17:45.125Z"
   },
   {
    "duration": 95,
    "start_time": "2024-02-01T12:17:45.139Z"
   },
   {
    "duration": 77,
    "start_time": "2024-02-01T12:17:45.235Z"
   },
   {
    "duration": 106,
    "start_time": "2024-02-01T12:17:45.314Z"
   },
   {
    "duration": 65,
    "start_time": "2024-02-01T12:17:45.422Z"
   },
   {
    "duration": 73,
    "start_time": "2024-02-01T12:17:45.489Z"
   },
   {
    "duration": 84,
    "start_time": "2024-02-01T12:17:45.563Z"
   },
   {
    "duration": 27,
    "start_time": "2024-02-01T12:17:45.650Z"
   },
   {
    "duration": 40,
    "start_time": "2024-02-01T12:17:45.679Z"
   },
   {
    "duration": 25,
    "start_time": "2024-02-01T12:17:45.721Z"
   },
   {
    "duration": 29,
    "start_time": "2024-02-01T12:17:45.747Z"
   },
   {
    "duration": 199,
    "start_time": "2024-02-01T12:17:45.778Z"
   },
   {
    "duration": 149,
    "start_time": "2024-02-01T12:17:45.979Z"
   },
   {
    "duration": 179,
    "start_time": "2024-02-01T12:17:46.130Z"
   },
   {
    "duration": 204,
    "start_time": "2024-02-01T12:17:46.310Z"
   },
   {
    "duration": 204,
    "start_time": "2024-02-01T12:17:46.515Z"
   },
   {
    "duration": 23,
    "start_time": "2024-02-01T12:17:46.721Z"
   },
   {
    "duration": 21,
    "start_time": "2024-02-01T12:17:46.746Z"
   },
   {
    "duration": 33,
    "start_time": "2024-02-01T12:17:46.769Z"
   },
   {
    "duration": 243,
    "start_time": "2024-02-01T12:17:46.804Z"
   },
   {
    "duration": 257,
    "start_time": "2024-02-01T12:17:47.049Z"
   },
   {
    "duration": 111,
    "start_time": "2024-02-01T12:17:47.308Z"
   },
   {
    "duration": 1463,
    "start_time": "2024-02-01T12:17:47.420Z"
   },
   {
    "duration": 9,
    "start_time": "2024-02-01T12:19:11.050Z"
   },
   {
    "duration": 25,
    "start_time": "2024-02-01T12:19:39.700Z"
   },
   {
    "duration": 13,
    "start_time": "2024-02-01T12:19:41.014Z"
   },
   {
    "duration": 20,
    "start_time": "2024-02-01T12:20:21.895Z"
   },
   {
    "duration": 14,
    "start_time": "2024-02-01T12:20:33.937Z"
   },
   {
    "duration": 1053,
    "start_time": "2024-02-01T12:20:42.288Z"
   },
   {
    "duration": 68,
    "start_time": "2024-02-01T12:20:43.343Z"
   },
   {
    "duration": 18,
    "start_time": "2024-02-01T12:20:43.413Z"
   },
   {
    "duration": 27,
    "start_time": "2024-02-01T12:20:43.433Z"
   },
   {
    "duration": 17,
    "start_time": "2024-02-01T12:20:43.462Z"
   },
   {
    "duration": 25,
    "start_time": "2024-02-01T12:20:43.480Z"
   },
   {
    "duration": 23,
    "start_time": "2024-02-01T12:20:43.507Z"
   },
   {
    "duration": 35,
    "start_time": "2024-02-01T12:20:43.531Z"
   },
   {
    "duration": 12,
    "start_time": "2024-02-01T12:20:43.568Z"
   },
   {
    "duration": 9,
    "start_time": "2024-02-01T12:20:43.582Z"
   },
   {
    "duration": 31,
    "start_time": "2024-02-01T12:20:43.592Z"
   },
   {
    "duration": 4,
    "start_time": "2024-02-01T12:20:43.624Z"
   },
   {
    "duration": 8,
    "start_time": "2024-02-01T12:20:43.629Z"
   },
   {
    "duration": 183,
    "start_time": "2024-02-01T12:20:43.638Z"
   },
   {
    "duration": 161,
    "start_time": "2024-02-01T12:20:43.823Z"
   },
   {
    "duration": 209,
    "start_time": "2024-02-01T12:20:43.986Z"
   },
   {
    "duration": 209,
    "start_time": "2024-02-01T12:20:44.196Z"
   },
   {
    "duration": 223,
    "start_time": "2024-02-01T12:20:44.407Z"
   },
   {
    "duration": 23,
    "start_time": "2024-02-01T12:20:44.631Z"
   },
   {
    "duration": 16,
    "start_time": "2024-02-01T12:20:44.655Z"
   },
   {
    "duration": 32,
    "start_time": "2024-02-01T12:20:44.673Z"
   },
   {
    "duration": 260,
    "start_time": "2024-02-01T12:20:44.707Z"
   },
   {
    "duration": 283,
    "start_time": "2024-02-01T12:20:44.969Z"
   },
   {
    "duration": 114,
    "start_time": "2024-02-01T12:20:45.254Z"
   },
   {
    "duration": 30,
    "start_time": "2024-02-01T12:20:45.370Z"
   },
   {
    "duration": 35,
    "start_time": "2024-02-01T12:20:45.402Z"
   },
   {
    "duration": 12,
    "start_time": "2024-02-01T12:21:24.722Z"
   },
   {
    "duration": 1002,
    "start_time": "2024-02-01T12:21:32.646Z"
   },
   {
    "duration": 66,
    "start_time": "2024-02-01T12:21:33.650Z"
   },
   {
    "duration": 13,
    "start_time": "2024-02-01T12:21:33.717Z"
   },
   {
    "duration": 56,
    "start_time": "2024-02-01T12:21:33.732Z"
   },
   {
    "duration": 23,
    "start_time": "2024-02-01T12:21:33.790Z"
   },
   {
    "duration": 32,
    "start_time": "2024-02-01T12:21:33.814Z"
   },
   {
    "duration": 58,
    "start_time": "2024-02-01T12:21:33.847Z"
   },
   {
    "duration": 41,
    "start_time": "2024-02-01T12:21:33.906Z"
   },
   {
    "duration": 27,
    "start_time": "2024-02-01T12:21:33.948Z"
   },
   {
    "duration": 10,
    "start_time": "2024-02-01T12:21:33.977Z"
   },
   {
    "duration": 37,
    "start_time": "2024-02-01T12:21:33.989Z"
   },
   {
    "duration": 6,
    "start_time": "2024-02-01T12:21:34.027Z"
   },
   {
    "duration": 33,
    "start_time": "2024-02-01T12:21:34.035Z"
   },
   {
    "duration": 193,
    "start_time": "2024-02-01T12:21:34.070Z"
   },
   {
    "duration": 162,
    "start_time": "2024-02-01T12:21:34.264Z"
   },
   {
    "duration": 204,
    "start_time": "2024-02-01T12:21:34.428Z"
   },
   {
    "duration": 210,
    "start_time": "2024-02-01T12:21:34.634Z"
   },
   {
    "duration": 225,
    "start_time": "2024-02-01T12:21:34.846Z"
   },
   {
    "duration": 39,
    "start_time": "2024-02-01T12:21:35.072Z"
   },
   {
    "duration": 14,
    "start_time": "2024-02-01T12:21:35.112Z"
   },
   {
    "duration": 13,
    "start_time": "2024-02-01T12:21:35.127Z"
   },
   {
    "duration": 254,
    "start_time": "2024-02-01T12:21:35.141Z"
   },
   {
    "duration": 263,
    "start_time": "2024-02-01T12:21:35.397Z"
   },
   {
    "duration": 113,
    "start_time": "2024-02-01T12:21:35.661Z"
   },
   {
    "duration": 24,
    "start_time": "2024-02-01T12:21:35.775Z"
   },
   {
    "duration": 16,
    "start_time": "2024-02-01T12:21:35.800Z"
   },
   {
    "duration": 14,
    "start_time": "2024-02-01T12:25:41.689Z"
   },
   {
    "duration": 14,
    "start_time": "2024-02-01T12:26:04.423Z"
   },
   {
    "duration": 1033,
    "start_time": "2024-02-01T12:26:11.814Z"
   },
   {
    "duration": 66,
    "start_time": "2024-02-01T12:26:12.849Z"
   },
   {
    "duration": 12,
    "start_time": "2024-02-01T12:26:12.917Z"
   },
   {
    "duration": 26,
    "start_time": "2024-02-01T12:26:12.931Z"
   },
   {
    "duration": 10,
    "start_time": "2024-02-01T12:26:12.958Z"
   },
   {
    "duration": 40,
    "start_time": "2024-02-01T12:26:12.970Z"
   },
   {
    "duration": 33,
    "start_time": "2024-02-01T12:26:13.011Z"
   },
   {
    "duration": 17,
    "start_time": "2024-02-01T12:26:13.046Z"
   },
   {
    "duration": 46,
    "start_time": "2024-02-01T12:26:13.065Z"
   },
   {
    "duration": 26,
    "start_time": "2024-02-01T12:26:13.113Z"
   },
   {
    "duration": 40,
    "start_time": "2024-02-01T12:26:13.140Z"
   },
   {
    "duration": 19,
    "start_time": "2024-02-01T12:26:13.182Z"
   },
   {
    "duration": 23,
    "start_time": "2024-02-01T12:26:13.202Z"
   },
   {
    "duration": 217,
    "start_time": "2024-02-01T12:26:13.226Z"
   },
   {
    "duration": 164,
    "start_time": "2024-02-01T12:26:13.446Z"
   },
   {
    "duration": 186,
    "start_time": "2024-02-01T12:26:13.612Z"
   },
   {
    "duration": 211,
    "start_time": "2024-02-01T12:26:13.799Z"
   },
   {
    "duration": 207,
    "start_time": "2024-02-01T12:26:14.011Z"
   },
   {
    "duration": 25,
    "start_time": "2024-02-01T12:26:14.219Z"
   },
   {
    "duration": 16,
    "start_time": "2024-02-01T12:26:14.245Z"
   },
   {
    "duration": 41,
    "start_time": "2024-02-01T12:26:14.262Z"
   },
   {
    "duration": 264,
    "start_time": "2024-02-01T12:26:14.304Z"
   },
   {
    "duration": 275,
    "start_time": "2024-02-01T12:26:14.569Z"
   },
   {
    "duration": 114,
    "start_time": "2024-02-01T12:26:14.845Z"
   },
   {
    "duration": 20,
    "start_time": "2024-02-01T12:26:14.961Z"
   },
   {
    "duration": 15,
    "start_time": "2024-02-01T12:26:14.994Z"
   },
   {
    "duration": 154,
    "start_time": "2024-02-01T12:30:26.109Z"
   },
   {
    "duration": 1004,
    "start_time": "2024-02-01T12:30:54.150Z"
   },
   {
    "duration": 75,
    "start_time": "2024-02-01T12:30:55.157Z"
   },
   {
    "duration": 16,
    "start_time": "2024-02-01T12:30:55.234Z"
   },
   {
    "duration": 40,
    "start_time": "2024-02-01T12:30:55.251Z"
   },
   {
    "duration": 23,
    "start_time": "2024-02-01T12:30:55.293Z"
   },
   {
    "duration": 25,
    "start_time": "2024-02-01T12:30:55.318Z"
   },
   {
    "duration": 30,
    "start_time": "2024-02-01T12:30:55.345Z"
   },
   {
    "duration": 25,
    "start_time": "2024-02-01T12:30:55.377Z"
   },
   {
    "duration": 49,
    "start_time": "2024-02-01T12:30:55.403Z"
   },
   {
    "duration": 53,
    "start_time": "2024-02-01T12:30:55.453Z"
   },
   {
    "duration": 38,
    "start_time": "2024-02-01T12:30:55.507Z"
   },
   {
    "duration": 17,
    "start_time": "2024-02-01T12:30:55.546Z"
   },
   {
    "duration": 34,
    "start_time": "2024-02-01T12:30:55.565Z"
   },
   {
    "duration": 207,
    "start_time": "2024-02-01T12:30:55.601Z"
   },
   {
    "duration": 169,
    "start_time": "2024-02-01T12:30:55.809Z"
   },
   {
    "duration": 216,
    "start_time": "2024-02-01T12:30:55.980Z"
   },
   {
    "duration": 221,
    "start_time": "2024-02-01T12:30:56.198Z"
   },
   {
    "duration": 217,
    "start_time": "2024-02-01T12:30:56.420Z"
   },
   {
    "duration": 23,
    "start_time": "2024-02-01T12:30:56.638Z"
   },
   {
    "duration": 33,
    "start_time": "2024-02-01T12:30:56.662Z"
   },
   {
    "duration": 12,
    "start_time": "2024-02-01T12:30:56.697Z"
   },
   {
    "duration": 286,
    "start_time": "2024-02-01T12:30:56.710Z"
   },
   {
    "duration": 275,
    "start_time": "2024-02-01T12:30:56.997Z"
   },
   {
    "duration": 111,
    "start_time": "2024-02-01T12:30:57.274Z"
   },
   {
    "duration": 24,
    "start_time": "2024-02-01T12:30:57.387Z"
   },
   {
    "duration": 15,
    "start_time": "2024-02-01T12:30:57.413Z"
   },
   {
    "duration": 106,
    "start_time": "2024-02-01T13:51:45.264Z"
   },
   {
    "duration": 6,
    "start_time": "2024-02-01T13:52:38.159Z"
   },
   {
    "duration": 6,
    "start_time": "2024-02-01T13:54:15.104Z"
   },
   {
    "duration": 128,
    "start_time": "2024-02-01T14:00:47.162Z"
   },
   {
    "duration": 81,
    "start_time": "2024-02-01T14:01:51.568Z"
   },
   {
    "duration": 7,
    "start_time": "2024-02-01T14:04:00.441Z"
   },
   {
    "duration": 75,
    "start_time": "2024-02-01T14:04:00.669Z"
   },
   {
    "duration": 1155,
    "start_time": "2024-02-01T14:04:16.891Z"
   },
   {
    "duration": 66,
    "start_time": "2024-02-01T14:04:18.048Z"
   },
   {
    "duration": 12,
    "start_time": "2024-02-01T14:04:18.116Z"
   },
   {
    "duration": 14,
    "start_time": "2024-02-01T14:04:18.131Z"
   },
   {
    "duration": 8,
    "start_time": "2024-02-01T14:04:18.147Z"
   },
   {
    "duration": 9,
    "start_time": "2024-02-01T14:04:18.157Z"
   },
   {
    "duration": 7,
    "start_time": "2024-02-01T14:04:18.167Z"
   },
   {
    "duration": 7,
    "start_time": "2024-02-01T14:04:18.194Z"
   },
   {
    "duration": 13,
    "start_time": "2024-02-01T14:04:18.203Z"
   },
   {
    "duration": 7,
    "start_time": "2024-02-01T14:04:18.218Z"
   },
   {
    "duration": 16,
    "start_time": "2024-02-01T14:04:18.226Z"
   },
   {
    "duration": 4,
    "start_time": "2024-02-01T14:04:18.244Z"
   },
   {
    "duration": 44,
    "start_time": "2024-02-01T14:04:18.250Z"
   },
   {
    "duration": 193,
    "start_time": "2024-02-01T14:04:18.295Z"
   },
   {
    "duration": 155,
    "start_time": "2024-02-01T14:04:18.494Z"
   },
   {
    "duration": 186,
    "start_time": "2024-02-01T14:04:18.650Z"
   },
   {
    "duration": 232,
    "start_time": "2024-02-01T14:04:18.838Z"
   },
   {
    "duration": 205,
    "start_time": "2024-02-01T14:04:19.071Z"
   },
   {
    "duration": 32,
    "start_time": "2024-02-01T14:04:19.277Z"
   },
   {
    "duration": 16,
    "start_time": "2024-02-01T14:04:19.310Z"
   },
   {
    "duration": 14,
    "start_time": "2024-02-01T14:04:19.327Z"
   },
   {
    "duration": 322,
    "start_time": "2024-02-01T14:04:19.342Z"
   },
   {
    "duration": 277,
    "start_time": "2024-02-01T14:04:19.666Z"
   },
   {
    "duration": 118,
    "start_time": "2024-02-01T14:04:19.944Z"
   },
   {
    "duration": 19,
    "start_time": "2024-02-01T14:04:20.063Z"
   },
   {
    "duration": 13,
    "start_time": "2024-02-01T14:04:20.094Z"
   },
   {
    "duration": 45,
    "start_time": "2024-02-01T14:04:20.108Z"
   },
   {
    "duration": 115,
    "start_time": "2024-02-01T14:04:20.156Z"
   },
   {
    "duration": 4,
    "start_time": "2024-02-01T14:05:23.998Z"
   },
   {
    "duration": 4,
    "start_time": "2024-02-01T14:08:41.345Z"
   },
   {
    "duration": 5,
    "start_time": "2024-02-01T14:08:54.711Z"
   },
   {
    "duration": 5,
    "start_time": "2024-02-01T14:09:38.864Z"
   },
   {
    "duration": 4,
    "start_time": "2024-02-01T14:09:53.217Z"
   },
   {
    "duration": 5,
    "start_time": "2024-02-01T14:10:06.558Z"
   },
   {
    "duration": 276,
    "start_time": "2024-02-01T14:12:30.426Z"
   },
   {
    "duration": 282,
    "start_time": "2024-02-01T14:12:57.623Z"
   },
   {
    "duration": 6,
    "start_time": "2024-02-01T14:13:54.989Z"
   },
   {
    "duration": 4,
    "start_time": "2024-02-01T14:13:55.341Z"
   },
   {
    "duration": 7,
    "start_time": "2024-02-01T14:14:53.798Z"
   },
   {
    "duration": 6,
    "start_time": "2024-02-01T14:14:53.987Z"
   },
   {
    "duration": 4,
    "start_time": "2024-02-01T14:16:18.598Z"
   },
   {
    "duration": 65,
    "start_time": "2024-02-01T14:16:18.923Z"
   },
   {
    "duration": 5,
    "start_time": "2024-02-01T14:18:52.197Z"
   },
   {
    "duration": 7,
    "start_time": "2024-02-01T14:24:32.326Z"
   },
   {
    "duration": 4,
    "start_time": "2024-02-01T14:26:57.409Z"
   },
   {
    "duration": 5,
    "start_time": "2024-02-01T14:28:28.087Z"
   },
   {
    "duration": 4,
    "start_time": "2024-02-01T14:28:32.324Z"
   },
   {
    "duration": 5,
    "start_time": "2024-02-01T14:29:31.150Z"
   },
   {
    "duration": 4,
    "start_time": "2024-02-01T14:31:20.766Z"
   },
   {
    "duration": 5,
    "start_time": "2024-02-01T14:33:14.518Z"
   },
   {
    "duration": 3,
    "start_time": "2024-02-01T14:33:14.759Z"
   },
   {
    "duration": 10,
    "start_time": "2024-02-01T14:48:34.292Z"
   },
   {
    "duration": 94,
    "start_time": "2024-02-01T14:50:49.302Z"
   },
   {
    "duration": 4,
    "start_time": "2024-02-01T14:51:19.575Z"
   },
   {
    "duration": 10,
    "start_time": "2024-02-01T14:51:34.409Z"
   },
   {
    "duration": 4,
    "start_time": "2024-02-01T14:51:34.643Z"
   },
   {
    "duration": 1095,
    "start_time": "2024-02-01T14:55:47.870Z"
   },
   {
    "duration": 70,
    "start_time": "2024-02-01T14:55:48.967Z"
   },
   {
    "duration": 11,
    "start_time": "2024-02-01T14:55:49.039Z"
   },
   {
    "duration": 26,
    "start_time": "2024-02-01T14:55:49.052Z"
   },
   {
    "duration": 46,
    "start_time": "2024-02-01T14:55:49.079Z"
   },
   {
    "duration": 12,
    "start_time": "2024-02-01T14:55:49.126Z"
   },
   {
    "duration": 23,
    "start_time": "2024-02-01T14:55:49.139Z"
   },
   {
    "duration": 30,
    "start_time": "2024-02-01T14:55:49.163Z"
   },
   {
    "duration": 27,
    "start_time": "2024-02-01T14:55:49.195Z"
   },
   {
    "duration": 45,
    "start_time": "2024-02-01T14:55:49.226Z"
   },
   {
    "duration": 33,
    "start_time": "2024-02-01T14:55:49.272Z"
   },
   {
    "duration": 4,
    "start_time": "2024-02-01T14:55:49.306Z"
   },
   {
    "duration": 16,
    "start_time": "2024-02-01T14:55:49.312Z"
   },
   {
    "duration": 202,
    "start_time": "2024-02-01T14:55:49.330Z"
   },
   {
    "duration": 156,
    "start_time": "2024-02-01T14:55:49.533Z"
   },
   {
    "duration": 188,
    "start_time": "2024-02-01T14:55:49.690Z"
   },
   {
    "duration": 231,
    "start_time": "2024-02-01T14:55:49.879Z"
   },
   {
    "duration": 211,
    "start_time": "2024-02-01T14:55:50.111Z"
   },
   {
    "duration": 21,
    "start_time": "2024-02-01T14:55:50.324Z"
   },
   {
    "duration": 36,
    "start_time": "2024-02-01T14:55:50.347Z"
   },
   {
    "duration": 17,
    "start_time": "2024-02-01T14:55:50.385Z"
   },
   {
    "duration": 253,
    "start_time": "2024-02-01T14:55:50.403Z"
   },
   {
    "duration": 282,
    "start_time": "2024-02-01T14:55:50.657Z"
   },
   {
    "duration": 108,
    "start_time": "2024-02-01T14:55:50.941Z"
   },
   {
    "duration": 19,
    "start_time": "2024-02-01T14:55:51.050Z"
   },
   {
    "duration": 28,
    "start_time": "2024-02-01T14:55:51.071Z"
   },
   {
    "duration": 23,
    "start_time": "2024-02-01T14:55:51.100Z"
   },
   {
    "duration": 115,
    "start_time": "2024-02-01T14:55:51.126Z"
   },
   {
    "duration": 50,
    "start_time": "2024-02-01T14:55:51.242Z"
   },
   {
    "duration": 44,
    "start_time": "2024-02-01T14:55:51.294Z"
   },
   {
    "duration": 28,
    "start_time": "2024-02-01T14:55:51.340Z"
   },
   {
    "duration": 83,
    "start_time": "2024-02-01T14:55:51.370Z"
   },
   {
    "duration": 1052,
    "start_time": "2024-02-01T15:27:27.798Z"
   },
   {
    "duration": 66,
    "start_time": "2024-02-01T15:27:28.852Z"
   },
   {
    "duration": 14,
    "start_time": "2024-02-01T15:27:28.920Z"
   },
   {
    "duration": 16,
    "start_time": "2024-02-01T15:27:28.936Z"
   },
   {
    "duration": 29,
    "start_time": "2024-02-01T15:27:28.953Z"
   },
   {
    "duration": 9,
    "start_time": "2024-02-01T15:27:28.984Z"
   },
   {
    "duration": 18,
    "start_time": "2024-02-01T15:27:28.995Z"
   },
   {
    "duration": 17,
    "start_time": "2024-02-01T15:27:29.015Z"
   },
   {
    "duration": 10,
    "start_time": "2024-02-01T15:27:29.033Z"
   },
   {
    "duration": 7,
    "start_time": "2024-02-01T15:27:29.045Z"
   },
   {
    "duration": 19,
    "start_time": "2024-02-01T15:27:29.053Z"
   },
   {
    "duration": 4,
    "start_time": "2024-02-01T15:27:29.073Z"
   },
   {
    "duration": 16,
    "start_time": "2024-02-01T15:27:29.094Z"
   },
   {
    "duration": 205,
    "start_time": "2024-02-01T15:27:29.111Z"
   },
   {
    "duration": 162,
    "start_time": "2024-02-01T15:27:29.318Z"
   },
   {
    "duration": 182,
    "start_time": "2024-02-01T15:27:29.481Z"
   },
   {
    "duration": 211,
    "start_time": "2024-02-01T15:27:29.665Z"
   },
   {
    "duration": 206,
    "start_time": "2024-02-01T15:27:29.877Z"
   },
   {
    "duration": 30,
    "start_time": "2024-02-01T15:27:30.085Z"
   },
   {
    "duration": 40,
    "start_time": "2024-02-01T15:27:30.117Z"
   },
   {
    "duration": 52,
    "start_time": "2024-02-01T15:27:30.158Z"
   },
   {
    "duration": 336,
    "start_time": "2024-02-01T15:27:30.212Z"
   },
   {
    "duration": 274,
    "start_time": "2024-02-01T15:27:30.550Z"
   },
   {
    "duration": 119,
    "start_time": "2024-02-01T15:27:30.825Z"
   },
   {
    "duration": 21,
    "start_time": "2024-02-01T15:27:30.946Z"
   },
   {
    "duration": 126,
    "start_time": "2024-02-01T15:27:30.969Z"
   },
   {
    "duration": 43,
    "start_time": "2024-02-01T15:27:31.096Z"
   },
   {
    "duration": 53,
    "start_time": "2024-02-01T15:27:31.142Z"
   },
   {
    "duration": 34,
    "start_time": "2024-02-01T15:27:31.196Z"
   },
   {
    "duration": 32,
    "start_time": "2024-02-01T15:27:31.232Z"
   },
   {
    "duration": 54,
    "start_time": "2024-02-01T15:27:31.265Z"
   },
   {
    "duration": 88,
    "start_time": "2024-02-01T15:27:31.320Z"
   },
   {
    "duration": 1112,
    "start_time": "2024-02-01T15:57:13.629Z"
   },
   {
    "duration": 68,
    "start_time": "2024-02-01T15:57:14.742Z"
   },
   {
    "duration": 12,
    "start_time": "2024-02-01T15:57:14.812Z"
   },
   {
    "duration": 13,
    "start_time": "2024-02-01T15:57:14.826Z"
   },
   {
    "duration": 10,
    "start_time": "2024-02-01T15:57:14.841Z"
   },
   {
    "duration": 10,
    "start_time": "2024-02-01T15:57:14.853Z"
   },
   {
    "duration": 7,
    "start_time": "2024-02-01T15:57:14.864Z"
   },
   {
    "duration": 7,
    "start_time": "2024-02-01T15:57:14.881Z"
   },
   {
    "duration": 13,
    "start_time": "2024-02-01T15:57:14.890Z"
   },
   {
    "duration": 7,
    "start_time": "2024-02-01T15:57:14.905Z"
   },
   {
    "duration": 19,
    "start_time": "2024-02-01T15:57:14.913Z"
   },
   {
    "duration": 4,
    "start_time": "2024-02-01T15:57:14.934Z"
   },
   {
    "duration": 12,
    "start_time": "2024-02-01T15:57:14.939Z"
   },
   {
    "duration": 206,
    "start_time": "2024-02-01T15:57:14.983Z"
   },
   {
    "duration": 183,
    "start_time": "2024-02-01T15:57:15.190Z"
   },
   {
    "duration": 217,
    "start_time": "2024-02-01T15:57:15.374Z"
   },
   {
    "duration": 322,
    "start_time": "2024-02-01T15:57:15.592Z"
   },
   {
    "duration": 474,
    "start_time": "2024-02-01T15:57:15.916Z"
   },
   {
    "duration": 28,
    "start_time": "2024-02-01T15:57:16.391Z"
   },
   {
    "duration": 17,
    "start_time": "2024-02-01T15:57:16.420Z"
   },
   {
    "duration": 57,
    "start_time": "2024-02-01T15:57:16.438Z"
   },
   {
    "duration": 587,
    "start_time": "2024-02-01T15:57:16.497Z"
   },
   {
    "duration": 416,
    "start_time": "2024-02-01T15:57:17.086Z"
   },
   {
    "duration": 390,
    "start_time": "2024-02-01T15:57:17.504Z"
   },
   {
    "duration": 96,
    "start_time": "2024-02-01T15:57:17.897Z"
   },
   {
    "duration": 20,
    "start_time": "2024-02-01T15:57:17.995Z"
   },
   {
    "duration": 67,
    "start_time": "2024-02-01T15:57:18.017Z"
   },
   {
    "duration": 4,
    "start_time": "2024-02-01T15:57:18.086Z"
   },
   {
    "duration": 11,
    "start_time": "2024-02-01T15:57:18.092Z"
   },
   {
    "duration": 10,
    "start_time": "2024-02-01T15:57:18.104Z"
   },
   {
    "duration": 72,
    "start_time": "2024-02-01T15:57:18.116Z"
   },
   {
    "duration": 4,
    "start_time": "2024-02-01T15:57:18.189Z"
   },
   {
    "duration": 1121,
    "start_time": "2024-02-01T17:50:29.280Z"
   },
   {
    "duration": 67,
    "start_time": "2024-02-01T17:50:30.403Z"
   },
   {
    "duration": 26,
    "start_time": "2024-02-01T17:50:30.471Z"
   },
   {
    "duration": 76,
    "start_time": "2024-02-01T17:50:30.501Z"
   },
   {
    "duration": 53,
    "start_time": "2024-02-01T17:50:30.579Z"
   },
   {
    "duration": 30,
    "start_time": "2024-02-01T17:50:30.634Z"
   },
   {
    "duration": 42,
    "start_time": "2024-02-01T17:50:30.666Z"
   },
   {
    "duration": 39,
    "start_time": "2024-02-01T17:50:30.710Z"
   },
   {
    "duration": 39,
    "start_time": "2024-02-01T17:50:30.751Z"
   },
   {
    "duration": 36,
    "start_time": "2024-02-01T17:50:30.794Z"
   },
   {
    "duration": 78,
    "start_time": "2024-02-01T17:50:30.832Z"
   },
   {
    "duration": 27,
    "start_time": "2024-02-01T17:50:30.912Z"
   },
   {
    "duration": 33,
    "start_time": "2024-02-01T17:50:30.941Z"
   },
   {
    "duration": 217,
    "start_time": "2024-02-01T17:50:30.976Z"
   },
   {
    "duration": 175,
    "start_time": "2024-02-01T17:50:31.195Z"
   },
   {
    "duration": 198,
    "start_time": "2024-02-01T17:50:31.372Z"
   },
   {
    "duration": 222,
    "start_time": "2024-02-01T17:50:31.572Z"
   },
   {
    "duration": 228,
    "start_time": "2024-02-01T17:50:31.796Z"
   },
   {
    "duration": 23,
    "start_time": "2024-02-01T17:50:32.026Z"
   },
   {
    "duration": 52,
    "start_time": "2024-02-01T17:50:32.051Z"
   },
   {
    "duration": 35,
    "start_time": "2024-02-01T17:50:32.105Z"
   },
   {
    "duration": 258,
    "start_time": "2024-02-01T17:50:32.142Z"
   },
   {
    "duration": 293,
    "start_time": "2024-02-01T17:50:32.402Z"
   },
   {
    "duration": 111,
    "start_time": "2024-02-01T17:50:32.697Z"
   },
   {
    "duration": 18,
    "start_time": "2024-02-01T17:50:32.809Z"
   },
   {
    "duration": 11,
    "start_time": "2024-02-01T17:50:32.829Z"
   },
   {
    "duration": 6,
    "start_time": "2024-02-01T17:50:32.842Z"
   },
   {
    "duration": 3,
    "start_time": "2024-02-01T17:50:32.851Z"
   },
   {
    "duration": 26,
    "start_time": "2024-02-01T17:50:32.856Z"
   },
   {
    "duration": 4,
    "start_time": "2024-02-01T17:50:32.884Z"
   },
   {
    "duration": 17,
    "start_time": "2024-02-01T17:50:32.890Z"
   },
   {
    "duration": 3,
    "start_time": "2024-02-01T17:50:32.909Z"
   },
   {
    "duration": 6,
    "start_time": "2024-02-01T17:54:08.457Z"
   },
   {
    "duration": 81,
    "start_time": "2024-02-02T06:37:49.148Z"
   },
   {
    "duration": 81,
    "start_time": "2024-02-02T06:44:40.010Z"
   },
   {
    "duration": 45,
    "start_time": "2024-02-02T06:51:21.854Z"
   },
   {
    "duration": 1400,
    "start_time": "2024-02-02T06:51:31.461Z"
   },
   {
    "duration": 281,
    "start_time": "2024-02-02T06:51:32.863Z"
   },
   {
    "duration": 13,
    "start_time": "2024-02-02T06:51:33.145Z"
   },
   {
    "duration": 34,
    "start_time": "2024-02-02T06:51:33.160Z"
   },
   {
    "duration": 26,
    "start_time": "2024-02-02T06:51:33.196Z"
   },
   {
    "duration": 26,
    "start_time": "2024-02-02T06:51:33.223Z"
   },
   {
    "duration": 33,
    "start_time": "2024-02-02T06:51:33.251Z"
   },
   {
    "duration": 11,
    "start_time": "2024-02-02T06:51:33.285Z"
   },
   {
    "duration": 20,
    "start_time": "2024-02-02T06:51:33.297Z"
   },
   {
    "duration": 23,
    "start_time": "2024-02-02T06:51:33.320Z"
   },
   {
    "duration": 20,
    "start_time": "2024-02-02T06:51:33.344Z"
   },
   {
    "duration": 4,
    "start_time": "2024-02-02T06:51:33.366Z"
   },
   {
    "duration": 18,
    "start_time": "2024-02-02T06:51:33.371Z"
   },
   {
    "duration": 212,
    "start_time": "2024-02-02T06:51:33.391Z"
   },
   {
    "duration": 178,
    "start_time": "2024-02-02T06:51:33.605Z"
   },
   {
    "duration": 19718,
    "start_time": "2024-02-02T06:51:33.784Z"
   },
   {
    "duration": 185,
    "start_time": "2024-02-02T06:51:53.503Z"
   },
   {
    "duration": 219,
    "start_time": "2024-02-02T06:51:53.690Z"
   },
   {
    "duration": 226,
    "start_time": "2024-02-02T06:51:53.910Z"
   },
   {
    "duration": 25,
    "start_time": "2024-02-02T06:51:54.138Z"
   },
   {
    "duration": 30,
    "start_time": "2024-02-02T06:51:54.165Z"
   },
   {
    "duration": 14,
    "start_time": "2024-02-02T06:51:54.197Z"
   },
   {
    "duration": 277,
    "start_time": "2024-02-02T06:51:54.212Z"
   },
   {
    "duration": 500,
    "start_time": "2024-02-02T06:51:54.491Z"
   },
   {
    "duration": 36,
    "start_time": "2024-02-02T06:51:54.993Z"
   },
   {
    "duration": 20,
    "start_time": "2024-02-02T06:51:55.030Z"
   },
   {
    "duration": 33,
    "start_time": "2024-02-02T06:51:55.052Z"
   },
   {
    "duration": 6,
    "start_time": "2024-02-02T06:51:55.088Z"
   },
   {
    "duration": 7,
    "start_time": "2024-02-02T06:51:55.095Z"
   },
   {
    "duration": 18,
    "start_time": "2024-02-02T06:51:55.103Z"
   },
   {
    "duration": 16,
    "start_time": "2024-02-02T06:51:55.123Z"
   },
   {
    "duration": 20,
    "start_time": "2024-02-02T06:51:55.141Z"
   },
   {
    "duration": 10,
    "start_time": "2024-02-02T06:51:55.163Z"
   },
   {
    "duration": 20107,
    "start_time": "2024-02-02T06:53:24.515Z"
   },
   {
    "duration": 4,
    "start_time": "2024-02-02T06:53:54.065Z"
   },
   {
    "duration": 69,
    "start_time": "2024-02-02T06:53:54.632Z"
   },
   {
    "duration": 11,
    "start_time": "2024-02-02T06:53:55.125Z"
   },
   {
    "duration": 12,
    "start_time": "2024-02-02T06:53:55.386Z"
   },
   {
    "duration": 10,
    "start_time": "2024-02-02T06:53:55.650Z"
   },
   {
    "duration": 5,
    "start_time": "2024-02-02T06:53:57.101Z"
   },
   {
    "duration": 8,
    "start_time": "2024-02-02T06:53:57.379Z"
   },
   {
    "duration": 8,
    "start_time": "2024-02-02T06:53:57.608Z"
   },
   {
    "duration": 8,
    "start_time": "2024-02-02T06:53:58.340Z"
   },
   {
    "duration": 7,
    "start_time": "2024-02-02T06:53:58.577Z"
   },
   {
    "duration": 16,
    "start_time": "2024-02-02T06:53:58.799Z"
   },
   {
    "duration": 5,
    "start_time": "2024-02-02T06:53:59.573Z"
   },
   {
    "duration": 6,
    "start_time": "2024-02-02T06:53:59.853Z"
   },
   {
    "duration": 178,
    "start_time": "2024-02-02T06:54:04.627Z"
   },
   {
    "duration": 159,
    "start_time": "2024-02-02T06:54:07.023Z"
   },
   {
    "duration": 19809,
    "start_time": "2024-02-02T06:54:07.645Z"
   },
   {
    "duration": 4,
    "start_time": "2024-02-02T06:57:33.375Z"
   },
   {
    "duration": 4,
    "start_time": "2024-02-02T06:57:55.410Z"
   },
   {
    "duration": 1442,
    "start_time": "2024-02-02T06:58:01.545Z"
   },
   {
    "duration": 1330,
    "start_time": "2024-02-02T06:58:18.157Z"
   },
   {
    "duration": 149,
    "start_time": "2024-02-02T06:59:31.650Z"
   },
   {
    "duration": 163,
    "start_time": "2024-02-02T07:00:04.334Z"
   },
   {
    "duration": 154,
    "start_time": "2024-02-02T07:01:04.369Z"
   },
   {
    "duration": 110,
    "start_time": "2024-02-02T07:03:50.427Z"
   },
   {
    "duration": 12814,
    "start_time": "2024-02-02T07:04:06.069Z"
   },
   {
    "duration": 170,
    "start_time": "2024-02-02T07:06:06.654Z"
   },
   {
    "duration": 157,
    "start_time": "2024-02-02T07:06:43.811Z"
   },
   {
    "duration": 84,
    "start_time": "2024-02-02T07:10:30.170Z"
   },
   {
    "duration": 4,
    "start_time": "2024-02-02T07:12:22.032Z"
   },
   {
    "duration": 79,
    "start_time": "2024-02-02T07:12:22.770Z"
   },
   {
    "duration": 132,
    "start_time": "2024-02-02T07:14:30.502Z"
   },
   {
    "duration": 89,
    "start_time": "2024-02-02T07:14:46.995Z"
   },
   {
    "duration": 147,
    "start_time": "2024-02-02T07:15:16.734Z"
   },
   {
    "duration": 324,
    "start_time": "2024-02-02T07:15:39.623Z"
   },
   {
    "duration": 2,
    "start_time": "2024-02-02T07:16:29.341Z"
   },
   {
    "duration": 8,
    "start_time": "2024-02-02T07:16:40.933Z"
   },
   {
    "duration": 2,
    "start_time": "2024-02-02T07:16:41.154Z"
   },
   {
    "duration": 148,
    "start_time": "2024-02-02T07:16:41.644Z"
   },
   {
    "duration": 69,
    "start_time": "2024-02-02T07:19:27.916Z"
   },
   {
    "duration": 1152,
    "start_time": "2024-02-02T07:19:59.620Z"
   },
   {
    "duration": 69,
    "start_time": "2024-02-02T07:20:00.774Z"
   },
   {
    "duration": 12,
    "start_time": "2024-02-02T07:20:00.845Z"
   },
   {
    "duration": 43,
    "start_time": "2024-02-02T07:20:00.860Z"
   },
   {
    "duration": 46,
    "start_time": "2024-02-02T07:20:00.905Z"
   },
   {
    "duration": 42,
    "start_time": "2024-02-02T07:20:00.952Z"
   },
   {
    "duration": 28,
    "start_time": "2024-02-02T07:20:00.995Z"
   },
   {
    "duration": 62,
    "start_time": "2024-02-02T07:20:01.025Z"
   },
   {
    "duration": 83,
    "start_time": "2024-02-02T07:20:01.088Z"
   },
   {
    "duration": 37,
    "start_time": "2024-02-02T07:20:01.174Z"
   },
   {
    "duration": 44,
    "start_time": "2024-02-02T07:20:01.212Z"
   },
   {
    "duration": 12,
    "start_time": "2024-02-02T07:20:01.258Z"
   },
   {
    "duration": 34,
    "start_time": "2024-02-02T07:20:01.272Z"
   },
   {
    "duration": 238,
    "start_time": "2024-02-02T07:20:01.307Z"
   },
   {
    "duration": 9,
    "start_time": "2024-02-02T07:20:01.546Z"
   },
   {
    "duration": 90,
    "start_time": "2024-02-02T07:20:01.556Z"
   },
   {
    "duration": 208,
    "start_time": "2024-02-02T07:20:01.648Z"
   },
   {
    "duration": 282,
    "start_time": "2024-02-02T07:20:01.858Z"
   },
   {
    "duration": 299,
    "start_time": "2024-02-02T07:20:02.142Z"
   },
   {
    "duration": 264,
    "start_time": "2024-02-02T07:20:02.442Z"
   },
   {
    "duration": 24,
    "start_time": "2024-02-02T07:20:02.707Z"
   },
   {
    "duration": 46,
    "start_time": "2024-02-02T07:20:02.732Z"
   },
   {
    "duration": 39,
    "start_time": "2024-02-02T07:20:02.780Z"
   },
   {
    "duration": 265,
    "start_time": "2024-02-02T07:20:02.820Z"
   },
   {
    "duration": 281,
    "start_time": "2024-02-02T07:20:03.087Z"
   },
   {
    "duration": 122,
    "start_time": "2024-02-02T07:20:03.369Z"
   },
   {
    "duration": 20,
    "start_time": "2024-02-02T07:20:03.492Z"
   },
   {
    "duration": 30,
    "start_time": "2024-02-02T07:20:03.515Z"
   },
   {
    "duration": 5,
    "start_time": "2024-02-02T07:20:03.547Z"
   },
   {
    "duration": 29,
    "start_time": "2024-02-02T07:20:03.553Z"
   },
   {
    "duration": 25,
    "start_time": "2024-02-02T07:20:03.584Z"
   },
   {
    "duration": 6,
    "start_time": "2024-02-02T07:20:03.611Z"
   },
   {
    "duration": 15,
    "start_time": "2024-02-02T07:20:03.618Z"
   },
   {
    "duration": 14,
    "start_time": "2024-02-02T07:20:03.635Z"
   },
   {
    "duration": 5,
    "start_time": "2024-02-02T07:24:08.923Z"
   },
   {
    "duration": 3,
    "start_time": "2024-02-02T07:24:09.135Z"
   },
   {
    "duration": 1178,
    "start_time": "2024-02-02T07:25:38.770Z"
   },
   {
    "duration": 69,
    "start_time": "2024-02-02T07:25:39.950Z"
   },
   {
    "duration": 12,
    "start_time": "2024-02-02T07:25:40.021Z"
   },
   {
    "duration": 32,
    "start_time": "2024-02-02T07:25:40.036Z"
   },
   {
    "duration": 34,
    "start_time": "2024-02-02T07:25:40.070Z"
   },
   {
    "duration": 13,
    "start_time": "2024-02-02T07:25:40.107Z"
   },
   {
    "duration": 24,
    "start_time": "2024-02-02T07:25:40.122Z"
   },
   {
    "duration": 15,
    "start_time": "2024-02-02T07:25:40.148Z"
   },
   {
    "duration": 57,
    "start_time": "2024-02-02T07:25:40.164Z"
   },
   {
    "duration": 7,
    "start_time": "2024-02-02T07:25:40.224Z"
   },
   {
    "duration": 38,
    "start_time": "2024-02-02T07:25:40.233Z"
   },
   {
    "duration": 5,
    "start_time": "2024-02-02T07:25:40.272Z"
   },
   {
    "duration": 13,
    "start_time": "2024-02-02T07:25:40.279Z"
   },
   {
    "duration": 192,
    "start_time": "2024-02-02T07:25:40.294Z"
   },
   {
    "duration": 11,
    "start_time": "2024-02-02T07:25:40.488Z"
   },
   {
    "duration": 8,
    "start_time": "2024-02-02T07:25:40.501Z"
   },
   {
    "duration": 171,
    "start_time": "2024-02-02T07:25:40.511Z"
   },
   {
    "duration": 218,
    "start_time": "2024-02-02T07:25:40.684Z"
   },
   {
    "duration": 221,
    "start_time": "2024-02-02T07:25:40.903Z"
   },
   {
    "duration": 219,
    "start_time": "2024-02-02T07:25:41.126Z"
   },
   {
    "duration": 23,
    "start_time": "2024-02-02T07:25:41.347Z"
   },
   {
    "duration": 17,
    "start_time": "2024-02-02T07:25:41.380Z"
   },
   {
    "duration": 15,
    "start_time": "2024-02-02T07:25:41.398Z"
   },
   {
    "duration": 281,
    "start_time": "2024-02-02T07:25:41.414Z"
   },
   {
    "duration": 297,
    "start_time": "2024-02-02T07:25:41.696Z"
   },
   {
    "duration": 131,
    "start_time": "2024-02-02T07:25:41.995Z"
   },
   {
    "duration": 24,
    "start_time": "2024-02-02T07:25:42.128Z"
   },
   {
    "duration": 34,
    "start_time": "2024-02-02T07:25:42.155Z"
   },
   {
    "duration": 7,
    "start_time": "2024-02-02T07:25:42.191Z"
   },
   {
    "duration": 11,
    "start_time": "2024-02-02T07:25:42.200Z"
   },
   {
    "duration": 7,
    "start_time": "2024-02-02T07:25:42.213Z"
   },
   {
    "duration": 8,
    "start_time": "2024-02-02T07:25:42.221Z"
   },
   {
    "duration": 14,
    "start_time": "2024-02-02T07:25:42.230Z"
   },
   {
    "duration": 4,
    "start_time": "2024-02-02T07:25:42.245Z"
   },
   {
    "duration": 1161,
    "start_time": "2024-02-02T07:30:57.780Z"
   },
   {
    "duration": 68,
    "start_time": "2024-02-02T07:30:58.943Z"
   },
   {
    "duration": 13,
    "start_time": "2024-02-02T07:30:59.012Z"
   },
   {
    "duration": 11,
    "start_time": "2024-02-02T07:30:59.027Z"
   },
   {
    "duration": 9,
    "start_time": "2024-02-02T07:30:59.040Z"
   },
   {
    "duration": 5,
    "start_time": "2024-02-02T07:30:59.050Z"
   },
   {
    "duration": 16,
    "start_time": "2024-02-02T07:30:59.057Z"
   },
   {
    "duration": 11,
    "start_time": "2024-02-02T07:30:59.074Z"
   },
   {
    "duration": 15,
    "start_time": "2024-02-02T07:30:59.086Z"
   },
   {
    "duration": 7,
    "start_time": "2024-02-02T07:30:59.104Z"
   },
   {
    "duration": 23,
    "start_time": "2024-02-02T07:30:59.113Z"
   },
   {
    "duration": 24,
    "start_time": "2024-02-02T07:30:59.138Z"
   },
   {
    "duration": 11,
    "start_time": "2024-02-02T07:30:59.164Z"
   },
   {
    "duration": 201,
    "start_time": "2024-02-02T07:30:59.176Z"
   },
   {
    "duration": 9,
    "start_time": "2024-02-02T07:30:59.379Z"
   },
   {
    "duration": 20,
    "start_time": "2024-02-02T07:30:59.390Z"
   },
   {
    "duration": 165,
    "start_time": "2024-02-02T07:30:59.412Z"
   },
   {
    "duration": 217,
    "start_time": "2024-02-02T07:30:59.581Z"
   },
   {
    "duration": 219,
    "start_time": "2024-02-02T07:30:59.799Z"
   },
   {
    "duration": 221,
    "start_time": "2024-02-02T07:31:00.019Z"
   },
   {
    "duration": 24,
    "start_time": "2024-02-02T07:31:00.242Z"
   },
   {
    "duration": 35,
    "start_time": "2024-02-02T07:31:00.280Z"
   },
   {
    "duration": 110,
    "start_time": "2024-02-02T07:31:00.316Z"
   },
   {
    "duration": 369,
    "start_time": "2024-02-02T07:31:00.427Z"
   },
   {
    "duration": 287,
    "start_time": "2024-02-02T07:31:00.798Z"
   },
   {
    "duration": 120,
    "start_time": "2024-02-02T07:31:01.087Z"
   },
   {
    "duration": 21,
    "start_time": "2024-02-02T07:31:01.209Z"
   },
   {
    "duration": 28,
    "start_time": "2024-02-02T07:31:01.234Z"
   },
   {
    "duration": 22,
    "start_time": "2024-02-02T07:31:01.263Z"
   },
   {
    "duration": 66,
    "start_time": "2024-02-02T07:31:01.287Z"
   },
   {
    "duration": 25,
    "start_time": "2024-02-02T07:31:01.354Z"
   },
   {
    "duration": 41,
    "start_time": "2024-02-02T07:31:01.380Z"
   },
   {
    "duration": 37,
    "start_time": "2024-02-02T07:31:01.422Z"
   },
   {
    "duration": 63,
    "start_time": "2024-02-02T07:31:01.460Z"
   },
   {
    "duration": 24,
    "start_time": "2024-02-02T07:31:28.782Z"
   },
   {
    "duration": 24,
    "start_time": "2024-02-02T07:31:46.128Z"
   },
   {
    "duration": 1188,
    "start_time": "2024-02-02T07:32:19.397Z"
   },
   {
    "duration": 69,
    "start_time": "2024-02-02T07:32:20.587Z"
   },
   {
    "duration": 13,
    "start_time": "2024-02-02T07:32:20.657Z"
   },
   {
    "duration": 17,
    "start_time": "2024-02-02T07:32:20.672Z"
   },
   {
    "duration": 15,
    "start_time": "2024-02-02T07:32:20.691Z"
   },
   {
    "duration": 26,
    "start_time": "2024-02-02T07:32:20.707Z"
   },
   {
    "duration": 12,
    "start_time": "2024-02-02T07:32:20.734Z"
   },
   {
    "duration": 33,
    "start_time": "2024-02-02T07:32:20.747Z"
   },
   {
    "duration": 14,
    "start_time": "2024-02-02T07:32:20.782Z"
   },
   {
    "duration": 15,
    "start_time": "2024-02-02T07:32:20.798Z"
   },
   {
    "duration": 35,
    "start_time": "2024-02-02T07:32:20.814Z"
   },
   {
    "duration": 4,
    "start_time": "2024-02-02T07:32:20.850Z"
   },
   {
    "duration": 11,
    "start_time": "2024-02-02T07:32:20.855Z"
   },
   {
    "duration": 196,
    "start_time": "2024-02-02T07:32:20.867Z"
   },
   {
    "duration": 16,
    "start_time": "2024-02-02T07:32:21.065Z"
   },
   {
    "duration": 25,
    "start_time": "2024-02-02T07:32:21.083Z"
   },
   {
    "duration": 152,
    "start_time": "2024-02-02T07:32:21.110Z"
   },
   {
    "duration": 191,
    "start_time": "2024-02-02T07:32:21.264Z"
   },
   {
    "duration": 230,
    "start_time": "2024-02-02T07:32:21.456Z"
   },
   {
    "duration": 224,
    "start_time": "2024-02-02T07:32:21.687Z"
   },
   {
    "duration": 24,
    "start_time": "2024-02-02T07:32:21.912Z"
   },
   {
    "duration": 59,
    "start_time": "2024-02-02T07:32:21.938Z"
   },
   {
    "duration": 44,
    "start_time": "2024-02-02T07:32:21.999Z"
   },
   {
    "duration": 300,
    "start_time": "2024-02-02T07:32:22.044Z"
   },
   {
    "duration": 291,
    "start_time": "2024-02-02T07:32:22.345Z"
   },
   {
    "duration": 111,
    "start_time": "2024-02-02T07:32:22.638Z"
   },
   {
    "duration": 30,
    "start_time": "2024-02-02T07:32:22.751Z"
   },
   {
    "duration": 14,
    "start_time": "2024-02-02T07:32:22.784Z"
   },
   {
    "duration": 6,
    "start_time": "2024-02-02T07:32:22.800Z"
   },
   {
    "duration": 32,
    "start_time": "2024-02-02T07:32:22.807Z"
   },
   {
    "duration": 19,
    "start_time": "2024-02-02T07:32:22.841Z"
   },
   {
    "duration": 18,
    "start_time": "2024-02-02T07:32:22.861Z"
   },
   {
    "duration": 26,
    "start_time": "2024-02-02T07:32:22.881Z"
   },
   {
    "duration": 14,
    "start_time": "2024-02-02T07:32:22.908Z"
   },
   {
    "duration": 75,
    "start_time": "2024-02-02T07:34:14.191Z"
   },
   {
    "duration": 1118,
    "start_time": "2024-02-02T07:34:29.627Z"
   },
   {
    "duration": 69,
    "start_time": "2024-02-02T07:34:30.747Z"
   },
   {
    "duration": 12,
    "start_time": "2024-02-02T07:34:30.818Z"
   },
   {
    "duration": 46,
    "start_time": "2024-02-02T07:34:30.832Z"
   },
   {
    "duration": 41,
    "start_time": "2024-02-02T07:34:30.880Z"
   },
   {
    "duration": 32,
    "start_time": "2024-02-02T07:34:30.923Z"
   },
   {
    "duration": 62,
    "start_time": "2024-02-02T07:34:30.957Z"
   },
   {
    "duration": 67,
    "start_time": "2024-02-02T07:34:31.020Z"
   },
   {
    "duration": 37,
    "start_time": "2024-02-02T07:34:31.088Z"
   },
   {
    "duration": 80,
    "start_time": "2024-02-02T07:34:31.128Z"
   },
   {
    "duration": 61,
    "start_time": "2024-02-02T07:34:31.210Z"
   },
   {
    "duration": 19,
    "start_time": "2024-02-02T07:34:31.272Z"
   },
   {
    "duration": 67,
    "start_time": "2024-02-02T07:34:31.293Z"
   },
   {
    "duration": 226,
    "start_time": "2024-02-02T07:34:31.362Z"
   },
   {
    "duration": 10,
    "start_time": "2024-02-02T07:34:31.589Z"
   },
   {
    "duration": 27,
    "start_time": "2024-02-02T07:34:31.600Z"
   },
   {
    "duration": 196,
    "start_time": "2024-02-02T07:34:31.629Z"
   },
   {
    "duration": 210,
    "start_time": "2024-02-02T07:34:31.827Z"
   },
   {
    "duration": 230,
    "start_time": "2024-02-02T07:34:32.040Z"
   },
   {
    "duration": 219,
    "start_time": "2024-02-02T07:34:32.271Z"
   },
   {
    "duration": 26,
    "start_time": "2024-02-02T07:34:32.491Z"
   },
   {
    "duration": 28,
    "start_time": "2024-02-02T07:34:32.519Z"
   },
   {
    "duration": 50,
    "start_time": "2024-02-02T07:34:32.548Z"
   },
   {
    "duration": 279,
    "start_time": "2024-02-02T07:34:32.601Z"
   },
   {
    "duration": 284,
    "start_time": "2024-02-02T07:34:32.882Z"
   },
   {
    "duration": 106,
    "start_time": "2024-02-02T07:34:33.167Z"
   },
   {
    "duration": 20,
    "start_time": "2024-02-02T07:34:33.281Z"
   },
   {
    "duration": 14,
    "start_time": "2024-02-02T07:34:33.305Z"
   },
   {
    "duration": 6,
    "start_time": "2024-02-02T07:34:33.320Z"
   },
   {
    "duration": 20,
    "start_time": "2024-02-02T07:34:33.327Z"
   },
   {
    "duration": 6,
    "start_time": "2024-02-02T07:34:33.349Z"
   },
   {
    "duration": 25,
    "start_time": "2024-02-02T07:34:33.357Z"
   },
   {
    "duration": 28,
    "start_time": "2024-02-02T07:34:33.383Z"
   },
   {
    "duration": 4,
    "start_time": "2024-02-02T07:34:33.413Z"
   },
   {
    "duration": 1120,
    "start_time": "2024-02-02T07:43:15.547Z"
   },
   {
    "duration": 68,
    "start_time": "2024-02-02T07:43:16.669Z"
   },
   {
    "duration": 13,
    "start_time": "2024-02-02T07:43:16.738Z"
   },
   {
    "duration": 21,
    "start_time": "2024-02-02T07:43:16.753Z"
   },
   {
    "duration": 28,
    "start_time": "2024-02-02T07:43:16.776Z"
   },
   {
    "duration": 21,
    "start_time": "2024-02-02T07:43:16.805Z"
   },
   {
    "duration": 32,
    "start_time": "2024-02-02T07:43:16.827Z"
   },
   {
    "duration": 12,
    "start_time": "2024-02-02T07:43:16.861Z"
   },
   {
    "duration": 21,
    "start_time": "2024-02-02T07:43:16.874Z"
   },
   {
    "duration": 5,
    "start_time": "2024-02-02T07:43:16.898Z"
   },
   {
    "duration": 44,
    "start_time": "2024-02-02T07:43:16.905Z"
   },
   {
    "duration": 17,
    "start_time": "2024-02-02T07:43:16.951Z"
   },
   {
    "duration": 19,
    "start_time": "2024-02-02T07:43:16.970Z"
   },
   {
    "duration": 196,
    "start_time": "2024-02-02T07:43:16.990Z"
   },
   {
    "duration": 9,
    "start_time": "2024-02-02T07:43:17.188Z"
   },
   {
    "duration": 7,
    "start_time": "2024-02-02T07:43:17.198Z"
   },
   {
    "duration": 175,
    "start_time": "2024-02-02T07:43:17.206Z"
   },
   {
    "duration": 199,
    "start_time": "2024-02-02T07:43:17.383Z"
   },
   {
    "duration": 221,
    "start_time": "2024-02-02T07:43:17.583Z"
   },
   {
    "duration": 231,
    "start_time": "2024-02-02T07:43:17.806Z"
   },
   {
    "duration": 24,
    "start_time": "2024-02-02T07:43:18.038Z"
   },
   {
    "duration": 27,
    "start_time": "2024-02-02T07:43:18.080Z"
   },
   {
    "duration": 23,
    "start_time": "2024-02-02T07:43:18.109Z"
   },
   {
    "duration": 282,
    "start_time": "2024-02-02T07:43:18.133Z"
   },
   {
    "duration": 305,
    "start_time": "2024-02-02T07:43:18.416Z"
   },
   {
    "duration": 125,
    "start_time": "2024-02-02T07:43:18.723Z"
   },
   {
    "duration": 20,
    "start_time": "2024-02-02T07:43:18.850Z"
   },
   {
    "duration": 15,
    "start_time": "2024-02-02T07:43:18.882Z"
   },
   {
    "duration": 6,
    "start_time": "2024-02-02T07:43:18.898Z"
   },
   {
    "duration": 7,
    "start_time": "2024-02-02T07:43:18.905Z"
   },
   {
    "duration": 12,
    "start_time": "2024-02-02T07:43:18.914Z"
   },
   {
    "duration": 17,
    "start_time": "2024-02-02T07:43:18.928Z"
   },
   {
    "duration": 18,
    "start_time": "2024-02-02T07:43:18.947Z"
   },
   {
    "duration": 16,
    "start_time": "2024-02-02T07:43:18.967Z"
   },
   {
    "duration": 1374,
    "start_time": "2024-02-02T10:46:13.333Z"
   },
   {
    "duration": 290,
    "start_time": "2024-02-02T10:46:14.710Z"
   },
   {
    "duration": 16,
    "start_time": "2024-02-02T10:46:15.002Z"
   },
   {
    "duration": 50,
    "start_time": "2024-02-02T10:46:15.020Z"
   },
   {
    "duration": 12,
    "start_time": "2024-02-02T10:46:15.073Z"
   },
   {
    "duration": 18,
    "start_time": "2024-02-02T10:46:15.087Z"
   },
   {
    "duration": 32,
    "start_time": "2024-02-02T10:46:15.106Z"
   },
   {
    "duration": 15,
    "start_time": "2024-02-02T10:46:15.139Z"
   },
   {
    "duration": 23,
    "start_time": "2024-02-02T10:46:15.156Z"
   },
   {
    "duration": 8,
    "start_time": "2024-02-02T10:46:15.182Z"
   },
   {
    "duration": 44,
    "start_time": "2024-02-02T10:46:15.192Z"
   },
   {
    "duration": 4,
    "start_time": "2024-02-02T10:46:15.238Z"
   },
   {
    "duration": 28,
    "start_time": "2024-02-02T10:46:15.244Z"
   },
   {
    "duration": 233,
    "start_time": "2024-02-02T10:46:15.275Z"
   },
   {
    "duration": 10,
    "start_time": "2024-02-02T10:46:15.510Z"
   },
   {
    "duration": 18,
    "start_time": "2024-02-02T10:46:15.522Z"
   },
   {
    "duration": 169,
    "start_time": "2024-02-02T10:46:15.542Z"
   },
   {
    "duration": 234,
    "start_time": "2024-02-02T10:46:15.713Z"
   },
   {
    "duration": 251,
    "start_time": "2024-02-02T10:46:15.949Z"
   },
   {
    "duration": 247,
    "start_time": "2024-02-02T10:46:16.202Z"
   },
   {
    "duration": 32,
    "start_time": "2024-02-02T10:46:16.450Z"
   },
   {
    "duration": 34,
    "start_time": "2024-02-02T10:46:16.484Z"
   },
   {
    "duration": 27,
    "start_time": "2024-02-02T10:46:16.520Z"
   },
   {
    "duration": 322,
    "start_time": "2024-02-02T10:46:16.549Z"
   },
   {
    "duration": 315,
    "start_time": "2024-02-02T10:46:16.879Z"
   },
   {
    "duration": 139,
    "start_time": "2024-02-02T10:46:17.196Z"
   },
   {
    "duration": 23,
    "start_time": "2024-02-02T10:46:17.337Z"
   },
   {
    "duration": 27,
    "start_time": "2024-02-02T10:46:17.362Z"
   },
   {
    "duration": 7,
    "start_time": "2024-02-02T10:46:17.391Z"
   },
   {
    "duration": 13,
    "start_time": "2024-02-02T10:46:17.400Z"
   },
   {
    "duration": 7,
    "start_time": "2024-02-02T10:46:17.415Z"
   },
   {
    "duration": 4,
    "start_time": "2024-02-02T10:46:17.423Z"
   },
   {
    "duration": 12,
    "start_time": "2024-02-02T10:46:17.429Z"
   },
   {
    "duration": 41,
    "start_time": "2024-02-02T10:46:17.442Z"
   },
   {
    "duration": 1174,
    "start_time": "2024-02-05T07:33:34.376Z"
   },
   {
    "duration": 292,
    "start_time": "2024-02-05T07:33:35.552Z"
   },
   {
    "duration": 16,
    "start_time": "2024-02-05T07:33:35.846Z"
   },
   {
    "duration": 18,
    "start_time": "2024-02-05T07:33:35.865Z"
   },
   {
    "duration": 18,
    "start_time": "2024-02-05T07:33:35.885Z"
   },
   {
    "duration": 17,
    "start_time": "2024-02-05T07:33:35.905Z"
   },
   {
    "duration": 10,
    "start_time": "2024-02-05T07:33:35.924Z"
   },
   {
    "duration": 9,
    "start_time": "2024-02-05T07:33:35.936Z"
   },
   {
    "duration": 9,
    "start_time": "2024-02-05T07:33:35.946Z"
   },
   {
    "duration": 7,
    "start_time": "2024-02-05T07:33:35.959Z"
   },
   {
    "duration": 31,
    "start_time": "2024-02-05T07:33:35.968Z"
   },
   {
    "duration": 4,
    "start_time": "2024-02-05T07:33:36.001Z"
   },
   {
    "duration": 19,
    "start_time": "2024-02-05T07:33:36.007Z"
   },
   {
    "duration": 193,
    "start_time": "2024-02-05T07:33:36.028Z"
   },
   {
    "duration": 10,
    "start_time": "2024-02-05T07:33:36.223Z"
   },
   {
    "duration": 7,
    "start_time": "2024-02-05T07:33:36.234Z"
   },
   {
    "duration": 157,
    "start_time": "2024-02-05T07:33:36.243Z"
   },
   {
    "duration": 195,
    "start_time": "2024-02-05T07:33:36.402Z"
   },
   {
    "duration": 218,
    "start_time": "2024-02-05T07:33:36.599Z"
   },
   {
    "duration": 227,
    "start_time": "2024-02-05T07:33:36.819Z"
   },
   {
    "duration": 24,
    "start_time": "2024-02-05T07:33:37.048Z"
   },
   {
    "duration": 37,
    "start_time": "2024-02-05T07:33:37.073Z"
   },
   {
    "duration": 22,
    "start_time": "2024-02-05T07:33:37.112Z"
   },
   {
    "duration": 278,
    "start_time": "2024-02-05T07:33:37.136Z"
   },
   {
    "duration": 270,
    "start_time": "2024-02-05T07:33:37.415Z"
   },
   {
    "duration": 104,
    "start_time": "2024-02-05T07:33:37.689Z"
   },
   {
    "duration": 19,
    "start_time": "2024-02-05T07:33:37.795Z"
   },
   {
    "duration": 13,
    "start_time": "2024-02-05T07:33:37.817Z"
   },
   {
    "duration": 26,
    "start_time": "2024-02-05T07:33:37.832Z"
   },
   {
    "duration": 18,
    "start_time": "2024-02-05T07:33:37.860Z"
   },
   {
    "duration": 20,
    "start_time": "2024-02-05T07:33:37.880Z"
   },
   {
    "duration": 28,
    "start_time": "2024-02-05T07:33:37.901Z"
   },
   {
    "duration": 18,
    "start_time": "2024-02-05T07:33:37.931Z"
   },
   {
    "duration": 38,
    "start_time": "2024-02-05T07:33:37.951Z"
   }
  ],
  "kernelspec": {
   "display_name": "Python 3 (ipykernel)",
   "language": "python",
   "name": "python3"
  },
  "language_info": {
   "codemirror_mode": {
    "name": "ipython",
    "version": 3
   },
   "file_extension": ".py",
   "mimetype": "text/x-python",
   "name": "python",
   "nbconvert_exporter": "python",
   "pygments_lexer": "ipython3",
   "version": "3.11.5"
  },
  "toc": {
   "base_numbering": 1,
   "nav_menu": {},
   "number_sections": true,
   "sideBar": true,
   "skip_h1_title": true,
   "title_cell": "Table of Contents",
   "title_sidebar": "Contents",
   "toc_cell": false,
   "toc_position": {},
   "toc_section_display": true,
   "toc_window_display": false
  }
 },
 "nbformat": 4,
 "nbformat_minor": 5
}
