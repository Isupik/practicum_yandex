{
 "cells": [
  {
   "cell_type": "markdown",
   "metadata": {},
   "source": [
    "<div style=\"border:solid steelblue 3px; padding: 20px; border-radius: 10px\">\n",
    "\n",
    "**Анастасия, привет!** 👋\n",
    "\n",
    "Меня зовут Алексей Манелюк, я буду проверять твой проект. В Яндекс Практикуме принято общаться на \"ты\" 😉, но если некомфортно - скажи и перейдем на \"Вы\".\n",
    "\n",
    "Моя основная цель - не указать на ошибки, а поделиться опытом и помочь в освоении анализа данных.\n",
    "\n",
    "В тетрадке ты увидишь мои комментарии, пожалуйста, не удаляй, не перемещай и не изменяй их. У комментариев могут быть приписки **V2**, **V3**, **V...**, которые соответствуют каждой версии проверки.\n",
    "\n",
    "Я буду использовать цветовую разметку:\n",
    "<p>\n",
    "<div class=\"alert-danger\" style=\"padding: 20px; border-radius: 10px\">\n",
    "<b>Комментарий ревьюера ❌</b>\n",
    "\n",
    "Так выделены критические замечания. Без их отработки я не смогу принять проект. </div>\n",
    "\n",
    "<div class=\"alert-warning\" style=\"padding: 20px; border-radius: 10px\">\n",
    "<b>  Комментарий ревьюера ⚠️</b>\n",
    "\n",
    "Так выделены небольшие замечания или полезные советы. Постарайся учесть их.</div>\n",
    "<p>\n",
    "<div class=\"alert-success\" style=\"padding: 20px; border-radius: 10px\">\n",
    "<b>Комментарий ревьюера ✔️</b>\n",
    "\n",
    "Так выделены правильные решения.</div>\n",
    "\n",
    "Предлагаю работать в диалоге: если что-то дорабатываешь или отвечаешь на мой комментарий - пиши об этом. Мне будет удобней, если ты выделишь свои комментарии:\n",
    "<p>\n",
    "<div class=\"alert-info\" style=\"padding: 20px; border-radius: 10px\">\n",
    "<b>Комментарий студента 💎</b>\n",
    "\n",
    "Здесь исправил.</div>\n",
    "\n",
    "Все это поможет мне быстрее принять твой проект.</div>"
   ]
  },
  {
   "cell_type": "markdown",
   "metadata": {},
   "source": [
    "<div class=\"alert-info\" style=\"padding: 20px; border-radius: 10px\">\n",
    "<b>Комментарий студента 💎</b>\n",
    "\n",
    "Написать свой комментарий можно, скопировав этот блок в ячейку Markdown.</div>"
   ]
  },
  {
   "cell_type": "markdown",
   "metadata": {
    "id": "sIfNaMOxgFyK"
   },
   "source": [
    "## Исследование данных о российском кинопрокате\n",
    "\n"
   ]
  },
  {
   "cell_type": "markdown",
   "metadata": {},
   "source": [
    "**Описание проекта**\n",
    "\n",
    "Заказчик этого исследования — Министерство культуры Российской Федерации. \n",
    "\n",
    " * нужно изучить рынок российского кинопроката и выявить текущие тренды\n",
    " * уделить внимание фильмам, которые получили государственную поддержку\n",
    " * попробовать ответить на вопрос, насколько такие фильмы интересны зрителю. \n",
    "\n",
    "Будем работать с данными, опубликованными на портале открытых данных Министерства культуры. Набор данных содержит информацию о прокатных удостоверениях, сборах и государственной поддержке фильмов, а также информацию с сайта КиноПоиск. \n"
   ]
  },
  {
   "cell_type": "markdown",
   "metadata": {},
   "source": [
    "<div class=\"alert-warning\" style=\"padding: 20px; border-radius: 10px\">\n",
    "<b>Комментарий ревьюера ⚠️</b>\n",
    "\n",
    "📌 <s>После названия, обязательно нужно добавлять цели исследования, описание данных и план работы.\n",
    "    \n",
    "Как правильно оформить проект ты можешь прочитать в материалах курса:\n",
    "\n",
    "`Полезные инструкции для учёбы - Оформление проекта - Рекомендации по выполнению проектов`"
   ]
  },
  {
   "cell_type": "markdown",
   "metadata": {},
   "source": [
    "<div class=\"alert-info\" style=\"padding: 20px; border-radius: 10px\">\n",
    "<b>Комментарий студента 💎</b>\n",
    "\n",
    "Описание проекта добавлено.\n",
    "\n",
    "</div>"
   ]
  },
  {
   "cell_type": "markdown",
   "metadata": {},
   "source": [
    "<div class=\"alert-success\" style=\"border-radius: 10px; padding: 20px\">\n",
    "<b>Комментарий ревьюера V2 ✔️</b>\n",
    "\n",
    "Очень хорошо!"
   ]
  },
  {
   "cell_type": "markdown",
   "metadata": {
    "id": "3bSlkCsbgFyL"
   },
   "source": [
    "### Шаг 1. Откройте файлы с данными и объедините их в один датафрейм. \n",
    "\n",
    "Объедините данные таким образом, чтобы все объекты из датасета `mkrf_movies` обязательно вошли в получившийся датафрейм. \n",
    "\n",
    "<div id=\"accordion\">\n",
    "    <div class=\"card\">\n",
    "        <div class=\"card-header\" id=\"headingThree\">\n",
    "            <button class=\"btn btn-link collapsed\" data-toggle=\"collapse\" data-target=\"#collapseHint_0\" aria-expanded=\"false\" aria-controls=\"collapseHint_0\">Подсказка</button>\n",
    "        </div>\n",
    "        <div id=\"collapseHint_0\" class=\"collapse\" aria-labelledby=\"headingThree\" data-parent=\"#accordion\">\n",
    "            <div class=\"card-body\">\n",
    "Обратите внимание на тип данных столбца, по которому будете соединять датафреймы. Тип данных этих столбцов должен быть одинаковым в обоих датафреймах.\n",
    "            </div>\n",
    "        </div>\n",
    "    </div>\n",
    "</div>"
   ]
  },
  {
   "cell_type": "code",
   "execution_count": 1,
   "metadata": {
    "id": "dw87FlzMgFyM"
   },
   "outputs": [
    {
     "data": {
      "text/html": [
       "<div>\n",
       "<style scoped>\n",
       "    .dataframe tbody tr th:only-of-type {\n",
       "        vertical-align: middle;\n",
       "    }\n",
       "\n",
       "    .dataframe tbody tr th {\n",
       "        vertical-align: top;\n",
       "    }\n",
       "\n",
       "    .dataframe thead th {\n",
       "        text-align: right;\n",
       "    }\n",
       "</style>\n",
       "<table border=\"1\" class=\"dataframe\">\n",
       "  <thead>\n",
       "    <tr style=\"text-align: right;\">\n",
       "      <th></th>\n",
       "      <th>title</th>\n",
       "      <th>puNumber</th>\n",
       "      <th>show_start_date</th>\n",
       "      <th>type</th>\n",
       "      <th>film_studio</th>\n",
       "      <th>production_country</th>\n",
       "      <th>director</th>\n",
       "      <th>producer</th>\n",
       "      <th>age_restriction</th>\n",
       "      <th>refundable_support</th>\n",
       "      <th>nonrefundable_support</th>\n",
       "      <th>budget</th>\n",
       "      <th>financing_source</th>\n",
       "      <th>ratings</th>\n",
       "      <th>genres</th>\n",
       "    </tr>\n",
       "  </thead>\n",
       "  <tbody>\n",
       "    <tr>\n",
       "      <th>0</th>\n",
       "      <td>Открытый простор</td>\n",
       "      <td>221048915</td>\n",
       "      <td>2015-11-27T12:00:00.000Z</td>\n",
       "      <td>Художественный</td>\n",
       "      <td>Тачстоун Пикчерз, Кобальт Пикчерз, Бикон Пикче...</td>\n",
       "      <td>США</td>\n",
       "      <td>Кевин Костнер</td>\n",
       "      <td>Дэвид Валдес, Кевин Костнер, Джейк Эбертс</td>\n",
       "      <td>«18+» - запрещено для детей</td>\n",
       "      <td>NaN</td>\n",
       "      <td>NaN</td>\n",
       "      <td>NaN</td>\n",
       "      <td>NaN</td>\n",
       "      <td>7.2</td>\n",
       "      <td>боевик,драма,мелодрама</td>\n",
       "    </tr>\n",
       "    <tr>\n",
       "      <th>1</th>\n",
       "      <td>Особо важное задание</td>\n",
       "      <td>111013716</td>\n",
       "      <td>2016-09-13T12:00:00.000Z</td>\n",
       "      <td>Художественный</td>\n",
       "      <td>Киностудия \"Мосфильм\"</td>\n",
       "      <td>СССР</td>\n",
       "      <td>Е.Матвеев</td>\n",
       "      <td>NaN</td>\n",
       "      <td>«6+» - для детей старше 6 лет</td>\n",
       "      <td>NaN</td>\n",
       "      <td>NaN</td>\n",
       "      <td>NaN</td>\n",
       "      <td>NaN</td>\n",
       "      <td>6.6</td>\n",
       "      <td>драма,военный</td>\n",
       "    </tr>\n",
       "    <tr>\n",
       "      <th>2</th>\n",
       "      <td>Особо опасен</td>\n",
       "      <td>221038416</td>\n",
       "      <td>2016-10-10T12:00:00.000Z</td>\n",
       "      <td>Художественный</td>\n",
       "      <td>Юниверсал Пикчерз, Кикстарт Продакшнз, Марк Пл...</td>\n",
       "      <td>США</td>\n",
       "      <td>Тимур Бекмамбетов</td>\n",
       "      <td>Джим Лемли, Джейсон Нетер, Марк Е.Платт, Яйн Смит</td>\n",
       "      <td>«18+» - запрещено для детей</td>\n",
       "      <td>NaN</td>\n",
       "      <td>NaN</td>\n",
       "      <td>NaN</td>\n",
       "      <td>NaN</td>\n",
       "      <td>6.8</td>\n",
       "      <td>фантастика,боевик,триллер</td>\n",
       "    </tr>\n",
       "    <tr>\n",
       "      <th>3</th>\n",
       "      <td>Особо опасен</td>\n",
       "      <td>221026916</td>\n",
       "      <td>2016-06-10T12:00:00.000Z</td>\n",
       "      <td>Художественный</td>\n",
       "      <td>Юниверсал Пикчерз, Кикстарт Продакшнз, Марк Пл...</td>\n",
       "      <td>США</td>\n",
       "      <td>Тимур Бекмамбетов</td>\n",
       "      <td>Джим Лемли, Джейсон Нетер, Марк Е.Платт, Яйн Смит</td>\n",
       "      <td>«18+» - запрещено для детей</td>\n",
       "      <td>NaN</td>\n",
       "      <td>NaN</td>\n",
       "      <td>NaN</td>\n",
       "      <td>NaN</td>\n",
       "      <td>6.8</td>\n",
       "      <td>фантастика,боевик,триллер</td>\n",
       "    </tr>\n",
       "    <tr>\n",
       "      <th>4</th>\n",
       "      <td>Особо опасен</td>\n",
       "      <td>221030815</td>\n",
       "      <td>2015-07-29T12:00:00.000Z</td>\n",
       "      <td>Художественный</td>\n",
       "      <td>Юниверсал Пикчерз, Кикстарт Продакшнз, Марк Пл...</td>\n",
       "      <td>США</td>\n",
       "      <td>Тимур Бекмамбетов</td>\n",
       "      <td>Джим Лемли, Джейсон Нетер, Марк Е.Платт, Яйн Смит</td>\n",
       "      <td>«18+» - запрещено для детей</td>\n",
       "      <td>NaN</td>\n",
       "      <td>NaN</td>\n",
       "      <td>NaN</td>\n",
       "      <td>NaN</td>\n",
       "      <td>6.8</td>\n",
       "      <td>фантастика,боевик,триллер</td>\n",
       "    </tr>\n",
       "    <tr>\n",
       "      <th>5</th>\n",
       "      <td>Остановился поезд</td>\n",
       "      <td>111013816</td>\n",
       "      <td>2016-09-13T12:00:00.000Z</td>\n",
       "      <td>Художественный</td>\n",
       "      <td>Киностудия \"Мосфильм\"</td>\n",
       "      <td>СССР</td>\n",
       "      <td>В.Абдрашитов</td>\n",
       "      <td>NaN</td>\n",
       "      <td>«6+» - для детей старше 6 лет</td>\n",
       "      <td>NaN</td>\n",
       "      <td>NaN</td>\n",
       "      <td>NaN</td>\n",
       "      <td>NaN</td>\n",
       "      <td>7.7</td>\n",
       "      <td>драма</td>\n",
       "    </tr>\n",
       "    <tr>\n",
       "      <th>6</th>\n",
       "      <td>Любовь и голуби</td>\n",
       "      <td>111007013</td>\n",
       "      <td>2013-10-18T12:00:00.000Z</td>\n",
       "      <td>Художественный</td>\n",
       "      <td>Киностудия \"Мосфильм\"</td>\n",
       "      <td>СССР</td>\n",
       "      <td>В.Меньшов</td>\n",
       "      <td>NaN</td>\n",
       "      <td>«12+» - для детей старше 12 лет</td>\n",
       "      <td>NaN</td>\n",
       "      <td>NaN</td>\n",
       "      <td>NaN</td>\n",
       "      <td>NaN</td>\n",
       "      <td>8.3</td>\n",
       "      <td>мелодрама,комедия</td>\n",
       "    </tr>\n",
       "    <tr>\n",
       "      <th>7</th>\n",
       "      <td>Любовь и сигареты</td>\n",
       "      <td>221074614</td>\n",
       "      <td>2014-12-29T12:00:00.000Z</td>\n",
       "      <td>Художественный</td>\n",
       "      <td>Юнайтед Артистс, Грин Стрит Филмз, Айкон Интер...</td>\n",
       "      <td>США</td>\n",
       "      <td>Джон Туртурро</td>\n",
       "      <td>Джон Пенотти, Джон Туртурро</td>\n",
       "      <td>«18+» - запрещено для детей</td>\n",
       "      <td>NaN</td>\n",
       "      <td>NaN</td>\n",
       "      <td>NaN</td>\n",
       "      <td>NaN</td>\n",
       "      <td>6.6</td>\n",
       "      <td>мюзикл,мелодрама,комедия</td>\n",
       "    </tr>\n",
       "    <tr>\n",
       "      <th>8</th>\n",
       "      <td>Отпетые мошенники.</td>\n",
       "      <td>121011416</td>\n",
       "      <td>2016-05-05T12:00:00.000Z</td>\n",
       "      <td>Художественный</td>\n",
       "      <td>Пульсар Продюксьон, ТФ1 Фильм</td>\n",
       "      <td>Франция</td>\n",
       "      <td>Эрик Беснард</td>\n",
       "      <td>Патрис Леду</td>\n",
       "      <td>«18+» - запрещено для детей</td>\n",
       "      <td>NaN</td>\n",
       "      <td>NaN</td>\n",
       "      <td>NaN</td>\n",
       "      <td>NaN</td>\n",
       "      <td>8.0</td>\n",
       "      <td>комедия,криминал</td>\n",
       "    </tr>\n",
       "    <tr>\n",
       "      <th>9</th>\n",
       "      <td>Отпуск за свой счет</td>\n",
       "      <td>111019114</td>\n",
       "      <td>2014-12-01T12:00:00.000Z</td>\n",
       "      <td>Художественный</td>\n",
       "      <td>Киностудия \"Мосфильм\", Телевидение ВНР</td>\n",
       "      <td>СССР, Венгрия</td>\n",
       "      <td>В.Титов</td>\n",
       "      <td>NaN</td>\n",
       "      <td>«12+» - для детей старше 12 лет</td>\n",
       "      <td>NaN</td>\n",
       "      <td>NaN</td>\n",
       "      <td>NaN</td>\n",
       "      <td>NaN</td>\n",
       "      <td>7.8</td>\n",
       "      <td>мелодрама,комедия</td>\n",
       "    </tr>\n",
       "  </tbody>\n",
       "</table>\n",
       "</div>"
      ],
      "text/plain": [
       "                  title   puNumber           show_start_date            type  \\\n",
       "0      Открытый простор  221048915  2015-11-27T12:00:00.000Z  Художественный   \n",
       "1  Особо важное задание  111013716  2016-09-13T12:00:00.000Z  Художественный   \n",
       "2          Особо опасен  221038416  2016-10-10T12:00:00.000Z  Художественный   \n",
       "3          Особо опасен  221026916  2016-06-10T12:00:00.000Z  Художественный   \n",
       "4          Особо опасен  221030815  2015-07-29T12:00:00.000Z  Художественный   \n",
       "5     Остановился поезд  111013816  2016-09-13T12:00:00.000Z  Художественный   \n",
       "6       Любовь и голуби  111007013  2013-10-18T12:00:00.000Z  Художественный   \n",
       "7     Любовь и сигареты  221074614  2014-12-29T12:00:00.000Z  Художественный   \n",
       "8    Отпетые мошенники.  121011416  2016-05-05T12:00:00.000Z  Художественный   \n",
       "9   Отпуск за свой счет  111019114  2014-12-01T12:00:00.000Z  Художественный   \n",
       "\n",
       "                                         film_studio production_country  \\\n",
       "0  Тачстоун Пикчерз, Кобальт Пикчерз, Бикон Пикче...                США   \n",
       "1                              Киностудия \"Мосфильм\"               СССР   \n",
       "2  Юниверсал Пикчерз, Кикстарт Продакшнз, Марк Пл...                США   \n",
       "3  Юниверсал Пикчерз, Кикстарт Продакшнз, Марк Пл...                США   \n",
       "4  Юниверсал Пикчерз, Кикстарт Продакшнз, Марк Пл...                США   \n",
       "5                              Киностудия \"Мосфильм\"               СССР   \n",
       "6                              Киностудия \"Мосфильм\"               СССР   \n",
       "7  Юнайтед Артистс, Грин Стрит Филмз, Айкон Интер...                США   \n",
       "8                     Пульсар Продюксьон, ТФ1 Фильм             Франция   \n",
       "9             Киностудия \"Мосфильм\", Телевидение ВНР      СССР, Венгрия   \n",
       "\n",
       "            director                                           producer  \\\n",
       "0      Кевин Костнер          Дэвид Валдес, Кевин Костнер, Джейк Эбертс   \n",
       "1          Е.Матвеев                                                NaN   \n",
       "2  Тимур Бекмамбетов  Джим Лемли, Джейсон Нетер, Марк Е.Платт, Яйн Смит   \n",
       "3  Тимур Бекмамбетов  Джим Лемли, Джейсон Нетер, Марк Е.Платт, Яйн Смит   \n",
       "4  Тимур Бекмамбетов  Джим Лемли, Джейсон Нетер, Марк Е.Платт, Яйн Смит   \n",
       "5       В.Абдрашитов                                                NaN   \n",
       "6          В.Меньшов                                                NaN   \n",
       "7      Джон Туртурро                        Джон Пенотти, Джон Туртурро   \n",
       "8       Эрик Беснард                                        Патрис Леду   \n",
       "9            В.Титов                                                NaN   \n",
       "\n",
       "                   age_restriction  refundable_support  nonrefundable_support  \\\n",
       "0      «18+» - запрещено для детей                 NaN                    NaN   \n",
       "1    «6+» - для детей старше 6 лет                 NaN                    NaN   \n",
       "2      «18+» - запрещено для детей                 NaN                    NaN   \n",
       "3      «18+» - запрещено для детей                 NaN                    NaN   \n",
       "4      «18+» - запрещено для детей                 NaN                    NaN   \n",
       "5    «6+» - для детей старше 6 лет                 NaN                    NaN   \n",
       "6  «12+» - для детей старше 12 лет                 NaN                    NaN   \n",
       "7      «18+» - запрещено для детей                 NaN                    NaN   \n",
       "8      «18+» - запрещено для детей                 NaN                    NaN   \n",
       "9  «12+» - для детей старше 12 лет                 NaN                    NaN   \n",
       "\n",
       "   budget financing_source ratings                     genres  \n",
       "0     NaN              NaN     7.2     боевик,драма,мелодрама  \n",
       "1     NaN              NaN     6.6              драма,военный  \n",
       "2     NaN              NaN     6.8  фантастика,боевик,триллер  \n",
       "3     NaN              NaN     6.8  фантастика,боевик,триллер  \n",
       "4     NaN              NaN     6.8  фантастика,боевик,триллер  \n",
       "5     NaN              NaN     7.7                      драма  \n",
       "6     NaN              NaN     8.3          мелодрама,комедия  \n",
       "7     NaN              NaN     6.6   мюзикл,мелодрама,комедия  \n",
       "8     NaN              NaN     8.0           комедия,криминал  \n",
       "9     NaN              NaN     7.8          мелодрама,комедия  "
      ]
     },
     "execution_count": 1,
     "metadata": {},
     "output_type": "execute_result"
    }
   ],
   "source": [
    "import pandas as pd\n",
    "pd.set_option('display.float_format', '{:,.2f}'.format)\n",
    "\n",
    "data_movies = pd.read_csv('/datasets/mkrf_movies.csv')\n",
    "data_movies.head(10)"
   ]
  },
  {
   "cell_type": "code",
   "execution_count": 2,
   "metadata": {},
   "outputs": [
    {
     "data": {
      "text/html": [
       "<div>\n",
       "<style scoped>\n",
       "    .dataframe tbody tr th:only-of-type {\n",
       "        vertical-align: middle;\n",
       "    }\n",
       "\n",
       "    .dataframe tbody tr th {\n",
       "        vertical-align: top;\n",
       "    }\n",
       "\n",
       "    .dataframe thead th {\n",
       "        text-align: right;\n",
       "    }\n",
       "</style>\n",
       "<table border=\"1\" class=\"dataframe\">\n",
       "  <thead>\n",
       "    <tr style=\"text-align: right;\">\n",
       "      <th></th>\n",
       "      <th>puNumber</th>\n",
       "      <th>box_office</th>\n",
       "    </tr>\n",
       "  </thead>\n",
       "  <tbody>\n",
       "    <tr>\n",
       "      <th>0</th>\n",
       "      <td>111000113</td>\n",
       "      <td>2,450.00</td>\n",
       "    </tr>\n",
       "    <tr>\n",
       "      <th>1</th>\n",
       "      <td>111000115</td>\n",
       "      <td>61,040.00</td>\n",
       "    </tr>\n",
       "    <tr>\n",
       "      <th>2</th>\n",
       "      <td>111000116</td>\n",
       "      <td>153,030,013.40</td>\n",
       "    </tr>\n",
       "    <tr>\n",
       "      <th>3</th>\n",
       "      <td>111000117</td>\n",
       "      <td>12,260,956.00</td>\n",
       "    </tr>\n",
       "    <tr>\n",
       "      <th>4</th>\n",
       "      <td>111000118</td>\n",
       "      <td>163,684,057.79</td>\n",
       "    </tr>\n",
       "    <tr>\n",
       "      <th>5</th>\n",
       "      <td>111000119</td>\n",
       "      <td>4,293,649.51</td>\n",
       "    </tr>\n",
       "    <tr>\n",
       "      <th>6</th>\n",
       "      <td>111000212</td>\n",
       "      <td>200.00</td>\n",
       "    </tr>\n",
       "    <tr>\n",
       "      <th>7</th>\n",
       "      <td>111000216</td>\n",
       "      <td>355,567.00</td>\n",
       "    </tr>\n",
       "    <tr>\n",
       "      <th>8</th>\n",
       "      <td>111000313</td>\n",
       "      <td>710.00</td>\n",
       "    </tr>\n",
       "    <tr>\n",
       "      <th>9</th>\n",
       "      <td>111000314</td>\n",
       "      <td>1,607,970.00</td>\n",
       "    </tr>\n",
       "  </tbody>\n",
       "</table>\n",
       "</div>"
      ],
      "text/plain": [
       "    puNumber     box_office\n",
       "0  111000113       2,450.00\n",
       "1  111000115      61,040.00\n",
       "2  111000116 153,030,013.40\n",
       "3  111000117  12,260,956.00\n",
       "4  111000118 163,684,057.79\n",
       "5  111000119   4,293,649.51\n",
       "6  111000212         200.00\n",
       "7  111000216     355,567.00\n",
       "8  111000313         710.00\n",
       "9  111000314   1,607,970.00"
      ]
     },
     "execution_count": 2,
     "metadata": {},
     "output_type": "execute_result"
    }
   ],
   "source": [
    "data_shows = pd.read_csv('/datasets/mkrf_shows.csv')\n",
    "data_shows.head(10)"
   ]
  },
  {
   "cell_type": "markdown",
   "metadata": {},
   "source": [
    "<div class=\"alert-warning\" style=\"padding: 20px; border-radius: 10px\">\n",
    "<b>Комментарий ревьюера ⚠️</b>\n",
    "\n",
    "📌 <s>Чтобы избавиться от экспоненциальных форм можно прописать настройку `Pandas`, в блоке импорта библиотек.\n",
    "\n",
    "```python\n",
    "pd.set_option('display.float_format', '{:,.2f}'.format)\n",
    "```\n",
    "</div>"
   ]
  },
  {
   "cell_type": "markdown",
   "metadata": {},
   "source": [
    "<div class=\"alert-info\" style=\"padding: 20px; border-radius: 10px\">\n",
    "<b>Комментарий студента 💎</b>\n",
    "\n",
    "Избавились от экспоненцианальных форм, прописав настройку `Pandas` в блоке импорта.\n",
    "\n",
    "</div>"
   ]
  },
  {
   "cell_type": "code",
   "execution_count": 3,
   "metadata": {},
   "outputs": [
    {
     "name": "stdout",
     "output_type": "stream",
     "text": [
      "<class 'pandas.core.frame.DataFrame'>\n",
      "RangeIndex: 7486 entries, 0 to 7485\n",
      "Data columns (total 15 columns):\n",
      " #   Column                 Non-Null Count  Dtype  \n",
      "---  ------                 --------------  -----  \n",
      " 0   title                  7486 non-null   object \n",
      " 1   puNumber               7486 non-null   object \n",
      " 2   show_start_date        7486 non-null   object \n",
      " 3   type                   7486 non-null   object \n",
      " 4   film_studio            7468 non-null   object \n",
      " 5   production_country     7484 non-null   object \n",
      " 6   director               7477 non-null   object \n",
      " 7   producer               6918 non-null   object \n",
      " 8   age_restriction        7486 non-null   object \n",
      " 9   refundable_support     332 non-null    float64\n",
      " 10  nonrefundable_support  332 non-null    float64\n",
      " 11  budget                 332 non-null    float64\n",
      " 12  financing_source       332 non-null    object \n",
      " 13  ratings                6519 non-null   object \n",
      " 14  genres                 6510 non-null   object \n",
      "dtypes: float64(3), object(12)\n",
      "memory usage: 877.4+ KB\n"
     ]
    }
   ],
   "source": [
    "data_movies.info()"
   ]
  },
  {
   "cell_type": "code",
   "execution_count": 4,
   "metadata": {},
   "outputs": [
    {
     "name": "stdout",
     "output_type": "stream",
     "text": [
      "<class 'pandas.core.frame.DataFrame'>\n",
      "RangeIndex: 3158 entries, 0 to 3157\n",
      "Data columns (total 2 columns):\n",
      " #   Column      Non-Null Count  Dtype  \n",
      "---  ------      --------------  -----  \n",
      " 0   puNumber    3158 non-null   int64  \n",
      " 1   box_office  3158 non-null   float64\n",
      "dtypes: float64(1), int64(1)\n",
      "memory usage: 49.5 KB\n"
     ]
    }
   ],
   "source": [
    "data_shows.info()"
   ]
  },
  {
   "cell_type": "code",
   "execution_count": 5,
   "metadata": {
    "scrolled": true
   },
   "outputs": [
    {
     "data": {
      "text/html": [
       "<div>\n",
       "<style scoped>\n",
       "    .dataframe tbody tr th:only-of-type {\n",
       "        vertical-align: middle;\n",
       "    }\n",
       "\n",
       "    .dataframe tbody tr th {\n",
       "        vertical-align: top;\n",
       "    }\n",
       "\n",
       "    .dataframe thead th {\n",
       "        text-align: right;\n",
       "    }\n",
       "</style>\n",
       "<table border=\"1\" class=\"dataframe\">\n",
       "  <thead>\n",
       "    <tr style=\"text-align: right;\">\n",
       "      <th></th>\n",
       "      <th>title</th>\n",
       "      <th>puNumber</th>\n",
       "      <th>show_start_date</th>\n",
       "      <th>type</th>\n",
       "      <th>film_studio</th>\n",
       "      <th>production_country</th>\n",
       "      <th>director</th>\n",
       "      <th>producer</th>\n",
       "      <th>age_restriction</th>\n",
       "      <th>refundable_support</th>\n",
       "      <th>nonrefundable_support</th>\n",
       "      <th>budget</th>\n",
       "      <th>financing_source</th>\n",
       "      <th>ratings</th>\n",
       "      <th>genres</th>\n",
       "    </tr>\n",
       "  </thead>\n",
       "  <tbody>\n",
       "    <tr>\n",
       "      <th>804</th>\n",
       "      <td>Паранормальный Якутск</td>\n",
       "      <td>111004112</td>\n",
       "      <td>2012-08-24T12:00:00.000Z</td>\n",
       "      <td>Художественный</td>\n",
       "      <td>ИП Тимофеев К.П.</td>\n",
       "      <td>Россия</td>\n",
       "      <td>К.Тимофеев</td>\n",
       "      <td>NaN</td>\n",
       "      <td>«16+» - для детей старше 16 лет</td>\n",
       "      <td>NaN</td>\n",
       "      <td>NaN</td>\n",
       "      <td>NaN</td>\n",
       "      <td>NaN</td>\n",
       "      <td>NaN</td>\n",
       "      <td>NaN</td>\n",
       "    </tr>\n",
       "    <tr>\n",
       "      <th>1797</th>\n",
       "      <td>Курбан-роман. (История с жертвой)</td>\n",
       "      <td>нет</td>\n",
       "      <td>2014-05-15T12:00:00.000Z</td>\n",
       "      <td>Художественный</td>\n",
       "      <td>ФОНД \"ИННОВАЦИЯ\"</td>\n",
       "      <td>Россия</td>\n",
       "      <td>С.Юзеев</td>\n",
       "      <td>М.Галицкая</td>\n",
       "      <td>«12+» - для детей старше 12 лет</td>\n",
       "      <td>NaN</td>\n",
       "      <td>NaN</td>\n",
       "      <td>NaN</td>\n",
       "      <td>NaN</td>\n",
       "      <td>NaN</td>\n",
       "      <td>NaN</td>\n",
       "    </tr>\n",
       "  </tbody>\n",
       "</table>\n",
       "</div>"
      ],
      "text/plain": [
       "                                  title    puNumber           show_start_date  \\\n",
       "804               Паранормальный Якутск   111004112  2012-08-24T12:00:00.000Z   \n",
       "1797  Курбан-роман. (История с жертвой)         нет  2014-05-15T12:00:00.000Z   \n",
       "\n",
       "                type       film_studio production_country    director  \\\n",
       "804   Художественный  ИП Тимофеев К.П.             Россия  К.Тимофеев   \n",
       "1797  Художественный  ФОНД \"ИННОВАЦИЯ\"             Россия     С.Юзеев   \n",
       "\n",
       "        producer                  age_restriction  refundable_support  \\\n",
       "804          NaN  «16+» - для детей старше 16 лет                 NaN   \n",
       "1797  М.Галицкая  «12+» - для детей старше 12 лет                 NaN   \n",
       "\n",
       "      nonrefundable_support  budget financing_source ratings genres  \n",
       "804                     NaN     NaN              NaN     NaN    NaN  \n",
       "1797                    NaN     NaN              NaN     NaN    NaN  "
      ]
     },
     "execution_count": 5,
     "metadata": {},
     "output_type": "execute_result"
    }
   ],
   "source": [
    "data_movies[data_movies['puNumber'].str.isdigit() == False]"
   ]
  },
  {
   "cell_type": "code",
   "execution_count": 6,
   "metadata": {},
   "outputs": [
    {
     "data": {
      "text/plain": [
       "' 111004112'"
      ]
     },
     "execution_count": 6,
     "metadata": {},
     "output_type": "execute_result"
    }
   ],
   "source": [
    "data_movies.loc[804, \"puNumber\"]"
   ]
  },
  {
   "cell_type": "markdown",
   "metadata": {},
   "source": [
    "обнаружен пробел"
   ]
  },
  {
   "cell_type": "code",
   "execution_count": 7,
   "metadata": {},
   "outputs": [],
   "source": [
    "data_movies.loc[804, \"puNumber\"] = data_movies.loc[804, \"puNumber\"].strip() #удаляем пробелы"
   ]
  },
  {
   "cell_type": "code",
   "execution_count": 8,
   "metadata": {},
   "outputs": [
    {
     "data": {
      "text/html": [
       "<div>\n",
       "<style scoped>\n",
       "    .dataframe tbody tr th:only-of-type {\n",
       "        vertical-align: middle;\n",
       "    }\n",
       "\n",
       "    .dataframe tbody tr th {\n",
       "        vertical-align: top;\n",
       "    }\n",
       "\n",
       "    .dataframe thead th {\n",
       "        text-align: right;\n",
       "    }\n",
       "</style>\n",
       "<table border=\"1\" class=\"dataframe\">\n",
       "  <thead>\n",
       "    <tr style=\"text-align: right;\">\n",
       "      <th></th>\n",
       "      <th>title</th>\n",
       "      <th>puNumber</th>\n",
       "      <th>show_start_date</th>\n",
       "      <th>type</th>\n",
       "      <th>film_studio</th>\n",
       "      <th>production_country</th>\n",
       "      <th>director</th>\n",
       "      <th>producer</th>\n",
       "      <th>age_restriction</th>\n",
       "      <th>refundable_support</th>\n",
       "      <th>nonrefundable_support</th>\n",
       "      <th>budget</th>\n",
       "      <th>financing_source</th>\n",
       "      <th>ratings</th>\n",
       "      <th>genres</th>\n",
       "    </tr>\n",
       "  </thead>\n",
       "  <tbody>\n",
       "    <tr>\n",
       "      <th>1797</th>\n",
       "      <td>Курбан-роман. (История с жертвой)</td>\n",
       "      <td>нет</td>\n",
       "      <td>2014-05-15T12:00:00.000Z</td>\n",
       "      <td>Художественный</td>\n",
       "      <td>ФОНД \"ИННОВАЦИЯ\"</td>\n",
       "      <td>Россия</td>\n",
       "      <td>С.Юзеев</td>\n",
       "      <td>М.Галицкая</td>\n",
       "      <td>«12+» - для детей старше 12 лет</td>\n",
       "      <td>NaN</td>\n",
       "      <td>NaN</td>\n",
       "      <td>NaN</td>\n",
       "      <td>NaN</td>\n",
       "      <td>NaN</td>\n",
       "      <td>NaN</td>\n",
       "    </tr>\n",
       "  </tbody>\n",
       "</table>\n",
       "</div>"
      ],
      "text/plain": [
       "                                  title puNumber           show_start_date  \\\n",
       "1797  Курбан-роман. (История с жертвой)      нет  2014-05-15T12:00:00.000Z   \n",
       "\n",
       "                type       film_studio production_country director  \\\n",
       "1797  Художественный  ФОНД \"ИННОВАЦИЯ\"             Россия  С.Юзеев   \n",
       "\n",
       "        producer                  age_restriction  refundable_support  \\\n",
       "1797  М.Галицкая  «12+» - для детей старше 12 лет                 NaN   \n",
       "\n",
       "      nonrefundable_support  budget financing_source ratings genres  \n",
       "1797                    NaN     NaN              NaN     NaN    NaN  "
      ]
     },
     "execution_count": 8,
     "metadata": {},
     "output_type": "execute_result"
    }
   ],
   "source": [
    "data_movies[data_movies['puNumber'].str.isdigit() == False] #проверяем все строки в столбце 'puNumber' на возможность преобразовать строку в число"
   ]
  },
  {
   "cell_type": "code",
   "execution_count": 9,
   "metadata": {
    "scrolled": true
   },
   "outputs": [],
   "source": [
    "data_movies = data_movies[data_movies['puNumber'].str.isdigit()] #пересохраняем датафрейм\n",
    "data_movies[\"puNumber\"] = data_movies[\"puNumber\"].astype(int) #преобразовываем к типу int"
   ]
  },
  {
   "cell_type": "markdown",
   "metadata": {},
   "source": [
    "<div class=\"alert-warning\" style=\"padding: 20px; border-radius: 10px\">\n",
    "<b>Комментарий ревьюера ⚠️</b>\n",
    "\n",
    "📌 Перевести столбец в числовой тип можно так:\n",
    "\n",
    "```python\n",
    "movies['puNumber'] = pd.to_numeric(movies['puNumber'], errors= 'coerce')\n",
    "```\n",
    "</div>"
   ]
  },
  {
   "cell_type": "markdown",
   "metadata": {},
   "source": [
    "<div class=\"alert-info\" style=\"padding: 20px; border-radius: 10px\">\n",
    "<b>Комментарий студента 💎</b>\n",
    "\n",
    "Буду знать и применю в следующий раз.\n",
    "\n",
    "</div>"
   ]
  },
  {
   "cell_type": "code",
   "execution_count": 10,
   "metadata": {},
   "outputs": [
    {
     "name": "stdout",
     "output_type": "stream",
     "text": [
      "<class 'pandas.core.frame.DataFrame'>\n",
      "Int64Index: 7485 entries, 0 to 7485\n",
      "Data columns (total 15 columns):\n",
      " #   Column                 Non-Null Count  Dtype  \n",
      "---  ------                 --------------  -----  \n",
      " 0   title                  7485 non-null   object \n",
      " 1   puNumber               7485 non-null   int64  \n",
      " 2   show_start_date        7485 non-null   object \n",
      " 3   type                   7485 non-null   object \n",
      " 4   film_studio            7467 non-null   object \n",
      " 5   production_country     7483 non-null   object \n",
      " 6   director               7476 non-null   object \n",
      " 7   producer               6917 non-null   object \n",
      " 8   age_restriction        7485 non-null   object \n",
      " 9   refundable_support     332 non-null    float64\n",
      " 10  nonrefundable_support  332 non-null    float64\n",
      " 11  budget                 332 non-null    float64\n",
      " 12  financing_source       332 non-null    object \n",
      " 13  ratings                6519 non-null   object \n",
      " 14  genres                 6510 non-null   object \n",
      "dtypes: float64(3), int64(1), object(11)\n",
      "memory usage: 935.6+ KB\n"
     ]
    }
   ],
   "source": [
    "data_movies.info()"
   ]
  },
  {
   "cell_type": "code",
   "execution_count": 11,
   "metadata": {},
   "outputs": [],
   "source": [
    "data = data_movies.merge(data_shows, on='puNumber', how='outer') #объеденим данные"
   ]
  },
  {
   "cell_type": "code",
   "execution_count": 12,
   "metadata": {
    "scrolled": true
   },
   "outputs": [
    {
     "name": "stdout",
     "output_type": "stream",
     "text": [
      "<class 'pandas.core.frame.DataFrame'>\n",
      "Int64Index: 7485 entries, 0 to 7484\n",
      "Data columns (total 16 columns):\n",
      " #   Column                 Non-Null Count  Dtype  \n",
      "---  ------                 --------------  -----  \n",
      " 0   title                  7485 non-null   object \n",
      " 1   puNumber               7485 non-null   int64  \n",
      " 2   show_start_date        7485 non-null   object \n",
      " 3   type                   7485 non-null   object \n",
      " 4   film_studio            7467 non-null   object \n",
      " 5   production_country     7483 non-null   object \n",
      " 6   director               7476 non-null   object \n",
      " 7   producer               6917 non-null   object \n",
      " 8   age_restriction        7485 non-null   object \n",
      " 9   refundable_support     332 non-null    float64\n",
      " 10  nonrefundable_support  332 non-null    float64\n",
      " 11  budget                 332 non-null    float64\n",
      " 12  financing_source       332 non-null    object \n",
      " 13  ratings                6519 non-null   object \n",
      " 14  genres                 6510 non-null   object \n",
      " 15  box_office             3158 non-null   float64\n",
      "dtypes: float64(4), int64(1), object(11)\n",
      "memory usage: 994.1+ KB\n"
     ]
    }
   ],
   "source": [
    "data.info()"
   ]
  },
  {
   "cell_type": "markdown",
   "metadata": {},
   "source": [
    "добавился столбец box_office"
   ]
  },
  {
   "cell_type": "markdown",
   "metadata": {},
   "source": [
    "На этом этапе были объединены две таблицы с даными data_movies и data_shows. Объединение данных происходило по столбцу-индексу puNumber, в котором содержатся уникальные номера прокатных удостоверений, которые выдавались фильмам. Результатом объединения стала таблица data с полной информацией о фильмах и добавленная к ней информация о сборах в прокате для фильмов снятых при господдержке."
   ]
  },
  {
   "cell_type": "markdown",
   "metadata": {},
   "source": [
    "<div class=\"alert-success\" style=\"padding: 20px; border-radius: 10px\">\n",
    "<b>Комментарий ревьюера ✔️</b>\n",
    "\n",
    "Данные загружены и объединены верно. 🚀</div>"
   ]
  },
  {
   "cell_type": "markdown",
   "metadata": {},
   "source": [
    "<div class=\"alert-warning\" style=\"padding: 20px; border-radius: 10px\">\n",
    "<b>Комментарий ревьюера ⚠️</b>\n",
    "\n",
    "📌 <s>Каждый раздел работы стоит завершать кратким промежуточным выводом, о том что было сделано и какие результаты получены."
   ]
  },
  {
   "cell_type": "markdown",
   "metadata": {},
   "source": [
    "<div class=\"alert-info\" style=\"padding: 20px; border-radius: 10px\">\n",
    "<b>Комментарий студента 💎</b>\n",
    "\n",
    "Добавлен вывод.\n",
    "\n",
    "</div>"
   ]
  },
  {
   "cell_type": "markdown",
   "metadata": {},
   "source": [
    "<div class=\"alert-success\" style=\"border-radius: 10px; padding: 20px\">\n",
    "<b>Комментарий ревьюера V2 ✔️</b>\n",
    "\n",
    "👍</div>"
   ]
  },
  {
   "cell_type": "markdown",
   "metadata": {
    "id": "KLDGpPG0gFyM"
   },
   "source": [
    "### Шаг 2. Предобработка данных"
   ]
  },
  {
   "cell_type": "markdown",
   "metadata": {
    "id": "ssWwKXsxgFyO"
   },
   "source": [
    "#### Шаг 2.1. Проверьте типы данных\n",
    "\n",
    "- Проверьте типы данных в датафрейме и преобразуйте их там, где это необходимо."
   ]
  },
  {
   "cell_type": "code",
   "execution_count": 13,
   "metadata": {
    "id": "kVGSplJOgFyO"
   },
   "outputs": [
    {
     "name": "stdout",
     "output_type": "stream",
     "text": [
      "<class 'pandas.core.frame.DataFrame'>\n",
      "Int64Index: 7485 entries, 0 to 7484\n",
      "Data columns (total 16 columns):\n",
      " #   Column                 Non-Null Count  Dtype  \n",
      "---  ------                 --------------  -----  \n",
      " 0   title                  7485 non-null   object \n",
      " 1   puNumber               7485 non-null   int64  \n",
      " 2   show_start_date        7485 non-null   object \n",
      " 3   type                   7485 non-null   object \n",
      " 4   film_studio            7467 non-null   object \n",
      " 5   production_country     7483 non-null   object \n",
      " 6   director               7476 non-null   object \n",
      " 7   producer               6917 non-null   object \n",
      " 8   age_restriction        7485 non-null   object \n",
      " 9   refundable_support     332 non-null    float64\n",
      " 10  nonrefundable_support  332 non-null    float64\n",
      " 11  budget                 332 non-null    float64\n",
      " 12  financing_source       332 non-null    object \n",
      " 13  ratings                6519 non-null   object \n",
      " 14  genres                 6510 non-null   object \n",
      " 15  box_office             3158 non-null   float64\n",
      "dtypes: float64(4), int64(1), object(11)\n",
      "memory usage: 994.1+ KB\n"
     ]
    }
   ],
   "source": [
    "data.info()"
   ]
  },
  {
   "cell_type": "markdown",
   "metadata": {},
   "source": [
    "Можно выделить следующие несоответствия типов:\n",
    "\n",
    " * show_start_date — это значение даты, приведем его к типу Datetime;\n",
    " * ratings — рейтинг это значения от 0 до 10, которое может быть дробным, целесообразно привести это значение к float.\n",
    "\n",
    "Значение прокатного удостоверения puNumber, ранее уже было приведено к типу int."
   ]
  },
  {
   "cell_type": "code",
   "execution_count": 14,
   "metadata": {},
   "outputs": [],
   "source": [
    "# приведем значение столбца с датой премьеры к формату даты\n",
    "data['show_start_date'] = pd.to_datetime(data['show_start_date'])"
   ]
  },
  {
   "cell_type": "code",
   "execution_count": 15,
   "metadata": {},
   "outputs": [
    {
     "data": {
      "text/plain": [
       "array(['7.2', '6.6', '6.8', '7.7', '8.3', '8.0', '7.8', '8.1', '7.1',\n",
       "       '6.0', '7.4', '5.8', '8.7', '6.3', '6.9', '5.0', '4.3', '7.3',\n",
       "       '7.0', '6.4', nan, '8.2', '7.5', '6.7', '7.9', '5.9', '6.2', '5.6',\n",
       "       '6.5', '2.4', '7.6', '6.1', '8.6', '8.5', '8.8', '5.5', '5.1',\n",
       "       '5.7', '5.4', '99%', '4.4', '4.5', '5.3', '4.1', '8.4', '2.6',\n",
       "       '3.8', '4.6', '4.8', '4.0', '3.0', '1.6', '4.2', '5.2', '4.7',\n",
       "       '4.9', '3.9', '2.7', '3.3', '2.9', '28%', '3.7', '1.4', '3.1',\n",
       "       '97%', '3.5', '3.2', '2.8', '1.5', '2.1', '2.5', '9.2', '3.4',\n",
       "       '1.1', '3.6', '83%', '64%', '91%', '94%', '62%', '79%', '90%',\n",
       "       '19%', '88%', '1.0', '89%', '1.3', '1.9', '1.8', '1.2', '1.7',\n",
       "       '9.0', '98%', '8.9', '9.1'], dtype=object)"
      ]
     },
     "execution_count": 15,
     "metadata": {},
     "output_type": "execute_result"
    }
   ],
   "source": [
    "# посмотрим на все уникальные значения\n",
    "data['ratings'].unique()"
   ]
  },
  {
   "cell_type": "code",
   "execution_count": 16,
   "metadata": {},
   "outputs": [],
   "source": [
    "# уберем символ процента % и приведем значение к типу float\n",
    "data['ratings'] = data['ratings'].str.replace('%', '')\n",
    "data['ratings'] = data['ratings'].astype('float')"
   ]
  },
  {
   "cell_type": "code",
   "execution_count": 17,
   "metadata": {
    "scrolled": true
   },
   "outputs": [],
   "source": [
    "# берем значения больше 10, они находятся в диапазоне от 10 до 100,\n",
    "# тогда эти значения приведем к диапазону от 1 до 10\n",
    "# поделив их на 10\n",
    "data.loc[data['ratings'] >= 10, \"ratings\"] = data.loc[data['ratings'] >= 10, 'ratings'] / 10"
   ]
  },
  {
   "cell_type": "code",
   "execution_count": 18,
   "metadata": {},
   "outputs": [
    {
     "data": {
      "text/plain": [
       "count   6,519.00\n",
       "mean        6.49\n",
       "std         1.11\n",
       "min         1.00\n",
       "25%         5.90\n",
       "50%         6.60\n",
       "75%         7.20\n",
       "max         9.90\n",
       "Name: ratings, dtype: float64"
      ]
     },
     "execution_count": 18,
     "metadata": {},
     "output_type": "execute_result"
    }
   ],
   "source": [
    "# смотрим на максимальные и минимальные значения\n",
    "data['ratings'].describe()"
   ]
  },
  {
   "cell_type": "code",
   "execution_count": 19,
   "metadata": {},
   "outputs": [
    {
     "data": {
      "text/plain": [
       "0      7.20\n",
       "1      6.60\n",
       "2      6.80\n",
       "3      6.80\n",
       "4      6.80\n",
       "       ... \n",
       "7480   0.00\n",
       "7481   5.40\n",
       "7482   0.00\n",
       "7483   0.00\n",
       "7484   6.30\n",
       "Name: ratings, Length: 7485, dtype: float64"
      ]
     },
     "execution_count": 19,
     "metadata": {},
     "output_type": "execute_result"
    }
   ],
   "source": [
    "# заполняем пропущенные значения 0\n",
    "# предположение: рейтинга нет, так как фильм не вышел еще в прокат\n",
    "data['ratings'].fillna(value=0, inplace=False)"
   ]
  },
  {
   "cell_type": "markdown",
   "metadata": {},
   "source": [
    "<div class=\"alert-warning\" style=\"padding: 20px; border-radius: 10px\">\n",
    "<b>Комментарий ревьюера ⚠️</b>\n",
    "    \n",
    "Здесь не обязательно заменять пропуски на нули, такая замена особо ничего не дает."
   ]
  },
  {
   "cell_type": "code",
   "execution_count": 20,
   "metadata": {},
   "outputs": [
    {
     "data": {
      "text/plain": [
       "array([7.2, 6.6, 6.8, 7.7, 8.3, 8. , 7.8, 8.1, 7.1, 6. , 7.4, 5.8, 8.7,\n",
       "       6.3, 6.9, 5. , 4.3, 7.3, 7. , 6.4, nan, 8.2, 7.5, 6.7, 7.9, 5.9,\n",
       "       6.2, 5.6, 6.5, 2.4, 7.6, 6.1, 8.6, 8.5, 8.8, 5.5, 5.1, 5.7, 5.4,\n",
       "       9.9, 4.4, 4.5, 5.3, 4.1, 8.4, 2.6, 3.8, 4.6, 4.8, 4. , 3. , 1.6,\n",
       "       4.2, 5.2, 4.7, 4.9, 3.9, 2.7, 3.3, 2.9, 2.8, 3.7, 1.4, 3.1, 9.7,\n",
       "       3.5, 3.2, 1.5, 2.1, 2.5, 9.2, 3.4, 1.1, 3.6, 9.1, 9.4, 9. , 1.9,\n",
       "       1. , 8.9, 1.3, 1.8, 1.2, 1.7, 9.8])"
      ]
     },
     "execution_count": 20,
     "metadata": {},
     "output_type": "execute_result"
    }
   ],
   "source": [
    "# проверяем уникальные значения еще раз\n",
    "data['ratings'].unique()"
   ]
  },
  {
   "cell_type": "markdown",
   "metadata": {},
   "source": [
    "Теперь все значения соответствуют шкале рейтинга, в которой измеряются."
   ]
  },
  {
   "cell_type": "markdown",
   "metadata": {},
   "source": [
    "<div class=\"alert-success\" style=\"padding: 20px; border-radius: 10px\">\n",
    "<b>Комментарий ревьюера ✔️</b>\n",
    "\n",
    "Данные приведены к нужным типам правильно, молодец, что разобралась с аномальными значениями рейтинга.</div>"
   ]
  },
  {
   "cell_type": "markdown",
   "metadata": {
    "id": "i0MOLbF-gFyP"
   },
   "source": [
    "#### Шаг 2.2. Изучите пропуски в датафрейме\n",
    "\n",
    "- Объясните, почему заполнили пропуски определённым образом или почему не стали этого делать."
   ]
  },
  {
   "cell_type": "code",
   "execution_count": 21,
   "metadata": {
    "id": "8MJD_lkngFyP"
   },
   "outputs": [
    {
     "data": {
      "text/plain": [
       "title                       0\n",
       "puNumber                    0\n",
       "show_start_date             0\n",
       "type                        0\n",
       "film_studio                18\n",
       "production_country          2\n",
       "director                    9\n",
       "producer                  568\n",
       "age_restriction             0\n",
       "refundable_support       7153\n",
       "nonrefundable_support    7153\n",
       "budget                   7153\n",
       "financing_source         7153\n",
       "ratings                   966\n",
       "genres                    975\n",
       "box_office               4327\n",
       "dtype: int64"
      ]
     },
     "execution_count": 21,
     "metadata": {},
     "output_type": "execute_result"
    }
   ],
   "source": [
    "# посмотрим на пропуски и долю пропусков более детально\n",
    "data.isna().sum()"
   ]
  },
  {
   "cell_type": "code",
   "execution_count": 22,
   "metadata": {},
   "outputs": [
    {
     "data": {
      "text/html": [
       "<div>\n",
       "<style scoped>\n",
       "    .dataframe tbody tr th:only-of-type {\n",
       "        vertical-align: middle;\n",
       "    }\n",
       "\n",
       "    .dataframe tbody tr th {\n",
       "        vertical-align: top;\n",
       "    }\n",
       "\n",
       "    .dataframe thead th {\n",
       "        text-align: right;\n",
       "    }\n",
       "</style>\n",
       "<table border=\"1\" class=\"dataframe\">\n",
       "  <thead>\n",
       "    <tr style=\"text-align: right;\">\n",
       "      <th></th>\n",
       "      <th>title</th>\n",
       "      <th>puNumber</th>\n",
       "      <th>show_start_date</th>\n",
       "      <th>type</th>\n",
       "      <th>film_studio</th>\n",
       "      <th>production_country</th>\n",
       "      <th>director</th>\n",
       "      <th>producer</th>\n",
       "      <th>age_restriction</th>\n",
       "      <th>refundable_support</th>\n",
       "      <th>nonrefundable_support</th>\n",
       "      <th>budget</th>\n",
       "      <th>financing_source</th>\n",
       "      <th>ratings</th>\n",
       "      <th>genres</th>\n",
       "      <th>box_office</th>\n",
       "    </tr>\n",
       "  </thead>\n",
       "  <tbody>\n",
       "    <tr>\n",
       "      <th>1293</th>\n",
       "      <td>Stars in Shorts</td>\n",
       "      <td>121011114</td>\n",
       "      <td>2014-06-03 12:00:00+00:00</td>\n",
       "      <td>Художественный</td>\n",
       "      <td>NaN</td>\n",
       "      <td>США, Великобритания</td>\n",
       "      <td>Роберт Фестингер, Руперт Френд, Джей Камен, Ни...</td>\n",
       "      <td>Татьяна Келли, Роберта Мунро, Руперт Френд, До...</td>\n",
       "      <td>«16+» - для детей старше 16 лет</td>\n",
       "      <td>NaN</td>\n",
       "      <td>NaN</td>\n",
       "      <td>NaN</td>\n",
       "      <td>NaN</td>\n",
       "      <td>7.30</td>\n",
       "      <td>комедия</td>\n",
       "      <td>NaN</td>\n",
       "    </tr>\n",
       "    <tr>\n",
       "      <th>4440</th>\n",
       "      <td>Мульт личности. Выпуск 5</td>\n",
       "      <td>214000410</td>\n",
       "      <td>2010-01-25 12:00:00+00:00</td>\n",
       "      <td>Художественный</td>\n",
       "      <td>NaN</td>\n",
       "      <td>NaN</td>\n",
       "      <td>NaN</td>\n",
       "      <td>NaN</td>\n",
       "      <td>«0+» - для любой зрительской аудитории</td>\n",
       "      <td>NaN</td>\n",
       "      <td>NaN</td>\n",
       "      <td>NaN</td>\n",
       "      <td>NaN</td>\n",
       "      <td>4.00</td>\n",
       "      <td>мультфильм,комедия</td>\n",
       "      <td>NaN</td>\n",
       "    </tr>\n",
       "    <tr>\n",
       "      <th>6104</th>\n",
       "      <td>Значит любит</td>\n",
       "      <td>111013818</td>\n",
       "      <td>2018-08-10 12:00:00+00:00</td>\n",
       "      <td>Художественный</td>\n",
       "      <td>NaN</td>\n",
       "      <td>Россия</td>\n",
       "      <td>А.Краевский</td>\n",
       "      <td>Е.Щербакова</td>\n",
       "      <td>«18+» - запрещено для детей</td>\n",
       "      <td>NaN</td>\n",
       "      <td>NaN</td>\n",
       "      <td>NaN</td>\n",
       "      <td>NaN</td>\n",
       "      <td>NaN</td>\n",
       "      <td>NaN</td>\n",
       "      <td>NaN</td>\n",
       "    </tr>\n",
       "    <tr>\n",
       "      <th>6180</th>\n",
       "      <td>Несейка. Младшая дочь</td>\n",
       "      <td>112007018</td>\n",
       "      <td>2018-09-01 12:00:00+00:00</td>\n",
       "      <td>Документальный</td>\n",
       "      <td>NaN</td>\n",
       "      <td>Россия</td>\n",
       "      <td>В.Марин</td>\n",
       "      <td>Д.Якунин, Ф.Абрютин, О.Филонова</td>\n",
       "      <td>«6+» - для детей старше 6 лет</td>\n",
       "      <td>NaN</td>\n",
       "      <td>NaN</td>\n",
       "      <td>NaN</td>\n",
       "      <td>NaN</td>\n",
       "      <td>NaN</td>\n",
       "      <td>NaN</td>\n",
       "      <td>NaN</td>\n",
       "    </tr>\n",
       "    <tr>\n",
       "      <th>6378</th>\n",
       "      <td>Ян Антонышев</td>\n",
       "      <td>112011818</td>\n",
       "      <td>2018-11-15 12:00:00+00:00</td>\n",
       "      <td>Документальный</td>\n",
       "      <td>NaN</td>\n",
       "      <td>Россия</td>\n",
       "      <td>Е.Окопная</td>\n",
       "      <td>Е.Герасимов</td>\n",
       "      <td>«12+» - для детей старше 12 лет</td>\n",
       "      <td>NaN</td>\n",
       "      <td>NaN</td>\n",
       "      <td>NaN</td>\n",
       "      <td>NaN</td>\n",
       "      <td>NaN</td>\n",
       "      <td>NaN</td>\n",
       "      <td>NaN</td>\n",
       "    </tr>\n",
       "    <tr>\n",
       "      <th>6379</th>\n",
       "      <td>Ян Антонышев</td>\n",
       "      <td>112011918</td>\n",
       "      <td>2018-11-15 12:00:00+00:00</td>\n",
       "      <td>Документальный</td>\n",
       "      <td>NaN</td>\n",
       "      <td>Россия</td>\n",
       "      <td>Е.Окопная</td>\n",
       "      <td>Е.Герасимов</td>\n",
       "      <td>«12+» - для детей старше 12 лет</td>\n",
       "      <td>NaN</td>\n",
       "      <td>NaN</td>\n",
       "      <td>NaN</td>\n",
       "      <td>NaN</td>\n",
       "      <td>NaN</td>\n",
       "      <td>NaN</td>\n",
       "      <td>NaN</td>\n",
       "    </tr>\n",
       "    <tr>\n",
       "      <th>6398</th>\n",
       "      <td>Доживем до каникул?..</td>\n",
       "      <td>111021918</td>\n",
       "      <td>2018-11-15 12:00:00+00:00</td>\n",
       "      <td>Художественный</td>\n",
       "      <td>NaN</td>\n",
       "      <td>Россия</td>\n",
       "      <td>Я.Хальпукова (псевдоним Яна Мартынец)</td>\n",
       "      <td>Я.Хальпукова (псевдоним Яна Мартынец)</td>\n",
       "      <td>«12+» - для детей старше 12 лет</td>\n",
       "      <td>NaN</td>\n",
       "      <td>NaN</td>\n",
       "      <td>NaN</td>\n",
       "      <td>NaN</td>\n",
       "      <td>NaN</td>\n",
       "      <td>NaN</td>\n",
       "      <td>41,225.00</td>\n",
       "    </tr>\n",
       "    <tr>\n",
       "      <th>6484</th>\n",
       "      <td>До и После</td>\n",
       "      <td>112014418</td>\n",
       "      <td>2018-12-05 12:00:00+00:00</td>\n",
       "      <td>Документальный</td>\n",
       "      <td>NaN</td>\n",
       "      <td>Россия</td>\n",
       "      <td>А.Новокреповская</td>\n",
       "      <td>А.Новокреповская</td>\n",
       "      <td>«6+» - для детей старше 6 лет</td>\n",
       "      <td>NaN</td>\n",
       "      <td>NaN</td>\n",
       "      <td>NaN</td>\n",
       "      <td>NaN</td>\n",
       "      <td>6.90</td>\n",
       "      <td>драма,криминал,детектив</td>\n",
       "      <td>NaN</td>\n",
       "    </tr>\n",
       "    <tr>\n",
       "      <th>6493</th>\n",
       "      <td>Калмыцкий геше Нгаванг Вангьял</td>\n",
       "      <td>113002018</td>\n",
       "      <td>2018-12-05 12:00:00+00:00</td>\n",
       "      <td>Научно-популярный</td>\n",
       "      <td>NaN</td>\n",
       "      <td>Россия</td>\n",
       "      <td>И.Долгина</td>\n",
       "      <td>И.Долгина</td>\n",
       "      <td>«12+» - для детей старше 12 лет</td>\n",
       "      <td>NaN</td>\n",
       "      <td>NaN</td>\n",
       "      <td>NaN</td>\n",
       "      <td>NaN</td>\n",
       "      <td>NaN</td>\n",
       "      <td>NaN</td>\n",
       "      <td>NaN</td>\n",
       "    </tr>\n",
       "    <tr>\n",
       "      <th>6496</th>\n",
       "      <td>Мой папа Чингисхан</td>\n",
       "      <td>112014918</td>\n",
       "      <td>2018-12-06 12:00:00+00:00</td>\n",
       "      <td>Документальный</td>\n",
       "      <td>NaN</td>\n",
       "      <td>Россия</td>\n",
       "      <td>А.Сайфуллина</td>\n",
       "      <td>А.Сайфуллина</td>\n",
       "      <td>«12+» - для детей старше 12 лет</td>\n",
       "      <td>NaN</td>\n",
       "      <td>NaN</td>\n",
       "      <td>NaN</td>\n",
       "      <td>NaN</td>\n",
       "      <td>NaN</td>\n",
       "      <td>NaN</td>\n",
       "      <td>NaN</td>\n",
       "    </tr>\n",
       "  </tbody>\n",
       "</table>\n",
       "</div>"
      ],
      "text/plain": [
       "                               title   puNumber           show_start_date  \\\n",
       "1293                 Stars in Shorts  121011114 2014-06-03 12:00:00+00:00   \n",
       "4440        Мульт личности. Выпуск 5  214000410 2010-01-25 12:00:00+00:00   \n",
       "6104                    Значит любит  111013818 2018-08-10 12:00:00+00:00   \n",
       "6180           Несейка. Младшая дочь  112007018 2018-09-01 12:00:00+00:00   \n",
       "6378                    Ян Антонышев  112011818 2018-11-15 12:00:00+00:00   \n",
       "6379                    Ян Антонышев  112011918 2018-11-15 12:00:00+00:00   \n",
       "6398           Доживем до каникул?..  111021918 2018-11-15 12:00:00+00:00   \n",
       "6484                      До и После  112014418 2018-12-05 12:00:00+00:00   \n",
       "6493  Калмыцкий геше Нгаванг Вангьял  113002018 2018-12-05 12:00:00+00:00   \n",
       "6496              Мой папа Чингисхан  112014918 2018-12-06 12:00:00+00:00   \n",
       "\n",
       "                   type film_studio   production_country  \\\n",
       "1293     Художественный         NaN  США, Великобритания   \n",
       "4440     Художественный         NaN                  NaN   \n",
       "6104     Художественный         NaN               Россия   \n",
       "6180     Документальный         NaN               Россия   \n",
       "6378     Документальный         NaN               Россия   \n",
       "6379     Документальный         NaN               Россия   \n",
       "6398     Художественный         NaN               Россия   \n",
       "6484     Документальный         NaN               Россия   \n",
       "6493  Научно-популярный         NaN               Россия   \n",
       "6496     Документальный         NaN               Россия   \n",
       "\n",
       "                                               director  \\\n",
       "1293  Роберт Фестингер, Руперт Френд, Джей Камен, Ни...   \n",
       "4440                                                NaN   \n",
       "6104                                        А.Краевский   \n",
       "6180                                            В.Марин   \n",
       "6378                                          Е.Окопная   \n",
       "6379                                          Е.Окопная   \n",
       "6398              Я.Хальпукова (псевдоним Яна Мартынец)   \n",
       "6484                                   А.Новокреповская   \n",
       "6493                                          И.Долгина   \n",
       "6496                                       А.Сайфуллина   \n",
       "\n",
       "                                               producer  \\\n",
       "1293  Татьяна Келли, Роберта Мунро, Руперт Френд, До...   \n",
       "4440                                                NaN   \n",
       "6104                                        Е.Щербакова   \n",
       "6180                    Д.Якунин, Ф.Абрютин, О.Филонова   \n",
       "6378                                        Е.Герасимов   \n",
       "6379                                        Е.Герасимов   \n",
       "6398              Я.Хальпукова (псевдоним Яна Мартынец)   \n",
       "6484                                   А.Новокреповская   \n",
       "6493                                          И.Долгина   \n",
       "6496                                       А.Сайфуллина   \n",
       "\n",
       "                             age_restriction  refundable_support  \\\n",
       "1293         «16+» - для детей старше 16 лет                 NaN   \n",
       "4440  «0+» - для любой зрительской аудитории                 NaN   \n",
       "6104             «18+» - запрещено для детей                 NaN   \n",
       "6180           «6+» - для детей старше 6 лет                 NaN   \n",
       "6378         «12+» - для детей старше 12 лет                 NaN   \n",
       "6379         «12+» - для детей старше 12 лет                 NaN   \n",
       "6398         «12+» - для детей старше 12 лет                 NaN   \n",
       "6484           «6+» - для детей старше 6 лет                 NaN   \n",
       "6493         «12+» - для детей старше 12 лет                 NaN   \n",
       "6496         «12+» - для детей старше 12 лет                 NaN   \n",
       "\n",
       "      nonrefundable_support  budget financing_source  ratings  \\\n",
       "1293                    NaN     NaN              NaN     7.30   \n",
       "4440                    NaN     NaN              NaN     4.00   \n",
       "6104                    NaN     NaN              NaN      NaN   \n",
       "6180                    NaN     NaN              NaN      NaN   \n",
       "6378                    NaN     NaN              NaN      NaN   \n",
       "6379                    NaN     NaN              NaN      NaN   \n",
       "6398                    NaN     NaN              NaN      NaN   \n",
       "6484                    NaN     NaN              NaN     6.90   \n",
       "6493                    NaN     NaN              NaN      NaN   \n",
       "6496                    NaN     NaN              NaN      NaN   \n",
       "\n",
       "                       genres  box_office  \n",
       "1293                  комедия         NaN  \n",
       "4440       мультфильм,комедия         NaN  \n",
       "6104                      NaN         NaN  \n",
       "6180                      NaN         NaN  \n",
       "6378                      NaN         NaN  \n",
       "6379                      NaN         NaN  \n",
       "6398                      NaN   41,225.00  \n",
       "6484  драма,криминал,детектив         NaN  \n",
       "6493                      NaN         NaN  \n",
       "6496                      NaN         NaN  "
      ]
     },
     "execution_count": 22,
     "metadata": {},
     "output_type": "execute_result"
    }
   ],
   "source": [
    "#смотрим на пропущенные значения\n",
    "data.loc[data['film_studio'].isna()].head(10)"
   ]
  },
  {
   "cell_type": "code",
   "execution_count": 23,
   "metadata": {},
   "outputs": [],
   "source": [
    "# заполним пустые данные значением 'Без студии'\n",
    "data['film_studio'].fillna(value='Без студии', inplace=True)"
   ]
  },
  {
   "cell_type": "code",
   "execution_count": 24,
   "metadata": {},
   "outputs": [
    {
     "data": {
      "text/html": [
       "<div>\n",
       "<style scoped>\n",
       "    .dataframe tbody tr th:only-of-type {\n",
       "        vertical-align: middle;\n",
       "    }\n",
       "\n",
       "    .dataframe tbody tr th {\n",
       "        vertical-align: top;\n",
       "    }\n",
       "\n",
       "    .dataframe thead th {\n",
       "        text-align: right;\n",
       "    }\n",
       "</style>\n",
       "<table border=\"1\" class=\"dataframe\">\n",
       "  <thead>\n",
       "    <tr style=\"text-align: right;\">\n",
       "      <th></th>\n",
       "      <th>title</th>\n",
       "      <th>puNumber</th>\n",
       "      <th>show_start_date</th>\n",
       "      <th>type</th>\n",
       "      <th>film_studio</th>\n",
       "      <th>production_country</th>\n",
       "      <th>director</th>\n",
       "      <th>producer</th>\n",
       "      <th>age_restriction</th>\n",
       "      <th>refundable_support</th>\n",
       "      <th>nonrefundable_support</th>\n",
       "      <th>budget</th>\n",
       "      <th>financing_source</th>\n",
       "      <th>ratings</th>\n",
       "      <th>genres</th>\n",
       "      <th>box_office</th>\n",
       "    </tr>\n",
       "  </thead>\n",
       "  <tbody>\n",
       "    <tr>\n",
       "      <th>3185</th>\n",
       "      <td>Детский юмористический киножурнал \"Ералаш. Ну ...</td>\n",
       "      <td>111001216</td>\n",
       "      <td>2016-02-09 12:00:00+00:00</td>\n",
       "      <td>Художественный</td>\n",
       "      <td>ООО \"Продюсерский центр ЕРАЛАШ\"</td>\n",
       "      <td>NaN</td>\n",
       "      <td>Р.Светлов, И.Магитон, А.Арутюнян, Л.Мирский, А...</td>\n",
       "      <td>ООО \"Продюсерский центр ЕРАЛАШ\"</td>\n",
       "      <td>«0+» - для любой зрительской аудитории</td>\n",
       "      <td>NaN</td>\n",
       "      <td>NaN</td>\n",
       "      <td>NaN</td>\n",
       "      <td>NaN</td>\n",
       "      <td>7.20</td>\n",
       "      <td>детский,комедия</td>\n",
       "      <td>194,527.00</td>\n",
       "    </tr>\n",
       "    <tr>\n",
       "      <th>4440</th>\n",
       "      <td>Мульт личности. Выпуск 5</td>\n",
       "      <td>214000410</td>\n",
       "      <td>2010-01-25 12:00:00+00:00</td>\n",
       "      <td>Художественный</td>\n",
       "      <td>Без студии</td>\n",
       "      <td>NaN</td>\n",
       "      <td>NaN</td>\n",
       "      <td>NaN</td>\n",
       "      <td>«0+» - для любой зрительской аудитории</td>\n",
       "      <td>NaN</td>\n",
       "      <td>NaN</td>\n",
       "      <td>NaN</td>\n",
       "      <td>NaN</td>\n",
       "      <td>4.00</td>\n",
       "      <td>мультфильм,комедия</td>\n",
       "      <td>NaN</td>\n",
       "    </tr>\n",
       "  </tbody>\n",
       "</table>\n",
       "</div>"
      ],
      "text/plain": [
       "                                                  title   puNumber  \\\n",
       "3185  Детский юмористический киножурнал \"Ералаш. Ну ...  111001216   \n",
       "4440                           Мульт личности. Выпуск 5  214000410   \n",
       "\n",
       "               show_start_date            type  \\\n",
       "3185 2016-02-09 12:00:00+00:00  Художественный   \n",
       "4440 2010-01-25 12:00:00+00:00  Художественный   \n",
       "\n",
       "                          film_studio production_country  \\\n",
       "3185  ООО \"Продюсерский центр ЕРАЛАШ\"                NaN   \n",
       "4440                       Без студии                NaN   \n",
       "\n",
       "                                               director  \\\n",
       "3185  Р.Светлов, И.Магитон, А.Арутюнян, Л.Мирский, А...   \n",
       "4440                                                NaN   \n",
       "\n",
       "                             producer                         age_restriction  \\\n",
       "3185  ООО \"Продюсерский центр ЕРАЛАШ\"  «0+» - для любой зрительской аудитории   \n",
       "4440                              NaN  «0+» - для любой зрительской аудитории   \n",
       "\n",
       "      refundable_support  nonrefundable_support  budget financing_source  \\\n",
       "3185                 NaN                    NaN     NaN              NaN   \n",
       "4440                 NaN                    NaN     NaN              NaN   \n",
       "\n",
       "      ratings              genres  box_office  \n",
       "3185     7.20     детский,комедия  194,527.00  \n",
       "4440     4.00  мультфильм,комедия         NaN  "
      ]
     },
     "execution_count": 24,
     "metadata": {},
     "output_type": "execute_result"
    }
   ],
   "source": [
    "# смотрим еа пропущенные значения\n",
    "data.loc[data['production_country'].isna()].head()"
   ]
  },
  {
   "cell_type": "code",
   "execution_count": 25,
   "metadata": {},
   "outputs": [],
   "source": [
    "# заполним пустые данные значением 'Без страны'\n",
    "data['production_country'].fillna(value='Без страны', inplace=True)"
   ]
  },
  {
   "cell_type": "code",
   "execution_count": 26,
   "metadata": {},
   "outputs": [
    {
     "data": {
      "text/html": [
       "<div>\n",
       "<style scoped>\n",
       "    .dataframe tbody tr th:only-of-type {\n",
       "        vertical-align: middle;\n",
       "    }\n",
       "\n",
       "    .dataframe tbody tr th {\n",
       "        vertical-align: top;\n",
       "    }\n",
       "\n",
       "    .dataframe thead th {\n",
       "        text-align: right;\n",
       "    }\n",
       "</style>\n",
       "<table border=\"1\" class=\"dataframe\">\n",
       "  <thead>\n",
       "    <tr style=\"text-align: right;\">\n",
       "      <th></th>\n",
       "      <th>title</th>\n",
       "      <th>puNumber</th>\n",
       "      <th>show_start_date</th>\n",
       "      <th>type</th>\n",
       "      <th>film_studio</th>\n",
       "      <th>production_country</th>\n",
       "      <th>director</th>\n",
       "      <th>producer</th>\n",
       "      <th>age_restriction</th>\n",
       "      <th>refundable_support</th>\n",
       "      <th>nonrefundable_support</th>\n",
       "      <th>budget</th>\n",
       "      <th>financing_source</th>\n",
       "      <th>ratings</th>\n",
       "      <th>genres</th>\n",
       "      <th>box_office</th>\n",
       "    </tr>\n",
       "  </thead>\n",
       "  <tbody>\n",
       "    <tr>\n",
       "      <th>0</th>\n",
       "      <td>Открытый простор</td>\n",
       "      <td>221048915</td>\n",
       "      <td>2015-11-27 12:00:00+00:00</td>\n",
       "      <td>Художественный</td>\n",
       "      <td>Тачстоун Пикчерз, Кобальт Пикчерз, Бикон Пикче...</td>\n",
       "      <td>США</td>\n",
       "      <td>Кевин Костнер</td>\n",
       "      <td>Дэвид Валдес, Кевин Костнер, Джейк Эбертс</td>\n",
       "      <td>«18+» - запрещено для детей</td>\n",
       "      <td>NaN</td>\n",
       "      <td>NaN</td>\n",
       "      <td>NaN</td>\n",
       "      <td>NaN</td>\n",
       "      <td>7.20</td>\n",
       "      <td>боевик,драма,мелодрама</td>\n",
       "      <td>NaN</td>\n",
       "    </tr>\n",
       "    <tr>\n",
       "      <th>1</th>\n",
       "      <td>Особо важное задание</td>\n",
       "      <td>111013716</td>\n",
       "      <td>2016-09-13 12:00:00+00:00</td>\n",
       "      <td>Художественный</td>\n",
       "      <td>Киностудия \"Мосфильм\"</td>\n",
       "      <td>СССР</td>\n",
       "      <td>Е.Матвеев</td>\n",
       "      <td>NaN</td>\n",
       "      <td>«6+» - для детей старше 6 лет</td>\n",
       "      <td>NaN</td>\n",
       "      <td>NaN</td>\n",
       "      <td>NaN</td>\n",
       "      <td>NaN</td>\n",
       "      <td>6.60</td>\n",
       "      <td>драма,военный</td>\n",
       "      <td>NaN</td>\n",
       "    </tr>\n",
       "    <tr>\n",
       "      <th>2</th>\n",
       "      <td>Особо опасен</td>\n",
       "      <td>221038416</td>\n",
       "      <td>2016-10-10 12:00:00+00:00</td>\n",
       "      <td>Художественный</td>\n",
       "      <td>Юниверсал Пикчерз, Кикстарт Продакшнз, Марк Пл...</td>\n",
       "      <td>США</td>\n",
       "      <td>Тимур Бекмамбетов</td>\n",
       "      <td>Джим Лемли, Джейсон Нетер, Марк Е.Платт, Яйн Смит</td>\n",
       "      <td>«18+» - запрещено для детей</td>\n",
       "      <td>NaN</td>\n",
       "      <td>NaN</td>\n",
       "      <td>NaN</td>\n",
       "      <td>NaN</td>\n",
       "      <td>6.80</td>\n",
       "      <td>фантастика,боевик,триллер</td>\n",
       "      <td>NaN</td>\n",
       "    </tr>\n",
       "    <tr>\n",
       "      <th>3</th>\n",
       "      <td>Особо опасен</td>\n",
       "      <td>221026916</td>\n",
       "      <td>2016-06-10 12:00:00+00:00</td>\n",
       "      <td>Художественный</td>\n",
       "      <td>Юниверсал Пикчерз, Кикстарт Продакшнз, Марк Пл...</td>\n",
       "      <td>США</td>\n",
       "      <td>Тимур Бекмамбетов</td>\n",
       "      <td>Джим Лемли, Джейсон Нетер, Марк Е.Платт, Яйн Смит</td>\n",
       "      <td>«18+» - запрещено для детей</td>\n",
       "      <td>NaN</td>\n",
       "      <td>NaN</td>\n",
       "      <td>NaN</td>\n",
       "      <td>NaN</td>\n",
       "      <td>6.80</td>\n",
       "      <td>фантастика,боевик,триллер</td>\n",
       "      <td>NaN</td>\n",
       "    </tr>\n",
       "    <tr>\n",
       "      <th>4</th>\n",
       "      <td>Особо опасен</td>\n",
       "      <td>221030815</td>\n",
       "      <td>2015-07-29 12:00:00+00:00</td>\n",
       "      <td>Художественный</td>\n",
       "      <td>Юниверсал Пикчерз, Кикстарт Продакшнз, Марк Пл...</td>\n",
       "      <td>США</td>\n",
       "      <td>Тимур Бекмамбетов</td>\n",
       "      <td>Джим Лемли, Джейсон Нетер, Марк Е.Платт, Яйн Смит</td>\n",
       "      <td>«18+» - запрещено для детей</td>\n",
       "      <td>NaN</td>\n",
       "      <td>NaN</td>\n",
       "      <td>NaN</td>\n",
       "      <td>NaN</td>\n",
       "      <td>6.80</td>\n",
       "      <td>фантастика,боевик,триллер</td>\n",
       "      <td>NaN</td>\n",
       "    </tr>\n",
       "    <tr>\n",
       "      <th>5</th>\n",
       "      <td>Остановился поезд</td>\n",
       "      <td>111013816</td>\n",
       "      <td>2016-09-13 12:00:00+00:00</td>\n",
       "      <td>Художественный</td>\n",
       "      <td>Киностудия \"Мосфильм\"</td>\n",
       "      <td>СССР</td>\n",
       "      <td>В.Абдрашитов</td>\n",
       "      <td>NaN</td>\n",
       "      <td>«6+» - для детей старше 6 лет</td>\n",
       "      <td>NaN</td>\n",
       "      <td>NaN</td>\n",
       "      <td>NaN</td>\n",
       "      <td>NaN</td>\n",
       "      <td>7.70</td>\n",
       "      <td>драма</td>\n",
       "      <td>NaN</td>\n",
       "    </tr>\n",
       "    <tr>\n",
       "      <th>6</th>\n",
       "      <td>Любовь и голуби</td>\n",
       "      <td>111007013</td>\n",
       "      <td>2013-10-18 12:00:00+00:00</td>\n",
       "      <td>Художественный</td>\n",
       "      <td>Киностудия \"Мосфильм\"</td>\n",
       "      <td>СССР</td>\n",
       "      <td>В.Меньшов</td>\n",
       "      <td>NaN</td>\n",
       "      <td>«12+» - для детей старше 12 лет</td>\n",
       "      <td>NaN</td>\n",
       "      <td>NaN</td>\n",
       "      <td>NaN</td>\n",
       "      <td>NaN</td>\n",
       "      <td>8.30</td>\n",
       "      <td>мелодрама,комедия</td>\n",
       "      <td>2,700.00</td>\n",
       "    </tr>\n",
       "    <tr>\n",
       "      <th>7</th>\n",
       "      <td>Любовь и сигареты</td>\n",
       "      <td>221074614</td>\n",
       "      <td>2014-12-29 12:00:00+00:00</td>\n",
       "      <td>Художественный</td>\n",
       "      <td>Юнайтед Артистс, Грин Стрит Филмз, Айкон Интер...</td>\n",
       "      <td>США</td>\n",
       "      <td>Джон Туртурро</td>\n",
       "      <td>Джон Пенотти, Джон Туртурро</td>\n",
       "      <td>«18+» - запрещено для детей</td>\n",
       "      <td>NaN</td>\n",
       "      <td>NaN</td>\n",
       "      <td>NaN</td>\n",
       "      <td>NaN</td>\n",
       "      <td>6.60</td>\n",
       "      <td>мюзикл,мелодрама,комедия</td>\n",
       "      <td>NaN</td>\n",
       "    </tr>\n",
       "    <tr>\n",
       "      <th>8</th>\n",
       "      <td>Отпетые мошенники.</td>\n",
       "      <td>121011416</td>\n",
       "      <td>2016-05-05 12:00:00+00:00</td>\n",
       "      <td>Художественный</td>\n",
       "      <td>Пульсар Продюксьон, ТФ1 Фильм</td>\n",
       "      <td>Франция</td>\n",
       "      <td>Эрик Беснард</td>\n",
       "      <td>Патрис Леду</td>\n",
       "      <td>«18+» - запрещено для детей</td>\n",
       "      <td>NaN</td>\n",
       "      <td>NaN</td>\n",
       "      <td>NaN</td>\n",
       "      <td>NaN</td>\n",
       "      <td>8.00</td>\n",
       "      <td>комедия,криминал</td>\n",
       "      <td>NaN</td>\n",
       "    </tr>\n",
       "    <tr>\n",
       "      <th>9</th>\n",
       "      <td>Отпуск за свой счет</td>\n",
       "      <td>111019114</td>\n",
       "      <td>2014-12-01 12:00:00+00:00</td>\n",
       "      <td>Художественный</td>\n",
       "      <td>Киностудия \"Мосфильм\", Телевидение ВНР</td>\n",
       "      <td>СССР, Венгрия</td>\n",
       "      <td>В.Титов</td>\n",
       "      <td>NaN</td>\n",
       "      <td>«12+» - для детей старше 12 лет</td>\n",
       "      <td>NaN</td>\n",
       "      <td>NaN</td>\n",
       "      <td>NaN</td>\n",
       "      <td>NaN</td>\n",
       "      <td>7.80</td>\n",
       "      <td>мелодрама,комедия</td>\n",
       "      <td>NaN</td>\n",
       "    </tr>\n",
       "  </tbody>\n",
       "</table>\n",
       "</div>"
      ],
      "text/plain": [
       "                  title   puNumber           show_start_date            type  \\\n",
       "0      Открытый простор  221048915 2015-11-27 12:00:00+00:00  Художественный   \n",
       "1  Особо важное задание  111013716 2016-09-13 12:00:00+00:00  Художественный   \n",
       "2          Особо опасен  221038416 2016-10-10 12:00:00+00:00  Художественный   \n",
       "3          Особо опасен  221026916 2016-06-10 12:00:00+00:00  Художественный   \n",
       "4          Особо опасен  221030815 2015-07-29 12:00:00+00:00  Художественный   \n",
       "5     Остановился поезд  111013816 2016-09-13 12:00:00+00:00  Художественный   \n",
       "6       Любовь и голуби  111007013 2013-10-18 12:00:00+00:00  Художественный   \n",
       "7     Любовь и сигареты  221074614 2014-12-29 12:00:00+00:00  Художественный   \n",
       "8    Отпетые мошенники.  121011416 2016-05-05 12:00:00+00:00  Художественный   \n",
       "9   Отпуск за свой счет  111019114 2014-12-01 12:00:00+00:00  Художественный   \n",
       "\n",
       "                                         film_studio production_country  \\\n",
       "0  Тачстоун Пикчерз, Кобальт Пикчерз, Бикон Пикче...                США   \n",
       "1                              Киностудия \"Мосфильм\"               СССР   \n",
       "2  Юниверсал Пикчерз, Кикстарт Продакшнз, Марк Пл...                США   \n",
       "3  Юниверсал Пикчерз, Кикстарт Продакшнз, Марк Пл...                США   \n",
       "4  Юниверсал Пикчерз, Кикстарт Продакшнз, Марк Пл...                США   \n",
       "5                              Киностудия \"Мосфильм\"               СССР   \n",
       "6                              Киностудия \"Мосфильм\"               СССР   \n",
       "7  Юнайтед Артистс, Грин Стрит Филмз, Айкон Интер...                США   \n",
       "8                     Пульсар Продюксьон, ТФ1 Фильм             Франция   \n",
       "9             Киностудия \"Мосфильм\", Телевидение ВНР      СССР, Венгрия   \n",
       "\n",
       "            director                                           producer  \\\n",
       "0      Кевин Костнер          Дэвид Валдес, Кевин Костнер, Джейк Эбертс   \n",
       "1          Е.Матвеев                                                NaN   \n",
       "2  Тимур Бекмамбетов  Джим Лемли, Джейсон Нетер, Марк Е.Платт, Яйн Смит   \n",
       "3  Тимур Бекмамбетов  Джим Лемли, Джейсон Нетер, Марк Е.Платт, Яйн Смит   \n",
       "4  Тимур Бекмамбетов  Джим Лемли, Джейсон Нетер, Марк Е.Платт, Яйн Смит   \n",
       "5       В.Абдрашитов                                                NaN   \n",
       "6          В.Меньшов                                                NaN   \n",
       "7      Джон Туртурро                        Джон Пенотти, Джон Туртурро   \n",
       "8       Эрик Беснард                                        Патрис Леду   \n",
       "9            В.Титов                                                NaN   \n",
       "\n",
       "                   age_restriction  refundable_support  nonrefundable_support  \\\n",
       "0      «18+» - запрещено для детей                 NaN                    NaN   \n",
       "1    «6+» - для детей старше 6 лет                 NaN                    NaN   \n",
       "2      «18+» - запрещено для детей                 NaN                    NaN   \n",
       "3      «18+» - запрещено для детей                 NaN                    NaN   \n",
       "4      «18+» - запрещено для детей                 NaN                    NaN   \n",
       "5    «6+» - для детей старше 6 лет                 NaN                    NaN   \n",
       "6  «12+» - для детей старше 12 лет                 NaN                    NaN   \n",
       "7      «18+» - запрещено для детей                 NaN                    NaN   \n",
       "8      «18+» - запрещено для детей                 NaN                    NaN   \n",
       "9  «12+» - для детей старше 12 лет                 NaN                    NaN   \n",
       "\n",
       "   budget financing_source  ratings                     genres  box_office  \n",
       "0     NaN              NaN     7.20     боевик,драма,мелодрама         NaN  \n",
       "1     NaN              NaN     6.60              драма,военный         NaN  \n",
       "2     NaN              NaN     6.80  фантастика,боевик,триллер         NaN  \n",
       "3     NaN              NaN     6.80  фантастика,боевик,триллер         NaN  \n",
       "4     NaN              NaN     6.80  фантастика,боевик,триллер         NaN  \n",
       "5     NaN              NaN     7.70                      драма         NaN  \n",
       "6     NaN              NaN     8.30          мелодрама,комедия    2,700.00  \n",
       "7     NaN              NaN     6.60   мюзикл,мелодрама,комедия         NaN  \n",
       "8     NaN              NaN     8.00           комедия,криминал         NaN  \n",
       "9     NaN              NaN     7.80          мелодрама,комедия         NaN  "
      ]
     },
     "execution_count": 26,
     "metadata": {},
     "output_type": "execute_result"
    }
   ],
   "source": [
    "# смотрим пропущенные значания\n",
    "data.loc[data['financing_source'].isna()].head(10)"
   ]
  },
  {
   "cell_type": "code",
   "execution_count": 27,
   "metadata": {},
   "outputs": [],
   "source": [
    "# заполняем пустые данные значением 'Коммерческий'\n",
    "data['financing_source'].fillna(value='Коммерческий', inplace=True)"
   ]
  },
  {
   "cell_type": "code",
   "execution_count": 28,
   "metadata": {},
   "outputs": [
    {
     "data": {
      "text/html": [
       "<div>\n",
       "<style scoped>\n",
       "    .dataframe tbody tr th:only-of-type {\n",
       "        vertical-align: middle;\n",
       "    }\n",
       "\n",
       "    .dataframe tbody tr th {\n",
       "        vertical-align: top;\n",
       "    }\n",
       "\n",
       "    .dataframe thead th {\n",
       "        text-align: right;\n",
       "    }\n",
       "</style>\n",
       "<table border=\"1\" class=\"dataframe\">\n",
       "  <thead>\n",
       "    <tr style=\"text-align: right;\">\n",
       "      <th></th>\n",
       "      <th>title</th>\n",
       "      <th>puNumber</th>\n",
       "      <th>show_start_date</th>\n",
       "      <th>type</th>\n",
       "      <th>film_studio</th>\n",
       "      <th>production_country</th>\n",
       "      <th>director</th>\n",
       "      <th>producer</th>\n",
       "      <th>age_restriction</th>\n",
       "      <th>refundable_support</th>\n",
       "      <th>nonrefundable_support</th>\n",
       "      <th>budget</th>\n",
       "      <th>financing_source</th>\n",
       "      <th>ratings</th>\n",
       "      <th>genres</th>\n",
       "      <th>box_office</th>\n",
       "    </tr>\n",
       "  </thead>\n",
       "  <tbody>\n",
       "    <tr>\n",
       "      <th>43</th>\n",
       "      <td>Мемуары гейши (по роману Артура Голдена)</td>\n",
       "      <td>121000606</td>\n",
       "      <td>2012-12-14 12:00:00+00:00</td>\n",
       "      <td>Художественный</td>\n",
       "      <td>Коламбия Пикчерз Корпорейшн, ДримУоркс ЭсКейДж...</td>\n",
       "      <td>США</td>\n",
       "      <td>Роб Маршалл</td>\n",
       "      <td>Стивен Спилберг, Люси Фишер, Дуглас Уик, Джон ...</td>\n",
       "      <td>«12+» - для детей старше 12 лет</td>\n",
       "      <td>NaN</td>\n",
       "      <td>NaN</td>\n",
       "      <td>NaN</td>\n",
       "      <td>Коммерческий</td>\n",
       "      <td>NaN</td>\n",
       "      <td>NaN</td>\n",
       "      <td>NaN</td>\n",
       "    </tr>\n",
       "    <tr>\n",
       "      <th>150</th>\n",
       "      <td>Жди меня</td>\n",
       "      <td>111013615</td>\n",
       "      <td>2015-08-25 12:00:00+00:00</td>\n",
       "      <td>Художественный</td>\n",
       "      <td>Киностудия \"Мосфильм\"</td>\n",
       "      <td>СССР</td>\n",
       "      <td>А.Столпер, Б.Иванов</td>\n",
       "      <td>NaN</td>\n",
       "      <td>«6+» - для детей старше 6 лет</td>\n",
       "      <td>NaN</td>\n",
       "      <td>NaN</td>\n",
       "      <td>NaN</td>\n",
       "      <td>Коммерческий</td>\n",
       "      <td>NaN</td>\n",
       "      <td>NaN</td>\n",
       "      <td>NaN</td>\n",
       "    </tr>\n",
       "    <tr>\n",
       "      <th>154</th>\n",
       "      <td>Дом из песка и тумана (по книге Андре Дюбуи III)</td>\n",
       "      <td>221037813</td>\n",
       "      <td>2013-10-25 12:00:00+00:00</td>\n",
       "      <td>Художественный</td>\n",
       "      <td>Кобальт Пикчерз</td>\n",
       "      <td>США</td>\n",
       "      <td>Вадим Перельман</td>\n",
       "      <td>Майкл Лондон</td>\n",
       "      <td>«16+» - для детей старше 16 лет</td>\n",
       "      <td>NaN</td>\n",
       "      <td>NaN</td>\n",
       "      <td>NaN</td>\n",
       "      <td>Коммерческий</td>\n",
       "      <td>NaN</td>\n",
       "      <td>NaN</td>\n",
       "      <td>NaN</td>\n",
       "    </tr>\n",
       "    <tr>\n",
       "      <th>159</th>\n",
       "      <td>Жемчужная девушка</td>\n",
       "      <td>224011014</td>\n",
       "      <td>2014-08-28 12:00:00+00:00</td>\n",
       "      <td>Художественный</td>\n",
       "      <td>Чешское телевидение,Студия \"Три брата\" агентск...</td>\n",
       "      <td>Чехия</td>\n",
       "      <td>Владимир Дрга</td>\n",
       "      <td>NaN</td>\n",
       "      <td>«0+» - для любой зрительской аудитории</td>\n",
       "      <td>NaN</td>\n",
       "      <td>NaN</td>\n",
       "      <td>NaN</td>\n",
       "      <td>Коммерческий</td>\n",
       "      <td>NaN</td>\n",
       "      <td>NaN</td>\n",
       "      <td>NaN</td>\n",
       "    </tr>\n",
       "    <tr>\n",
       "      <th>227</th>\n",
       "      <td>Полустанок</td>\n",
       "      <td>111026714</td>\n",
       "      <td>2014-12-24 12:00:00+00:00</td>\n",
       "      <td>Художественный</td>\n",
       "      <td>Киностудия \"Мосфильм\"</td>\n",
       "      <td>СССР</td>\n",
       "      <td>Б.Барнет</td>\n",
       "      <td>NaN</td>\n",
       "      <td>«12+» - для детей старше 12 лет</td>\n",
       "      <td>NaN</td>\n",
       "      <td>NaN</td>\n",
       "      <td>NaN</td>\n",
       "      <td>Коммерческий</td>\n",
       "      <td>NaN</td>\n",
       "      <td>NaN</td>\n",
       "      <td>NaN</td>\n",
       "    </tr>\n",
       "    <tr>\n",
       "      <th>264</th>\n",
       "      <td>Разбойник и принцесса /По мотивам сказок Карел...</td>\n",
       "      <td>224010714</td>\n",
       "      <td>2014-08-28 12:00:00+00:00</td>\n",
       "      <td>Художественный</td>\n",
       "      <td>Чешское телевидение</td>\n",
       "      <td>Чехия</td>\n",
       "      <td>Карел Смычек</td>\n",
       "      <td>NaN</td>\n",
       "      <td>«0+» - для любой зрительской аудитории</td>\n",
       "      <td>NaN</td>\n",
       "      <td>NaN</td>\n",
       "      <td>NaN</td>\n",
       "      <td>Коммерческий</td>\n",
       "      <td>NaN</td>\n",
       "      <td>NaN</td>\n",
       "      <td>NaN</td>\n",
       "    </tr>\n",
       "    <tr>\n",
       "      <th>411</th>\n",
       "      <td>Пьетро Масканьи. Сельская честь /По одноименно...</td>\n",
       "      <td>126001812</td>\n",
       "      <td>2012-05-29 12:00:00+00:00</td>\n",
       "      <td>Прочие</td>\n",
       "      <td>Эр А И Синема</td>\n",
       "      <td>Италия</td>\n",
       "      <td>Марио Мартоне</td>\n",
       "      <td>Ла Скала</td>\n",
       "      <td>«0+» - для любой зрительской аудитории</td>\n",
       "      <td>NaN</td>\n",
       "      <td>NaN</td>\n",
       "      <td>NaN</td>\n",
       "      <td>Коммерческий</td>\n",
       "      <td>NaN</td>\n",
       "      <td>NaN</td>\n",
       "      <td>NaN</td>\n",
       "    </tr>\n",
       "    <tr>\n",
       "      <th>412</th>\n",
       "      <td>Опера на льду</td>\n",
       "      <td>126001712</td>\n",
       "      <td>2012-05-29 12:00:00+00:00</td>\n",
       "      <td>Прочие</td>\n",
       "      <td>Нексо Диджитал</td>\n",
       "      <td>Италия</td>\n",
       "      <td>Кристиан Биодани</td>\n",
       "      <td>Джиглиола Барбьери, Паоло де Биаси</td>\n",
       "      <td>«0+» - для любой зрительской аудитории</td>\n",
       "      <td>NaN</td>\n",
       "      <td>NaN</td>\n",
       "      <td>NaN</td>\n",
       "      <td>Коммерческий</td>\n",
       "      <td>NaN</td>\n",
       "      <td>NaN</td>\n",
       "      <td>NaN</td>\n",
       "    </tr>\n",
       "    <tr>\n",
       "      <th>427</th>\n",
       "      <td>Франческо Чилеа. Адриана Лекуврёр /По одноимен...</td>\n",
       "      <td>126000412</td>\n",
       "      <td>2012-02-07 12:00:00+00:00</td>\n",
       "      <td>Прочие</td>\n",
       "      <td>Опус Арте</td>\n",
       "      <td>Великобритания</td>\n",
       "      <td>Дэвид Маквикар</td>\n",
       "      <td>Дэвид Гроувс</td>\n",
       "      <td>«0+» - для любой зрительской аудитории</td>\n",
       "      <td>NaN</td>\n",
       "      <td>NaN</td>\n",
       "      <td>NaN</td>\n",
       "      <td>Коммерческий</td>\n",
       "      <td>NaN</td>\n",
       "      <td>NaN</td>\n",
       "      <td>NaN</td>\n",
       "    </tr>\n",
       "    <tr>\n",
       "      <th>443</th>\n",
       "      <td>Артур Сеймур Салливан. Микадо. Постановка Sydn...</td>\n",
       "      <td>126000212</td>\n",
       "      <td>2012-01-27 12:00:00+00:00</td>\n",
       "      <td>Прочие</td>\n",
       "      <td>Синема Лайв</td>\n",
       "      <td>Австралия</td>\n",
       "      <td>Стюарт Маундер</td>\n",
       "      <td>Синема Лайв</td>\n",
       "      <td>«0+» - для любой зрительской аудитории</td>\n",
       "      <td>NaN</td>\n",
       "      <td>NaN</td>\n",
       "      <td>NaN</td>\n",
       "      <td>Коммерческий</td>\n",
       "      <td>NaN</td>\n",
       "      <td>NaN</td>\n",
       "      <td>NaN</td>\n",
       "    </tr>\n",
       "  </tbody>\n",
       "</table>\n",
       "</div>"
      ],
      "text/plain": [
       "                                                 title   puNumber  \\\n",
       "43            Мемуары гейши (по роману Артура Голдена)  121000606   \n",
       "150                                           Жди меня  111013615   \n",
       "154   Дом из песка и тумана (по книге Андре Дюбуи III)  221037813   \n",
       "159                                  Жемчужная девушка  224011014   \n",
       "227                                         Полустанок  111026714   \n",
       "264  Разбойник и принцесса /По мотивам сказок Карел...  224010714   \n",
       "411  Пьетро Масканьи. Сельская честь /По одноименно...  126001812   \n",
       "412                                      Опера на льду  126001712   \n",
       "427  Франческо Чилеа. Адриана Лекуврёр /По одноимен...  126000412   \n",
       "443  Артур Сеймур Салливан. Микадо. Постановка Sydn...  126000212   \n",
       "\n",
       "              show_start_date            type  \\\n",
       "43  2012-12-14 12:00:00+00:00  Художественный   \n",
       "150 2015-08-25 12:00:00+00:00  Художественный   \n",
       "154 2013-10-25 12:00:00+00:00  Художественный   \n",
       "159 2014-08-28 12:00:00+00:00  Художественный   \n",
       "227 2014-12-24 12:00:00+00:00  Художественный   \n",
       "264 2014-08-28 12:00:00+00:00  Художественный   \n",
       "411 2012-05-29 12:00:00+00:00          Прочие   \n",
       "412 2012-05-29 12:00:00+00:00          Прочие   \n",
       "427 2012-02-07 12:00:00+00:00          Прочие   \n",
       "443 2012-01-27 12:00:00+00:00          Прочие   \n",
       "\n",
       "                                           film_studio production_country  \\\n",
       "43   Коламбия Пикчерз Корпорейшн, ДримУоркс ЭсКейДж...                США   \n",
       "150                              Киностудия \"Мосфильм\"               СССР   \n",
       "154                                    Кобальт Пикчерз                США   \n",
       "159  Чешское телевидение,Студия \"Три брата\" агентск...              Чехия   \n",
       "227                              Киностудия \"Мосфильм\"               СССР   \n",
       "264                                Чешское телевидение              Чехия   \n",
       "411                                     Эр А И Синема              Италия   \n",
       "412                                     Нексо Диджитал             Италия   \n",
       "427                                          Опус Арте     Великобритания   \n",
       "443                                        Синема Лайв          Австралия   \n",
       "\n",
       "                director                                           producer  \\\n",
       "43           Роб Маршалл  Стивен Спилберг, Люси Фишер, Дуглас Уик, Джон ...   \n",
       "150  А.Столпер, Б.Иванов                                                NaN   \n",
       "154      Вадим Перельман                                       Майкл Лондон   \n",
       "159        Владимир Дрга                                                NaN   \n",
       "227             Б.Барнет                                                NaN   \n",
       "264         Карел Смычек                                                NaN   \n",
       "411        Марио Мартоне                                           Ла Скала   \n",
       "412     Кристиан Биодани                 Джиглиола Барбьери, Паоло де Биаси   \n",
       "427       Дэвид Маквикар                                       Дэвид Гроувс   \n",
       "443       Стюарт Маундер                                        Синема Лайв   \n",
       "\n",
       "                            age_restriction  refundable_support  \\\n",
       "43          «12+» - для детей старше 12 лет                 NaN   \n",
       "150           «6+» - для детей старше 6 лет                 NaN   \n",
       "154         «16+» - для детей старше 16 лет                 NaN   \n",
       "159  «0+» - для любой зрительской аудитории                 NaN   \n",
       "227         «12+» - для детей старше 12 лет                 NaN   \n",
       "264  «0+» - для любой зрительской аудитории                 NaN   \n",
       "411  «0+» - для любой зрительской аудитории                 NaN   \n",
       "412  «0+» - для любой зрительской аудитории                 NaN   \n",
       "427  «0+» - для любой зрительской аудитории                 NaN   \n",
       "443  «0+» - для любой зрительской аудитории                 NaN   \n",
       "\n",
       "     nonrefundable_support  budget financing_source  ratings genres  \\\n",
       "43                     NaN     NaN     Коммерческий      NaN    NaN   \n",
       "150                    NaN     NaN     Коммерческий      NaN    NaN   \n",
       "154                    NaN     NaN     Коммерческий      NaN    NaN   \n",
       "159                    NaN     NaN     Коммерческий      NaN    NaN   \n",
       "227                    NaN     NaN     Коммерческий      NaN    NaN   \n",
       "264                    NaN     NaN     Коммерческий      NaN    NaN   \n",
       "411                    NaN     NaN     Коммерческий      NaN    NaN   \n",
       "412                    NaN     NaN     Коммерческий      NaN    NaN   \n",
       "427                    NaN     NaN     Коммерческий      NaN    NaN   \n",
       "443                    NaN     NaN     Коммерческий      NaN    NaN   \n",
       "\n",
       "     box_office  \n",
       "43          NaN  \n",
       "150         NaN  \n",
       "154         NaN  \n",
       "159         NaN  \n",
       "227         NaN  \n",
       "264         NaN  \n",
       "411         NaN  \n",
       "412         NaN  \n",
       "427         NaN  \n",
       "443         NaN  "
      ]
     },
     "execution_count": 28,
     "metadata": {},
     "output_type": "execute_result"
    }
   ],
   "source": [
    "# смотрим пропущенные значения\n",
    "data.loc[data['genres'].isna()].head(10)"
   ]
  },
  {
   "cell_type": "code",
   "execution_count": 29,
   "metadata": {},
   "outputs": [],
   "source": [
    "# заменим пустые данные значением 'Без жанра'\n",
    "data['genres'].fillna(value='Без жанра', inplace=True)"
   ]
  },
  {
   "cell_type": "code",
   "execution_count": 30,
   "metadata": {},
   "outputs": [
    {
     "data": {
      "text/html": [
       "<div>\n",
       "<style scoped>\n",
       "    .dataframe tbody tr th:only-of-type {\n",
       "        vertical-align: middle;\n",
       "    }\n",
       "\n",
       "    .dataframe tbody tr th {\n",
       "        vertical-align: top;\n",
       "    }\n",
       "\n",
       "    .dataframe thead th {\n",
       "        text-align: right;\n",
       "    }\n",
       "</style>\n",
       "<table border=\"1\" class=\"dataframe\">\n",
       "  <thead>\n",
       "    <tr style=\"text-align: right;\">\n",
       "      <th></th>\n",
       "      <th>title</th>\n",
       "      <th>puNumber</th>\n",
       "      <th>show_start_date</th>\n",
       "      <th>type</th>\n",
       "      <th>film_studio</th>\n",
       "      <th>production_country</th>\n",
       "      <th>director</th>\n",
       "      <th>producer</th>\n",
       "      <th>age_restriction</th>\n",
       "      <th>refundable_support</th>\n",
       "      <th>nonrefundable_support</th>\n",
       "      <th>budget</th>\n",
       "      <th>financing_source</th>\n",
       "      <th>ratings</th>\n",
       "      <th>genres</th>\n",
       "      <th>box_office</th>\n",
       "    </tr>\n",
       "  </thead>\n",
       "  <tbody>\n",
       "    <tr>\n",
       "      <th>764</th>\n",
       "      <td>Три звезды. Концерт в Waldbuhne Theater, Берли...</td>\n",
       "      <td>126003512</td>\n",
       "      <td>2012-12-04 12:00:00+00:00</td>\n",
       "      <td>Прочие</td>\n",
       "      <td>Райзинг Алтернатив</td>\n",
       "      <td>Великобритания</td>\n",
       "      <td>NaN</td>\n",
       "      <td>Вальдбюне Театр</td>\n",
       "      <td>«0+» - для любой зрительской аудитории</td>\n",
       "      <td>NaN</td>\n",
       "      <td>NaN</td>\n",
       "      <td>NaN</td>\n",
       "      <td>Коммерческий</td>\n",
       "      <td>NaN</td>\n",
       "      <td>Без жанра</td>\n",
       "      <td>44,350.00</td>\n",
       "    </tr>\n",
       "    <tr>\n",
       "      <th>1735</th>\n",
       "      <td>Помпеи. Британский музей</td>\n",
       "      <td>126003413</td>\n",
       "      <td>2013-09-11 12:00:00+00:00</td>\n",
       "      <td>Прочие</td>\n",
       "      <td>МортуСкрин, Британский музей</td>\n",
       "      <td>Великобритания</td>\n",
       "      <td>NaN</td>\n",
       "      <td>Британский музей</td>\n",
       "      <td>«0+» - для любой зрительской аудитории</td>\n",
       "      <td>NaN</td>\n",
       "      <td>NaN</td>\n",
       "      <td>NaN</td>\n",
       "      <td>Коммерческий</td>\n",
       "      <td>NaN</td>\n",
       "      <td>Без жанра</td>\n",
       "      <td>NaN</td>\n",
       "    </tr>\n",
       "    <tr>\n",
       "      <th>3839</th>\n",
       "      <td>Зур концерт (Большой концерт).</td>\n",
       "      <td>217027010</td>\n",
       "      <td>2010-06-24 12:00:00+00:00</td>\n",
       "      <td>Художественный</td>\n",
       "      <td>ООО \"Барс Рекордс\"</td>\n",
       "      <td>Россия</td>\n",
       "      <td>NaN</td>\n",
       "      <td>NaN</td>\n",
       "      <td>«12+» - для детей старше 12 лет</td>\n",
       "      <td>NaN</td>\n",
       "      <td>NaN</td>\n",
       "      <td>NaN</td>\n",
       "      <td>Коммерческий</td>\n",
       "      <td>NaN</td>\n",
       "      <td>Без жанра</td>\n",
       "      <td>NaN</td>\n",
       "    </tr>\n",
       "    <tr>\n",
       "      <th>4051</th>\n",
       "      <td>Ганс Сэйфуллин \"Авылым чишмэлэре. Ганс Сэйфулл...</td>\n",
       "      <td>217017310</td>\n",
       "      <td>2010-04-22 12:00:00+00:00</td>\n",
       "      <td>Художественный</td>\n",
       "      <td>ООО \"Барс-Рекордс\"</td>\n",
       "      <td>Россия</td>\n",
       "      <td>NaN</td>\n",
       "      <td>NaN</td>\n",
       "      <td>«0+» - для любой зрительской аудитории</td>\n",
       "      <td>NaN</td>\n",
       "      <td>NaN</td>\n",
       "      <td>NaN</td>\n",
       "      <td>Коммерческий</td>\n",
       "      <td>NaN</td>\n",
       "      <td>Без жанра</td>\n",
       "      <td>NaN</td>\n",
       "    </tr>\n",
       "    <tr>\n",
       "      <th>4297</th>\n",
       "      <td>Изге Вэли (Святой Валентин)</td>\n",
       "      <td>217020610</td>\n",
       "      <td>2010-05-20 12:00:00+00:00</td>\n",
       "      <td>Художественный</td>\n",
       "      <td>ООО \"Барс Рекордс\"</td>\n",
       "      <td>Россия</td>\n",
       "      <td>NaN</td>\n",
       "      <td>NaN</td>\n",
       "      <td>«12+» - для детей старше 12 лет</td>\n",
       "      <td>NaN</td>\n",
       "      <td>NaN</td>\n",
       "      <td>NaN</td>\n",
       "      <td>Коммерческий</td>\n",
       "      <td>NaN</td>\n",
       "      <td>Без жанра</td>\n",
       "      <td>NaN</td>\n",
       "    </tr>\n",
       "    <tr>\n",
       "      <th>4414</th>\n",
       "      <td>Bon Jovi. The Circle Tour</td>\n",
       "      <td>126001710</td>\n",
       "      <td>2010-11-11 12:00:00+00:00</td>\n",
       "      <td>Прочие</td>\n",
       "      <td>Эншутц Интертейнмент Груп</td>\n",
       "      <td>США</td>\n",
       "      <td>NaN</td>\n",
       "      <td>Эншутц Интертейнмент Груп</td>\n",
       "      <td>«0+» - для любой зрительской аудитории</td>\n",
       "      <td>NaN</td>\n",
       "      <td>NaN</td>\n",
       "      <td>NaN</td>\n",
       "      <td>Коммерческий</td>\n",
       "      <td>7.90</td>\n",
       "      <td>концерт,музыка</td>\n",
       "      <td>NaN</td>\n",
       "    </tr>\n",
       "    <tr>\n",
       "      <th>4440</th>\n",
       "      <td>Мульт личности. Выпуск 5</td>\n",
       "      <td>214000410</td>\n",
       "      <td>2010-01-25 12:00:00+00:00</td>\n",
       "      <td>Художественный</td>\n",
       "      <td>Без студии</td>\n",
       "      <td>Без страны</td>\n",
       "      <td>NaN</td>\n",
       "      <td>NaN</td>\n",
       "      <td>«0+» - для любой зрительской аудитории</td>\n",
       "      <td>NaN</td>\n",
       "      <td>NaN</td>\n",
       "      <td>NaN</td>\n",
       "      <td>Коммерческий</td>\n",
       "      <td>4.00</td>\n",
       "      <td>мультфильм,комедия</td>\n",
       "      <td>NaN</td>\n",
       "    </tr>\n",
       "    <tr>\n",
       "      <th>4922</th>\n",
       "      <td>Георг Фридрих Гендель. Мессия. Оратория. Корол...</td>\n",
       "      <td>126001111</td>\n",
       "      <td>2011-04-25 12:00:00+00:00</td>\n",
       "      <td>Прочие</td>\n",
       "      <td>Опус Арт</td>\n",
       "      <td>Великобритания</td>\n",
       "      <td>NaN</td>\n",
       "      <td>Короевский колледж Кембриджа</td>\n",
       "      <td>«0+» - для любой зрительской аудитории</td>\n",
       "      <td>NaN</td>\n",
       "      <td>NaN</td>\n",
       "      <td>NaN</td>\n",
       "      <td>Коммерческий</td>\n",
       "      <td>NaN</td>\n",
       "      <td>Без жанра</td>\n",
       "      <td>NaN</td>\n",
       "    </tr>\n",
       "    <tr>\n",
       "      <th>4941</th>\n",
       "      <td>Питер Гэбриэл и New Blood Orchestra 3D</td>\n",
       "      <td>126002711</td>\n",
       "      <td>2011-11-11 12:00:00+00:00</td>\n",
       "      <td>Прочие</td>\n",
       "      <td>Омниверс Визион</td>\n",
       "      <td>Великобритания</td>\n",
       "      <td>NaN</td>\n",
       "      <td>Омниверс Визион</td>\n",
       "      <td>«0+» - для любой зрительской аудитории</td>\n",
       "      <td>NaN</td>\n",
       "      <td>NaN</td>\n",
       "      <td>NaN</td>\n",
       "      <td>Коммерческий</td>\n",
       "      <td>6.70</td>\n",
       "      <td>концерт,музыка</td>\n",
       "      <td>NaN</td>\n",
       "    </tr>\n",
       "  </tbody>\n",
       "</table>\n",
       "</div>"
      ],
      "text/plain": [
       "                                                  title   puNumber  \\\n",
       "764   Три звезды. Концерт в Waldbuhne Theater, Берли...  126003512   \n",
       "1735                           Помпеи. Британский музей  126003413   \n",
       "3839                     Зур концерт (Большой концерт).  217027010   \n",
       "4051  Ганс Сэйфуллин \"Авылым чишмэлэре. Ганс Сэйфулл...  217017310   \n",
       "4297                        Изге Вэли (Святой Валентин)  217020610   \n",
       "4414                          Bon Jovi. The Circle Tour  126001710   \n",
       "4440                           Мульт личности. Выпуск 5  214000410   \n",
       "4922  Георг Фридрих Гендель. Мессия. Оратория. Корол...  126001111   \n",
       "4941             Питер Гэбриэл и New Blood Orchestra 3D  126002711   \n",
       "\n",
       "               show_start_date            type                   film_studio  \\\n",
       "764  2012-12-04 12:00:00+00:00          Прочие            Райзинг Алтернатив   \n",
       "1735 2013-09-11 12:00:00+00:00          Прочие  МортуСкрин, Британский музей   \n",
       "3839 2010-06-24 12:00:00+00:00  Художественный            ООО \"Барс Рекордс\"   \n",
       "4051 2010-04-22 12:00:00+00:00  Художественный            ООО \"Барс-Рекордс\"   \n",
       "4297 2010-05-20 12:00:00+00:00  Художественный            ООО \"Барс Рекордс\"   \n",
       "4414 2010-11-11 12:00:00+00:00          Прочие     Эншутц Интертейнмент Груп   \n",
       "4440 2010-01-25 12:00:00+00:00  Художественный                    Без студии   \n",
       "4922 2011-04-25 12:00:00+00:00          Прочие                      Опус Арт   \n",
       "4941 2011-11-11 12:00:00+00:00          Прочие               Омниверс Визион   \n",
       "\n",
       "     production_country director                      producer  \\\n",
       "764      Великобритания      NaN               Вальдбюне Театр   \n",
       "1735     Великобритания      NaN              Британский музей   \n",
       "3839             Россия      NaN                           NaN   \n",
       "4051             Россия      NaN                           NaN   \n",
       "4297             Россия      NaN                           NaN   \n",
       "4414                США      NaN     Эншутц Интертейнмент Груп   \n",
       "4440         Без страны      NaN                           NaN   \n",
       "4922     Великобритания      NaN  Короевский колледж Кембриджа   \n",
       "4941     Великобритания      NaN               Омниверс Визион   \n",
       "\n",
       "                             age_restriction  refundable_support  \\\n",
       "764   «0+» - для любой зрительской аудитории                 NaN   \n",
       "1735  «0+» - для любой зрительской аудитории                 NaN   \n",
       "3839         «12+» - для детей старше 12 лет                 NaN   \n",
       "4051  «0+» - для любой зрительской аудитории                 NaN   \n",
       "4297         «12+» - для детей старше 12 лет                 NaN   \n",
       "4414  «0+» - для любой зрительской аудитории                 NaN   \n",
       "4440  «0+» - для любой зрительской аудитории                 NaN   \n",
       "4922  «0+» - для любой зрительской аудитории                 NaN   \n",
       "4941  «0+» - для любой зрительской аудитории                 NaN   \n",
       "\n",
       "      nonrefundable_support  budget financing_source  ratings  \\\n",
       "764                     NaN     NaN     Коммерческий      NaN   \n",
       "1735                    NaN     NaN     Коммерческий      NaN   \n",
       "3839                    NaN     NaN     Коммерческий      NaN   \n",
       "4051                    NaN     NaN     Коммерческий      NaN   \n",
       "4297                    NaN     NaN     Коммерческий      NaN   \n",
       "4414                    NaN     NaN     Коммерческий     7.90   \n",
       "4440                    NaN     NaN     Коммерческий     4.00   \n",
       "4922                    NaN     NaN     Коммерческий      NaN   \n",
       "4941                    NaN     NaN     Коммерческий     6.70   \n",
       "\n",
       "                  genres  box_office  \n",
       "764            Без жанра   44,350.00  \n",
       "1735           Без жанра         NaN  \n",
       "3839           Без жанра         NaN  \n",
       "4051           Без жанра         NaN  \n",
       "4297           Без жанра         NaN  \n",
       "4414      концерт,музыка         NaN  \n",
       "4440  мультфильм,комедия         NaN  \n",
       "4922           Без жанра         NaN  \n",
       "4941      концерт,музыка         NaN  "
      ]
     },
     "execution_count": 30,
     "metadata": {},
     "output_type": "execute_result"
    }
   ],
   "source": [
    "# смотрим пропущенные значения\n",
    "data.loc[data['director'].isna()].head(10)"
   ]
  },
  {
   "cell_type": "code",
   "execution_count": 31,
   "metadata": {},
   "outputs": [],
   "source": [
    "# заменим пустые данные значением 'Без директора'\n",
    "data['director'].fillna(value='Без директора', inplace=True)"
   ]
  },
  {
   "cell_type": "code",
   "execution_count": 32,
   "metadata": {},
   "outputs": [
    {
     "data": {
      "text/html": [
       "<div>\n",
       "<style scoped>\n",
       "    .dataframe tbody tr th:only-of-type {\n",
       "        vertical-align: middle;\n",
       "    }\n",
       "\n",
       "    .dataframe tbody tr th {\n",
       "        vertical-align: top;\n",
       "    }\n",
       "\n",
       "    .dataframe thead th {\n",
       "        text-align: right;\n",
       "    }\n",
       "</style>\n",
       "<table border=\"1\" class=\"dataframe\">\n",
       "  <thead>\n",
       "    <tr style=\"text-align: right;\">\n",
       "      <th></th>\n",
       "      <th>title</th>\n",
       "      <th>puNumber</th>\n",
       "      <th>show_start_date</th>\n",
       "      <th>type</th>\n",
       "      <th>film_studio</th>\n",
       "      <th>production_country</th>\n",
       "      <th>director</th>\n",
       "      <th>producer</th>\n",
       "      <th>age_restriction</th>\n",
       "      <th>refundable_support</th>\n",
       "      <th>nonrefundable_support</th>\n",
       "      <th>budget</th>\n",
       "      <th>financing_source</th>\n",
       "      <th>ratings</th>\n",
       "      <th>genres</th>\n",
       "      <th>box_office</th>\n",
       "    </tr>\n",
       "  </thead>\n",
       "  <tbody>\n",
       "    <tr>\n",
       "      <th>1</th>\n",
       "      <td>Особо важное задание</td>\n",
       "      <td>111013716</td>\n",
       "      <td>2016-09-13 12:00:00+00:00</td>\n",
       "      <td>Художественный</td>\n",
       "      <td>Киностудия \"Мосфильм\"</td>\n",
       "      <td>СССР</td>\n",
       "      <td>Е.Матвеев</td>\n",
       "      <td>NaN</td>\n",
       "      <td>«6+» - для детей старше 6 лет</td>\n",
       "      <td>NaN</td>\n",
       "      <td>NaN</td>\n",
       "      <td>NaN</td>\n",
       "      <td>Коммерческий</td>\n",
       "      <td>6.60</td>\n",
       "      <td>драма,военный</td>\n",
       "      <td>NaN</td>\n",
       "    </tr>\n",
       "    <tr>\n",
       "      <th>5</th>\n",
       "      <td>Остановился поезд</td>\n",
       "      <td>111013816</td>\n",
       "      <td>2016-09-13 12:00:00+00:00</td>\n",
       "      <td>Художественный</td>\n",
       "      <td>Киностудия \"Мосфильм\"</td>\n",
       "      <td>СССР</td>\n",
       "      <td>В.Абдрашитов</td>\n",
       "      <td>NaN</td>\n",
       "      <td>«6+» - для детей старше 6 лет</td>\n",
       "      <td>NaN</td>\n",
       "      <td>NaN</td>\n",
       "      <td>NaN</td>\n",
       "      <td>Коммерческий</td>\n",
       "      <td>7.70</td>\n",
       "      <td>драма</td>\n",
       "      <td>NaN</td>\n",
       "    </tr>\n",
       "    <tr>\n",
       "      <th>6</th>\n",
       "      <td>Любовь и голуби</td>\n",
       "      <td>111007013</td>\n",
       "      <td>2013-10-18 12:00:00+00:00</td>\n",
       "      <td>Художественный</td>\n",
       "      <td>Киностудия \"Мосфильм\"</td>\n",
       "      <td>СССР</td>\n",
       "      <td>В.Меньшов</td>\n",
       "      <td>NaN</td>\n",
       "      <td>«12+» - для детей старше 12 лет</td>\n",
       "      <td>NaN</td>\n",
       "      <td>NaN</td>\n",
       "      <td>NaN</td>\n",
       "      <td>Коммерческий</td>\n",
       "      <td>8.30</td>\n",
       "      <td>мелодрама,комедия</td>\n",
       "      <td>2,700.00</td>\n",
       "    </tr>\n",
       "    <tr>\n",
       "      <th>9</th>\n",
       "      <td>Отпуск за свой счет</td>\n",
       "      <td>111019114</td>\n",
       "      <td>2014-12-01 12:00:00+00:00</td>\n",
       "      <td>Художественный</td>\n",
       "      <td>Киностудия \"Мосфильм\", Телевидение ВНР</td>\n",
       "      <td>СССР, Венгрия</td>\n",
       "      <td>В.Титов</td>\n",
       "      <td>NaN</td>\n",
       "      <td>«12+» - для детей старше 12 лет</td>\n",
       "      <td>NaN</td>\n",
       "      <td>NaN</td>\n",
       "      <td>NaN</td>\n",
       "      <td>Коммерческий</td>\n",
       "      <td>7.80</td>\n",
       "      <td>мелодрама,комедия</td>\n",
       "      <td>NaN</td>\n",
       "    </tr>\n",
       "    <tr>\n",
       "      <th>11</th>\n",
       "      <td>Ответный ход</td>\n",
       "      <td>111019014</td>\n",
       "      <td>2014-12-01 12:00:00+00:00</td>\n",
       "      <td>Художественный</td>\n",
       "      <td>Киностудия \"Мосфильм\"</td>\n",
       "      <td>СССР</td>\n",
       "      <td>М.Туманишвили</td>\n",
       "      <td>NaN</td>\n",
       "      <td>«12+» - для детей старше 12 лет</td>\n",
       "      <td>NaN</td>\n",
       "      <td>NaN</td>\n",
       "      <td>NaN</td>\n",
       "      <td>Коммерческий</td>\n",
       "      <td>7.80</td>\n",
       "      <td>боевик,драма,приключения</td>\n",
       "      <td>NaN</td>\n",
       "    </tr>\n",
       "    <tr>\n",
       "      <th>15</th>\n",
       "      <td>Председатель</td>\n",
       "      <td>111014916</td>\n",
       "      <td>2016-09-13 12:00:00+00:00</td>\n",
       "      <td>Художественный</td>\n",
       "      <td>Киностудия \"Мосфильм\"</td>\n",
       "      <td>СССР</td>\n",
       "      <td>А.Салтыков</td>\n",
       "      <td>NaN</td>\n",
       "      <td>«12+» - для детей старше 12 лет</td>\n",
       "      <td>NaN</td>\n",
       "      <td>NaN</td>\n",
       "      <td>NaN</td>\n",
       "      <td>Коммерческий</td>\n",
       "      <td>8.30</td>\n",
       "      <td>драма</td>\n",
       "      <td>NaN</td>\n",
       "    </tr>\n",
       "    <tr>\n",
       "      <th>16</th>\n",
       "      <td>Осенний марафон</td>\n",
       "      <td>111007513</td>\n",
       "      <td>2013-10-18 12:00:00+00:00</td>\n",
       "      <td>Художественный</td>\n",
       "      <td>Киностудия \"Мосфильм\"</td>\n",
       "      <td>СССР</td>\n",
       "      <td>Г.Данелия</td>\n",
       "      <td>NaN</td>\n",
       "      <td>«12+» - для детей старше 12 лет</td>\n",
       "      <td>NaN</td>\n",
       "      <td>NaN</td>\n",
       "      <td>NaN</td>\n",
       "      <td>Коммерческий</td>\n",
       "      <td>8.00</td>\n",
       "      <td>драма,мелодрама,комедия</td>\n",
       "      <td>NaN</td>\n",
       "    </tr>\n",
       "    <tr>\n",
       "      <th>17</th>\n",
       "      <td>Осень</td>\n",
       "      <td>111027914</td>\n",
       "      <td>2014-12-24 12:00:00+00:00</td>\n",
       "      <td>Художественный</td>\n",
       "      <td>Киностудия \"Мосфильм\"</td>\n",
       "      <td>СССР</td>\n",
       "      <td>А.Смирнов</td>\n",
       "      <td>NaN</td>\n",
       "      <td>«12+» - для детей старше 12 лет</td>\n",
       "      <td>NaN</td>\n",
       "      <td>NaN</td>\n",
       "      <td>NaN</td>\n",
       "      <td>Коммерческий</td>\n",
       "      <td>7.40</td>\n",
       "      <td>драма,мелодрама</td>\n",
       "      <td>NaN</td>\n",
       "    </tr>\n",
       "    <tr>\n",
       "      <th>18</th>\n",
       "      <td>Неподдающиеся</td>\n",
       "      <td>111003616</td>\n",
       "      <td>2016-02-12 12:00:00+00:00</td>\n",
       "      <td>Художественный</td>\n",
       "      <td>Киностудия \"Мосфильм\"</td>\n",
       "      <td>СССР</td>\n",
       "      <td>Ю.Чулюкин</td>\n",
       "      <td>NaN</td>\n",
       "      <td>«6+» - для детей старше 6 лет</td>\n",
       "      <td>NaN</td>\n",
       "      <td>NaN</td>\n",
       "      <td>NaN</td>\n",
       "      <td>Коммерческий</td>\n",
       "      <td>8.00</td>\n",
       "      <td>мелодрама,комедия</td>\n",
       "      <td>360.00</td>\n",
       "    </tr>\n",
       "    <tr>\n",
       "      <th>19</th>\n",
       "      <td>Неподсуден</td>\n",
       "      <td>111003716</td>\n",
       "      <td>2016-02-12 12:00:00+00:00</td>\n",
       "      <td>Художественный</td>\n",
       "      <td>Киностудия \"Мосфильм\"</td>\n",
       "      <td>СССР</td>\n",
       "      <td>В.Краснопольский, В.Усков</td>\n",
       "      <td>NaN</td>\n",
       "      <td>«6+» - для детей старше 6 лет</td>\n",
       "      <td>NaN</td>\n",
       "      <td>NaN</td>\n",
       "      <td>NaN</td>\n",
       "      <td>Коммерческий</td>\n",
       "      <td>7.70</td>\n",
       "      <td>драма</td>\n",
       "      <td>420.00</td>\n",
       "    </tr>\n",
       "  </tbody>\n",
       "</table>\n",
       "</div>"
      ],
      "text/plain": [
       "                   title   puNumber           show_start_date            type  \\\n",
       "1   Особо важное задание  111013716 2016-09-13 12:00:00+00:00  Художественный   \n",
       "5      Остановился поезд  111013816 2016-09-13 12:00:00+00:00  Художественный   \n",
       "6        Любовь и голуби  111007013 2013-10-18 12:00:00+00:00  Художественный   \n",
       "9    Отпуск за свой счет  111019114 2014-12-01 12:00:00+00:00  Художественный   \n",
       "11          Ответный ход  111019014 2014-12-01 12:00:00+00:00  Художественный   \n",
       "15          Председатель  111014916 2016-09-13 12:00:00+00:00  Художественный   \n",
       "16       Осенний марафон  111007513 2013-10-18 12:00:00+00:00  Художественный   \n",
       "17                 Осень  111027914 2014-12-24 12:00:00+00:00  Художественный   \n",
       "18         Неподдающиеся  111003616 2016-02-12 12:00:00+00:00  Художественный   \n",
       "19            Неподсуден  111003716 2016-02-12 12:00:00+00:00  Художественный   \n",
       "\n",
       "                               film_studio production_country  \\\n",
       "1                    Киностудия \"Мосфильм\"               СССР   \n",
       "5                    Киностудия \"Мосфильм\"               СССР   \n",
       "6                    Киностудия \"Мосфильм\"               СССР   \n",
       "9   Киностудия \"Мосфильм\", Телевидение ВНР      СССР, Венгрия   \n",
       "11                   Киностудия \"Мосфильм\"               СССР   \n",
       "15                   Киностудия \"Мосфильм\"               СССР   \n",
       "16                   Киностудия \"Мосфильм\"               СССР   \n",
       "17                   Киностудия \"Мосфильм\"               СССР   \n",
       "18                   Киностудия \"Мосфильм\"               СССР   \n",
       "19                   Киностудия \"Мосфильм\"               СССР   \n",
       "\n",
       "                     director producer                  age_restriction  \\\n",
       "1                   Е.Матвеев      NaN    «6+» - для детей старше 6 лет   \n",
       "5                В.Абдрашитов      NaN    «6+» - для детей старше 6 лет   \n",
       "6                   В.Меньшов      NaN  «12+» - для детей старше 12 лет   \n",
       "9                     В.Титов      NaN  «12+» - для детей старше 12 лет   \n",
       "11              М.Туманишвили      NaN  «12+» - для детей старше 12 лет   \n",
       "15                 А.Салтыков      NaN  «12+» - для детей старше 12 лет   \n",
       "16                  Г.Данелия      NaN  «12+» - для детей старше 12 лет   \n",
       "17                  А.Смирнов      NaN  «12+» - для детей старше 12 лет   \n",
       "18                  Ю.Чулюкин      NaN    «6+» - для детей старше 6 лет   \n",
       "19  В.Краснопольский, В.Усков      NaN    «6+» - для детей старше 6 лет   \n",
       "\n",
       "    refundable_support  nonrefundable_support  budget financing_source  \\\n",
       "1                  NaN                    NaN     NaN     Коммерческий   \n",
       "5                  NaN                    NaN     NaN     Коммерческий   \n",
       "6                  NaN                    NaN     NaN     Коммерческий   \n",
       "9                  NaN                    NaN     NaN     Коммерческий   \n",
       "11                 NaN                    NaN     NaN     Коммерческий   \n",
       "15                 NaN                    NaN     NaN     Коммерческий   \n",
       "16                 NaN                    NaN     NaN     Коммерческий   \n",
       "17                 NaN                    NaN     NaN     Коммерческий   \n",
       "18                 NaN                    NaN     NaN     Коммерческий   \n",
       "19                 NaN                    NaN     NaN     Коммерческий   \n",
       "\n",
       "    ratings                    genres  box_office  \n",
       "1      6.60             драма,военный         NaN  \n",
       "5      7.70                     драма         NaN  \n",
       "6      8.30         мелодрама,комедия    2,700.00  \n",
       "9      7.80         мелодрама,комедия         NaN  \n",
       "11     7.80  боевик,драма,приключения         NaN  \n",
       "15     8.30                     драма         NaN  \n",
       "16     8.00   драма,мелодрама,комедия         NaN  \n",
       "17     7.40           драма,мелодрама         NaN  \n",
       "18     8.00         мелодрама,комедия      360.00  \n",
       "19     7.70                     драма      420.00  "
      ]
     },
     "execution_count": 32,
     "metadata": {},
     "output_type": "execute_result"
    }
   ],
   "source": [
    "# смотрим пропущенные значения\n",
    "data.loc[data['producer'].isna()].head(10)"
   ]
  },
  {
   "cell_type": "code",
   "execution_count": 33,
   "metadata": {},
   "outputs": [],
   "source": [
    "# заменяем пустые данные значением 'Без продюсера'\n",
    "data['producer'].fillna(value='Без продюсера', inplace=True)"
   ]
  },
  {
   "cell_type": "markdown",
   "metadata": {},
   "source": [
    "<div class=\"alert-success\" style=\"padding: 20px; border-radius: 10px\">\n",
    "<b>Комментарий ревьюера ✔️</b>\n",
    "    \n",
    "Согласен с заменой пропусков в столбцах, которые содержат строковые данные. В принципе, можно было пройтись циклом по столбцам и заменить единым значением, скажем \"Неизвестно\"."
   ]
  },
  {
   "cell_type": "code",
   "execution_count": 34,
   "metadata": {},
   "outputs": [
    {
     "data": {
      "text/html": [
       "<div>\n",
       "<style scoped>\n",
       "    .dataframe tbody tr th:only-of-type {\n",
       "        vertical-align: middle;\n",
       "    }\n",
       "\n",
       "    .dataframe tbody tr th {\n",
       "        vertical-align: top;\n",
       "    }\n",
       "\n",
       "    .dataframe thead th {\n",
       "        text-align: right;\n",
       "    }\n",
       "</style>\n",
       "<table border=\"1\" class=\"dataframe\">\n",
       "  <thead>\n",
       "    <tr style=\"text-align: right;\">\n",
       "      <th></th>\n",
       "      <th>title</th>\n",
       "      <th>puNumber</th>\n",
       "      <th>show_start_date</th>\n",
       "      <th>type</th>\n",
       "      <th>film_studio</th>\n",
       "      <th>production_country</th>\n",
       "      <th>director</th>\n",
       "      <th>producer</th>\n",
       "      <th>age_restriction</th>\n",
       "      <th>refundable_support</th>\n",
       "      <th>nonrefundable_support</th>\n",
       "      <th>budget</th>\n",
       "      <th>financing_source</th>\n",
       "      <th>ratings</th>\n",
       "      <th>genres</th>\n",
       "      <th>box_office</th>\n",
       "    </tr>\n",
       "  </thead>\n",
       "  <tbody>\n",
       "    <tr>\n",
       "      <th>0</th>\n",
       "      <td>Открытый простор</td>\n",
       "      <td>221048915</td>\n",
       "      <td>2015-11-27 12:00:00+00:00</td>\n",
       "      <td>Художественный</td>\n",
       "      <td>Тачстоун Пикчерз, Кобальт Пикчерз, Бикон Пикче...</td>\n",
       "      <td>США</td>\n",
       "      <td>Кевин Костнер</td>\n",
       "      <td>Дэвид Валдес, Кевин Костнер, Джейк Эбертс</td>\n",
       "      <td>«18+» - запрещено для детей</td>\n",
       "      <td>NaN</td>\n",
       "      <td>NaN</td>\n",
       "      <td>NaN</td>\n",
       "      <td>Коммерческий</td>\n",
       "      <td>7.20</td>\n",
       "      <td>боевик,драма,мелодрама</td>\n",
       "      <td>NaN</td>\n",
       "    </tr>\n",
       "    <tr>\n",
       "      <th>1</th>\n",
       "      <td>Особо важное задание</td>\n",
       "      <td>111013716</td>\n",
       "      <td>2016-09-13 12:00:00+00:00</td>\n",
       "      <td>Художественный</td>\n",
       "      <td>Киностудия \"Мосфильм\"</td>\n",
       "      <td>СССР</td>\n",
       "      <td>Е.Матвеев</td>\n",
       "      <td>Без продюсера</td>\n",
       "      <td>«6+» - для детей старше 6 лет</td>\n",
       "      <td>NaN</td>\n",
       "      <td>NaN</td>\n",
       "      <td>NaN</td>\n",
       "      <td>Коммерческий</td>\n",
       "      <td>6.60</td>\n",
       "      <td>драма,военный</td>\n",
       "      <td>NaN</td>\n",
       "    </tr>\n",
       "    <tr>\n",
       "      <th>2</th>\n",
       "      <td>Особо опасен</td>\n",
       "      <td>221038416</td>\n",
       "      <td>2016-10-10 12:00:00+00:00</td>\n",
       "      <td>Художественный</td>\n",
       "      <td>Юниверсал Пикчерз, Кикстарт Продакшнз, Марк Пл...</td>\n",
       "      <td>США</td>\n",
       "      <td>Тимур Бекмамбетов</td>\n",
       "      <td>Джим Лемли, Джейсон Нетер, Марк Е.Платт, Яйн Смит</td>\n",
       "      <td>«18+» - запрещено для детей</td>\n",
       "      <td>NaN</td>\n",
       "      <td>NaN</td>\n",
       "      <td>NaN</td>\n",
       "      <td>Коммерческий</td>\n",
       "      <td>6.80</td>\n",
       "      <td>фантастика,боевик,триллер</td>\n",
       "      <td>NaN</td>\n",
       "    </tr>\n",
       "    <tr>\n",
       "      <th>3</th>\n",
       "      <td>Особо опасен</td>\n",
       "      <td>221026916</td>\n",
       "      <td>2016-06-10 12:00:00+00:00</td>\n",
       "      <td>Художественный</td>\n",
       "      <td>Юниверсал Пикчерз, Кикстарт Продакшнз, Марк Пл...</td>\n",
       "      <td>США</td>\n",
       "      <td>Тимур Бекмамбетов</td>\n",
       "      <td>Джим Лемли, Джейсон Нетер, Марк Е.Платт, Яйн Смит</td>\n",
       "      <td>«18+» - запрещено для детей</td>\n",
       "      <td>NaN</td>\n",
       "      <td>NaN</td>\n",
       "      <td>NaN</td>\n",
       "      <td>Коммерческий</td>\n",
       "      <td>6.80</td>\n",
       "      <td>фантастика,боевик,триллер</td>\n",
       "      <td>NaN</td>\n",
       "    </tr>\n",
       "    <tr>\n",
       "      <th>4</th>\n",
       "      <td>Особо опасен</td>\n",
       "      <td>221030815</td>\n",
       "      <td>2015-07-29 12:00:00+00:00</td>\n",
       "      <td>Художественный</td>\n",
       "      <td>Юниверсал Пикчерз, Кикстарт Продакшнз, Марк Пл...</td>\n",
       "      <td>США</td>\n",
       "      <td>Тимур Бекмамбетов</td>\n",
       "      <td>Джим Лемли, Джейсон Нетер, Марк Е.Платт, Яйн Смит</td>\n",
       "      <td>«18+» - запрещено для детей</td>\n",
       "      <td>NaN</td>\n",
       "      <td>NaN</td>\n",
       "      <td>NaN</td>\n",
       "      <td>Коммерческий</td>\n",
       "      <td>6.80</td>\n",
       "      <td>фантастика,боевик,триллер</td>\n",
       "      <td>NaN</td>\n",
       "    </tr>\n",
       "    <tr>\n",
       "      <th>5</th>\n",
       "      <td>Остановился поезд</td>\n",
       "      <td>111013816</td>\n",
       "      <td>2016-09-13 12:00:00+00:00</td>\n",
       "      <td>Художественный</td>\n",
       "      <td>Киностудия \"Мосфильм\"</td>\n",
       "      <td>СССР</td>\n",
       "      <td>В.Абдрашитов</td>\n",
       "      <td>Без продюсера</td>\n",
       "      <td>«6+» - для детей старше 6 лет</td>\n",
       "      <td>NaN</td>\n",
       "      <td>NaN</td>\n",
       "      <td>NaN</td>\n",
       "      <td>Коммерческий</td>\n",
       "      <td>7.70</td>\n",
       "      <td>драма</td>\n",
       "      <td>NaN</td>\n",
       "    </tr>\n",
       "    <tr>\n",
       "      <th>6</th>\n",
       "      <td>Любовь и голуби</td>\n",
       "      <td>111007013</td>\n",
       "      <td>2013-10-18 12:00:00+00:00</td>\n",
       "      <td>Художественный</td>\n",
       "      <td>Киностудия \"Мосфильм\"</td>\n",
       "      <td>СССР</td>\n",
       "      <td>В.Меньшов</td>\n",
       "      <td>Без продюсера</td>\n",
       "      <td>«12+» - для детей старше 12 лет</td>\n",
       "      <td>NaN</td>\n",
       "      <td>NaN</td>\n",
       "      <td>NaN</td>\n",
       "      <td>Коммерческий</td>\n",
       "      <td>8.30</td>\n",
       "      <td>мелодрама,комедия</td>\n",
       "      <td>2,700.00</td>\n",
       "    </tr>\n",
       "    <tr>\n",
       "      <th>7</th>\n",
       "      <td>Любовь и сигареты</td>\n",
       "      <td>221074614</td>\n",
       "      <td>2014-12-29 12:00:00+00:00</td>\n",
       "      <td>Художественный</td>\n",
       "      <td>Юнайтед Артистс, Грин Стрит Филмз, Айкон Интер...</td>\n",
       "      <td>США</td>\n",
       "      <td>Джон Туртурро</td>\n",
       "      <td>Джон Пенотти, Джон Туртурро</td>\n",
       "      <td>«18+» - запрещено для детей</td>\n",
       "      <td>NaN</td>\n",
       "      <td>NaN</td>\n",
       "      <td>NaN</td>\n",
       "      <td>Коммерческий</td>\n",
       "      <td>6.60</td>\n",
       "      <td>мюзикл,мелодрама,комедия</td>\n",
       "      <td>NaN</td>\n",
       "    </tr>\n",
       "    <tr>\n",
       "      <th>8</th>\n",
       "      <td>Отпетые мошенники.</td>\n",
       "      <td>121011416</td>\n",
       "      <td>2016-05-05 12:00:00+00:00</td>\n",
       "      <td>Художественный</td>\n",
       "      <td>Пульсар Продюксьон, ТФ1 Фильм</td>\n",
       "      <td>Франция</td>\n",
       "      <td>Эрик Беснард</td>\n",
       "      <td>Патрис Леду</td>\n",
       "      <td>«18+» - запрещено для детей</td>\n",
       "      <td>NaN</td>\n",
       "      <td>NaN</td>\n",
       "      <td>NaN</td>\n",
       "      <td>Коммерческий</td>\n",
       "      <td>8.00</td>\n",
       "      <td>комедия,криминал</td>\n",
       "      <td>NaN</td>\n",
       "    </tr>\n",
       "    <tr>\n",
       "      <th>9</th>\n",
       "      <td>Отпуск за свой счет</td>\n",
       "      <td>111019114</td>\n",
       "      <td>2014-12-01 12:00:00+00:00</td>\n",
       "      <td>Художественный</td>\n",
       "      <td>Киностудия \"Мосфильм\", Телевидение ВНР</td>\n",
       "      <td>СССР, Венгрия</td>\n",
       "      <td>В.Титов</td>\n",
       "      <td>Без продюсера</td>\n",
       "      <td>«12+» - для детей старше 12 лет</td>\n",
       "      <td>NaN</td>\n",
       "      <td>NaN</td>\n",
       "      <td>NaN</td>\n",
       "      <td>Коммерческий</td>\n",
       "      <td>7.80</td>\n",
       "      <td>мелодрама,комедия</td>\n",
       "      <td>NaN</td>\n",
       "    </tr>\n",
       "  </tbody>\n",
       "</table>\n",
       "</div>"
      ],
      "text/plain": [
       "                  title   puNumber           show_start_date            type  \\\n",
       "0      Открытый простор  221048915 2015-11-27 12:00:00+00:00  Художественный   \n",
       "1  Особо важное задание  111013716 2016-09-13 12:00:00+00:00  Художественный   \n",
       "2          Особо опасен  221038416 2016-10-10 12:00:00+00:00  Художественный   \n",
       "3          Особо опасен  221026916 2016-06-10 12:00:00+00:00  Художественный   \n",
       "4          Особо опасен  221030815 2015-07-29 12:00:00+00:00  Художественный   \n",
       "5     Остановился поезд  111013816 2016-09-13 12:00:00+00:00  Художественный   \n",
       "6       Любовь и голуби  111007013 2013-10-18 12:00:00+00:00  Художественный   \n",
       "7     Любовь и сигареты  221074614 2014-12-29 12:00:00+00:00  Художественный   \n",
       "8    Отпетые мошенники.  121011416 2016-05-05 12:00:00+00:00  Художественный   \n",
       "9   Отпуск за свой счет  111019114 2014-12-01 12:00:00+00:00  Художественный   \n",
       "\n",
       "                                         film_studio production_country  \\\n",
       "0  Тачстоун Пикчерз, Кобальт Пикчерз, Бикон Пикче...                США   \n",
       "1                              Киностудия \"Мосфильм\"               СССР   \n",
       "2  Юниверсал Пикчерз, Кикстарт Продакшнз, Марк Пл...                США   \n",
       "3  Юниверсал Пикчерз, Кикстарт Продакшнз, Марк Пл...                США   \n",
       "4  Юниверсал Пикчерз, Кикстарт Продакшнз, Марк Пл...                США   \n",
       "5                              Киностудия \"Мосфильм\"               СССР   \n",
       "6                              Киностудия \"Мосфильм\"               СССР   \n",
       "7  Юнайтед Артистс, Грин Стрит Филмз, Айкон Интер...                США   \n",
       "8                     Пульсар Продюксьон, ТФ1 Фильм             Франция   \n",
       "9             Киностудия \"Мосфильм\", Телевидение ВНР      СССР, Венгрия   \n",
       "\n",
       "            director                                           producer  \\\n",
       "0      Кевин Костнер          Дэвид Валдес, Кевин Костнер, Джейк Эбертс   \n",
       "1          Е.Матвеев                                      Без продюсера   \n",
       "2  Тимур Бекмамбетов  Джим Лемли, Джейсон Нетер, Марк Е.Платт, Яйн Смит   \n",
       "3  Тимур Бекмамбетов  Джим Лемли, Джейсон Нетер, Марк Е.Платт, Яйн Смит   \n",
       "4  Тимур Бекмамбетов  Джим Лемли, Джейсон Нетер, Марк Е.Платт, Яйн Смит   \n",
       "5       В.Абдрашитов                                      Без продюсера   \n",
       "6          В.Меньшов                                      Без продюсера   \n",
       "7      Джон Туртурро                        Джон Пенотти, Джон Туртурро   \n",
       "8       Эрик Беснард                                        Патрис Леду   \n",
       "9            В.Титов                                      Без продюсера   \n",
       "\n",
       "                   age_restriction  refundable_support  nonrefundable_support  \\\n",
       "0      «18+» - запрещено для детей                 NaN                    NaN   \n",
       "1    «6+» - для детей старше 6 лет                 NaN                    NaN   \n",
       "2      «18+» - запрещено для детей                 NaN                    NaN   \n",
       "3      «18+» - запрещено для детей                 NaN                    NaN   \n",
       "4      «18+» - запрещено для детей                 NaN                    NaN   \n",
       "5    «6+» - для детей старше 6 лет                 NaN                    NaN   \n",
       "6  «12+» - для детей старше 12 лет                 NaN                    NaN   \n",
       "7      «18+» - запрещено для детей                 NaN                    NaN   \n",
       "8      «18+» - запрещено для детей                 NaN                    NaN   \n",
       "9  «12+» - для детей старше 12 лет                 NaN                    NaN   \n",
       "\n",
       "   budget financing_source  ratings                     genres  box_office  \n",
       "0     NaN     Коммерческий     7.20     боевик,драма,мелодрама         NaN  \n",
       "1     NaN     Коммерческий     6.60              драма,военный         NaN  \n",
       "2     NaN     Коммерческий     6.80  фантастика,боевик,триллер         NaN  \n",
       "3     NaN     Коммерческий     6.80  фантастика,боевик,триллер         NaN  \n",
       "4     NaN     Коммерческий     6.80  фантастика,боевик,триллер         NaN  \n",
       "5     NaN     Коммерческий     7.70                      драма         NaN  \n",
       "6     NaN     Коммерческий     8.30          мелодрама,комедия    2,700.00  \n",
       "7     NaN     Коммерческий     6.60   мюзикл,мелодрама,комедия         NaN  \n",
       "8     NaN     Коммерческий     8.00           комедия,криминал         NaN  \n",
       "9     NaN     Коммерческий     7.80          мелодрама,комедия         NaN  "
      ]
     },
     "execution_count": 34,
     "metadata": {},
     "output_type": "execute_result"
    }
   ],
   "source": [
    "# смотрим пропущенные значения\n",
    "data.loc[data['refundable_support'].isna()].head(10)"
   ]
  },
  {
   "cell_type": "code",
   "execution_count": 35,
   "metadata": {},
   "outputs": [],
   "source": [
    "# вероятно данные не указаны, потому что это коммерческий проект или просто информация не вписана\n",
    "# заполним пропуски 0\n",
    "\n",
    "data['refundable_support'].fillna(value=0, inplace=True)"
   ]
  },
  {
   "cell_type": "code",
   "execution_count": 36,
   "metadata": {},
   "outputs": [
    {
     "data": {
      "text/html": [
       "<div>\n",
       "<style scoped>\n",
       "    .dataframe tbody tr th:only-of-type {\n",
       "        vertical-align: middle;\n",
       "    }\n",
       "\n",
       "    .dataframe tbody tr th {\n",
       "        vertical-align: top;\n",
       "    }\n",
       "\n",
       "    .dataframe thead th {\n",
       "        text-align: right;\n",
       "    }\n",
       "</style>\n",
       "<table border=\"1\" class=\"dataframe\">\n",
       "  <thead>\n",
       "    <tr style=\"text-align: right;\">\n",
       "      <th></th>\n",
       "      <th>title</th>\n",
       "      <th>puNumber</th>\n",
       "      <th>show_start_date</th>\n",
       "      <th>type</th>\n",
       "      <th>film_studio</th>\n",
       "      <th>production_country</th>\n",
       "      <th>director</th>\n",
       "      <th>producer</th>\n",
       "      <th>age_restriction</th>\n",
       "      <th>refundable_support</th>\n",
       "      <th>nonrefundable_support</th>\n",
       "      <th>budget</th>\n",
       "      <th>financing_source</th>\n",
       "      <th>ratings</th>\n",
       "      <th>genres</th>\n",
       "      <th>box_office</th>\n",
       "    </tr>\n",
       "  </thead>\n",
       "  <tbody>\n",
       "    <tr>\n",
       "      <th>0</th>\n",
       "      <td>Открытый простор</td>\n",
       "      <td>221048915</td>\n",
       "      <td>2015-11-27 12:00:00+00:00</td>\n",
       "      <td>Художественный</td>\n",
       "      <td>Тачстоун Пикчерз, Кобальт Пикчерз, Бикон Пикче...</td>\n",
       "      <td>США</td>\n",
       "      <td>Кевин Костнер</td>\n",
       "      <td>Дэвид Валдес, Кевин Костнер, Джейк Эбертс</td>\n",
       "      <td>«18+» - запрещено для детей</td>\n",
       "      <td>0.00</td>\n",
       "      <td>NaN</td>\n",
       "      <td>NaN</td>\n",
       "      <td>Коммерческий</td>\n",
       "      <td>7.20</td>\n",
       "      <td>боевик,драма,мелодрама</td>\n",
       "      <td>NaN</td>\n",
       "    </tr>\n",
       "    <tr>\n",
       "      <th>1</th>\n",
       "      <td>Особо важное задание</td>\n",
       "      <td>111013716</td>\n",
       "      <td>2016-09-13 12:00:00+00:00</td>\n",
       "      <td>Художественный</td>\n",
       "      <td>Киностудия \"Мосфильм\"</td>\n",
       "      <td>СССР</td>\n",
       "      <td>Е.Матвеев</td>\n",
       "      <td>Без продюсера</td>\n",
       "      <td>«6+» - для детей старше 6 лет</td>\n",
       "      <td>0.00</td>\n",
       "      <td>NaN</td>\n",
       "      <td>NaN</td>\n",
       "      <td>Коммерческий</td>\n",
       "      <td>6.60</td>\n",
       "      <td>драма,военный</td>\n",
       "      <td>NaN</td>\n",
       "    </tr>\n",
       "    <tr>\n",
       "      <th>2</th>\n",
       "      <td>Особо опасен</td>\n",
       "      <td>221038416</td>\n",
       "      <td>2016-10-10 12:00:00+00:00</td>\n",
       "      <td>Художественный</td>\n",
       "      <td>Юниверсал Пикчерз, Кикстарт Продакшнз, Марк Пл...</td>\n",
       "      <td>США</td>\n",
       "      <td>Тимур Бекмамбетов</td>\n",
       "      <td>Джим Лемли, Джейсон Нетер, Марк Е.Платт, Яйн Смит</td>\n",
       "      <td>«18+» - запрещено для детей</td>\n",
       "      <td>0.00</td>\n",
       "      <td>NaN</td>\n",
       "      <td>NaN</td>\n",
       "      <td>Коммерческий</td>\n",
       "      <td>6.80</td>\n",
       "      <td>фантастика,боевик,триллер</td>\n",
       "      <td>NaN</td>\n",
       "    </tr>\n",
       "    <tr>\n",
       "      <th>3</th>\n",
       "      <td>Особо опасен</td>\n",
       "      <td>221026916</td>\n",
       "      <td>2016-06-10 12:00:00+00:00</td>\n",
       "      <td>Художественный</td>\n",
       "      <td>Юниверсал Пикчерз, Кикстарт Продакшнз, Марк Пл...</td>\n",
       "      <td>США</td>\n",
       "      <td>Тимур Бекмамбетов</td>\n",
       "      <td>Джим Лемли, Джейсон Нетер, Марк Е.Платт, Яйн Смит</td>\n",
       "      <td>«18+» - запрещено для детей</td>\n",
       "      <td>0.00</td>\n",
       "      <td>NaN</td>\n",
       "      <td>NaN</td>\n",
       "      <td>Коммерческий</td>\n",
       "      <td>6.80</td>\n",
       "      <td>фантастика,боевик,триллер</td>\n",
       "      <td>NaN</td>\n",
       "    </tr>\n",
       "    <tr>\n",
       "      <th>4</th>\n",
       "      <td>Особо опасен</td>\n",
       "      <td>221030815</td>\n",
       "      <td>2015-07-29 12:00:00+00:00</td>\n",
       "      <td>Художественный</td>\n",
       "      <td>Юниверсал Пикчерз, Кикстарт Продакшнз, Марк Пл...</td>\n",
       "      <td>США</td>\n",
       "      <td>Тимур Бекмамбетов</td>\n",
       "      <td>Джим Лемли, Джейсон Нетер, Марк Е.Платт, Яйн Смит</td>\n",
       "      <td>«18+» - запрещено для детей</td>\n",
       "      <td>0.00</td>\n",
       "      <td>NaN</td>\n",
       "      <td>NaN</td>\n",
       "      <td>Коммерческий</td>\n",
       "      <td>6.80</td>\n",
       "      <td>фантастика,боевик,триллер</td>\n",
       "      <td>NaN</td>\n",
       "    </tr>\n",
       "    <tr>\n",
       "      <th>5</th>\n",
       "      <td>Остановился поезд</td>\n",
       "      <td>111013816</td>\n",
       "      <td>2016-09-13 12:00:00+00:00</td>\n",
       "      <td>Художественный</td>\n",
       "      <td>Киностудия \"Мосфильм\"</td>\n",
       "      <td>СССР</td>\n",
       "      <td>В.Абдрашитов</td>\n",
       "      <td>Без продюсера</td>\n",
       "      <td>«6+» - для детей старше 6 лет</td>\n",
       "      <td>0.00</td>\n",
       "      <td>NaN</td>\n",
       "      <td>NaN</td>\n",
       "      <td>Коммерческий</td>\n",
       "      <td>7.70</td>\n",
       "      <td>драма</td>\n",
       "      <td>NaN</td>\n",
       "    </tr>\n",
       "    <tr>\n",
       "      <th>6</th>\n",
       "      <td>Любовь и голуби</td>\n",
       "      <td>111007013</td>\n",
       "      <td>2013-10-18 12:00:00+00:00</td>\n",
       "      <td>Художественный</td>\n",
       "      <td>Киностудия \"Мосфильм\"</td>\n",
       "      <td>СССР</td>\n",
       "      <td>В.Меньшов</td>\n",
       "      <td>Без продюсера</td>\n",
       "      <td>«12+» - для детей старше 12 лет</td>\n",
       "      <td>0.00</td>\n",
       "      <td>NaN</td>\n",
       "      <td>NaN</td>\n",
       "      <td>Коммерческий</td>\n",
       "      <td>8.30</td>\n",
       "      <td>мелодрама,комедия</td>\n",
       "      <td>2,700.00</td>\n",
       "    </tr>\n",
       "    <tr>\n",
       "      <th>7</th>\n",
       "      <td>Любовь и сигареты</td>\n",
       "      <td>221074614</td>\n",
       "      <td>2014-12-29 12:00:00+00:00</td>\n",
       "      <td>Художественный</td>\n",
       "      <td>Юнайтед Артистс, Грин Стрит Филмз, Айкон Интер...</td>\n",
       "      <td>США</td>\n",
       "      <td>Джон Туртурро</td>\n",
       "      <td>Джон Пенотти, Джон Туртурро</td>\n",
       "      <td>«18+» - запрещено для детей</td>\n",
       "      <td>0.00</td>\n",
       "      <td>NaN</td>\n",
       "      <td>NaN</td>\n",
       "      <td>Коммерческий</td>\n",
       "      <td>6.60</td>\n",
       "      <td>мюзикл,мелодрама,комедия</td>\n",
       "      <td>NaN</td>\n",
       "    </tr>\n",
       "    <tr>\n",
       "      <th>8</th>\n",
       "      <td>Отпетые мошенники.</td>\n",
       "      <td>121011416</td>\n",
       "      <td>2016-05-05 12:00:00+00:00</td>\n",
       "      <td>Художественный</td>\n",
       "      <td>Пульсар Продюксьон, ТФ1 Фильм</td>\n",
       "      <td>Франция</td>\n",
       "      <td>Эрик Беснард</td>\n",
       "      <td>Патрис Леду</td>\n",
       "      <td>«18+» - запрещено для детей</td>\n",
       "      <td>0.00</td>\n",
       "      <td>NaN</td>\n",
       "      <td>NaN</td>\n",
       "      <td>Коммерческий</td>\n",
       "      <td>8.00</td>\n",
       "      <td>комедия,криминал</td>\n",
       "      <td>NaN</td>\n",
       "    </tr>\n",
       "    <tr>\n",
       "      <th>9</th>\n",
       "      <td>Отпуск за свой счет</td>\n",
       "      <td>111019114</td>\n",
       "      <td>2014-12-01 12:00:00+00:00</td>\n",
       "      <td>Художественный</td>\n",
       "      <td>Киностудия \"Мосфильм\", Телевидение ВНР</td>\n",
       "      <td>СССР, Венгрия</td>\n",
       "      <td>В.Титов</td>\n",
       "      <td>Без продюсера</td>\n",
       "      <td>«12+» - для детей старше 12 лет</td>\n",
       "      <td>0.00</td>\n",
       "      <td>NaN</td>\n",
       "      <td>NaN</td>\n",
       "      <td>Коммерческий</td>\n",
       "      <td>7.80</td>\n",
       "      <td>мелодрама,комедия</td>\n",
       "      <td>NaN</td>\n",
       "    </tr>\n",
       "  </tbody>\n",
       "</table>\n",
       "</div>"
      ],
      "text/plain": [
       "                  title   puNumber           show_start_date            type  \\\n",
       "0      Открытый простор  221048915 2015-11-27 12:00:00+00:00  Художественный   \n",
       "1  Особо важное задание  111013716 2016-09-13 12:00:00+00:00  Художественный   \n",
       "2          Особо опасен  221038416 2016-10-10 12:00:00+00:00  Художественный   \n",
       "3          Особо опасен  221026916 2016-06-10 12:00:00+00:00  Художественный   \n",
       "4          Особо опасен  221030815 2015-07-29 12:00:00+00:00  Художественный   \n",
       "5     Остановился поезд  111013816 2016-09-13 12:00:00+00:00  Художественный   \n",
       "6       Любовь и голуби  111007013 2013-10-18 12:00:00+00:00  Художественный   \n",
       "7     Любовь и сигареты  221074614 2014-12-29 12:00:00+00:00  Художественный   \n",
       "8    Отпетые мошенники.  121011416 2016-05-05 12:00:00+00:00  Художественный   \n",
       "9   Отпуск за свой счет  111019114 2014-12-01 12:00:00+00:00  Художественный   \n",
       "\n",
       "                                         film_studio production_country  \\\n",
       "0  Тачстоун Пикчерз, Кобальт Пикчерз, Бикон Пикче...                США   \n",
       "1                              Киностудия \"Мосфильм\"               СССР   \n",
       "2  Юниверсал Пикчерз, Кикстарт Продакшнз, Марк Пл...                США   \n",
       "3  Юниверсал Пикчерз, Кикстарт Продакшнз, Марк Пл...                США   \n",
       "4  Юниверсал Пикчерз, Кикстарт Продакшнз, Марк Пл...                США   \n",
       "5                              Киностудия \"Мосфильм\"               СССР   \n",
       "6                              Киностудия \"Мосфильм\"               СССР   \n",
       "7  Юнайтед Артистс, Грин Стрит Филмз, Айкон Интер...                США   \n",
       "8                     Пульсар Продюксьон, ТФ1 Фильм             Франция   \n",
       "9             Киностудия \"Мосфильм\", Телевидение ВНР      СССР, Венгрия   \n",
       "\n",
       "            director                                           producer  \\\n",
       "0      Кевин Костнер          Дэвид Валдес, Кевин Костнер, Джейк Эбертс   \n",
       "1          Е.Матвеев                                      Без продюсера   \n",
       "2  Тимур Бекмамбетов  Джим Лемли, Джейсон Нетер, Марк Е.Платт, Яйн Смит   \n",
       "3  Тимур Бекмамбетов  Джим Лемли, Джейсон Нетер, Марк Е.Платт, Яйн Смит   \n",
       "4  Тимур Бекмамбетов  Джим Лемли, Джейсон Нетер, Марк Е.Платт, Яйн Смит   \n",
       "5       В.Абдрашитов                                      Без продюсера   \n",
       "6          В.Меньшов                                      Без продюсера   \n",
       "7      Джон Туртурро                        Джон Пенотти, Джон Туртурро   \n",
       "8       Эрик Беснард                                        Патрис Леду   \n",
       "9            В.Титов                                      Без продюсера   \n",
       "\n",
       "                   age_restriction  refundable_support  nonrefundable_support  \\\n",
       "0      «18+» - запрещено для детей                0.00                    NaN   \n",
       "1    «6+» - для детей старше 6 лет                0.00                    NaN   \n",
       "2      «18+» - запрещено для детей                0.00                    NaN   \n",
       "3      «18+» - запрещено для детей                0.00                    NaN   \n",
       "4      «18+» - запрещено для детей                0.00                    NaN   \n",
       "5    «6+» - для детей старше 6 лет                0.00                    NaN   \n",
       "6  «12+» - для детей старше 12 лет                0.00                    NaN   \n",
       "7      «18+» - запрещено для детей                0.00                    NaN   \n",
       "8      «18+» - запрещено для детей                0.00                    NaN   \n",
       "9  «12+» - для детей старше 12 лет                0.00                    NaN   \n",
       "\n",
       "   budget financing_source  ratings                     genres  box_office  \n",
       "0     NaN     Коммерческий     7.20     боевик,драма,мелодрама         NaN  \n",
       "1     NaN     Коммерческий     6.60              драма,военный         NaN  \n",
       "2     NaN     Коммерческий     6.80  фантастика,боевик,триллер         NaN  \n",
       "3     NaN     Коммерческий     6.80  фантастика,боевик,триллер         NaN  \n",
       "4     NaN     Коммерческий     6.80  фантастика,боевик,триллер         NaN  \n",
       "5     NaN     Коммерческий     7.70                      драма         NaN  \n",
       "6     NaN     Коммерческий     8.30          мелодрама,комедия    2,700.00  \n",
       "7     NaN     Коммерческий     6.60   мюзикл,мелодрама,комедия         NaN  \n",
       "8     NaN     Коммерческий     8.00           комедия,криминал         NaN  \n",
       "9     NaN     Коммерческий     7.80          мелодрама,комедия         NaN  "
      ]
     },
     "execution_count": 36,
     "metadata": {},
     "output_type": "execute_result"
    }
   ],
   "source": [
    "# смотрим пропущенные значения\n",
    "data.loc[data['nonrefundable_support'].isna()].head(10)"
   ]
  },
  {
   "cell_type": "code",
   "execution_count": 37,
   "metadata": {},
   "outputs": [],
   "source": [
    "# вероятно в этих фильмах не было гос.поддержки, либо не указана информация\n",
    "# заменим пустные значения 0\n",
    "data['nonrefundable_support'].fillna(value=0, inplace=True)"
   ]
  },
  {
   "cell_type": "code",
   "execution_count": 38,
   "metadata": {
    "scrolled": true
   },
   "outputs": [
    {
     "data": {
      "text/html": [
       "<div>\n",
       "<style scoped>\n",
       "    .dataframe tbody tr th:only-of-type {\n",
       "        vertical-align: middle;\n",
       "    }\n",
       "\n",
       "    .dataframe tbody tr th {\n",
       "        vertical-align: top;\n",
       "    }\n",
       "\n",
       "    .dataframe thead th {\n",
       "        text-align: right;\n",
       "    }\n",
       "</style>\n",
       "<table border=\"1\" class=\"dataframe\">\n",
       "  <thead>\n",
       "    <tr style=\"text-align: right;\">\n",
       "      <th></th>\n",
       "      <th>title</th>\n",
       "      <th>puNumber</th>\n",
       "      <th>show_start_date</th>\n",
       "      <th>type</th>\n",
       "      <th>film_studio</th>\n",
       "      <th>production_country</th>\n",
       "      <th>director</th>\n",
       "      <th>producer</th>\n",
       "      <th>age_restriction</th>\n",
       "      <th>refundable_support</th>\n",
       "      <th>nonrefundable_support</th>\n",
       "      <th>budget</th>\n",
       "      <th>financing_source</th>\n",
       "      <th>ratings</th>\n",
       "      <th>genres</th>\n",
       "      <th>box_office</th>\n",
       "    </tr>\n",
       "  </thead>\n",
       "  <tbody>\n",
       "    <tr>\n",
       "      <th>0</th>\n",
       "      <td>Открытый простор</td>\n",
       "      <td>221048915</td>\n",
       "      <td>2015-11-27 12:00:00+00:00</td>\n",
       "      <td>Художественный</td>\n",
       "      <td>Тачстоун Пикчерз, Кобальт Пикчерз, Бикон Пикче...</td>\n",
       "      <td>США</td>\n",
       "      <td>Кевин Костнер</td>\n",
       "      <td>Дэвид Валдес, Кевин Костнер, Джейк Эбертс</td>\n",
       "      <td>«18+» - запрещено для детей</td>\n",
       "      <td>0.00</td>\n",
       "      <td>0.00</td>\n",
       "      <td>NaN</td>\n",
       "      <td>Коммерческий</td>\n",
       "      <td>7.20</td>\n",
       "      <td>боевик,драма,мелодрама</td>\n",
       "      <td>NaN</td>\n",
       "    </tr>\n",
       "    <tr>\n",
       "      <th>1</th>\n",
       "      <td>Особо важное задание</td>\n",
       "      <td>111013716</td>\n",
       "      <td>2016-09-13 12:00:00+00:00</td>\n",
       "      <td>Художественный</td>\n",
       "      <td>Киностудия \"Мосфильм\"</td>\n",
       "      <td>СССР</td>\n",
       "      <td>Е.Матвеев</td>\n",
       "      <td>Без продюсера</td>\n",
       "      <td>«6+» - для детей старше 6 лет</td>\n",
       "      <td>0.00</td>\n",
       "      <td>0.00</td>\n",
       "      <td>NaN</td>\n",
       "      <td>Коммерческий</td>\n",
       "      <td>6.60</td>\n",
       "      <td>драма,военный</td>\n",
       "      <td>NaN</td>\n",
       "    </tr>\n",
       "    <tr>\n",
       "      <th>2</th>\n",
       "      <td>Особо опасен</td>\n",
       "      <td>221038416</td>\n",
       "      <td>2016-10-10 12:00:00+00:00</td>\n",
       "      <td>Художественный</td>\n",
       "      <td>Юниверсал Пикчерз, Кикстарт Продакшнз, Марк Пл...</td>\n",
       "      <td>США</td>\n",
       "      <td>Тимур Бекмамбетов</td>\n",
       "      <td>Джим Лемли, Джейсон Нетер, Марк Е.Платт, Яйн Смит</td>\n",
       "      <td>«18+» - запрещено для детей</td>\n",
       "      <td>0.00</td>\n",
       "      <td>0.00</td>\n",
       "      <td>NaN</td>\n",
       "      <td>Коммерческий</td>\n",
       "      <td>6.80</td>\n",
       "      <td>фантастика,боевик,триллер</td>\n",
       "      <td>NaN</td>\n",
       "    </tr>\n",
       "    <tr>\n",
       "      <th>3</th>\n",
       "      <td>Особо опасен</td>\n",
       "      <td>221026916</td>\n",
       "      <td>2016-06-10 12:00:00+00:00</td>\n",
       "      <td>Художественный</td>\n",
       "      <td>Юниверсал Пикчерз, Кикстарт Продакшнз, Марк Пл...</td>\n",
       "      <td>США</td>\n",
       "      <td>Тимур Бекмамбетов</td>\n",
       "      <td>Джим Лемли, Джейсон Нетер, Марк Е.Платт, Яйн Смит</td>\n",
       "      <td>«18+» - запрещено для детей</td>\n",
       "      <td>0.00</td>\n",
       "      <td>0.00</td>\n",
       "      <td>NaN</td>\n",
       "      <td>Коммерческий</td>\n",
       "      <td>6.80</td>\n",
       "      <td>фантастика,боевик,триллер</td>\n",
       "      <td>NaN</td>\n",
       "    </tr>\n",
       "    <tr>\n",
       "      <th>4</th>\n",
       "      <td>Особо опасен</td>\n",
       "      <td>221030815</td>\n",
       "      <td>2015-07-29 12:00:00+00:00</td>\n",
       "      <td>Художественный</td>\n",
       "      <td>Юниверсал Пикчерз, Кикстарт Продакшнз, Марк Пл...</td>\n",
       "      <td>США</td>\n",
       "      <td>Тимур Бекмамбетов</td>\n",
       "      <td>Джим Лемли, Джейсон Нетер, Марк Е.Платт, Яйн Смит</td>\n",
       "      <td>«18+» - запрещено для детей</td>\n",
       "      <td>0.00</td>\n",
       "      <td>0.00</td>\n",
       "      <td>NaN</td>\n",
       "      <td>Коммерческий</td>\n",
       "      <td>6.80</td>\n",
       "      <td>фантастика,боевик,триллер</td>\n",
       "      <td>NaN</td>\n",
       "    </tr>\n",
       "    <tr>\n",
       "      <th>5</th>\n",
       "      <td>Остановился поезд</td>\n",
       "      <td>111013816</td>\n",
       "      <td>2016-09-13 12:00:00+00:00</td>\n",
       "      <td>Художественный</td>\n",
       "      <td>Киностудия \"Мосфильм\"</td>\n",
       "      <td>СССР</td>\n",
       "      <td>В.Абдрашитов</td>\n",
       "      <td>Без продюсера</td>\n",
       "      <td>«6+» - для детей старше 6 лет</td>\n",
       "      <td>0.00</td>\n",
       "      <td>0.00</td>\n",
       "      <td>NaN</td>\n",
       "      <td>Коммерческий</td>\n",
       "      <td>7.70</td>\n",
       "      <td>драма</td>\n",
       "      <td>NaN</td>\n",
       "    </tr>\n",
       "    <tr>\n",
       "      <th>6</th>\n",
       "      <td>Любовь и голуби</td>\n",
       "      <td>111007013</td>\n",
       "      <td>2013-10-18 12:00:00+00:00</td>\n",
       "      <td>Художественный</td>\n",
       "      <td>Киностудия \"Мосфильм\"</td>\n",
       "      <td>СССР</td>\n",
       "      <td>В.Меньшов</td>\n",
       "      <td>Без продюсера</td>\n",
       "      <td>«12+» - для детей старше 12 лет</td>\n",
       "      <td>0.00</td>\n",
       "      <td>0.00</td>\n",
       "      <td>NaN</td>\n",
       "      <td>Коммерческий</td>\n",
       "      <td>8.30</td>\n",
       "      <td>мелодрама,комедия</td>\n",
       "      <td>2,700.00</td>\n",
       "    </tr>\n",
       "    <tr>\n",
       "      <th>7</th>\n",
       "      <td>Любовь и сигареты</td>\n",
       "      <td>221074614</td>\n",
       "      <td>2014-12-29 12:00:00+00:00</td>\n",
       "      <td>Художественный</td>\n",
       "      <td>Юнайтед Артистс, Грин Стрит Филмз, Айкон Интер...</td>\n",
       "      <td>США</td>\n",
       "      <td>Джон Туртурро</td>\n",
       "      <td>Джон Пенотти, Джон Туртурро</td>\n",
       "      <td>«18+» - запрещено для детей</td>\n",
       "      <td>0.00</td>\n",
       "      <td>0.00</td>\n",
       "      <td>NaN</td>\n",
       "      <td>Коммерческий</td>\n",
       "      <td>6.60</td>\n",
       "      <td>мюзикл,мелодрама,комедия</td>\n",
       "      <td>NaN</td>\n",
       "    </tr>\n",
       "    <tr>\n",
       "      <th>8</th>\n",
       "      <td>Отпетые мошенники.</td>\n",
       "      <td>121011416</td>\n",
       "      <td>2016-05-05 12:00:00+00:00</td>\n",
       "      <td>Художественный</td>\n",
       "      <td>Пульсар Продюксьон, ТФ1 Фильм</td>\n",
       "      <td>Франция</td>\n",
       "      <td>Эрик Беснард</td>\n",
       "      <td>Патрис Леду</td>\n",
       "      <td>«18+» - запрещено для детей</td>\n",
       "      <td>0.00</td>\n",
       "      <td>0.00</td>\n",
       "      <td>NaN</td>\n",
       "      <td>Коммерческий</td>\n",
       "      <td>8.00</td>\n",
       "      <td>комедия,криминал</td>\n",
       "      <td>NaN</td>\n",
       "    </tr>\n",
       "    <tr>\n",
       "      <th>9</th>\n",
       "      <td>Отпуск за свой счет</td>\n",
       "      <td>111019114</td>\n",
       "      <td>2014-12-01 12:00:00+00:00</td>\n",
       "      <td>Художественный</td>\n",
       "      <td>Киностудия \"Мосфильм\", Телевидение ВНР</td>\n",
       "      <td>СССР, Венгрия</td>\n",
       "      <td>В.Титов</td>\n",
       "      <td>Без продюсера</td>\n",
       "      <td>«12+» - для детей старше 12 лет</td>\n",
       "      <td>0.00</td>\n",
       "      <td>0.00</td>\n",
       "      <td>NaN</td>\n",
       "      <td>Коммерческий</td>\n",
       "      <td>7.80</td>\n",
       "      <td>мелодрама,комедия</td>\n",
       "      <td>NaN</td>\n",
       "    </tr>\n",
       "  </tbody>\n",
       "</table>\n",
       "</div>"
      ],
      "text/plain": [
       "                  title   puNumber           show_start_date            type  \\\n",
       "0      Открытый простор  221048915 2015-11-27 12:00:00+00:00  Художественный   \n",
       "1  Особо важное задание  111013716 2016-09-13 12:00:00+00:00  Художественный   \n",
       "2          Особо опасен  221038416 2016-10-10 12:00:00+00:00  Художественный   \n",
       "3          Особо опасен  221026916 2016-06-10 12:00:00+00:00  Художественный   \n",
       "4          Особо опасен  221030815 2015-07-29 12:00:00+00:00  Художественный   \n",
       "5     Остановился поезд  111013816 2016-09-13 12:00:00+00:00  Художественный   \n",
       "6       Любовь и голуби  111007013 2013-10-18 12:00:00+00:00  Художественный   \n",
       "7     Любовь и сигареты  221074614 2014-12-29 12:00:00+00:00  Художественный   \n",
       "8    Отпетые мошенники.  121011416 2016-05-05 12:00:00+00:00  Художественный   \n",
       "9   Отпуск за свой счет  111019114 2014-12-01 12:00:00+00:00  Художественный   \n",
       "\n",
       "                                         film_studio production_country  \\\n",
       "0  Тачстоун Пикчерз, Кобальт Пикчерз, Бикон Пикче...                США   \n",
       "1                              Киностудия \"Мосфильм\"               СССР   \n",
       "2  Юниверсал Пикчерз, Кикстарт Продакшнз, Марк Пл...                США   \n",
       "3  Юниверсал Пикчерз, Кикстарт Продакшнз, Марк Пл...                США   \n",
       "4  Юниверсал Пикчерз, Кикстарт Продакшнз, Марк Пл...                США   \n",
       "5                              Киностудия \"Мосфильм\"               СССР   \n",
       "6                              Киностудия \"Мосфильм\"               СССР   \n",
       "7  Юнайтед Артистс, Грин Стрит Филмз, Айкон Интер...                США   \n",
       "8                     Пульсар Продюксьон, ТФ1 Фильм             Франция   \n",
       "9             Киностудия \"Мосфильм\", Телевидение ВНР      СССР, Венгрия   \n",
       "\n",
       "            director                                           producer  \\\n",
       "0      Кевин Костнер          Дэвид Валдес, Кевин Костнер, Джейк Эбертс   \n",
       "1          Е.Матвеев                                      Без продюсера   \n",
       "2  Тимур Бекмамбетов  Джим Лемли, Джейсон Нетер, Марк Е.Платт, Яйн Смит   \n",
       "3  Тимур Бекмамбетов  Джим Лемли, Джейсон Нетер, Марк Е.Платт, Яйн Смит   \n",
       "4  Тимур Бекмамбетов  Джим Лемли, Джейсон Нетер, Марк Е.Платт, Яйн Смит   \n",
       "5       В.Абдрашитов                                      Без продюсера   \n",
       "6          В.Меньшов                                      Без продюсера   \n",
       "7      Джон Туртурро                        Джон Пенотти, Джон Туртурро   \n",
       "8       Эрик Беснард                                        Патрис Леду   \n",
       "9            В.Титов                                      Без продюсера   \n",
       "\n",
       "                   age_restriction  refundable_support  nonrefundable_support  \\\n",
       "0      «18+» - запрещено для детей                0.00                   0.00   \n",
       "1    «6+» - для детей старше 6 лет                0.00                   0.00   \n",
       "2      «18+» - запрещено для детей                0.00                   0.00   \n",
       "3      «18+» - запрещено для детей                0.00                   0.00   \n",
       "4      «18+» - запрещено для детей                0.00                   0.00   \n",
       "5    «6+» - для детей старше 6 лет                0.00                   0.00   \n",
       "6  «12+» - для детей старше 12 лет                0.00                   0.00   \n",
       "7      «18+» - запрещено для детей                0.00                   0.00   \n",
       "8      «18+» - запрещено для детей                0.00                   0.00   \n",
       "9  «12+» - для детей старше 12 лет                0.00                   0.00   \n",
       "\n",
       "   budget financing_source  ratings                     genres  box_office  \n",
       "0     NaN     Коммерческий     7.20     боевик,драма,мелодрама         NaN  \n",
       "1     NaN     Коммерческий     6.60              драма,военный         NaN  \n",
       "2     NaN     Коммерческий     6.80  фантастика,боевик,триллер         NaN  \n",
       "3     NaN     Коммерческий     6.80  фантастика,боевик,триллер         NaN  \n",
       "4     NaN     Коммерческий     6.80  фантастика,боевик,триллер         NaN  \n",
       "5     NaN     Коммерческий     7.70                      драма         NaN  \n",
       "6     NaN     Коммерческий     8.30          мелодрама,комедия    2,700.00  \n",
       "7     NaN     Коммерческий     6.60   мюзикл,мелодрама,комедия         NaN  \n",
       "8     NaN     Коммерческий     8.00           комедия,криминал         NaN  \n",
       "9     NaN     Коммерческий     7.80          мелодрама,комедия         NaN  "
      ]
     },
     "execution_count": 38,
     "metadata": {},
     "output_type": "execute_result"
    }
   ],
   "source": [
    "# смотрим пропущенные значения\n",
    "data.loc[data['budget'].isna()].head(10)"
   ]
  },
  {
   "cell_type": "code",
   "execution_count": 39,
   "metadata": {},
   "outputs": [],
   "source": [
    "# так как столбец включает в себя полный объём государственной поддержки, \n",
    "# то данные в этом столбце указаны только для тех фильмов, \n",
    "# которые получили государственную поддержку\n",
    "# заполним остальные значение как 0\n",
    "\n",
    "data['budget'].fillna(value=0, inplace=True)"
   ]
  },
  {
   "cell_type": "code",
   "execution_count": 40,
   "metadata": {
    "scrolled": true
   },
   "outputs": [
    {
     "data": {
      "text/html": [
       "<div>\n",
       "<style scoped>\n",
       "    .dataframe tbody tr th:only-of-type {\n",
       "        vertical-align: middle;\n",
       "    }\n",
       "\n",
       "    .dataframe tbody tr th {\n",
       "        vertical-align: top;\n",
       "    }\n",
       "\n",
       "    .dataframe thead th {\n",
       "        text-align: right;\n",
       "    }\n",
       "</style>\n",
       "<table border=\"1\" class=\"dataframe\">\n",
       "  <thead>\n",
       "    <tr style=\"text-align: right;\">\n",
       "      <th></th>\n",
       "      <th>title</th>\n",
       "      <th>puNumber</th>\n",
       "      <th>show_start_date</th>\n",
       "      <th>type</th>\n",
       "      <th>film_studio</th>\n",
       "      <th>production_country</th>\n",
       "      <th>director</th>\n",
       "      <th>producer</th>\n",
       "      <th>age_restriction</th>\n",
       "      <th>refundable_support</th>\n",
       "      <th>nonrefundable_support</th>\n",
       "      <th>budget</th>\n",
       "      <th>financing_source</th>\n",
       "      <th>ratings</th>\n",
       "      <th>genres</th>\n",
       "      <th>box_office</th>\n",
       "    </tr>\n",
       "  </thead>\n",
       "  <tbody>\n",
       "    <tr>\n",
       "      <th>0</th>\n",
       "      <td>Открытый простор</td>\n",
       "      <td>221048915</td>\n",
       "      <td>2015-11-27 12:00:00+00:00</td>\n",
       "      <td>Художественный</td>\n",
       "      <td>Тачстоун Пикчерз, Кобальт Пикчерз, Бикон Пикче...</td>\n",
       "      <td>США</td>\n",
       "      <td>Кевин Костнер</td>\n",
       "      <td>Дэвид Валдес, Кевин Костнер, Джейк Эбертс</td>\n",
       "      <td>«18+» - запрещено для детей</td>\n",
       "      <td>0.00</td>\n",
       "      <td>0.00</td>\n",
       "      <td>0.00</td>\n",
       "      <td>Коммерческий</td>\n",
       "      <td>7.20</td>\n",
       "      <td>боевик,драма,мелодрама</td>\n",
       "      <td>NaN</td>\n",
       "    </tr>\n",
       "    <tr>\n",
       "      <th>1</th>\n",
       "      <td>Особо важное задание</td>\n",
       "      <td>111013716</td>\n",
       "      <td>2016-09-13 12:00:00+00:00</td>\n",
       "      <td>Художественный</td>\n",
       "      <td>Киностудия \"Мосфильм\"</td>\n",
       "      <td>СССР</td>\n",
       "      <td>Е.Матвеев</td>\n",
       "      <td>Без продюсера</td>\n",
       "      <td>«6+» - для детей старше 6 лет</td>\n",
       "      <td>0.00</td>\n",
       "      <td>0.00</td>\n",
       "      <td>0.00</td>\n",
       "      <td>Коммерческий</td>\n",
       "      <td>6.60</td>\n",
       "      <td>драма,военный</td>\n",
       "      <td>NaN</td>\n",
       "    </tr>\n",
       "    <tr>\n",
       "      <th>2</th>\n",
       "      <td>Особо опасен</td>\n",
       "      <td>221038416</td>\n",
       "      <td>2016-10-10 12:00:00+00:00</td>\n",
       "      <td>Художественный</td>\n",
       "      <td>Юниверсал Пикчерз, Кикстарт Продакшнз, Марк Пл...</td>\n",
       "      <td>США</td>\n",
       "      <td>Тимур Бекмамбетов</td>\n",
       "      <td>Джим Лемли, Джейсон Нетер, Марк Е.Платт, Яйн Смит</td>\n",
       "      <td>«18+» - запрещено для детей</td>\n",
       "      <td>0.00</td>\n",
       "      <td>0.00</td>\n",
       "      <td>0.00</td>\n",
       "      <td>Коммерческий</td>\n",
       "      <td>6.80</td>\n",
       "      <td>фантастика,боевик,триллер</td>\n",
       "      <td>NaN</td>\n",
       "    </tr>\n",
       "    <tr>\n",
       "      <th>3</th>\n",
       "      <td>Особо опасен</td>\n",
       "      <td>221026916</td>\n",
       "      <td>2016-06-10 12:00:00+00:00</td>\n",
       "      <td>Художественный</td>\n",
       "      <td>Юниверсал Пикчерз, Кикстарт Продакшнз, Марк Пл...</td>\n",
       "      <td>США</td>\n",
       "      <td>Тимур Бекмамбетов</td>\n",
       "      <td>Джим Лемли, Джейсон Нетер, Марк Е.Платт, Яйн Смит</td>\n",
       "      <td>«18+» - запрещено для детей</td>\n",
       "      <td>0.00</td>\n",
       "      <td>0.00</td>\n",
       "      <td>0.00</td>\n",
       "      <td>Коммерческий</td>\n",
       "      <td>6.80</td>\n",
       "      <td>фантастика,боевик,триллер</td>\n",
       "      <td>NaN</td>\n",
       "    </tr>\n",
       "    <tr>\n",
       "      <th>4</th>\n",
       "      <td>Особо опасен</td>\n",
       "      <td>221030815</td>\n",
       "      <td>2015-07-29 12:00:00+00:00</td>\n",
       "      <td>Художественный</td>\n",
       "      <td>Юниверсал Пикчерз, Кикстарт Продакшнз, Марк Пл...</td>\n",
       "      <td>США</td>\n",
       "      <td>Тимур Бекмамбетов</td>\n",
       "      <td>Джим Лемли, Джейсон Нетер, Марк Е.Платт, Яйн Смит</td>\n",
       "      <td>«18+» - запрещено для детей</td>\n",
       "      <td>0.00</td>\n",
       "      <td>0.00</td>\n",
       "      <td>0.00</td>\n",
       "      <td>Коммерческий</td>\n",
       "      <td>6.80</td>\n",
       "      <td>фантастика,боевик,триллер</td>\n",
       "      <td>NaN</td>\n",
       "    </tr>\n",
       "    <tr>\n",
       "      <th>5</th>\n",
       "      <td>Остановился поезд</td>\n",
       "      <td>111013816</td>\n",
       "      <td>2016-09-13 12:00:00+00:00</td>\n",
       "      <td>Художественный</td>\n",
       "      <td>Киностудия \"Мосфильм\"</td>\n",
       "      <td>СССР</td>\n",
       "      <td>В.Абдрашитов</td>\n",
       "      <td>Без продюсера</td>\n",
       "      <td>«6+» - для детей старше 6 лет</td>\n",
       "      <td>0.00</td>\n",
       "      <td>0.00</td>\n",
       "      <td>0.00</td>\n",
       "      <td>Коммерческий</td>\n",
       "      <td>7.70</td>\n",
       "      <td>драма</td>\n",
       "      <td>NaN</td>\n",
       "    </tr>\n",
       "    <tr>\n",
       "      <th>7</th>\n",
       "      <td>Любовь и сигареты</td>\n",
       "      <td>221074614</td>\n",
       "      <td>2014-12-29 12:00:00+00:00</td>\n",
       "      <td>Художественный</td>\n",
       "      <td>Юнайтед Артистс, Грин Стрит Филмз, Айкон Интер...</td>\n",
       "      <td>США</td>\n",
       "      <td>Джон Туртурро</td>\n",
       "      <td>Джон Пенотти, Джон Туртурро</td>\n",
       "      <td>«18+» - запрещено для детей</td>\n",
       "      <td>0.00</td>\n",
       "      <td>0.00</td>\n",
       "      <td>0.00</td>\n",
       "      <td>Коммерческий</td>\n",
       "      <td>6.60</td>\n",
       "      <td>мюзикл,мелодрама,комедия</td>\n",
       "      <td>NaN</td>\n",
       "    </tr>\n",
       "    <tr>\n",
       "      <th>8</th>\n",
       "      <td>Отпетые мошенники.</td>\n",
       "      <td>121011416</td>\n",
       "      <td>2016-05-05 12:00:00+00:00</td>\n",
       "      <td>Художественный</td>\n",
       "      <td>Пульсар Продюксьон, ТФ1 Фильм</td>\n",
       "      <td>Франция</td>\n",
       "      <td>Эрик Беснард</td>\n",
       "      <td>Патрис Леду</td>\n",
       "      <td>«18+» - запрещено для детей</td>\n",
       "      <td>0.00</td>\n",
       "      <td>0.00</td>\n",
       "      <td>0.00</td>\n",
       "      <td>Коммерческий</td>\n",
       "      <td>8.00</td>\n",
       "      <td>комедия,криминал</td>\n",
       "      <td>NaN</td>\n",
       "    </tr>\n",
       "    <tr>\n",
       "      <th>9</th>\n",
       "      <td>Отпуск за свой счет</td>\n",
       "      <td>111019114</td>\n",
       "      <td>2014-12-01 12:00:00+00:00</td>\n",
       "      <td>Художественный</td>\n",
       "      <td>Киностудия \"Мосфильм\", Телевидение ВНР</td>\n",
       "      <td>СССР, Венгрия</td>\n",
       "      <td>В.Титов</td>\n",
       "      <td>Без продюсера</td>\n",
       "      <td>«12+» - для детей старше 12 лет</td>\n",
       "      <td>0.00</td>\n",
       "      <td>0.00</td>\n",
       "      <td>0.00</td>\n",
       "      <td>Коммерческий</td>\n",
       "      <td>7.80</td>\n",
       "      <td>мелодрама,комедия</td>\n",
       "      <td>NaN</td>\n",
       "    </tr>\n",
       "    <tr>\n",
       "      <th>10</th>\n",
       "      <td>Превосходство Борна /По одноименной новелле Ро...</td>\n",
       "      <td>221031416</td>\n",
       "      <td>2016-06-29 12:00:00+00:00</td>\n",
       "      <td>Художественный</td>\n",
       "      <td>Кеннеди/Маршал Компани, Юниверсал Пикчерз, Гип...</td>\n",
       "      <td>США</td>\n",
       "      <td>Пол Грингросс</td>\n",
       "      <td>Патрик Кроули, Фрэнк Маршалл, Пол Сэндберг</td>\n",
       "      <td>«16+» - для детей старше 16 лет</td>\n",
       "      <td>0.00</td>\n",
       "      <td>0.00</td>\n",
       "      <td>0.00</td>\n",
       "      <td>Коммерческий</td>\n",
       "      <td>7.70</td>\n",
       "      <td>боевик,триллер,детектив</td>\n",
       "      <td>NaN</td>\n",
       "    </tr>\n",
       "  </tbody>\n",
       "</table>\n",
       "</div>"
      ],
      "text/plain": [
       "                                                title   puNumber  \\\n",
       "0                                    Открытый простор  221048915   \n",
       "1                                Особо важное задание  111013716   \n",
       "2                                        Особо опасен  221038416   \n",
       "3                                        Особо опасен  221026916   \n",
       "4                                        Особо опасен  221030815   \n",
       "5                                   Остановился поезд  111013816   \n",
       "7                                   Любовь и сигареты  221074614   \n",
       "8                                  Отпетые мошенники.  121011416   \n",
       "9                                 Отпуск за свой счет  111019114   \n",
       "10  Превосходство Борна /По одноименной новелле Ро...  221031416   \n",
       "\n",
       "             show_start_date            type  \\\n",
       "0  2015-11-27 12:00:00+00:00  Художественный   \n",
       "1  2016-09-13 12:00:00+00:00  Художественный   \n",
       "2  2016-10-10 12:00:00+00:00  Художественный   \n",
       "3  2016-06-10 12:00:00+00:00  Художественный   \n",
       "4  2015-07-29 12:00:00+00:00  Художественный   \n",
       "5  2016-09-13 12:00:00+00:00  Художественный   \n",
       "7  2014-12-29 12:00:00+00:00  Художественный   \n",
       "8  2016-05-05 12:00:00+00:00  Художественный   \n",
       "9  2014-12-01 12:00:00+00:00  Художественный   \n",
       "10 2016-06-29 12:00:00+00:00  Художественный   \n",
       "\n",
       "                                          film_studio production_country  \\\n",
       "0   Тачстоун Пикчерз, Кобальт Пикчерз, Бикон Пикче...                США   \n",
       "1                               Киностудия \"Мосфильм\"               СССР   \n",
       "2   Юниверсал Пикчерз, Кикстарт Продакшнз, Марк Пл...                США   \n",
       "3   Юниверсал Пикчерз, Кикстарт Продакшнз, Марк Пл...                США   \n",
       "4   Юниверсал Пикчерз, Кикстарт Продакшнз, Марк Пл...                США   \n",
       "5                               Киностудия \"Мосфильм\"               СССР   \n",
       "7   Юнайтед Артистс, Грин Стрит Филмз, Айкон Интер...                США   \n",
       "8                      Пульсар Продюксьон, ТФ1 Фильм             Франция   \n",
       "9              Киностудия \"Мосфильм\", Телевидение ВНР      СССР, Венгрия   \n",
       "10  Кеннеди/Маршал Компани, Юниверсал Пикчерз, Гип...                США   \n",
       "\n",
       "             director                                           producer  \\\n",
       "0       Кевин Костнер          Дэвид Валдес, Кевин Костнер, Джейк Эбертс   \n",
       "1           Е.Матвеев                                      Без продюсера   \n",
       "2   Тимур Бекмамбетов  Джим Лемли, Джейсон Нетер, Марк Е.Платт, Яйн Смит   \n",
       "3   Тимур Бекмамбетов  Джим Лемли, Джейсон Нетер, Марк Е.Платт, Яйн Смит   \n",
       "4   Тимур Бекмамбетов  Джим Лемли, Джейсон Нетер, Марк Е.Платт, Яйн Смит   \n",
       "5        В.Абдрашитов                                      Без продюсера   \n",
       "7       Джон Туртурро                        Джон Пенотти, Джон Туртурро   \n",
       "8        Эрик Беснард                                        Патрис Леду   \n",
       "9             В.Титов                                      Без продюсера   \n",
       "10      Пол Грингросс         Патрик Кроули, Фрэнк Маршалл, Пол Сэндберг   \n",
       "\n",
       "                    age_restriction  refundable_support  \\\n",
       "0       «18+» - запрещено для детей                0.00   \n",
       "1     «6+» - для детей старше 6 лет                0.00   \n",
       "2       «18+» - запрещено для детей                0.00   \n",
       "3       «18+» - запрещено для детей                0.00   \n",
       "4       «18+» - запрещено для детей                0.00   \n",
       "5     «6+» - для детей старше 6 лет                0.00   \n",
       "7       «18+» - запрещено для детей                0.00   \n",
       "8       «18+» - запрещено для детей                0.00   \n",
       "9   «12+» - для детей старше 12 лет                0.00   \n",
       "10  «16+» - для детей старше 16 лет                0.00   \n",
       "\n",
       "    nonrefundable_support  budget financing_source  ratings  \\\n",
       "0                    0.00    0.00     Коммерческий     7.20   \n",
       "1                    0.00    0.00     Коммерческий     6.60   \n",
       "2                    0.00    0.00     Коммерческий     6.80   \n",
       "3                    0.00    0.00     Коммерческий     6.80   \n",
       "4                    0.00    0.00     Коммерческий     6.80   \n",
       "5                    0.00    0.00     Коммерческий     7.70   \n",
       "7                    0.00    0.00     Коммерческий     6.60   \n",
       "8                    0.00    0.00     Коммерческий     8.00   \n",
       "9                    0.00    0.00     Коммерческий     7.80   \n",
       "10                   0.00    0.00     Коммерческий     7.70   \n",
       "\n",
       "                       genres  box_office  \n",
       "0      боевик,драма,мелодрама         NaN  \n",
       "1               драма,военный         NaN  \n",
       "2   фантастика,боевик,триллер         NaN  \n",
       "3   фантастика,боевик,триллер         NaN  \n",
       "4   фантастика,боевик,триллер         NaN  \n",
       "5                       драма         NaN  \n",
       "7    мюзикл,мелодрама,комедия         NaN  \n",
       "8            комедия,криминал         NaN  \n",
       "9           мелодрама,комедия         NaN  \n",
       "10    боевик,триллер,детектив         NaN  "
      ]
     },
     "execution_count": 40,
     "metadata": {},
     "output_type": "execute_result"
    }
   ],
   "source": [
    "# смотрим пропущенные значения\n",
    "data.loc[data['box_office'].isna()].head(10)"
   ]
  },
  {
   "cell_type": "code",
   "execution_count": 41,
   "metadata": {},
   "outputs": [],
   "source": [
    "# данные о сборах указаны не для всех фильмов, взять эти значения неоткуда\n",
    "# заполним пустые значения 0\n",
    "\n",
    "data['box_office'].fillna(value=0, inplace=True)"
   ]
  },
  {
   "cell_type": "markdown",
   "metadata": {},
   "source": [
    "<div class=\"alert-success\" style=\"padding: 20px; border-radius: 10px\">\n",
    "<b>Комментарий ревьюера ✔️</b>\n",
    "\n",
    "Замена пропусков проведена верно!"
   ]
  },
  {
   "cell_type": "markdown",
   "metadata": {
    "id": "4c6k1t9ygFyQ"
   },
   "source": [
    "#### Шаг 2.3. Изучите дубликаты в датафрейме\n",
    "- Проверьте, есть ли в данных дубликаты. Опишите причины, которые могли повлиять на появление дублей."
   ]
  },
  {
   "cell_type": "code",
   "execution_count": 42,
   "metadata": {
    "id": "aKck8RIdgFyQ"
   },
   "outputs": [
    {
     "data": {
      "text/plain": [
       "0"
      ]
     },
     "execution_count": 42,
     "metadata": {},
     "output_type": "execute_result"
    }
   ],
   "source": [
    "# проверяем индентичность строк\n",
    "data.duplicated().sum()"
   ]
  },
  {
   "cell_type": "markdown",
   "metadata": {},
   "source": [
    "Попробуем найти фильмы, которые совпадают по **полям названия, даты премьеры, типа, студии-производителя, страны-производителя и директора**. Сделаем это из соображений, что фильмы могли задублироваться."
   ]
  },
  {
   "cell_type": "code",
   "execution_count": 43,
   "metadata": {
    "scrolled": true
   },
   "outputs": [
    {
     "data": {
      "text/html": [
       "<div>\n",
       "<style scoped>\n",
       "    .dataframe tbody tr th:only-of-type {\n",
       "        vertical-align: middle;\n",
       "    }\n",
       "\n",
       "    .dataframe tbody tr th {\n",
       "        vertical-align: top;\n",
       "    }\n",
       "\n",
       "    .dataframe thead th {\n",
       "        text-align: right;\n",
       "    }\n",
       "</style>\n",
       "<table border=\"1\" class=\"dataframe\">\n",
       "  <thead>\n",
       "    <tr style=\"text-align: right;\">\n",
       "      <th></th>\n",
       "      <th>title</th>\n",
       "      <th>puNumber</th>\n",
       "      <th>show_start_date</th>\n",
       "      <th>type</th>\n",
       "      <th>film_studio</th>\n",
       "      <th>production_country</th>\n",
       "      <th>director</th>\n",
       "      <th>producer</th>\n",
       "      <th>age_restriction</th>\n",
       "      <th>refundable_support</th>\n",
       "      <th>nonrefundable_support</th>\n",
       "      <th>budget</th>\n",
       "      <th>financing_source</th>\n",
       "      <th>ratings</th>\n",
       "      <th>genres</th>\n",
       "      <th>box_office</th>\n",
       "    </tr>\n",
       "  </thead>\n",
       "  <tbody>\n",
       "    <tr>\n",
       "      <th>1300</th>\n",
       "      <td>Эпидемия_</td>\n",
       "      <td>121025713</td>\n",
       "      <td>2013-10-07 12:00:00+00:00</td>\n",
       "      <td>Художественный</td>\n",
       "      <td>Морена Фильм, Ребелион Террестр, А 3 Медиа Гру...</td>\n",
       "      <td>Испания - Франция</td>\n",
       "      <td>Алекс Пастор, Давид Пастор</td>\n",
       "      <td>Мерседес Гамеро, Альберто Марини, Педро Уриоль</td>\n",
       "      <td>«16+» - для детей старше 16 лет</td>\n",
       "      <td>0.00</td>\n",
       "      <td>0.00</td>\n",
       "      <td>0.00</td>\n",
       "      <td>Коммерческий</td>\n",
       "      <td>7.20</td>\n",
       "      <td>драма,фантастика,триллер</td>\n",
       "      <td>0.00</td>\n",
       "    </tr>\n",
       "    <tr>\n",
       "      <th>1301</th>\n",
       "      <td>Эпидемия_</td>\n",
       "      <td>221035513</td>\n",
       "      <td>2013-10-07 12:00:00+00:00</td>\n",
       "      <td>Художественный</td>\n",
       "      <td>Морена Фильм, Ребелион Террестр, А 3 Медиа Гру...</td>\n",
       "      <td>Испания - Франция</td>\n",
       "      <td>Алекс Пастор, Давид Пастор</td>\n",
       "      <td>Мерседес Гамеро, Альберто Марини, Педро Уриоль</td>\n",
       "      <td>«16+» - для детей старше 16 лет</td>\n",
       "      <td>0.00</td>\n",
       "      <td>0.00</td>\n",
       "      <td>0.00</td>\n",
       "      <td>Коммерческий</td>\n",
       "      <td>7.20</td>\n",
       "      <td>драма,фантастика,триллер</td>\n",
       "      <td>0.00</td>\n",
       "    </tr>\n",
       "    <tr>\n",
       "      <th>1475</th>\n",
       "      <td>Оторвы</td>\n",
       "      <td>121006514</td>\n",
       "      <td>2014-04-07 12:00:00+00:00</td>\n",
       "      <td>Художественный</td>\n",
       "      <td>Проминент Пикчерз, Ворлдвью Интертейнмент, Инд...</td>\n",
       "      <td>США</td>\n",
       "      <td>Кристофер Нельсон</td>\n",
       "      <td>Молли Коннерс, Хезер Рэй</td>\n",
       "      <td>«16+» - для детей старше 16 лет</td>\n",
       "      <td>0.00</td>\n",
       "      <td>0.00</td>\n",
       "      <td>0.00</td>\n",
       "      <td>Коммерческий</td>\n",
       "      <td>3.50</td>\n",
       "      <td>комедия,приключения</td>\n",
       "      <td>0.00</td>\n",
       "    </tr>\n",
       "    <tr>\n",
       "      <th>1476</th>\n",
       "      <td>Оторвы</td>\n",
       "      <td>221013214</td>\n",
       "      <td>2014-04-07 12:00:00+00:00</td>\n",
       "      <td>Художественный</td>\n",
       "      <td>Проминент Пикчерз, Ворлдвью Интертейнмент, Инд...</td>\n",
       "      <td>США</td>\n",
       "      <td>Кристофер Нельсон</td>\n",
       "      <td>Молли Коннерс, Хезер Рэй</td>\n",
       "      <td>«16+» - для детей старше 16 лет</td>\n",
       "      <td>0.00</td>\n",
       "      <td>0.00</td>\n",
       "      <td>0.00</td>\n",
       "      <td>Коммерческий</td>\n",
       "      <td>3.50</td>\n",
       "      <td>комедия,приключения</td>\n",
       "      <td>0.00</td>\n",
       "    </tr>\n",
       "    <tr>\n",
       "      <th>2190</th>\n",
       "      <td>Последние пять лет.</td>\n",
       "      <td>221008115</td>\n",
       "      <td>2015-03-25 12:00:00+00:00</td>\n",
       "      <td>Художественный</td>\n",
       "      <td>Гранд Пикс Интертейнмент, Лаки Манки Пикчерз, ...</td>\n",
       "      <td>США</td>\n",
       "      <td>Ричард ЛаГравенес</td>\n",
       "      <td>Джанет Бреннер, Лорен Версель, Курт Дойтч, Рич...</td>\n",
       "      <td>«16+» - для детей старше 16 лет</td>\n",
       "      <td>0.00</td>\n",
       "      <td>0.00</td>\n",
       "      <td>0.00</td>\n",
       "      <td>Коммерческий</td>\n",
       "      <td>5.70</td>\n",
       "      <td>мюзикл,драма,мелодрама</td>\n",
       "      <td>0.00</td>\n",
       "    </tr>\n",
       "    <tr>\n",
       "      <th>2191</th>\n",
       "      <td>Последние пять лет.</td>\n",
       "      <td>121005715</td>\n",
       "      <td>2015-03-25 12:00:00+00:00</td>\n",
       "      <td>Художественный</td>\n",
       "      <td>Гранд Пикс Интертейнмент, Лаки Манки Пикчерз, ...</td>\n",
       "      <td>США</td>\n",
       "      <td>Ричард ЛаГравенес</td>\n",
       "      <td>Джанет Бреннер, Лорен Версель, Курт Дойтч, Рич...</td>\n",
       "      <td>«16+» - для детей старше 16 лет</td>\n",
       "      <td>0.00</td>\n",
       "      <td>0.00</td>\n",
       "      <td>0.00</td>\n",
       "      <td>Коммерческий</td>\n",
       "      <td>5.70</td>\n",
       "      <td>мюзикл,драма,мелодрама</td>\n",
       "      <td>52,495.00</td>\n",
       "    </tr>\n",
       "    <tr>\n",
       "      <th>2751</th>\n",
       "      <td>Пингвиненок Пороро: Большие гонки</td>\n",
       "      <td>224001915</td>\n",
       "      <td>2015-04-15 12:00:00+00:00</td>\n",
       "      <td>Анимационный</td>\n",
       "      <td>Окон Студиос, Чина Филм, Симка Интертейнмент, ...</td>\n",
       "      <td>Южная Корея - КНР</td>\n",
       "      <td>Юнг Куюн Парк</td>\n",
       "      <td>Иль Хо Ким, Михал Симка</td>\n",
       "      <td>«0+» - для любой зрительской аудитории</td>\n",
       "      <td>0.00</td>\n",
       "      <td>0.00</td>\n",
       "      <td>0.00</td>\n",
       "      <td>Коммерческий</td>\n",
       "      <td>5.20</td>\n",
       "      <td>мультфильм,семейный,спорт</td>\n",
       "      <td>1,360.00</td>\n",
       "    </tr>\n",
       "    <tr>\n",
       "      <th>2752</th>\n",
       "      <td>Пингвиненок Пороро: Большие гонки</td>\n",
       "      <td>124001915</td>\n",
       "      <td>2015-04-15 12:00:00+00:00</td>\n",
       "      <td>Анимационный</td>\n",
       "      <td>Окон Студиос, Чина Филм, Симка Интертейнмент, ...</td>\n",
       "      <td>Южная Корея - КНР</td>\n",
       "      <td>Юнг Куюн Парк</td>\n",
       "      <td>Иль Хо Ким, Михал Симка</td>\n",
       "      <td>«0+» - для любой зрительской аудитории</td>\n",
       "      <td>0.00</td>\n",
       "      <td>0.00</td>\n",
       "      <td>0.00</td>\n",
       "      <td>Коммерческий</td>\n",
       "      <td>5.20</td>\n",
       "      <td>мультфильм,семейный,спорт</td>\n",
       "      <td>14,152,495.90</td>\n",
       "    </tr>\n",
       "    <tr>\n",
       "      <th>3085</th>\n",
       "      <td>Анархисты</td>\n",
       "      <td>221003916</td>\n",
       "      <td>2016-02-03 12:00:00+00:00</td>\n",
       "      <td>Художественный</td>\n",
       "      <td>24 Май Продюксьон, Франс 2 Синема</td>\n",
       "      <td>Франция</td>\n",
       "      <td>Эли Важеман</td>\n",
       "      <td>Лола Гэнс</td>\n",
       "      <td>«16+» - для детей старше 16 лет</td>\n",
       "      <td>0.00</td>\n",
       "      <td>0.00</td>\n",
       "      <td>0.00</td>\n",
       "      <td>Коммерческий</td>\n",
       "      <td>5.70</td>\n",
       "      <td>драма</td>\n",
       "      <td>0.00</td>\n",
       "    </tr>\n",
       "    <tr>\n",
       "      <th>3086</th>\n",
       "      <td>Анархисты</td>\n",
       "      <td>121002316</td>\n",
       "      <td>2016-02-03 12:00:00+00:00</td>\n",
       "      <td>Художественный</td>\n",
       "      <td>24 Май Продюксьон, Франс 2 Синема</td>\n",
       "      <td>Франция</td>\n",
       "      <td>Эли Важеман</td>\n",
       "      <td>Лола Гэнс</td>\n",
       "      <td>«16+» - для детей старше 16 лет</td>\n",
       "      <td>0.00</td>\n",
       "      <td>0.00</td>\n",
       "      <td>0.00</td>\n",
       "      <td>Коммерческий</td>\n",
       "      <td>5.70</td>\n",
       "      <td>драма</td>\n",
       "      <td>332,371.00</td>\n",
       "    </tr>\n",
       "    <tr>\n",
       "      <th>4041</th>\n",
       "      <td>Бугай</td>\n",
       "      <td>224021210</td>\n",
       "      <td>2010-09-24 12:00:00+00:00</td>\n",
       "      <td>Анимационный</td>\n",
       "      <td>Иллюзион Студиос, Процесо</td>\n",
       "      <td>Мексика-Аргентина</td>\n",
       "      <td>Густаво Кова</td>\n",
       "      <td>Хуго Е. Лаура, Хосе Луис Масса</td>\n",
       "      <td>«16+» - для детей старше 16 лет</td>\n",
       "      <td>0.00</td>\n",
       "      <td>0.00</td>\n",
       "      <td>0.00</td>\n",
       "      <td>Коммерческий</td>\n",
       "      <td>6.60</td>\n",
       "      <td>мультфильм,боевик,триллер</td>\n",
       "      <td>0.00</td>\n",
       "    </tr>\n",
       "    <tr>\n",
       "      <th>4042</th>\n",
       "      <td>Бугай</td>\n",
       "      <td>124001210</td>\n",
       "      <td>2010-09-24 12:00:00+00:00</td>\n",
       "      <td>Анимационный</td>\n",
       "      <td>Иллюзион Студиос, Процесо</td>\n",
       "      <td>Мексика-Аргентина</td>\n",
       "      <td>Густаво Кова</td>\n",
       "      <td>Хуго Е. Лаура, Хосе Луис Масса</td>\n",
       "      <td>«16+» - для детей старше 16 лет</td>\n",
       "      <td>0.00</td>\n",
       "      <td>0.00</td>\n",
       "      <td>0.00</td>\n",
       "      <td>Коммерческий</td>\n",
       "      <td>6.60</td>\n",
       "      <td>мультфильм,боевик,триллер</td>\n",
       "      <td>0.00</td>\n",
       "    </tr>\n",
       "    <tr>\n",
       "      <th>6378</th>\n",
       "      <td>Ян Антонышев</td>\n",
       "      <td>112011818</td>\n",
       "      <td>2018-11-15 12:00:00+00:00</td>\n",
       "      <td>Документальный</td>\n",
       "      <td>Без студии</td>\n",
       "      <td>Россия</td>\n",
       "      <td>Е.Окопная</td>\n",
       "      <td>Е.Герасимов</td>\n",
       "      <td>«12+» - для детей старше 12 лет</td>\n",
       "      <td>0.00</td>\n",
       "      <td>0.00</td>\n",
       "      <td>0.00</td>\n",
       "      <td>Коммерческий</td>\n",
       "      <td>NaN</td>\n",
       "      <td>Без жанра</td>\n",
       "      <td>0.00</td>\n",
       "    </tr>\n",
       "    <tr>\n",
       "      <th>6379</th>\n",
       "      <td>Ян Антонышев</td>\n",
       "      <td>112011918</td>\n",
       "      <td>2018-11-15 12:00:00+00:00</td>\n",
       "      <td>Документальный</td>\n",
       "      <td>Без студии</td>\n",
       "      <td>Россия</td>\n",
       "      <td>Е.Окопная</td>\n",
       "      <td>Е.Герасимов</td>\n",
       "      <td>«12+» - для детей старше 12 лет</td>\n",
       "      <td>0.00</td>\n",
       "      <td>0.00</td>\n",
       "      <td>0.00</td>\n",
       "      <td>Коммерческий</td>\n",
       "      <td>NaN</td>\n",
       "      <td>Без жанра</td>\n",
       "      <td>0.00</td>\n",
       "    </tr>\n",
       "    <tr>\n",
       "      <th>6427</th>\n",
       "      <td>Зоя</td>\n",
       "      <td>111022618</td>\n",
       "      <td>2018-11-25 12:00:00+00:00</td>\n",
       "      <td>Художественный</td>\n",
       "      <td>Тарханова Юлия Олеговна</td>\n",
       "      <td>Россия</td>\n",
       "      <td>О.Товма</td>\n",
       "      <td>Ю.Тарханова</td>\n",
       "      <td>«16+» - для детей старше 16 лет</td>\n",
       "      <td>0.00</td>\n",
       "      <td>0.00</td>\n",
       "      <td>0.00</td>\n",
       "      <td>Коммерческий</td>\n",
       "      <td>3.90</td>\n",
       "      <td>история,биография,военный</td>\n",
       "      <td>0.00</td>\n",
       "    </tr>\n",
       "    <tr>\n",
       "      <th>6428</th>\n",
       "      <td>Зоя</td>\n",
       "      <td>111022718</td>\n",
       "      <td>2018-11-25 12:00:00+00:00</td>\n",
       "      <td>Художественный</td>\n",
       "      <td>Тарханова Юлия Олеговна</td>\n",
       "      <td>Россия</td>\n",
       "      <td>О.Товма</td>\n",
       "      <td>Ю.Тарханова</td>\n",
       "      <td>«16+» - для детей старше 16 лет</td>\n",
       "      <td>0.00</td>\n",
       "      <td>0.00</td>\n",
       "      <td>0.00</td>\n",
       "      <td>Коммерческий</td>\n",
       "      <td>3.90</td>\n",
       "      <td>история,биография,военный</td>\n",
       "      <td>0.00</td>\n",
       "    </tr>\n",
       "  </tbody>\n",
       "</table>\n",
       "</div>"
      ],
      "text/plain": [
       "                                  title   puNumber           show_start_date  \\\n",
       "1300                          Эпидемия_  121025713 2013-10-07 12:00:00+00:00   \n",
       "1301                          Эпидемия_  221035513 2013-10-07 12:00:00+00:00   \n",
       "1475                             Оторвы  121006514 2014-04-07 12:00:00+00:00   \n",
       "1476                             Оторвы  221013214 2014-04-07 12:00:00+00:00   \n",
       "2190                Последние пять лет.  221008115 2015-03-25 12:00:00+00:00   \n",
       "2191                Последние пять лет.  121005715 2015-03-25 12:00:00+00:00   \n",
       "2751  Пингвиненок Пороро: Большие гонки  224001915 2015-04-15 12:00:00+00:00   \n",
       "2752  Пингвиненок Пороро: Большие гонки  124001915 2015-04-15 12:00:00+00:00   \n",
       "3085                          Анархисты  221003916 2016-02-03 12:00:00+00:00   \n",
       "3086                          Анархисты  121002316 2016-02-03 12:00:00+00:00   \n",
       "4041                              Бугай  224021210 2010-09-24 12:00:00+00:00   \n",
       "4042                              Бугай  124001210 2010-09-24 12:00:00+00:00   \n",
       "6378                       Ян Антонышев  112011818 2018-11-15 12:00:00+00:00   \n",
       "6379                       Ян Антонышев  112011918 2018-11-15 12:00:00+00:00   \n",
       "6427                                Зоя  111022618 2018-11-25 12:00:00+00:00   \n",
       "6428                                Зоя  111022718 2018-11-25 12:00:00+00:00   \n",
       "\n",
       "                 type                                        film_studio  \\\n",
       "1300   Художественный  Морена Фильм, Ребелион Террестр, А 3 Медиа Гру...   \n",
       "1301   Художественный  Морена Фильм, Ребелион Террестр, А 3 Медиа Гру...   \n",
       "1475   Художественный  Проминент Пикчерз, Ворлдвью Интертейнмент, Инд...   \n",
       "1476   Художественный  Проминент Пикчерз, Ворлдвью Интертейнмент, Инд...   \n",
       "2190   Художественный  Гранд Пикс Интертейнмент, Лаки Манки Пикчерз, ...   \n",
       "2191   Художественный  Гранд Пикс Интертейнмент, Лаки Манки Пикчерз, ...   \n",
       "2751     Анимационный  Окон Студиос, Чина Филм, Симка Интертейнмент, ...   \n",
       "2752     Анимационный  Окон Студиос, Чина Филм, Симка Интертейнмент, ...   \n",
       "3085   Художественный                  24 Май Продюксьон, Франс 2 Синема   \n",
       "3086   Художественный                  24 Май Продюксьон, Франс 2 Синема   \n",
       "4041     Анимационный                          Иллюзион Студиос, Процесо   \n",
       "4042     Анимационный                          Иллюзион Студиос, Процесо   \n",
       "6378   Документальный                                         Без студии   \n",
       "6379   Документальный                                         Без студии   \n",
       "6427   Художественный                            Тарханова Юлия Олеговна   \n",
       "6428   Художественный                            Тарханова Юлия Олеговна   \n",
       "\n",
       "     production_country                    director  \\\n",
       "1300  Испания - Франция  Алекс Пастор, Давид Пастор   \n",
       "1301  Испания - Франция  Алекс Пастор, Давид Пастор   \n",
       "1475                США           Кристофер Нельсон   \n",
       "1476                США           Кристофер Нельсон   \n",
       "2190                США           Ричард ЛаГравенес   \n",
       "2191                США           Ричард ЛаГравенес   \n",
       "2751  Южная Корея - КНР               Юнг Куюн Парк   \n",
       "2752  Южная Корея - КНР               Юнг Куюн Парк   \n",
       "3085            Франция                 Эли Важеман   \n",
       "3086            Франция                 Эли Важеман   \n",
       "4041  Мексика-Аргентина                Густаво Кова   \n",
       "4042  Мексика-Аргентина                Густаво Кова   \n",
       "6378             Россия                   Е.Окопная   \n",
       "6379             Россия                   Е.Окопная   \n",
       "6427             Россия                     О.Товма   \n",
       "6428             Россия                     О.Товма   \n",
       "\n",
       "                                               producer  \\\n",
       "1300     Мерседес Гамеро, Альберто Марини, Педро Уриоль   \n",
       "1301     Мерседес Гамеро, Альберто Марини, Педро Уриоль   \n",
       "1475                           Молли Коннерс, Хезер Рэй   \n",
       "1476                           Молли Коннерс, Хезер Рэй   \n",
       "2190  Джанет Бреннер, Лорен Версель, Курт Дойтч, Рич...   \n",
       "2191  Джанет Бреннер, Лорен Версель, Курт Дойтч, Рич...   \n",
       "2751                            Иль Хо Ким, Михал Симка   \n",
       "2752                            Иль Хо Ким, Михал Симка   \n",
       "3085                                          Лола Гэнс   \n",
       "3086                                          Лола Гэнс   \n",
       "4041                     Хуго Е. Лаура, Хосе Луис Масса   \n",
       "4042                     Хуго Е. Лаура, Хосе Луис Масса   \n",
       "6378                                        Е.Герасимов   \n",
       "6379                                        Е.Герасимов   \n",
       "6427                                        Ю.Тарханова   \n",
       "6428                                        Ю.Тарханова   \n",
       "\n",
       "                             age_restriction  refundable_support  \\\n",
       "1300         «16+» - для детей старше 16 лет                0.00   \n",
       "1301         «16+» - для детей старше 16 лет                0.00   \n",
       "1475         «16+» - для детей старше 16 лет                0.00   \n",
       "1476         «16+» - для детей старше 16 лет                0.00   \n",
       "2190         «16+» - для детей старше 16 лет                0.00   \n",
       "2191         «16+» - для детей старше 16 лет                0.00   \n",
       "2751  «0+» - для любой зрительской аудитории                0.00   \n",
       "2752  «0+» - для любой зрительской аудитории                0.00   \n",
       "3085         «16+» - для детей старше 16 лет                0.00   \n",
       "3086         «16+» - для детей старше 16 лет                0.00   \n",
       "4041         «16+» - для детей старше 16 лет                0.00   \n",
       "4042         «16+» - для детей старше 16 лет                0.00   \n",
       "6378         «12+» - для детей старше 12 лет                0.00   \n",
       "6379         «12+» - для детей старше 12 лет                0.00   \n",
       "6427         «16+» - для детей старше 16 лет                0.00   \n",
       "6428         «16+» - для детей старше 16 лет                0.00   \n",
       "\n",
       "      nonrefundable_support  budget financing_source  ratings  \\\n",
       "1300                   0.00    0.00     Коммерческий     7.20   \n",
       "1301                   0.00    0.00     Коммерческий     7.20   \n",
       "1475                   0.00    0.00     Коммерческий     3.50   \n",
       "1476                   0.00    0.00     Коммерческий     3.50   \n",
       "2190                   0.00    0.00     Коммерческий     5.70   \n",
       "2191                   0.00    0.00     Коммерческий     5.70   \n",
       "2751                   0.00    0.00     Коммерческий     5.20   \n",
       "2752                   0.00    0.00     Коммерческий     5.20   \n",
       "3085                   0.00    0.00     Коммерческий     5.70   \n",
       "3086                   0.00    0.00     Коммерческий     5.70   \n",
       "4041                   0.00    0.00     Коммерческий     6.60   \n",
       "4042                   0.00    0.00     Коммерческий     6.60   \n",
       "6378                   0.00    0.00     Коммерческий      NaN   \n",
       "6379                   0.00    0.00     Коммерческий      NaN   \n",
       "6427                   0.00    0.00     Коммерческий     3.90   \n",
       "6428                   0.00    0.00     Коммерческий     3.90   \n",
       "\n",
       "                         genres    box_office  \n",
       "1300   драма,фантастика,триллер          0.00  \n",
       "1301   драма,фантастика,триллер          0.00  \n",
       "1475        комедия,приключения          0.00  \n",
       "1476        комедия,приключения          0.00  \n",
       "2190     мюзикл,драма,мелодрама          0.00  \n",
       "2191     мюзикл,драма,мелодрама     52,495.00  \n",
       "2751  мультфильм,семейный,спорт      1,360.00  \n",
       "2752  мультфильм,семейный,спорт 14,152,495.90  \n",
       "3085                      драма          0.00  \n",
       "3086                      драма    332,371.00  \n",
       "4041  мультфильм,боевик,триллер          0.00  \n",
       "4042  мультфильм,боевик,триллер          0.00  \n",
       "6378                  Без жанра          0.00  \n",
       "6379                  Без жанра          0.00  \n",
       "6427  история,биография,военный          0.00  \n",
       "6428  история,биография,военный          0.00  "
      ]
     },
     "execution_count": 43,
     "metadata": {},
     "output_type": "execute_result"
    }
   ],
   "source": [
    "data[data.duplicated(subset=['title', 'show_start_date', 'type', 'film_studio', 'production_country', 'director'], keep=False)]"
   ]
  },
  {
   "cell_type": "markdown",
   "metadata": {},
   "source": [
    "Обнаружили 8 повторяющихся фильмов. У этих данных указаны разные прокатные удостоверения, оставим эти данные так как есть, вероятно прокатные удостоверения выдавались под разные цели."
   ]
  },
  {
   "cell_type": "code",
   "execution_count": 44,
   "metadata": {
    "scrolled": true
   },
   "outputs": [
    {
     "data": {
      "text/html": [
       "<div>\n",
       "<style scoped>\n",
       "    .dataframe tbody tr th:only-of-type {\n",
       "        vertical-align: middle;\n",
       "    }\n",
       "\n",
       "    .dataframe tbody tr th {\n",
       "        vertical-align: top;\n",
       "    }\n",
       "\n",
       "    .dataframe thead th {\n",
       "        text-align: right;\n",
       "    }\n",
       "</style>\n",
       "<table border=\"1\" class=\"dataframe\">\n",
       "  <thead>\n",
       "    <tr style=\"text-align: right;\">\n",
       "      <th></th>\n",
       "      <th>title</th>\n",
       "      <th>puNumber</th>\n",
       "      <th>show_start_date</th>\n",
       "      <th>type</th>\n",
       "      <th>film_studio</th>\n",
       "      <th>production_country</th>\n",
       "      <th>director</th>\n",
       "      <th>producer</th>\n",
       "      <th>age_restriction</th>\n",
       "      <th>refundable_support</th>\n",
       "      <th>nonrefundable_support</th>\n",
       "      <th>budget</th>\n",
       "      <th>financing_source</th>\n",
       "      <th>ratings</th>\n",
       "      <th>genres</th>\n",
       "      <th>box_office</th>\n",
       "    </tr>\n",
       "  </thead>\n",
       "  <tbody>\n",
       "    <tr>\n",
       "      <th>4637</th>\n",
       "      <td>Как жениться и остаться холостым</td>\n",
       "      <td>221154310</td>\n",
       "      <td>2010-12-17 12:00:00+00:00</td>\n",
       "      <td>Художественный</td>\n",
       "      <td>Ше Вам, Скрипт Ассосье, Тэ Фэ 1 Фильм Продюксь...</td>\n",
       "      <td>Франция</td>\n",
       "      <td>Эрик Лартиго</td>\n",
       "      <td>Амандин Било, Алан Шаба</td>\n",
       "      <td>«16+» - для детей старше 16 лет</td>\n",
       "      <td>0.00</td>\n",
       "      <td>0.00</td>\n",
       "      <td>0.00</td>\n",
       "      <td>Коммерческий</td>\n",
       "      <td>7.00</td>\n",
       "      <td>мелодрама,комедия</td>\n",
       "      <td>0.00</td>\n",
       "    </tr>\n",
       "    <tr>\n",
       "      <th>4638</th>\n",
       "      <td>Иоанна - женщина на папском престоле /По роман...</td>\n",
       "      <td>221154310</td>\n",
       "      <td>2010-12-17 12:00:00+00:00</td>\n",
       "      <td>Художественный</td>\n",
       "      <td>Константин Фильм, А Эр Ди Дегето Фильм, Дюне ...</td>\n",
       "      <td>Германия - Великобритания - Италия - Испания</td>\n",
       "      <td>Зенке Вортманн</td>\n",
       "      <td>Оливер Бербен, Дорис Д.Хайнце, Фарук Элтан</td>\n",
       "      <td>«16+» - для детей старше 16 лет</td>\n",
       "      <td>0.00</td>\n",
       "      <td>0.00</td>\n",
       "      <td>0.00</td>\n",
       "      <td>Коммерческий</td>\n",
       "      <td>7.60</td>\n",
       "      <td>драма,мелодрама,история</td>\n",
       "      <td>0.00</td>\n",
       "    </tr>\n",
       "    <tr>\n",
       "      <th>5066</th>\n",
       "      <td>Анализируй это!</td>\n",
       "      <td>221054410</td>\n",
       "      <td>2010-05-25 12:00:00+00:00</td>\n",
       "      <td>Художественный</td>\n",
       "      <td>Уорнер Бразерс, Вилладж Роудшоу Филмз ЛТД</td>\n",
       "      <td>США-Австралия</td>\n",
       "      <td>ХЭрольд Рэмис</td>\n",
       "      <td>Джейн Розенталь, Пола Уейнстейн</td>\n",
       "      <td>«16+» - для детей старше 16 лет</td>\n",
       "      <td>0.00</td>\n",
       "      <td>0.00</td>\n",
       "      <td>0.00</td>\n",
       "      <td>Коммерческий</td>\n",
       "      <td>7.40</td>\n",
       "      <td>комедия,криминал</td>\n",
       "      <td>0.00</td>\n",
       "    </tr>\n",
       "    <tr>\n",
       "      <th>5067</th>\n",
       "      <td>Анализируй то!</td>\n",
       "      <td>221054410</td>\n",
       "      <td>2010-05-25 12:00:00+00:00</td>\n",
       "      <td>Художественный</td>\n",
       "      <td>Уорнер Бразерс, Виллидж Роадшоу Пикчерз, Эн-Пи...</td>\n",
       "      <td>США</td>\n",
       "      <td>Гарольд Реймис</td>\n",
       "      <td>Джейн Розенталь, Паул Уэйнстейн</td>\n",
       "      <td>«12+» - для детей старше 12 лет</td>\n",
       "      <td>0.00</td>\n",
       "      <td>0.00</td>\n",
       "      <td>0.00</td>\n",
       "      <td>Коммерческий</td>\n",
       "      <td>6.80</td>\n",
       "      <td>комедия,криминал</td>\n",
       "      <td>0.00</td>\n",
       "    </tr>\n",
       "  </tbody>\n",
       "</table>\n",
       "</div>"
      ],
      "text/plain": [
       "                                                  title   puNumber  \\\n",
       "4637                   Как жениться и остаться холостым  221154310   \n",
       "4638  Иоанна - женщина на папском престоле /По роман...  221154310   \n",
       "5066                                    Анализируй это!  221054410   \n",
       "5067                                     Анализируй то!  221054410   \n",
       "\n",
       "               show_start_date            type  \\\n",
       "4637 2010-12-17 12:00:00+00:00  Художественный   \n",
       "4638 2010-12-17 12:00:00+00:00  Художественный   \n",
       "5066 2010-05-25 12:00:00+00:00  Художественный   \n",
       "5067 2010-05-25 12:00:00+00:00  Художественный   \n",
       "\n",
       "                                            film_studio  \\\n",
       "4637  Ше Вам, Скрипт Ассосье, Тэ Фэ 1 Фильм Продюксь...   \n",
       "4638   Константин Фильм, А Эр Ди Дегето Фильм, Дюне ...   \n",
       "5066          Уорнер Бразерс, Вилладж Роудшоу Филмз ЛТД   \n",
       "5067  Уорнер Бразерс, Виллидж Роадшоу Пикчерз, Эн-Пи...   \n",
       "\n",
       "                                production_country        director  \\\n",
       "4637                                       Франция    Эрик Лартиго   \n",
       "4638  Германия - Великобритания - Италия - Испания  Зенке Вортманн   \n",
       "5066                                 США-Австралия   ХЭрольд Рэмис   \n",
       "5067                                           США  Гарольд Реймис   \n",
       "\n",
       "                                        producer  \\\n",
       "4637                     Амандин Било, Алан Шаба   \n",
       "4638  Оливер Бербен, Дорис Д.Хайнце, Фарук Элтан   \n",
       "5066             Джейн Розенталь, Пола Уейнстейн   \n",
       "5067             Джейн Розенталь, Паул Уэйнстейн   \n",
       "\n",
       "                      age_restriction  refundable_support  \\\n",
       "4637  «16+» - для детей старше 16 лет                0.00   \n",
       "4638  «16+» - для детей старше 16 лет                0.00   \n",
       "5066  «16+» - для детей старше 16 лет                0.00   \n",
       "5067  «12+» - для детей старше 12 лет                0.00   \n",
       "\n",
       "      nonrefundable_support  budget financing_source  ratings  \\\n",
       "4637                   0.00    0.00     Коммерческий     7.00   \n",
       "4638                   0.00    0.00     Коммерческий     7.60   \n",
       "5066                   0.00    0.00     Коммерческий     7.40   \n",
       "5067                   0.00    0.00     Коммерческий     6.80   \n",
       "\n",
       "                       genres  box_office  \n",
       "4637        мелодрама,комедия        0.00  \n",
       "4638  драма,мелодрама,история        0.00  \n",
       "5066         комедия,криминал        0.00  \n",
       "5067         комедия,криминал        0.00  "
      ]
     },
     "execution_count": 44,
     "metadata": {},
     "output_type": "execute_result"
    }
   ],
   "source": [
    "# проверим фильмы, которые могут совпадать по номеру прокатного удостоверения\n",
    "data.loc[data['puNumber'].duplicated(keep=False)]"
   ]
  },
  {
   "cell_type": "markdown",
   "metadata": {},
   "source": [
    "Так как два фильма являются связанными, вероятнее всего произошла ошибка с выдачей прокатного удостоверения. Данные только в этом исследовании используются и прокатный номер нужен только как уникальный идентификатор, сделаем допущение и укажем свой прокатный номер.\n",
    "\n",
    "Фильм `Анализируй то!`, который на данный момент имеет идентичный с фильмом `Анализируй это!` прокатный номер `221054410` получит новый свободный номер: `100000000`."
   ]
  },
  {
   "cell_type": "code",
   "execution_count": 45,
   "metadata": {},
   "outputs": [],
   "source": [
    "#data.loc[(data['title'] == 'Анализируй то!') & (data['puNumber'] == 221054410), 'puNumber'] = 100000001"
   ]
  },
  {
   "cell_type": "code",
   "execution_count": 46,
   "metadata": {},
   "outputs": [],
   "source": [
    "data.loc[data['title'] == 'Анализируй то!', 'puNumber'] = data.loc[data['title'] == 'Анализируй это!', 'puNumber']"
   ]
  },
  {
   "cell_type": "markdown",
   "metadata": {},
   "source": [
    "<div class=\"alert-warning\" style=\"padding: 20px; border-radius: 10px\">\n",
    "<b>Комментарий ревьюера ⚠️</b>\n",
    "\n",
    "Хардкодинг (или ручной ввод цифр) лучше в работе не использовать, он часто приводит к ошибкам, особенно при изменении исходных данных.\n",
    "    \n",
    "В нашем анализе номер прокатного удостоверения особой роли не играет, поэтому присваивать новое значение не обязательно, главное что ты отметила наличие дубликатов по этому признаку."
   ]
  },
  {
   "cell_type": "markdown",
   "metadata": {},
   "source": [
    "<div class=\"alert-info\" style=\"padding: 20px; border-radius: 10px\">\n",
    "<b>Комментарий студента 💎</b>\n",
    "\n",
    "Внесены поправки.\n",
    "\n",
    "</div>"
   ]
  },
  {
   "cell_type": "code",
   "execution_count": 47,
   "metadata": {
    "scrolled": true
   },
   "outputs": [
    {
     "data": {
      "text/html": [
       "<div>\n",
       "<style scoped>\n",
       "    .dataframe tbody tr th:only-of-type {\n",
       "        vertical-align: middle;\n",
       "    }\n",
       "\n",
       "    .dataframe tbody tr th {\n",
       "        vertical-align: top;\n",
       "    }\n",
       "\n",
       "    .dataframe thead th {\n",
       "        text-align: right;\n",
       "    }\n",
       "</style>\n",
       "<table border=\"1\" class=\"dataframe\">\n",
       "  <thead>\n",
       "    <tr style=\"text-align: right;\">\n",
       "      <th></th>\n",
       "      <th>title</th>\n",
       "      <th>puNumber</th>\n",
       "      <th>show_start_date</th>\n",
       "      <th>type</th>\n",
       "      <th>film_studio</th>\n",
       "      <th>production_country</th>\n",
       "      <th>director</th>\n",
       "      <th>producer</th>\n",
       "      <th>age_restriction</th>\n",
       "      <th>refundable_support</th>\n",
       "      <th>nonrefundable_support</th>\n",
       "      <th>budget</th>\n",
       "      <th>financing_source</th>\n",
       "      <th>ratings</th>\n",
       "      <th>genres</th>\n",
       "      <th>box_office</th>\n",
       "    </tr>\n",
       "  </thead>\n",
       "  <tbody>\n",
       "    <tr>\n",
       "      <th>4049</th>\n",
       "      <td>Иоанна - женщина на папском престоле /По роман...</td>\n",
       "      <td>121,005,410.00</td>\n",
       "      <td>2010-03-25 12:00:00+00:00</td>\n",
       "      <td>Художественный</td>\n",
       "      <td>Константин Фильм, А Эр Ди Дегето Фильм, Дюне ...</td>\n",
       "      <td>Германия - Великобритания - Италия - Испания</td>\n",
       "      <td>Зенке Вортманн</td>\n",
       "      <td>Оливер Бербен, Дорис Д.Хайнце, Фарук Элтан</td>\n",
       "      <td>«16+» - для детей старше 16 лет</td>\n",
       "      <td>0.00</td>\n",
       "      <td>0.00</td>\n",
       "      <td>0.00</td>\n",
       "      <td>Коммерческий</td>\n",
       "      <td>7.60</td>\n",
       "      <td>драма,мелодрама,история</td>\n",
       "      <td>0.00</td>\n",
       "    </tr>\n",
       "    <tr>\n",
       "      <th>4512</th>\n",
       "      <td>Иоанна - женщина на папском престоле /По роман...</td>\n",
       "      <td>221,141,710.00</td>\n",
       "      <td>2010-12-03 12:00:00+00:00</td>\n",
       "      <td>Художественный</td>\n",
       "      <td>Константин Фильм, А Эр Ди Дегето Фильм, Дюне ...</td>\n",
       "      <td>Германия - Великобритания - Италия - Испания</td>\n",
       "      <td>Зенке Вортманн</td>\n",
       "      <td>Оливер Бербен, Дорис Д.Хайнце, Фарук Элтан</td>\n",
       "      <td>«16+» - для детей старше 16 лет</td>\n",
       "      <td>0.00</td>\n",
       "      <td>0.00</td>\n",
       "      <td>0.00</td>\n",
       "      <td>Коммерческий</td>\n",
       "      <td>7.60</td>\n",
       "      <td>драма,мелодрама,история</td>\n",
       "      <td>0.00</td>\n",
       "    </tr>\n",
       "    <tr>\n",
       "      <th>4638</th>\n",
       "      <td>Иоанна - женщина на папском престоле /По роман...</td>\n",
       "      <td>221,154,310.00</td>\n",
       "      <td>2010-12-17 12:00:00+00:00</td>\n",
       "      <td>Художественный</td>\n",
       "      <td>Константин Фильм, А Эр Ди Дегето Фильм, Дюне ...</td>\n",
       "      <td>Германия - Великобритания - Италия - Испания</td>\n",
       "      <td>Зенке Вортманн</td>\n",
       "      <td>Оливер Бербен, Дорис Д.Хайнце, Фарук Элтан</td>\n",
       "      <td>«16+» - для детей старше 16 лет</td>\n",
       "      <td>0.00</td>\n",
       "      <td>0.00</td>\n",
       "      <td>0.00</td>\n",
       "      <td>Коммерческий</td>\n",
       "      <td>7.60</td>\n",
       "      <td>драма,мелодрама,история</td>\n",
       "      <td>0.00</td>\n",
       "    </tr>\n",
       "  </tbody>\n",
       "</table>\n",
       "</div>"
      ],
      "text/plain": [
       "                                                  title       puNumber  \\\n",
       "4049  Иоанна - женщина на папском престоле /По роман... 121,005,410.00   \n",
       "4512  Иоанна - женщина на папском престоле /По роман... 221,141,710.00   \n",
       "4638  Иоанна - женщина на папском престоле /По роман... 221,154,310.00   \n",
       "\n",
       "               show_start_date            type  \\\n",
       "4049 2010-03-25 12:00:00+00:00  Художественный   \n",
       "4512 2010-12-03 12:00:00+00:00  Художественный   \n",
       "4638 2010-12-17 12:00:00+00:00  Художественный   \n",
       "\n",
       "                                            film_studio  \\\n",
       "4049   Константин Фильм, А Эр Ди Дегето Фильм, Дюне ...   \n",
       "4512   Константин Фильм, А Эр Ди Дегето Фильм, Дюне ...   \n",
       "4638   Константин Фильм, А Эр Ди Дегето Фильм, Дюне ...   \n",
       "\n",
       "                                production_country        director  \\\n",
       "4049  Германия - Великобритания - Италия - Испания  Зенке Вортманн   \n",
       "4512  Германия - Великобритания - Италия - Испания  Зенке Вортманн   \n",
       "4638  Германия - Великобритания - Италия - Испания  Зенке Вортманн   \n",
       "\n",
       "                                        producer  \\\n",
       "4049  Оливер Бербен, Дорис Д.Хайнце, Фарук Элтан   \n",
       "4512  Оливер Бербен, Дорис Д.Хайнце, Фарук Элтан   \n",
       "4638  Оливер Бербен, Дорис Д.Хайнце, Фарук Элтан   \n",
       "\n",
       "                      age_restriction  refundable_support  \\\n",
       "4049  «16+» - для детей старше 16 лет                0.00   \n",
       "4512  «16+» - для детей старше 16 лет                0.00   \n",
       "4638  «16+» - для детей старше 16 лет                0.00   \n",
       "\n",
       "      nonrefundable_support  budget financing_source  ratings  \\\n",
       "4049                   0.00    0.00     Коммерческий     7.60   \n",
       "4512                   0.00    0.00     Коммерческий     7.60   \n",
       "4638                   0.00    0.00     Коммерческий     7.60   \n",
       "\n",
       "                       genres  box_office  \n",
       "4049  драма,мелодрама,история        0.00  \n",
       "4512  драма,мелодрама,история        0.00  \n",
       "4638  драма,мелодрама,история        0.00  "
      ]
     },
     "metadata": {},
     "output_type": "display_data"
    }
   ],
   "source": [
    "display(data[data['title'].str.contains('Иоанна - женщина на папском престоле')])"
   ]
  },
  {
   "cell_type": "markdown",
   "metadata": {},
   "source": [
    "Судя по разным датам, этот фильм перезапускали несколько раз, стоит сохранить их все."
   ]
  },
  {
   "cell_type": "markdown",
   "metadata": {},
   "source": [
    "Так как данные только в этом исследовании используются и прокатный номер нужен только как уникальный идентификатор, сделаем допущение и укажем свой прокатный номер.\n",
    "\n",
    "Фильм `Иоанна - женщина на папском престоле/...`, который на данный момент имеет идентичный с фильмом `Как жениться и остаться холостым` прокатный номер `221154310` получит новый свободный номер: `100000001`."
   ]
  },
  {
   "cell_type": "code",
   "execution_count": 48,
   "metadata": {},
   "outputs": [],
   "source": [
    "data.loc[(data['title'] == 'Иоанна - женщина на папском престоле /По роману Донны Вулфольк Кросс/') & (data['puNumber'] == 221154310), 'puNumber'] = 100000001"
   ]
  },
  {
   "cell_type": "markdown",
   "metadata": {},
   "source": [
    "<div class=\"alert-success\" style=\"padding: 20px; border-radius: 10px\">\n",
    "<b>Комментарий ревьюера ✔️</b>\n",
    "\n",
    "Верно, основные два столбца, где стоит проверить дубликаты: `title` и `puNumber`. Как ты правильно заметил они содержат дубликаты. Вероятно несколько фильмов могли получать разные прокатные удостоверения, а таже одно прокатное удостоверение было выдано нескольким фильмам. </div>"
   ]
  },
  {
   "cell_type": "markdown",
   "metadata": {
    "id": "52fOPrEBgFyQ"
   },
   "source": [
    "#### Шаг 2.4. Изучите категориальные значения\n",
    "\n",
    "- Посмотрите, какая общая проблема встречается почти во всех категориальных столбцах;\n",
    "- Исправьте проблемные значения в поле `type`.\n",
    "\n",
    "<div id=\"accordion\">\n",
    "    <div class=\"card\">\n",
    "        <div class=\"card-header\" id=\"headingThree\">\n",
    "            <button class=\"btn btn-link collapsed\" data-toggle=\"collapse\" data-target=\"#collapseHint_1\" aria-expanded=\"false\" aria-controls=\"collapseHint_1\">Подсказка</button>\n",
    "        </div>\n",
    "        <div id=\"collapseHint_1\" class=\"collapse\" aria-labelledby=\"headingThree\" data-parent=\"#accordion\">\n",
    "            <div class=\"card-body\">\n",
    "В поле <code>type</code> есть несколько значений, у которых появился пробел в начале строки. Самый простой способ их «починить» -- использовать метод <a href=\"https://pandas.pydata.org/docs/reference/api/pandas.Series.str.strip.html#pandas.Series.str.strip\">.str.strip</a>. Этот метод удаляет все пробелы, которые встречаются в начале и в конце строки. Применяют его таким образом:<br>\n",
    "<code>df['type'].str.strip()</code>\n",
    "            </div>\n",
    "        </div>\n",
    "    </div>\n",
    "</div>"
   ]
  },
  {
   "cell_type": "code",
   "execution_count": 49,
   "metadata": {},
   "outputs": [
    {
     "data": {
      "text/plain": [
       "array(['Художественный', 'Анимационный', 'Прочие', 'Документальный',\n",
       "       'Научно-популярный', ' Художественный', ' Анимационный',\n",
       "       'Музыкально-развлекательный'], dtype=object)"
      ]
     },
     "execution_count": 49,
     "metadata": {},
     "output_type": "execute_result"
    }
   ],
   "source": [
    "# смотрим уникальные значения\n",
    "data['type'].unique()"
   ]
  },
  {
   "cell_type": "code",
   "execution_count": 50,
   "metadata": {
    "id": "PnXKIVdFgFyR"
   },
   "outputs": [],
   "source": [
    "# встречаются одинаковые типы, но с разным написанием, есть лишние пробелы\n",
    "# удалим пробелы\n",
    "\n",
    "data['type'] = data['type'].str.strip()"
   ]
  },
  {
   "cell_type": "code",
   "execution_count": 51,
   "metadata": {},
   "outputs": [
    {
     "data": {
      "text/plain": [
       "array(['Художественный', 'Анимационный', 'Прочие', 'Документальный',\n",
       "       'Научно-популярный', 'Музыкально-развлекательный'], dtype=object)"
      ]
     },
     "execution_count": 51,
     "metadata": {},
     "output_type": "execute_result"
    }
   ],
   "source": [
    "data['type'].unique()"
   ]
  },
  {
   "cell_type": "code",
   "execution_count": 52,
   "metadata": {},
   "outputs": [
    {
     "data": {
      "text/plain": [
       "array(['«18+» - запрещено для детей', '«6+» - для детей старше 6 лет',\n",
       "       '«12+» - для детей старше 12 лет',\n",
       "       '«16+» - для детей старше 16 лет',\n",
       "       '«0+» - для любой зрительской аудитории'], dtype=object)"
      ]
     },
     "execution_count": 52,
     "metadata": {},
     "output_type": "execute_result"
    }
   ],
   "source": [
    "# проверим уникальные значения\n",
    "data['age_restriction'].unique()"
   ]
  },
  {
   "cell_type": "markdown",
   "metadata": {},
   "source": [
    "Повторы не обнаружены. Оставляем без изменений."
   ]
  },
  {
   "cell_type": "code",
   "execution_count": 53,
   "metadata": {},
   "outputs": [
    {
     "data": {
      "text/plain": [
       "array(['Коммерческий', 'Министерство культуры', 'Фонд кино',\n",
       "       'Министерство культуры, Фонд кино'], dtype=object)"
      ]
     },
     "execution_count": 53,
     "metadata": {},
     "output_type": "execute_result"
    }
   ],
   "source": [
    "# проверяем уникальные значения\n",
    "data['financing_source'].unique()"
   ]
  },
  {
   "cell_type": "markdown",
   "metadata": {},
   "source": [
    "В этом столбце тоже все хорошо."
   ]
  },
  {
   "cell_type": "code",
   "execution_count": 54,
   "metadata": {},
   "outputs": [
    {
     "data": {
      "text/plain": [
       "743"
      ]
     },
     "execution_count": 54,
     "metadata": {},
     "output_type": "execute_result"
    }
   ],
   "source": [
    "# проверим уникальные значения\n",
    "data['genres'].nunique()"
   ]
  },
  {
   "cell_type": "code",
   "execution_count": 55,
   "metadata": {},
   "outputs": [],
   "source": [
    "# удалим лишние пробелы, которые могли возникнуть\n",
    "data['genres'] = data['genres'].str.strip()"
   ]
  },
  {
   "cell_type": "markdown",
   "metadata": {},
   "source": [
    "Практически во всех столбцах встречались недочеты. Основная проблема — лишние символы пробела. В столбце `type` было убрано два дублирующих значения. Часть категориальных значений, например, данные о директоре, продюсере и источнике спонсирования, была обработана на предыдущих шагах, проблемой являлись пропуски."
   ]
  },
  {
   "cell_type": "markdown",
   "metadata": {},
   "source": [
    "<div class=\"alert-danger\" style=\"padding: 20px; border-radius: 10px\">\n",
    "    \n",
    "<b>Комментарий ревьюера ❌</b>\n",
    "\n",
    "<s>Какие общие проблемы в столбцах, содержащих категориальные значения можно отметить?</div>"
   ]
  },
  {
   "cell_type": "markdown",
   "metadata": {},
   "source": [
    "<div class=\"alert-info\" style=\"padding: 20px; border-radius: 10px\">\n",
    "<b>Комментарий студента 💎</b>\n",
    "\n",
    "Добавлен вывод.\n",
    "\n",
    "</div>"
   ]
  },
  {
   "cell_type": "markdown",
   "metadata": {},
   "source": [
    "<div class=\"alert-success\" style=\"padding: 20px; border-radius: 10px\">\n",
    "<b>Комментарий ревьюера V2 ✔️</b>\n",
    "\n",
    "К проблемам в категориальных столбцах можно также отнести несколько значений в одном поле, что как раз и затрудняет категоризацию.\n",
    "</div>"
   ]
  },
  {
   "cell_type": "markdown",
   "metadata": {
    "id": "XFSN5lrEgFyR"
   },
   "source": [
    "#### Шаг 2.5. Проверьте количественные значения\n",
    "\n",
    "- Проверьте, обнаружились ли в таких столбцах подозрительные данные. Как с такими данными лучше поступить?\n",
    "\n",
    "<div id=\"accordion\">\n",
    "    <div class=\"card\">\n",
    "        <div class=\"card-header\" id=\"headingThree\">\n",
    "            <button class=\"btn btn-link collapsed\" data-toggle=\"collapse\" data-target=\"#collapseHint_budget\" aria-expanded=\"false\" aria-controls=\"collapseHint_budget\">Подсказка</button>\n",
    "        </div>\n",
    "        <div id=\"collapseHint_budget\" class=\"collapse\" aria-labelledby=\"headingThree\" data-parent=\"#accordion\">\n",
    "            <div class=\"card-body\">\n",
    "Обратите внимание на описание столбца <code>budget</code>. Как этот столбец соотносится с двумя другими: <code>refundable_support</code> и <code>nonrefundable_support</code>?\n",
    "            </div>\n",
    "        </div>\n",
    "    </div>\n",
    "</div>"
   ]
  },
  {
   "cell_type": "markdown",
   "metadata": {
    "id": "YbzClBxagFyS"
   },
   "source": [
    "В столбце `budget` содержатся данные, которые указаны только для тех фильмов, которые получили государственную поддержку. Рассмотрим их в разрезе соотношения с двумя другими объём возвратных средств государственной поддержки — `refundable_support` и объём невозвратных средств государственной поддержки — `nonrefundable_support`."
   ]
  },
  {
   "cell_type": "markdown",
   "metadata": {},
   "source": [
    "Для большинства фильмов есть информация о сборах, но проверим фильмы, которые были сняты при государственной поддержке, но по кассовым сборам у них 0."
   ]
  },
  {
   "cell_type": "code",
   "execution_count": 56,
   "metadata": {
    "scrolled": false
   },
   "outputs": [
    {
     "data": {
      "text/html": [
       "<div>\n",
       "<style scoped>\n",
       "    .dataframe tbody tr th:only-of-type {\n",
       "        vertical-align: middle;\n",
       "    }\n",
       "\n",
       "    .dataframe tbody tr th {\n",
       "        vertical-align: top;\n",
       "    }\n",
       "\n",
       "    .dataframe thead th {\n",
       "        text-align: right;\n",
       "    }\n",
       "</style>\n",
       "<table border=\"1\" class=\"dataframe\">\n",
       "  <thead>\n",
       "    <tr style=\"text-align: right;\">\n",
       "      <th></th>\n",
       "      <th>title</th>\n",
       "      <th>puNumber</th>\n",
       "      <th>show_start_date</th>\n",
       "      <th>type</th>\n",
       "      <th>film_studio</th>\n",
       "      <th>production_country</th>\n",
       "      <th>director</th>\n",
       "      <th>producer</th>\n",
       "      <th>age_restriction</th>\n",
       "      <th>refundable_support</th>\n",
       "      <th>nonrefundable_support</th>\n",
       "      <th>budget</th>\n",
       "      <th>financing_source</th>\n",
       "      <th>ratings</th>\n",
       "      <th>genres</th>\n",
       "      <th>box_office</th>\n",
       "    </tr>\n",
       "  </thead>\n",
       "  <tbody>\n",
       "    <tr>\n",
       "      <th>7473</th>\n",
       "      <td>Вторжение</td>\n",
       "      <td>111,022,519.00</td>\n",
       "      <td>2019-12-23 12:00:00+00:00</td>\n",
       "      <td>Художественный</td>\n",
       "      <td>ООО \"Арт Пикчерс Студия\", ООО \"Водород 2011\"</td>\n",
       "      <td>Россия</td>\n",
       "      <td>Ф.Бондарчук</td>\n",
       "      <td>Ф.Бондарчук, М.Врубель, А.Андрющенко, Д.Рудовский</td>\n",
       "      <td>«12+» - для детей старше 12 лет</td>\n",
       "      <td>100,000,000.00</td>\n",
       "      <td>400,000,000.00</td>\n",
       "      <td>944,000,000.00</td>\n",
       "      <td>Фонд кино</td>\n",
       "      <td>5.70</td>\n",
       "      <td>фантастика,боевик</td>\n",
       "      <td>0.00</td>\n",
       "    </tr>\n",
       "    <tr>\n",
       "      <th>7477</th>\n",
       "      <td>(Не)идеальный мужчина</td>\n",
       "      <td>111,023,119.00</td>\n",
       "      <td>2019-12-24 12:00:00+00:00</td>\n",
       "      <td>Художественный</td>\n",
       "      <td>ООО \"Нон-Стоп Продакшн\"</td>\n",
       "      <td>Россия</td>\n",
       "      <td>М.Бальчюнас (псевдоним М.Вайсберг)</td>\n",
       "      <td>С.Мелькумов, А.Роднянский, М.Вайсберг, Р.Минас...</td>\n",
       "      <td>«12+» - для детей старше 12 лет</td>\n",
       "      <td>40,000,000.00</td>\n",
       "      <td>60,000,000.00</td>\n",
       "      <td>150,147,502.00</td>\n",
       "      <td>Фонд кино</td>\n",
       "      <td>4.50</td>\n",
       "      <td>комедия,фантастика,мелодрама</td>\n",
       "      <td>0.00</td>\n",
       "    </tr>\n",
       "  </tbody>\n",
       "</table>\n",
       "</div>"
      ],
      "text/plain": [
       "                      title       puNumber           show_start_date  \\\n",
       "7473              Вторжение 111,022,519.00 2019-12-23 12:00:00+00:00   \n",
       "7477  (Не)идеальный мужчина 111,023,119.00 2019-12-24 12:00:00+00:00   \n",
       "\n",
       "                type                                   film_studio  \\\n",
       "7473  Художественный  ООО \"Арт Пикчерс Студия\", ООО \"Водород 2011\"   \n",
       "7477  Художественный                      ООО \"Нон-Стоп Продакшн\"    \n",
       "\n",
       "     production_country                            director  \\\n",
       "7473             Россия                         Ф.Бондарчук   \n",
       "7477             Россия  М.Бальчюнас (псевдоним М.Вайсберг)   \n",
       "\n",
       "                                               producer  \\\n",
       "7473  Ф.Бондарчук, М.Врубель, А.Андрющенко, Д.Рудовский   \n",
       "7477  С.Мелькумов, А.Роднянский, М.Вайсберг, Р.Минас...   \n",
       "\n",
       "                      age_restriction  refundable_support  \\\n",
       "7473  «12+» - для детей старше 12 лет      100,000,000.00   \n",
       "7477  «12+» - для детей старше 12 лет       40,000,000.00   \n",
       "\n",
       "      nonrefundable_support         budget financing_source  ratings  \\\n",
       "7473         400,000,000.00 944,000,000.00        Фонд кино     5.70   \n",
       "7477          60,000,000.00 150,147,502.00        Фонд кино     4.50   \n",
       "\n",
       "                            genres  box_office  \n",
       "7473             фантастика,боевик        0.00  \n",
       "7477  комедия,фантастика,мелодрама        0.00  "
      ]
     },
     "execution_count": 56,
     "metadata": {},
     "output_type": "execute_result"
    }
   ],
   "source": [
    "data.loc[(data['refundable_support'] > 0) & (data['nonrefundable_support'] > 0) & (data['budget'] > 0) & (data['box_office'] == 0)]"
   ]
  },
  {
   "cell_type": "code",
   "execution_count": 57,
   "metadata": {},
   "outputs": [
    {
     "name": "stderr",
     "output_type": "stream",
     "text": [
      "/tmp/ipykernel_48/1673188735.py:1: FutureWarning: Treating datetime data as categorical rather than numeric in `.describe` is deprecated and will be removed in a future version of pandas. Specify `datetime_is_numeric=True` to silence this warning and adopt the future behavior now.\n",
      "  data[['show_start_date']].describe()\n"
     ]
    },
    {
     "data": {
      "text/html": [
       "<div>\n",
       "<style scoped>\n",
       "    .dataframe tbody tr th:only-of-type {\n",
       "        vertical-align: middle;\n",
       "    }\n",
       "\n",
       "    .dataframe tbody tr th {\n",
       "        vertical-align: top;\n",
       "    }\n",
       "\n",
       "    .dataframe thead th {\n",
       "        text-align: right;\n",
       "    }\n",
       "</style>\n",
       "<table border=\"1\" class=\"dataframe\">\n",
       "  <thead>\n",
       "    <tr style=\"text-align: right;\">\n",
       "      <th></th>\n",
       "      <th>show_start_date</th>\n",
       "    </tr>\n",
       "  </thead>\n",
       "  <tbody>\n",
       "    <tr>\n",
       "      <th>count</th>\n",
       "      <td>7485</td>\n",
       "    </tr>\n",
       "    <tr>\n",
       "      <th>unique</th>\n",
       "      <td>1964</td>\n",
       "    </tr>\n",
       "    <tr>\n",
       "      <th>top</th>\n",
       "      <td>2010-12-17 12:00:00+00:00</td>\n",
       "    </tr>\n",
       "    <tr>\n",
       "      <th>freq</th>\n",
       "      <td>96</td>\n",
       "    </tr>\n",
       "    <tr>\n",
       "      <th>first</th>\n",
       "      <td>2010-01-11 12:00:00+00:00</td>\n",
       "    </tr>\n",
       "    <tr>\n",
       "      <th>last</th>\n",
       "      <td>2019-12-30 12:00:00+00:00</td>\n",
       "    </tr>\n",
       "  </tbody>\n",
       "</table>\n",
       "</div>"
      ],
      "text/plain": [
       "                  show_start_date\n",
       "count                        7485\n",
       "unique                       1964\n",
       "top     2010-12-17 12:00:00+00:00\n",
       "freq                           96\n",
       "first   2010-01-11 12:00:00+00:00\n",
       "last    2019-12-30 12:00:00+00:00"
      ]
     },
     "execution_count": 57,
     "metadata": {},
     "output_type": "execute_result"
    }
   ],
   "source": [
    "data[['show_start_date']].describe()"
   ]
  },
  {
   "cell_type": "markdown",
   "metadata": {},
   "source": [
    "Фильмы, которые были сняты при поддержке государства и без сборов есть, но так как последняя дата, за которую есть данные это 2019-12-30 12:00:00+00:00, стоит предположить, что эти два фильма только вышли в прокат и пока не имеют информации о сборах."
   ]
  },
  {
   "cell_type": "markdown",
   "metadata": {},
   "source": [
    "Проверим данные для фильмов, у которых бюджет может быть меньше, чем для них зафиксирована сумма возвратных и невозвратных средств."
   ]
  },
  {
   "cell_type": "code",
   "execution_count": 58,
   "metadata": {},
   "outputs": [
    {
     "data": {
      "text/html": [
       "<div>\n",
       "<style scoped>\n",
       "    .dataframe tbody tr th:only-of-type {\n",
       "        vertical-align: middle;\n",
       "    }\n",
       "\n",
       "    .dataframe tbody tr th {\n",
       "        vertical-align: top;\n",
       "    }\n",
       "\n",
       "    .dataframe thead th {\n",
       "        text-align: right;\n",
       "    }\n",
       "</style>\n",
       "<table border=\"1\" class=\"dataframe\">\n",
       "  <thead>\n",
       "    <tr style=\"text-align: right;\">\n",
       "      <th></th>\n",
       "      <th>title</th>\n",
       "      <th>puNumber</th>\n",
       "      <th>show_start_date</th>\n",
       "      <th>type</th>\n",
       "      <th>film_studio</th>\n",
       "      <th>production_country</th>\n",
       "      <th>director</th>\n",
       "      <th>producer</th>\n",
       "      <th>age_restriction</th>\n",
       "      <th>refundable_support</th>\n",
       "      <th>nonrefundable_support</th>\n",
       "      <th>budget</th>\n",
       "      <th>financing_source</th>\n",
       "      <th>ratings</th>\n",
       "      <th>genres</th>\n",
       "      <th>box_office</th>\n",
       "    </tr>\n",
       "  </thead>\n",
       "  <tbody>\n",
       "    <tr>\n",
       "      <th>2052</th>\n",
       "      <td>14+</td>\n",
       "      <td>111,023,614.00</td>\n",
       "      <td>2014-12-19 12:00:00+00:00</td>\n",
       "      <td>Художественный</td>\n",
       "      <td>ООО Киностудия  \"Сентябрь\"</td>\n",
       "      <td>Россия</td>\n",
       "      <td>А.Зайцев</td>\n",
       "      <td>О.Гранина, А.Зайцев</td>\n",
       "      <td>«16+» - для детей старше 16 лет</td>\n",
       "      <td>0.00</td>\n",
       "      <td>23,000,000.00</td>\n",
       "      <td>0.00</td>\n",
       "      <td>Министерство культуры, Фонд кино</td>\n",
       "      <td>6.60</td>\n",
       "      <td>мелодрама</td>\n",
       "      <td>10,234,016.10</td>\n",
       "    </tr>\n",
       "    <tr>\n",
       "      <th>2057</th>\n",
       "      <td>Дуxless 2</td>\n",
       "      <td>111,000,415.00</td>\n",
       "      <td>2015-01-26 12:00:00+00:00</td>\n",
       "      <td>Художественный</td>\n",
       "      <td>ООО \"Киностудия \"Слово\", ООО \"Арт Пикчерс Студия\"</td>\n",
       "      <td>Россия</td>\n",
       "      <td>Р.Прыгунов</td>\n",
       "      <td>П.Ануров, Ф.Бондарчук, Д.Рудовский</td>\n",
       "      <td>«16+» - для детей старше 16 лет</td>\n",
       "      <td>0.00</td>\n",
       "      <td>75,000,000.00</td>\n",
       "      <td>0.00</td>\n",
       "      <td>Фонд кино</td>\n",
       "      <td>6.60</td>\n",
       "      <td>драма</td>\n",
       "      <td>446,163,511.00</td>\n",
       "    </tr>\n",
       "    <tr>\n",
       "      <th>2471</th>\n",
       "      <td>Воин (2015)</td>\n",
       "      <td>111,017,315.00</td>\n",
       "      <td>2015-09-28 12:00:00+00:00</td>\n",
       "      <td>Художественный</td>\n",
       "      <td>ООО \"Форпост Продакшн\", ООО \"Арт Пикчерс Студия\"</td>\n",
       "      <td>Россия</td>\n",
       "      <td>А.Андрианов</td>\n",
       "      <td>ООО \"Арт Пикчерс Студия\"</td>\n",
       "      <td>«12+» - для детей старше 12 лет</td>\n",
       "      <td>10,000,000.00</td>\n",
       "      <td>70,000,000.00</td>\n",
       "      <td>0.00</td>\n",
       "      <td>Фонд кино</td>\n",
       "      <td>7.80</td>\n",
       "      <td>боевик,драма,криминал</td>\n",
       "      <td>196,572,438.40</td>\n",
       "    </tr>\n",
       "    <tr>\n",
       "      <th>2531</th>\n",
       "      <td>Бармен.</td>\n",
       "      <td>111,009,615.00</td>\n",
       "      <td>2015-05-26 12:00:00+00:00</td>\n",
       "      <td>Художественный</td>\n",
       "      <td>АО \"ВайТ Медиа\", ООО \"Арт Пикчерс Студия\"</td>\n",
       "      <td>Россия</td>\n",
       "      <td>Д.Штурманова</td>\n",
       "      <td>Т.Вайнштейн</td>\n",
       "      <td>«16+» - для детей старше 16 лет</td>\n",
       "      <td>20,000,000.00</td>\n",
       "      <td>0.00</td>\n",
       "      <td>0.00</td>\n",
       "      <td>Фонд кино</td>\n",
       "      <td>6.20</td>\n",
       "      <td>комедия,фэнтези</td>\n",
       "      <td>67,418,974.80</td>\n",
       "    </tr>\n",
       "    <tr>\n",
       "      <th>2614</th>\n",
       "      <td>Савва. Сердце воина</td>\n",
       "      <td>114,001,715.00</td>\n",
       "      <td>2015-07-21 12:00:00+00:00</td>\n",
       "      <td>Анимационный</td>\n",
       "      <td>ООО \"Глюкоза Продакшн\", ООО \"Арт Пикчерс Студия\"</td>\n",
       "      <td>Россия</td>\n",
       "      <td>М.Фадеев</td>\n",
       "      <td>А.Чистяков</td>\n",
       "      <td>«6+» - для детей старше 6 лет</td>\n",
       "      <td>60,000,000.00</td>\n",
       "      <td>100,000,000.00</td>\n",
       "      <td>0.00</td>\n",
       "      <td>Фонд кино</td>\n",
       "      <td>4.60</td>\n",
       "      <td>мультфильм,приключения,фэнтези</td>\n",
       "      <td>184,487,551.40</td>\n",
       "    </tr>\n",
       "    <tr>\n",
       "      <th>2683</th>\n",
       "      <td>Тряпичный союз</td>\n",
       "      <td>111,010,215.00</td>\n",
       "      <td>2015-06-08 12:00:00+00:00</td>\n",
       "      <td>Художественный</td>\n",
       "      <td>ООО \"Кинокомпания \"КОКТЕБЕЛЬ\"</td>\n",
       "      <td>Россия</td>\n",
       "      <td>М.Местецкий</td>\n",
       "      <td>Р.Борисевич, А.Кушаев</td>\n",
       "      <td>«18+» - запрещено для детей</td>\n",
       "      <td>0.00</td>\n",
       "      <td>59,000,000.00</td>\n",
       "      <td>0.00</td>\n",
       "      <td>Фонд кино</td>\n",
       "      <td>6.30</td>\n",
       "      <td>комедия,драма</td>\n",
       "      <td>1,957,738.51</td>\n",
       "    </tr>\n",
       "    <tr>\n",
       "      <th>2787</th>\n",
       "      <td>Срочно выйду замуж</td>\n",
       "      <td>111,017,115.00</td>\n",
       "      <td>2015-09-30 12:00:00+00:00</td>\n",
       "      <td>Художественный</td>\n",
       "      <td>АО \"ВайТ Медиа\", ООО \"Арт Пикчерс Студия\"</td>\n",
       "      <td>Россия</td>\n",
       "      <td>С Чекалов</td>\n",
       "      <td>Ф.Бондарчук, Т.Вайнштейн, Д.Рудовский</td>\n",
       "      <td>«16+» - для детей старше 16 лет</td>\n",
       "      <td>0.00</td>\n",
       "      <td>35,000,000.00</td>\n",
       "      <td>0.00</td>\n",
       "      <td>Фонд кино</td>\n",
       "      <td>5.10</td>\n",
       "      <td>комедия,мелодрама</td>\n",
       "      <td>72,937,783.20</td>\n",
       "    </tr>\n",
       "    <tr>\n",
       "      <th>2873</th>\n",
       "      <td>Помню - не помню!</td>\n",
       "      <td>111,004,916.00</td>\n",
       "      <td>2016-03-01 12:00:00+00:00</td>\n",
       "      <td>Художественный</td>\n",
       "      <td>ООО \"КиноФирма\"</td>\n",
       "      <td>Россия</td>\n",
       "      <td>В.Ровенский</td>\n",
       "      <td>ООО \"КиноФирма\"</td>\n",
       "      <td>«12+» - для детей старше 12 лет</td>\n",
       "      <td>0.00</td>\n",
       "      <td>6,000,000.00</td>\n",
       "      <td>0.00</td>\n",
       "      <td>Министерство культуры</td>\n",
       "      <td>4.30</td>\n",
       "      <td>комедия</td>\n",
       "      <td>15,362,931.43</td>\n",
       "    </tr>\n",
       "    <tr>\n",
       "      <th>3046</th>\n",
       "      <td>Любовь с ограничениями</td>\n",
       "      <td>111,008,216.00</td>\n",
       "      <td>2016-04-29 12:00:00+00:00</td>\n",
       "      <td>Художественный</td>\n",
       "      <td>АО \"ВайТ Медиа\", ООО \"Арт Пикчерс Студия\"</td>\n",
       "      <td>Россия</td>\n",
       "      <td>Д.Тюрин</td>\n",
       "      <td>Ф.Бондарчук, Т.Вайнштейн, Д.Рудовский</td>\n",
       "      <td>«16+» - для детей старше 16 лет</td>\n",
       "      <td>19,000,000.00</td>\n",
       "      <td>51,000,000.00</td>\n",
       "      <td>0.00</td>\n",
       "      <td>Фонд кино</td>\n",
       "      <td>6.30</td>\n",
       "      <td>комедия,мелодрама</td>\n",
       "      <td>70,299,052.00</td>\n",
       "    </tr>\n",
       "    <tr>\n",
       "      <th>3564</th>\n",
       "      <td>Притяжение (2016)</td>\n",
       "      <td>111,018,116.00</td>\n",
       "      <td>2016-12-16 12:00:00+00:00</td>\n",
       "      <td>Художественный</td>\n",
       "      <td>ООО \"Водород 2011\",  ООО \"Арт Пикчерс Студия\"</td>\n",
       "      <td>Россия</td>\n",
       "      <td>Ф.Бондарчук</td>\n",
       "      <td>ООО \"Арт Пикчерс Студия\"</td>\n",
       "      <td>«12+» - для детей старше 12 лет</td>\n",
       "      <td>0.00</td>\n",
       "      <td>250,000,000.00</td>\n",
       "      <td>0.00</td>\n",
       "      <td>Фонд кино</td>\n",
       "      <td>5.60</td>\n",
       "      <td>фантастика</td>\n",
       "      <td>1,038,321,489.00</td>\n",
       "    </tr>\n",
       "    <tr>\n",
       "      <th>3674</th>\n",
       "      <td>Чудо-юдо</td>\n",
       "      <td>114,001,817.00</td>\n",
       "      <td>2017-06-27 12:00:00+00:00</td>\n",
       "      <td>Анимационный</td>\n",
       "      <td>ООО \"КиноФирма\"</td>\n",
       "      <td>Россия</td>\n",
       "      <td>А.Лукичев</td>\n",
       "      <td>ООО \"КиноФирма\"</td>\n",
       "      <td>«6+» - для детей старше 6 лет</td>\n",
       "      <td>20,000,000.00</td>\n",
       "      <td>20,000,000.00</td>\n",
       "      <td>0.00</td>\n",
       "      <td>Фонд кино</td>\n",
       "      <td>5.20</td>\n",
       "      <td>мультфильм,фэнтези,семейный</td>\n",
       "      <td>55,108,014.76</td>\n",
       "    </tr>\n",
       "    <tr>\n",
       "      <th>3738</th>\n",
       "      <td>Мифы</td>\n",
       "      <td>111,004,317.00</td>\n",
       "      <td>2017-06-07 12:00:00+00:00</td>\n",
       "      <td>Художественный</td>\n",
       "      <td>ООО \"ХАЙПФИЛМ\", ООО \"Арт Пикчерс Студия\"</td>\n",
       "      <td>Россия</td>\n",
       "      <td>А.Молочников</td>\n",
       "      <td>Ф.Бондарчук, Д.Рудовский, И.Стюарт, М.Османн, ...</td>\n",
       "      <td>«16+» - для детей старше 16 лет</td>\n",
       "      <td>25,000,000.00</td>\n",
       "      <td>20,000,000.00</td>\n",
       "      <td>0.00</td>\n",
       "      <td>Фонд кино</td>\n",
       "      <td>4.80</td>\n",
       "      <td>комедия</td>\n",
       "      <td>50,451,949.00</td>\n",
       "    </tr>\n",
       "    <tr>\n",
       "      <th>5672</th>\n",
       "      <td>Селфи</td>\n",
       "      <td>111,012,117.00</td>\n",
       "      <td>2018-02-01 12:00:00+00:00</td>\n",
       "      <td>Художественный</td>\n",
       "      <td>ООО \"Киностудия \"Слово\", ООО \"Арт Пикчерс Студия\"</td>\n",
       "      <td>Россия</td>\n",
       "      <td>Н.Хомерики</td>\n",
       "      <td>П.Ануров, Ф.Бондарчук, Д.Рудовский</td>\n",
       "      <td>«16+» - для детей старше 16 лет</td>\n",
       "      <td>20,000,000.00</td>\n",
       "      <td>40,000,000.00</td>\n",
       "      <td>0.00</td>\n",
       "      <td>Фонд кино</td>\n",
       "      <td>5.80</td>\n",
       "      <td>триллер,драма</td>\n",
       "      <td>225,196,400.03</td>\n",
       "    </tr>\n",
       "    <tr>\n",
       "      <th>5805</th>\n",
       "      <td>Два хвоста</td>\n",
       "      <td>114,001,018.00</td>\n",
       "      <td>2018-05-31 12:00:00+00:00</td>\n",
       "      <td>Анимационный</td>\n",
       "      <td>ООО \"ЛИЦЕНЗИОННЫЕ БРЕНДЫ\"</td>\n",
       "      <td>Россия</td>\n",
       "      <td>В.Ровенский, Н.Лопато, В.Азеев</td>\n",
       "      <td>ООО \"ЛИЦЕНЗИОННЫЕ БРЕНДЫ\"</td>\n",
       "      <td>«6+» - для детей старше 6 лет</td>\n",
       "      <td>10,000,000.00</td>\n",
       "      <td>60,000,000.00</td>\n",
       "      <td>0.00</td>\n",
       "      <td>Фонд кино</td>\n",
       "      <td>5.00</td>\n",
       "      <td>мультфильм,детский</td>\n",
       "      <td>106,514,301.03</td>\n",
       "    </tr>\n",
       "    <tr>\n",
       "      <th>6007</th>\n",
       "      <td>Принцесса и дракон</td>\n",
       "      <td>114,003,018.00</td>\n",
       "      <td>2018-08-23 12:00:00+00:00</td>\n",
       "      <td>Анимационный</td>\n",
       "      <td>ООО \"ЛИЦЕНЗИОННЫЕ БРЕНДЫ\"</td>\n",
       "      <td>Россия</td>\n",
       "      <td>М.Нефедова</td>\n",
       "      <td>ООО \"ЛИЦЕНЗИОННЫЕ БРЕНДЫ\"</td>\n",
       "      <td>«6+» - для детей старше 6 лет</td>\n",
       "      <td>40,000,000.00</td>\n",
       "      <td>40,000,000.00</td>\n",
       "      <td>0.00</td>\n",
       "      <td>Фонд кино</td>\n",
       "      <td>5.20</td>\n",
       "      <td>мультфильм,фэнтези,детский</td>\n",
       "      <td>83,366,328.66</td>\n",
       "    </tr>\n",
       "    <tr>\n",
       "      <th>6322</th>\n",
       "      <td>Баба Яга</td>\n",
       "      <td>114,006,518.00</td>\n",
       "      <td>2018-11-08 12:00:00+00:00</td>\n",
       "      <td>Анимационный</td>\n",
       "      <td>ООО \"Арт Пикчерс Студия\"</td>\n",
       "      <td>Россия</td>\n",
       "      <td>В.Саков</td>\n",
       "      <td>ООО \"Арт Пикчерс Студия\", ООО \"КРИЭЙТИВ АНИМЭЙ...</td>\n",
       "      <td>«6+» - для детей старше 6 лет</td>\n",
       "      <td>0.00</td>\n",
       "      <td>138,969,465.00</td>\n",
       "      <td>0.00</td>\n",
       "      <td>Фонд кино</td>\n",
       "      <td>NaN</td>\n",
       "      <td>Без жанра</td>\n",
       "      <td>1,334,699.40</td>\n",
       "    </tr>\n",
       "    <tr>\n",
       "      <th>6822</th>\n",
       "      <td>Большое путешествие</td>\n",
       "      <td>114,002,419.00</td>\n",
       "      <td>2019-04-20 12:00:00+00:00</td>\n",
       "      <td>Анимационный</td>\n",
       "      <td>ООО \"ЛИЦЕНЗИОННЫЕ БРЕНДЫ\"</td>\n",
       "      <td>Россия</td>\n",
       "      <td>Н.Лопато, В.Ровенский</td>\n",
       "      <td>ООО \"ЛИЦЕНЗИОННЫЕ БРЕНДЫ\"</td>\n",
       "      <td>«6+» - для детей старше 6 лет</td>\n",
       "      <td>60,000,000.00</td>\n",
       "      <td>120,000,000.00</td>\n",
       "      <td>0.00</td>\n",
       "      <td>Фонд кино</td>\n",
       "      <td>6.20</td>\n",
       "      <td>мультфильм,комедия,приключения</td>\n",
       "      <td>147,606,826.51</td>\n",
       "    </tr>\n",
       "  </tbody>\n",
       "</table>\n",
       "</div>"
      ],
      "text/plain": [
       "                       title       puNumber           show_start_date  \\\n",
       "2052                     14+ 111,023,614.00 2014-12-19 12:00:00+00:00   \n",
       "2057               Дуxless 2 111,000,415.00 2015-01-26 12:00:00+00:00   \n",
       "2471             Воин (2015) 111,017,315.00 2015-09-28 12:00:00+00:00   \n",
       "2531                 Бармен. 111,009,615.00 2015-05-26 12:00:00+00:00   \n",
       "2614     Савва. Сердце воина 114,001,715.00 2015-07-21 12:00:00+00:00   \n",
       "2683          Тряпичный союз 111,010,215.00 2015-06-08 12:00:00+00:00   \n",
       "2787      Срочно выйду замуж 111,017,115.00 2015-09-30 12:00:00+00:00   \n",
       "2873       Помню - не помню! 111,004,916.00 2016-03-01 12:00:00+00:00   \n",
       "3046  Любовь с ограничениями 111,008,216.00 2016-04-29 12:00:00+00:00   \n",
       "3564       Притяжение (2016) 111,018,116.00 2016-12-16 12:00:00+00:00   \n",
       "3674                Чудо-юдо 114,001,817.00 2017-06-27 12:00:00+00:00   \n",
       "3738                    Мифы 111,004,317.00 2017-06-07 12:00:00+00:00   \n",
       "5672                   Селфи 111,012,117.00 2018-02-01 12:00:00+00:00   \n",
       "5805              Два хвоста 114,001,018.00 2018-05-31 12:00:00+00:00   \n",
       "6007      Принцесса и дракон 114,003,018.00 2018-08-23 12:00:00+00:00   \n",
       "6322                Баба Яга 114,006,518.00 2018-11-08 12:00:00+00:00   \n",
       "6822     Большое путешествие 114,002,419.00 2019-04-20 12:00:00+00:00   \n",
       "\n",
       "                type                                        film_studio  \\\n",
       "2052  Художественный                         ООО Киностудия  \"Сентябрь\"   \n",
       "2057  Художественный  ООО \"Киностудия \"Слово\", ООО \"Арт Пикчерс Студия\"   \n",
       "2471  Художественный   ООО \"Форпост Продакшн\", ООО \"Арт Пикчерс Студия\"   \n",
       "2531  Художественный          АО \"ВайТ Медиа\", ООО \"Арт Пикчерс Студия\"   \n",
       "2614    Анимационный   ООО \"Глюкоза Продакшн\", ООО \"Арт Пикчерс Студия\"   \n",
       "2683  Художественный                      ООО \"Кинокомпания \"КОКТЕБЕЛЬ\"   \n",
       "2787  Художественный          АО \"ВайТ Медиа\", ООО \"Арт Пикчерс Студия\"   \n",
       "2873  Художественный                                    ООО \"КиноФирма\"   \n",
       "3046  Художественный          АО \"ВайТ Медиа\", ООО \"Арт Пикчерс Студия\"   \n",
       "3564  Художественный      ООО \"Водород 2011\",  ООО \"Арт Пикчерс Студия\"   \n",
       "3674    Анимационный                                    ООО \"КиноФирма\"   \n",
       "3738  Художественный           ООО \"ХАЙПФИЛМ\", ООО \"Арт Пикчерс Студия\"   \n",
       "5672  Художественный  ООО \"Киностудия \"Слово\", ООО \"Арт Пикчерс Студия\"   \n",
       "5805    Анимационный                          ООО \"ЛИЦЕНЗИОННЫЕ БРЕНДЫ\"   \n",
       "6007    Анимационный                          ООО \"ЛИЦЕНЗИОННЫЕ БРЕНДЫ\"   \n",
       "6322    Анимационный                           ООО \"Арт Пикчерс Студия\"   \n",
       "6822    Анимационный                          ООО \"ЛИЦЕНЗИОННЫЕ БРЕНДЫ\"   \n",
       "\n",
       "     production_country                        director  \\\n",
       "2052             Россия                        А.Зайцев   \n",
       "2057             Россия                      Р.Прыгунов   \n",
       "2471             Россия                     А.Андрианов   \n",
       "2531             Россия                    Д.Штурманова   \n",
       "2614             Россия                        М.Фадеев   \n",
       "2683             Россия                     М.Местецкий   \n",
       "2787             Россия                       С Чекалов   \n",
       "2873             Россия                     В.Ровенский   \n",
       "3046             Россия                         Д.Тюрин   \n",
       "3564             Россия                     Ф.Бондарчук   \n",
       "3674             Россия                       А.Лукичев   \n",
       "3738             Россия                    А.Молочников   \n",
       "5672             Россия                      Н.Хомерики   \n",
       "5805             Россия  В.Ровенский, Н.Лопато, В.Азеев   \n",
       "6007             Россия                      М.Нефедова   \n",
       "6322             Россия                         В.Саков   \n",
       "6822             Россия           Н.Лопато, В.Ровенский   \n",
       "\n",
       "                                               producer  \\\n",
       "2052                                О.Гранина, А.Зайцев   \n",
       "2057                 П.Ануров, Ф.Бондарчук, Д.Рудовский   \n",
       "2471                           ООО \"Арт Пикчерс Студия\"   \n",
       "2531                                        Т.Вайнштейн   \n",
       "2614                                         А.Чистяков   \n",
       "2683                              Р.Борисевич, А.Кушаев   \n",
       "2787              Ф.Бондарчук, Т.Вайнштейн, Д.Рудовский   \n",
       "2873                                    ООО \"КиноФирма\"   \n",
       "3046              Ф.Бондарчук, Т.Вайнштейн, Д.Рудовский   \n",
       "3564                           ООО \"Арт Пикчерс Студия\"   \n",
       "3674                                    ООО \"КиноФирма\"   \n",
       "3738  Ф.Бондарчук, Д.Рудовский, И.Стюарт, М.Османн, ...   \n",
       "5672                 П.Ануров, Ф.Бондарчук, Д.Рудовский   \n",
       "5805                          ООО \"ЛИЦЕНЗИОННЫЕ БРЕНДЫ\"   \n",
       "6007                          ООО \"ЛИЦЕНЗИОННЫЕ БРЕНДЫ\"   \n",
       "6322  ООО \"Арт Пикчерс Студия\", ООО \"КРИЭЙТИВ АНИМЭЙ...   \n",
       "6822                          ООО \"ЛИЦЕНЗИОННЫЕ БРЕНДЫ\"   \n",
       "\n",
       "                      age_restriction  refundable_support  \\\n",
       "2052  «16+» - для детей старше 16 лет                0.00   \n",
       "2057  «16+» - для детей старше 16 лет                0.00   \n",
       "2471  «12+» - для детей старше 12 лет       10,000,000.00   \n",
       "2531  «16+» - для детей старше 16 лет       20,000,000.00   \n",
       "2614    «6+» - для детей старше 6 лет       60,000,000.00   \n",
       "2683      «18+» - запрещено для детей                0.00   \n",
       "2787  «16+» - для детей старше 16 лет                0.00   \n",
       "2873  «12+» - для детей старше 12 лет                0.00   \n",
       "3046  «16+» - для детей старше 16 лет       19,000,000.00   \n",
       "3564  «12+» - для детей старше 12 лет                0.00   \n",
       "3674    «6+» - для детей старше 6 лет       20,000,000.00   \n",
       "3738  «16+» - для детей старше 16 лет       25,000,000.00   \n",
       "5672  «16+» - для детей старше 16 лет       20,000,000.00   \n",
       "5805    «6+» - для детей старше 6 лет       10,000,000.00   \n",
       "6007    «6+» - для детей старше 6 лет       40,000,000.00   \n",
       "6322    «6+» - для детей старше 6 лет                0.00   \n",
       "6822    «6+» - для детей старше 6 лет       60,000,000.00   \n",
       "\n",
       "      nonrefundable_support  budget                  financing_source  \\\n",
       "2052          23,000,000.00    0.00  Министерство культуры, Фонд кино   \n",
       "2057          75,000,000.00    0.00                         Фонд кино   \n",
       "2471          70,000,000.00    0.00                         Фонд кино   \n",
       "2531                   0.00    0.00                         Фонд кино   \n",
       "2614         100,000,000.00    0.00                         Фонд кино   \n",
       "2683          59,000,000.00    0.00                         Фонд кино   \n",
       "2787          35,000,000.00    0.00                         Фонд кино   \n",
       "2873           6,000,000.00    0.00             Министерство культуры   \n",
       "3046          51,000,000.00    0.00                         Фонд кино   \n",
       "3564         250,000,000.00    0.00                         Фонд кино   \n",
       "3674          20,000,000.00    0.00                         Фонд кино   \n",
       "3738          20,000,000.00    0.00                         Фонд кино   \n",
       "5672          40,000,000.00    0.00                         Фонд кино   \n",
       "5805          60,000,000.00    0.00                         Фонд кино   \n",
       "6007          40,000,000.00    0.00                         Фонд кино   \n",
       "6322         138,969,465.00    0.00                         Фонд кино   \n",
       "6822         120,000,000.00    0.00                         Фонд кино   \n",
       "\n",
       "      ratings                          genres       box_office  \n",
       "2052     6.60                       мелодрама    10,234,016.10  \n",
       "2057     6.60                           драма   446,163,511.00  \n",
       "2471     7.80           боевик,драма,криминал   196,572,438.40  \n",
       "2531     6.20                 комедия,фэнтези    67,418,974.80  \n",
       "2614     4.60  мультфильм,приключения,фэнтези   184,487,551.40  \n",
       "2683     6.30                   комедия,драма     1,957,738.51  \n",
       "2787     5.10               комедия,мелодрама    72,937,783.20  \n",
       "2873     4.30                         комедия    15,362,931.43  \n",
       "3046     6.30               комедия,мелодрама    70,299,052.00  \n",
       "3564     5.60                      фантастика 1,038,321,489.00  \n",
       "3674     5.20     мультфильм,фэнтези,семейный    55,108,014.76  \n",
       "3738     4.80                         комедия    50,451,949.00  \n",
       "5672     5.80                   триллер,драма   225,196,400.03  \n",
       "5805     5.00              мультфильм,детский   106,514,301.03  \n",
       "6007     5.20      мультфильм,фэнтези,детский    83,366,328.66  \n",
       "6322      NaN                       Без жанра     1,334,699.40  \n",
       "6822     6.20  мультфильм,комедия,приключения   147,606,826.51  "
      ]
     },
     "execution_count": 58,
     "metadata": {},
     "output_type": "execute_result"
    }
   ],
   "source": [
    "data_list = data[data['budget'] < (data['refundable_support'] + data['nonrefundable_support'])]\n",
    "data_list"
   ]
  },
  {
   "cell_type": "markdown",
   "metadata": {},
   "source": [
    "Некоторые фильмы получили государственную поддержку, но при этом в бюджете указана сумма 0. Предположим, что процент поддержки всегда примерно одинаков и мы можем заменить эту сумму медианным процентом от поддержки."
   ]
  },
  {
   "cell_type": "markdown",
   "metadata": {},
   "source": [
    "Найдем медиану по тем суммам, которые выделялись другим фильмам, определим процент государственной поддержки."
   ]
  },
  {
   "cell_type": "code",
   "execution_count": 59,
   "metadata": {},
   "outputs": [
    {
     "data": {
      "text/plain": [
       "61"
      ]
     },
     "execution_count": 59,
     "metadata": {},
     "output_type": "execute_result"
    }
   ],
   "source": [
    "data_budget_median  = ((data['refundable_support'] + data['nonrefundable_support']) / data['budget']).median()\n",
    "\n",
    "round(data_budget_median * 100 )"
   ]
  },
  {
   "cell_type": "markdown",
   "metadata": {},
   "source": [
    "Процент государственной поддержки обычно равен 61%."
   ]
  },
  {
   "cell_type": "markdown",
   "metadata": {},
   "source": [
    "Заполним пропущенные значения в budget."
   ]
  },
  {
   "cell_type": "code",
   "execution_count": 60,
   "metadata": {},
   "outputs": [
    {
     "data": {
      "text/html": [
       "<div>\n",
       "<style scoped>\n",
       "    .dataframe tbody tr th:only-of-type {\n",
       "        vertical-align: middle;\n",
       "    }\n",
       "\n",
       "    .dataframe tbody tr th {\n",
       "        vertical-align: top;\n",
       "    }\n",
       "\n",
       "    .dataframe thead th {\n",
       "        text-align: right;\n",
       "    }\n",
       "</style>\n",
       "<table border=\"1\" class=\"dataframe\">\n",
       "  <thead>\n",
       "    <tr style=\"text-align: right;\">\n",
       "      <th></th>\n",
       "      <th>title</th>\n",
       "      <th>puNumber</th>\n",
       "      <th>show_start_date</th>\n",
       "      <th>type</th>\n",
       "      <th>film_studio</th>\n",
       "      <th>production_country</th>\n",
       "      <th>director</th>\n",
       "      <th>producer</th>\n",
       "      <th>age_restriction</th>\n",
       "      <th>refundable_support</th>\n",
       "      <th>nonrefundable_support</th>\n",
       "      <th>budget</th>\n",
       "      <th>financing_source</th>\n",
       "      <th>ratings</th>\n",
       "      <th>genres</th>\n",
       "      <th>box_office</th>\n",
       "    </tr>\n",
       "  </thead>\n",
       "  <tbody>\n",
       "    <tr>\n",
       "      <th>2052</th>\n",
       "      <td>14+</td>\n",
       "      <td>111,023,614.00</td>\n",
       "      <td>2014-12-19 12:00:00+00:00</td>\n",
       "      <td>Художественный</td>\n",
       "      <td>ООО Киностудия  \"Сентябрь\"</td>\n",
       "      <td>Россия</td>\n",
       "      <td>А.Зайцев</td>\n",
       "      <td>О.Гранина, А.Зайцев</td>\n",
       "      <td>«16+» - для детей старше 16 лет</td>\n",
       "      <td>0.00</td>\n",
       "      <td>23,000,000.00</td>\n",
       "      <td>37,456,987.87</td>\n",
       "      <td>Министерство культуры, Фонд кино</td>\n",
       "      <td>6.60</td>\n",
       "      <td>мелодрама</td>\n",
       "      <td>10,234,016.10</td>\n",
       "    </tr>\n",
       "    <tr>\n",
       "      <th>2057</th>\n",
       "      <td>Дуxless 2</td>\n",
       "      <td>111,000,415.00</td>\n",
       "      <td>2015-01-26 12:00:00+00:00</td>\n",
       "      <td>Художественный</td>\n",
       "      <td>ООО \"Киностудия \"Слово\", ООО \"Арт Пикчерс Студия\"</td>\n",
       "      <td>Россия</td>\n",
       "      <td>Р.Прыгунов</td>\n",
       "      <td>П.Ануров, Ф.Бондарчук, Д.Рудовский</td>\n",
       "      <td>«16+» - для детей старше 16 лет</td>\n",
       "      <td>0.00</td>\n",
       "      <td>75,000,000.00</td>\n",
       "      <td>122,142,351.75</td>\n",
       "      <td>Фонд кино</td>\n",
       "      <td>6.60</td>\n",
       "      <td>драма</td>\n",
       "      <td>446,163,511.00</td>\n",
       "    </tr>\n",
       "    <tr>\n",
       "      <th>2471</th>\n",
       "      <td>Воин (2015)</td>\n",
       "      <td>111,017,315.00</td>\n",
       "      <td>2015-09-28 12:00:00+00:00</td>\n",
       "      <td>Художественный</td>\n",
       "      <td>ООО \"Форпост Продакшн\", ООО \"Арт Пикчерс Студия\"</td>\n",
       "      <td>Россия</td>\n",
       "      <td>А.Андрианов</td>\n",
       "      <td>ООО \"Арт Пикчерс Студия\"</td>\n",
       "      <td>«12+» - для детей старше 12 лет</td>\n",
       "      <td>10,000,000.00</td>\n",
       "      <td>70,000,000.00</td>\n",
       "      <td>130,285,175.20</td>\n",
       "      <td>Фонд кино</td>\n",
       "      <td>7.80</td>\n",
       "      <td>боевик,драма,криминал</td>\n",
       "      <td>196,572,438.40</td>\n",
       "    </tr>\n",
       "    <tr>\n",
       "      <th>2531</th>\n",
       "      <td>Бармен.</td>\n",
       "      <td>111,009,615.00</td>\n",
       "      <td>2015-05-26 12:00:00+00:00</td>\n",
       "      <td>Художественный</td>\n",
       "      <td>АО \"ВайТ Медиа\", ООО \"Арт Пикчерс Студия\"</td>\n",
       "      <td>Россия</td>\n",
       "      <td>Д.Штурманова</td>\n",
       "      <td>Т.Вайнштейн</td>\n",
       "      <td>«16+» - для детей старше 16 лет</td>\n",
       "      <td>20,000,000.00</td>\n",
       "      <td>0.00</td>\n",
       "      <td>32,571,293.80</td>\n",
       "      <td>Фонд кино</td>\n",
       "      <td>6.20</td>\n",
       "      <td>комедия,фэнтези</td>\n",
       "      <td>67,418,974.80</td>\n",
       "    </tr>\n",
       "    <tr>\n",
       "      <th>2614</th>\n",
       "      <td>Савва. Сердце воина</td>\n",
       "      <td>114,001,715.00</td>\n",
       "      <td>2015-07-21 12:00:00+00:00</td>\n",
       "      <td>Анимационный</td>\n",
       "      <td>ООО \"Глюкоза Продакшн\", ООО \"Арт Пикчерс Студия\"</td>\n",
       "      <td>Россия</td>\n",
       "      <td>М.Фадеев</td>\n",
       "      <td>А.Чистяков</td>\n",
       "      <td>«6+» - для детей старше 6 лет</td>\n",
       "      <td>60,000,000.00</td>\n",
       "      <td>100,000,000.00</td>\n",
       "      <td>260,570,350.41</td>\n",
       "      <td>Фонд кино</td>\n",
       "      <td>4.60</td>\n",
       "      <td>мультфильм,приключения,фэнтези</td>\n",
       "      <td>184,487,551.40</td>\n",
       "    </tr>\n",
       "    <tr>\n",
       "      <th>2683</th>\n",
       "      <td>Тряпичный союз</td>\n",
       "      <td>111,010,215.00</td>\n",
       "      <td>2015-06-08 12:00:00+00:00</td>\n",
       "      <td>Художественный</td>\n",
       "      <td>ООО \"Кинокомпания \"КОКТЕБЕЛЬ\"</td>\n",
       "      <td>Россия</td>\n",
       "      <td>М.Местецкий</td>\n",
       "      <td>Р.Борисевич, А.Кушаев</td>\n",
       "      <td>«18+» - запрещено для детей</td>\n",
       "      <td>0.00</td>\n",
       "      <td>59,000,000.00</td>\n",
       "      <td>96,085,316.71</td>\n",
       "      <td>Фонд кино</td>\n",
       "      <td>6.30</td>\n",
       "      <td>комедия,драма</td>\n",
       "      <td>1,957,738.51</td>\n",
       "    </tr>\n",
       "    <tr>\n",
       "      <th>2787</th>\n",
       "      <td>Срочно выйду замуж</td>\n",
       "      <td>111,017,115.00</td>\n",
       "      <td>2015-09-30 12:00:00+00:00</td>\n",
       "      <td>Художественный</td>\n",
       "      <td>АО \"ВайТ Медиа\", ООО \"Арт Пикчерс Студия\"</td>\n",
       "      <td>Россия</td>\n",
       "      <td>С Чекалов</td>\n",
       "      <td>Ф.Бондарчук, Т.Вайнштейн, Д.Рудовский</td>\n",
       "      <td>«16+» - для детей старше 16 лет</td>\n",
       "      <td>0.00</td>\n",
       "      <td>35,000,000.00</td>\n",
       "      <td>56,999,764.15</td>\n",
       "      <td>Фонд кино</td>\n",
       "      <td>5.10</td>\n",
       "      <td>комедия,мелодрама</td>\n",
       "      <td>72,937,783.20</td>\n",
       "    </tr>\n",
       "    <tr>\n",
       "      <th>2873</th>\n",
       "      <td>Помню - не помню!</td>\n",
       "      <td>111,004,916.00</td>\n",
       "      <td>2016-03-01 12:00:00+00:00</td>\n",
       "      <td>Художественный</td>\n",
       "      <td>ООО \"КиноФирма\"</td>\n",
       "      <td>Россия</td>\n",
       "      <td>В.Ровенский</td>\n",
       "      <td>ООО \"КиноФирма\"</td>\n",
       "      <td>«12+» - для детей старше 12 лет</td>\n",
       "      <td>0.00</td>\n",
       "      <td>6,000,000.00</td>\n",
       "      <td>9,771,388.14</td>\n",
       "      <td>Министерство культуры</td>\n",
       "      <td>4.30</td>\n",
       "      <td>комедия</td>\n",
       "      <td>15,362,931.43</td>\n",
       "    </tr>\n",
       "    <tr>\n",
       "      <th>3046</th>\n",
       "      <td>Любовь с ограничениями</td>\n",
       "      <td>111,008,216.00</td>\n",
       "      <td>2016-04-29 12:00:00+00:00</td>\n",
       "      <td>Художественный</td>\n",
       "      <td>АО \"ВайТ Медиа\", ООО \"Арт Пикчерс Студия\"</td>\n",
       "      <td>Россия</td>\n",
       "      <td>Д.Тюрин</td>\n",
       "      <td>Ф.Бондарчук, Т.Вайнштейн, Д.Рудовский</td>\n",
       "      <td>«16+» - для детей старше 16 лет</td>\n",
       "      <td>19,000,000.00</td>\n",
       "      <td>51,000,000.00</td>\n",
       "      <td>113,999,528.30</td>\n",
       "      <td>Фонд кино</td>\n",
       "      <td>6.30</td>\n",
       "      <td>комедия,мелодрама</td>\n",
       "      <td>70,299,052.00</td>\n",
       "    </tr>\n",
       "    <tr>\n",
       "      <th>3564</th>\n",
       "      <td>Притяжение (2016)</td>\n",
       "      <td>111,018,116.00</td>\n",
       "      <td>2016-12-16 12:00:00+00:00</td>\n",
       "      <td>Художественный</td>\n",
       "      <td>ООО \"Водород 2011\",  ООО \"Арт Пикчерс Студия\"</td>\n",
       "      <td>Россия</td>\n",
       "      <td>Ф.Бондарчук</td>\n",
       "      <td>ООО \"Арт Пикчерс Студия\"</td>\n",
       "      <td>«12+» - для детей старше 12 лет</td>\n",
       "      <td>0.00</td>\n",
       "      <td>250,000,000.00</td>\n",
       "      <td>407,141,172.51</td>\n",
       "      <td>Фонд кино</td>\n",
       "      <td>5.60</td>\n",
       "      <td>фантастика</td>\n",
       "      <td>1,038,321,489.00</td>\n",
       "    </tr>\n",
       "    <tr>\n",
       "      <th>3674</th>\n",
       "      <td>Чудо-юдо</td>\n",
       "      <td>114,001,817.00</td>\n",
       "      <td>2017-06-27 12:00:00+00:00</td>\n",
       "      <td>Анимационный</td>\n",
       "      <td>ООО \"КиноФирма\"</td>\n",
       "      <td>Россия</td>\n",
       "      <td>А.Лукичев</td>\n",
       "      <td>ООО \"КиноФирма\"</td>\n",
       "      <td>«6+» - для детей старше 6 лет</td>\n",
       "      <td>20,000,000.00</td>\n",
       "      <td>20,000,000.00</td>\n",
       "      <td>65,142,587.60</td>\n",
       "      <td>Фонд кино</td>\n",
       "      <td>5.20</td>\n",
       "      <td>мультфильм,фэнтези,семейный</td>\n",
       "      <td>55,108,014.76</td>\n",
       "    </tr>\n",
       "    <tr>\n",
       "      <th>3738</th>\n",
       "      <td>Мифы</td>\n",
       "      <td>111,004,317.00</td>\n",
       "      <td>2017-06-07 12:00:00+00:00</td>\n",
       "      <td>Художественный</td>\n",
       "      <td>ООО \"ХАЙПФИЛМ\", ООО \"Арт Пикчерс Студия\"</td>\n",
       "      <td>Россия</td>\n",
       "      <td>А.Молочников</td>\n",
       "      <td>Ф.Бондарчук, Д.Рудовский, И.Стюарт, М.Османн, ...</td>\n",
       "      <td>«16+» - для детей старше 16 лет</td>\n",
       "      <td>25,000,000.00</td>\n",
       "      <td>20,000,000.00</td>\n",
       "      <td>73,285,411.05</td>\n",
       "      <td>Фонд кино</td>\n",
       "      <td>4.80</td>\n",
       "      <td>комедия</td>\n",
       "      <td>50,451,949.00</td>\n",
       "    </tr>\n",
       "    <tr>\n",
       "      <th>5672</th>\n",
       "      <td>Селфи</td>\n",
       "      <td>111,012,117.00</td>\n",
       "      <td>2018-02-01 12:00:00+00:00</td>\n",
       "      <td>Художественный</td>\n",
       "      <td>ООО \"Киностудия \"Слово\", ООО \"Арт Пикчерс Студия\"</td>\n",
       "      <td>Россия</td>\n",
       "      <td>Н.Хомерики</td>\n",
       "      <td>П.Ануров, Ф.Бондарчук, Д.Рудовский</td>\n",
       "      <td>«16+» - для детей старше 16 лет</td>\n",
       "      <td>20,000,000.00</td>\n",
       "      <td>40,000,000.00</td>\n",
       "      <td>97,713,881.40</td>\n",
       "      <td>Фонд кино</td>\n",
       "      <td>5.80</td>\n",
       "      <td>триллер,драма</td>\n",
       "      <td>225,196,400.03</td>\n",
       "    </tr>\n",
       "    <tr>\n",
       "      <th>5805</th>\n",
       "      <td>Два хвоста</td>\n",
       "      <td>114,001,018.00</td>\n",
       "      <td>2018-05-31 12:00:00+00:00</td>\n",
       "      <td>Анимационный</td>\n",
       "      <td>ООО \"ЛИЦЕНЗИОННЫЕ БРЕНДЫ\"</td>\n",
       "      <td>Россия</td>\n",
       "      <td>В.Ровенский, Н.Лопато, В.Азеев</td>\n",
       "      <td>ООО \"ЛИЦЕНЗИОННЫЕ БРЕНДЫ\"</td>\n",
       "      <td>«6+» - для детей старше 6 лет</td>\n",
       "      <td>10,000,000.00</td>\n",
       "      <td>60,000,000.00</td>\n",
       "      <td>113,999,528.30</td>\n",
       "      <td>Фонд кино</td>\n",
       "      <td>5.00</td>\n",
       "      <td>мультфильм,детский</td>\n",
       "      <td>106,514,301.03</td>\n",
       "    </tr>\n",
       "    <tr>\n",
       "      <th>6007</th>\n",
       "      <td>Принцесса и дракон</td>\n",
       "      <td>114,003,018.00</td>\n",
       "      <td>2018-08-23 12:00:00+00:00</td>\n",
       "      <td>Анимационный</td>\n",
       "      <td>ООО \"ЛИЦЕНЗИОННЫЕ БРЕНДЫ\"</td>\n",
       "      <td>Россия</td>\n",
       "      <td>М.Нефедова</td>\n",
       "      <td>ООО \"ЛИЦЕНЗИОННЫЕ БРЕНДЫ\"</td>\n",
       "      <td>«6+» - для детей старше 6 лет</td>\n",
       "      <td>40,000,000.00</td>\n",
       "      <td>40,000,000.00</td>\n",
       "      <td>130,285,175.20</td>\n",
       "      <td>Фонд кино</td>\n",
       "      <td>5.20</td>\n",
       "      <td>мультфильм,фэнтези,детский</td>\n",
       "      <td>83,366,328.66</td>\n",
       "    </tr>\n",
       "    <tr>\n",
       "      <th>6322</th>\n",
       "      <td>Баба Яга</td>\n",
       "      <td>114,006,518.00</td>\n",
       "      <td>2018-11-08 12:00:00+00:00</td>\n",
       "      <td>Анимационный</td>\n",
       "      <td>ООО \"Арт Пикчерс Студия\"</td>\n",
       "      <td>Россия</td>\n",
       "      <td>В.Саков</td>\n",
       "      <td>ООО \"Арт Пикчерс Студия\", ООО \"КРИЭЙТИВ АНИМЭЙ...</td>\n",
       "      <td>«6+» - для детей старше 6 лет</td>\n",
       "      <td>0.00</td>\n",
       "      <td>138,969,465.00</td>\n",
       "      <td>226,320,763.69</td>\n",
       "      <td>Фонд кино</td>\n",
       "      <td>NaN</td>\n",
       "      <td>Без жанра</td>\n",
       "      <td>1,334,699.40</td>\n",
       "    </tr>\n",
       "    <tr>\n",
       "      <th>6822</th>\n",
       "      <td>Большое путешествие</td>\n",
       "      <td>114,002,419.00</td>\n",
       "      <td>2019-04-20 12:00:00+00:00</td>\n",
       "      <td>Анимационный</td>\n",
       "      <td>ООО \"ЛИЦЕНЗИОННЫЕ БРЕНДЫ\"</td>\n",
       "      <td>Россия</td>\n",
       "      <td>Н.Лопато, В.Ровенский</td>\n",
       "      <td>ООО \"ЛИЦЕНЗИОННЫЕ БРЕНДЫ\"</td>\n",
       "      <td>«6+» - для детей старше 6 лет</td>\n",
       "      <td>60,000,000.00</td>\n",
       "      <td>120,000,000.00</td>\n",
       "      <td>293,141,644.21</td>\n",
       "      <td>Фонд кино</td>\n",
       "      <td>6.20</td>\n",
       "      <td>мультфильм,комедия,приключения</td>\n",
       "      <td>147,606,826.51</td>\n",
       "    </tr>\n",
       "  </tbody>\n",
       "</table>\n",
       "</div>"
      ],
      "text/plain": [
       "                       title       puNumber           show_start_date  \\\n",
       "2052                     14+ 111,023,614.00 2014-12-19 12:00:00+00:00   \n",
       "2057               Дуxless 2 111,000,415.00 2015-01-26 12:00:00+00:00   \n",
       "2471             Воин (2015) 111,017,315.00 2015-09-28 12:00:00+00:00   \n",
       "2531                 Бармен. 111,009,615.00 2015-05-26 12:00:00+00:00   \n",
       "2614     Савва. Сердце воина 114,001,715.00 2015-07-21 12:00:00+00:00   \n",
       "2683          Тряпичный союз 111,010,215.00 2015-06-08 12:00:00+00:00   \n",
       "2787      Срочно выйду замуж 111,017,115.00 2015-09-30 12:00:00+00:00   \n",
       "2873       Помню - не помню! 111,004,916.00 2016-03-01 12:00:00+00:00   \n",
       "3046  Любовь с ограничениями 111,008,216.00 2016-04-29 12:00:00+00:00   \n",
       "3564       Притяжение (2016) 111,018,116.00 2016-12-16 12:00:00+00:00   \n",
       "3674                Чудо-юдо 114,001,817.00 2017-06-27 12:00:00+00:00   \n",
       "3738                    Мифы 111,004,317.00 2017-06-07 12:00:00+00:00   \n",
       "5672                   Селфи 111,012,117.00 2018-02-01 12:00:00+00:00   \n",
       "5805              Два хвоста 114,001,018.00 2018-05-31 12:00:00+00:00   \n",
       "6007      Принцесса и дракон 114,003,018.00 2018-08-23 12:00:00+00:00   \n",
       "6322                Баба Яга 114,006,518.00 2018-11-08 12:00:00+00:00   \n",
       "6822     Большое путешествие 114,002,419.00 2019-04-20 12:00:00+00:00   \n",
       "\n",
       "                type                                        film_studio  \\\n",
       "2052  Художественный                         ООО Киностудия  \"Сентябрь\"   \n",
       "2057  Художественный  ООО \"Киностудия \"Слово\", ООО \"Арт Пикчерс Студия\"   \n",
       "2471  Художественный   ООО \"Форпост Продакшн\", ООО \"Арт Пикчерс Студия\"   \n",
       "2531  Художественный          АО \"ВайТ Медиа\", ООО \"Арт Пикчерс Студия\"   \n",
       "2614    Анимационный   ООО \"Глюкоза Продакшн\", ООО \"Арт Пикчерс Студия\"   \n",
       "2683  Художественный                      ООО \"Кинокомпания \"КОКТЕБЕЛЬ\"   \n",
       "2787  Художественный          АО \"ВайТ Медиа\", ООО \"Арт Пикчерс Студия\"   \n",
       "2873  Художественный                                    ООО \"КиноФирма\"   \n",
       "3046  Художественный          АО \"ВайТ Медиа\", ООО \"Арт Пикчерс Студия\"   \n",
       "3564  Художественный      ООО \"Водород 2011\",  ООО \"Арт Пикчерс Студия\"   \n",
       "3674    Анимационный                                    ООО \"КиноФирма\"   \n",
       "3738  Художественный           ООО \"ХАЙПФИЛМ\", ООО \"Арт Пикчерс Студия\"   \n",
       "5672  Художественный  ООО \"Киностудия \"Слово\", ООО \"Арт Пикчерс Студия\"   \n",
       "5805    Анимационный                          ООО \"ЛИЦЕНЗИОННЫЕ БРЕНДЫ\"   \n",
       "6007    Анимационный                          ООО \"ЛИЦЕНЗИОННЫЕ БРЕНДЫ\"   \n",
       "6322    Анимационный                           ООО \"Арт Пикчерс Студия\"   \n",
       "6822    Анимационный                          ООО \"ЛИЦЕНЗИОННЫЕ БРЕНДЫ\"   \n",
       "\n",
       "     production_country                        director  \\\n",
       "2052             Россия                        А.Зайцев   \n",
       "2057             Россия                      Р.Прыгунов   \n",
       "2471             Россия                     А.Андрианов   \n",
       "2531             Россия                    Д.Штурманова   \n",
       "2614             Россия                        М.Фадеев   \n",
       "2683             Россия                     М.Местецкий   \n",
       "2787             Россия                       С Чекалов   \n",
       "2873             Россия                     В.Ровенский   \n",
       "3046             Россия                         Д.Тюрин   \n",
       "3564             Россия                     Ф.Бондарчук   \n",
       "3674             Россия                       А.Лукичев   \n",
       "3738             Россия                    А.Молочников   \n",
       "5672             Россия                      Н.Хомерики   \n",
       "5805             Россия  В.Ровенский, Н.Лопато, В.Азеев   \n",
       "6007             Россия                      М.Нефедова   \n",
       "6322             Россия                         В.Саков   \n",
       "6822             Россия           Н.Лопато, В.Ровенский   \n",
       "\n",
       "                                               producer  \\\n",
       "2052                                О.Гранина, А.Зайцев   \n",
       "2057                 П.Ануров, Ф.Бондарчук, Д.Рудовский   \n",
       "2471                           ООО \"Арт Пикчерс Студия\"   \n",
       "2531                                        Т.Вайнштейн   \n",
       "2614                                         А.Чистяков   \n",
       "2683                              Р.Борисевич, А.Кушаев   \n",
       "2787              Ф.Бондарчук, Т.Вайнштейн, Д.Рудовский   \n",
       "2873                                    ООО \"КиноФирма\"   \n",
       "3046              Ф.Бондарчук, Т.Вайнштейн, Д.Рудовский   \n",
       "3564                           ООО \"Арт Пикчерс Студия\"   \n",
       "3674                                    ООО \"КиноФирма\"   \n",
       "3738  Ф.Бондарчук, Д.Рудовский, И.Стюарт, М.Османн, ...   \n",
       "5672                 П.Ануров, Ф.Бондарчук, Д.Рудовский   \n",
       "5805                          ООО \"ЛИЦЕНЗИОННЫЕ БРЕНДЫ\"   \n",
       "6007                          ООО \"ЛИЦЕНЗИОННЫЕ БРЕНДЫ\"   \n",
       "6322  ООО \"Арт Пикчерс Студия\", ООО \"КРИЭЙТИВ АНИМЭЙ...   \n",
       "6822                          ООО \"ЛИЦЕНЗИОННЫЕ БРЕНДЫ\"   \n",
       "\n",
       "                      age_restriction  refundable_support  \\\n",
       "2052  «16+» - для детей старше 16 лет                0.00   \n",
       "2057  «16+» - для детей старше 16 лет                0.00   \n",
       "2471  «12+» - для детей старше 12 лет       10,000,000.00   \n",
       "2531  «16+» - для детей старше 16 лет       20,000,000.00   \n",
       "2614    «6+» - для детей старше 6 лет       60,000,000.00   \n",
       "2683      «18+» - запрещено для детей                0.00   \n",
       "2787  «16+» - для детей старше 16 лет                0.00   \n",
       "2873  «12+» - для детей старше 12 лет                0.00   \n",
       "3046  «16+» - для детей старше 16 лет       19,000,000.00   \n",
       "3564  «12+» - для детей старше 12 лет                0.00   \n",
       "3674    «6+» - для детей старше 6 лет       20,000,000.00   \n",
       "3738  «16+» - для детей старше 16 лет       25,000,000.00   \n",
       "5672  «16+» - для детей старше 16 лет       20,000,000.00   \n",
       "5805    «6+» - для детей старше 6 лет       10,000,000.00   \n",
       "6007    «6+» - для детей старше 6 лет       40,000,000.00   \n",
       "6322    «6+» - для детей старше 6 лет                0.00   \n",
       "6822    «6+» - для детей старше 6 лет       60,000,000.00   \n",
       "\n",
       "      nonrefundable_support         budget                  financing_source  \\\n",
       "2052          23,000,000.00  37,456,987.87  Министерство культуры, Фонд кино   \n",
       "2057          75,000,000.00 122,142,351.75                         Фонд кино   \n",
       "2471          70,000,000.00 130,285,175.20                         Фонд кино   \n",
       "2531                   0.00  32,571,293.80                         Фонд кино   \n",
       "2614         100,000,000.00 260,570,350.41                         Фонд кино   \n",
       "2683          59,000,000.00  96,085,316.71                         Фонд кино   \n",
       "2787          35,000,000.00  56,999,764.15                         Фонд кино   \n",
       "2873           6,000,000.00   9,771,388.14             Министерство культуры   \n",
       "3046          51,000,000.00 113,999,528.30                         Фонд кино   \n",
       "3564         250,000,000.00 407,141,172.51                         Фонд кино   \n",
       "3674          20,000,000.00  65,142,587.60                         Фонд кино   \n",
       "3738          20,000,000.00  73,285,411.05                         Фонд кино   \n",
       "5672          40,000,000.00  97,713,881.40                         Фонд кино   \n",
       "5805          60,000,000.00 113,999,528.30                         Фонд кино   \n",
       "6007          40,000,000.00 130,285,175.20                         Фонд кино   \n",
       "6322         138,969,465.00 226,320,763.69                         Фонд кино   \n",
       "6822         120,000,000.00 293,141,644.21                         Фонд кино   \n",
       "\n",
       "      ratings                          genres       box_office  \n",
       "2052     6.60                       мелодрама    10,234,016.10  \n",
       "2057     6.60                           драма   446,163,511.00  \n",
       "2471     7.80           боевик,драма,криминал   196,572,438.40  \n",
       "2531     6.20                 комедия,фэнтези    67,418,974.80  \n",
       "2614     4.60  мультфильм,приключения,фэнтези   184,487,551.40  \n",
       "2683     6.30                   комедия,драма     1,957,738.51  \n",
       "2787     5.10               комедия,мелодрама    72,937,783.20  \n",
       "2873     4.30                         комедия    15,362,931.43  \n",
       "3046     6.30               комедия,мелодрама    70,299,052.00  \n",
       "3564     5.60                      фантастика 1,038,321,489.00  \n",
       "3674     5.20     мультфильм,фэнтези,семейный    55,108,014.76  \n",
       "3738     4.80                         комедия    50,451,949.00  \n",
       "5672     5.80                   триллер,драма   225,196,400.03  \n",
       "5805     5.00              мультфильм,детский   106,514,301.03  \n",
       "6007     5.20      мультфильм,фэнтези,детский    83,366,328.66  \n",
       "6322      NaN                       Без жанра     1,334,699.40  \n",
       "6822     6.20  мультфильм,комедия,приключения   147,606,826.51  "
      ]
     },
     "execution_count": 60,
     "metadata": {},
     "output_type": "execute_result"
    }
   ],
   "source": [
    "data.loc[data_list.index, 'budget'] = (data.loc[data_list.index, 'refundable_support'] + data.loc[data_list.index, 'nonrefundable_support']) / data_budget_median\n",
    "data.loc[data_list.index]"
   ]
  },
  {
   "cell_type": "markdown",
   "metadata": {},
   "source": [
    "<div class=\"alert-success\" style=\"padding: 20px; border-radius: 10px\">\n",
    "<b>Комментарий ревьюера ✔️</b>\n",
    "\n",
    "Хорошая проверка и такая замена возможна. 👌</div>"
   ]
  },
  {
   "cell_type": "markdown",
   "metadata": {
    "id": "Eu6oWp2CgFyS"
   },
   "source": [
    "#### Шаг 2.6. Добавьте новые столбцы\n",
    "\n",
    "\n",
    "\n"
   ]
  },
  {
   "cell_type": "markdown",
   "metadata": {
    "id": "7GgW-UpAgFyS"
   },
   "source": [
    "- Создайте столбец с информацией о годе проката. Выделите год из даты премьеры фильма."
   ]
  },
  {
   "cell_type": "code",
   "execution_count": 61,
   "metadata": {
    "id": "I-yd1DkWgFyT"
   },
   "outputs": [],
   "source": [
    "# добавляем столбец с информацией о годе проката\n",
    "data['show_start_year'] = pd.DatetimeIndex(data['show_start_date']).year"
   ]
  },
  {
   "cell_type": "markdown",
   "metadata": {},
   "source": [
    "<div class=\"alert-warning\" style=\"padding: 20px; border-radius: 10px\">\n",
    "<b>Комментарий ревьюера ⚠️</b>\n",
    "\n",
    "Выделить год из даты можно так: `df['date'].dt.year`"
   ]
  },
  {
   "cell_type": "markdown",
   "metadata": {},
   "source": [
    "<div class=\"alert-info\" style=\"padding: 20px; border-radius: 10px\">\n",
    "<b>Комментарий студента 💎</b>\n",
    "\n",
    "Буду иметь ввиду.\n",
    "</div>"
   ]
  },
  {
   "cell_type": "markdown",
   "metadata": {
    "id": "nFTDLDYOgFyT"
   },
   "source": [
    "- Создайте два столбца: с именем и фамилией главного режиссёра и основным жанром фильма. В столбцы войдут первые значения из списка режиссёров и жанров соответственно.\n",
    "\n",
    "<div id=\"accordion\">\n",
    "    <div class=\"card\">\n",
    "        <div class=\"card-header\" id=\"headingThree\">\n",
    "            <button class=\"btn btn-link collapsed\" data-toggle=\"collapse\" data-target=\"#collapseHint_2\" aria-expanded=\"false\" aria-controls=\"collapseHint_2\">Подсказка</button>\n",
    "        </div>\n",
    "        <div id=\"collapseHint_2\" class=\"collapse\" aria-labelledby=\"headingThree\" data-parent=\"#accordion\">\n",
    "            <div class=\"card-body\">\n",
    "Чтобы создать такие столбцы, лучше всего использовать собственную функцию. Эту функцию можно применить к двум столбцам сразу. \n",
    "            </div>\n",
    "        </div>\n",
    "    </div>\n",
    "</div>"
   ]
  },
  {
   "cell_type": "code",
   "execution_count": 62,
   "metadata": {
    "id": "LSbRZKbMgFyU"
   },
   "outputs": [],
   "source": [
    "def main_data(data, columns):\n",
    "    for column in columns:\n",
    "        data[f'main_{column}'] = data[column].str.split(',').str[0]\n",
    "    return data"
   ]
  },
  {
   "cell_type": "code",
   "execution_count": 63,
   "metadata": {},
   "outputs": [],
   "source": [
    "data = main_data(data, ['director'])"
   ]
  },
  {
   "cell_type": "code",
   "execution_count": 64,
   "metadata": {},
   "outputs": [],
   "source": [
    "data = main_data(data, ['genres'])"
   ]
  },
  {
   "cell_type": "code",
   "execution_count": 65,
   "metadata": {},
   "outputs": [
    {
     "data": {
      "text/html": [
       "<div>\n",
       "<style scoped>\n",
       "    .dataframe tbody tr th:only-of-type {\n",
       "        vertical-align: middle;\n",
       "    }\n",
       "\n",
       "    .dataframe tbody tr th {\n",
       "        vertical-align: top;\n",
       "    }\n",
       "\n",
       "    .dataframe thead th {\n",
       "        text-align: right;\n",
       "    }\n",
       "</style>\n",
       "<table border=\"1\" class=\"dataframe\">\n",
       "  <thead>\n",
       "    <tr style=\"text-align: right;\">\n",
       "      <th></th>\n",
       "      <th>title</th>\n",
       "      <th>puNumber</th>\n",
       "      <th>show_start_date</th>\n",
       "      <th>type</th>\n",
       "      <th>film_studio</th>\n",
       "      <th>production_country</th>\n",
       "      <th>director</th>\n",
       "      <th>producer</th>\n",
       "      <th>age_restriction</th>\n",
       "      <th>refundable_support</th>\n",
       "      <th>nonrefundable_support</th>\n",
       "      <th>budget</th>\n",
       "      <th>financing_source</th>\n",
       "      <th>ratings</th>\n",
       "      <th>genres</th>\n",
       "      <th>box_office</th>\n",
       "      <th>show_start_year</th>\n",
       "      <th>main_director</th>\n",
       "      <th>main_genres</th>\n",
       "    </tr>\n",
       "  </thead>\n",
       "  <tbody>\n",
       "    <tr>\n",
       "      <th>0</th>\n",
       "      <td>Открытый простор</td>\n",
       "      <td>221,048,915.00</td>\n",
       "      <td>2015-11-27 12:00:00+00:00</td>\n",
       "      <td>Художественный</td>\n",
       "      <td>Тачстоун Пикчерз, Кобальт Пикчерз, Бикон Пикче...</td>\n",
       "      <td>США</td>\n",
       "      <td>Кевин Костнер</td>\n",
       "      <td>Дэвид Валдес, Кевин Костнер, Джейк Эбертс</td>\n",
       "      <td>«18+» - запрещено для детей</td>\n",
       "      <td>0.00</td>\n",
       "      <td>0.00</td>\n",
       "      <td>0.00</td>\n",
       "      <td>Коммерческий</td>\n",
       "      <td>7.20</td>\n",
       "      <td>боевик,драма,мелодрама</td>\n",
       "      <td>0.00</td>\n",
       "      <td>2015</td>\n",
       "      <td>Кевин Костнер</td>\n",
       "      <td>боевик</td>\n",
       "    </tr>\n",
       "    <tr>\n",
       "      <th>1</th>\n",
       "      <td>Особо важное задание</td>\n",
       "      <td>111,013,716.00</td>\n",
       "      <td>2016-09-13 12:00:00+00:00</td>\n",
       "      <td>Художественный</td>\n",
       "      <td>Киностудия \"Мосфильм\"</td>\n",
       "      <td>СССР</td>\n",
       "      <td>Е.Матвеев</td>\n",
       "      <td>Без продюсера</td>\n",
       "      <td>«6+» - для детей старше 6 лет</td>\n",
       "      <td>0.00</td>\n",
       "      <td>0.00</td>\n",
       "      <td>0.00</td>\n",
       "      <td>Коммерческий</td>\n",
       "      <td>6.60</td>\n",
       "      <td>драма,военный</td>\n",
       "      <td>0.00</td>\n",
       "      <td>2016</td>\n",
       "      <td>Е.Матвеев</td>\n",
       "      <td>драма</td>\n",
       "    </tr>\n",
       "    <tr>\n",
       "      <th>2</th>\n",
       "      <td>Особо опасен</td>\n",
       "      <td>221,038,416.00</td>\n",
       "      <td>2016-10-10 12:00:00+00:00</td>\n",
       "      <td>Художественный</td>\n",
       "      <td>Юниверсал Пикчерз, Кикстарт Продакшнз, Марк Пл...</td>\n",
       "      <td>США</td>\n",
       "      <td>Тимур Бекмамбетов</td>\n",
       "      <td>Джим Лемли, Джейсон Нетер, Марк Е.Платт, Яйн Смит</td>\n",
       "      <td>«18+» - запрещено для детей</td>\n",
       "      <td>0.00</td>\n",
       "      <td>0.00</td>\n",
       "      <td>0.00</td>\n",
       "      <td>Коммерческий</td>\n",
       "      <td>6.80</td>\n",
       "      <td>фантастика,боевик,триллер</td>\n",
       "      <td>0.00</td>\n",
       "      <td>2016</td>\n",
       "      <td>Тимур Бекмамбетов</td>\n",
       "      <td>фантастика</td>\n",
       "    </tr>\n",
       "    <tr>\n",
       "      <th>3</th>\n",
       "      <td>Особо опасен</td>\n",
       "      <td>221,026,916.00</td>\n",
       "      <td>2016-06-10 12:00:00+00:00</td>\n",
       "      <td>Художественный</td>\n",
       "      <td>Юниверсал Пикчерз, Кикстарт Продакшнз, Марк Пл...</td>\n",
       "      <td>США</td>\n",
       "      <td>Тимур Бекмамбетов</td>\n",
       "      <td>Джим Лемли, Джейсон Нетер, Марк Е.Платт, Яйн Смит</td>\n",
       "      <td>«18+» - запрещено для детей</td>\n",
       "      <td>0.00</td>\n",
       "      <td>0.00</td>\n",
       "      <td>0.00</td>\n",
       "      <td>Коммерческий</td>\n",
       "      <td>6.80</td>\n",
       "      <td>фантастика,боевик,триллер</td>\n",
       "      <td>0.00</td>\n",
       "      <td>2016</td>\n",
       "      <td>Тимур Бекмамбетов</td>\n",
       "      <td>фантастика</td>\n",
       "    </tr>\n",
       "    <tr>\n",
       "      <th>4</th>\n",
       "      <td>Особо опасен</td>\n",
       "      <td>221,030,815.00</td>\n",
       "      <td>2015-07-29 12:00:00+00:00</td>\n",
       "      <td>Художественный</td>\n",
       "      <td>Юниверсал Пикчерз, Кикстарт Продакшнз, Марк Пл...</td>\n",
       "      <td>США</td>\n",
       "      <td>Тимур Бекмамбетов</td>\n",
       "      <td>Джим Лемли, Джейсон Нетер, Марк Е.Платт, Яйн Смит</td>\n",
       "      <td>«18+» - запрещено для детей</td>\n",
       "      <td>0.00</td>\n",
       "      <td>0.00</td>\n",
       "      <td>0.00</td>\n",
       "      <td>Коммерческий</td>\n",
       "      <td>6.80</td>\n",
       "      <td>фантастика,боевик,триллер</td>\n",
       "      <td>0.00</td>\n",
       "      <td>2015</td>\n",
       "      <td>Тимур Бекмамбетов</td>\n",
       "      <td>фантастика</td>\n",
       "    </tr>\n",
       "  </tbody>\n",
       "</table>\n",
       "</div>"
      ],
      "text/plain": [
       "                  title       puNumber           show_start_date  \\\n",
       "0      Открытый простор 221,048,915.00 2015-11-27 12:00:00+00:00   \n",
       "1  Особо важное задание 111,013,716.00 2016-09-13 12:00:00+00:00   \n",
       "2          Особо опасен 221,038,416.00 2016-10-10 12:00:00+00:00   \n",
       "3          Особо опасен 221,026,916.00 2016-06-10 12:00:00+00:00   \n",
       "4          Особо опасен 221,030,815.00 2015-07-29 12:00:00+00:00   \n",
       "\n",
       "             type                                        film_studio  \\\n",
       "0  Художественный  Тачстоун Пикчерз, Кобальт Пикчерз, Бикон Пикче...   \n",
       "1  Художественный                              Киностудия \"Мосфильм\"   \n",
       "2  Художественный  Юниверсал Пикчерз, Кикстарт Продакшнз, Марк Пл...   \n",
       "3  Художественный  Юниверсал Пикчерз, Кикстарт Продакшнз, Марк Пл...   \n",
       "4  Художественный  Юниверсал Пикчерз, Кикстарт Продакшнз, Марк Пл...   \n",
       "\n",
       "  production_country           director  \\\n",
       "0                США      Кевин Костнер   \n",
       "1               СССР          Е.Матвеев   \n",
       "2                США  Тимур Бекмамбетов   \n",
       "3                США  Тимур Бекмамбетов   \n",
       "4                США  Тимур Бекмамбетов   \n",
       "\n",
       "                                            producer  \\\n",
       "0          Дэвид Валдес, Кевин Костнер, Джейк Эбертс   \n",
       "1                                      Без продюсера   \n",
       "2  Джим Лемли, Джейсон Нетер, Марк Е.Платт, Яйн Смит   \n",
       "3  Джим Лемли, Джейсон Нетер, Марк Е.Платт, Яйн Смит   \n",
       "4  Джим Лемли, Джейсон Нетер, Марк Е.Платт, Яйн Смит   \n",
       "\n",
       "                 age_restriction  refundable_support  nonrefundable_support  \\\n",
       "0    «18+» - запрещено для детей                0.00                   0.00   \n",
       "1  «6+» - для детей старше 6 лет                0.00                   0.00   \n",
       "2    «18+» - запрещено для детей                0.00                   0.00   \n",
       "3    «18+» - запрещено для детей                0.00                   0.00   \n",
       "4    «18+» - запрещено для детей                0.00                   0.00   \n",
       "\n",
       "   budget financing_source  ratings                     genres  box_office  \\\n",
       "0    0.00     Коммерческий     7.20     боевик,драма,мелодрама        0.00   \n",
       "1    0.00     Коммерческий     6.60              драма,военный        0.00   \n",
       "2    0.00     Коммерческий     6.80  фантастика,боевик,триллер        0.00   \n",
       "3    0.00     Коммерческий     6.80  фантастика,боевик,триллер        0.00   \n",
       "4    0.00     Коммерческий     6.80  фантастика,боевик,триллер        0.00   \n",
       "\n",
       "   show_start_year      main_director main_genres  \n",
       "0             2015      Кевин Костнер      боевик  \n",
       "1             2016          Е.Матвеев       драма  \n",
       "2             2016  Тимур Бекмамбетов  фантастика  \n",
       "3             2016  Тимур Бекмамбетов  фантастика  \n",
       "4             2015  Тимур Бекмамбетов  фантастика  "
      ]
     },
     "execution_count": 65,
     "metadata": {},
     "output_type": "execute_result"
    }
   ],
   "source": [
    "data.head()"
   ]
  },
  {
   "cell_type": "markdown",
   "metadata": {},
   "source": [
    "<div class=\"alert-danger\" style=\"padding: 20px; border-radius: 10px\">\n",
    "\n",
    "<b>Комментарий ревьюера ❌</b>\n",
    "\n",
    "<s>Нужно также создать дополнительный столбец с основным жанром каждого фильма."
   ]
  },
  {
   "cell_type": "markdown",
   "metadata": {},
   "source": [
    "<div class=\"alert-info\" style=\"padding: 20px; border-radius: 10px\">\n",
    "<b>Комментарий студента 💎</b>\n",
    "\n",
    "Добавлен столбец основных жанров.\n",
    "\n",
    "</div>"
   ]
  },
  {
   "cell_type": "markdown",
   "metadata": {},
   "source": [
    "<div class=\"alert-success\" style=\"padding: 20px; border-radius: 10px\">\n",
    "<b>Комментарий ревьюера V2 ✔️</b>\n",
    "\n",
    "Супер!"
   ]
  },
  {
   "cell_type": "markdown",
   "metadata": {
    "id": "1FsCXHwdgFyU"
   },
   "source": [
    "- Посчитайте, какую долю от общего бюджета фильма составляет государственная поддержка."
   ]
  },
  {
   "cell_type": "code",
   "execution_count": 66,
   "metadata": {
    "id": "LV6qFuZLgFyV"
   },
   "outputs": [
    {
     "name": "stdout",
     "output_type": "stream",
     "text": [
      "Государственная поддержка от общего бюджета фильма в медианном значении составляет %: 61\n"
     ]
    }
   ],
   "source": [
    "data_gos = ((data['refundable_support'] + data['nonrefundable_support']) / data['budget']).median()\n",
    "print('Государственная поддержка от общего бюджета фильма в медианном значении составляет %:', round(data_gos * 100))"
   ]
  },
  {
   "cell_type": "markdown",
   "metadata": {},
   "source": [
    "Добавим в данные столбец с данными по доле господдержки для каждого фильма индивидуально."
   ]
  },
  {
   "cell_type": "code",
   "execution_count": 67,
   "metadata": {},
   "outputs": [],
   "source": [
    "import numpy as np\n",
    "data['gos_support_percent'] = ((data['refundable_support'] + data['nonrefundable_support']) / data['budget'])\n",
    "round(data['gos_support_percent'] * 100)\n",
    "data['gos_support_percent'].replace([np.inf, -np.inf, np.nan], 0, inplace=True)"
   ]
  },
  {
   "cell_type": "code",
   "execution_count": 68,
   "metadata": {
    "scrolled": true
   },
   "outputs": [
    {
     "data": {
      "text/html": [
       "<div>\n",
       "<style scoped>\n",
       "    .dataframe tbody tr th:only-of-type {\n",
       "        vertical-align: middle;\n",
       "    }\n",
       "\n",
       "    .dataframe tbody tr th {\n",
       "        vertical-align: top;\n",
       "    }\n",
       "\n",
       "    .dataframe thead th {\n",
       "        text-align: right;\n",
       "    }\n",
       "</style>\n",
       "<table border=\"1\" class=\"dataframe\">\n",
       "  <thead>\n",
       "    <tr style=\"text-align: right;\">\n",
       "      <th></th>\n",
       "      <th>title</th>\n",
       "      <th>puNumber</th>\n",
       "      <th>show_start_date</th>\n",
       "      <th>type</th>\n",
       "      <th>film_studio</th>\n",
       "      <th>production_country</th>\n",
       "      <th>director</th>\n",
       "      <th>producer</th>\n",
       "      <th>age_restriction</th>\n",
       "      <th>refundable_support</th>\n",
       "      <th>nonrefundable_support</th>\n",
       "      <th>budget</th>\n",
       "      <th>financing_source</th>\n",
       "      <th>ratings</th>\n",
       "      <th>genres</th>\n",
       "      <th>box_office</th>\n",
       "      <th>show_start_year</th>\n",
       "      <th>main_director</th>\n",
       "      <th>main_genres</th>\n",
       "      <th>gos_support_percent</th>\n",
       "    </tr>\n",
       "  </thead>\n",
       "  <tbody>\n",
       "    <tr>\n",
       "      <th>0</th>\n",
       "      <td>Открытый простор</td>\n",
       "      <td>221,048,915.00</td>\n",
       "      <td>2015-11-27 12:00:00+00:00</td>\n",
       "      <td>Художественный</td>\n",
       "      <td>Тачстоун Пикчерз, Кобальт Пикчерз, Бикон Пикче...</td>\n",
       "      <td>США</td>\n",
       "      <td>Кевин Костнер</td>\n",
       "      <td>Дэвид Валдес, Кевин Костнер, Джейк Эбертс</td>\n",
       "      <td>«18+» - запрещено для детей</td>\n",
       "      <td>0.00</td>\n",
       "      <td>0.00</td>\n",
       "      <td>0.00</td>\n",
       "      <td>Коммерческий</td>\n",
       "      <td>7.20</td>\n",
       "      <td>боевик,драма,мелодрама</td>\n",
       "      <td>0.00</td>\n",
       "      <td>2015</td>\n",
       "      <td>Кевин Костнер</td>\n",
       "      <td>боевик</td>\n",
       "      <td>0.00</td>\n",
       "    </tr>\n",
       "    <tr>\n",
       "      <th>1</th>\n",
       "      <td>Особо важное задание</td>\n",
       "      <td>111,013,716.00</td>\n",
       "      <td>2016-09-13 12:00:00+00:00</td>\n",
       "      <td>Художественный</td>\n",
       "      <td>Киностудия \"Мосфильм\"</td>\n",
       "      <td>СССР</td>\n",
       "      <td>Е.Матвеев</td>\n",
       "      <td>Без продюсера</td>\n",
       "      <td>«6+» - для детей старше 6 лет</td>\n",
       "      <td>0.00</td>\n",
       "      <td>0.00</td>\n",
       "      <td>0.00</td>\n",
       "      <td>Коммерческий</td>\n",
       "      <td>6.60</td>\n",
       "      <td>драма,военный</td>\n",
       "      <td>0.00</td>\n",
       "      <td>2016</td>\n",
       "      <td>Е.Матвеев</td>\n",
       "      <td>драма</td>\n",
       "      <td>0.00</td>\n",
       "    </tr>\n",
       "    <tr>\n",
       "      <th>2</th>\n",
       "      <td>Особо опасен</td>\n",
       "      <td>221,038,416.00</td>\n",
       "      <td>2016-10-10 12:00:00+00:00</td>\n",
       "      <td>Художественный</td>\n",
       "      <td>Юниверсал Пикчерз, Кикстарт Продакшнз, Марк Пл...</td>\n",
       "      <td>США</td>\n",
       "      <td>Тимур Бекмамбетов</td>\n",
       "      <td>Джим Лемли, Джейсон Нетер, Марк Е.Платт, Яйн Смит</td>\n",
       "      <td>«18+» - запрещено для детей</td>\n",
       "      <td>0.00</td>\n",
       "      <td>0.00</td>\n",
       "      <td>0.00</td>\n",
       "      <td>Коммерческий</td>\n",
       "      <td>6.80</td>\n",
       "      <td>фантастика,боевик,триллер</td>\n",
       "      <td>0.00</td>\n",
       "      <td>2016</td>\n",
       "      <td>Тимур Бекмамбетов</td>\n",
       "      <td>фантастика</td>\n",
       "      <td>0.00</td>\n",
       "    </tr>\n",
       "    <tr>\n",
       "      <th>3</th>\n",
       "      <td>Особо опасен</td>\n",
       "      <td>221,026,916.00</td>\n",
       "      <td>2016-06-10 12:00:00+00:00</td>\n",
       "      <td>Художественный</td>\n",
       "      <td>Юниверсал Пикчерз, Кикстарт Продакшнз, Марк Пл...</td>\n",
       "      <td>США</td>\n",
       "      <td>Тимур Бекмамбетов</td>\n",
       "      <td>Джим Лемли, Джейсон Нетер, Марк Е.Платт, Яйн Смит</td>\n",
       "      <td>«18+» - запрещено для детей</td>\n",
       "      <td>0.00</td>\n",
       "      <td>0.00</td>\n",
       "      <td>0.00</td>\n",
       "      <td>Коммерческий</td>\n",
       "      <td>6.80</td>\n",
       "      <td>фантастика,боевик,триллер</td>\n",
       "      <td>0.00</td>\n",
       "      <td>2016</td>\n",
       "      <td>Тимур Бекмамбетов</td>\n",
       "      <td>фантастика</td>\n",
       "      <td>0.00</td>\n",
       "    </tr>\n",
       "    <tr>\n",
       "      <th>4</th>\n",
       "      <td>Особо опасен</td>\n",
       "      <td>221,030,815.00</td>\n",
       "      <td>2015-07-29 12:00:00+00:00</td>\n",
       "      <td>Художественный</td>\n",
       "      <td>Юниверсал Пикчерз, Кикстарт Продакшнз, Марк Пл...</td>\n",
       "      <td>США</td>\n",
       "      <td>Тимур Бекмамбетов</td>\n",
       "      <td>Джим Лемли, Джейсон Нетер, Марк Е.Платт, Яйн Смит</td>\n",
       "      <td>«18+» - запрещено для детей</td>\n",
       "      <td>0.00</td>\n",
       "      <td>0.00</td>\n",
       "      <td>0.00</td>\n",
       "      <td>Коммерческий</td>\n",
       "      <td>6.80</td>\n",
       "      <td>фантастика,боевик,триллер</td>\n",
       "      <td>0.00</td>\n",
       "      <td>2015</td>\n",
       "      <td>Тимур Бекмамбетов</td>\n",
       "      <td>фантастика</td>\n",
       "      <td>0.00</td>\n",
       "    </tr>\n",
       "  </tbody>\n",
       "</table>\n",
       "</div>"
      ],
      "text/plain": [
       "                  title       puNumber           show_start_date  \\\n",
       "0      Открытый простор 221,048,915.00 2015-11-27 12:00:00+00:00   \n",
       "1  Особо важное задание 111,013,716.00 2016-09-13 12:00:00+00:00   \n",
       "2          Особо опасен 221,038,416.00 2016-10-10 12:00:00+00:00   \n",
       "3          Особо опасен 221,026,916.00 2016-06-10 12:00:00+00:00   \n",
       "4          Особо опасен 221,030,815.00 2015-07-29 12:00:00+00:00   \n",
       "\n",
       "             type                                        film_studio  \\\n",
       "0  Художественный  Тачстоун Пикчерз, Кобальт Пикчерз, Бикон Пикче...   \n",
       "1  Художественный                              Киностудия \"Мосфильм\"   \n",
       "2  Художественный  Юниверсал Пикчерз, Кикстарт Продакшнз, Марк Пл...   \n",
       "3  Художественный  Юниверсал Пикчерз, Кикстарт Продакшнз, Марк Пл...   \n",
       "4  Художественный  Юниверсал Пикчерз, Кикстарт Продакшнз, Марк Пл...   \n",
       "\n",
       "  production_country           director  \\\n",
       "0                США      Кевин Костнер   \n",
       "1               СССР          Е.Матвеев   \n",
       "2                США  Тимур Бекмамбетов   \n",
       "3                США  Тимур Бекмамбетов   \n",
       "4                США  Тимур Бекмамбетов   \n",
       "\n",
       "                                            producer  \\\n",
       "0          Дэвид Валдес, Кевин Костнер, Джейк Эбертс   \n",
       "1                                      Без продюсера   \n",
       "2  Джим Лемли, Джейсон Нетер, Марк Е.Платт, Яйн Смит   \n",
       "3  Джим Лемли, Джейсон Нетер, Марк Е.Платт, Яйн Смит   \n",
       "4  Джим Лемли, Джейсон Нетер, Марк Е.Платт, Яйн Смит   \n",
       "\n",
       "                 age_restriction  refundable_support  nonrefundable_support  \\\n",
       "0    «18+» - запрещено для детей                0.00                   0.00   \n",
       "1  «6+» - для детей старше 6 лет                0.00                   0.00   \n",
       "2    «18+» - запрещено для детей                0.00                   0.00   \n",
       "3    «18+» - запрещено для детей                0.00                   0.00   \n",
       "4    «18+» - запрещено для детей                0.00                   0.00   \n",
       "\n",
       "   budget financing_source  ratings                     genres  box_office  \\\n",
       "0    0.00     Коммерческий     7.20     боевик,драма,мелодрама        0.00   \n",
       "1    0.00     Коммерческий     6.60              драма,военный        0.00   \n",
       "2    0.00     Коммерческий     6.80  фантастика,боевик,триллер        0.00   \n",
       "3    0.00     Коммерческий     6.80  фантастика,боевик,триллер        0.00   \n",
       "4    0.00     Коммерческий     6.80  фантастика,боевик,триллер        0.00   \n",
       "\n",
       "   show_start_year      main_director main_genres  gos_support_percent  \n",
       "0             2015      Кевин Костнер      боевик                 0.00  \n",
       "1             2016          Е.Матвеев       драма                 0.00  \n",
       "2             2016  Тимур Бекмамбетов  фантастика                 0.00  \n",
       "3             2016  Тимур Бекмамбетов  фантастика                 0.00  \n",
       "4             2015  Тимур Бекмамбетов  фантастика                 0.00  "
      ]
     },
     "execution_count": 68,
     "metadata": {},
     "output_type": "execute_result"
    }
   ],
   "source": [
    "data.query('budget == 0').head()"
   ]
  },
  {
   "cell_type": "code",
   "execution_count": 69,
   "metadata": {},
   "outputs": [
    {
     "data": {
      "text/html": [
       "<div>\n",
       "<style scoped>\n",
       "    .dataframe tbody tr th:only-of-type {\n",
       "        vertical-align: middle;\n",
       "    }\n",
       "\n",
       "    .dataframe tbody tr th {\n",
       "        vertical-align: top;\n",
       "    }\n",
       "\n",
       "    .dataframe thead th {\n",
       "        text-align: right;\n",
       "    }\n",
       "</style>\n",
       "<table border=\"1\" class=\"dataframe\">\n",
       "  <thead>\n",
       "    <tr style=\"text-align: right;\">\n",
       "      <th></th>\n",
       "      <th>title</th>\n",
       "      <th>puNumber</th>\n",
       "      <th>show_start_date</th>\n",
       "      <th>type</th>\n",
       "      <th>film_studio</th>\n",
       "      <th>production_country</th>\n",
       "      <th>director</th>\n",
       "      <th>producer</th>\n",
       "      <th>age_restriction</th>\n",
       "      <th>refundable_support</th>\n",
       "      <th>nonrefundable_support</th>\n",
       "      <th>budget</th>\n",
       "      <th>financing_source</th>\n",
       "      <th>ratings</th>\n",
       "      <th>genres</th>\n",
       "      <th>box_office</th>\n",
       "      <th>show_start_year</th>\n",
       "      <th>main_director</th>\n",
       "      <th>main_genres</th>\n",
       "      <th>gos_support_percent</th>\n",
       "    </tr>\n",
       "  </thead>\n",
       "  <tbody>\n",
       "    <tr>\n",
       "      <th>1281</th>\n",
       "      <td>Пока еще жива</td>\n",
       "      <td>111,005,313.00</td>\n",
       "      <td>2013-10-11 12:00:00+00:00</td>\n",
       "      <td>Художественный</td>\n",
       "      <td>АНО содействия развитию кинематографии \"Ангел-...</td>\n",
       "      <td>Россия</td>\n",
       "      <td>А.Атанесян</td>\n",
       "      <td>А.Атанесян, М.Бабаханов, Р.Бутко</td>\n",
       "      <td>«16+» - для детей старше 16 лет</td>\n",
       "      <td>0.00</td>\n",
       "      <td>26,500,000.00</td>\n",
       "      <td>79,411,900.00</td>\n",
       "      <td>Министерство культуры</td>\n",
       "      <td>8.10</td>\n",
       "      <td>драма,мелодрама</td>\n",
       "      <td>365,353.60</td>\n",
       "      <td>2013</td>\n",
       "      <td>А.Атанесян</td>\n",
       "      <td>драма</td>\n",
       "      <td>0.33</td>\n",
       "    </tr>\n",
       "    <tr>\n",
       "      <th>1448</th>\n",
       "      <td>Бесславные придурки</td>\n",
       "      <td>111,003,314.00</td>\n",
       "      <td>2014-03-28 12:00:00+00:00</td>\n",
       "      <td>Художественный</td>\n",
       "      <td>ООО \"Компания \"АТК-Студио\"</td>\n",
       "      <td>Россия</td>\n",
       "      <td>А.Якимчук</td>\n",
       "      <td>А.Тютрюмов</td>\n",
       "      <td>«12+» - для детей старше 12 лет</td>\n",
       "      <td>0.00</td>\n",
       "      <td>26,000,000.00</td>\n",
       "      <td>37,142,857.00</td>\n",
       "      <td>Министерство культуры</td>\n",
       "      <td>NaN</td>\n",
       "      <td>Без жанра</td>\n",
       "      <td>28,140.00</td>\n",
       "      <td>2014</td>\n",
       "      <td>А.Якимчук</td>\n",
       "      <td>Без жанра</td>\n",
       "      <td>0.70</td>\n",
       "    </tr>\n",
       "    <tr>\n",
       "      <th>1498</th>\n",
       "      <td>Невидимки</td>\n",
       "      <td>111,004,213.00</td>\n",
       "      <td>2013-09-10 12:00:00+00:00</td>\n",
       "      <td>Художественный</td>\n",
       "      <td>ООО \"Компания \"РЕАЛ-ДАКОТА\"</td>\n",
       "      <td>Россия</td>\n",
       "      <td>Р.Давлетьяров, С.Комаров</td>\n",
       "      <td>Р.Давлетьяров, А.Котелевский, А.Олейников</td>\n",
       "      <td>«12+» - для детей старше 12 лет</td>\n",
       "      <td>0.00</td>\n",
       "      <td>107,847,945.00</td>\n",
       "      <td>176,023,490.00</td>\n",
       "      <td>Фонд кино</td>\n",
       "      <td>5.30</td>\n",
       "      <td>комедия,фантастика</td>\n",
       "      <td>19,957,031.50</td>\n",
       "      <td>2013</td>\n",
       "      <td>Р.Давлетьяров</td>\n",
       "      <td>комедия</td>\n",
       "      <td>0.61</td>\n",
       "    </tr>\n",
       "    <tr>\n",
       "      <th>1524</th>\n",
       "      <td>БЕРЦЫ</td>\n",
       "      <td>111,004,314.00</td>\n",
       "      <td>2014-05-05 12:00:00+00:00</td>\n",
       "      <td>Художественный</td>\n",
       "      <td>ООО \"Студия \"Пассажир\"</td>\n",
       "      <td>Россия</td>\n",
       "      <td>Е.Миндадзе (псевдоним Катя Шагалова)</td>\n",
       "      <td>Л.Антонова</td>\n",
       "      <td>«16+» - для детей старше 16 лет</td>\n",
       "      <td>0.00</td>\n",
       "      <td>28,000,000.00</td>\n",
       "      <td>40,574,140.00</td>\n",
       "      <td>Министерство культуры</td>\n",
       "      <td>4.20</td>\n",
       "      <td>драма</td>\n",
       "      <td>55,917.50</td>\n",
       "      <td>2014</td>\n",
       "      <td>Е.Миндадзе (псевдоним Катя Шагалова)</td>\n",
       "      <td>драма</td>\n",
       "      <td>0.69</td>\n",
       "    </tr>\n",
       "    <tr>\n",
       "      <th>1792</th>\n",
       "      <td>Братья Ч</td>\n",
       "      <td>111,004,414.00</td>\n",
       "      <td>2014-04-23 12:00:00+00:00</td>\n",
       "      <td>Художественный</td>\n",
       "      <td>ООО \"Студия \"Пассажир\"</td>\n",
       "      <td>Россия</td>\n",
       "      <td>М.Угаров</td>\n",
       "      <td>А.Миндадзе, Л.Антонова</td>\n",
       "      <td>«16+» - для детей старше 16 лет</td>\n",
       "      <td>0.00</td>\n",
       "      <td>25,000,000.00</td>\n",
       "      <td>40,015,122.00</td>\n",
       "      <td>Министерство культуры</td>\n",
       "      <td>6.40</td>\n",
       "      <td>драма</td>\n",
       "      <td>232,100.00</td>\n",
       "      <td>2014</td>\n",
       "      <td>М.Угаров</td>\n",
       "      <td>драма</td>\n",
       "      <td>0.62</td>\n",
       "    </tr>\n",
       "  </tbody>\n",
       "</table>\n",
       "</div>"
      ],
      "text/plain": [
       "                    title       puNumber           show_start_date  \\\n",
       "1281        Пока еще жива 111,005,313.00 2013-10-11 12:00:00+00:00   \n",
       "1448  Бесславные придурки 111,003,314.00 2014-03-28 12:00:00+00:00   \n",
       "1498            Невидимки 111,004,213.00 2013-09-10 12:00:00+00:00   \n",
       "1524                БЕРЦЫ 111,004,314.00 2014-05-05 12:00:00+00:00   \n",
       "1792             Братья Ч 111,004,414.00 2014-04-23 12:00:00+00:00   \n",
       "\n",
       "                type                                        film_studio  \\\n",
       "1281  Художественный  АНО содействия развитию кинематографии \"Ангел-...   \n",
       "1448  Художественный                         ООО \"Компания \"АТК-Студио\"   \n",
       "1498  Художественный                        ООО \"Компания \"РЕАЛ-ДАКОТА\"   \n",
       "1524  Художественный                             ООО \"Студия \"Пассажир\"   \n",
       "1792  Художественный                             ООО \"Студия \"Пассажир\"   \n",
       "\n",
       "     production_country                              director  \\\n",
       "1281             Россия                            А.Атанесян   \n",
       "1448             Россия                             А.Якимчук   \n",
       "1498             Россия              Р.Давлетьяров, С.Комаров   \n",
       "1524             Россия  Е.Миндадзе (псевдоним Катя Шагалова)   \n",
       "1792             Россия                              М.Угаров   \n",
       "\n",
       "                                       producer  \\\n",
       "1281           А.Атанесян, М.Бабаханов, Р.Бутко   \n",
       "1448                                 А.Тютрюмов   \n",
       "1498  Р.Давлетьяров, А.Котелевский, А.Олейников   \n",
       "1524                                 Л.Антонова   \n",
       "1792                     А.Миндадзе, Л.Антонова   \n",
       "\n",
       "                      age_restriction  refundable_support  \\\n",
       "1281  «16+» - для детей старше 16 лет                0.00   \n",
       "1448  «12+» - для детей старше 12 лет                0.00   \n",
       "1498  «12+» - для детей старше 12 лет                0.00   \n",
       "1524  «16+» - для детей старше 16 лет                0.00   \n",
       "1792  «16+» - для детей старше 16 лет                0.00   \n",
       "\n",
       "      nonrefundable_support         budget       financing_source  ratings  \\\n",
       "1281          26,500,000.00  79,411,900.00  Министерство культуры     8.10   \n",
       "1448          26,000,000.00  37,142,857.00  Министерство культуры      NaN   \n",
       "1498         107,847,945.00 176,023,490.00              Фонд кино     5.30   \n",
       "1524          28,000,000.00  40,574,140.00  Министерство культуры     4.20   \n",
       "1792          25,000,000.00  40,015,122.00  Министерство культуры     6.40   \n",
       "\n",
       "                  genres    box_office  show_start_year  \\\n",
       "1281     драма,мелодрама    365,353.60             2013   \n",
       "1448           Без жанра     28,140.00             2014   \n",
       "1498  комедия,фантастика 19,957,031.50             2013   \n",
       "1524               драма     55,917.50             2014   \n",
       "1792               драма    232,100.00             2014   \n",
       "\n",
       "                             main_director main_genres  gos_support_percent  \n",
       "1281                            А.Атанесян       драма                 0.33  \n",
       "1448                             А.Якимчук   Без жанра                 0.70  \n",
       "1498                         Р.Давлетьяров     комедия                 0.61  \n",
       "1524  Е.Миндадзе (псевдоним Катя Шагалова)       драма                 0.69  \n",
       "1792                              М.Угаров       драма                 0.62  "
      ]
     },
     "execution_count": 69,
     "metadata": {},
     "output_type": "execute_result"
    }
   ],
   "source": [
    "data.query('budget > 0').head()"
   ]
  },
  {
   "cell_type": "markdown",
   "metadata": {},
   "source": [
    "<div class=\"alert-success\" style=\"padding: 20px; border-radius: 10px\">\n",
    "<b>Комментарий ревьюера ✔️</b>\n",
    "\n",
    "Столбец с господдержкой добавлен верно!"
   ]
  },
  {
   "cell_type": "markdown",
   "metadata": {
    "id": "6t4EukPLgFyV"
   },
   "source": [
    "### Шаг 3. Проведите исследовательский анализ данных\n"
   ]
  },
  {
   "cell_type": "markdown",
   "metadata": {
    "id": "vAH8WCzugFyV"
   },
   "source": [
    "- Посмотрите, сколько фильмов выходило в прокат каждый год. Обратите внимание, что данные о прокате в кинотеатрах известны не для всех фильмов. Посчитайте, какую долю составляют фильмы с указанной информацией о прокате в кинотеатрах."
   ]
  },
  {
   "cell_type": "markdown",
   "metadata": {
    "id": "ABeV47y7gFyW"
   },
   "source": [
    "Создадим сводную таблицу `data_pivot`, которую заполним данными по годам:\n",
    "\n",
    "* сколько фильмов вышло в прокат;\n",
    "* суммой сборов в рублях;\n",
    "* средним количеством сборов в рублях;\n",
    "* медианой по сборам в рублях;\n",
    "* сколько фильмов вышло за год(не прокат);\n",
    "* процентом проката за каждый указанный год."
   ]
  },
  {
   "cell_type": "code",
   "execution_count": 70,
   "metadata": {},
   "outputs": [
    {
     "data": {
      "text/html": [
       "<div>\n",
       "<style scoped>\n",
       "    .dataframe tbody tr th:only-of-type {\n",
       "        vertical-align: middle;\n",
       "    }\n",
       "\n",
       "    .dataframe tbody tr th {\n",
       "        vertical-align: top;\n",
       "    }\n",
       "\n",
       "    .dataframe thead th {\n",
       "        text-align: right;\n",
       "    }\n",
       "</style>\n",
       "<table border=\"1\" class=\"dataframe\">\n",
       "  <thead>\n",
       "    <tr style=\"text-align: right;\">\n",
       "      <th></th>\n",
       "      <th>В прокате</th>\n",
       "      <th>За год</th>\n",
       "      <th>Процент проката</th>\n",
       "    </tr>\n",
       "    <tr>\n",
       "      <th>show_start_year</th>\n",
       "      <th></th>\n",
       "      <th></th>\n",
       "      <th></th>\n",
       "    </tr>\n",
       "  </thead>\n",
       "  <tbody>\n",
       "    <tr>\n",
       "      <th>2010</th>\n",
       "      <td>101</td>\n",
       "      <td>985</td>\n",
       "      <td>10.25</td>\n",
       "    </tr>\n",
       "    <tr>\n",
       "      <th>2011</th>\n",
       "      <td>109</td>\n",
       "      <td>622</td>\n",
       "      <td>17.52</td>\n",
       "    </tr>\n",
       "    <tr>\n",
       "      <th>2012</th>\n",
       "      <td>123</td>\n",
       "      <td>593</td>\n",
       "      <td>20.74</td>\n",
       "    </tr>\n",
       "    <tr>\n",
       "      <th>2013</th>\n",
       "      <td>179</td>\n",
       "      <td>630</td>\n",
       "      <td>28.41</td>\n",
       "    </tr>\n",
       "    <tr>\n",
       "      <th>2014</th>\n",
       "      <td>273</td>\n",
       "      <td>806</td>\n",
       "      <td>33.87</td>\n",
       "    </tr>\n",
       "    <tr>\n",
       "      <th>2015</th>\n",
       "      <td>462</td>\n",
       "      <td>705</td>\n",
       "      <td>65.53</td>\n",
       "    </tr>\n",
       "    <tr>\n",
       "      <th>2016</th>\n",
       "      <td>525</td>\n",
       "      <td>818</td>\n",
       "      <td>64.18</td>\n",
       "    </tr>\n",
       "    <tr>\n",
       "      <th>2017</th>\n",
       "      <td>357</td>\n",
       "      <td>505</td>\n",
       "      <td>70.69</td>\n",
       "    </tr>\n",
       "    <tr>\n",
       "      <th>2018</th>\n",
       "      <td>475</td>\n",
       "      <td>891</td>\n",
       "      <td>53.31</td>\n",
       "    </tr>\n",
       "    <tr>\n",
       "      <th>2019</th>\n",
       "      <td>530</td>\n",
       "      <td>930</td>\n",
       "      <td>56.99</td>\n",
       "    </tr>\n",
       "  </tbody>\n",
       "</table>\n",
       "</div>"
      ],
      "text/plain": [
       "                 В прокате  За год  Процент проката\n",
       "show_start_year                                    \n",
       "2010                   101     985            10.25\n",
       "2011                   109     622            17.52\n",
       "2012                   123     593            20.74\n",
       "2013                   179     630            28.41\n",
       "2014                   273     806            33.87\n",
       "2015                   462     705            65.53\n",
       "2016                   525     818            64.18\n",
       "2017                   357     505            70.69\n",
       "2018                   475     891            53.31\n",
       "2019                   530     930            56.99"
      ]
     },
     "execution_count": 70,
     "metadata": {},
     "output_type": "execute_result"
    }
   ],
   "source": [
    "data_pivot = data.loc[data['box_office'] > 0].pivot_table(index='show_start_year', values='box_office', aggfunc=['count'])\n",
    "data_pivot = data_pivot.set_axis(['В прокате'], axis='columns')\n",
    "data_pivot['За год'] = data.pivot_table(index='show_start_year', values='box_office', aggfunc='count')['box_office']\n",
    "data_pivot['Процент проката'] = data_pivot['В прокате'] / data_pivot['За год']  * 100\n",
    "data_pivot"
   ]
  },
  {
   "cell_type": "markdown",
   "metadata": {},
   "source": [
    "Можно отметить, что с 2010 по 2019 значительно увеличилось производство в фильмов, количество фильмов, которые выходили в прокат, суммы затрат выросли, примерно, в 5 раз."
   ]
  },
  {
   "cell_type": "code",
   "execution_count": 71,
   "metadata": {
    "scrolled": true
   },
   "outputs": [
    {
     "data": {
      "image/png": "[encoded data removed]",
      "text/plain": [
       "<Figure size 1440x720 with 1 Axes>"
      ]
     },
     "metadata": {
      "needs_background": "light"
     },
     "output_type": "display_data"
    }
   ],
   "source": [
    "import matplotlib.pyplot as plt\n",
    "\n",
    "data_pivot.plot(kind='bar', y='В прокате', figsize=(20, 10), grid=True, legend=False, alpha=0.5);\n",
    "plt.ylabel('Кол-во фильмов')\n",
    "plt.xlabel('Год')\n",
    "plt.title('Кол-во фильмов по годам')\n",
    "plt.show()"
   ]
  },
  {
   "cell_type": "markdown",
   "metadata": {},
   "source": [
    "Начиная с 2010 был заметен рост количества фильмов, которым выдавались прокатные удостоверения в целом, в 2017 был резкий спад, а к 2019 значения вернулись в норму 2016 год."
   ]
  },
  {
   "cell_type": "code",
   "execution_count": 72,
   "metadata": {},
   "outputs": [
    {
     "data": {
      "text/plain": [
       "41.870407481629925"
      ]
     },
     "execution_count": 72,
     "metadata": {},
     "output_type": "execute_result"
    }
   ],
   "source": [
    "# Общая доля фильмов с информацией о прокате в кинотеатре в %\n",
    "data.loc[data['box_office'] > 0]['box_office'].count() / data['box_office'].count() * 100"
   ]
  },
  {
   "cell_type": "markdown",
   "metadata": {},
   "source": [
    "<div class=\"alert-success\" style=\"padding: 20px; border-radius: 10px\">\n",
    "<b>Комментарий ревьюера ✔️</b>\n",
    "\n",
    "Доля фильмов с информацией о сборах по годам расчитана и визуализирована правильно! 👌"
   ]
  },
  {
   "cell_type": "markdown",
   "metadata": {
    "id": "BEOdcIrIgFyW"
   },
   "source": [
    "- Изучите, как менялась динамика проката по годам. В каком году сумма сборов была минимальной? А максимальной?"
   ]
  },
  {
   "cell_type": "code",
   "execution_count": 73,
   "metadata": {},
   "outputs": [],
   "source": [
    "# посмотрим на изменение суммы сборов в разрезе каждого отдельного года\n",
    "data_pivot['Сумма сборов'] = data.loc[data['box_office'] > 0].groupby(by='show_start_year')['box_office'].sum()"
   ]
  },
  {
   "cell_type": "code",
   "execution_count": 74,
   "metadata": {},
   "outputs": [
    {
     "data": {
      "image/png": "[encoded data removed]",
      "text/plain": [
       "<Figure size 1440x720 with 1 Axes>"
      ]
     },
     "metadata": {
      "needs_background": "light"
     },
     "output_type": "display_data"
    }
   ],
   "source": [
    "data_pivot.plot(kind='line', y='Сумма сборов', figsize=(20, 10), grid=True)\n",
    "plt.ylabel('Сумма сборов')\n",
    "plt.xlabel('Год')\n",
    "plt.title('Сумма сборов по годам')\n",
    "plt.show()"
   ]
  },
  {
   "cell_type": "markdown",
   "metadata": {},
   "source": [
    "<div class=\"alert-warning\" style=\"padding: 20px; border-radius: 10px\">\n",
    "<b>Комментарий ревьюера ⚠️</b>\n",
    "    \n",
    "Проверь пожалуйста, чтобы у всех графиков проекта было подписано название."
   ]
  },
  {
   "cell_type": "markdown",
   "metadata": {},
   "source": [
    "<div class=\"alert-info\" style=\"padding: 20px; border-radius: 10px\">\n",
    "<b>Комментарий студента 💎</b>\n",
    "\n",
    "Названия графиков добавлены.\n",
    "</div>"
   ]
  },
  {
   "cell_type": "code",
   "execution_count": 75,
   "metadata": {},
   "outputs": [
    {
     "data": {
      "text/plain": [
       "2010"
      ]
     },
     "execution_count": 75,
     "metadata": {},
     "output_type": "execute_result"
    }
   ],
   "source": [
    "# минимальные сборы\n",
    "data_pivot['Сумма сборов'].idxmin()"
   ]
  },
  {
   "cell_type": "code",
   "execution_count": 76,
   "metadata": {},
   "outputs": [
    {
     "data": {
      "text/plain": [
       "2018"
      ]
     },
     "execution_count": 76,
     "metadata": {},
     "output_type": "execute_result"
    }
   ],
   "source": [
    "# максимальные сборы\n",
    "data_pivot['Сумма сборов'].idxmax()"
   ]
  },
  {
   "cell_type": "code",
   "execution_count": 77,
   "metadata": {},
   "outputs": [
    {
     "data": {
      "text/html": [
       "<div>\n",
       "<style scoped>\n",
       "    .dataframe tbody tr th:only-of-type {\n",
       "        vertical-align: middle;\n",
       "    }\n",
       "\n",
       "    .dataframe tbody tr th {\n",
       "        vertical-align: top;\n",
       "    }\n",
       "\n",
       "    .dataframe thead th {\n",
       "        text-align: right;\n",
       "    }\n",
       "</style>\n",
       "<table border=\"1\" class=\"dataframe\">\n",
       "  <thead>\n",
       "    <tr style=\"text-align: right;\">\n",
       "      <th></th>\n",
       "      <th>В прокате</th>\n",
       "      <th>За год</th>\n",
       "      <th>Процент проката</th>\n",
       "      <th>Сумма сборов</th>\n",
       "    </tr>\n",
       "    <tr>\n",
       "      <th>show_start_year</th>\n",
       "      <th></th>\n",
       "      <th></th>\n",
       "      <th></th>\n",
       "      <th></th>\n",
       "    </tr>\n",
       "  </thead>\n",
       "  <tbody>\n",
       "    <tr>\n",
       "      <th>2010</th>\n",
       "      <td>101</td>\n",
       "      <td>985</td>\n",
       "      <td>10.25</td>\n",
       "      <td>2,428,654.00</td>\n",
       "    </tr>\n",
       "    <tr>\n",
       "      <th>2011</th>\n",
       "      <td>109</td>\n",
       "      <td>622</td>\n",
       "      <td>17.52</td>\n",
       "      <td>14,102,765.00</td>\n",
       "    </tr>\n",
       "    <tr>\n",
       "      <th>2012</th>\n",
       "      <td>123</td>\n",
       "      <td>593</td>\n",
       "      <td>20.74</td>\n",
       "      <td>6,955,423.00</td>\n",
       "    </tr>\n",
       "    <tr>\n",
       "      <th>2013</th>\n",
       "      <td>179</td>\n",
       "      <td>630</td>\n",
       "      <td>28.41</td>\n",
       "      <td>29,799,706.20</td>\n",
       "    </tr>\n",
       "    <tr>\n",
       "      <th>2014</th>\n",
       "      <td>273</td>\n",
       "      <td>806</td>\n",
       "      <td>33.87</td>\n",
       "      <td>7,444,951,859.20</td>\n",
       "    </tr>\n",
       "    <tr>\n",
       "      <th>2015</th>\n",
       "      <td>462</td>\n",
       "      <td>705</td>\n",
       "      <td>65.53</td>\n",
       "      <td>39,497,365,196.40</td>\n",
       "    </tr>\n",
       "    <tr>\n",
       "      <th>2016</th>\n",
       "      <td>525</td>\n",
       "      <td>818</td>\n",
       "      <td>64.18</td>\n",
       "      <td>47,866,299,741.91</td>\n",
       "    </tr>\n",
       "    <tr>\n",
       "      <th>2017</th>\n",
       "      <td>357</td>\n",
       "      <td>505</td>\n",
       "      <td>70.69</td>\n",
       "      <td>48,563,707,217.51</td>\n",
       "    </tr>\n",
       "    <tr>\n",
       "      <th>2018</th>\n",
       "      <td>475</td>\n",
       "      <td>891</td>\n",
       "      <td>53.31</td>\n",
       "      <td>49,668,403,134.32</td>\n",
       "    </tr>\n",
       "    <tr>\n",
       "      <th>2019</th>\n",
       "      <td>530</td>\n",
       "      <td>930</td>\n",
       "      <td>56.99</td>\n",
       "      <td>48,425,708,779.59</td>\n",
       "    </tr>\n",
       "  </tbody>\n",
       "</table>\n",
       "</div>"
      ],
      "text/plain": [
       "                 В прокате  За год  Процент проката      Сумма сборов\n",
       "show_start_year                                                      \n",
       "2010                   101     985            10.25      2,428,654.00\n",
       "2011                   109     622            17.52     14,102,765.00\n",
       "2012                   123     593            20.74      6,955,423.00\n",
       "2013                   179     630            28.41     29,799,706.20\n",
       "2014                   273     806            33.87  7,444,951,859.20\n",
       "2015                   462     705            65.53 39,497,365,196.40\n",
       "2016                   525     818            64.18 47,866,299,741.91\n",
       "2017                   357     505            70.69 48,563,707,217.51\n",
       "2018                   475     891            53.31 49,668,403,134.32\n",
       "2019                   530     930            56.99 48,425,708,779.59"
      ]
     },
     "execution_count": 77,
     "metadata": {},
     "output_type": "execute_result"
    }
   ],
   "source": [
    "# выведем таблицу статистик по годам\n",
    "data_pivot"
   ]
  },
  {
   "cell_type": "markdown",
   "metadata": {},
   "source": [
    "<div class=\"alert-danger\" style=\"padding: 20px; border-radius: 10px\">\n",
    "    \n",
    "<b>Комментарий ревьюера ❌</b>\n",
    "\n",
    "<s>Давай здесь также добавим таблицу с числовыми значениями суммарных сборов по годам."
   ]
  },
  {
   "cell_type": "markdown",
   "metadata": {},
   "source": [
    "<div class=\"alert-info\" style=\"padding: 20px; border-radius: 10px\">\n",
    "<b>Комментарий студента 💎</b>\n",
    "\n",
    "Исправленно.\n",
    "</div>"
   ]
  },
  {
   "cell_type": "markdown",
   "metadata": {},
   "source": [
    "<div class=\"alert-success\" style=\"padding: 20px; border-radius: 10px\">\n",
    "<b>Комментарий ревьюера V2 ✔️</b>\n",
    "\n",
    "Динамика суммарных сборов по годам расчитана верно!"
   ]
  },
  {
   "cell_type": "markdown",
   "metadata": {},
   "source": [
    "С увеличением производимых кинолент выросли и суммы сборов."
   ]
  },
  {
   "cell_type": "markdown",
   "metadata": {
    "id": "G-7qS-N-gFyY"
   },
   "source": [
    "- С помощью сводной таблицы посчитайте среднюю и медианную сумму сборов для каждого года."
   ]
  },
  {
   "cell_type": "code",
   "execution_count": 78,
   "metadata": {},
   "outputs": [],
   "source": [
    "# посмотрим на среднее и медианное значение по каждому году отдельно\n",
    "data_pivot['Среднее'] = data.loc[data['box_office'] > 0].groupby(by='show_start_year')['box_office'].mean()"
   ]
  },
  {
   "cell_type": "code",
   "execution_count": 79,
   "metadata": {
    "id": "jmp-rgg9gFyY"
   },
   "outputs": [],
   "source": [
    "data_pivot['Медиана'] = data.loc[data['box_office'] > 0].groupby(by='show_start_year')['box_office'].median()"
   ]
  },
  {
   "cell_type": "code",
   "execution_count": 80,
   "metadata": {},
   "outputs": [
    {
     "data": {
      "text/html": [
       "<div>\n",
       "<style scoped>\n",
       "    .dataframe tbody tr th:only-of-type {\n",
       "        vertical-align: middle;\n",
       "    }\n",
       "\n",
       "    .dataframe tbody tr th {\n",
       "        vertical-align: top;\n",
       "    }\n",
       "\n",
       "    .dataframe thead th {\n",
       "        text-align: right;\n",
       "    }\n",
       "</style>\n",
       "<table border=\"1\" class=\"dataframe\">\n",
       "  <thead>\n",
       "    <tr style=\"text-align: right;\">\n",
       "      <th></th>\n",
       "      <th>Среднее</th>\n",
       "      <th>Медиана</th>\n",
       "    </tr>\n",
       "    <tr>\n",
       "      <th>show_start_year</th>\n",
       "      <th></th>\n",
       "      <th></th>\n",
       "    </tr>\n",
       "  </thead>\n",
       "  <tbody>\n",
       "    <tr>\n",
       "      <th>2010</th>\n",
       "      <td>24,046.08</td>\n",
       "      <td>1,710.00</td>\n",
       "    </tr>\n",
       "    <tr>\n",
       "      <th>2011</th>\n",
       "      <td>129,383.17</td>\n",
       "      <td>3,000.00</td>\n",
       "    </tr>\n",
       "    <tr>\n",
       "      <th>2012</th>\n",
       "      <td>56,548.15</td>\n",
       "      <td>6,220.00</td>\n",
       "    </tr>\n",
       "    <tr>\n",
       "      <th>2013</th>\n",
       "      <td>166,478.81</td>\n",
       "      <td>3,580.00</td>\n",
       "    </tr>\n",
       "    <tr>\n",
       "      <th>2014</th>\n",
       "      <td>27,270,885.93</td>\n",
       "      <td>20,400.00</td>\n",
       "    </tr>\n",
       "    <tr>\n",
       "      <th>2015</th>\n",
       "      <td>85,492,132.46</td>\n",
       "      <td>5,003,450.15</td>\n",
       "    </tr>\n",
       "    <tr>\n",
       "      <th>2016</th>\n",
       "      <td>91,173,904.27</td>\n",
       "      <td>3,915,041.02</td>\n",
       "    </tr>\n",
       "    <tr>\n",
       "      <th>2017</th>\n",
       "      <td>136,032,793.33</td>\n",
       "      <td>9,968,340.00</td>\n",
       "    </tr>\n",
       "    <tr>\n",
       "      <th>2018</th>\n",
       "      <td>104,565,059.23</td>\n",
       "      <td>8,891,102.21</td>\n",
       "    </tr>\n",
       "    <tr>\n",
       "      <th>2019</th>\n",
       "      <td>91,369,261.85</td>\n",
       "      <td>4,627,798.34</td>\n",
       "    </tr>\n",
       "  </tbody>\n",
       "</table>\n",
       "</div>"
      ],
      "text/plain": [
       "                       Среднее      Медиана\n",
       "show_start_year                            \n",
       "2010                 24,046.08     1,710.00\n",
       "2011                129,383.17     3,000.00\n",
       "2012                 56,548.15     6,220.00\n",
       "2013                166,478.81     3,580.00\n",
       "2014             27,270,885.93    20,400.00\n",
       "2015             85,492,132.46 5,003,450.15\n",
       "2016             91,173,904.27 3,915,041.02\n",
       "2017            136,032,793.33 9,968,340.00\n",
       "2018            104,565,059.23 8,891,102.21\n",
       "2019             91,369,261.85 4,627,798.34"
      ]
     },
     "execution_count": 80,
     "metadata": {},
     "output_type": "execute_result"
    }
   ],
   "source": [
    "data_pivot.loc[:, ['Среднее', 'Медиана']]"
   ]
  },
  {
   "cell_type": "markdown",
   "metadata": {},
   "source": [
    "Динамика сохраняется, начиная с 2010 по 2019 суммы за сборы естественно увеличивались."
   ]
  },
  {
   "cell_type": "code",
   "execution_count": 81,
   "metadata": {},
   "outputs": [
    {
     "data": {
      "image/png": "[encoded data removed]",
      "text/plain": [
       "<Figure size 1440x720 with 1 Axes>"
      ]
     },
     "metadata": {
      "needs_background": "light"
     },
     "output_type": "display_data"
    }
   ],
   "source": [
    "data_pivot.plot(kind='line', y=['Медиана', 'Среднее'], figsize=(20, 10), grid=True)\n",
    "plt.ylabel('Сборы')\n",
    "plt.xlabel('Год')\n",
    "plt.title(\"График медианы и среднего\")\n",
    "plt.show()"
   ]
  },
  {
   "cell_type": "markdown",
   "metadata": {},
   "source": [
    "Можно предположить, что после 2013 года успешные фильмы стали приносить больше денег, в следствии чего видим повышение средних мборов по всем фильмам, но при этом осталось много фильмов с маленькими сборами из-за чего медианное значение лишь слегка увеличилось."
   ]
  },
  {
   "cell_type": "markdown",
   "metadata": {},
   "source": [
    "<div class=\"alert-warning\" style=\"padding: 20px; border-radius: 10px\">\n",
    "<b>Комментарий ревьюера ⚠️</b>\n",
    "\n",
    "<s>В этом пункте можно добавить визуализацию: на одном графике совместить средние и медианы. Кроме того, как можно прокомментировать такую сильную разницу между медианой и средним значением?"
   ]
  },
  {
   "cell_type": "markdown",
   "metadata": {},
   "source": [
    "<div class=\"alert-info\" style=\"padding: 20px; border-radius: 10px\">\n",
    "<b>Комментарий студента 💎</b>\n",
    "\n",
    "Исправлено\n",
    "</div>"
   ]
  },
  {
   "cell_type": "markdown",
   "metadata": {},
   "source": [
    "<div class=\"alert-success\" style=\"padding: 20px; border-radius: 10px\">\n",
    "<b>Комментарий ревьюера V2 ✔️</b>\n",
    "\n",
    "Средние и медианные сборы по годам визуализированы верно.\n",
    "\n",
    "Действительно, такой разброс между медианой и средним может говорить о большом количестве фильмов-середнячков и нескольких удачных проектах.</div>"
   ]
  },
  {
   "cell_type": "markdown",
   "metadata": {
    "id": "Ok89WFwJgFyZ"
   },
   "source": [
    "- Определите, влияет ли возрастное ограничение аудитории («6+», «12+», «16+», «18+» и т. д.) на сборы фильма в прокате в период с 2015 по 2019 год? Фильмы с каким возрастным ограничением собрали больше всего денег в прокате? Меняется ли картина в зависимости от года? Если да, предположите, с чем это может быть связано."
   ]
  },
  {
   "cell_type": "code",
   "execution_count": 82,
   "metadata": {},
   "outputs": [
    {
     "data": {
      "text/html": [
       "<div>\n",
       "<style scoped>\n",
       "    .dataframe tbody tr th:only-of-type {\n",
       "        vertical-align: middle;\n",
       "    }\n",
       "\n",
       "    .dataframe tbody tr th {\n",
       "        vertical-align: top;\n",
       "    }\n",
       "\n",
       "    .dataframe thead th {\n",
       "        text-align: right;\n",
       "    }\n",
       "</style>\n",
       "<table border=\"1\" class=\"dataframe\">\n",
       "  <thead>\n",
       "    <tr style=\"text-align: right;\">\n",
       "      <th>age_restriction</th>\n",
       "      <th>«0+» - для любой зрительской аудитории</th>\n",
       "      <th>«12+» - для детей старше 12 лет</th>\n",
       "      <th>«16+» - для детей старше 16 лет</th>\n",
       "      <th>«18+» - запрещено для детей</th>\n",
       "      <th>«6+» - для детей старше 6 лет</th>\n",
       "    </tr>\n",
       "    <tr>\n",
       "      <th>show_start_year</th>\n",
       "      <th></th>\n",
       "      <th></th>\n",
       "      <th></th>\n",
       "      <th></th>\n",
       "      <th></th>\n",
       "    </tr>\n",
       "  </thead>\n",
       "  <tbody>\n",
       "    <tr>\n",
       "      <th>2010</th>\n",
       "      <td>1,887,611.00</td>\n",
       "      <td>120,146.00</td>\n",
       "      <td>366,512.00</td>\n",
       "      <td>54,385.00</td>\n",
       "      <td>NaN</td>\n",
       "    </tr>\n",
       "    <tr>\n",
       "      <th>2011</th>\n",
       "      <td>13,499,871.00</td>\n",
       "      <td>219,891.00</td>\n",
       "      <td>381,513.00</td>\n",
       "      <td>1,040.00</td>\n",
       "      <td>450.00</td>\n",
       "    </tr>\n",
       "    <tr>\n",
       "      <th>2012</th>\n",
       "      <td>2,266,483.00</td>\n",
       "      <td>108,734.00</td>\n",
       "      <td>3,254,216.00</td>\n",
       "      <td>182,580.00</td>\n",
       "      <td>1,143,410.00</td>\n",
       "    </tr>\n",
       "    <tr>\n",
       "      <th>2013</th>\n",
       "      <td>2,710,302.50</td>\n",
       "      <td>20,910,336.50</td>\n",
       "      <td>658,069.60</td>\n",
       "      <td>5,161,245.60</td>\n",
       "      <td>359,752.00</td>\n",
       "    </tr>\n",
       "    <tr>\n",
       "      <th>2014</th>\n",
       "      <td>375,562,258.20</td>\n",
       "      <td>2,584,782,324.00</td>\n",
       "      <td>544,280,086.70</td>\n",
       "      <td>2,209,712,746.90</td>\n",
       "      <td>1,730,614,443.40</td>\n",
       "    </tr>\n",
       "    <tr>\n",
       "      <th>2015</th>\n",
       "      <td>379,054,578.37</td>\n",
       "      <td>13,616,082,008.91</td>\n",
       "      <td>11,368,120,870.27</td>\n",
       "      <td>5,432,308,367.44</td>\n",
       "      <td>8,701,799,371.41</td>\n",
       "    </tr>\n",
       "    <tr>\n",
       "      <th>2016</th>\n",
       "      <td>150,228,848.67</td>\n",
       "      <td>12,204,446,524.39</td>\n",
       "      <td>16,664,548,541.74</td>\n",
       "      <td>6,793,929,818.87</td>\n",
       "      <td>12,053,146,008.24</td>\n",
       "    </tr>\n",
       "    <tr>\n",
       "      <th>2017</th>\n",
       "      <td>229,598,930.00</td>\n",
       "      <td>7,851,427,660.67</td>\n",
       "      <td>18,745,042,900.06</td>\n",
       "      <td>9,651,495,581.02</td>\n",
       "      <td>12,086,142,145.76</td>\n",
       "    </tr>\n",
       "    <tr>\n",
       "      <th>2018</th>\n",
       "      <td>32,449,002.11</td>\n",
       "      <td>14,267,291,660.69</td>\n",
       "      <td>16,503,602,346.96</td>\n",
       "      <td>8,760,085,501.15</td>\n",
       "      <td>10,104,974,623.41</td>\n",
       "    </tr>\n",
       "    <tr>\n",
       "      <th>2019</th>\n",
       "      <td>17,746,066.82</td>\n",
       "      <td>12,680,198,773.67</td>\n",
       "      <td>12,753,418,984.60</td>\n",
       "      <td>10,121,796,303.64</td>\n",
       "      <td>12,852,548,650.86</td>\n",
       "    </tr>\n",
       "  </tbody>\n",
       "</table>\n",
       "</div>"
      ],
      "text/plain": [
       "age_restriction  «0+» - для любой зрительской аудитории  \\\n",
       "show_start_year                                           \n",
       "2010                                       1,887,611.00   \n",
       "2011                                      13,499,871.00   \n",
       "2012                                       2,266,483.00   \n",
       "2013                                       2,710,302.50   \n",
       "2014                                     375,562,258.20   \n",
       "2015                                     379,054,578.37   \n",
       "2016                                     150,228,848.67   \n",
       "2017                                     229,598,930.00   \n",
       "2018                                      32,449,002.11   \n",
       "2019                                      17,746,066.82   \n",
       "\n",
       "age_restriction  «12+» - для детей старше 12 лет  \\\n",
       "show_start_year                                    \n",
       "2010                                  120,146.00   \n",
       "2011                                  219,891.00   \n",
       "2012                                  108,734.00   \n",
       "2013                               20,910,336.50   \n",
       "2014                            2,584,782,324.00   \n",
       "2015                           13,616,082,008.91   \n",
       "2016                           12,204,446,524.39   \n",
       "2017                            7,851,427,660.67   \n",
       "2018                           14,267,291,660.69   \n",
       "2019                           12,680,198,773.67   \n",
       "\n",
       "age_restriction  «16+» - для детей старше 16 лет  «18+» - запрещено для детей  \\\n",
       "show_start_year                                                                 \n",
       "2010                                  366,512.00                    54,385.00   \n",
       "2011                                  381,513.00                     1,040.00   \n",
       "2012                                3,254,216.00                   182,580.00   \n",
       "2013                                  658,069.60                 5,161,245.60   \n",
       "2014                              544,280,086.70             2,209,712,746.90   \n",
       "2015                           11,368,120,870.27             5,432,308,367.44   \n",
       "2016                           16,664,548,541.74             6,793,929,818.87   \n",
       "2017                           18,745,042,900.06             9,651,495,581.02   \n",
       "2018                           16,503,602,346.96             8,760,085,501.15   \n",
       "2019                           12,753,418,984.60            10,121,796,303.64   \n",
       "\n",
       "age_restriction  «6+» - для детей старше 6 лет  \n",
       "show_start_year                                 \n",
       "2010                                       NaN  \n",
       "2011                                    450.00  \n",
       "2012                              1,143,410.00  \n",
       "2013                                359,752.00  \n",
       "2014                          1,730,614,443.40  \n",
       "2015                          8,701,799,371.41  \n",
       "2016                         12,053,146,008.24  \n",
       "2017                         12,086,142,145.76  \n",
       "2018                         10,104,974,623.41  \n",
       "2019                         12,852,548,650.86  "
      ]
     },
     "execution_count": 82,
     "metadata": {},
     "output_type": "execute_result"
    }
   ],
   "source": [
    "# влияние возрастного органичения аудитории по годам\n",
    "data_ages = data.loc[data['box_office'] > 0].pivot_table(index='show_start_year', columns='age_restriction', values='box_office', aggfunc='sum')\n",
    "data_ages"
   ]
  },
  {
   "cell_type": "code",
   "execution_count": 83,
   "metadata": {
    "id": "jsSbEqfjgFya"
   },
   "outputs": [
    {
     "data": {
      "image/png": "[encoded data removed]",
      "text/plain": [
       "<Figure size 1440x720 with 1 Axes>"
      ]
     },
     "metadata": {
      "needs_background": "light"
     },
     "output_type": "display_data"
    }
   ],
   "source": [
    "# анализируем данные с 2015 по 2019 года\n",
    "data_ages.plot(kind='line', xlim=[2015, 2019], figsize=(20, 10), grid=True)\n",
    "plt.ylabel('Сборы')\n",
    "plt.xlabel('Год')\n",
    "plt.title(\"График сборов в год по жанрам\")\n",
    "plt.show()\n"
   ]
  },
  {
   "cell_type": "code",
   "execution_count": 84,
   "metadata": {},
   "outputs": [
    {
     "data": {
      "text/plain": [
       "age_restriction\n",
       "«0+» - для любой зрительской аудитории    1,205,003,951.67\n",
       "«12+» - для детей старше 12 лет          63,225,588,059.83\n",
       "«16+» - для детей старше 16 лет          76,583,674,040.93\n",
       "«18+» - запрещено для детей              42,974,727,569.62\n",
       "«6+» - для детей старше 6 лет            57,530,728,855.08\n",
       "Name: box_office, dtype: float64"
      ]
     },
     "execution_count": 84,
     "metadata": {},
     "output_type": "execute_result"
    }
   ],
   "source": [
    "# смотрим суммарные данные по категориям\n",
    "data.loc[data['box_office'] > 0].groupby(by='age_restriction')['box_office'].sum()"
   ]
  },
  {
   "cell_type": "code",
   "execution_count": 85,
   "metadata": {},
   "outputs": [
    {
     "data": {
      "text/plain": [
       "show_start_year\n",
       "2010        2,428,654.00\n",
       "2011       14,102,765.00\n",
       "2012        6,955,423.00\n",
       "2013       29,799,706.20\n",
       "2014    7,444,951,859.20\n",
       "2015   39,497,365,196.40\n",
       "2016   47,866,299,741.91\n",
       "2017   48,563,707,217.51\n",
       "2018   49,668,403,134.32\n",
       "2019   48,425,708,779.59\n",
       "Name: box_office, dtype: float64"
      ]
     },
     "execution_count": 85,
     "metadata": {},
     "output_type": "execute_result"
    }
   ],
   "source": [
    "# смотрим суммарные данные по годам\n",
    "data.loc[data['box_office'] > 0].groupby(by='show_start_year')['box_office'].sum()"
   ]
  },
  {
   "cell_type": "markdown",
   "metadata": {},
   "source": [
    "Минимальная сумма по категориям: `1,205,003,951.67` рублей. В прокате фильмы с возрастным ограничением «0+» - для любой зрительской аудитории набрали меньше всего средств.\n",
    "\n",
    "Максимальная сумма по категориям: `76,583,674,040.93` рублей. Больше всего средств собрали фильмы с возрастным ограничением «16+» — для детей старше 16 лет."
   ]
  },
  {
   "cell_type": "markdown",
   "metadata": {},
   "source": [
    "Из рассмотренных данных и полученных результатов можно сделать вывод, что киноиндустрия за период с 2010 по 2019 годы продолжала развиваться и расти, с увеличением производства фильмов и суммы затрат.\n",
    "\n"
   ]
  },
  {
   "cell_type": "markdown",
   "metadata": {},
   "source": [
    "<div class=\"alert-warning\" style=\"padding: 20px; border-radius: 10px\">\n",
    "<b>Комментарий ревьюера ⚠️</b>\n",
    "\n",
    "В целом согласен с выводами, только в расчетах и выводах лучше оперировать не экспоненциальной формой записи чисел, а более приемлемым форматом, например миллионами рублей."
   ]
  },
  {
   "cell_type": "markdown",
   "metadata": {},
   "source": [
    "<div class=\"alert-info\" style=\"padding: 20px; border-radius: 10px\">\n",
    "<b>Комментарий студента 💎</b>\n",
    "​\n",
    "\n",
    "Исправлено.\n",
    "</div>"
   ]
  },
  {
   "cell_type": "markdown",
   "metadata": {},
   "source": [
    "<div class=\"alert-success\" style=\"padding: 20px; border-radius: 10px\">\n",
    "<b>Комментарий ревьюера V2 ✔️</b>\n",
    "\n",
    "Отлично! 👌"
   ]
  },
  {
   "cell_type": "markdown",
   "metadata": {
    "id": "l_Kg6Ku4gFya"
   },
   "source": [
    "### Шаг 4. Исследуйте фильмы, которые получили государственную поддержку\n",
    "\n",
    "На этом этапе нет конкретных инструкций и заданий — поищите интересные закономерности в данных. Посмотрите, сколько выделяют средств на поддержку кино. Проверьте, хорошо ли окупаются такие фильмы, какой у них рейтинг."
   ]
  },
  {
   "cell_type": "code",
   "execution_count": 86,
   "metadata": {},
   "outputs": [
    {
     "name": "stdout",
     "output_type": "stream",
     "text": [
      "0.0\n",
      "40.0\n",
      "32267163.991600536\n",
      "3073568690.79\n"
     ]
    }
   ],
   "source": [
    "print(data['box_office'].min())\n",
    "print(data[data['box_office'] > 0]['box_office'].min())\n",
    "print(data['box_office'].mean())\n",
    "print(data['box_office'].max())"
   ]
  },
  {
   "cell_type": "markdown",
   "metadata": {},
   "source": [
    "В целом видим, что зачастую фильмы получают небольшие сборы. В основном до 200_000_000"
   ]
  },
  {
   "cell_type": "code",
   "execution_count": 87,
   "metadata": {},
   "outputs": [
    {
     "data": {
      "text/plain": [
       "<AxesSubplot:>"
      ]
     },
     "execution_count": 87,
     "metadata": {},
     "output_type": "execute_result"
    },
    {
     "data": {
      "image/png": "[encoded data removed]",
      "text/plain": [
       "<Figure size 432x288 with 1 Axes>"
      ]
     },
     "metadata": {
      "needs_background": "light"
     },
     "output_type": "display_data"
    }
   ],
   "source": [
    "data.loc[data['box_office'] > 0]['box_office'].hist(bins=50)"
   ]
  },
  {
   "cell_type": "code",
   "execution_count": 88,
   "metadata": {},
   "outputs": [
    {
     "data": {
      "image/png": "[encoded data removed]",
      "text/plain": [
       "<Figure size 432x288 with 1 Axes>"
      ]
     },
     "metadata": {
      "needs_background": "light"
     },
     "output_type": "display_data"
    }
   ],
   "source": [
    "# Ограничим диапазон чтобы рассмотреть диграмму подробнее\n",
    "_ = plt.hist(data.loc[data['box_office'] > 0]['box_office'], range=[0,500_000_000])"
   ]
  },
  {
   "cell_type": "markdown",
   "metadata": {},
   "source": [
    "<div class=\"alert-warning\" style=\"padding: 20px; border-radius: 10px\">\n",
    "<b>Комментарий ревьюера ⚠️</b>\n",
    "\n",
    "На этой гистограмме стоит ограничить диапазон, чтобы более подробно рассмотреть основную часть распределения данных."
   ]
  },
  {
   "cell_type": "markdown",
   "metadata": {},
   "source": [
    "<div class=\"alert-info\" style=\"padding: 20px; border-radius: 10px\">\n",
    "<b>Комментарий студента 💎</b>\n",
    "​\n",
    "    \n",
    "Исправлено\n",
    "</div>"
   ]
  },
  {
   "cell_type": "code",
   "execution_count": 89,
   "metadata": {
    "scrolled": true
   },
   "outputs": [
    {
     "data": {
      "text/plain": [
       "financing_source\n",
       "Коммерческий                       6.32\n",
       "Министерство культуры              6.15\n",
       "Министерство культуры, Фонд кино   6.44\n",
       "Фонд кино                          5.83\n",
       "Name: ratings, dtype: float64"
      ]
     },
     "execution_count": 89,
     "metadata": {},
     "output_type": "execute_result"
    }
   ],
   "source": [
    "# смотрим средний рейтинг по финансируемым источникам\n",
    "data.loc[data['box_office'] > 0].groupby(by='financing_source')['ratings'].mean()"
   ]
  },
  {
   "cell_type": "code",
   "execution_count": 90,
   "metadata": {},
   "outputs": [
    {
     "data": {
      "text/plain": [
       "type\n",
       "Анимационный                 6.14\n",
       "Документальный               7.26\n",
       "Музыкально-развлекательный   6.90\n",
       "Научно-популярный            7.41\n",
       "Прочие                       7.27\n",
       "Художественный               6.26\n",
       "Name: ratings, dtype: float64"
      ]
     },
     "execution_count": 90,
     "metadata": {},
     "output_type": "execute_result"
    }
   ],
   "source": [
    "# смотрим среднее значение рейтинга по типу фильма\n",
    "data.loc[data['box_office'] > 0].groupby(by='type')['ratings'].mean()"
   ]
  },
  {
   "cell_type": "code",
   "execution_count": 91,
   "metadata": {},
   "outputs": [
    {
     "data": {
      "text/plain": [
       "age_restriction\n",
       "«0+» - для любой зрительской аудитории   6.22\n",
       "«12+» - для детей старше 12 лет          6.42\n",
       "«16+» - для детей старше 16 лет          6.29\n",
       "«18+» - запрещено для детей              6.19\n",
       "«6+» - для детей старше 6 лет            6.40\n",
       "Name: ratings, dtype: float64"
      ]
     },
     "execution_count": 91,
     "metadata": {},
     "output_type": "execute_result"
    }
   ],
   "source": [
    "# смотрим среднее значение рейтинга по возрастной категории\n",
    "data.loc[data['box_office'] > 0].groupby(by='age_restriction')['ratings'].mean()"
   ]
  },
  {
   "cell_type": "code",
   "execution_count": 92,
   "metadata": {},
   "outputs": [
    {
     "data": {
      "text/plain": [
       "financing_source\n",
       "Коммерческий                        70,811,865.38\n",
       "Министерство культуры               35,013,278.47\n",
       "Министерство культуры, Фонд кино    36,606,291.74\n",
       "Фонд кино                          249,903,839.09\n",
       "Name: box_office, dtype: float64"
      ]
     },
     "execution_count": 92,
     "metadata": {},
     "output_type": "execute_result"
    }
   ],
   "source": [
    "# смотрим среднее значение сбора по финансируемым источникам\n",
    "data.loc[data['box_office'] > 0].groupby(by='financing_source')['box_office'].mean()"
   ]
  },
  {
   "cell_type": "code",
   "execution_count": 93,
   "metadata": {},
   "outputs": [
    {
     "data": {
      "text/plain": [
       "financing_source\n",
       "Коммерческий                                 0.00\n",
       "Министерство культуры               71,835,689.92\n",
       "Министерство культуры, Фонд кино   121,080,299.86\n",
       "Фонд кино                          203,265,895.93\n",
       "Name: budget, dtype: float64"
      ]
     },
     "execution_count": 93,
     "metadata": {},
     "output_type": "execute_result"
    }
   ],
   "source": [
    "# смотрим среднее значение общего бюджета по финансируемым источникам\n",
    "data.loc[data['box_office'] > 0].groupby(by='financing_source')['budget'].mean()"
   ]
  },
  {
   "cell_type": "code",
   "execution_count": 94,
   "metadata": {},
   "outputs": [
    {
     "data": {
      "text/plain": [
       "financing_source\n",
       "Коммерческий                        2816\n",
       "Министерство культуры                152\n",
       "Министерство культуры, Фонд кино      22\n",
       "Фонд кино                            144\n",
       "Name: box_office, dtype: int64"
      ]
     },
     "execution_count": 94,
     "metadata": {},
     "output_type": "execute_result"
    }
   ],
   "source": [
    "# смотрим кол-во фильмов по разным финансируемым источникам\n",
    "data.loc[data['box_office'] > 0].groupby(by='financing_source')['box_office'].count()"
   ]
  },
  {
   "cell_type": "markdown",
   "metadata": {},
   "source": [
    "Если посмотрим на график сборов, которые меньше среднего значения, то получаем, что в основном сборы были до 6_000_000"
   ]
  },
  {
   "cell_type": "code",
   "execution_count": 95,
   "metadata": {},
   "outputs": [
    {
     "data": {
      "image/png": "[encoded data removed]",
      "text/plain": [
       "<Figure size 432x288 with 1 Axes>"
      ]
     },
     "metadata": {
      "needs_background": "light"
     },
     "output_type": "display_data"
    }
   ],
   "source": [
    "data.loc[(data['box_office'] > 0) & (data['box_office'] < data['box_office'].mean())]['box_office'].hist(bins=50);"
   ]
  },
  {
   "cell_type": "code",
   "execution_count": 96,
   "metadata": {},
   "outputs": [
    {
     "data": {
      "text/plain": [
       "financing_source\n",
       "Коммерческий                       6.31\n",
       "Министерство культуры              6.12\n",
       "Министерство культуры, Фонд кино   6.39\n",
       "Фонд кино                          5.53\n",
       "Name: ratings, dtype: float64"
      ]
     },
     "execution_count": 96,
     "metadata": {},
     "output_type": "execute_result"
    }
   ],
   "source": [
    "# смотрим среднее значение рейтинга по финансируемым источникам в сегменте сборов ниже среднего\n",
    "data.loc[(data['box_office'] > 0) & (data['box_office'] < data['box_office'].mean())].groupby(by='financing_source')['ratings'].mean()"
   ]
  },
  {
   "cell_type": "code",
   "execution_count": 97,
   "metadata": {},
   "outputs": [
    {
     "data": {
      "text/plain": [
       "type\n",
       "Анимационный                 6.05\n",
       "Документальный               7.26\n",
       "Музыкально-развлекательный   6.90\n",
       "Научно-популярный            7.41\n",
       "Прочие                       7.27\n",
       "Художественный               6.24\n",
       "Name: ratings, dtype: float64"
      ]
     },
     "execution_count": 97,
     "metadata": {},
     "output_type": "execute_result"
    }
   ],
   "source": [
    "# смотрим среднее значение рейтинга по типу фильмов в сегменте ниже среднего\n",
    "data.loc[(data['box_office'] > 0) & (data['box_office'] < data['box_office'].mean())].groupby(by='type')['ratings'].mean()"
   ]
  },
  {
   "cell_type": "code",
   "execution_count": 98,
   "metadata": {},
   "outputs": [
    {
     "data": {
      "text/plain": [
       "age_restriction\n",
       "«0+» - для любой зрительской аудитории   6.22\n",
       "«12+» - для детей старше 12 лет          6.44\n",
       "«16+» - для детей старше 16 лет          6.30\n",
       "«18+» - запрещено для детей              6.14\n",
       "«6+» - для детей старше 6 лет            6.44\n",
       "Name: ratings, dtype: float64"
      ]
     },
     "execution_count": 98,
     "metadata": {},
     "output_type": "execute_result"
    }
   ],
   "source": [
    "# смотрим среднее значение рейтинга по возрастной категории с сегменте ниже среднего\n",
    "data.loc[(data['box_office'] > 0) & (data['box_office'] < data['box_office'].mean())].groupby(by='age_restriction')['ratings'].mean()"
   ]
  },
  {
   "cell_type": "code",
   "execution_count": 99,
   "metadata": {},
   "outputs": [
    {
     "data": {
      "text/plain": [
       "financing_source\n",
       "Коммерческий                        3,917,804.76\n",
       "Министерство культуры               4,173,512.63\n",
       "Министерство культуры, Фонд кино    6,266,146.62\n",
       "Фонд кино                          11,277,390.47\n",
       "Name: box_office, dtype: float64"
      ]
     },
     "execution_count": 99,
     "metadata": {},
     "output_type": "execute_result"
    }
   ],
   "source": [
    "# смотрим среднее значение сборов по финансируемым источникам в сегменте ниже среднего\n",
    "data.loc[(data['box_office'] > 0) & (data['box_office'] < data['box_office'].mean())].groupby(by='financing_source')['box_office'].mean()"
   ]
  },
  {
   "cell_type": "code",
   "execution_count": 100,
   "metadata": {},
   "outputs": [
    {
     "data": {
      "text/plain": [
       "financing_source\n",
       "Коммерческий                                 0.00\n",
       "Министерство культуры               55,296,159.53\n",
       "Министерство культуры, Фонд кино    87,580,161.11\n",
       "Фонд кино                          107,502,151.40\n",
       "Name: budget, dtype: float64"
      ]
     },
     "execution_count": 100,
     "metadata": {},
     "output_type": "execute_result"
    }
   ],
   "source": [
    "# смотрим среднее значение общего бюджета по финансируемым источникам в сегменте ниже среднего\n",
    "data.loc[(data['box_office'] > 0) & (data['box_office'] < data['box_office'].mean())].groupby(by='financing_source')['budget'].mean()"
   ]
  },
  {
   "cell_type": "code",
   "execution_count": 101,
   "metadata": {},
   "outputs": [
    {
     "data": {
      "text/plain": [
       "financing_source\n",
       "Коммерческий                        2235\n",
       "Министерство культуры                127\n",
       "Министерство культуры, Фонд кино      17\n",
       "Фонд кино                             43\n",
       "Name: box_office, dtype: int64"
      ]
     },
     "execution_count": 101,
     "metadata": {},
     "output_type": "execute_result"
    }
   ],
   "source": [
    "# смотрим кол-во среднего значения сборов по финансируемым источникам в сегменте ниже среднего\n",
    "data.loc[(data['box_office'] > 0) & (data['box_office'] < data['box_office'].mean())].groupby(by='financing_source')['box_office'].count()"
   ]
  },
  {
   "cell_type": "markdown",
   "metadata": {},
   "source": [
    "Посмотрев на разные параметры между всеми фильмами и фильмами, у которых сборы были ниже среднего, мы видим: во втором случае рейтинг, бюджет и сборы немного ниже.\n",
    "Следовательно можно сделать вывод, что фильмы, у которых были небольшие сборы немного менее успешны"
   ]
  },
  {
   "cell_type": "code",
   "execution_count": 102,
   "metadata": {},
   "outputs": [
    {
     "data": {
      "text/plain": [
       "financing_source\n",
       "Министерство культуры               152\n",
       "Министерство культуры, Фонд кино     22\n",
       "Фонд кино                           144\n",
       "Name: box_office, dtype: int64"
      ]
     },
     "execution_count": 102,
     "metadata": {},
     "output_type": "execute_result"
    }
   ],
   "source": [
    "# смотрим распределение фильмов по финансируемым источникам\n",
    "# где бюджет больше 0\n",
    "# можно заметить, что здесь нет коммерческих фильмов\n",
    "data.loc[(data['box_office'] > 0) & (data['budget'] > 0)].groupby(by='financing_source')['box_office'].count()"
   ]
  },
  {
   "cell_type": "code",
   "execution_count": 103,
   "metadata": {},
   "outputs": [
    {
     "data": {
      "image/png": "[encoded data removed]",
      "text/plain": [
       "<Figure size 720x720 with 1 Axes>"
      ]
     },
     "metadata": {},
     "output_type": "display_data"
    }
   ],
   "source": [
    "_ = data.loc[(data['box_office'] > 0) & (data['budget'] > 0)].groupby(by='financing_source')['box_office'].count().plot(kind='pie', y='', figsize=(10, 10), startangle=60)"
   ]
  },
  {
   "cell_type": "markdown",
   "metadata": {},
   "source": [
    "<div class=\"alert-warning\" style=\"padding: 20px; border-radius: 10px\">\n",
    "<b>Комментарий ревьюера V2 ⚠️</b>\n",
    "\n",
    "На круговую диаграмму можно добавить подписи долей в процентах параметром `autopct = `\n",
    "</div>"
   ]
  },
  {
   "cell_type": "code",
   "execution_count": 104,
   "metadata": {},
   "outputs": [
    {
     "data": {
      "text/plain": [
       "financing_source\n",
       "Министерство культуры               127\n",
       "Министерство культуры, Фонд кино     17\n",
       "Фонд кино                            43\n",
       "Name: box_office, dtype: int64"
      ]
     },
     "execution_count": 104,
     "metadata": {},
     "output_type": "execute_result"
    }
   ],
   "source": [
    "# смотрим распределение фильмов по финансируемым источникам\n",
    "# где бюджет больше 0 и сумма сборов находится в сегменте ниже среднего\n",
    "data.loc[(data['box_office'] > 0) & (data['box_office'] < data['box_office'].mean()) & (data['budget'] > 0)].groupby(by='financing_source')['box_office'].count()"
   ]
  },
  {
   "cell_type": "code",
   "execution_count": 105,
   "metadata": {},
   "outputs": [
    {
     "data": {
      "image/png": "[encoded data removed]",
      "text/plain": [
       "<Figure size 720x720 with 1 Axes>"
      ]
     },
     "metadata": {},
     "output_type": "display_data"
    }
   ],
   "source": [
    "_ = data.loc[(data['box_office'] > 0) & (data['box_office'] < data['box_office'].mean()) & (data['budget'] > 0)].groupby(by='financing_source')['box_office'].count().plot(kind='pie', y='', figsize=(10, 10), startangle=30)"
   ]
  },
  {
   "cell_type": "markdown",
   "metadata": {},
   "source": [
    "Можно попрбовать проанализировать сколько фильмов провалилось в прокате, а сколько было успешных.\n",
    "Предположим, что фильм провальный, когда сбор меньше бюджета, а фильм успешный когда сборы фильма в два раза больше бюджета."
   ]
  },
  {
   "cell_type": "code",
   "execution_count": 106,
   "metadata": {},
   "outputs": [],
   "source": [
    "movie_count = data[data['box_office'] > 0].count().sum()\n",
    "bad_movie_count = data[(data['box_office'] > 0) & (data['box_office'] < data['budget'])].count().sum()\n",
    "good_movie_count = data[(data['box_office'] > data['budget']) & (data['box_office'] <= data['budget'] * 2)].count().sum()\n",
    "awesome_movie_count = data[data['box_office'] > data['budget'] * 2].count().sum()"
   ]
  },
  {
   "cell_type": "code",
   "execution_count": 107,
   "metadata": {},
   "outputs": [
    {
     "name": "stdout",
     "output_type": "stream",
     "text": [
      "Кол-во фильмов: 62440\n",
      "Кол-во провальных фильмов: 4886 (0.08%)\n",
      "Кол-во хороших фильмов: 740 (0.01%)\n",
      "Кол-во успешных фильмов 56814 (0.91%)\n"
     ]
    }
   ],
   "source": [
    "print('Кол-во фильмов:', movie_count)\n",
    "print('Кол-во провальных фильмов:', bad_movie_count, '({:.2f}%)'.format(bad_movie_count/movie_count))\n",
    "print('Кол-во хороших фильмов:', good_movie_count, '({:.2f}%)'.format(good_movie_count/movie_count))\n",
    "print('Кол-во успешных фильмов', awesome_movie_count, '({:.2f}%)'.format(awesome_movie_count/movie_count))"
   ]
  },
  {
   "cell_type": "code",
   "execution_count": null,
   "metadata": {},
   "outputs": [],
   "source": []
  },
  {
   "cell_type": "code",
   "execution_count": 108,
   "metadata": {},
   "outputs": [
    {
     "data": {
      "text/html": [
       "<div>\n",
       "<style scoped>\n",
       "    .dataframe tbody tr th:only-of-type {\n",
       "        vertical-align: middle;\n",
       "    }\n",
       "\n",
       "    .dataframe tbody tr th {\n",
       "        vertical-align: top;\n",
       "    }\n",
       "\n",
       "    .dataframe thead th {\n",
       "        text-align: right;\n",
       "    }\n",
       "</style>\n",
       "<table border=\"1\" class=\"dataframe\">\n",
       "  <thead>\n",
       "    <tr style=\"text-align: right;\">\n",
       "      <th></th>\n",
       "      <th>title</th>\n",
       "      <th>puNumber</th>\n",
       "      <th>show_start_date</th>\n",
       "      <th>type</th>\n",
       "      <th>film_studio</th>\n",
       "      <th>production_country</th>\n",
       "      <th>director</th>\n",
       "      <th>producer</th>\n",
       "      <th>age_restriction</th>\n",
       "      <th>refundable_support</th>\n",
       "      <th>nonrefundable_support</th>\n",
       "      <th>budget</th>\n",
       "      <th>financing_source</th>\n",
       "      <th>ratings</th>\n",
       "      <th>genres</th>\n",
       "      <th>box_office</th>\n",
       "      <th>show_start_year</th>\n",
       "      <th>main_director</th>\n",
       "      <th>main_genres</th>\n",
       "      <th>gos_support_percent</th>\n",
       "    </tr>\n",
       "  </thead>\n",
       "  <tbody>\n",
       "    <tr>\n",
       "      <th>0</th>\n",
       "      <td>Открытый простор</td>\n",
       "      <td>221,048,915.00</td>\n",
       "      <td>2015-11-27 12:00:00+00:00</td>\n",
       "      <td>Художественный</td>\n",
       "      <td>Тачстоун Пикчерз, Кобальт Пикчерз, Бикон Пикче...</td>\n",
       "      <td>США</td>\n",
       "      <td>Кевин Костнер</td>\n",
       "      <td>Дэвид Валдес, Кевин Костнер, Джейк Эбертс</td>\n",
       "      <td>«18+» - запрещено для детей</td>\n",
       "      <td>0.00</td>\n",
       "      <td>0.00</td>\n",
       "      <td>0.00</td>\n",
       "      <td>Коммерческий</td>\n",
       "      <td>7.20</td>\n",
       "      <td>боевик,драма,мелодрама</td>\n",
       "      <td>0.00</td>\n",
       "      <td>2015</td>\n",
       "      <td>Кевин Костнер</td>\n",
       "      <td>боевик</td>\n",
       "      <td>0.00</td>\n",
       "    </tr>\n",
       "    <tr>\n",
       "      <th>1</th>\n",
       "      <td>Особо важное задание</td>\n",
       "      <td>111,013,716.00</td>\n",
       "      <td>2016-09-13 12:00:00+00:00</td>\n",
       "      <td>Художественный</td>\n",
       "      <td>Киностудия \"Мосфильм\"</td>\n",
       "      <td>СССР</td>\n",
       "      <td>Е.Матвеев</td>\n",
       "      <td>Без продюсера</td>\n",
       "      <td>«6+» - для детей старше 6 лет</td>\n",
       "      <td>0.00</td>\n",
       "      <td>0.00</td>\n",
       "      <td>0.00</td>\n",
       "      <td>Коммерческий</td>\n",
       "      <td>6.60</td>\n",
       "      <td>драма,военный</td>\n",
       "      <td>0.00</td>\n",
       "      <td>2016</td>\n",
       "      <td>Е.Матвеев</td>\n",
       "      <td>драма</td>\n",
       "      <td>0.00</td>\n",
       "    </tr>\n",
       "    <tr>\n",
       "      <th>2</th>\n",
       "      <td>Особо опасен</td>\n",
       "      <td>221,038,416.00</td>\n",
       "      <td>2016-10-10 12:00:00+00:00</td>\n",
       "      <td>Художественный</td>\n",
       "      <td>Юниверсал Пикчерз, Кикстарт Продакшнз, Марк Пл...</td>\n",
       "      <td>США</td>\n",
       "      <td>Тимур Бекмамбетов</td>\n",
       "      <td>Джим Лемли, Джейсон Нетер, Марк Е.Платт, Яйн Смит</td>\n",
       "      <td>«18+» - запрещено для детей</td>\n",
       "      <td>0.00</td>\n",
       "      <td>0.00</td>\n",
       "      <td>0.00</td>\n",
       "      <td>Коммерческий</td>\n",
       "      <td>6.80</td>\n",
       "      <td>фантастика,боевик,триллер</td>\n",
       "      <td>0.00</td>\n",
       "      <td>2016</td>\n",
       "      <td>Тимур Бекмамбетов</td>\n",
       "      <td>фантастика</td>\n",
       "      <td>0.00</td>\n",
       "    </tr>\n",
       "    <tr>\n",
       "      <th>3</th>\n",
       "      <td>Особо опасен</td>\n",
       "      <td>221,026,916.00</td>\n",
       "      <td>2016-06-10 12:00:00+00:00</td>\n",
       "      <td>Художественный</td>\n",
       "      <td>Юниверсал Пикчерз, Кикстарт Продакшнз, Марк Пл...</td>\n",
       "      <td>США</td>\n",
       "      <td>Тимур Бекмамбетов</td>\n",
       "      <td>Джим Лемли, Джейсон Нетер, Марк Е.Платт, Яйн Смит</td>\n",
       "      <td>«18+» - запрещено для детей</td>\n",
       "      <td>0.00</td>\n",
       "      <td>0.00</td>\n",
       "      <td>0.00</td>\n",
       "      <td>Коммерческий</td>\n",
       "      <td>6.80</td>\n",
       "      <td>фантастика,боевик,триллер</td>\n",
       "      <td>0.00</td>\n",
       "      <td>2016</td>\n",
       "      <td>Тимур Бекмамбетов</td>\n",
       "      <td>фантастика</td>\n",
       "      <td>0.00</td>\n",
       "    </tr>\n",
       "    <tr>\n",
       "      <th>4</th>\n",
       "      <td>Особо опасен</td>\n",
       "      <td>221,030,815.00</td>\n",
       "      <td>2015-07-29 12:00:00+00:00</td>\n",
       "      <td>Художественный</td>\n",
       "      <td>Юниверсал Пикчерз, Кикстарт Продакшнз, Марк Пл...</td>\n",
       "      <td>США</td>\n",
       "      <td>Тимур Бекмамбетов</td>\n",
       "      <td>Джим Лемли, Джейсон Нетер, Марк Е.Платт, Яйн Смит</td>\n",
       "      <td>«18+» - запрещено для детей</td>\n",
       "      <td>0.00</td>\n",
       "      <td>0.00</td>\n",
       "      <td>0.00</td>\n",
       "      <td>Коммерческий</td>\n",
       "      <td>6.80</td>\n",
       "      <td>фантастика,боевик,триллер</td>\n",
       "      <td>0.00</td>\n",
       "      <td>2015</td>\n",
       "      <td>Тимур Бекмамбетов</td>\n",
       "      <td>фантастика</td>\n",
       "      <td>0.00</td>\n",
       "    </tr>\n",
       "  </tbody>\n",
       "</table>\n",
       "</div>"
      ],
      "text/plain": [
       "                  title       puNumber           show_start_date  \\\n",
       "0      Открытый простор 221,048,915.00 2015-11-27 12:00:00+00:00   \n",
       "1  Особо важное задание 111,013,716.00 2016-09-13 12:00:00+00:00   \n",
       "2          Особо опасен 221,038,416.00 2016-10-10 12:00:00+00:00   \n",
       "3          Особо опасен 221,026,916.00 2016-06-10 12:00:00+00:00   \n",
       "4          Особо опасен 221,030,815.00 2015-07-29 12:00:00+00:00   \n",
       "\n",
       "             type                                        film_studio  \\\n",
       "0  Художественный  Тачстоун Пикчерз, Кобальт Пикчерз, Бикон Пикче...   \n",
       "1  Художественный                              Киностудия \"Мосфильм\"   \n",
       "2  Художественный  Юниверсал Пикчерз, Кикстарт Продакшнз, Марк Пл...   \n",
       "3  Художественный  Юниверсал Пикчерз, Кикстарт Продакшнз, Марк Пл...   \n",
       "4  Художественный  Юниверсал Пикчерз, Кикстарт Продакшнз, Марк Пл...   \n",
       "\n",
       "  production_country           director  \\\n",
       "0                США      Кевин Костнер   \n",
       "1               СССР          Е.Матвеев   \n",
       "2                США  Тимур Бекмамбетов   \n",
       "3                США  Тимур Бекмамбетов   \n",
       "4                США  Тимур Бекмамбетов   \n",
       "\n",
       "                                            producer  \\\n",
       "0          Дэвид Валдес, Кевин Костнер, Джейк Эбертс   \n",
       "1                                      Без продюсера   \n",
       "2  Джим Лемли, Джейсон Нетер, Марк Е.Платт, Яйн Смит   \n",
       "3  Джим Лемли, Джейсон Нетер, Марк Е.Платт, Яйн Смит   \n",
       "4  Джим Лемли, Джейсон Нетер, Марк Е.Платт, Яйн Смит   \n",
       "\n",
       "                 age_restriction  refundable_support  nonrefundable_support  \\\n",
       "0    «18+» - запрещено для детей                0.00                   0.00   \n",
       "1  «6+» - для детей старше 6 лет                0.00                   0.00   \n",
       "2    «18+» - запрещено для детей                0.00                   0.00   \n",
       "3    «18+» - запрещено для детей                0.00                   0.00   \n",
       "4    «18+» - запрещено для детей                0.00                   0.00   \n",
       "\n",
       "   budget financing_source  ratings                     genres  box_office  \\\n",
       "0    0.00     Коммерческий     7.20     боевик,драма,мелодрама        0.00   \n",
       "1    0.00     Коммерческий     6.60              драма,военный        0.00   \n",
       "2    0.00     Коммерческий     6.80  фантастика,боевик,триллер        0.00   \n",
       "3    0.00     Коммерческий     6.80  фантастика,боевик,триллер        0.00   \n",
       "4    0.00     Коммерческий     6.80  фантастика,боевик,триллер        0.00   \n",
       "\n",
       "   show_start_year      main_director main_genres  gos_support_percent  \n",
       "0             2015      Кевин Костнер      боевик                 0.00  \n",
       "1             2016          Е.Матвеев       драма                 0.00  \n",
       "2             2016  Тимур Бекмамбетов  фантастика                 0.00  \n",
       "3             2016  Тимур Бекмамбетов  фантастика                 0.00  \n",
       "4             2015  Тимур Бекмамбетов  фантастика                 0.00  "
      ]
     },
     "execution_count": 108,
     "metadata": {},
     "output_type": "execute_result"
    }
   ],
   "source": [
    "commercial_data = data[data['financing_source'] == 'Коммерческий']\n",
    "commercial_data.head()"
   ]
  },
  {
   "cell_type": "code",
   "execution_count": 109,
   "metadata": {},
   "outputs": [
    {
     "data": {
      "text/plain": [
       "6.51197807512494"
      ]
     },
     "execution_count": 109,
     "metadata": {},
     "output_type": "execute_result"
    }
   ],
   "source": [
    "commercial_data['ratings'].mean()"
   ]
  },
  {
   "cell_type": "code",
   "execution_count": 111,
   "metadata": {},
   "outputs": [
    {
     "data": {
      "text/plain": [
       "199406212902.34998"
      ]
     },
     "execution_count": 111,
     "metadata": {},
     "output_type": "execute_result"
    }
   ],
   "source": [
    "#comercial_data['box_office'].sum()\n",
    "commercial_data['box_office'].sum() # Исправил здесь опечатку"
   ]
  },
  {
   "cell_type": "code",
   "execution_count": 112,
   "metadata": {},
   "outputs": [
    {
     "data": {
      "text/html": [
       "<div>\n",
       "<style scoped>\n",
       "    .dataframe tbody tr th:only-of-type {\n",
       "        vertical-align: middle;\n",
       "    }\n",
       "\n",
       "    .dataframe tbody tr th {\n",
       "        vertical-align: top;\n",
       "    }\n",
       "\n",
       "    .dataframe thead th {\n",
       "        text-align: right;\n",
       "    }\n",
       "</style>\n",
       "<table border=\"1\" class=\"dataframe\">\n",
       "  <thead>\n",
       "    <tr style=\"text-align: right;\">\n",
       "      <th></th>\n",
       "      <th>title</th>\n",
       "      <th>puNumber</th>\n",
       "      <th>show_start_date</th>\n",
       "      <th>type</th>\n",
       "      <th>film_studio</th>\n",
       "      <th>production_country</th>\n",
       "      <th>director</th>\n",
       "      <th>producer</th>\n",
       "      <th>age_restriction</th>\n",
       "      <th>refundable_support</th>\n",
       "      <th>nonrefundable_support</th>\n",
       "      <th>budget</th>\n",
       "      <th>financing_source</th>\n",
       "      <th>ratings</th>\n",
       "      <th>genres</th>\n",
       "      <th>box_office</th>\n",
       "      <th>show_start_year</th>\n",
       "      <th>main_director</th>\n",
       "      <th>main_genres</th>\n",
       "      <th>gos_support_percent</th>\n",
       "    </tr>\n",
       "  </thead>\n",
       "  <tbody>\n",
       "    <tr>\n",
       "      <th>1281</th>\n",
       "      <td>Пока еще жива</td>\n",
       "      <td>111,005,313.00</td>\n",
       "      <td>2013-10-11 12:00:00+00:00</td>\n",
       "      <td>Художественный</td>\n",
       "      <td>АНО содействия развитию кинематографии \"Ангел-...</td>\n",
       "      <td>Россия</td>\n",
       "      <td>А.Атанесян</td>\n",
       "      <td>А.Атанесян, М.Бабаханов, Р.Бутко</td>\n",
       "      <td>«16+» - для детей старше 16 лет</td>\n",
       "      <td>0.00</td>\n",
       "      <td>26,500,000.00</td>\n",
       "      <td>79,411,900.00</td>\n",
       "      <td>Министерство культуры</td>\n",
       "      <td>8.10</td>\n",
       "      <td>драма,мелодрама</td>\n",
       "      <td>365,353.60</td>\n",
       "      <td>2013</td>\n",
       "      <td>А.Атанесян</td>\n",
       "      <td>драма</td>\n",
       "      <td>0.33</td>\n",
       "    </tr>\n",
       "    <tr>\n",
       "      <th>1448</th>\n",
       "      <td>Бесславные придурки</td>\n",
       "      <td>111,003,314.00</td>\n",
       "      <td>2014-03-28 12:00:00+00:00</td>\n",
       "      <td>Художественный</td>\n",
       "      <td>ООО \"Компания \"АТК-Студио\"</td>\n",
       "      <td>Россия</td>\n",
       "      <td>А.Якимчук</td>\n",
       "      <td>А.Тютрюмов</td>\n",
       "      <td>«12+» - для детей старше 12 лет</td>\n",
       "      <td>0.00</td>\n",
       "      <td>26,000,000.00</td>\n",
       "      <td>37,142,857.00</td>\n",
       "      <td>Министерство культуры</td>\n",
       "      <td>NaN</td>\n",
       "      <td>Без жанра</td>\n",
       "      <td>28,140.00</td>\n",
       "      <td>2014</td>\n",
       "      <td>А.Якимчук</td>\n",
       "      <td>Без жанра</td>\n",
       "      <td>0.70</td>\n",
       "    </tr>\n",
       "    <tr>\n",
       "      <th>1498</th>\n",
       "      <td>Невидимки</td>\n",
       "      <td>111,004,213.00</td>\n",
       "      <td>2013-09-10 12:00:00+00:00</td>\n",
       "      <td>Художественный</td>\n",
       "      <td>ООО \"Компания \"РЕАЛ-ДАКОТА\"</td>\n",
       "      <td>Россия</td>\n",
       "      <td>Р.Давлетьяров, С.Комаров</td>\n",
       "      <td>Р.Давлетьяров, А.Котелевский, А.Олейников</td>\n",
       "      <td>«12+» - для детей старше 12 лет</td>\n",
       "      <td>0.00</td>\n",
       "      <td>107,847,945.00</td>\n",
       "      <td>176,023,490.00</td>\n",
       "      <td>Фонд кино</td>\n",
       "      <td>5.30</td>\n",
       "      <td>комедия,фантастика</td>\n",
       "      <td>19,957,031.50</td>\n",
       "      <td>2013</td>\n",
       "      <td>Р.Давлетьяров</td>\n",
       "      <td>комедия</td>\n",
       "      <td>0.61</td>\n",
       "    </tr>\n",
       "    <tr>\n",
       "      <th>1524</th>\n",
       "      <td>БЕРЦЫ</td>\n",
       "      <td>111,004,314.00</td>\n",
       "      <td>2014-05-05 12:00:00+00:00</td>\n",
       "      <td>Художественный</td>\n",
       "      <td>ООО \"Студия \"Пассажир\"</td>\n",
       "      <td>Россия</td>\n",
       "      <td>Е.Миндадзе (псевдоним Катя Шагалова)</td>\n",
       "      <td>Л.Антонова</td>\n",
       "      <td>«16+» - для детей старше 16 лет</td>\n",
       "      <td>0.00</td>\n",
       "      <td>28,000,000.00</td>\n",
       "      <td>40,574,140.00</td>\n",
       "      <td>Министерство культуры</td>\n",
       "      <td>4.20</td>\n",
       "      <td>драма</td>\n",
       "      <td>55,917.50</td>\n",
       "      <td>2014</td>\n",
       "      <td>Е.Миндадзе (псевдоним Катя Шагалова)</td>\n",
       "      <td>драма</td>\n",
       "      <td>0.69</td>\n",
       "    </tr>\n",
       "    <tr>\n",
       "      <th>1792</th>\n",
       "      <td>Братья Ч</td>\n",
       "      <td>111,004,414.00</td>\n",
       "      <td>2014-04-23 12:00:00+00:00</td>\n",
       "      <td>Художественный</td>\n",
       "      <td>ООО \"Студия \"Пассажир\"</td>\n",
       "      <td>Россия</td>\n",
       "      <td>М.Угаров</td>\n",
       "      <td>А.Миндадзе, Л.Антонова</td>\n",
       "      <td>«16+» - для детей старше 16 лет</td>\n",
       "      <td>0.00</td>\n",
       "      <td>25,000,000.00</td>\n",
       "      <td>40,015,122.00</td>\n",
       "      <td>Министерство культуры</td>\n",
       "      <td>6.40</td>\n",
       "      <td>драма</td>\n",
       "      <td>232,100.00</td>\n",
       "      <td>2014</td>\n",
       "      <td>М.Угаров</td>\n",
       "      <td>драма</td>\n",
       "      <td>0.62</td>\n",
       "    </tr>\n",
       "  </tbody>\n",
       "</table>\n",
       "</div>"
      ],
      "text/plain": [
       "                    title       puNumber           show_start_date  \\\n",
       "1281        Пока еще жива 111,005,313.00 2013-10-11 12:00:00+00:00   \n",
       "1448  Бесславные придурки 111,003,314.00 2014-03-28 12:00:00+00:00   \n",
       "1498            Невидимки 111,004,213.00 2013-09-10 12:00:00+00:00   \n",
       "1524                БЕРЦЫ 111,004,314.00 2014-05-05 12:00:00+00:00   \n",
       "1792             Братья Ч 111,004,414.00 2014-04-23 12:00:00+00:00   \n",
       "\n",
       "                type                                        film_studio  \\\n",
       "1281  Художественный  АНО содействия развитию кинематографии \"Ангел-...   \n",
       "1448  Художественный                         ООО \"Компания \"АТК-Студио\"   \n",
       "1498  Художественный                        ООО \"Компания \"РЕАЛ-ДАКОТА\"   \n",
       "1524  Художественный                             ООО \"Студия \"Пассажир\"   \n",
       "1792  Художественный                             ООО \"Студия \"Пассажир\"   \n",
       "\n",
       "     production_country                              director  \\\n",
       "1281             Россия                            А.Атанесян   \n",
       "1448             Россия                             А.Якимчук   \n",
       "1498             Россия              Р.Давлетьяров, С.Комаров   \n",
       "1524             Россия  Е.Миндадзе (псевдоним Катя Шагалова)   \n",
       "1792             Россия                              М.Угаров   \n",
       "\n",
       "                                       producer  \\\n",
       "1281           А.Атанесян, М.Бабаханов, Р.Бутко   \n",
       "1448                                 А.Тютрюмов   \n",
       "1498  Р.Давлетьяров, А.Котелевский, А.Олейников   \n",
       "1524                                 Л.Антонова   \n",
       "1792                     А.Миндадзе, Л.Антонова   \n",
       "\n",
       "                      age_restriction  refundable_support  \\\n",
       "1281  «16+» - для детей старше 16 лет                0.00   \n",
       "1448  «12+» - для детей старше 12 лет                0.00   \n",
       "1498  «12+» - для детей старше 12 лет                0.00   \n",
       "1524  «16+» - для детей старше 16 лет                0.00   \n",
       "1792  «16+» - для детей старше 16 лет                0.00   \n",
       "\n",
       "      nonrefundable_support         budget       financing_source  ratings  \\\n",
       "1281          26,500,000.00  79,411,900.00  Министерство культуры     8.10   \n",
       "1448          26,000,000.00  37,142,857.00  Министерство культуры      NaN   \n",
       "1498         107,847,945.00 176,023,490.00              Фонд кино     5.30   \n",
       "1524          28,000,000.00  40,574,140.00  Министерство культуры     4.20   \n",
       "1792          25,000,000.00  40,015,122.00  Министерство культуры     6.40   \n",
       "\n",
       "                  genres    box_office  show_start_year  \\\n",
       "1281     драма,мелодрама    365,353.60             2013   \n",
       "1448           Без жанра     28,140.00             2014   \n",
       "1498  комедия,фантастика 19,957,031.50             2013   \n",
       "1524               драма     55,917.50             2014   \n",
       "1792               драма    232,100.00             2014   \n",
       "\n",
       "                             main_director main_genres  gos_support_percent  \n",
       "1281                            А.Атанесян       драма                 0.33  \n",
       "1448                             А.Якимчук   Без жанра                 0.70  \n",
       "1498                         Р.Давлетьяров     комедия                 0.61  \n",
       "1524  Е.Миндадзе (псевдоним Катя Шагалова)       драма                 0.69  \n",
       "1792                              М.Угаров       драма                 0.62  "
      ]
     },
     "execution_count": 112,
     "metadata": {},
     "output_type": "execute_result"
    }
   ],
   "source": [
    "non_commercial_data = data[data['financing_source'] != 'Коммерческий']\n",
    "non_commercial_data.head()"
   ]
  },
  {
   "cell_type": "code",
   "execution_count": 113,
   "metadata": {},
   "outputs": [
    {
     "data": {
      "text/plain": [
       "6.020886075949368"
      ]
     },
     "execution_count": 113,
     "metadata": {},
     "output_type": "execute_result"
    }
   ],
   "source": [
    "non_commercial_data['ratings'].mean()"
   ]
  },
  {
   "cell_type": "code",
   "execution_count": 114,
   "metadata": {},
   "outputs": [
    {
     "data": {
      "text/plain": [
       "42113509574.78"
      ]
     },
     "execution_count": 114,
     "metadata": {},
     "output_type": "execute_result"
    }
   ],
   "source": [
    "non_commercial_data['box_office'].sum()"
   ]
  },
  {
   "cell_type": "markdown",
   "metadata": {},
   "source": [
    "<div class=\"alert-danger\" style=\"padding: 20px; border-radius: 10px\">\n",
    "    \n",
    "<b>Комментарий ревьюера ❌</b>\n",
    "    \n",
    "<s>Есть несколько замечаний по этому разделу:\n",
    "    \n",
    "- стоит избавиться от экспоненциальной формы, суммы бюджета и господдержки перевести в млн рублей\n",
    "- добавить визуализации для основных расчетов, которые ты считаешь наиболее важными для данного раздела\n",
    "- написать промежуточный вывод\n",
    "\n",
    "Кроме того, для того чтобы понять, насколько эффективна господдержка, давай попробуем выделить в два датафрейма только российские фильмы с господдержкой и без нее и сравнить их по среднему рейтингу и суммарным сборам.</div>"
   ]
  },
  {
   "cell_type": "markdown",
   "metadata": {},
   "source": [
    "<div class=\"alert-info\" style=\"padding: 20px; border-radius: 10px\">\n",
    "<b>Комментарий студента 💎</b>\n",
    "\n",
    "Доделано.\n",
    "\n",
    "</div>"
   ]
  },
  {
   "cell_type": "markdown",
   "metadata": {
    "id": "V2gYwMcPgFyd"
   },
   "source": [
    "### Шаг 5. Напишите общий вывод"
   ]
  },
  {
   "cell_type": "markdown",
   "metadata": {
    "id": "AYRg3dzXgFye"
   },
   "source": [
    "В первой части проекта была выполнена работа по объединении данных в один датафрейм и проведена предобработка данных. Убрали возникающие ошибки, пропкски в данных. данные действия позволяют получить более точные результаты. \n",
    "\n",
    "С 2010 по 2019 годы видим значительный рост в производстве и количестве выходящих фильмов, а также в затратах на их производство. В частности, количество фильмов, которые выходили в прокат, увеличилось примерно в 5 раз. При этом можно отметить, что начиная с 2010 года, был заметен рост количества фильмов, которым выдавались прокатные удостоверения в целом. Однако, в 2017 году произошел резкий спад, который был связан с некоторыми проблемами внутри отрасли, в том числе с качеством фильмов и низкими сборами. К 2019 году значения количества выходящих фильмов и затрат на их производство вернулись к уровню 2016 года.\n",
    "\n",
    "Был спад по количеству выдаваемых прокатных удостоверений и уменьшению сборов в России в 2017 и 2018 годах.\n",
    "\n",
    "Можно сделать вывод, что в течение трех лет подряд c 2016 по 2018 фильмы «16+» были лидерами по сборам в кинотеатрах, тогда как другие категории испытывали спад или не очень заметные изменения. Однако в 2019 году первое место по сборам заняли фильмы «6+» с небольшим отрывом. Вероятно, это связано с тем, что фильмы «16+» после пика в 2017 году начали терять аудиторию, возможно, из-за перенасыщения рынка. Кроме того, начиная с 2017 года, популярность набирают фильмы «12+», которые частично делят сегмент аудитории с фильмами «16+», что также могло привести к снижению интереса к фильмам в этой категории.\n",
    "\n",
    "Однако, данные также показывают, что фильмы, снятые при государственной поддержке, не всегда показывают высокие результаты. Медианные рейтинги таких фильмов по большинству жанров ниже, чем у фильмов, снятых на частные деньги.\n"
   ]
  },
  {
   "cell_type": "markdown",
   "metadata": {},
   "source": [
    "<div class=\"alert-success\" style=\"padding: 20px; border-radius: 10px\">\n",
    "<b>Комментарий ревьюера V2 ✔️</b>\n",
    "\n",
    "Да, получается, что господдержка не сильно влияет на качество, если зрители оценивают такие фильмы ниже.</div>"
   ]
  },
  {
   "cell_type": "markdown",
   "metadata": {},
   "source": [
    "<div class=\"alert-warning\" style=\"padding: 20px; border-radius: 10px\">\n",
    "<b>Комментарий ревьюера ⚠️</b>\n",
    "\n",
    "<s>Правильно, что написала подробный итоговый вывод. Но я не увидел в проекте расчетов, подтверждающий этот тезис вывода:\n",
    "\n",
    ">Результаты сравнения российских фильмов с государственной поддержкой и без нее говорят о том, что общее впечатление о кинематографе России становится более оптимистичным. Рейтинги фильмов в обеих категориях распределились примерно поровну. Фильмы, получившие государственную поддержку, имеют не очень большой, но перевес по рейтингу.\n",
    "    \n",
    "Или вот этот:\n",
    "    \n",
    ">Однако, если смотреть на сборы, то фильмы, снятые по государственной программе, суммарно собирают больше, чем коммерческие проекты.\n",
    "    \n",
    "Для такого сравнения нужно сравнивать только российиские фильмы с поддержкой и без нее."
   ]
  },
  {
   "cell_type": "markdown",
   "metadata": {},
   "source": [
    "<div class=\"alert-info\" style=\"padding: 20px; border-radius: 10px\">\n",
    "<b>Комментарий студента 💎</b>\n",
    "\n",
    "Убрала необоснованные тезисы.\n",
    "    \n",
    "Исправленно.\n",
    "\n",
    "</div>"
   ]
  },
  {
   "cell_type": "markdown",
   "metadata": {},
   "source": [
    "<div style=\"border:solid steelblue 3px; padding: 20px; border-radius: 10px\">\n",
    "\n",
    "##### <b>🏁 Общий комментарий ревьюера:</b>\n",
    "\n",
    "Ты проделала большую работу над проектом. Но нужно кое-что поправить, чтобы я его принял.\n",
    "\n",
    "Для удобства, критические замечания я добавил в меню **Contents** слева.\n",
    "\n",
    "Также, постарайся отработать желтые комментарии.\n",
    "\n",
    "Буду ждать твой доработанный проект. ⌛️"
   ]
  },
  {
   "cell_type": "markdown",
   "metadata": {},
   "source": [
    "<div style=\"border:solid steelblue 3px; padding: 20px; border-radius: 10px\">\n",
    "\n",
    "##### <b>🏁 Общий комментарий ревьюера V2:</b>\n",
    "\n",
    "Спасибо, что доработала проект. Критических замечаний больше нет.\n",
    "    \n",
    "Успехов в дальнейшем обучении! 🏆"
   ]
  },
  {
   "cell_type": "code",
   "execution_count": null,
   "metadata": {},
   "outputs": [],
   "source": []
  }
 ],
 "metadata": {
  "ExecuteTimeLog": [
   {
    "duration": 537,
    "start_time": "2021-07-07T10:12:08.634Z"
   },
   {
    "duration": 206,
    "start_time": "2021-07-07T10:12:30.191Z"
   },
   {
    "duration": 227,
    "start_time": "2021-07-07T10:12:33.078Z"
   },
   {
    "duration": 153,
    "start_time": "2021-07-07T10:13:42.146Z"
   },
   {
    "duration": 233,
    "start_time": "2021-07-07T10:30:09.252Z"
   },
   {
    "duration": 19,
    "start_time": "2021-07-07T10:30:15.577Z"
   },
   {
    "duration": 18,
    "start_time": "2021-07-07T10:30:57.348Z"
   },
   {
    "duration": 19,
    "start_time": "2021-07-07T10:31:17.452Z"
   },
   {
    "duration": 21,
    "start_time": "2021-07-07T10:31:32.227Z"
   },
   {
    "duration": 27,
    "start_time": "2021-07-07T10:32:06.588Z"
   },
   {
    "duration": 23,
    "start_time": "2021-07-07T10:32:43.645Z"
   },
   {
    "duration": 24,
    "start_time": "2021-07-07T10:33:06.948Z"
   },
   {
    "duration": 7,
    "start_time": "2021-07-07T10:33:28.558Z"
   },
   {
    "duration": 23,
    "start_time": "2021-07-07T10:33:43.761Z"
   },
   {
    "duration": 28,
    "start_time": "2021-07-07T10:34:13.466Z"
   },
   {
    "duration": 23,
    "start_time": "2021-07-07T10:35:56.187Z"
   },
   {
    "duration": 6,
    "start_time": "2021-07-07T10:36:48.182Z"
   },
   {
    "duration": 14,
    "start_time": "2021-07-07T10:37:49.641Z"
   },
   {
    "duration": 6,
    "start_time": "2021-07-07T10:38:06.694Z"
   },
   {
    "duration": 6,
    "start_time": "2021-07-07T10:38:13.493Z"
   },
   {
    "duration": 19,
    "start_time": "2021-07-07T10:38:44.056Z"
   },
   {
    "duration": 186,
    "start_time": "2021-07-07T10:48:35.618Z"
   },
   {
    "duration": 24,
    "start_time": "2021-07-07T10:48:51.498Z"
   },
   {
    "duration": 20,
    "start_time": "2021-07-07T10:48:59.415Z"
   },
   {
    "duration": 20,
    "start_time": "2021-07-07T10:53:02.195Z"
   },
   {
    "duration": 188,
    "start_time": "2021-07-07T10:54:40.486Z"
   },
   {
    "duration": 115,
    "start_time": "2021-07-07T10:54:52.552Z"
   },
   {
    "duration": 214,
    "start_time": "2021-07-07T10:54:56.354Z"
   },
   {
    "duration": 47,
    "start_time": "2021-07-07T10:54:58.282Z"
   },
   {
    "duration": 217,
    "start_time": "2021-07-07T10:59:16.075Z"
   },
   {
    "duration": 51,
    "start_time": "2021-07-07T10:59:16.243Z"
   },
   {
    "duration": 578,
    "start_time": "2021-07-07T10:59:18.774Z"
   },
   {
    "duration": 161,
    "start_time": "2021-07-07T10:59:21.238Z"
   },
   {
    "duration": 59,
    "start_time": "2021-07-07T10:59:21.453Z"
   },
   {
    "duration": 3,
    "start_time": "2021-07-07T11:02:10.786Z"
   },
   {
    "duration": 13,
    "start_time": "2021-07-07T11:07:07.722Z"
   },
   {
    "duration": 26,
    "start_time": "2021-07-07T11:07:17.958Z"
   },
   {
    "duration": 22,
    "start_time": "2021-07-07T11:08:17.939Z"
   },
   {
    "duration": 212,
    "start_time": "2021-07-07T11:08:19.665Z"
   },
   {
    "duration": 21,
    "start_time": "2021-07-07T11:08:29.945Z"
   },
   {
    "duration": 31,
    "start_time": "2021-07-07T11:08:38.899Z"
   },
   {
    "duration": 23,
    "start_time": "2021-07-07T11:08:54.527Z"
   },
   {
    "duration": 8,
    "start_time": "2021-07-07T11:18:55.974Z"
   },
   {
    "duration": 7,
    "start_time": "2021-07-07T11:19:03.639Z"
   },
   {
    "duration": 7,
    "start_time": "2021-07-07T11:19:06.444Z"
   },
   {
    "duration": 578,
    "start_time": "2021-07-07T12:09:59.576Z"
   },
   {
    "duration": 195,
    "start_time": "2021-07-07T12:10:00.156Z"
   },
   {
    "duration": 115,
    "start_time": "2021-07-07T12:10:00.353Z"
   },
   {
    "duration": 3,
    "start_time": "2021-07-07T12:10:00.470Z"
   },
   {
    "duration": 32,
    "start_time": "2021-07-07T12:10:00.474Z"
   },
   {
    "duration": 23,
    "start_time": "2021-07-07T12:10:00.508Z"
   },
   {
    "duration": 19,
    "start_time": "2021-07-07T12:10:00.533Z"
   },
   {
    "duration": 44,
    "start_time": "2021-07-07T12:10:00.553Z"
   },
   {
    "duration": 7,
    "start_time": "2021-07-07T12:10:00.600Z"
   },
   {
    "duration": 7,
    "start_time": "2021-07-07T12:19:45.761Z"
   },
   {
    "duration": 21,
    "start_time": "2021-07-07T12:21:35.482Z"
   },
   {
    "duration": 21,
    "start_time": "2021-07-07T12:29:23.569Z"
   },
   {
    "duration": 525,
    "start_time": "2021-07-07T12:29:44.542Z"
   },
   {
    "duration": 214,
    "start_time": "2021-07-07T12:29:45.069Z"
   },
   {
    "duration": 92,
    "start_time": "2021-07-07T12:29:45.285Z"
   },
   {
    "duration": 3,
    "start_time": "2021-07-07T12:29:45.379Z"
   },
   {
    "duration": 28,
    "start_time": "2021-07-07T12:29:45.384Z"
   },
   {
    "duration": 23,
    "start_time": "2021-07-07T12:29:45.413Z"
   },
   {
    "duration": 21,
    "start_time": "2021-07-07T12:29:45.437Z"
   },
   {
    "duration": 41,
    "start_time": "2021-07-07T12:29:45.460Z"
   },
   {
    "duration": 7,
    "start_time": "2021-07-07T12:29:45.502Z"
   },
   {
    "duration": 20,
    "start_time": "2021-07-07T12:29:45.511Z"
   },
   {
    "duration": 12,
    "start_time": "2021-07-07T12:34:02.800Z"
   },
   {
    "duration": 7,
    "start_time": "2021-07-07T12:35:10.479Z"
   },
   {
    "duration": 8,
    "start_time": "2021-07-07T12:35:22.440Z"
   },
   {
    "duration": 6,
    "start_time": "2021-07-07T12:35:35.649Z"
   },
   {
    "duration": 6,
    "start_time": "2021-07-07T12:35:43.107Z"
   },
   {
    "duration": 22,
    "start_time": "2021-07-07T12:38:03.029Z"
   },
   {
    "duration": 10,
    "start_time": "2021-07-07T12:38:06.592Z"
   },
   {
    "duration": 563,
    "start_time": "2021-07-07T12:38:46.493Z"
   },
   {
    "duration": 265,
    "start_time": "2021-07-07T12:38:47.058Z"
   },
   {
    "duration": 94,
    "start_time": "2021-07-07T12:38:47.325Z"
   },
   {
    "duration": 3,
    "start_time": "2021-07-07T12:38:47.422Z"
   },
   {
    "duration": 30,
    "start_time": "2021-07-07T12:38:47.427Z"
   },
   {
    "duration": 16,
    "start_time": "2021-07-07T12:38:53.305Z"
   },
   {
    "duration": 10,
    "start_time": "2021-07-07T12:38:53.499Z"
   },
   {
    "duration": 8,
    "start_time": "2021-07-07T12:39:48.161Z"
   },
   {
    "duration": 27,
    "start_time": "2021-07-07T12:41:17.629Z"
   },
   {
    "duration": 17,
    "start_time": "2021-07-07T12:41:17.867Z"
   },
   {
    "duration": 21,
    "start_time": "2021-07-07T12:41:19.310Z"
   },
   {
    "duration": 7,
    "start_time": "2021-07-07T12:41:19.544Z"
   },
   {
    "duration": 20,
    "start_time": "2021-07-07T12:41:20.504Z"
   },
   {
    "duration": 554,
    "start_time": "2021-07-07T12:56:23.696Z"
   },
   {
    "duration": 200,
    "start_time": "2021-07-07T12:56:25.234Z"
   },
   {
    "duration": 119,
    "start_time": "2021-07-07T12:56:25.480Z"
   },
   {
    "duration": 4,
    "start_time": "2021-07-07T12:56:25.762Z"
   },
   {
    "duration": 26,
    "start_time": "2021-07-07T12:56:27.172Z"
   },
   {
    "duration": 12,
    "start_time": "2021-07-07T12:56:29.051Z"
   },
   {
    "duration": 10,
    "start_time": "2021-07-07T12:56:29.291Z"
   },
   {
    "duration": 8,
    "start_time": "2021-07-07T12:56:29.623Z"
   },
   {
    "duration": 28,
    "start_time": "2021-07-07T12:56:32.137Z"
   },
   {
    "duration": 19,
    "start_time": "2021-07-07T12:56:39.785Z"
   },
   {
    "duration": 20,
    "start_time": "2021-07-07T12:56:44.297Z"
   },
   {
    "duration": 7,
    "start_time": "2021-07-07T12:56:45.392Z"
   },
   {
    "duration": 23,
    "start_time": "2021-07-07T12:56:46.615Z"
   },
   {
    "duration": 4,
    "start_time": "2021-07-07T12:57:06.625Z"
   },
   {
    "duration": 32,
    "start_time": "2021-07-07T12:57:36.690Z"
   },
   {
    "duration": 18,
    "start_time": "2021-07-07T12:58:00.149Z"
   },
   {
    "duration": 15,
    "start_time": "2021-07-07T12:59:16.793Z"
   },
   {
    "duration": 7,
    "start_time": "2021-07-07T13:19:22.624Z"
   },
   {
    "duration": 6,
    "start_time": "2021-07-07T14:17:33.527Z"
   },
   {
    "duration": 9,
    "start_time": "2021-07-07T14:17:48.409Z"
   },
   {
    "duration": 8,
    "start_time": "2021-07-07T14:20:13.060Z"
   },
   {
    "duration": 8,
    "start_time": "2021-07-07T14:20:37.957Z"
   },
   {
    "duration": 8,
    "start_time": "2021-07-07T14:20:47.470Z"
   },
   {
    "duration": 9,
    "start_time": "2021-07-07T14:20:54.503Z"
   },
   {
    "duration": 10,
    "start_time": "2021-07-07T14:28:57.763Z"
   },
   {
    "duration": 3,
    "start_time": "2021-07-07T14:30:23.377Z"
   },
   {
    "duration": 3,
    "start_time": "2021-07-07T14:30:36.489Z"
   },
   {
    "duration": 103,
    "start_time": "2021-07-07T14:30:52.351Z"
   },
   {
    "duration": 8,
    "start_time": "2021-07-07T14:30:54.763Z"
   },
   {
    "duration": 8,
    "start_time": "2021-07-07T14:31:29.301Z"
   },
   {
    "duration": 13,
    "start_time": "2021-07-07T14:31:44.516Z"
   },
   {
    "duration": 7,
    "start_time": "2021-07-07T14:33:10.972Z"
   },
   {
    "duration": 11,
    "start_time": "2021-07-07T14:33:27.780Z"
   },
   {
    "duration": 8,
    "start_time": "2021-07-07T14:34:44.588Z"
   },
   {
    "duration": 57,
    "start_time": "2021-07-07T14:35:59.042Z"
   },
   {
    "duration": 3,
    "start_time": "2021-07-07T14:36:28.168Z"
   },
   {
    "duration": 5,
    "start_time": "2021-07-07T14:36:46.254Z"
   },
   {
    "duration": 4,
    "start_time": "2021-07-07T14:36:52.714Z"
   },
   {
    "duration": 3,
    "start_time": "2021-07-07T14:36:56.612Z"
   },
   {
    "duration": 4,
    "start_time": "2021-07-07T14:36:57.049Z"
   },
   {
    "duration": 3,
    "start_time": "2021-07-07T14:39:21.214Z"
   },
   {
    "duration": 7,
    "start_time": "2021-07-07T14:39:52.406Z"
   },
   {
    "duration": 11,
    "start_time": "2021-07-07T14:39:58.576Z"
   },
   {
    "duration": 9,
    "start_time": "2021-07-07T14:40:26.301Z"
   },
   {
    "duration": 10,
    "start_time": "2021-07-07T14:40:31.704Z"
   },
   {
    "duration": 11,
    "start_time": "2021-07-07T14:40:36.249Z"
   },
   {
    "duration": 10,
    "start_time": "2021-07-07T14:40:39.783Z"
   },
   {
    "duration": 9,
    "start_time": "2021-07-07T14:40:48.558Z"
   },
   {
    "duration": 10,
    "start_time": "2021-07-07T14:40:57.143Z"
   },
   {
    "duration": 9,
    "start_time": "2021-07-07T14:41:06.074Z"
   },
   {
    "duration": 4324,
    "start_time": "2021-07-07T14:41:22.004Z"
   },
   {
    "duration": 11,
    "start_time": "2021-07-07T14:41:33.392Z"
   },
   {
    "duration": 9,
    "start_time": "2021-07-07T14:41:39.288Z"
   },
   {
    "duration": 569,
    "start_time": "2021-07-07T14:42:14.387Z"
   },
   {
    "duration": 197,
    "start_time": "2021-07-07T14:42:14.959Z"
   },
   {
    "duration": 84,
    "start_time": "2021-07-07T14:42:16.052Z"
   },
   {
    "duration": 4,
    "start_time": "2021-07-07T14:42:16.900Z"
   },
   {
    "duration": 27,
    "start_time": "2021-07-07T14:42:19.898Z"
   },
   {
    "duration": 12,
    "start_time": "2021-07-07T14:42:21.577Z"
   },
   {
    "duration": 9,
    "start_time": "2021-07-07T14:42:21.813Z"
   },
   {
    "duration": 9,
    "start_time": "2021-07-07T14:42:22.569Z"
   },
   {
    "duration": 29,
    "start_time": "2021-07-07T14:42:25.837Z"
   },
   {
    "duration": 20,
    "start_time": "2021-07-07T14:42:27.003Z"
   },
   {
    "duration": 21,
    "start_time": "2021-07-07T14:42:28.767Z"
   },
   {
    "duration": 7,
    "start_time": "2021-07-07T14:42:29.838Z"
   },
   {
    "duration": 4,
    "start_time": "2021-07-07T14:43:25.493Z"
   },
   {
    "duration": 7,
    "start_time": "2021-07-07T14:43:26.573Z"
   },
   {
    "duration": 10,
    "start_time": "2021-07-07T14:43:31.639Z"
   },
   {
    "duration": 9,
    "start_time": "2021-07-07T14:43:32.046Z"
   },
   {
    "duration": 10,
    "start_time": "2021-07-07T14:43:33.301Z"
   },
   {
    "duration": 12,
    "start_time": "2021-07-07T14:43:33.658Z"
   },
   {
    "duration": 8,
    "start_time": "2021-07-07T14:43:34.552Z"
   },
   {
    "duration": 9,
    "start_time": "2021-07-07T14:43:35.058Z"
   },
   {
    "duration": 12,
    "start_time": "2021-07-07T14:43:35.914Z"
   },
   {
    "duration": 17,
    "start_time": "2021-07-07T14:45:34.368Z"
   },
   {
    "duration": 512,
    "start_time": "2021-07-07T14:51:58.236Z"
   },
   {
    "duration": 223,
    "start_time": "2021-07-07T14:51:58.750Z"
   },
   {
    "duration": 93,
    "start_time": "2021-07-07T14:51:58.977Z"
   },
   {
    "duration": 4,
    "start_time": "2021-07-07T14:51:59.071Z"
   },
   {
    "duration": 37,
    "start_time": "2021-07-07T14:51:59.077Z"
   },
   {
    "duration": 18,
    "start_time": "2021-07-07T14:51:59.116Z"
   },
   {
    "duration": 10,
    "start_time": "2021-07-07T14:51:59.137Z"
   },
   {
    "duration": 8,
    "start_time": "2021-07-07T14:51:59.149Z"
   },
   {
    "duration": 54,
    "start_time": "2021-07-07T14:51:59.158Z"
   },
   {
    "duration": 18,
    "start_time": "2021-07-07T14:51:59.213Z"
   },
   {
    "duration": 22,
    "start_time": "2021-07-07T14:51:59.232Z"
   },
   {
    "duration": 36,
    "start_time": "2021-07-07T14:51:59.255Z"
   },
   {
    "duration": 7,
    "start_time": "2021-07-07T14:51:59.293Z"
   },
   {
    "duration": 10,
    "start_time": "2021-07-07T14:51:59.302Z"
   },
   {
    "duration": 9,
    "start_time": "2021-07-07T14:51:59.313Z"
   },
   {
    "duration": 11,
    "start_time": "2021-07-07T14:51:59.324Z"
   },
   {
    "duration": 8,
    "start_time": "2021-07-07T14:51:59.337Z"
   },
   {
    "duration": 46,
    "start_time": "2021-07-07T14:51:59.347Z"
   },
   {
    "duration": 22,
    "start_time": "2021-07-07T14:51:59.395Z"
   },
   {
    "duration": 24,
    "start_time": "2021-07-07T14:57:32.911Z"
   },
   {
    "duration": 7,
    "start_time": "2021-07-07T14:58:22.070Z"
   },
   {
    "duration": 4,
    "start_time": "2021-07-07T14:59:11.239Z"
   },
   {
    "duration": 25,
    "start_time": "2021-07-07T15:07:22.208Z"
   },
   {
    "duration": 16,
    "start_time": "2021-07-07T15:08:25.560Z"
   },
   {
    "duration": 15,
    "start_time": "2021-07-07T15:08:40.647Z"
   },
   {
    "duration": 14,
    "start_time": "2021-07-07T15:08:46.669Z"
   },
   {
    "duration": 533,
    "start_time": "2021-07-07T15:18:07.440Z"
   },
   {
    "duration": 173,
    "start_time": "2021-07-07T15:18:07.974Z"
   },
   {
    "duration": 84,
    "start_time": "2021-07-07T15:18:08.149Z"
   },
   {
    "duration": 3,
    "start_time": "2021-07-07T15:18:08.235Z"
   },
   {
    "duration": 30,
    "start_time": "2021-07-07T15:18:08.240Z"
   },
   {
    "duration": 22,
    "start_time": "2021-07-07T15:18:08.272Z"
   },
   {
    "duration": 11,
    "start_time": "2021-07-07T15:18:08.295Z"
   },
   {
    "duration": 11,
    "start_time": "2021-07-07T15:18:08.309Z"
   },
   {
    "duration": 40,
    "start_time": "2021-07-07T15:18:08.322Z"
   },
   {
    "duration": 42,
    "start_time": "2021-07-07T15:18:08.364Z"
   },
   {
    "duration": 22,
    "start_time": "2021-07-07T15:18:08.408Z"
   },
   {
    "duration": 5,
    "start_time": "2021-07-07T15:18:08.432Z"
   },
   {
    "duration": 13,
    "start_time": "2021-07-07T15:18:08.439Z"
   },
   {
    "duration": 9,
    "start_time": "2021-07-07T15:18:08.454Z"
   },
   {
    "duration": 32,
    "start_time": "2021-07-07T15:18:08.465Z"
   },
   {
    "duration": 10,
    "start_time": "2021-07-07T15:18:08.501Z"
   },
   {
    "duration": 7,
    "start_time": "2021-07-07T15:18:08.513Z"
   },
   {
    "duration": 11,
    "start_time": "2021-07-07T15:18:08.521Z"
   },
   {
    "duration": 17,
    "start_time": "2021-07-07T15:18:08.534Z"
   },
   {
    "duration": 44,
    "start_time": "2021-07-07T15:18:08.553Z"
   },
   {
    "duration": 22,
    "start_time": "2021-07-07T15:18:08.599Z"
   },
   {
    "duration": 61,
    "start_time": "2021-07-07T15:18:08.622Z"
   },
   {
    "duration": 7,
    "start_time": "2021-07-07T15:18:39.457Z"
   },
   {
    "duration": 5,
    "start_time": "2021-07-07T16:05:17.020Z"
   },
   {
    "duration": 5,
    "start_time": "2021-07-07T16:51:28.794Z"
   },
   {
    "duration": 546,
    "start_time": "2021-07-07T16:52:26.306Z"
   },
   {
    "duration": 203,
    "start_time": "2021-07-07T16:52:27.523Z"
   },
   {
    "duration": 85,
    "start_time": "2021-07-07T16:52:27.736Z"
   },
   {
    "duration": 4,
    "start_time": "2021-07-07T16:52:27.899Z"
   },
   {
    "duration": 25,
    "start_time": "2021-07-07T16:52:28.674Z"
   },
   {
    "duration": 8,
    "start_time": "2021-07-07T16:52:32.956Z"
   },
   {
    "duration": 18,
    "start_time": "2021-07-07T16:52:35.616Z"
   },
   {
    "duration": 6,
    "start_time": "2021-07-07T16:52:36.913Z"
   },
   {
    "duration": 11,
    "start_time": "2021-07-07T16:52:40.258Z"
   },
   {
    "duration": 10,
    "start_time": "2021-07-07T16:52:46.251Z"
   },
   {
    "duration": 8,
    "start_time": "2021-07-07T16:52:47.182Z"
   },
   {
    "duration": 27,
    "start_time": "2021-07-07T16:53:20.391Z"
   },
   {
    "duration": 20,
    "start_time": "2021-07-07T16:53:22.022Z"
   },
   {
    "duration": 23,
    "start_time": "2021-07-07T16:53:23.690Z"
   },
   {
    "duration": 8,
    "start_time": "2021-07-07T16:53:24.261Z"
   },
   {
    "duration": 4,
    "start_time": "2021-07-07T16:53:38.733Z"
   },
   {
    "duration": 7,
    "start_time": "2021-07-07T16:53:40.445Z"
   },
   {
    "duration": 11,
    "start_time": "2021-07-07T16:53:41.348Z"
   },
   {
    "duration": 13,
    "start_time": "2021-07-07T16:53:45.250Z"
   },
   {
    "duration": 12,
    "start_time": "2021-07-07T16:53:45.467Z"
   },
   {
    "duration": 4,
    "start_time": "2021-07-07T16:55:32.704Z"
   },
   {
    "duration": 12,
    "start_time": "2021-07-07T16:55:49.012Z"
   },
   {
    "duration": 18,
    "start_time": "2021-07-07T16:55:49.547Z"
   },
   {
    "duration": 611,
    "start_time": "2021-07-07T16:58:35.156Z"
   },
   {
    "duration": 200,
    "start_time": "2021-07-07T16:58:35.770Z"
   },
   {
    "duration": 86,
    "start_time": "2021-07-07T16:58:35.972Z"
   },
   {
    "duration": 3,
    "start_time": "2021-07-07T16:58:36.060Z"
   },
   {
    "duration": 27,
    "start_time": "2021-07-07T16:58:36.065Z"
   },
   {
    "duration": 8,
    "start_time": "2021-07-07T16:58:36.094Z"
   },
   {
    "duration": 17,
    "start_time": "2021-07-07T16:58:36.103Z"
   },
   {
    "duration": 5,
    "start_time": "2021-07-07T16:58:36.123Z"
   },
   {
    "duration": 11,
    "start_time": "2021-07-07T16:58:36.130Z"
   },
   {
    "duration": 7,
    "start_time": "2021-07-07T16:58:36.143Z"
   },
   {
    "duration": 37,
    "start_time": "2021-07-07T16:58:36.152Z"
   },
   {
    "duration": 27,
    "start_time": "2021-07-07T16:58:36.191Z"
   },
   {
    "duration": 19,
    "start_time": "2021-07-07T16:58:36.219Z"
   },
   {
    "duration": 49,
    "start_time": "2021-07-07T16:58:36.240Z"
   },
   {
    "duration": 6,
    "start_time": "2021-07-07T16:58:36.291Z"
   },
   {
    "duration": 3,
    "start_time": "2021-07-07T16:58:36.299Z"
   },
   {
    "duration": 13,
    "start_time": "2021-07-07T16:58:36.304Z"
   },
   {
    "duration": 10,
    "start_time": "2021-07-07T16:58:36.319Z"
   },
   {
    "duration": 10,
    "start_time": "2021-07-07T16:58:36.331Z"
   },
   {
    "duration": 44,
    "start_time": "2021-07-07T16:58:36.343Z"
   },
   {
    "duration": 4,
    "start_time": "2021-07-07T16:58:36.388Z"
   },
   {
    "duration": 13,
    "start_time": "2021-07-07T16:58:36.394Z"
   },
   {
    "duration": 16,
    "start_time": "2021-07-07T16:58:36.410Z"
   },
   {
    "duration": 8,
    "start_time": "2021-07-07T17:02:31.629Z"
   },
   {
    "duration": 8,
    "start_time": "2021-07-07T17:02:34.308Z"
   },
   {
    "duration": 6,
    "start_time": "2021-07-07T17:05:13.483Z"
   },
   {
    "duration": 17,
    "start_time": "2021-07-07T17:05:20.606Z"
   },
   {
    "duration": 7,
    "start_time": "2021-07-07T17:05:34.638Z"
   },
   {
    "duration": 3,
    "start_time": "2021-07-07T17:06:31.883Z"
   },
   {
    "duration": 570,
    "start_time": "2021-07-07T17:06:37.165Z"
   },
   {
    "duration": 174,
    "start_time": "2021-07-07T17:06:37.737Z"
   },
   {
    "duration": 47,
    "start_time": "2021-07-07T17:06:37.913Z"
   },
   {
    "duration": 3,
    "start_time": "2021-07-07T17:06:37.962Z"
   },
   {
    "duration": 27,
    "start_time": "2021-07-07T17:06:37.967Z"
   },
   {
    "duration": 7,
    "start_time": "2021-07-07T17:06:37.996Z"
   },
   {
    "duration": 16,
    "start_time": "2021-07-07T17:06:38.005Z"
   },
   {
    "duration": 6,
    "start_time": "2021-07-07T17:06:38.024Z"
   },
   {
    "duration": 12,
    "start_time": "2021-07-07T17:06:38.031Z"
   },
   {
    "duration": 41,
    "start_time": "2021-07-07T17:06:38.045Z"
   },
   {
    "duration": 8,
    "start_time": "2021-07-07T17:06:38.088Z"
   },
   {
    "duration": 26,
    "start_time": "2021-07-07T17:06:38.098Z"
   },
   {
    "duration": 17,
    "start_time": "2021-07-07T17:06:38.126Z"
   },
   {
    "duration": 43,
    "start_time": "2021-07-07T17:06:38.144Z"
   },
   {
    "duration": 6,
    "start_time": "2021-07-07T17:06:38.188Z"
   },
   {
    "duration": 5,
    "start_time": "2021-07-07T17:06:38.195Z"
   },
   {
    "duration": 9,
    "start_time": "2021-07-07T17:06:38.201Z"
   },
   {
    "duration": 12,
    "start_time": "2021-07-07T17:06:38.212Z"
   },
   {
    "duration": 11,
    "start_time": "2021-07-07T17:06:38.226Z"
   },
   {
    "duration": 47,
    "start_time": "2021-07-07T17:06:38.239Z"
   },
   {
    "duration": 4,
    "start_time": "2021-07-07T17:06:38.288Z"
   },
   {
    "duration": 13,
    "start_time": "2021-07-07T17:06:38.293Z"
   },
   {
    "duration": 5,
    "start_time": "2021-07-07T17:06:38.309Z"
   },
   {
    "duration": 18,
    "start_time": "2021-07-07T17:06:38.325Z"
   },
   {
    "duration": 20,
    "start_time": "2021-07-07T17:07:02.805Z"
   },
   {
    "duration": 19,
    "start_time": "2021-07-07T17:07:08.527Z"
   },
   {
    "duration": 19,
    "start_time": "2021-07-07T17:07:12.758Z"
   },
   {
    "duration": 22,
    "start_time": "2021-07-07T17:07:17.497Z"
   },
   {
    "duration": 19,
    "start_time": "2021-07-07T17:07:19.645Z"
   },
   {
    "duration": 10,
    "start_time": "2021-07-07T17:07:34.239Z"
   },
   {
    "duration": 17,
    "start_time": "2021-07-07T17:07:54.144Z"
   },
   {
    "duration": 14,
    "start_time": "2021-07-07T17:08:14.357Z"
   },
   {
    "duration": 616,
    "start_time": "2021-07-07T17:08:45.254Z"
   },
   {
    "duration": 178,
    "start_time": "2021-07-07T17:08:45.872Z"
   },
   {
    "duration": 60,
    "start_time": "2021-07-07T17:08:46.054Z"
   },
   {
    "duration": 3,
    "start_time": "2021-07-07T17:08:46.116Z"
   },
   {
    "duration": 26,
    "start_time": "2021-07-07T17:08:46.121Z"
   },
   {
    "duration": 7,
    "start_time": "2021-07-07T17:08:46.149Z"
   },
   {
    "duration": 17,
    "start_time": "2021-07-07T17:08:46.158Z"
   },
   {
    "duration": 14,
    "start_time": "2021-07-07T17:08:46.176Z"
   },
   {
    "duration": 17,
    "start_time": "2021-07-07T17:08:46.193Z"
   },
   {
    "duration": 9,
    "start_time": "2021-07-07T17:08:46.211Z"
   },
   {
    "duration": 21,
    "start_time": "2021-07-07T17:08:46.221Z"
   },
   {
    "duration": 49,
    "start_time": "2021-07-07T17:08:46.244Z"
   },
   {
    "duration": 24,
    "start_time": "2021-07-07T17:08:46.295Z"
   },
   {
    "duration": 22,
    "start_time": "2021-07-07T17:08:46.321Z"
   },
   {
    "duration": 6,
    "start_time": "2021-07-07T17:08:46.345Z"
   },
   {
    "duration": 5,
    "start_time": "2021-07-07T17:08:46.353Z"
   },
   {
    "duration": 13,
    "start_time": "2021-07-07T17:08:46.386Z"
   },
   {
    "duration": 12,
    "start_time": "2021-07-07T17:08:46.402Z"
   },
   {
    "duration": 10,
    "start_time": "2021-07-07T17:08:46.415Z"
   },
   {
    "duration": 7,
    "start_time": "2021-07-07T17:08:46.427Z"
   },
   {
    "duration": 8,
    "start_time": "2021-07-07T17:08:46.435Z"
   },
   {
    "duration": 68,
    "start_time": "2021-07-07T17:08:46.446Z"
   },
   {
    "duration": 13,
    "start_time": "2021-07-07T17:08:46.516Z"
   },
   {
    "duration": 78,
    "start_time": "2021-07-07T17:08:46.530Z"
   },
   {
    "duration": 40,
    "start_time": "2021-07-07T17:09:08.185Z"
   },
   {
    "duration": 16,
    "start_time": "2021-07-07T17:09:19.324Z"
   },
   {
    "duration": 21,
    "start_time": "2021-07-07T17:09:23.290Z"
   },
   {
    "duration": 13,
    "start_time": "2021-07-07T17:09:54.812Z"
   },
   {
    "duration": 13,
    "start_time": "2021-07-07T17:10:02.039Z"
   },
   {
    "duration": 10,
    "start_time": "2021-07-07T17:10:29.632Z"
   },
   {
    "duration": 13,
    "start_time": "2021-07-07T17:10:52.372Z"
   },
   {
    "duration": 13,
    "start_time": "2021-07-07T17:11:17.270Z"
   },
   {
    "duration": 13,
    "start_time": "2021-07-07T17:14:59.284Z"
   },
   {
    "duration": 547,
    "start_time": "2021-07-07T17:18:52.403Z"
   },
   {
    "duration": 163,
    "start_time": "2021-07-07T17:18:52.952Z"
   },
   {
    "duration": 44,
    "start_time": "2021-07-07T17:18:53.117Z"
   },
   {
    "duration": 3,
    "start_time": "2021-07-07T17:18:53.162Z"
   },
   {
    "duration": 26,
    "start_time": "2021-07-07T17:18:53.167Z"
   },
   {
    "duration": 6,
    "start_time": "2021-07-07T17:18:53.195Z"
   },
   {
    "duration": 15,
    "start_time": "2021-07-07T17:18:53.203Z"
   },
   {
    "duration": 5,
    "start_time": "2021-07-07T17:18:53.220Z"
   },
   {
    "duration": 11,
    "start_time": "2021-07-07T17:18:53.228Z"
   },
   {
    "duration": 9,
    "start_time": "2021-07-07T17:18:53.241Z"
   },
   {
    "duration": 41,
    "start_time": "2021-07-07T17:18:53.252Z"
   },
   {
    "duration": 33,
    "start_time": "2021-07-07T17:18:53.295Z"
   },
   {
    "duration": 19,
    "start_time": "2021-07-07T17:18:53.330Z"
   },
   {
    "duration": 49,
    "start_time": "2021-07-07T17:18:53.350Z"
   },
   {
    "duration": 5,
    "start_time": "2021-07-07T17:18:53.401Z"
   },
   {
    "duration": 5,
    "start_time": "2021-07-07T17:18:53.408Z"
   },
   {
    "duration": 11,
    "start_time": "2021-07-07T17:18:53.414Z"
   },
   {
    "duration": 9,
    "start_time": "2021-07-07T17:18:53.427Z"
   },
   {
    "duration": 10,
    "start_time": "2021-07-07T17:18:53.437Z"
   },
   {
    "duration": 39,
    "start_time": "2021-07-07T17:18:53.448Z"
   },
   {
    "duration": 26,
    "start_time": "2021-07-07T17:18:55.799Z"
   },
   {
    "duration": 598,
    "start_time": "2021-07-07T17:20:17.862Z"
   },
   {
    "duration": 161,
    "start_time": "2021-07-07T17:20:18.462Z"
   },
   {
    "duration": 45,
    "start_time": "2021-07-07T17:20:18.626Z"
   },
   {
    "duration": 4,
    "start_time": "2021-07-07T17:20:18.673Z"
   },
   {
    "duration": 38,
    "start_time": "2021-07-07T17:20:26.877Z"
   },
   {
    "duration": 7,
    "start_time": "2021-07-07T17:20:37.405Z"
   },
   {
    "duration": 19,
    "start_time": "2021-07-07T17:20:51.534Z"
   },
   {
    "duration": 5,
    "start_time": "2021-07-07T17:20:57.228Z"
   },
   {
    "duration": 7,
    "start_time": "2021-07-07T17:21:08.235Z"
   },
   {
    "duration": 19,
    "start_time": "2021-07-07T17:21:42.158Z"
   },
   {
    "duration": 14,
    "start_time": "2021-07-07T17:21:50.225Z"
   },
   {
    "duration": 22,
    "start_time": "2021-07-07T17:22:54.104Z"
   },
   {
    "duration": 5,
    "start_time": "2021-07-07T17:22:56.371Z"
   },
   {
    "duration": 14,
    "start_time": "2021-07-07T17:22:58.316Z"
   },
   {
    "duration": 5,
    "start_time": "2021-07-07T17:22:58.493Z"
   },
   {
    "duration": 35,
    "start_time": "2021-07-07T17:22:59.666Z"
   },
   {
    "duration": 6,
    "start_time": "2021-07-07T17:23:02.410Z"
   },
   {
    "duration": 611,
    "start_time": "2021-07-07T17:24:59.664Z"
   },
   {
    "duration": 178,
    "start_time": "2021-07-07T17:25:01.945Z"
   },
   {
    "duration": 47,
    "start_time": "2021-07-07T17:25:02.125Z"
   },
   {
    "duration": 2,
    "start_time": "2021-07-07T17:25:07.903Z"
   },
   {
    "duration": 254,
    "start_time": "2021-07-07T17:25:08.232Z"
   },
   {
    "duration": 182,
    "start_time": "2021-07-07T17:25:08.671Z"
   },
   {
    "duration": 6,
    "start_time": "2021-07-07T17:25:13.104Z"
   },
   {
    "duration": 36,
    "start_time": "2021-07-07T17:25:13.662Z"
   },
   {
    "duration": 7,
    "start_time": "2021-07-07T17:25:14.528Z"
   },
   {
    "duration": 24,
    "start_time": "2021-07-07T17:25:27.982Z"
   },
   {
    "duration": 3,
    "start_time": "2021-07-07T17:25:48.982Z"
   },
   {
    "duration": 165,
    "start_time": "2021-07-07T17:25:48.987Z"
   },
   {
    "duration": 50,
    "start_time": "2021-07-07T17:25:49.154Z"
   },
   {
    "duration": 4,
    "start_time": "2021-07-07T17:25:49.206Z"
   },
   {
    "duration": 26,
    "start_time": "2021-07-07T17:25:49.212Z"
   },
   {
    "duration": 7,
    "start_time": "2021-07-07T17:25:49.240Z"
   },
   {
    "duration": 16,
    "start_time": "2021-07-07T17:25:49.249Z"
   },
   {
    "duration": 22,
    "start_time": "2021-07-07T17:25:49.266Z"
   },
   {
    "duration": 16,
    "start_time": "2021-07-07T17:25:49.291Z"
   },
   {
    "duration": 9,
    "start_time": "2021-07-07T17:25:49.309Z"
   },
   {
    "duration": 7,
    "start_time": "2021-07-07T17:25:49.319Z"
   },
   {
    "duration": 28,
    "start_time": "2021-07-07T17:25:49.328Z"
   },
   {
    "duration": 44,
    "start_time": "2021-07-07T17:25:49.357Z"
   },
   {
    "duration": 22,
    "start_time": "2021-07-07T17:25:49.403Z"
   },
   {
    "duration": 7,
    "start_time": "2021-07-07T17:25:49.427Z"
   },
   {
    "duration": 3,
    "start_time": "2021-07-07T17:25:49.436Z"
   },
   {
    "duration": 44,
    "start_time": "2021-07-07T17:25:49.441Z"
   },
   {
    "duration": 12,
    "start_time": "2021-07-07T17:25:49.488Z"
   },
   {
    "duration": 13,
    "start_time": "2021-07-07T17:25:49.502Z"
   },
   {
    "duration": 10,
    "start_time": "2021-07-07T17:25:49.516Z"
   },
   {
    "duration": 62,
    "start_time": "2021-07-07T17:25:49.527Z"
   },
   {
    "duration": 26,
    "start_time": "2021-07-07T17:26:51.809Z"
   },
   {
    "duration": 26,
    "start_time": "2021-07-07T17:26:55.759Z"
   },
   {
    "duration": 26,
    "start_time": "2021-07-07T17:27:04.501Z"
   },
   {
    "duration": 25,
    "start_time": "2021-07-07T17:28:24.859Z"
   },
   {
    "duration": 21,
    "start_time": "2021-07-07T17:28:55.250Z"
   },
   {
    "duration": 21,
    "start_time": "2021-07-07T17:28:58.885Z"
   },
   {
    "duration": 7,
    "start_time": "2021-07-07T17:45:40.972Z"
   },
   {
    "duration": 13,
    "start_time": "2021-07-07T17:45:42.529Z"
   },
   {
    "duration": 27,
    "start_time": "2021-07-07T17:45:51.026Z"
   },
   {
    "duration": 518,
    "start_time": "2021-07-07T17:46:15.532Z"
   },
   {
    "duration": 235,
    "start_time": "2021-07-07T17:46:16.053Z"
   },
   {
    "duration": 80,
    "start_time": "2021-07-07T17:46:16.292Z"
   },
   {
    "duration": 5,
    "start_time": "2021-07-07T17:46:16.373Z"
   },
   {
    "duration": 26,
    "start_time": "2021-07-07T17:46:16.380Z"
   },
   {
    "duration": 7,
    "start_time": "2021-07-07T17:46:16.408Z"
   },
   {
    "duration": 16,
    "start_time": "2021-07-07T17:46:16.418Z"
   },
   {
    "duration": 5,
    "start_time": "2021-07-07T17:46:16.436Z"
   },
   {
    "duration": 13,
    "start_time": "2021-07-07T17:46:16.442Z"
   },
   {
    "duration": 35,
    "start_time": "2021-07-07T17:46:16.456Z"
   },
   {
    "duration": 8,
    "start_time": "2021-07-07T17:46:16.493Z"
   },
   {
    "duration": 28,
    "start_time": "2021-07-07T17:46:16.502Z"
   },
   {
    "duration": 17,
    "start_time": "2021-07-07T17:46:16.532Z"
   },
   {
    "duration": 44,
    "start_time": "2021-07-07T17:46:16.551Z"
   },
   {
    "duration": 6,
    "start_time": "2021-07-07T17:46:16.597Z"
   },
   {
    "duration": 4,
    "start_time": "2021-07-07T17:46:16.605Z"
   },
   {
    "duration": 9,
    "start_time": "2021-07-07T17:46:16.610Z"
   },
   {
    "duration": 9,
    "start_time": "2021-07-07T17:46:16.621Z"
   },
   {
    "duration": 10,
    "start_time": "2021-07-07T17:46:16.632Z"
   },
   {
    "duration": 43,
    "start_time": "2021-07-07T17:46:16.644Z"
   },
   {
    "duration": 26,
    "start_time": "2021-07-07T17:46:16.689Z"
   },
   {
    "duration": 19,
    "start_time": "2021-07-07T17:46:16.718Z"
   },
   {
    "duration": 8,
    "start_time": "2021-07-07T17:46:16.738Z"
   },
   {
    "duration": 43,
    "start_time": "2021-07-07T17:46:16.747Z"
   },
   {
    "duration": 19,
    "start_time": "2021-07-07T17:46:16.791Z"
   },
   {
    "duration": 9,
    "start_time": "2021-07-07T17:46:16.812Z"
   },
   {
    "duration": 60,
    "start_time": "2021-07-07T17:46:16.822Z"
   },
   {
    "duration": -8,
    "start_time": "2021-07-07T17:46:16.892Z"
   },
   {
    "duration": 12,
    "start_time": "2021-07-07T17:48:47.707Z"
   },
   {
    "duration": 553,
    "start_time": "2021-07-07T18:10:09.350Z"
   },
   {
    "duration": 230,
    "start_time": "2021-07-07T18:10:09.905Z"
   },
   {
    "duration": 97,
    "start_time": "2021-07-07T18:10:10.137Z"
   },
   {
    "duration": 5,
    "start_time": "2021-07-07T18:10:10.236Z"
   },
   {
    "duration": 29,
    "start_time": "2021-07-07T18:10:10.242Z"
   },
   {
    "duration": 7,
    "start_time": "2021-07-07T18:10:10.272Z"
   },
   {
    "duration": 15,
    "start_time": "2021-07-07T18:10:10.281Z"
   },
   {
    "duration": 4,
    "start_time": "2021-07-07T18:10:10.299Z"
   },
   {
    "duration": 14,
    "start_time": "2021-07-07T18:10:10.305Z"
   },
   {
    "duration": 8,
    "start_time": "2021-07-07T18:10:10.321Z"
   },
   {
    "duration": 8,
    "start_time": "2021-07-07T18:10:10.331Z"
   },
   {
    "duration": 56,
    "start_time": "2021-07-07T18:10:10.341Z"
   },
   {
    "duration": 19,
    "start_time": "2021-07-07T18:10:10.399Z"
   },
   {
    "duration": 23,
    "start_time": "2021-07-07T18:10:10.419Z"
   },
   {
    "duration": 6,
    "start_time": "2021-07-07T18:10:10.444Z"
   },
   {
    "duration": 9,
    "start_time": "2021-07-07T18:10:10.451Z"
   },
   {
    "duration": 30,
    "start_time": "2021-07-07T18:10:10.462Z"
   },
   {
    "duration": 9,
    "start_time": "2021-07-07T18:10:10.494Z"
   },
   {
    "duration": 14,
    "start_time": "2021-07-07T18:10:10.505Z"
   },
   {
    "duration": 7,
    "start_time": "2021-07-07T18:10:10.521Z"
   },
   {
    "duration": 26,
    "start_time": "2021-07-07T18:10:10.530Z"
   },
   {
    "duration": 44,
    "start_time": "2021-07-07T18:10:10.558Z"
   },
   {
    "duration": 7,
    "start_time": "2021-07-07T18:10:10.605Z"
   },
   {
    "duration": 11,
    "start_time": "2021-07-07T18:10:10.614Z"
   },
   {
    "duration": 19,
    "start_time": "2021-07-07T18:10:10.626Z"
   },
   {
    "duration": 44,
    "start_time": "2021-07-07T18:10:10.646Z"
   },
   {
    "duration": 516,
    "start_time": "2021-07-07T18:14:00.826Z"
   },
   {
    "duration": 230,
    "start_time": "2021-07-07T18:14:01.344Z"
   },
   {
    "duration": 105,
    "start_time": "2021-07-07T18:14:01.576Z"
   },
   {
    "duration": 5,
    "start_time": "2021-07-07T18:14:01.683Z"
   },
   {
    "duration": 46,
    "start_time": "2021-07-07T18:14:01.690Z"
   },
   {
    "duration": 7,
    "start_time": "2021-07-07T18:14:01.738Z"
   },
   {
    "duration": 20,
    "start_time": "2021-07-07T18:14:01.747Z"
   },
   {
    "duration": 16,
    "start_time": "2021-07-07T18:14:01.769Z"
   },
   {
    "duration": 14,
    "start_time": "2021-07-07T18:14:01.787Z"
   },
   {
    "duration": 15,
    "start_time": "2021-07-07T18:14:01.803Z"
   },
   {
    "duration": 12,
    "start_time": "2021-07-07T18:14:01.820Z"
   },
   {
    "duration": 35,
    "start_time": "2021-07-07T18:14:01.833Z"
   },
   {
    "duration": 31,
    "start_time": "2021-07-07T18:14:01.869Z"
   },
   {
    "duration": 37,
    "start_time": "2021-07-07T18:14:01.902Z"
   },
   {
    "duration": 8,
    "start_time": "2021-07-07T18:14:01.942Z"
   },
   {
    "duration": 16,
    "start_time": "2021-07-07T18:14:01.952Z"
   },
   {
    "duration": 13,
    "start_time": "2021-07-07T18:14:01.970Z"
   },
   {
    "duration": 32,
    "start_time": "2021-07-07T18:14:01.985Z"
   },
   {
    "duration": 11,
    "start_time": "2021-07-07T18:14:02.019Z"
   },
   {
    "duration": 22,
    "start_time": "2021-07-07T18:14:02.031Z"
   },
   {
    "duration": 27,
    "start_time": "2021-07-07T18:14:02.055Z"
   },
   {
    "duration": 18,
    "start_time": "2021-07-07T18:14:02.084Z"
   },
   {
    "duration": 18,
    "start_time": "2021-07-07T18:14:02.106Z"
   },
   {
    "duration": 11,
    "start_time": "2021-07-07T18:14:02.126Z"
   },
   {
    "duration": 21,
    "start_time": "2021-07-07T18:14:02.138Z"
   },
   {
    "duration": 32,
    "start_time": "2021-07-07T18:14:02.161Z"
   },
   {
    "duration": 28,
    "start_time": "2021-07-07T18:14:44.295Z"
   },
   {
    "duration": 6,
    "start_time": "2021-07-07T18:15:05.834Z"
   },
   {
    "duration": 511,
    "start_time": "2021-07-07T18:15:41.541Z"
   },
   {
    "duration": 183,
    "start_time": "2021-07-07T18:15:42.054Z"
   },
   {
    "duration": 50,
    "start_time": "2021-07-07T18:15:42.239Z"
   },
   {
    "duration": 5,
    "start_time": "2021-07-07T18:15:42.291Z"
   },
   {
    "duration": 48,
    "start_time": "2021-07-07T18:15:42.297Z"
   },
   {
    "duration": 8,
    "start_time": "2021-07-07T18:15:42.346Z"
   },
   {
    "duration": 17,
    "start_time": "2021-07-07T18:15:42.356Z"
   },
   {
    "duration": 15,
    "start_time": "2021-07-07T18:15:42.375Z"
   },
   {
    "duration": 12,
    "start_time": "2021-07-07T18:15:42.392Z"
   },
   {
    "duration": 7,
    "start_time": "2021-07-07T18:15:42.406Z"
   },
   {
    "duration": 7,
    "start_time": "2021-07-07T18:15:42.415Z"
   },
   {
    "duration": 29,
    "start_time": "2021-07-07T18:15:42.423Z"
   },
   {
    "duration": 43,
    "start_time": "2021-07-07T18:15:42.453Z"
   },
   {
    "duration": 18,
    "start_time": "2021-07-07T18:15:42.497Z"
   },
   {
    "duration": 6,
    "start_time": "2021-07-07T18:15:42.516Z"
   },
   {
    "duration": 3,
    "start_time": "2021-07-07T18:15:42.523Z"
   },
   {
    "duration": 18,
    "start_time": "2021-07-07T18:15:42.528Z"
   },
   {
    "duration": 10,
    "start_time": "2021-07-07T18:15:42.547Z"
   },
   {
    "duration": 36,
    "start_time": "2021-07-07T18:15:42.559Z"
   },
   {
    "duration": 8,
    "start_time": "2021-07-07T18:15:42.597Z"
   },
   {
    "duration": 28,
    "start_time": "2021-07-07T18:15:42.606Z"
   },
   {
    "duration": 52,
    "start_time": "2021-07-07T18:15:42.635Z"
   },
   {
    "duration": 7,
    "start_time": "2021-07-07T18:15:42.690Z"
   },
   {
    "duration": 10,
    "start_time": "2021-07-07T18:15:42.699Z"
   },
   {
    "duration": 19,
    "start_time": "2021-07-07T18:15:42.711Z"
   },
   {
    "duration": 9,
    "start_time": "2021-07-07T18:15:42.732Z"
   },
   {
    "duration": 5,
    "start_time": "2021-07-07T18:15:42.743Z"
   },
   {
    "duration": 1450,
    "start_time": "2021-07-07T18:15:51.984Z"
   },
   {
    "duration": 161,
    "start_time": "2021-07-07T18:15:53.435Z"
   },
   {
    "duration": 124,
    "start_time": "2021-07-07T18:15:53.598Z"
   },
   {
    "duration": 5,
    "start_time": "2021-07-07T18:15:53.724Z"
   },
   {
    "duration": 34,
    "start_time": "2021-07-07T18:15:53.730Z"
   },
   {
    "duration": 7,
    "start_time": "2021-07-07T18:15:53.765Z"
   },
   {
    "duration": 15,
    "start_time": "2021-07-07T18:15:53.773Z"
   },
   {
    "duration": 5,
    "start_time": "2021-07-07T18:15:53.791Z"
   },
   {
    "duration": 19,
    "start_time": "2021-07-07T18:15:53.798Z"
   },
   {
    "duration": 9,
    "start_time": "2021-07-07T18:15:53.818Z"
   },
   {
    "duration": 19,
    "start_time": "2021-07-07T18:15:53.828Z"
   },
   {
    "duration": 27,
    "start_time": "2021-07-07T18:15:53.848Z"
   },
   {
    "duration": 16,
    "start_time": "2021-07-07T18:15:53.884Z"
   },
   {
    "duration": 29,
    "start_time": "2021-07-07T18:15:53.901Z"
   },
   {
    "duration": 5,
    "start_time": "2021-07-07T18:15:53.932Z"
   },
   {
    "duration": 15,
    "start_time": "2021-07-07T18:15:53.939Z"
   },
   {
    "duration": 13,
    "start_time": "2021-07-07T18:15:53.956Z"
   },
   {
    "duration": 20,
    "start_time": "2021-07-07T18:15:53.971Z"
   },
   {
    "duration": 14,
    "start_time": "2021-07-07T18:15:53.992Z"
   },
   {
    "duration": 9,
    "start_time": "2021-07-07T18:15:54.009Z"
   },
   {
    "duration": 28,
    "start_time": "2021-07-07T18:15:54.020Z"
   },
   {
    "duration": 50,
    "start_time": "2021-07-07T18:15:54.051Z"
   },
   {
    "duration": 8,
    "start_time": "2021-07-07T18:15:54.105Z"
   },
   {
    "duration": 11,
    "start_time": "2021-07-07T18:15:54.115Z"
   },
   {
    "duration": 20,
    "start_time": "2021-07-07T18:15:54.128Z"
   },
   {
    "duration": 13,
    "start_time": "2021-07-07T18:15:54.184Z"
   },
   {
    "duration": 7,
    "start_time": "2021-07-07T18:15:54.199Z"
   },
   {
    "duration": 7,
    "start_time": "2021-07-07T18:17:08.042Z"
   },
   {
    "duration": 8,
    "start_time": "2021-07-07T18:17:21.008Z"
   },
   {
    "duration": 7,
    "start_time": "2021-07-07T18:17:29.003Z"
   },
   {
    "duration": 8,
    "start_time": "2021-07-07T18:17:32.492Z"
   },
   {
    "duration": 9,
    "start_time": "2021-07-07T18:17:41.758Z"
   },
   {
    "duration": 255,
    "start_time": "2021-07-07T18:20:20.897Z"
   },
   {
    "duration": 173,
    "start_time": "2021-07-07T18:20:26.636Z"
   },
   {
    "duration": 7,
    "start_time": "2021-07-07T18:21:47.164Z"
   },
   {
    "duration": 254,
    "start_time": "2021-07-07T18:23:08.703Z"
   },
   {
    "duration": 21,
    "start_time": "2021-07-07T18:23:22.506Z"
   },
   {
    "duration": 315,
    "start_time": "2021-07-07T18:25:54.801Z"
   },
   {
    "duration": 34,
    "start_time": "2021-07-07T18:26:51.817Z"
   },
   {
    "duration": 327,
    "start_time": "2021-07-07T18:26:56.147Z"
   },
   {
    "duration": 342,
    "start_time": "2021-07-07T18:27:15.887Z"
   },
   {
    "duration": 302,
    "start_time": "2021-07-07T18:28:18.569Z"
   },
   {
    "duration": 226,
    "start_time": "2021-07-07T18:29:20.879Z"
   },
   {
    "duration": 207,
    "start_time": "2021-07-07T18:29:58.114Z"
   },
   {
    "duration": 140,
    "start_time": "2021-07-07T18:32:04.372Z"
   },
   {
    "duration": 158,
    "start_time": "2021-07-07T18:32:32.508Z"
   },
   {
    "duration": 145,
    "start_time": "2021-07-07T18:32:41.365Z"
   },
   {
    "duration": 132,
    "start_time": "2021-07-07T18:32:45.199Z"
   },
   {
    "duration": 11,
    "start_time": "2021-07-07T18:35:24.679Z"
   },
   {
    "duration": 268,
    "start_time": "2021-07-07T18:36:16.145Z"
   },
   {
    "duration": 227,
    "start_time": "2021-07-07T18:37:04.918Z"
   },
   {
    "duration": 3,
    "start_time": "2021-07-07T18:37:33.012Z"
   },
   {
    "duration": 671,
    "start_time": "2021-07-07T18:37:38.295Z"
   },
   {
    "duration": 54,
    "start_time": "2021-07-07T18:37:53.406Z"
   },
   {
    "duration": 631,
    "start_time": "2021-07-07T18:37:56.463Z"
   },
   {
    "duration": 19,
    "start_time": "2021-07-07T18:39:40.535Z"
   },
   {
    "duration": 20,
    "start_time": "2021-07-07T18:40:12.236Z"
   },
   {
    "duration": 633,
    "start_time": "2021-07-07T18:42:00.398Z"
   },
   {
    "duration": 218,
    "start_time": "2021-07-07T18:42:01.033Z"
   },
   {
    "duration": 49,
    "start_time": "2021-07-07T18:42:01.253Z"
   },
   {
    "duration": 5,
    "start_time": "2021-07-07T18:42:01.303Z"
   },
   {
    "duration": 27,
    "start_time": "2021-07-07T18:42:01.310Z"
   },
   {
    "duration": 8,
    "start_time": "2021-07-07T18:42:01.339Z"
   },
   {
    "duration": 20,
    "start_time": "2021-07-07T18:42:01.348Z"
   },
   {
    "duration": 6,
    "start_time": "2021-07-07T18:42:01.386Z"
   },
   {
    "duration": 16,
    "start_time": "2021-07-07T18:42:01.394Z"
   },
   {
    "duration": 9,
    "start_time": "2021-07-07T18:42:01.411Z"
   },
   {
    "duration": 11,
    "start_time": "2021-07-07T18:42:01.421Z"
   },
   {
    "duration": 31,
    "start_time": "2021-07-07T18:42:01.434Z"
   },
   {
    "duration": 18,
    "start_time": "2021-07-07T18:42:01.485Z"
   },
   {
    "duration": 23,
    "start_time": "2021-07-07T18:42:01.505Z"
   },
   {
    "duration": 6,
    "start_time": "2021-07-07T18:42:01.530Z"
   },
   {
    "duration": 10,
    "start_time": "2021-07-07T18:42:01.538Z"
   },
   {
    "duration": 13,
    "start_time": "2021-07-07T18:42:01.550Z"
   },
   {
    "duration": 24,
    "start_time": "2021-07-07T18:42:01.564Z"
   },
   {
    "duration": 20,
    "start_time": "2021-07-07T18:42:01.590Z"
   },
   {
    "duration": 8,
    "start_time": "2021-07-07T18:42:01.611Z"
   },
   {
    "duration": 31,
    "start_time": "2021-07-07T18:42:01.620Z"
   },
   {
    "duration": 39,
    "start_time": "2021-07-07T18:42:01.653Z"
   },
   {
    "duration": 8,
    "start_time": "2021-07-07T18:42:01.696Z"
   },
   {
    "duration": 13,
    "start_time": "2021-07-07T18:42:01.705Z"
   },
   {
    "duration": 20,
    "start_time": "2021-07-07T18:42:01.720Z"
   },
   {
    "duration": 12,
    "start_time": "2021-07-07T18:42:01.741Z"
   },
   {
    "duration": 35,
    "start_time": "2021-07-07T18:42:01.755Z"
   },
   {
    "duration": 14,
    "start_time": "2021-07-07T18:42:01.792Z"
   },
   {
    "duration": 188,
    "start_time": "2021-07-07T18:42:01.808Z"
   },
   {
    "duration": 19,
    "start_time": "2021-07-07T18:42:01.998Z"
   },
   {
    "duration": 175,
    "start_time": "2021-07-07T18:42:02.019Z"
   },
   {
    "duration": 134,
    "start_time": "2021-07-07T18:42:02.196Z"
   },
   {
    "duration": 10,
    "start_time": "2021-07-07T18:42:02.331Z"
   },
   {
    "duration": 19,
    "start_time": "2021-07-07T18:42:02.343Z"
   },
   {
    "duration": 628,
    "start_time": "2021-07-07T18:46:30.701Z"
   },
   {
    "duration": 183,
    "start_time": "2021-07-07T18:46:31.331Z"
   },
   {
    "duration": 48,
    "start_time": "2021-07-07T18:46:31.516Z"
   },
   {
    "duration": 5,
    "start_time": "2021-07-07T18:46:31.566Z"
   },
   {
    "duration": 28,
    "start_time": "2021-07-07T18:46:31.572Z"
   },
   {
    "duration": 8,
    "start_time": "2021-07-07T18:46:31.602Z"
   },
   {
    "duration": 19,
    "start_time": "2021-07-07T18:46:31.611Z"
   },
   {
    "duration": 6,
    "start_time": "2021-07-07T18:46:31.633Z"
   },
   {
    "duration": 17,
    "start_time": "2021-07-07T18:46:31.642Z"
   },
   {
    "duration": 10,
    "start_time": "2021-07-07T18:46:31.684Z"
   },
   {
    "duration": 9,
    "start_time": "2021-07-07T18:46:31.695Z"
   },
   {
    "duration": 28,
    "start_time": "2021-07-07T18:46:31.705Z"
   },
   {
    "duration": 18,
    "start_time": "2021-07-07T18:46:31.735Z"
   },
   {
    "duration": 48,
    "start_time": "2021-07-07T18:46:31.755Z"
   },
   {
    "duration": 6,
    "start_time": "2021-07-07T18:46:31.804Z"
   },
   {
    "duration": 4,
    "start_time": "2021-07-07T18:46:31.812Z"
   },
   {
    "duration": 9,
    "start_time": "2021-07-07T18:46:31.817Z"
   },
   {
    "duration": 10,
    "start_time": "2021-07-07T18:46:31.827Z"
   },
   {
    "duration": 12,
    "start_time": "2021-07-07T18:46:31.838Z"
   },
   {
    "duration": 39,
    "start_time": "2021-07-07T18:46:31.851Z"
   },
   {
    "duration": 24,
    "start_time": "2021-07-07T18:46:31.892Z"
   },
   {
    "duration": 15,
    "start_time": "2021-07-07T18:46:31.918Z"
   },
   {
    "duration": 7,
    "start_time": "2021-07-07T18:46:31.936Z"
   },
   {
    "duration": 8,
    "start_time": "2021-07-07T18:46:31.944Z"
   },
   {
    "duration": 19,
    "start_time": "2021-07-07T18:46:31.984Z"
   },
   {
    "duration": 10,
    "start_time": "2021-07-07T18:46:32.004Z"
   },
   {
    "duration": 5,
    "start_time": "2021-07-07T18:46:32.016Z"
   },
   {
    "duration": 9,
    "start_time": "2021-07-07T18:46:32.023Z"
   },
   {
    "duration": 199,
    "start_time": "2021-07-07T18:46:32.033Z"
   },
   {
    "duration": 19,
    "start_time": "2021-07-07T18:46:32.234Z"
   },
   {
    "duration": 159,
    "start_time": "2021-07-07T18:46:32.255Z"
   },
   {
    "duration": 134,
    "start_time": "2021-07-07T18:46:32.416Z"
   },
   {
    "duration": 10,
    "start_time": "2021-07-07T18:46:32.552Z"
   },
   {
    "duration": 34,
    "start_time": "2021-07-07T18:46:32.563Z"
   },
   {
    "duration": 1039,
    "start_time": "2021-07-08T08:41:09.419Z"
   },
   {
    "duration": 333,
    "start_time": "2021-07-08T08:41:10.459Z"
   },
   {
    "duration": 173,
    "start_time": "2021-07-08T08:41:10.794Z"
   },
   {
    "duration": 5,
    "start_time": "2021-07-08T08:41:10.968Z"
   },
   {
    "duration": 25,
    "start_time": "2021-07-08T08:41:10.975Z"
   },
   {
    "duration": 9,
    "start_time": "2021-07-08T08:41:11.002Z"
   },
   {
    "duration": 18,
    "start_time": "2021-07-08T08:41:11.013Z"
   },
   {
    "duration": 6,
    "start_time": "2021-07-08T08:41:11.033Z"
   },
   {
    "duration": 44,
    "start_time": "2021-07-08T08:41:11.042Z"
   },
   {
    "duration": 10,
    "start_time": "2021-07-08T08:41:11.088Z"
   },
   {
    "duration": 9,
    "start_time": "2021-07-08T08:41:11.100Z"
   },
   {
    "duration": 27,
    "start_time": "2021-07-08T08:41:11.111Z"
   },
   {
    "duration": 46,
    "start_time": "2021-07-08T08:41:11.140Z"
   },
   {
    "duration": 17,
    "start_time": "2021-07-08T08:41:11.187Z"
   },
   {
    "duration": 6,
    "start_time": "2021-07-08T08:41:11.206Z"
   },
   {
    "duration": 5,
    "start_time": "2021-07-08T08:41:11.213Z"
   },
   {
    "duration": 10,
    "start_time": "2021-07-08T08:41:11.219Z"
   },
   {
    "duration": 9,
    "start_time": "2021-07-08T08:41:11.230Z"
   },
   {
    "duration": 45,
    "start_time": "2021-07-08T08:41:11.241Z"
   },
   {
    "duration": 7,
    "start_time": "2021-07-08T08:41:11.287Z"
   },
   {
    "duration": 24,
    "start_time": "2021-07-08T08:41:11.296Z"
   },
   {
    "duration": 16,
    "start_time": "2021-07-08T08:41:11.322Z"
   },
   {
    "duration": 7,
    "start_time": "2021-07-08T08:41:11.341Z"
   },
   {
    "duration": 41,
    "start_time": "2021-07-08T08:41:11.349Z"
   },
   {
    "duration": 17,
    "start_time": "2021-07-08T08:41:11.391Z"
   },
   {
    "duration": 9,
    "start_time": "2021-07-08T08:41:11.410Z"
   },
   {
    "duration": 5,
    "start_time": "2021-07-08T08:41:11.421Z"
   },
   {
    "duration": 6,
    "start_time": "2021-07-08T08:41:11.428Z"
   },
   {
    "duration": 198,
    "start_time": "2021-07-08T08:41:11.435Z"
   },
   {
    "duration": 18,
    "start_time": "2021-07-08T08:41:11.635Z"
   },
   {
    "duration": 155,
    "start_time": "2021-07-08T08:41:11.655Z"
   },
   {
    "duration": 138,
    "start_time": "2021-07-08T08:41:11.811Z"
   },
   {
    "duration": 10,
    "start_time": "2021-07-08T08:41:11.950Z"
   },
   {
    "duration": 29,
    "start_time": "2021-07-08T08:41:11.961Z"
   },
   {
    "duration": 171,
    "start_time": "2021-07-08T08:47:44.522Z"
   },
   {
    "duration": 124,
    "start_time": "2021-07-08T08:47:46.872Z"
   },
   {
    "duration": 191,
    "start_time": "2021-07-08T08:47:58.148Z"
   },
   {
    "duration": 191,
    "start_time": "2021-07-08T08:48:07.412Z"
   },
   {
    "duration": 261,
    "start_time": "2021-07-08T08:48:10.385Z"
   },
   {
    "duration": 255,
    "start_time": "2021-07-08T08:48:14.494Z"
   },
   {
    "duration": 219,
    "start_time": "2021-07-08T08:48:22.752Z"
   },
   {
    "duration": 173,
    "start_time": "2021-07-08T08:49:06.395Z"
   },
   {
    "duration": 180,
    "start_time": "2021-07-08T08:49:21.011Z"
   },
   {
    "duration": 6,
    "start_time": "2021-07-08T08:50:31.697Z"
   },
   {
    "duration": 10,
    "start_time": "2021-07-08T08:50:47.394Z"
   },
   {
    "duration": 11,
    "start_time": "2021-07-08T08:53:49.332Z"
   },
   {
    "duration": 171,
    "start_time": "2021-07-08T08:54:28.408Z"
   },
   {
    "duration": 636,
    "start_time": "2021-07-08T09:02:48.385Z"
   },
   {
    "duration": 227,
    "start_time": "2021-07-08T09:02:49.023Z"
   },
   {
    "duration": 104,
    "start_time": "2021-07-08T09:02:49.252Z"
   },
   {
    "duration": 5,
    "start_time": "2021-07-08T09:02:49.358Z"
   },
   {
    "duration": 27,
    "start_time": "2021-07-08T09:02:49.365Z"
   },
   {
    "duration": 8,
    "start_time": "2021-07-08T09:02:49.394Z"
   },
   {
    "duration": 18,
    "start_time": "2021-07-08T09:02:49.404Z"
   },
   {
    "duration": 6,
    "start_time": "2021-07-08T09:02:49.424Z"
   },
   {
    "duration": 11,
    "start_time": "2021-07-08T09:02:49.433Z"
   },
   {
    "duration": 13,
    "start_time": "2021-07-08T09:02:49.485Z"
   },
   {
    "duration": 9,
    "start_time": "2021-07-08T09:02:49.500Z"
   },
   {
    "duration": 38,
    "start_time": "2021-07-08T09:02:49.511Z"
   },
   {
    "duration": 42,
    "start_time": "2021-07-08T09:02:49.551Z"
   },
   {
    "duration": 21,
    "start_time": "2021-07-08T09:02:49.594Z"
   },
   {
    "duration": 6,
    "start_time": "2021-07-08T09:02:49.616Z"
   },
   {
    "duration": 3,
    "start_time": "2021-07-08T09:02:49.623Z"
   },
   {
    "duration": 9,
    "start_time": "2021-07-08T09:02:49.628Z"
   },
   {
    "duration": 52,
    "start_time": "2021-07-08T09:02:49.638Z"
   },
   {
    "duration": 11,
    "start_time": "2021-07-08T09:02:49.692Z"
   },
   {
    "duration": 8,
    "start_time": "2021-07-08T09:02:49.704Z"
   },
   {
    "duration": 27,
    "start_time": "2021-07-08T09:02:49.713Z"
   },
   {
    "duration": 59,
    "start_time": "2021-07-08T09:02:49.741Z"
   },
   {
    "duration": 8,
    "start_time": "2021-07-08T09:02:49.803Z"
   },
   {
    "duration": 14,
    "start_time": "2021-07-08T09:02:49.813Z"
   },
   {
    "duration": 20,
    "start_time": "2021-07-08T09:02:49.829Z"
   },
   {
    "duration": 44,
    "start_time": "2021-07-08T09:02:49.851Z"
   },
   {
    "duration": 14,
    "start_time": "2021-07-08T09:02:49.896Z"
   },
   {
    "duration": 221,
    "start_time": "2021-07-08T09:02:49.912Z"
   },
   {
    "duration": 6,
    "start_time": "2021-07-08T09:02:50.134Z"
   },
   {
    "duration": 206,
    "start_time": "2021-07-08T09:02:50.142Z"
   },
   {
    "duration": 19,
    "start_time": "2021-07-08T09:02:50.350Z"
   },
   {
    "duration": 21,
    "start_time": "2021-07-08T09:02:50.370Z"
   },
   {
    "duration": 20,
    "start_time": "2021-07-08T09:02:50.393Z"
   },
   {
    "duration": 5,
    "start_time": "2021-07-08T09:02:50.414Z"
   },
   {
    "duration": 5,
    "start_time": "2021-07-08T09:03:34.173Z"
   },
   {
    "duration": 6,
    "start_time": "2021-07-08T09:04:49.062Z"
   },
   {
    "duration": 9,
    "start_time": "2021-07-08T09:04:50.118Z"
   },
   {
    "duration": 14,
    "start_time": "2021-07-08T09:04:58.512Z"
   },
   {
    "duration": 9,
    "start_time": "2021-07-08T09:05:10.988Z"
   },
   {
    "duration": 11,
    "start_time": "2021-07-08T09:05:11.743Z"
   },
   {
    "duration": 7,
    "start_time": "2021-07-08T09:05:25.677Z"
   },
   {
    "duration": 13,
    "start_time": "2021-07-08T09:05:47.189Z"
   },
   {
    "duration": 13,
    "start_time": "2021-07-08T09:05:54.755Z"
   },
   {
    "duration": 4,
    "start_time": "2021-07-08T09:06:29.189Z"
   },
   {
    "duration": 244,
    "start_time": "2021-07-08T09:06:29.195Z"
   },
   {
    "duration": 91,
    "start_time": "2021-07-08T09:06:29.441Z"
   },
   {
    "duration": 4,
    "start_time": "2021-07-08T09:06:29.534Z"
   },
   {
    "duration": 28,
    "start_time": "2021-07-08T09:06:29.540Z"
   },
   {
    "duration": 6,
    "start_time": "2021-07-08T09:06:29.570Z"
   },
   {
    "duration": 18,
    "start_time": "2021-07-08T09:06:29.578Z"
   },
   {
    "duration": 5,
    "start_time": "2021-07-08T09:06:29.597Z"
   },
   {
    "duration": 13,
    "start_time": "2021-07-08T09:06:29.605Z"
   },
   {
    "duration": 8,
    "start_time": "2021-07-08T09:06:29.620Z"
   },
   {
    "duration": 7,
    "start_time": "2021-07-08T09:06:29.630Z"
   },
   {
    "duration": 63,
    "start_time": "2021-07-08T09:06:29.639Z"
   },
   {
    "duration": 17,
    "start_time": "2021-07-08T09:06:29.704Z"
   },
   {
    "duration": 20,
    "start_time": "2021-07-08T09:06:29.723Z"
   },
   {
    "duration": 6,
    "start_time": "2021-07-08T09:06:29.745Z"
   },
   {
    "duration": 3,
    "start_time": "2021-07-08T09:06:29.752Z"
   },
   {
    "duration": 7,
    "start_time": "2021-07-08T09:06:29.785Z"
   },
   {
    "duration": 11,
    "start_time": "2021-07-08T09:06:29.794Z"
   },
   {
    "duration": 15,
    "start_time": "2021-07-08T09:06:29.807Z"
   },
   {
    "duration": 8,
    "start_time": "2021-07-08T09:06:29.823Z"
   },
   {
    "duration": 70,
    "start_time": "2021-07-08T09:06:29.832Z"
   },
   {
    "duration": 17,
    "start_time": "2021-07-08T09:06:29.903Z"
   },
   {
    "duration": 9,
    "start_time": "2021-07-08T09:06:29.921Z"
   },
   {
    "duration": 9,
    "start_time": "2021-07-08T09:06:29.932Z"
   },
   {
    "duration": 57,
    "start_time": "2021-07-08T09:06:29.942Z"
   },
   {
    "duration": 11,
    "start_time": "2021-07-08T09:06:30.001Z"
   },
   {
    "duration": 19,
    "start_time": "2021-07-08T09:06:30.016Z"
   },
   {
    "duration": 217,
    "start_time": "2021-07-08T09:06:30.037Z"
   },
   {
    "duration": 6,
    "start_time": "2021-07-08T09:06:30.255Z"
   },
   {
    "duration": 205,
    "start_time": "2021-07-08T09:06:30.263Z"
   },
   {
    "duration": 27,
    "start_time": "2021-07-08T09:06:30.470Z"
   },
   {
    "duration": 11,
    "start_time": "2021-07-08T09:06:30.500Z"
   },
   {
    "duration": 31,
    "start_time": "2021-07-08T09:06:30.513Z"
   },
   {
    "duration": 18,
    "start_time": "2021-07-08T09:06:30.546Z"
   },
   {
    "duration": 11,
    "start_time": "2021-07-08T09:06:30.566Z"
   },
   {
    "duration": 19,
    "start_time": "2021-07-08T09:06:30.579Z"
   },
   {
    "duration": 20,
    "start_time": "2021-07-08T09:06:49.466Z"
   },
   {
    "duration": 9,
    "start_time": "2021-07-08T09:06:51.994Z"
   },
   {
    "duration": 20,
    "start_time": "2021-07-08T09:06:52.273Z"
   },
   {
    "duration": 246,
    "start_time": "2021-07-08T09:10:21.272Z"
   },
   {
    "duration": 84,
    "start_time": "2021-07-08T09:10:21.436Z"
   },
   {
    "duration": 7,
    "start_time": "2021-07-08T09:10:37.608Z"
   },
   {
    "duration": 189,
    "start_time": "2021-07-08T09:10:38.573Z"
   },
   {
    "duration": 185,
    "start_time": "2021-07-08T09:10:53.181Z"
   },
   {
    "duration": 11,
    "start_time": "2021-07-08T09:10:59.549Z"
   },
   {
    "duration": 42,
    "start_time": "2021-07-08T09:10:59.709Z"
   },
   {
    "duration": 12,
    "start_time": "2021-07-08T09:11:02.857Z"
   },
   {
    "duration": 28,
    "start_time": "2021-07-08T09:11:10.062Z"
   },
   {
    "duration": 249,
    "start_time": "2021-07-08T09:11:37.388Z"
   },
   {
    "duration": 232,
    "start_time": "2021-07-08T09:11:49.485Z"
   },
   {
    "duration": 453,
    "start_time": "2021-07-08T09:12:01.546Z"
   },
   {
    "duration": 440,
    "start_time": "2021-07-08T09:12:12.347Z"
   },
   {
    "duration": 213,
    "start_time": "2021-07-08T09:13:32.196Z"
   },
   {
    "duration": 172,
    "start_time": "2021-07-08T09:14:07.400Z"
   },
   {
    "duration": 185,
    "start_time": "2021-07-08T09:14:14.905Z"
   },
   {
    "duration": 209,
    "start_time": "2021-07-08T09:14:40.109Z"
   },
   {
    "duration": 201,
    "start_time": "2021-07-08T09:14:54.506Z"
   },
   {
    "duration": 622,
    "start_time": "2021-07-08T09:18:14.497Z"
   },
   {
    "duration": 220,
    "start_time": "2021-07-08T09:18:15.121Z"
   },
   {
    "duration": 79,
    "start_time": "2021-07-08T09:18:15.343Z"
   },
   {
    "duration": 4,
    "start_time": "2021-07-08T09:18:15.425Z"
   },
   {
    "duration": 24,
    "start_time": "2021-07-08T09:18:15.431Z"
   },
   {
    "duration": 8,
    "start_time": "2021-07-08T09:18:15.457Z"
   },
   {
    "duration": 16,
    "start_time": "2021-07-08T09:18:15.466Z"
   },
   {
    "duration": 5,
    "start_time": "2021-07-08T09:18:15.484Z"
   },
   {
    "duration": 10,
    "start_time": "2021-07-08T09:18:15.493Z"
   },
   {
    "duration": 8,
    "start_time": "2021-07-08T09:18:15.504Z"
   },
   {
    "duration": 7,
    "start_time": "2021-07-08T09:18:15.513Z"
   },
   {
    "duration": 26,
    "start_time": "2021-07-08T09:18:15.522Z"
   },
   {
    "duration": 49,
    "start_time": "2021-07-08T09:18:15.550Z"
   },
   {
    "duration": 21,
    "start_time": "2021-07-08T09:18:15.601Z"
   },
   {
    "duration": 8,
    "start_time": "2021-07-08T09:18:15.624Z"
   },
   {
    "duration": 3,
    "start_time": "2021-07-08T09:18:15.634Z"
   },
   {
    "duration": 8,
    "start_time": "2021-07-08T09:18:15.639Z"
   },
   {
    "duration": 45,
    "start_time": "2021-07-08T09:18:15.649Z"
   },
   {
    "duration": 13,
    "start_time": "2021-07-08T09:18:15.696Z"
   },
   {
    "duration": 10,
    "start_time": "2021-07-08T09:18:15.711Z"
   },
   {
    "duration": 64,
    "start_time": "2021-07-08T09:18:15.722Z"
   },
   {
    "duration": 19,
    "start_time": "2021-07-08T09:18:15.788Z"
   },
   {
    "duration": 9,
    "start_time": "2021-07-08T09:18:15.809Z"
   },
   {
    "duration": 9,
    "start_time": "2021-07-08T09:18:15.820Z"
   },
   {
    "duration": 18,
    "start_time": "2021-07-08T09:18:15.831Z"
   },
   {
    "duration": 43,
    "start_time": "2021-07-08T09:18:15.851Z"
   },
   {
    "duration": 12,
    "start_time": "2021-07-08T09:18:15.897Z"
   },
   {
    "duration": 219,
    "start_time": "2021-07-08T09:18:15.911Z"
   },
   {
    "duration": 8,
    "start_time": "2021-07-08T09:18:16.132Z"
   },
   {
    "duration": 199,
    "start_time": "2021-07-08T09:18:16.141Z"
   },
   {
    "duration": 18,
    "start_time": "2021-07-08T09:18:16.341Z"
   },
   {
    "duration": 24,
    "start_time": "2021-07-08T09:18:16.361Z"
   },
   {
    "duration": 24,
    "start_time": "2021-07-08T09:18:16.387Z"
   },
   {
    "duration": 211,
    "start_time": "2021-07-08T09:18:16.413Z"
   },
   {
    "duration": 18,
    "start_time": "2021-07-08T09:18:16.626Z"
   },
   {
    "duration": 596,
    "start_time": "2021-07-08T10:06:33.623Z"
   },
   {
    "duration": 181,
    "start_time": "2021-07-08T10:06:34.221Z"
   },
   {
    "duration": 176,
    "start_time": "2021-07-08T10:06:34.635Z"
   },
   {
    "duration": 239,
    "start_time": "2021-07-08T10:06:55.572Z"
   },
   {
    "duration": 6,
    "start_time": "2021-07-08T10:06:57.687Z"
   },
   {
    "duration": 4,
    "start_time": "2021-07-08T10:07:03.956Z"
   },
   {
    "duration": 4,
    "start_time": "2021-07-08T10:07:10.376Z"
   },
   {
    "duration": 4,
    "start_time": "2021-07-08T10:17:19.889Z"
   },
   {
    "duration": 3,
    "start_time": "2021-07-08T10:19:19.407Z"
   },
   {
    "duration": 197,
    "start_time": "2021-07-08T10:19:19.412Z"
   },
   {
    "duration": 127,
    "start_time": "2021-07-08T10:19:19.611Z"
   },
   {
    "duration": 4,
    "start_time": "2021-07-08T10:19:19.740Z"
   },
   {
    "duration": 27,
    "start_time": "2021-07-08T10:19:19.746Z"
   },
   {
    "duration": 7,
    "start_time": "2021-07-08T10:19:19.775Z"
   },
   {
    "duration": 30,
    "start_time": "2021-07-08T10:19:19.784Z"
   },
   {
    "duration": 7,
    "start_time": "2021-07-08T10:19:19.817Z"
   },
   {
    "duration": 26,
    "start_time": "2021-07-08T10:19:19.826Z"
   },
   {
    "duration": 18,
    "start_time": "2021-07-08T10:19:19.854Z"
   },
   {
    "duration": 14,
    "start_time": "2021-07-08T10:19:19.874Z"
   },
   {
    "duration": 48,
    "start_time": "2021-07-08T10:19:19.890Z"
   },
   {
    "duration": 17,
    "start_time": "2021-07-08T10:19:19.940Z"
   },
   {
    "duration": 38,
    "start_time": "2021-07-08T10:19:19.959Z"
   },
   {
    "duration": 8,
    "start_time": "2021-07-08T10:19:19.999Z"
   },
   {
    "duration": 15,
    "start_time": "2021-07-08T10:19:20.009Z"
   },
   {
    "duration": 22,
    "start_time": "2021-07-08T10:19:20.026Z"
   },
   {
    "duration": 10,
    "start_time": "2021-07-08T10:19:20.050Z"
   },
   {
    "duration": 10,
    "start_time": "2021-07-08T10:19:20.062Z"
   },
   {
    "duration": 20,
    "start_time": "2021-07-08T10:19:20.073Z"
   },
   {
    "duration": 29,
    "start_time": "2021-07-08T10:19:20.095Z"
   },
   {
    "duration": 17,
    "start_time": "2021-07-08T10:19:20.126Z"
   },
   {
    "duration": 40,
    "start_time": "2021-07-08T10:19:20.146Z"
   },
   {
    "duration": 15,
    "start_time": "2021-07-08T10:19:20.189Z"
   },
   {
    "duration": 19,
    "start_time": "2021-07-08T10:19:20.206Z"
   },
   {
    "duration": 10,
    "start_time": "2021-07-08T10:19:20.226Z"
   },
   {
    "duration": 11,
    "start_time": "2021-07-08T10:19:20.238Z"
   },
   {
    "duration": 297,
    "start_time": "2021-07-08T10:19:20.250Z"
   },
   {
    "duration": 6,
    "start_time": "2021-07-08T10:19:20.549Z"
   },
   {
    "duration": 191,
    "start_time": "2021-07-08T10:19:20.557Z"
   },
   {
    "duration": 19,
    "start_time": "2021-07-08T10:19:20.750Z"
   },
   {
    "duration": 20,
    "start_time": "2021-07-08T10:19:20.771Z"
   },
   {
    "duration": 15,
    "start_time": "2021-07-08T10:19:20.793Z"
   },
   {
    "duration": 222,
    "start_time": "2021-07-08T10:19:20.809Z"
   },
   {
    "duration": 20,
    "start_time": "2021-07-08T10:19:21.033Z"
   },
   {
    "duration": 27,
    "start_time": "2021-07-08T10:45:04.055Z"
   },
   {
    "duration": 8,
    "start_time": "2021-07-08T10:45:08.478Z"
   },
   {
    "duration": 8,
    "start_time": "2021-07-08T10:45:31.982Z"
   },
   {
    "duration": 10,
    "start_time": "2021-07-08T10:46:01.221Z"
   },
   {
    "duration": 17,
    "start_time": "2021-07-08T10:46:40.011Z"
   },
   {
    "duration": 193,
    "start_time": "2021-07-08T10:48:19.471Z"
   },
   {
    "duration": 225,
    "start_time": "2021-07-08T10:49:26.480Z"
   },
   {
    "duration": 204,
    "start_time": "2021-07-08T10:49:59.992Z"
   },
   {
    "duration": 435,
    "start_time": "2021-07-08T10:50:06.779Z"
   },
   {
    "duration": 199,
    "start_time": "2021-07-08T10:50:14.891Z"
   },
   {
    "duration": 204,
    "start_time": "2021-07-08T10:50:18.501Z"
   },
   {
    "duration": 244,
    "start_time": "2021-07-08T10:50:23.359Z"
   },
   {
    "duration": 192,
    "start_time": "2021-07-08T10:50:29.135Z"
   },
   {
    "duration": 218,
    "start_time": "2021-07-08T10:50:33.092Z"
   },
   {
    "duration": 207,
    "start_time": "2021-07-08T10:52:45.381Z"
   },
   {
    "duration": 5,
    "start_time": "2021-07-08T10:53:34.641Z"
   },
   {
    "duration": 196,
    "start_time": "2021-07-08T10:53:41.478Z"
   },
   {
    "duration": 43,
    "start_time": "2021-07-08T10:53:50.335Z"
   },
   {
    "duration": 32,
    "start_time": "2021-07-08T10:53:55.294Z"
   },
   {
    "duration": 55,
    "start_time": "2021-07-08T10:54:09.675Z"
   },
   {
    "duration": 16,
    "start_time": "2021-07-08T10:54:12.260Z"
   },
   {
    "duration": 15,
    "start_time": "2021-07-08T10:54:49.150Z"
   },
   {
    "duration": 20,
    "start_time": "2021-07-08T10:56:07.596Z"
   },
   {
    "duration": 16,
    "start_time": "2021-07-08T10:58:26.276Z"
   },
   {
    "duration": 22,
    "start_time": "2021-07-08T10:59:00.486Z"
   },
   {
    "duration": 18,
    "start_time": "2021-07-08T11:02:09.653Z"
   },
   {
    "duration": 10,
    "start_time": "2021-07-08T11:03:44.331Z"
   },
   {
    "duration": 10,
    "start_time": "2021-07-08T11:03:54.055Z"
   },
   {
    "duration": 12,
    "start_time": "2021-07-08T11:04:41.967Z"
   },
   {
    "duration": 24,
    "start_time": "2021-07-08T11:07:30.732Z"
   },
   {
    "duration": 6,
    "start_time": "2021-07-08T11:07:37.364Z"
   },
   {
    "duration": 16,
    "start_time": "2021-07-08T11:08:01.819Z"
   },
   {
    "duration": 17,
    "start_time": "2021-07-08T11:09:47.488Z"
   },
   {
    "duration": 246,
    "start_time": "2021-07-08T11:10:00.830Z"
   },
   {
    "duration": 18,
    "start_time": "2021-07-08T11:13:55.195Z"
   },
   {
    "duration": 204,
    "start_time": "2021-07-08T11:14:04.951Z"
   },
   {
    "duration": 19,
    "start_time": "2021-07-08T11:15:10.613Z"
   },
   {
    "duration": 680,
    "start_time": "2021-07-08T11:16:25.793Z"
   },
   {
    "duration": 451,
    "start_time": "2021-07-08T11:16:40.313Z"
   },
   {
    "duration": 469,
    "start_time": "2021-07-08T11:17:21.286Z"
   },
   {
    "duration": 20,
    "start_time": "2021-07-08T11:19:12.554Z"
   },
   {
    "duration": 35,
    "start_time": "2021-07-08T11:20:05.484Z"
   },
   {
    "duration": 53,
    "start_time": "2021-07-08T11:21:40.050Z"
   },
   {
    "duration": 13,
    "start_time": "2021-07-08T11:22:26.059Z"
   },
   {
    "duration": 19,
    "start_time": "2021-07-08T11:22:47.419Z"
   },
   {
    "duration": 25,
    "start_time": "2021-07-08T11:23:19.958Z"
   },
   {
    "duration": 29,
    "start_time": "2021-07-08T11:23:25.415Z"
   },
   {
    "duration": 10,
    "start_time": "2021-07-08T11:24:45.138Z"
   },
   {
    "duration": 19,
    "start_time": "2021-07-08T11:24:54.498Z"
   },
   {
    "duration": 12,
    "start_time": "2021-07-08T11:25:32.225Z"
   },
   {
    "duration": 19,
    "start_time": "2021-07-08T11:25:37.092Z"
   },
   {
    "duration": 17,
    "start_time": "2021-07-08T11:25:58.116Z"
   },
   {
    "duration": 15,
    "start_time": "2021-07-08T11:26:02.258Z"
   },
   {
    "duration": 8,
    "start_time": "2021-07-08T11:26:59.682Z"
   },
   {
    "duration": 184,
    "start_time": "2021-07-08T11:27:21.894Z"
   },
   {
    "duration": 8,
    "start_time": "2021-07-08T11:27:23.824Z"
   },
   {
    "duration": 202,
    "start_time": "2021-07-08T11:27:23.962Z"
   },
   {
    "duration": 360,
    "start_time": "2021-07-08T11:28:33.215Z"
   },
   {
    "duration": 231,
    "start_time": "2021-07-08T11:32:05.542Z"
   },
   {
    "duration": 607,
    "start_time": "2021-07-08T11:36:27.854Z"
   },
   {
    "duration": 241,
    "start_time": "2021-07-08T11:36:28.463Z"
   },
   {
    "duration": 67,
    "start_time": "2021-07-08T11:36:28.709Z"
   },
   {
    "duration": 5,
    "start_time": "2021-07-08T11:36:28.778Z"
   },
   {
    "duration": 32,
    "start_time": "2021-07-08T11:36:28.784Z"
   },
   {
    "duration": 11,
    "start_time": "2021-07-08T11:36:28.819Z"
   },
   {
    "duration": 20,
    "start_time": "2021-07-08T11:36:28.834Z"
   },
   {
    "duration": 36,
    "start_time": "2021-07-08T11:36:28.857Z"
   },
   {
    "duration": 16,
    "start_time": "2021-07-08T11:36:28.895Z"
   },
   {
    "duration": 14,
    "start_time": "2021-07-08T11:36:28.913Z"
   },
   {
    "duration": 9,
    "start_time": "2021-07-08T11:36:28.930Z"
   },
   {
    "duration": 55,
    "start_time": "2021-07-08T11:36:28.941Z"
   },
   {
    "duration": 27,
    "start_time": "2021-07-08T11:36:28.999Z"
   },
   {
    "duration": 30,
    "start_time": "2021-07-08T11:36:29.028Z"
   },
   {
    "duration": 31,
    "start_time": "2021-07-08T11:36:29.060Z"
   },
   {
    "duration": 3,
    "start_time": "2021-07-08T11:36:29.093Z"
   },
   {
    "duration": 12,
    "start_time": "2021-07-08T11:36:29.099Z"
   },
   {
    "duration": 11,
    "start_time": "2021-07-08T11:36:29.112Z"
   },
   {
    "duration": 12,
    "start_time": "2021-07-08T11:36:29.125Z"
   },
   {
    "duration": 9,
    "start_time": "2021-07-08T11:36:29.139Z"
   },
   {
    "duration": 31,
    "start_time": "2021-07-08T11:36:29.191Z"
   },
   {
    "duration": 17,
    "start_time": "2021-07-08T11:36:29.226Z"
   },
   {
    "duration": 7,
    "start_time": "2021-07-08T11:36:29.245Z"
   },
   {
    "duration": 10,
    "start_time": "2021-07-08T11:36:29.254Z"
   },
   {
    "duration": 30,
    "start_time": "2021-07-08T11:36:29.292Z"
   },
   {
    "duration": 11,
    "start_time": "2021-07-08T11:36:29.324Z"
   },
   {
    "duration": 11,
    "start_time": "2021-07-08T11:36:29.337Z"
   },
   {
    "duration": 230,
    "start_time": "2021-07-08T11:36:29.349Z"
   },
   {
    "duration": 13,
    "start_time": "2021-07-08T11:36:29.588Z"
   },
   {
    "duration": 205,
    "start_time": "2021-07-08T11:36:29.603Z"
   },
   {
    "duration": 20,
    "start_time": "2021-07-08T11:36:29.810Z"
   },
   {
    "duration": 9,
    "start_time": "2021-07-08T11:36:29.832Z"
   },
   {
    "duration": 16,
    "start_time": "2021-07-08T11:36:29.843Z"
   },
   {
    "duration": 283,
    "start_time": "2021-07-08T11:36:29.861Z"
   },
   {
    "duration": 50,
    "start_time": "2021-07-08T11:36:30.146Z"
   },
   {
    "duration": 14,
    "start_time": "2021-07-08T11:36:30.198Z"
   },
   {
    "duration": 11,
    "start_time": "2021-07-08T11:36:30.214Z"
   },
   {
    "duration": 245,
    "start_time": "2021-07-08T11:36:30.227Z"
   },
   {
    "duration": 439,
    "start_time": "2021-07-08T11:36:30.474Z"
   },
   {
    "duration": 210,
    "start_time": "2021-07-08T11:36:30.915Z"
   },
   {
    "duration": 15,
    "start_time": "2021-07-08T11:36:31.127Z"
   },
   {
    "duration": 17,
    "start_time": "2021-07-08T11:38:20.451Z"
   },
   {
    "duration": 642,
    "start_time": "2021-07-08T11:46:17.881Z"
   },
   {
    "duration": 210,
    "start_time": "2021-07-08T11:46:18.525Z"
   },
   {
    "duration": 104,
    "start_time": "2021-07-08T11:46:18.741Z"
   },
   {
    "duration": 8,
    "start_time": "2021-07-08T11:46:18.847Z"
   },
   {
    "duration": 25,
    "start_time": "2021-07-08T11:46:18.857Z"
   },
   {
    "duration": 14,
    "start_time": "2021-07-08T11:46:18.884Z"
   },
   {
    "duration": 22,
    "start_time": "2021-07-08T11:46:18.900Z"
   },
   {
    "duration": 5,
    "start_time": "2021-07-08T11:46:18.924Z"
   },
   {
    "duration": 13,
    "start_time": "2021-07-08T11:46:18.931Z"
   },
   {
    "duration": 45,
    "start_time": "2021-07-08T11:46:18.946Z"
   },
   {
    "duration": 12,
    "start_time": "2021-07-08T11:46:18.993Z"
   },
   {
    "duration": 38,
    "start_time": "2021-07-08T11:46:19.006Z"
   },
   {
    "duration": 50,
    "start_time": "2021-07-08T11:46:19.046Z"
   },
   {
    "duration": 29,
    "start_time": "2021-07-08T11:46:19.099Z"
   },
   {
    "duration": 7,
    "start_time": "2021-07-08T11:46:19.130Z"
   },
   {
    "duration": 3,
    "start_time": "2021-07-08T11:46:19.139Z"
   },
   {
    "duration": 11,
    "start_time": "2021-07-08T11:46:19.144Z"
   },
   {
    "duration": 40,
    "start_time": "2021-07-08T11:46:19.157Z"
   },
   {
    "duration": 15,
    "start_time": "2021-07-08T11:46:19.199Z"
   },
   {
    "duration": 10,
    "start_time": "2021-07-08T11:46:19.217Z"
   },
   {
    "duration": 68,
    "start_time": "2021-07-08T11:46:19.230Z"
   },
   {
    "duration": 17,
    "start_time": "2021-07-08T11:46:19.301Z"
   },
   {
    "duration": 7,
    "start_time": "2021-07-08T11:46:19.321Z"
   },
   {
    "duration": 11,
    "start_time": "2021-07-08T11:46:19.330Z"
   },
   {
    "duration": 59,
    "start_time": "2021-07-08T11:46:19.343Z"
   },
   {
    "duration": 17,
    "start_time": "2021-07-08T11:46:19.405Z"
   },
   {
    "duration": 16,
    "start_time": "2021-07-08T11:46:19.424Z"
   },
   {
    "duration": 252,
    "start_time": "2021-07-08T11:46:19.443Z"
   },
   {
    "duration": 9,
    "start_time": "2021-07-08T11:46:19.697Z"
   },
   {
    "duration": 224,
    "start_time": "2021-07-08T11:46:19.708Z"
   },
   {
    "duration": 21,
    "start_time": "2021-07-08T11:46:19.934Z"
   },
   {
    "duration": 9,
    "start_time": "2021-07-08T11:46:19.956Z"
   },
   {
    "duration": 32,
    "start_time": "2021-07-08T11:46:19.967Z"
   },
   {
    "duration": 288,
    "start_time": "2021-07-08T11:46:20.004Z"
   },
   {
    "duration": 23,
    "start_time": "2021-07-08T11:46:20.300Z"
   },
   {
    "duration": 11,
    "start_time": "2021-07-08T11:46:20.325Z"
   },
   {
    "duration": 11,
    "start_time": "2021-07-08T11:46:20.339Z"
   },
   {
    "duration": 259,
    "start_time": "2021-07-08T11:46:20.352Z"
   },
   {
    "duration": 438,
    "start_time": "2021-07-08T11:46:20.613Z"
   },
   {
    "duration": 207,
    "start_time": "2021-07-08T11:46:21.054Z"
   },
   {
    "duration": 27,
    "start_time": "2021-07-08T11:46:21.262Z"
   },
   {
    "duration": 19,
    "start_time": "2021-07-08T11:46:21.291Z"
   },
   {
    "duration": 820,
    "start_time": "2021-07-08T11:49:01.655Z"
   },
   {
    "duration": 372,
    "start_time": "2021-07-08T11:49:02.478Z"
   },
   {
    "duration": 98,
    "start_time": "2021-07-08T11:49:02.853Z"
   },
   {
    "duration": 6,
    "start_time": "2021-07-08T11:49:02.953Z"
   },
   {
    "duration": 39,
    "start_time": "2021-07-08T11:49:02.960Z"
   },
   {
    "duration": 9,
    "start_time": "2021-07-08T11:49:03.003Z"
   },
   {
    "duration": 23,
    "start_time": "2021-07-08T11:49:03.014Z"
   },
   {
    "duration": 6,
    "start_time": "2021-07-08T11:49:03.041Z"
   },
   {
    "duration": 20,
    "start_time": "2021-07-08T11:49:03.049Z"
   },
   {
    "duration": 18,
    "start_time": "2021-07-08T11:49:03.084Z"
   },
   {
    "duration": 14,
    "start_time": "2021-07-08T11:49:03.104Z"
   },
   {
    "duration": 39,
    "start_time": "2021-07-08T11:49:03.119Z"
   },
   {
    "duration": 38,
    "start_time": "2021-07-08T11:49:03.160Z"
   },
   {
    "duration": 26,
    "start_time": "2021-07-08T11:49:03.200Z"
   },
   {
    "duration": 7,
    "start_time": "2021-07-08T11:49:03.227Z"
   },
   {
    "duration": 4,
    "start_time": "2021-07-08T11:49:03.236Z"
   },
   {
    "duration": 15,
    "start_time": "2021-07-08T11:49:03.243Z"
   },
   {
    "duration": 21,
    "start_time": "2021-07-08T11:49:03.285Z"
   },
   {
    "duration": 17,
    "start_time": "2021-07-08T11:49:03.309Z"
   },
   {
    "duration": 10,
    "start_time": "2021-07-08T11:49:03.328Z"
   },
   {
    "duration": 65,
    "start_time": "2021-07-08T11:49:03.340Z"
   },
   {
    "duration": 18,
    "start_time": "2021-07-08T11:49:03.407Z"
   },
   {
    "duration": 8,
    "start_time": "2021-07-08T11:49:03.428Z"
   },
   {
    "duration": 15,
    "start_time": "2021-07-08T11:49:03.438Z"
   },
   {
    "duration": 40,
    "start_time": "2021-07-08T11:49:03.455Z"
   },
   {
    "duration": 12,
    "start_time": "2021-07-08T11:49:03.497Z"
   },
   {
    "duration": 29,
    "start_time": "2021-07-08T11:49:03.511Z"
   },
   {
    "duration": 285,
    "start_time": "2021-07-08T11:49:03.542Z"
   },
   {
    "duration": 8,
    "start_time": "2021-07-08T11:49:03.829Z"
   },
   {
    "duration": 227,
    "start_time": "2021-07-08T11:49:03.838Z"
   },
   {
    "duration": 40,
    "start_time": "2021-07-08T11:49:04.066Z"
   },
   {
    "duration": 10,
    "start_time": "2021-07-08T11:49:04.108Z"
   },
   {
    "duration": 26,
    "start_time": "2021-07-08T11:49:04.121Z"
   },
   {
    "duration": 290,
    "start_time": "2021-07-08T11:49:04.149Z"
   },
   {
    "duration": 26,
    "start_time": "2021-07-08T11:49:04.441Z"
   },
   {
    "duration": 31,
    "start_time": "2021-07-08T11:49:04.470Z"
   },
   {
    "duration": 14,
    "start_time": "2021-07-08T11:49:04.503Z"
   },
   {
    "duration": 259,
    "start_time": "2021-07-08T11:49:04.521Z"
   },
   {
    "duration": 480,
    "start_time": "2021-07-08T11:49:04.782Z"
   },
   {
    "duration": 225,
    "start_time": "2021-07-08T11:49:05.264Z"
   },
   {
    "duration": 22,
    "start_time": "2021-07-08T11:49:05.491Z"
   },
   {
    "duration": 24,
    "start_time": "2021-07-08T11:49:05.515Z"
   },
   {
    "duration": 634,
    "start_time": "2021-07-08T11:52:24.960Z"
   },
   {
    "duration": 199,
    "start_time": "2021-07-08T11:52:25.599Z"
   },
   {
    "duration": 106,
    "start_time": "2021-07-08T11:52:25.803Z"
   },
   {
    "duration": 7,
    "start_time": "2021-07-08T11:52:25.911Z"
   },
   {
    "duration": 29,
    "start_time": "2021-07-08T11:52:25.920Z"
   },
   {
    "duration": 7,
    "start_time": "2021-07-08T11:52:25.951Z"
   },
   {
    "duration": 26,
    "start_time": "2021-07-08T11:52:25.961Z"
   },
   {
    "duration": 11,
    "start_time": "2021-07-08T11:52:25.990Z"
   },
   {
    "duration": 29,
    "start_time": "2021-07-08T11:52:26.005Z"
   },
   {
    "duration": 9,
    "start_time": "2021-07-08T11:52:26.036Z"
   },
   {
    "duration": 8,
    "start_time": "2021-07-08T11:52:26.047Z"
   },
   {
    "duration": 63,
    "start_time": "2021-07-08T11:52:26.057Z"
   },
   {
    "duration": 17,
    "start_time": "2021-07-08T11:52:26.122Z"
   },
   {
    "duration": 43,
    "start_time": "2021-07-08T11:52:26.142Z"
   },
   {
    "duration": 17,
    "start_time": "2021-07-08T11:52:26.187Z"
   },
   {
    "duration": 5,
    "start_time": "2021-07-08T11:52:26.206Z"
   },
   {
    "duration": 12,
    "start_time": "2021-07-08T11:52:26.212Z"
   },
   {
    "duration": 11,
    "start_time": "2021-07-08T11:52:26.226Z"
   },
   {
    "duration": 12,
    "start_time": "2021-07-08T11:52:26.238Z"
   },
   {
    "duration": 38,
    "start_time": "2021-07-08T11:52:26.252Z"
   },
   {
    "duration": 40,
    "start_time": "2021-07-08T11:52:26.292Z"
   },
   {
    "duration": 17,
    "start_time": "2021-07-08T11:52:26.336Z"
   },
   {
    "duration": 39,
    "start_time": "2021-07-08T11:52:26.355Z"
   },
   {
    "duration": 11,
    "start_time": "2021-07-08T11:52:26.395Z"
   },
   {
    "duration": 23,
    "start_time": "2021-07-08T11:52:26.408Z"
   },
   {
    "duration": 12,
    "start_time": "2021-07-08T11:52:26.432Z"
   },
   {
    "duration": 41,
    "start_time": "2021-07-08T11:52:26.446Z"
   },
   {
    "duration": 215,
    "start_time": "2021-07-08T11:52:26.493Z"
   },
   {
    "duration": 8,
    "start_time": "2021-07-08T11:52:26.710Z"
   },
   {
    "duration": 228,
    "start_time": "2021-07-08T11:52:26.720Z"
   },
   {
    "duration": 18,
    "start_time": "2021-07-08T11:52:26.950Z"
   },
   {
    "duration": 35,
    "start_time": "2021-07-08T11:52:26.969Z"
   },
   {
    "duration": 23,
    "start_time": "2021-07-08T11:52:27.006Z"
   },
   {
    "duration": 258,
    "start_time": "2021-07-08T11:52:27.030Z"
   },
   {
    "duration": 24,
    "start_time": "2021-07-08T11:52:27.290Z"
   },
   {
    "duration": 12,
    "start_time": "2021-07-08T11:52:27.316Z"
   },
   {
    "duration": 10,
    "start_time": "2021-07-08T11:52:27.329Z"
   },
   {
    "duration": 298,
    "start_time": "2021-07-08T11:52:27.341Z"
   },
   {
    "duration": 436,
    "start_time": "2021-07-08T11:52:27.641Z"
   },
   {
    "duration": 216,
    "start_time": "2021-07-08T11:52:28.079Z"
   },
   {
    "duration": 20,
    "start_time": "2021-07-08T11:52:28.297Z"
   },
   {
    "duration": 17,
    "start_time": "2021-07-08T11:52:28.319Z"
   },
   {
    "duration": 461,
    "start_time": "2023-07-15T12:00:57.197Z"
   },
   {
    "duration": 259,
    "start_time": "2023-07-15T12:01:09.501Z"
   },
   {
    "duration": 91,
    "start_time": "2023-07-15T12:01:11.931Z"
   },
   {
    "duration": 102,
    "start_time": "2023-07-15T12:01:21.364Z"
   },
   {
    "duration": 95,
    "start_time": "2023-07-15T12:01:45.108Z"
   },
   {
    "duration": 178,
    "start_time": "2023-07-15T12:03:46.909Z"
   },
   {
    "duration": 98,
    "start_time": "2023-07-15T12:04:53.668Z"
   },
   {
    "duration": 52,
    "start_time": "2023-07-15T12:04:59.106Z"
   },
   {
    "duration": 110,
    "start_time": "2023-07-15T12:06:03.227Z"
   },
   {
    "duration": 95,
    "start_time": "2023-07-15T12:06:19.987Z"
   },
   {
    "duration": 52,
    "start_time": "2023-07-15T12:06:27.986Z"
   },
   {
    "duration": 52,
    "start_time": "2023-07-15T12:06:42.429Z"
   },
   {
    "duration": 14,
    "start_time": "2023-07-15T12:08:06.261Z"
   },
   {
    "duration": 94,
    "start_time": "2023-07-15T12:08:19.249Z"
   },
   {
    "duration": 52,
    "start_time": "2023-07-15T12:08:22.426Z"
   },
   {
    "duration": 11,
    "start_time": "2023-07-15T12:08:24.986Z"
   },
   {
    "duration": 19,
    "start_time": "2023-07-15T12:16:21.054Z"
   },
   {
    "duration": 11,
    "start_time": "2023-07-15T12:16:50.972Z"
   },
   {
    "duration": 18,
    "start_time": "2023-07-15T12:18:07.741Z"
   },
   {
    "duration": 15,
    "start_time": "2023-07-15T12:19:11.372Z"
   },
   {
    "duration": 4,
    "start_time": "2023-07-15T12:19:33.889Z"
   },
   {
    "duration": 4,
    "start_time": "2023-07-15T12:20:28.359Z"
   },
   {
    "duration": 4,
    "start_time": "2023-07-15T12:21:33.188Z"
   },
   {
    "duration": 16,
    "start_time": "2023-07-15T12:21:35.889Z"
   },
   {
    "duration": 16,
    "start_time": "2023-07-15T12:22:08.051Z"
   },
   {
    "duration": 36,
    "start_time": "2023-07-15T12:22:42.312Z"
   },
   {
    "duration": 93,
    "start_time": "2023-07-15T12:22:56.493Z"
   },
   {
    "duration": 102,
    "start_time": "2023-07-15T12:23:07.143Z"
   },
   {
    "duration": 16,
    "start_time": "2023-07-15T12:24:23.104Z"
   },
   {
    "duration": 27,
    "start_time": "2023-07-15T12:24:31.975Z"
   },
   {
    "duration": 17,
    "start_time": "2023-07-15T12:24:51.136Z"
   },
   {
    "duration": 7,
    "start_time": "2023-07-15T12:25:05.634Z"
   },
   {
    "duration": 16,
    "start_time": "2023-07-15T12:25:11.704Z"
   },
   {
    "duration": 12,
    "start_time": "2023-07-15T12:33:16.991Z"
   },
   {
    "duration": 1316,
    "start_time": "2023-07-15T12:33:24.509Z"
   },
   {
    "duration": 0,
    "start_time": "2023-07-15T12:33:25.827Z"
   },
   {
    "duration": 16,
    "start_time": "2023-07-15T12:33:27.121Z"
   },
   {
    "duration": 1292,
    "start_time": "2023-07-15T12:33:40.418Z"
   },
   {
    "duration": 1286,
    "start_time": "2023-07-15T12:33:43.051Z"
   },
   {
    "duration": 0,
    "start_time": "2023-07-15T12:33:44.339Z"
   },
   {
    "duration": 10,
    "start_time": "2023-07-15T12:33:44.810Z"
   },
   {
    "duration": 18,
    "start_time": "2023-07-15T12:33:46.536Z"
   },
   {
    "duration": 537,
    "start_time": "2023-07-15T12:34:28.891Z"
   },
   {
    "duration": 42,
    "start_time": "2023-07-15T12:34:29.431Z"
   },
   {
    "duration": 16,
    "start_time": "2023-07-15T12:34:29.475Z"
   },
   {
    "duration": 67,
    "start_time": "2023-07-15T12:34:29.494Z"
   },
   {
    "duration": 44,
    "start_time": "2023-07-15T12:34:29.563Z"
   },
   {
    "duration": 20,
    "start_time": "2023-07-15T12:34:29.609Z"
   },
   {
    "duration": 23,
    "start_time": "2023-07-15T12:34:29.631Z"
   },
   {
    "duration": 28,
    "start_time": "2023-07-15T12:34:29.656Z"
   },
   {
    "duration": 9,
    "start_time": "2023-07-15T12:34:29.686Z"
   },
   {
    "duration": 26,
    "start_time": "2023-07-15T12:34:29.698Z"
   },
   {
    "duration": 20,
    "start_time": "2023-07-15T12:34:29.726Z"
   },
   {
    "duration": 21,
    "start_time": "2023-07-15T12:34:29.748Z"
   },
   {
    "duration": 13,
    "start_time": "2023-07-15T12:42:41.720Z"
   },
   {
    "duration": 7,
    "start_time": "2023-07-15T12:45:25.586Z"
   },
   {
    "duration": 5,
    "start_time": "2023-07-15T12:47:35.860Z"
   },
   {
    "duration": 7,
    "start_time": "2023-07-15T12:49:38.336Z"
   },
   {
    "duration": 549,
    "start_time": "2023-07-15T12:51:02.698Z"
   },
   {
    "duration": 44,
    "start_time": "2023-07-15T12:51:03.249Z"
   },
   {
    "duration": 21,
    "start_time": "2023-07-15T12:51:03.295Z"
   },
   {
    "duration": 9,
    "start_time": "2023-07-15T12:51:03.318Z"
   },
   {
    "duration": 30,
    "start_time": "2023-07-15T12:51:03.329Z"
   },
   {
    "duration": 4,
    "start_time": "2023-07-15T12:51:03.360Z"
   },
   {
    "duration": 15,
    "start_time": "2023-07-15T12:51:03.365Z"
   },
   {
    "duration": 17,
    "start_time": "2023-07-15T12:51:03.385Z"
   },
   {
    "duration": 11,
    "start_time": "2023-07-15T12:51:03.404Z"
   },
   {
    "duration": 27,
    "start_time": "2023-07-15T12:51:03.416Z"
   },
   {
    "duration": 24,
    "start_time": "2023-07-15T12:51:03.445Z"
   },
   {
    "duration": 22,
    "start_time": "2023-07-15T12:51:03.471Z"
   },
   {
    "duration": 26,
    "start_time": "2023-07-15T12:51:03.496Z"
   },
   {
    "duration": 2,
    "start_time": "2023-07-15T12:51:03.526Z"
   },
   {
    "duration": 11,
    "start_time": "2023-07-15T12:51:03.530Z"
   },
   {
    "duration": 33,
    "start_time": "2023-07-15T12:51:03.543Z"
   },
   {
    "duration": 486,
    "start_time": "2023-07-16T08:47:09.445Z"
   },
   {
    "duration": 41,
    "start_time": "2023-07-16T08:47:09.934Z"
   },
   {
    "duration": 14,
    "start_time": "2023-07-16T08:47:09.976Z"
   },
   {
    "duration": 13,
    "start_time": "2023-07-16T08:47:09.991Z"
   },
   {
    "duration": 22,
    "start_time": "2023-07-16T08:47:10.006Z"
   },
   {
    "duration": 16,
    "start_time": "2023-07-16T08:47:10.031Z"
   },
   {
    "duration": 16,
    "start_time": "2023-07-16T08:47:10.048Z"
   },
   {
    "duration": 19,
    "start_time": "2023-07-16T08:47:10.066Z"
   },
   {
    "duration": 25,
    "start_time": "2023-07-16T08:47:10.087Z"
   },
   {
    "duration": 23,
    "start_time": "2023-07-16T08:47:10.114Z"
   },
   {
    "duration": 10,
    "start_time": "2023-07-16T08:47:10.139Z"
   },
   {
    "duration": 12,
    "start_time": "2023-07-16T08:47:10.150Z"
   },
   {
    "duration": 12,
    "start_time": "2023-07-16T08:47:10.164Z"
   },
   {
    "duration": 27,
    "start_time": "2023-07-16T08:47:10.178Z"
   },
   {
    "duration": 12,
    "start_time": "2023-07-16T08:47:10.208Z"
   },
   {
    "duration": 22,
    "start_time": "2023-07-16T08:47:10.222Z"
   },
   {
    "duration": 970,
    "start_time": "2023-07-16T08:48:04.618Z"
   },
   {
    "duration": 32,
    "start_time": "2023-07-16T08:48:22.814Z"
   },
   {
    "duration": 5,
    "start_time": "2023-07-16T08:49:10.555Z"
   },
   {
    "duration": 14,
    "start_time": "2023-07-16T08:49:41.732Z"
   },
   {
    "duration": 10,
    "start_time": "2023-07-16T08:50:26.136Z"
   },
   {
    "duration": 6,
    "start_time": "2023-07-16T08:50:32.656Z"
   },
   {
    "duration": 5,
    "start_time": "2023-07-16T08:55:56.434Z"
   },
   {
    "duration": 4,
    "start_time": "2023-07-16T08:56:02.883Z"
   },
   {
    "duration": 8,
    "start_time": "2023-07-16T08:56:46.860Z"
   },
   {
    "duration": 81,
    "start_time": "2023-07-16T09:02:10.955Z"
   },
   {
    "duration": 7,
    "start_time": "2023-07-16T09:03:10.957Z"
   },
   {
    "duration": 6,
    "start_time": "2023-07-16T09:03:12.234Z"
   },
   {
    "duration": 6,
    "start_time": "2023-07-16T09:09:31.356Z"
   },
   {
    "duration": 5,
    "start_time": "2023-07-16T09:10:36.227Z"
   },
   {
    "duration": 5,
    "start_time": "2023-07-16T09:11:41.986Z"
   },
   {
    "duration": 7,
    "start_time": "2023-07-16T09:16:01.917Z"
   },
   {
    "duration": 6,
    "start_time": "2023-07-16T09:16:16.997Z"
   },
   {
    "duration": 16,
    "start_time": "2023-07-16T09:16:52.756Z"
   },
   {
    "duration": 7,
    "start_time": "2023-07-16T09:17:42.718Z"
   },
   {
    "duration": 6,
    "start_time": "2023-07-16T09:18:34.307Z"
   },
   {
    "duration": 11,
    "start_time": "2023-07-16T09:18:39.749Z"
   },
   {
    "duration": 505,
    "start_time": "2023-07-16T09:22:42.117Z"
   },
   {
    "duration": 40,
    "start_time": "2023-07-16T09:22:42.624Z"
   },
   {
    "duration": 14,
    "start_time": "2023-07-16T09:22:42.666Z"
   },
   {
    "duration": 8,
    "start_time": "2023-07-16T09:22:42.681Z"
   },
   {
    "duration": 24,
    "start_time": "2023-07-16T09:22:42.691Z"
   },
   {
    "duration": 4,
    "start_time": "2023-07-16T09:22:42.717Z"
   },
   {
    "duration": 13,
    "start_time": "2023-07-16T09:22:42.722Z"
   },
   {
    "duration": 31,
    "start_time": "2023-07-16T09:22:42.736Z"
   },
   {
    "duration": 15,
    "start_time": "2023-07-16T09:22:42.768Z"
   },
   {
    "duration": 17,
    "start_time": "2023-07-16T09:22:42.785Z"
   },
   {
    "duration": 28,
    "start_time": "2023-07-16T09:22:42.804Z"
   },
   {
    "duration": 32,
    "start_time": "2023-07-16T09:22:42.833Z"
   },
   {
    "duration": 13,
    "start_time": "2023-07-16T09:22:42.867Z"
   },
   {
    "duration": 9,
    "start_time": "2023-07-16T09:22:42.882Z"
   },
   {
    "duration": 4,
    "start_time": "2023-07-16T09:22:42.893Z"
   },
   {
    "duration": 12,
    "start_time": "2023-07-16T09:22:42.898Z"
   },
   {
    "duration": 15,
    "start_time": "2023-07-16T09:22:42.911Z"
   },
   {
    "duration": 54,
    "start_time": "2023-07-16T09:22:42.928Z"
   },
   {
    "duration": 6,
    "start_time": "2023-07-16T09:22:42.984Z"
   },
   {
    "duration": 10,
    "start_time": "2023-07-16T09:22:42.992Z"
   },
   {
    "duration": 10,
    "start_time": "2023-07-16T09:25:52.206Z"
   },
   {
    "duration": 20,
    "start_time": "2023-07-16T09:30:22.516Z"
   },
   {
    "duration": 4,
    "start_time": "2023-07-16T09:36:08.065Z"
   },
   {
    "duration": 25,
    "start_time": "2023-07-16T09:37:48.515Z"
   },
   {
    "duration": 13,
    "start_time": "2023-07-16T09:38:00.832Z"
   },
   {
    "duration": 4,
    "start_time": "2023-07-16T09:41:34.766Z"
   },
   {
    "duration": 41,
    "start_time": "2023-07-16T09:42:40.716Z"
   },
   {
    "duration": 22,
    "start_time": "2023-07-16T09:42:50.385Z"
   },
   {
    "duration": 496,
    "start_time": "2023-07-16T09:46:04.317Z"
   },
   {
    "duration": 42,
    "start_time": "2023-07-16T09:46:04.815Z"
   },
   {
    "duration": 15,
    "start_time": "2023-07-16T09:46:04.859Z"
   },
   {
    "duration": 14,
    "start_time": "2023-07-16T09:46:04.875Z"
   },
   {
    "duration": 53,
    "start_time": "2023-07-16T09:46:04.891Z"
   },
   {
    "duration": 5,
    "start_time": "2023-07-16T09:46:04.945Z"
   },
   {
    "duration": 10,
    "start_time": "2023-07-16T09:46:04.951Z"
   },
   {
    "duration": 15,
    "start_time": "2023-07-16T09:46:04.962Z"
   },
   {
    "duration": 7,
    "start_time": "2023-07-16T09:46:04.979Z"
   },
   {
    "duration": 12,
    "start_time": "2023-07-16T09:46:04.988Z"
   },
   {
    "duration": 9,
    "start_time": "2023-07-16T09:46:05.002Z"
   },
   {
    "duration": 80,
    "start_time": "2023-07-16T09:46:05.012Z"
   },
   {
    "duration": 111,
    "start_time": "2023-07-16T09:46:05.093Z"
   },
   {
    "duration": 76,
    "start_time": "2023-07-16T09:46:05.206Z"
   },
   {
    "duration": 65,
    "start_time": "2023-07-16T09:46:05.284Z"
   },
   {
    "duration": 39,
    "start_time": "2023-07-16T09:46:05.350Z"
   },
   {
    "duration": 59,
    "start_time": "2023-07-16T09:46:05.390Z"
   },
   {
    "duration": 53,
    "start_time": "2023-07-16T09:46:05.451Z"
   },
   {
    "duration": 40,
    "start_time": "2023-07-16T09:46:05.505Z"
   },
   {
    "duration": 108,
    "start_time": "2023-07-16T09:46:05.546Z"
   },
   {
    "duration": 132,
    "start_time": "2023-07-16T09:46:05.656Z"
   },
   {
    "duration": 154,
    "start_time": "2023-07-16T09:46:05.789Z"
   },
   {
    "duration": 24,
    "start_time": "2023-07-16T09:46:05.945Z"
   },
   {
    "duration": 89,
    "start_time": "2023-07-16T09:46:05.970Z"
   },
   {
    "duration": 95,
    "start_time": "2023-07-16T09:46:06.062Z"
   },
   {
    "duration": 86,
    "start_time": "2023-07-16T09:46:06.158Z"
   },
   {
    "duration": 42,
    "start_time": "2023-07-16T09:46:06.245Z"
   },
   {
    "duration": 67,
    "start_time": "2023-07-16T09:54:48.386Z"
   },
   {
    "duration": 4,
    "start_time": "2023-07-16T09:55:01.986Z"
   },
   {
    "duration": 21,
    "start_time": "2023-07-16T09:55:49.318Z"
   },
   {
    "duration": 4,
    "start_time": "2023-07-16T09:58:18.746Z"
   },
   {
    "duration": 4,
    "start_time": "2023-07-16T09:58:21.256Z"
   },
   {
    "duration": 662,
    "start_time": "2023-07-16T14:48:14.215Z"
   },
   {
    "duration": 94,
    "start_time": "2023-07-16T14:48:14.879Z"
   },
   {
    "duration": 16,
    "start_time": "2023-07-16T14:48:14.975Z"
   },
   {
    "duration": 12,
    "start_time": "2023-07-16T14:48:14.993Z"
   },
   {
    "duration": 94,
    "start_time": "2023-07-16T14:48:15.008Z"
   },
   {
    "duration": 5,
    "start_time": "2023-07-16T14:48:15.104Z"
   },
   {
    "duration": 41,
    "start_time": "2023-07-16T14:48:15.110Z"
   },
   {
    "duration": 38,
    "start_time": "2023-07-16T14:48:15.154Z"
   },
   {
    "duration": 15,
    "start_time": "2023-07-16T14:48:15.194Z"
   },
   {
    "duration": 18,
    "start_time": "2023-07-16T14:48:15.211Z"
   },
   {
    "duration": 19,
    "start_time": "2023-07-16T14:48:15.230Z"
   },
   {
    "duration": 19,
    "start_time": "2023-07-16T14:48:15.251Z"
   },
   {
    "duration": 19,
    "start_time": "2023-07-16T14:48:15.272Z"
   },
   {
    "duration": 17,
    "start_time": "2023-07-16T14:48:15.294Z"
   },
   {
    "duration": 22,
    "start_time": "2023-07-16T14:48:15.313Z"
   },
   {
    "duration": 38,
    "start_time": "2023-07-16T14:48:15.337Z"
   },
   {
    "duration": 16,
    "start_time": "2023-07-16T14:48:15.377Z"
   },
   {
    "duration": 14,
    "start_time": "2023-07-16T14:48:15.395Z"
   },
   {
    "duration": 7,
    "start_time": "2023-07-16T14:48:15.411Z"
   },
   {
    "duration": 14,
    "start_time": "2023-07-16T14:48:15.420Z"
   },
   {
    "duration": 12,
    "start_time": "2023-07-16T14:48:15.436Z"
   },
   {
    "duration": 47,
    "start_time": "2023-07-16T14:48:15.450Z"
   },
   {
    "duration": 7,
    "start_time": "2023-07-16T14:48:15.498Z"
   },
   {
    "duration": 26,
    "start_time": "2023-07-16T14:48:15.506Z"
   },
   {
    "duration": 10,
    "start_time": "2023-07-16T14:48:15.533Z"
   },
   {
    "duration": 48,
    "start_time": "2023-07-16T14:48:15.545Z"
   },
   {
    "duration": 4,
    "start_time": "2023-07-16T14:48:15.594Z"
   },
   {
    "duration": 35,
    "start_time": "2023-07-16T14:48:15.600Z"
   },
   {
    "duration": 5,
    "start_time": "2023-07-16T14:48:15.637Z"
   },
   {
    "duration": 20,
    "start_time": "2023-07-16T15:08:12.514Z"
   },
   {
    "duration": 7,
    "start_time": "2023-07-16T15:10:37.865Z"
   },
   {
    "duration": 4,
    "start_time": "2023-07-16T15:10:52.000Z"
   },
   {
    "duration": 4,
    "start_time": "2023-07-16T15:10:59.803Z"
   },
   {
    "duration": 5,
    "start_time": "2023-07-16T15:11:21.920Z"
   },
   {
    "duration": 32,
    "start_time": "2023-07-16T15:15:24.807Z"
   },
   {
    "duration": 4,
    "start_time": "2023-07-16T15:17:23.233Z"
   },
   {
    "duration": 598,
    "start_time": "2023-07-16T15:17:58.052Z"
   },
   {
    "duration": 47,
    "start_time": "2023-07-16T15:17:58.659Z"
   },
   {
    "duration": 16,
    "start_time": "2023-07-16T15:17:58.708Z"
   },
   {
    "duration": 11,
    "start_time": "2023-07-16T15:17:58.726Z"
   },
   {
    "duration": 32,
    "start_time": "2023-07-16T15:17:58.739Z"
   },
   {
    "duration": 5,
    "start_time": "2023-07-16T15:17:58.773Z"
   },
   {
    "duration": 10,
    "start_time": "2023-07-16T15:17:58.779Z"
   },
   {
    "duration": 23,
    "start_time": "2023-07-16T15:17:58.791Z"
   },
   {
    "duration": 9,
    "start_time": "2023-07-16T15:17:58.816Z"
   },
   {
    "duration": 33,
    "start_time": "2023-07-16T15:17:58.827Z"
   },
   {
    "duration": 13,
    "start_time": "2023-07-16T15:17:58.862Z"
   },
   {
    "duration": 17,
    "start_time": "2023-07-16T15:17:58.877Z"
   },
   {
    "duration": 15,
    "start_time": "2023-07-16T15:17:58.895Z"
   },
   {
    "duration": 45,
    "start_time": "2023-07-16T15:17:58.913Z"
   },
   {
    "duration": 7,
    "start_time": "2023-07-16T15:17:58.959Z"
   },
   {
    "duration": 8,
    "start_time": "2023-07-16T15:17:58.968Z"
   },
   {
    "duration": 10,
    "start_time": "2023-07-16T15:17:58.978Z"
   },
   {
    "duration": 11,
    "start_time": "2023-07-16T15:17:58.989Z"
   },
   {
    "duration": 6,
    "start_time": "2023-07-16T15:17:59.002Z"
   },
   {
    "duration": 7,
    "start_time": "2023-07-16T15:17:59.009Z"
   },
   {
    "duration": 43,
    "start_time": "2023-07-16T15:17:59.017Z"
   },
   {
    "duration": 24,
    "start_time": "2023-07-16T15:17:59.062Z"
   },
   {
    "duration": 3,
    "start_time": "2023-07-16T15:17:59.088Z"
   },
   {
    "duration": 19,
    "start_time": "2023-07-16T15:17:59.093Z"
   },
   {
    "duration": 13,
    "start_time": "2023-07-16T15:17:59.114Z"
   },
   {
    "duration": 33,
    "start_time": "2023-07-16T15:17:59.129Z"
   },
   {
    "duration": 4,
    "start_time": "2023-07-16T15:17:59.164Z"
   },
   {
    "duration": 23,
    "start_time": "2023-07-16T15:17:59.170Z"
   },
   {
    "duration": 3,
    "start_time": "2023-07-16T15:17:59.195Z"
   },
   {
    "duration": 23,
    "start_time": "2023-07-16T15:17:59.200Z"
   },
   {
    "duration": 32,
    "start_time": "2023-07-16T15:17:59.225Z"
   },
   {
    "duration": 29,
    "start_time": "2023-07-16T15:17:59.259Z"
   },
   {
    "duration": 13,
    "start_time": "2023-07-16T15:17:59.290Z"
   },
   {
    "duration": 23,
    "start_time": "2023-07-16T15:44:09.099Z"
   },
   {
    "duration": 4,
    "start_time": "2023-07-16T15:48:39.803Z"
   },
   {
    "duration": 23,
    "start_time": "2023-07-16T15:51:09.161Z"
   },
   {
    "duration": 4,
    "start_time": "2023-07-16T15:53:05.446Z"
   },
   {
    "duration": 23,
    "start_time": "2023-07-16T15:55:44.233Z"
   },
   {
    "duration": 4,
    "start_time": "2023-07-16T15:59:20.491Z"
   },
   {
    "duration": 4,
    "start_time": "2023-07-16T15:59:24.298Z"
   },
   {
    "duration": 23,
    "start_time": "2023-07-16T16:01:03.603Z"
   },
   {
    "duration": 4,
    "start_time": "2023-07-16T16:02:41.420Z"
   },
   {
    "duration": 25,
    "start_time": "2023-07-16T16:06:25.840Z"
   },
   {
    "duration": 32,
    "start_time": "2023-07-16T16:08:14.291Z"
   },
   {
    "duration": 19,
    "start_time": "2023-07-16T16:14:11.099Z"
   },
   {
    "duration": 6,
    "start_time": "2023-07-16T16:18:19.168Z"
   },
   {
    "duration": 23,
    "start_time": "2023-07-16T16:18:20.191Z"
   },
   {
    "duration": 5,
    "start_time": "2023-07-16T16:20:39.203Z"
   },
   {
    "duration": 5,
    "start_time": "2023-07-16T16:20:59.810Z"
   },
   {
    "duration": 6,
    "start_time": "2023-07-16T16:21:59.706Z"
   },
   {
    "duration": 9,
    "start_time": "2023-07-16T16:23:30.299Z"
   },
   {
    "duration": 5,
    "start_time": "2023-07-16T16:23:53.782Z"
   },
   {
    "duration": 8,
    "start_time": "2023-07-16T16:24:34.225Z"
   },
   {
    "duration": 5,
    "start_time": "2023-07-16T16:24:36.706Z"
   },
   {
    "duration": 5,
    "start_time": "2023-07-16T16:25:37.479Z"
   },
   {
    "duration": 7,
    "start_time": "2023-07-16T16:26:55.926Z"
   },
   {
    "duration": 7,
    "start_time": "2023-07-16T16:28:53.600Z"
   },
   {
    "duration": 6,
    "start_time": "2023-07-16T16:32:48.423Z"
   },
   {
    "duration": 5,
    "start_time": "2023-07-16T16:32:59.738Z"
   },
   {
    "duration": 6,
    "start_time": "2023-07-16T16:33:30.755Z"
   },
   {
    "duration": 525,
    "start_time": "2023-07-16T16:35:16.923Z"
   },
   {
    "duration": 43,
    "start_time": "2023-07-16T16:35:17.450Z"
   },
   {
    "duration": 16,
    "start_time": "2023-07-16T16:35:17.494Z"
   },
   {
    "duration": 10,
    "start_time": "2023-07-16T16:35:17.512Z"
   },
   {
    "duration": 19,
    "start_time": "2023-07-16T16:35:17.523Z"
   },
   {
    "duration": 3,
    "start_time": "2023-07-16T16:35:17.544Z"
   },
   {
    "duration": 6,
    "start_time": "2023-07-16T16:35:17.549Z"
   },
   {
    "duration": 18,
    "start_time": "2023-07-16T16:35:17.556Z"
   },
   {
    "duration": 10,
    "start_time": "2023-07-16T16:35:17.575Z"
   },
   {
    "duration": 14,
    "start_time": "2023-07-16T16:35:17.590Z"
   },
   {
    "duration": 13,
    "start_time": "2023-07-16T16:35:17.606Z"
   },
   {
    "duration": 38,
    "start_time": "2023-07-16T16:35:17.621Z"
   },
   {
    "duration": 15,
    "start_time": "2023-07-16T16:35:17.660Z"
   },
   {
    "duration": 34,
    "start_time": "2023-07-16T16:35:17.677Z"
   },
   {
    "duration": 4,
    "start_time": "2023-07-16T16:35:17.713Z"
   },
   {
    "duration": 16,
    "start_time": "2023-07-16T16:35:17.718Z"
   },
   {
    "duration": 16,
    "start_time": "2023-07-16T16:35:17.736Z"
   },
   {
    "duration": 11,
    "start_time": "2023-07-16T16:35:17.754Z"
   },
   {
    "duration": 11,
    "start_time": "2023-07-16T16:35:17.766Z"
   },
   {
    "duration": 7,
    "start_time": "2023-07-16T16:35:17.779Z"
   },
   {
    "duration": 13,
    "start_time": "2023-07-16T16:35:17.788Z"
   },
   {
    "duration": 23,
    "start_time": "2023-07-16T16:35:17.803Z"
   },
   {
    "duration": 24,
    "start_time": "2023-07-16T16:35:17.828Z"
   },
   {
    "duration": 19,
    "start_time": "2023-07-16T16:35:17.854Z"
   },
   {
    "duration": 9,
    "start_time": "2023-07-16T16:35:17.874Z"
   },
   {
    "duration": 24,
    "start_time": "2023-07-16T16:35:17.884Z"
   },
   {
    "duration": 4,
    "start_time": "2023-07-16T16:35:17.910Z"
   },
   {
    "duration": 41,
    "start_time": "2023-07-16T16:35:17.917Z"
   },
   {
    "duration": 4,
    "start_time": "2023-07-16T16:35:17.959Z"
   },
   {
    "duration": 21,
    "start_time": "2023-07-16T16:35:17.965Z"
   },
   {
    "duration": 6,
    "start_time": "2023-07-16T16:35:17.988Z"
   },
   {
    "duration": 21,
    "start_time": "2023-07-16T16:35:17.996Z"
   },
   {
    "duration": 4,
    "start_time": "2023-07-16T16:35:18.019Z"
   },
   {
    "duration": 48,
    "start_time": "2023-07-16T16:35:18.024Z"
   },
   {
    "duration": 3,
    "start_time": "2023-07-16T16:35:18.074Z"
   },
   {
    "duration": 34,
    "start_time": "2023-07-16T16:35:18.079Z"
   },
   {
    "duration": 3,
    "start_time": "2023-07-16T16:35:18.115Z"
   },
   {
    "duration": 34,
    "start_time": "2023-07-16T16:35:18.120Z"
   },
   {
    "duration": 4,
    "start_time": "2023-07-16T16:35:18.156Z"
   },
   {
    "duration": 26,
    "start_time": "2023-07-16T16:35:18.161Z"
   },
   {
    "duration": 3,
    "start_time": "2023-07-16T16:35:18.189Z"
   },
   {
    "duration": 36,
    "start_time": "2023-07-16T16:35:18.193Z"
   },
   {
    "duration": 44,
    "start_time": "2023-07-16T16:35:18.251Z"
   },
   {
    "duration": 24,
    "start_time": "2023-07-16T16:35:18.297Z"
   },
   {
    "duration": 33,
    "start_time": "2023-07-16T16:35:18.323Z"
   },
   {
    "duration": 40,
    "start_time": "2023-07-16T16:35:18.358Z"
   },
   {
    "duration": 14,
    "start_time": "2023-07-16T16:35:18.400Z"
   },
   {
    "duration": 22,
    "start_time": "2023-07-16T16:35:18.417Z"
   },
   {
    "duration": 15,
    "start_time": "2023-07-16T16:35:18.441Z"
   },
   {
    "duration": 12,
    "start_time": "2023-07-16T16:35:18.457Z"
   },
   {
    "duration": 7,
    "start_time": "2023-07-16T16:35:18.471Z"
   },
   {
    "duration": 6,
    "start_time": "2023-07-16T16:35:18.480Z"
   },
   {
    "duration": 9,
    "start_time": "2023-07-16T16:35:18.488Z"
   },
   {
    "duration": 7,
    "start_time": "2023-07-16T16:35:18.499Z"
   },
   {
    "duration": 684,
    "start_time": "2023-07-17T18:21:17.109Z"
   },
   {
    "duration": 76,
    "start_time": "2023-07-17T18:21:17.795Z"
   },
   {
    "duration": 16,
    "start_time": "2023-07-17T18:21:17.872Z"
   },
   {
    "duration": 11,
    "start_time": "2023-07-17T18:21:17.890Z"
   },
   {
    "duration": 16,
    "start_time": "2023-07-17T18:21:17.904Z"
   },
   {
    "duration": 4,
    "start_time": "2023-07-17T18:21:17.921Z"
   },
   {
    "duration": 4,
    "start_time": "2023-07-17T18:21:17.926Z"
   },
   {
    "duration": 24,
    "start_time": "2023-07-17T18:21:17.932Z"
   },
   {
    "duration": 11,
    "start_time": "2023-07-17T18:21:17.958Z"
   },
   {
    "duration": 21,
    "start_time": "2023-07-17T18:21:18.000Z"
   },
   {
    "duration": 12,
    "start_time": "2023-07-17T18:21:18.023Z"
   },
   {
    "duration": 20,
    "start_time": "2023-07-17T18:21:18.036Z"
   },
   {
    "duration": 16,
    "start_time": "2023-07-17T18:21:18.057Z"
   },
   {
    "duration": 9,
    "start_time": "2023-07-17T18:21:18.101Z"
   },
   {
    "duration": 11,
    "start_time": "2023-07-17T18:21:18.112Z"
   },
   {
    "duration": 13,
    "start_time": "2023-07-17T18:21:18.124Z"
   },
   {
    "duration": 9,
    "start_time": "2023-07-17T18:21:18.139Z"
   },
   {
    "duration": 14,
    "start_time": "2023-07-17T18:21:18.150Z"
   },
   {
    "duration": 21,
    "start_time": "2023-07-17T18:21:18.165Z"
   },
   {
    "duration": 17,
    "start_time": "2023-07-17T18:21:18.188Z"
   },
   {
    "duration": 16,
    "start_time": "2023-07-17T18:21:18.207Z"
   },
   {
    "duration": 23,
    "start_time": "2023-07-17T18:21:18.224Z"
   },
   {
    "duration": 3,
    "start_time": "2023-07-17T18:21:18.249Z"
   },
   {
    "duration": 19,
    "start_time": "2023-07-17T18:21:18.254Z"
   },
   {
    "duration": 24,
    "start_time": "2023-07-17T18:21:18.275Z"
   },
   {
    "duration": 18,
    "start_time": "2023-07-17T18:21:18.301Z"
   },
   {
    "duration": 3,
    "start_time": "2023-07-17T18:21:18.320Z"
   },
   {
    "duration": 21,
    "start_time": "2023-07-17T18:21:18.325Z"
   },
   {
    "duration": 5,
    "start_time": "2023-07-17T18:21:18.347Z"
   },
   {
    "duration": 21,
    "start_time": "2023-07-17T18:21:18.353Z"
   },
   {
    "duration": 23,
    "start_time": "2023-07-17T18:21:18.376Z"
   },
   {
    "duration": 21,
    "start_time": "2023-07-17T18:21:18.401Z"
   },
   {
    "duration": 3,
    "start_time": "2023-07-17T18:21:18.423Z"
   },
   {
    "duration": 25,
    "start_time": "2023-07-17T18:21:18.428Z"
   },
   {
    "duration": 3,
    "start_time": "2023-07-17T18:21:18.455Z"
   },
   {
    "duration": 23,
    "start_time": "2023-07-17T18:21:18.460Z"
   },
   {
    "duration": 4,
    "start_time": "2023-07-17T18:21:18.500Z"
   },
   {
    "duration": 29,
    "start_time": "2023-07-17T18:21:18.505Z"
   },
   {
    "duration": 3,
    "start_time": "2023-07-17T18:21:18.536Z"
   },
   {
    "duration": 23,
    "start_time": "2023-07-17T18:21:18.540Z"
   },
   {
    "duration": 3,
    "start_time": "2023-07-17T18:21:18.568Z"
   },
   {
    "duration": 37,
    "start_time": "2023-07-17T18:21:18.572Z"
   },
   {
    "duration": 28,
    "start_time": "2023-07-17T18:21:18.611Z"
   },
   {
    "duration": 16,
    "start_time": "2023-07-17T18:21:18.640Z"
   },
   {
    "duration": 4,
    "start_time": "2023-07-17T18:21:18.658Z"
   },
   {
    "duration": 46,
    "start_time": "2023-07-17T18:21:18.663Z"
   },
   {
    "duration": 5,
    "start_time": "2023-07-17T18:21:18.711Z"
   },
   {
    "duration": 7,
    "start_time": "2023-07-17T18:21:18.718Z"
   },
   {
    "duration": 6,
    "start_time": "2023-07-17T18:21:18.727Z"
   },
   {
    "duration": 8,
    "start_time": "2023-07-17T18:21:18.734Z"
   },
   {
    "duration": 6,
    "start_time": "2023-07-17T18:21:18.744Z"
   },
   {
    "duration": 5,
    "start_time": "2023-07-17T18:21:18.752Z"
   },
   {
    "duration": 23,
    "start_time": "2023-07-17T18:21:18.759Z"
   },
   {
    "duration": 18,
    "start_time": "2023-07-17T18:21:18.783Z"
   },
   {
    "duration": 18,
    "start_time": "2023-07-17T18:21:18.802Z"
   },
   {
    "duration": 11,
    "start_time": "2023-07-17T18:21:18.821Z"
   },
   {
    "duration": 25,
    "start_time": "2023-07-17T18:21:18.833Z"
   },
   {
    "duration": 8,
    "start_time": "2023-07-17T18:21:18.859Z"
   },
   {
    "duration": 48,
    "start_time": "2023-07-17T18:21:18.868Z"
   },
   {
    "duration": 8,
    "start_time": "2023-07-17T18:21:18.917Z"
   },
   {
    "duration": 4,
    "start_time": "2023-07-17T18:21:18.927Z"
   },
   {
    "duration": 53,
    "start_time": "2023-07-17T18:21:18.933Z"
   },
   {
    "duration": 23,
    "start_time": "2023-07-17T18:21:18.988Z"
   },
   {
    "duration": 14,
    "start_time": "2023-07-17T18:21:19.013Z"
   },
   {
    "duration": 16,
    "start_time": "2023-07-17T18:21:19.028Z"
   },
   {
    "duration": 24,
    "start_time": "2023-07-17T18:21:19.045Z"
   },
   {
    "duration": 19,
    "start_time": "2023-07-17T18:21:19.071Z"
   },
   {
    "duration": 27,
    "start_time": "2023-07-17T18:21:19.091Z"
   },
   {
    "duration": 598,
    "start_time": "2023-07-17T18:21:19.119Z"
   },
   {
    "duration": 9,
    "start_time": "2023-07-17T18:21:19.718Z"
   },
   {
    "duration": 7,
    "start_time": "2023-07-17T18:21:19.728Z"
   },
   {
    "duration": 221,
    "start_time": "2023-07-17T18:21:19.736Z"
   },
   {
    "duration": 5,
    "start_time": "2023-07-17T18:21:19.959Z"
   },
   {
    "duration": 20,
    "start_time": "2023-07-17T18:21:19.965Z"
   },
   {
    "duration": 29,
    "start_time": "2023-07-17T18:21:19.987Z"
   },
   {
    "duration": 10,
    "start_time": "2023-07-17T18:21:20.018Z"
   },
   {
    "duration": 12,
    "start_time": "2023-07-17T18:21:20.029Z"
   },
   {
    "duration": 25,
    "start_time": "2023-07-17T18:21:20.043Z"
   },
   {
    "duration": 344,
    "start_time": "2023-07-17T18:21:20.070Z"
   },
   {
    "duration": 8,
    "start_time": "2023-07-17T18:21:20.416Z"
   },
   {
    "duration": 16,
    "start_time": "2023-07-17T18:21:20.425Z"
   },
   {
    "duration": 12,
    "start_time": "2023-07-17T18:21:20.443Z"
   },
   {
    "duration": 171,
    "start_time": "2023-07-17T18:21:20.457Z"
   },
   {
    "duration": 7,
    "start_time": "2023-07-17T18:21:20.630Z"
   },
   {
    "duration": 7,
    "start_time": "2023-07-17T18:21:20.639Z"
   },
   {
    "duration": 8,
    "start_time": "2023-07-17T18:21:20.648Z"
   },
   {
    "duration": 15,
    "start_time": "2023-07-17T18:21:20.657Z"
   },
   {
    "duration": 27,
    "start_time": "2023-07-17T18:21:20.673Z"
   },
   {
    "duration": 7,
    "start_time": "2023-07-17T18:21:20.702Z"
   },
   {
    "duration": 156,
    "start_time": "2023-07-17T18:21:20.710Z"
   },
   {
    "duration": 9,
    "start_time": "2023-07-17T18:21:20.867Z"
   },
   {
    "duration": 26,
    "start_time": "2023-07-17T18:21:20.877Z"
   },
   {
    "duration": 10,
    "start_time": "2023-07-17T18:21:20.905Z"
   },
   {
    "duration": 8,
    "start_time": "2023-07-17T18:21:20.916Z"
   },
   {
    "duration": 9,
    "start_time": "2023-07-17T18:21:20.926Z"
   },
   {
    "duration": 16,
    "start_time": "2023-07-17T18:21:20.936Z"
   },
   {
    "duration": 8,
    "start_time": "2023-07-17T18:21:20.954Z"
   },
   {
    "duration": 16,
    "start_time": "2023-07-17T18:21:20.963Z"
   },
   {
    "duration": 22,
    "start_time": "2023-07-17T18:21:20.999Z"
   },
   {
    "duration": 5,
    "start_time": "2023-07-17T18:21:21.023Z"
   },
   {
    "duration": 88,
    "start_time": "2023-07-17T18:34:28.266Z"
   },
   {
    "duration": 103,
    "start_time": "2023-07-17T18:43:08.757Z"
   },
   {
    "duration": 140,
    "start_time": "2023-07-18T06:16:30.954Z"
   },
   {
    "duration": 131,
    "start_time": "2023-07-18T06:16:40.660Z"
   },
   {
    "duration": 119,
    "start_time": "2023-07-18T06:17:38.880Z"
   },
   {
    "duration": 1008,
    "start_time": "2023-07-18T06:32:52.845Z"
   },
   {
    "duration": 106,
    "start_time": "2023-07-18T06:33:05.283Z"
   },
   {
    "duration": 23,
    "start_time": "2023-07-18T06:35:35.523Z"
   },
   {
    "duration": 14,
    "start_time": "2023-07-18T06:35:43.390Z"
   },
   {
    "duration": 20,
    "start_time": "2023-07-18T06:36:09.711Z"
   },
   {
    "duration": 5,
    "start_time": "2023-07-18T06:36:14.023Z"
   },
   {
    "duration": 4,
    "start_time": "2023-07-18T06:36:35.250Z"
   },
   {
    "duration": 17,
    "start_time": "2023-07-18T06:36:36.410Z"
   },
   {
    "duration": 68,
    "start_time": "2023-07-18T06:39:23.354Z"
   },
   {
    "duration": 15,
    "start_time": "2023-07-18T06:39:45.876Z"
   },
   {
    "duration": 10,
    "start_time": "2023-07-18T06:40:51.017Z"
   },
   {
    "duration": 18,
    "start_time": "2023-07-18T06:41:49.178Z"
   },
   {
    "duration": 14,
    "start_time": "2023-07-18T06:41:52.842Z"
   },
   {
    "duration": 17,
    "start_time": "2023-07-18T06:41:54.241Z"
   },
   {
    "duration": 11,
    "start_time": "2023-07-18T06:42:39.390Z"
   },
   {
    "duration": 14,
    "start_time": "2023-07-18T06:44:42.522Z"
   },
   {
    "duration": 514,
    "start_time": "2023-07-18T06:46:07.723Z"
   },
   {
    "duration": 42,
    "start_time": "2023-07-18T06:46:08.239Z"
   },
   {
    "duration": 18,
    "start_time": "2023-07-18T06:46:08.284Z"
   },
   {
    "duration": 29,
    "start_time": "2023-07-18T06:46:08.305Z"
   },
   {
    "duration": 26,
    "start_time": "2023-07-18T06:46:08.337Z"
   },
   {
    "duration": 30,
    "start_time": "2023-07-18T06:46:08.365Z"
   },
   {
    "duration": 22,
    "start_time": "2023-07-18T06:46:08.397Z"
   },
   {
    "duration": 24,
    "start_time": "2023-07-18T06:46:08.421Z"
   },
   {
    "duration": 30,
    "start_time": "2023-07-18T06:46:08.448Z"
   },
   {
    "duration": 16,
    "start_time": "2023-07-18T06:46:08.484Z"
   },
   {
    "duration": 13,
    "start_time": "2023-07-18T06:46:08.502Z"
   },
   {
    "duration": 16,
    "start_time": "2023-07-18T06:46:08.517Z"
   },
   {
    "duration": 41,
    "start_time": "2023-07-18T06:46:08.535Z"
   },
   {
    "duration": 8,
    "start_time": "2023-07-18T06:46:08.578Z"
   },
   {
    "duration": 29,
    "start_time": "2023-07-18T06:46:08.588Z"
   },
   {
    "duration": 54,
    "start_time": "2023-07-18T06:46:08.619Z"
   },
   {
    "duration": 14,
    "start_time": "2023-07-18T06:46:08.675Z"
   },
   {
    "duration": 18,
    "start_time": "2023-07-18T06:46:08.691Z"
   },
   {
    "duration": 8,
    "start_time": "2023-07-18T06:46:08.711Z"
   },
   {
    "duration": 10,
    "start_time": "2023-07-18T06:46:08.721Z"
   },
   {
    "duration": 20,
    "start_time": "2023-07-18T06:46:08.733Z"
   },
   {
    "duration": 61,
    "start_time": "2023-07-18T06:46:08.754Z"
   },
   {
    "duration": 4,
    "start_time": "2023-07-18T06:46:08.817Z"
   },
   {
    "duration": 23,
    "start_time": "2023-07-18T06:46:08.823Z"
   },
   {
    "duration": 12,
    "start_time": "2023-07-18T06:46:08.848Z"
   },
   {
    "duration": 36,
    "start_time": "2023-07-18T06:46:08.862Z"
   },
   {
    "duration": 4,
    "start_time": "2023-07-18T06:46:08.900Z"
   },
   {
    "duration": 31,
    "start_time": "2023-07-18T06:46:08.907Z"
   },
   {
    "duration": 13,
    "start_time": "2023-07-18T06:46:08.939Z"
   },
   {
    "duration": 37,
    "start_time": "2023-07-18T06:46:08.954Z"
   },
   {
    "duration": 4,
    "start_time": "2023-07-18T06:46:15.438Z"
   },
   {
    "duration": 29,
    "start_time": "2023-07-18T06:46:15.444Z"
   },
   {
    "duration": 25,
    "start_time": "2023-07-18T06:46:15.474Z"
   },
   {
    "duration": 39,
    "start_time": "2023-07-18T06:46:15.501Z"
   },
   {
    "duration": 4,
    "start_time": "2023-07-18T06:46:15.542Z"
   },
   {
    "duration": 28,
    "start_time": "2023-07-18T06:46:15.547Z"
   },
   {
    "duration": 3,
    "start_time": "2023-07-18T06:46:15.577Z"
   },
   {
    "duration": 27,
    "start_time": "2023-07-18T06:46:15.582Z"
   },
   {
    "duration": 6,
    "start_time": "2023-07-18T06:46:15.611Z"
   },
   {
    "duration": 27,
    "start_time": "2023-07-18T06:46:15.618Z"
   },
   {
    "duration": 3,
    "start_time": "2023-07-18T06:46:15.647Z"
   },
   {
    "duration": 53,
    "start_time": "2023-07-18T06:46:15.652Z"
   },
   {
    "duration": 29,
    "start_time": "2023-07-18T06:46:15.708Z"
   },
   {
    "duration": 16,
    "start_time": "2023-07-18T06:46:15.739Z"
   },
   {
    "duration": 32,
    "start_time": "2023-07-18T06:46:15.757Z"
   },
   {
    "duration": 47,
    "start_time": "2023-07-18T06:46:15.791Z"
   },
   {
    "duration": 11,
    "start_time": "2023-07-18T06:46:15.840Z"
   },
   {
    "duration": 15,
    "start_time": "2023-07-18T06:46:15.852Z"
   },
   {
    "duration": 12,
    "start_time": "2023-07-18T06:46:15.869Z"
   },
   {
    "duration": 12,
    "start_time": "2023-07-18T06:46:15.883Z"
   },
   {
    "duration": 8,
    "start_time": "2023-07-18T06:46:15.897Z"
   },
   {
    "duration": 15,
    "start_time": "2023-07-18T06:46:15.906Z"
   },
   {
    "duration": 21,
    "start_time": "2023-07-18T06:46:15.923Z"
   },
   {
    "duration": 14,
    "start_time": "2023-07-18T06:46:15.946Z"
   },
   {
    "duration": 52,
    "start_time": "2023-07-18T06:46:15.962Z"
   },
   {
    "duration": 14,
    "start_time": "2023-07-18T06:46:16.015Z"
   },
   {
    "duration": 23,
    "start_time": "2023-07-18T06:46:16.030Z"
   },
   {
    "duration": 10,
    "start_time": "2023-07-18T06:46:16.054Z"
   },
   {
    "duration": 25,
    "start_time": "2023-07-18T06:46:16.065Z"
   },
   {
    "duration": 5,
    "start_time": "2023-07-18T06:46:16.091Z"
   },
   {
    "duration": 11,
    "start_time": "2023-07-18T06:46:16.097Z"
   },
   {
    "duration": 70,
    "start_time": "2023-07-18T06:46:16.110Z"
   },
   {
    "duration": 21,
    "start_time": "2023-07-18T06:46:16.182Z"
   },
   {
    "duration": 6,
    "start_time": "2023-07-18T06:46:17.157Z"
   },
   {
    "duration": 29,
    "start_time": "2023-07-18T06:46:17.165Z"
   },
   {
    "duration": 35,
    "start_time": "2023-07-18T06:46:17.196Z"
   },
   {
    "duration": 22,
    "start_time": "2023-07-18T06:46:17.233Z"
   },
   {
    "duration": 36,
    "start_time": "2023-07-18T06:46:17.257Z"
   },
   {
    "duration": 713,
    "start_time": "2023-07-18T06:46:17.295Z"
   },
   {
    "duration": 9,
    "start_time": "2023-07-18T06:46:18.010Z"
   },
   {
    "duration": 12,
    "start_time": "2023-07-18T06:46:18.021Z"
   },
   {
    "duration": 358,
    "start_time": "2023-07-18T06:46:18.035Z"
   },
   {
    "duration": 4,
    "start_time": "2023-07-18T06:46:18.395Z"
   },
   {
    "duration": 20,
    "start_time": "2023-07-18T06:46:18.401Z"
   },
   {
    "duration": 55,
    "start_time": "2023-07-18T06:46:18.423Z"
   },
   {
    "duration": 10,
    "start_time": "2023-07-18T06:46:18.483Z"
   },
   {
    "duration": 12,
    "start_time": "2023-07-18T06:46:18.494Z"
   },
   {
    "duration": 101,
    "start_time": "2023-07-18T06:46:18.509Z"
   },
   {
    "duration": 349,
    "start_time": "2023-07-18T06:46:18.612Z"
   },
   {
    "duration": 10,
    "start_time": "2023-07-18T06:46:18.963Z"
   },
   {
    "duration": 13,
    "start_time": "2023-07-18T06:46:18.975Z"
   },
   {
    "duration": 13,
    "start_time": "2023-07-18T06:46:18.989Z"
   },
   {
    "duration": 246,
    "start_time": "2023-07-18T06:46:19.005Z"
   },
   {
    "duration": 20,
    "start_time": "2023-07-18T06:46:19.253Z"
   },
   {
    "duration": 35,
    "start_time": "2023-07-18T06:46:19.275Z"
   },
   {
    "duration": 48,
    "start_time": "2023-07-18T06:46:19.313Z"
   },
   {
    "duration": 19,
    "start_time": "2023-07-18T06:46:19.363Z"
   },
   {
    "duration": 34,
    "start_time": "2023-07-18T06:46:19.384Z"
   },
   {
    "duration": 11,
    "start_time": "2023-07-18T06:46:19.420Z"
   },
   {
    "duration": 184,
    "start_time": "2023-07-18T06:46:19.432Z"
   },
   {
    "duration": 10,
    "start_time": "2023-07-18T06:46:19.618Z"
   },
   {
    "duration": 60,
    "start_time": "2023-07-18T06:46:19.629Z"
   },
   {
    "duration": 24,
    "start_time": "2023-07-18T06:46:19.691Z"
   },
   {
    "duration": 19,
    "start_time": "2023-07-18T06:46:19.716Z"
   },
   {
    "duration": 15,
    "start_time": "2023-07-18T06:46:19.737Z"
   },
   {
    "duration": 13,
    "start_time": "2023-07-18T06:46:19.754Z"
   },
   {
    "duration": 18,
    "start_time": "2023-07-18T06:46:19.769Z"
   },
   {
    "duration": 10,
    "start_time": "2023-07-18T06:46:19.789Z"
   },
   {
    "duration": 21,
    "start_time": "2023-07-18T06:46:19.801Z"
   },
   {
    "duration": 5,
    "start_time": "2023-07-18T06:46:19.826Z"
   },
   {
    "duration": 3,
    "start_time": "2023-07-18T07:13:41.164Z"
   },
   {
    "duration": 6,
    "start_time": "2023-07-18T07:13:41.782Z"
   },
   {
    "duration": 9,
    "start_time": "2023-07-18T08:39:51.660Z"
   },
   {
    "duration": 15,
    "start_time": "2023-07-18T08:40:07.352Z"
   },
   {
    "duration": 19,
    "start_time": "2023-07-18T08:40:08.992Z"
   },
   {
    "duration": 246,
    "start_time": "2023-07-18T08:41:48.797Z"
   },
   {
    "duration": 316,
    "start_time": "2023-07-18T08:42:19.569Z"
   },
   {
    "duration": 11,
    "start_time": "2023-07-18T08:43:35.513Z"
   },
   {
    "duration": 10,
    "start_time": "2023-07-18T08:43:55.709Z"
   },
   {
    "duration": 251,
    "start_time": "2023-07-18T08:48:32.602Z"
   },
   {
    "duration": 255,
    "start_time": "2023-07-18T08:49:16.312Z"
   },
   {
    "duration": 323,
    "start_time": "2023-07-18T08:50:27.493Z"
   },
   {
    "duration": 133,
    "start_time": "2023-07-18T08:54:11.469Z"
   },
   {
    "duration": 129,
    "start_time": "2023-07-18T08:54:22.384Z"
   },
   {
    "duration": 139,
    "start_time": "2023-07-18T08:55:23.006Z"
   },
   {
    "duration": 229,
    "start_time": "2023-07-18T09:00:36.244Z"
   },
   {
    "duration": 12,
    "start_time": "2023-07-18T09:02:07.509Z"
   },
   {
    "duration": 105,
    "start_time": "2023-07-18T09:04:23.842Z"
   },
   {
    "duration": 97,
    "start_time": "2023-07-18T09:05:17.392Z"
   },
   {
    "duration": 227,
    "start_time": "2023-07-18T09:05:51.990Z"
   },
   {
    "duration": 125,
    "start_time": "2023-07-18T09:06:08.544Z"
   },
   {
    "duration": 125,
    "start_time": "2023-07-18T09:07:03.487Z"
   },
   {
    "duration": 130,
    "start_time": "2023-07-18T09:07:19.693Z"
   },
   {
    "duration": 144,
    "start_time": "2023-07-18T09:07:29.662Z"
   },
   {
    "duration": 126,
    "start_time": "2023-07-18T09:08:29.203Z"
   },
   {
    "duration": 122,
    "start_time": "2023-07-18T09:09:08.476Z"
   },
   {
    "duration": 121,
    "start_time": "2023-07-18T09:09:21.816Z"
   },
   {
    "duration": 112,
    "start_time": "2023-07-18T09:10:07.517Z"
   },
   {
    "duration": 138,
    "start_time": "2023-07-18T09:11:25.174Z"
   },
   {
    "duration": 148,
    "start_time": "2023-07-18T09:11:32.473Z"
   },
   {
    "duration": 31,
    "start_time": "2023-07-18T09:16:05.525Z"
   },
   {
    "duration": 10,
    "start_time": "2023-07-18T09:16:50.659Z"
   },
   {
    "duration": 10,
    "start_time": "2023-07-18T09:17:11.797Z"
   },
   {
    "duration": 8,
    "start_time": "2023-07-18T09:17:40.585Z"
   },
   {
    "duration": 7,
    "start_time": "2023-07-18T09:17:42.743Z"
   },
   {
    "duration": 24,
    "start_time": "2023-07-18T09:19:14.855Z"
   },
   {
    "duration": 137,
    "start_time": "2023-07-18T09:19:17.501Z"
   },
   {
    "duration": 6,
    "start_time": "2023-07-18T09:19:33.365Z"
   },
   {
    "duration": 26,
    "start_time": "2023-07-18T09:19:57.383Z"
   },
   {
    "duration": 8,
    "start_time": "2023-07-18T09:19:59.272Z"
   },
   {
    "duration": 6,
    "start_time": "2023-07-18T09:20:16.552Z"
   },
   {
    "duration": 5,
    "start_time": "2023-07-18T09:20:47.643Z"
   },
   {
    "duration": 28,
    "start_time": "2023-07-18T09:20:53.875Z"
   },
   {
    "duration": 21,
    "start_time": "2023-07-18T09:21:57.038Z"
   },
   {
    "duration": 5,
    "start_time": "2023-07-18T09:21:59.058Z"
   },
   {
    "duration": 6,
    "start_time": "2023-07-18T09:21:59.520Z"
   },
   {
    "duration": 534,
    "start_time": "2023-07-18T09:29:40.789Z"
   },
   {
    "duration": 43,
    "start_time": "2023-07-18T09:29:41.326Z"
   },
   {
    "duration": 17,
    "start_time": "2023-07-18T09:29:41.370Z"
   },
   {
    "duration": 33,
    "start_time": "2023-07-18T09:29:41.388Z"
   },
   {
    "duration": 31,
    "start_time": "2023-07-18T09:29:41.424Z"
   },
   {
    "duration": 4,
    "start_time": "2023-07-18T09:29:41.457Z"
   },
   {
    "duration": 4,
    "start_time": "2023-07-18T09:29:41.467Z"
   },
   {
    "duration": 29,
    "start_time": "2023-07-18T09:29:41.473Z"
   },
   {
    "duration": 24,
    "start_time": "2023-07-18T09:29:41.504Z"
   },
   {
    "duration": 31,
    "start_time": "2023-07-18T09:29:41.530Z"
   },
   {
    "duration": 13,
    "start_time": "2023-07-18T09:29:41.562Z"
   },
   {
    "duration": 16,
    "start_time": "2023-07-18T09:29:41.577Z"
   },
   {
    "duration": 14,
    "start_time": "2023-07-18T09:29:41.595Z"
   },
   {
    "duration": 17,
    "start_time": "2023-07-18T09:29:41.612Z"
   },
   {
    "duration": 29,
    "start_time": "2023-07-18T09:29:41.631Z"
   },
   {
    "duration": 31,
    "start_time": "2023-07-18T09:29:41.662Z"
   },
   {
    "duration": 7,
    "start_time": "2023-07-18T09:29:41.695Z"
   },
   {
    "duration": 14,
    "start_time": "2023-07-18T09:29:41.704Z"
   },
   {
    "duration": 7,
    "start_time": "2023-07-18T09:29:41.719Z"
   },
   {
    "duration": 15,
    "start_time": "2023-07-18T09:29:41.727Z"
   },
   {
    "duration": 33,
    "start_time": "2023-07-18T09:29:41.743Z"
   },
   {
    "duration": 43,
    "start_time": "2023-07-18T09:29:41.780Z"
   },
   {
    "duration": 26,
    "start_time": "2023-07-18T09:29:41.824Z"
   },
   {
    "duration": 48,
    "start_time": "2023-07-18T09:29:41.851Z"
   },
   {
    "duration": 9,
    "start_time": "2023-07-18T09:29:41.901Z"
   },
   {
    "duration": 24,
    "start_time": "2023-07-18T09:29:41.912Z"
   },
   {
    "duration": 4,
    "start_time": "2023-07-18T09:29:41.938Z"
   },
   {
    "duration": 25,
    "start_time": "2023-07-18T09:29:41.943Z"
   },
   {
    "duration": 13,
    "start_time": "2023-07-18T09:29:41.969Z"
   },
   {
    "duration": 23,
    "start_time": "2023-07-18T09:29:41.983Z"
   },
   {
    "duration": 6,
    "start_time": "2023-07-18T09:29:42.008Z"
   },
   {
    "duration": 44,
    "start_time": "2023-07-18T09:29:42.015Z"
   },
   {
    "duration": 5,
    "start_time": "2023-07-18T09:29:42.061Z"
   },
   {
    "duration": 23,
    "start_time": "2023-07-18T09:29:42.068Z"
   },
   {
    "duration": 3,
    "start_time": "2023-07-18T09:29:42.093Z"
   },
   {
    "duration": 21,
    "start_time": "2023-07-18T09:29:42.098Z"
   },
   {
    "duration": 4,
    "start_time": "2023-07-18T09:29:42.122Z"
   },
   {
    "duration": 42,
    "start_time": "2023-07-18T09:29:42.128Z"
   },
   {
    "duration": 4,
    "start_time": "2023-07-18T09:29:42.172Z"
   },
   {
    "duration": 25,
    "start_time": "2023-07-18T09:29:42.178Z"
   },
   {
    "duration": 4,
    "start_time": "2023-07-18T09:29:42.208Z"
   },
   {
    "duration": 32,
    "start_time": "2023-07-18T09:29:42.213Z"
   },
   {
    "duration": 51,
    "start_time": "2023-07-18T09:29:42.246Z"
   },
   {
    "duration": 17,
    "start_time": "2023-07-18T09:29:42.299Z"
   },
   {
    "duration": 49,
    "start_time": "2023-07-18T09:29:42.318Z"
   },
   {
    "duration": 17,
    "start_time": "2023-07-18T09:29:42.369Z"
   },
   {
    "duration": 39,
    "start_time": "2023-07-18T09:29:42.388Z"
   },
   {
    "duration": 20,
    "start_time": "2023-07-18T09:29:42.429Z"
   },
   {
    "duration": 14,
    "start_time": "2023-07-18T09:29:42.451Z"
   },
   {
    "duration": 15,
    "start_time": "2023-07-18T09:29:42.467Z"
   },
   {
    "duration": 13,
    "start_time": "2023-07-18T09:29:42.484Z"
   },
   {
    "duration": 9,
    "start_time": "2023-07-18T09:29:42.499Z"
   },
   {
    "duration": 7,
    "start_time": "2023-07-18T09:29:42.510Z"
   },
   {
    "duration": 9,
    "start_time": "2023-07-18T09:29:42.519Z"
   },
   {
    "duration": 11,
    "start_time": "2023-07-18T09:29:42.529Z"
   },
   {
    "duration": 41,
    "start_time": "2023-07-18T09:29:42.541Z"
   },
   {
    "duration": 25,
    "start_time": "2023-07-18T09:29:42.584Z"
   },
   {
    "duration": 30,
    "start_time": "2023-07-18T09:29:42.611Z"
   },
   {
    "duration": 28,
    "start_time": "2023-07-18T09:29:42.643Z"
   },
   {
    "duration": 35,
    "start_time": "2023-07-18T09:29:42.672Z"
   },
   {
    "duration": 4,
    "start_time": "2023-07-18T09:29:42.709Z"
   },
   {
    "duration": 19,
    "start_time": "2023-07-18T09:29:42.714Z"
   },
   {
    "duration": 67,
    "start_time": "2023-07-18T09:29:42.734Z"
   },
   {
    "duration": 24,
    "start_time": "2023-07-18T09:29:42.803Z"
   },
   {
    "duration": 37,
    "start_time": "2023-07-18T09:29:42.830Z"
   },
   {
    "duration": 17,
    "start_time": "2023-07-18T09:29:42.870Z"
   },
   {
    "duration": 23,
    "start_time": "2023-07-18T09:29:42.889Z"
   },
   {
    "duration": 42,
    "start_time": "2023-07-18T09:29:42.915Z"
   },
   {
    "duration": 22,
    "start_time": "2023-07-18T09:29:42.958Z"
   },
   {
    "duration": 27,
    "start_time": "2023-07-18T09:29:42.982Z"
   },
   {
    "duration": 485,
    "start_time": "2023-07-18T09:29:43.011Z"
   },
   {
    "duration": 8,
    "start_time": "2023-07-18T09:29:43.498Z"
   },
   {
    "duration": 41,
    "start_time": "2023-07-18T09:29:43.508Z"
   },
   {
    "duration": 303,
    "start_time": "2023-07-18T09:29:43.551Z"
   },
   {
    "duration": 4,
    "start_time": "2023-07-18T09:29:43.856Z"
   },
   {
    "duration": 26,
    "start_time": "2023-07-18T09:29:43.866Z"
   },
   {
    "duration": 50,
    "start_time": "2023-07-18T09:29:43.894Z"
   },
   {
    "duration": 26,
    "start_time": "2023-07-18T09:29:43.946Z"
   },
   {
    "duration": 29,
    "start_time": "2023-07-18T09:29:43.974Z"
   },
   {
    "duration": 35,
    "start_time": "2023-07-18T09:29:44.005Z"
   },
   {
    "duration": 284,
    "start_time": "2023-07-18T09:29:44.042Z"
   },
   {
    "duration": 25,
    "start_time": "2023-07-18T09:29:44.328Z"
   },
   {
    "duration": 335,
    "start_time": "2023-07-18T09:29:44.366Z"
   },
   {
    "duration": 12,
    "start_time": "2023-07-18T09:29:44.703Z"
   },
   {
    "duration": 39,
    "start_time": "2023-07-18T09:29:44.717Z"
   },
   {
    "duration": 9,
    "start_time": "2023-07-18T09:29:44.759Z"
   },
   {
    "duration": 217,
    "start_time": "2023-07-18T09:29:44.770Z"
   },
   {
    "duration": 135,
    "start_time": "2023-07-18T09:29:44.989Z"
   },
   {
    "duration": 9,
    "start_time": "2023-07-18T09:29:45.126Z"
   },
   {
    "duration": 10,
    "start_time": "2023-07-18T09:29:45.137Z"
   },
   {
    "duration": 31,
    "start_time": "2023-07-18T09:29:45.149Z"
   },
   {
    "duration": 64,
    "start_time": "2023-07-18T09:29:45.181Z"
   },
   {
    "duration": 11,
    "start_time": "2023-07-18T09:29:45.247Z"
   },
   {
    "duration": 9,
    "start_time": "2023-07-18T09:29:45.260Z"
   },
   {
    "duration": 199,
    "start_time": "2023-07-18T09:29:45.270Z"
   },
   {
    "duration": 12,
    "start_time": "2023-07-18T09:29:45.471Z"
   },
   {
    "duration": 14,
    "start_time": "2023-07-18T09:29:45.485Z"
   },
   {
    "duration": 25,
    "start_time": "2023-07-18T09:29:45.501Z"
   },
   {
    "duration": 28,
    "start_time": "2023-07-18T09:29:45.528Z"
   },
   {
    "duration": 40,
    "start_time": "2023-07-18T09:29:45.558Z"
   },
   {
    "duration": 32,
    "start_time": "2023-07-18T09:29:45.600Z"
   },
   {
    "duration": 28,
    "start_time": "2023-07-18T09:29:45.633Z"
   },
   {
    "duration": 133,
    "start_time": "2023-07-18T09:29:45.663Z"
   },
   {
    "duration": 11,
    "start_time": "2023-07-18T09:29:45.798Z"
   },
   {
    "duration": 133,
    "start_time": "2023-07-18T09:29:45.810Z"
   },
   {
    "duration": 37,
    "start_time": "2023-07-18T09:29:45.945Z"
   },
   {
    "duration": 6,
    "start_time": "2023-07-18T09:29:45.985Z"
   },
   {
    "duration": 37,
    "start_time": "2023-07-18T09:29:45.993Z"
   },
   {
    "duration": 13,
    "start_time": "2023-07-18T09:29:46.032Z"
   },
   {
    "duration": 83,
    "start_time": "2023-07-18T09:29:46.047Z"
   },
   {
    "duration": 0,
    "start_time": "2023-07-18T09:29:46.132Z"
   },
   {
    "duration": 0,
    "start_time": "2023-07-18T09:29:46.134Z"
   },
   {
    "duration": 0,
    "start_time": "2023-07-18T09:29:46.136Z"
   },
   {
    "duration": 109,
    "start_time": "2023-07-18T09:30:21.358Z"
   },
   {
    "duration": 553,
    "start_time": "2023-07-18T09:30:39.868Z"
   },
   {
    "duration": 43,
    "start_time": "2023-07-18T09:30:40.424Z"
   },
   {
    "duration": 20,
    "start_time": "2023-07-18T09:30:40.469Z"
   },
   {
    "duration": 16,
    "start_time": "2023-07-18T09:30:40.492Z"
   },
   {
    "duration": 24,
    "start_time": "2023-07-18T09:30:40.510Z"
   },
   {
    "duration": 4,
    "start_time": "2023-07-18T09:30:40.536Z"
   },
   {
    "duration": 28,
    "start_time": "2023-07-18T09:30:40.542Z"
   },
   {
    "duration": 42,
    "start_time": "2023-07-18T09:30:40.572Z"
   },
   {
    "duration": 40,
    "start_time": "2023-07-18T09:30:40.616Z"
   },
   {
    "duration": 37,
    "start_time": "2023-07-18T09:30:40.661Z"
   },
   {
    "duration": 51,
    "start_time": "2023-07-18T09:30:40.700Z"
   },
   {
    "duration": 47,
    "start_time": "2023-07-18T09:30:40.753Z"
   },
   {
    "duration": 14,
    "start_time": "2023-07-18T09:30:40.802Z"
   },
   {
    "duration": 22,
    "start_time": "2023-07-18T09:30:40.818Z"
   },
   {
    "duration": 11,
    "start_time": "2023-07-18T09:30:40.842Z"
   },
   {
    "duration": 29,
    "start_time": "2023-07-18T09:30:40.855Z"
   },
   {
    "duration": 8,
    "start_time": "2023-07-18T09:30:40.886Z"
   },
   {
    "duration": 23,
    "start_time": "2023-07-18T09:30:40.896Z"
   },
   {
    "duration": 9,
    "start_time": "2023-07-18T09:30:40.921Z"
   },
   {
    "duration": 18,
    "start_time": "2023-07-18T09:30:40.931Z"
   },
   {
    "duration": 32,
    "start_time": "2023-07-18T09:30:40.951Z"
   },
   {
    "duration": 22,
    "start_time": "2023-07-18T09:30:40.985Z"
   },
   {
    "duration": 35,
    "start_time": "2023-07-18T09:30:41.009Z"
   },
   {
    "duration": 36,
    "start_time": "2023-07-18T09:30:41.046Z"
   },
   {
    "duration": 620,
    "start_time": "2023-07-18T14:27:47.245Z"
   },
   {
    "duration": 74,
    "start_time": "2023-07-18T14:27:47.867Z"
   },
   {
    "duration": 14,
    "start_time": "2023-07-18T14:27:47.942Z"
   },
   {
    "duration": 27,
    "start_time": "2023-07-18T14:27:47.958Z"
   },
   {
    "duration": 42,
    "start_time": "2023-07-18T14:27:47.987Z"
   },
   {
    "duration": 4,
    "start_time": "2023-07-18T14:27:48.030Z"
   },
   {
    "duration": 13,
    "start_time": "2023-07-18T14:27:48.035Z"
   },
   {
    "duration": 21,
    "start_time": "2023-07-18T14:27:48.049Z"
   },
   {
    "duration": 26,
    "start_time": "2023-07-18T14:27:48.072Z"
   },
   {
    "duration": 18,
    "start_time": "2023-07-18T14:27:48.102Z"
   },
   {
    "duration": 11,
    "start_time": "2023-07-18T14:27:48.122Z"
   },
   {
    "duration": 23,
    "start_time": "2023-07-18T14:27:48.135Z"
   },
   {
    "duration": 28,
    "start_time": "2023-07-18T14:27:48.160Z"
   },
   {
    "duration": 19,
    "start_time": "2023-07-18T14:27:48.190Z"
   },
   {
    "duration": 18,
    "start_time": "2023-07-18T14:27:48.210Z"
   },
   {
    "duration": 16,
    "start_time": "2023-07-18T14:27:48.229Z"
   },
   {
    "duration": 33,
    "start_time": "2023-07-18T14:27:48.246Z"
   },
   {
    "duration": 26,
    "start_time": "2023-07-18T14:27:48.281Z"
   },
   {
    "duration": 42,
    "start_time": "2023-07-18T14:27:48.309Z"
   },
   {
    "duration": 19,
    "start_time": "2023-07-18T14:27:48.353Z"
   },
   {
    "duration": 39,
    "start_time": "2023-07-18T14:27:48.374Z"
   },
   {
    "duration": 22,
    "start_time": "2023-07-18T14:27:48.415Z"
   },
   {
    "duration": 4,
    "start_time": "2023-07-18T14:27:48.439Z"
   },
   {
    "duration": 28,
    "start_time": "2023-07-18T14:27:48.444Z"
   },
   {
    "duration": 27,
    "start_time": "2023-07-18T14:27:48.474Z"
   },
   {
    "duration": 38,
    "start_time": "2023-07-18T14:27:48.503Z"
   },
   {
    "duration": 6,
    "start_time": "2023-07-18T14:27:48.543Z"
   },
   {
    "duration": 25,
    "start_time": "2023-07-18T14:27:48.554Z"
   },
   {
    "duration": 9,
    "start_time": "2023-07-18T14:27:48.580Z"
   },
   {
    "duration": 52,
    "start_time": "2023-07-18T14:27:48.591Z"
   },
   {
    "duration": 9,
    "start_time": "2023-07-18T14:27:48.645Z"
   },
   {
    "duration": 42,
    "start_time": "2023-07-18T14:27:48.656Z"
   },
   {
    "duration": 63,
    "start_time": "2023-07-18T14:27:48.701Z"
   },
   {
    "duration": 29,
    "start_time": "2023-07-18T14:27:48.766Z"
   },
   {
    "duration": 10,
    "start_time": "2023-07-18T14:27:48.797Z"
   },
   {
    "duration": 45,
    "start_time": "2023-07-18T14:27:48.808Z"
   },
   {
    "duration": 4,
    "start_time": "2023-07-18T14:27:48.854Z"
   },
   {
    "duration": 49,
    "start_time": "2023-07-18T14:27:48.859Z"
   },
   {
    "duration": 3,
    "start_time": "2023-07-18T14:27:48.910Z"
   },
   {
    "duration": 35,
    "start_time": "2023-07-18T14:27:48.915Z"
   },
   {
    "duration": 6,
    "start_time": "2023-07-18T14:27:48.951Z"
   },
   {
    "duration": 69,
    "start_time": "2023-07-18T14:27:48.958Z"
   },
   {
    "duration": 27,
    "start_time": "2023-07-18T14:27:49.029Z"
   },
   {
    "duration": 14,
    "start_time": "2023-07-18T14:27:49.057Z"
   },
   {
    "duration": 46,
    "start_time": "2023-07-18T14:27:49.072Z"
   },
   {
    "duration": 155,
    "start_time": "2023-07-18T14:27:49.119Z"
   },
   {
    "duration": 28,
    "start_time": "2023-07-18T14:27:49.276Z"
   },
   {
    "duration": 8,
    "start_time": "2023-07-18T14:27:49.306Z"
   },
   {
    "duration": 24,
    "start_time": "2023-07-18T14:27:49.316Z"
   },
   {
    "duration": 21,
    "start_time": "2023-07-18T14:27:49.341Z"
   },
   {
    "duration": 14,
    "start_time": "2023-07-18T14:27:49.363Z"
   },
   {
    "duration": 66,
    "start_time": "2023-07-18T14:27:49.378Z"
   },
   {
    "duration": 16,
    "start_time": "2023-07-18T14:27:49.445Z"
   },
   {
    "duration": 10,
    "start_time": "2023-07-18T14:27:49.463Z"
   },
   {
    "duration": 15,
    "start_time": "2023-07-18T14:27:49.474Z"
   },
   {
    "duration": 23,
    "start_time": "2023-07-18T14:27:49.491Z"
   },
   {
    "duration": 35,
    "start_time": "2023-07-18T14:27:49.516Z"
   },
   {
    "duration": 39,
    "start_time": "2023-07-18T14:27:49.553Z"
   },
   {
    "duration": 7,
    "start_time": "2023-07-18T14:27:49.593Z"
   },
   {
    "duration": 37,
    "start_time": "2023-07-18T14:27:49.601Z"
   },
   {
    "duration": 7,
    "start_time": "2023-07-18T14:27:49.640Z"
   },
   {
    "duration": 9,
    "start_time": "2023-07-18T14:27:49.649Z"
   },
   {
    "duration": 45,
    "start_time": "2023-07-18T14:27:49.660Z"
   },
   {
    "duration": 17,
    "start_time": "2023-07-18T14:27:49.706Z"
   },
   {
    "duration": 31,
    "start_time": "2023-07-18T14:27:49.725Z"
   },
   {
    "duration": 5,
    "start_time": "2023-07-18T14:27:49.758Z"
   },
   {
    "duration": 5,
    "start_time": "2023-07-18T14:27:49.765Z"
   },
   {
    "duration": 31,
    "start_time": "2023-07-18T14:27:49.772Z"
   },
   {
    "duration": 21,
    "start_time": "2023-07-18T14:27:49.805Z"
   },
   {
    "duration": 19,
    "start_time": "2023-07-18T14:27:49.828Z"
   },
   {
    "duration": 579,
    "start_time": "2023-07-18T14:27:49.848Z"
   },
   {
    "duration": 8,
    "start_time": "2023-07-18T14:27:50.429Z"
   },
   {
    "duration": 9,
    "start_time": "2023-07-18T14:27:50.438Z"
   },
   {
    "duration": 226,
    "start_time": "2023-07-18T14:27:50.449Z"
   },
   {
    "duration": 3,
    "start_time": "2023-07-18T14:27:50.677Z"
   },
   {
    "duration": 62,
    "start_time": "2023-07-18T14:27:50.681Z"
   },
   {
    "duration": 42,
    "start_time": "2023-07-18T14:27:50.745Z"
   },
   {
    "duration": 31,
    "start_time": "2023-07-18T14:27:50.789Z"
   },
   {
    "duration": 34,
    "start_time": "2023-07-18T14:27:50.822Z"
   },
   {
    "duration": 21,
    "start_time": "2023-07-18T14:27:50.857Z"
   },
   {
    "duration": 211,
    "start_time": "2023-07-18T14:27:50.880Z"
   },
   {
    "duration": 24,
    "start_time": "2023-07-18T14:27:51.096Z"
   },
   {
    "duration": 322,
    "start_time": "2023-07-18T14:27:51.121Z"
   },
   {
    "duration": 9,
    "start_time": "2023-07-18T14:27:51.444Z"
   },
   {
    "duration": 34,
    "start_time": "2023-07-18T14:27:51.454Z"
   },
   {
    "duration": 69,
    "start_time": "2023-07-18T14:27:51.490Z"
   },
   {
    "duration": 248,
    "start_time": "2023-07-18T14:27:51.561Z"
   },
   {
    "duration": 97,
    "start_time": "2023-07-18T14:27:51.811Z"
   },
   {
    "duration": 16,
    "start_time": "2023-07-18T14:27:51.909Z"
   },
   {
    "duration": 22,
    "start_time": "2023-07-18T14:27:51.926Z"
   },
   {
    "duration": 26,
    "start_time": "2023-07-18T14:27:51.949Z"
   },
   {
    "duration": 32,
    "start_time": "2023-07-18T14:27:51.977Z"
   },
   {
    "duration": 28,
    "start_time": "2023-07-18T14:27:52.011Z"
   },
   {
    "duration": 20,
    "start_time": "2023-07-18T14:27:52.040Z"
   },
   {
    "duration": 155,
    "start_time": "2023-07-18T14:27:52.062Z"
   },
   {
    "duration": 10,
    "start_time": "2023-07-18T14:27:52.219Z"
   },
   {
    "duration": 21,
    "start_time": "2023-07-18T14:27:52.231Z"
   },
   {
    "duration": 30,
    "start_time": "2023-07-18T14:27:52.254Z"
   },
   {
    "duration": 33,
    "start_time": "2023-07-18T14:27:52.286Z"
   },
   {
    "duration": 22,
    "start_time": "2023-07-18T14:27:52.320Z"
   },
   {
    "duration": 42,
    "start_time": "2023-07-18T14:27:52.344Z"
   },
   {
    "duration": 14,
    "start_time": "2023-07-18T14:27:52.388Z"
   },
   {
    "duration": 104,
    "start_time": "2023-07-18T14:27:52.404Z"
   },
   {
    "duration": 11,
    "start_time": "2023-07-18T14:27:52.509Z"
   },
   {
    "duration": 201,
    "start_time": "2023-07-18T14:27:52.522Z"
   },
   {
    "duration": 17,
    "start_time": "2023-07-18T14:27:52.724Z"
   },
   {
    "duration": 33,
    "start_time": "2023-07-18T14:27:52.742Z"
   },
   {
    "duration": 32,
    "start_time": "2023-07-18T14:27:52.776Z"
   },
   {
    "duration": 18,
    "start_time": "2023-07-18T14:27:52.810Z"
   },
   {
    "duration": 103,
    "start_time": "2023-07-18T14:27:52.829Z"
   },
   {
    "duration": 0,
    "start_time": "2023-07-18T14:27:52.934Z"
   },
   {
    "duration": 0,
    "start_time": "2023-07-18T14:27:52.936Z"
   },
   {
    "duration": 0,
    "start_time": "2023-07-18T14:27:52.937Z"
   },
   {
    "duration": 5,
    "start_time": "2023-07-18T14:36:21.226Z"
   },
   {
    "duration": 16,
    "start_time": "2023-07-18T14:36:22.604Z"
   },
   {
    "duration": 4,
    "start_time": "2023-07-18T14:36:24.444Z"
   },
   {
    "duration": 6,
    "start_time": "2023-07-18T14:36:25.547Z"
   }
  ],
  "colab": {
   "name": "DA+. Сборный проект 1. Шаблон (1).ipynb",
   "provenance": []
  },
  "kernelspec": {
   "display_name": "Python 3 (ipykernel)",
   "language": "python",
   "name": "python3"
  },
  "language_info": {
   "codemirror_mode": {
    "name": "ipython",
    "version": 3
   },
   "file_extension": ".py",
   "mimetype": "text/x-python",
   "name": "python",
   "nbconvert_exporter": "python",
   "pygments_lexer": "ipython3",
   "version": "3.9.5"
  },
  "toc": {
   "base_numbering": 1,
   "nav_menu": {},
   "number_sections": true,
   "sideBar": true,
   "skip_h1_title": true,
   "title_cell": "Table of Contents",
   "title_sidebar": "Contents",
   "toc_cell": false,
   "toc_position": {
    "height": "calc(100% - 180px)",
    "left": "10px",
    "top": "150px",
    "width": "219.391px"
   },
   "toc_section_display": true,
   "toc_window_display": true
  }
 },
 "nbformat": 4,
 "nbformat_minor": 1
}
