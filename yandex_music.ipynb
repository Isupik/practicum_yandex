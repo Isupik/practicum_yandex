{
 "cells": [
  {
   "cell_type": "markdown",
   "metadata": {
    "deletable": false,
    "editable": false,
    "id": "E0vqbgi9ay0H"
   },
   "source": [
    "# Яндекс.Музыка"
   ]
  },
  {
   "cell_type": "markdown",
   "metadata": {
    "deletable": false,
    "editable": false,
    "id": "VUC88oWjTJw2"
   },
   "source": [
    "Сравнение Москвы и Петербурга окружено мифами. Например:\n",
    " * Москва — мегаполис, подчинённый жёсткому ритму рабочей недели;\n",
    " * Петербург — культурная столица, со своими вкусами.\n",
    "\n",
    "На данных Яндекс Музыки вы сравните поведение пользователей двух столиц.\n",
    "\n",
    "**Цель исследования** — проверьте три гипотезы:\n",
    "1. Активность пользователей зависит от дня недели. Причём в Москве и Петербурге это проявляется по-разному.\n",
    "2. В понедельник утром в Москве преобладают одни жанры, а в Петербурге — другие. Так же и вечером пятницы преобладают разные жанры — в зависимости от города. \n",
    "3. Москва и Петербург предпочитают разные жанры музыки. В Москве чаще слушают поп-музыку, в Петербурге — русский рэп.\n",
    "\n",
    "**Ход исследования**\n",
    "\n",
    "Данные о поведении пользователей вы получите из файла `yandex_music_project.csv`. О качестве данных ничего не известно. Поэтому перед проверкой гипотез понадобится обзор данных. \n",
    "\n",
    "Вы проверите данные на ошибки и оцените их влияние на исследование. Затем, на этапе предобработки вы поищете возможность исправить самые критичные ошибки данных.\n",
    " \n",
    "Таким образом, исследование пройдёт в три этапа:\n",
    " 1. Обзор данных.\n",
    " 2. Предобработка данных.\n",
    " 3. Проверка гипотез.\n",
    "\n"
   ]
  },
  {
   "cell_type": "markdown",
   "metadata": {
    "deletable": false,
    "editable": false,
    "id": "Ml1hmfXC_Zcs"
   },
   "source": [
    "## Обзор данных\n",
    "\n",
    "Составьте первое представление о данных Яндекс Музыки.\n",
    "\n",
    "\n"
   ]
  },
  {
   "cell_type": "code",
   "execution_count": null,
   "metadata": {},
   "outputs": [],
   "source": []
  },
  {
   "cell_type": "markdown",
   "metadata": {
    "deletable": false,
    "editable": false,
    "id": "57eAOGIz_Zcs",
    "tags": [
     "start_task"
    ]
   },
   "source": [
    "**Задание 1**\n",
    "\n",
    "Основной инструмент аналитика — `pandas`. Импортируйте эту библиотеку."
   ]
  },
  {
   "cell_type": "code",
   "execution_count": 121,
   "metadata": {
    "deletable": false,
    "id": "AXN7PHPN_Zcs"
   },
   "outputs": [],
   "source": [
    "import pandas as pd"
   ]
  },
  {
   "cell_type": "markdown",
   "metadata": {
    "deletable": false,
    "editable": false,
    "id": "SG23P8tt_Zcs",
    "tags": [
     "start_task"
    ]
   },
   "source": [
    "**Задание 2**\n",
    "\n",
    "Прочитайте файл `yandex_music_project.csv` из папки `/datasets` и сохраните его в переменной `df`:"
   ]
  },
  {
   "cell_type": "code",
   "execution_count": 122,
   "metadata": {
    "deletable": false,
    "id": "fFVu7vqh_Zct"
   },
   "outputs": [],
   "source": [
    "df = pd.read_csv('/datasets/yandex_music_project.csv')"
   ]
  },
  {
   "cell_type": "markdown",
   "metadata": {
    "deletable": false,
    "editable": false,
    "id": "rDoOMd3uTqnZ",
    "tags": [
     "start_task"
    ]
   },
   "source": [
    "**Задание 3**\n",
    "\n",
    "\n",
    "Выведите на экран первые десять строк таблицы:"
   ]
  },
  {
   "cell_type": "code",
   "execution_count": 123,
   "metadata": {
    "deletable": false,
    "id": "oWTVX3gW_Zct"
   },
   "outputs": [
    {
     "data": {
      "text/html": [
       "<div>\n",
       "<style scoped>\n",
       "    .dataframe tbody tr th:only-of-type {\n",
       "        vertical-align: middle;\n",
       "    }\n",
       "\n",
       "    .dataframe tbody tr th {\n",
       "        vertical-align: top;\n",
       "    }\n",
       "\n",
       "    .dataframe thead th {\n",
       "        text-align: right;\n",
       "    }\n",
       "</style>\n",
       "<table border=\"1\" class=\"dataframe\">\n",
       "  <thead>\n",
       "    <tr style=\"text-align: right;\">\n",
       "      <th></th>\n",
       "      <th>userID</th>\n",
       "      <th>Track</th>\n",
       "      <th>artist</th>\n",
       "      <th>genre</th>\n",
       "      <th>City</th>\n",
       "      <th>time</th>\n",
       "      <th>Day</th>\n",
       "    </tr>\n",
       "  </thead>\n",
       "  <tbody>\n",
       "    <tr>\n",
       "      <th>0</th>\n",
       "      <td>FFB692EC</td>\n",
       "      <td>Kamigata To Boots</td>\n",
       "      <td>The Mass Missile</td>\n",
       "      <td>rock</td>\n",
       "      <td>Saint-Petersburg</td>\n",
       "      <td>20:28:33</td>\n",
       "      <td>Wednesday</td>\n",
       "    </tr>\n",
       "    <tr>\n",
       "      <th>1</th>\n",
       "      <td>55204538</td>\n",
       "      <td>Delayed Because of Accident</td>\n",
       "      <td>Andreas Rönnberg</td>\n",
       "      <td>rock</td>\n",
       "      <td>Moscow</td>\n",
       "      <td>14:07:09</td>\n",
       "      <td>Friday</td>\n",
       "    </tr>\n",
       "    <tr>\n",
       "      <th>2</th>\n",
       "      <td>20EC38</td>\n",
       "      <td>Funiculì funiculà</td>\n",
       "      <td>Mario Lanza</td>\n",
       "      <td>pop</td>\n",
       "      <td>Saint-Petersburg</td>\n",
       "      <td>20:58:07</td>\n",
       "      <td>Wednesday</td>\n",
       "    </tr>\n",
       "    <tr>\n",
       "      <th>3</th>\n",
       "      <td>A3DD03C9</td>\n",
       "      <td>Dragons in the Sunset</td>\n",
       "      <td>Fire + Ice</td>\n",
       "      <td>folk</td>\n",
       "      <td>Saint-Petersburg</td>\n",
       "      <td>08:37:09</td>\n",
       "      <td>Monday</td>\n",
       "    </tr>\n",
       "    <tr>\n",
       "      <th>4</th>\n",
       "      <td>E2DC1FAE</td>\n",
       "      <td>Soul People</td>\n",
       "      <td>Space Echo</td>\n",
       "      <td>dance</td>\n",
       "      <td>Moscow</td>\n",
       "      <td>08:34:34</td>\n",
       "      <td>Monday</td>\n",
       "    </tr>\n",
       "    <tr>\n",
       "      <th>5</th>\n",
       "      <td>842029A1</td>\n",
       "      <td>Преданная</td>\n",
       "      <td>IMPERVTOR</td>\n",
       "      <td>rusrap</td>\n",
       "      <td>Saint-Petersburg</td>\n",
       "      <td>13:09:41</td>\n",
       "      <td>Friday</td>\n",
       "    </tr>\n",
       "    <tr>\n",
       "      <th>6</th>\n",
       "      <td>4CB90AA5</td>\n",
       "      <td>True</td>\n",
       "      <td>Roman Messer</td>\n",
       "      <td>dance</td>\n",
       "      <td>Moscow</td>\n",
       "      <td>13:00:07</td>\n",
       "      <td>Wednesday</td>\n",
       "    </tr>\n",
       "    <tr>\n",
       "      <th>7</th>\n",
       "      <td>F03E1C1F</td>\n",
       "      <td>Feeling This Way</td>\n",
       "      <td>Polina Griffith</td>\n",
       "      <td>dance</td>\n",
       "      <td>Moscow</td>\n",
       "      <td>20:47:49</td>\n",
       "      <td>Wednesday</td>\n",
       "    </tr>\n",
       "    <tr>\n",
       "      <th>8</th>\n",
       "      <td>8FA1D3BE</td>\n",
       "      <td>И вновь продолжается бой</td>\n",
       "      <td>NaN</td>\n",
       "      <td>ruspop</td>\n",
       "      <td>Moscow</td>\n",
       "      <td>09:17:40</td>\n",
       "      <td>Friday</td>\n",
       "    </tr>\n",
       "    <tr>\n",
       "      <th>9</th>\n",
       "      <td>E772D5C0</td>\n",
       "      <td>Pessimist</td>\n",
       "      <td>NaN</td>\n",
       "      <td>dance</td>\n",
       "      <td>Saint-Petersburg</td>\n",
       "      <td>21:20:49</td>\n",
       "      <td>Wednesday</td>\n",
       "    </tr>\n",
       "  </tbody>\n",
       "</table>\n",
       "</div>"
      ],
      "text/plain": [
       "     userID                        Track            artist   genre  \\\n",
       "0  FFB692EC            Kamigata To Boots  The Mass Missile    rock   \n",
       "1  55204538  Delayed Because of Accident  Andreas Rönnberg    rock   \n",
       "2    20EC38            Funiculì funiculà       Mario Lanza     pop   \n",
       "3  A3DD03C9        Dragons in the Sunset        Fire + Ice    folk   \n",
       "4  E2DC1FAE                  Soul People        Space Echo   dance   \n",
       "5  842029A1                    Преданная         IMPERVTOR  rusrap   \n",
       "6  4CB90AA5                         True      Roman Messer   dance   \n",
       "7  F03E1C1F             Feeling This Way   Polina Griffith   dance   \n",
       "8  8FA1D3BE     И вновь продолжается бой               NaN  ruspop   \n",
       "9  E772D5C0                    Pessimist               NaN   dance   \n",
       "\n",
       "             City        time        Day  \n",
       "0  Saint-Petersburg  20:28:33  Wednesday  \n",
       "1            Moscow  14:07:09     Friday  \n",
       "2  Saint-Petersburg  20:58:07  Wednesday  \n",
       "3  Saint-Petersburg  08:37:09     Monday  \n",
       "4            Moscow  08:34:34     Monday  \n",
       "5  Saint-Petersburg  13:09:41     Friday  \n",
       "6            Moscow  13:00:07  Wednesday  \n",
       "7            Moscow  20:47:49  Wednesday  \n",
       "8            Moscow  09:17:40     Friday  \n",
       "9  Saint-Petersburg  21:20:49  Wednesday  "
      ]
     },
     "execution_count": 123,
     "metadata": {},
     "output_type": "execute_result"
    }
   ],
   "source": [
    "df.head(10)"
   ]
  },
  {
   "cell_type": "markdown",
   "metadata": {
    "deletable": false,
    "editable": false,
    "id": "EO73Kwic_Zct",
    "tags": [
     "start_task"
    ]
   },
   "source": [
    "**Задание 4**\n",
    "\n",
    "\n",
    "Одной командой получить общую информацию о таблице c помощью метода `info()`:"
   ]
  },
  {
   "cell_type": "code",
   "execution_count": 124,
   "metadata": {
    "deletable": false,
    "id": "DSf2kIb-_Zct"
   },
   "outputs": [
    {
     "name": "stdout",
     "output_type": "stream",
     "text": [
      "<class 'pandas.core.frame.DataFrame'>\n",
      "RangeIndex: 65079 entries, 0 to 65078\n",
      "Data columns (total 7 columns):\n",
      " #   Column    Non-Null Count  Dtype \n",
      "---  ------    --------------  ----- \n",
      " 0     userID  65079 non-null  object\n",
      " 1   Track     63848 non-null  object\n",
      " 2   artist    57876 non-null  object\n",
      " 3   genre     63881 non-null  object\n",
      " 4     City    65079 non-null  object\n",
      " 5   time      65079 non-null  object\n",
      " 6   Day       65079 non-null  object\n",
      "dtypes: object(7)\n",
      "memory usage: 3.5+ MB\n"
     ]
    }
   ],
   "source": [
    "df.info()"
   ]
  },
  {
   "cell_type": "markdown",
   "metadata": {
    "deletable": false,
    "editable": false,
    "id": "TaQ2Iwbr_Zct"
   },
   "source": [
    "Итак, в таблице семь столбцов. Тип данных во всех столбцах — `object`.\n",
    "\n",
    "Согласно документации к данным:\n",
    "* `userID` — идентификатор пользователя;\n",
    "* `Track` — название трека;  \n",
    "* `artist` — имя исполнителя;\n",
    "* `genre` — название жанра;\n",
    "* `City` — город пользователя;\n",
    "* `time` — время начала прослушивания;\n",
    "* `Day` — день недели.\n",
    "\n",
    "Количество значений в столбцах различается. Значит, в данных есть пропущенные значения."
   ]
  },
  {
   "cell_type": "markdown",
   "metadata": {
    "deletable": false,
    "editable": false,
    "id": "4P0UCWzswgEm",
    "tags": [
     "start_task"
    ]
   },
   "source": [
    "**Задание 5**\n",
    "\n",
    "**Вопрос со свободной формой ответа**\n",
    "\n",
    "В названиях колонок видны три нарушения стиля:\n",
    "1. Строчные буквы сочетаются с прописными.\n",
    "2. Встречаются пробелы."
   ]
  },
  {
   "cell_type": "code",
   "execution_count": 125,
   "metadata": {
    "id": "c137-ZstwgEm"
   },
   "outputs": [],
   "source": [
    "# Напишите ваш ответ здесь комментарием. Не удаляйте символ #. Не меняйте тип этой ячейки на Markdown.\n",
    "# В названии столбца \"userID\" пишется слитно и разным регистром букв. Корректнее написать \"user_id\", используя змеинный регистр."
   ]
  },
  {
   "cell_type": "markdown",
   "metadata": {
    "deletable": false,
    "editable": false,
    "id": "MCB6-dXG_Zct"
   },
   "source": [
    "**Выводы**\n",
    "\n",
    "В каждой строке таблицы — данные о прослушанном треке. Часть колонок описывает саму композицию: название, исполнителя и жанр. Остальные данные рассказывают о пользователе: из какого он города, когда он слушал музыку. \n",
    "\n",
    "Предварительно можно утверждать, что, данных достаточно для проверки гипотез. Но встречаются пропуски в данных, а в названиях колонок — расхождения с хорошим стилем.\n",
    "\n",
    "Чтобы двигаться дальше, нужно устранить проблемы в данных."
   ]
  },
  {
   "cell_type": "markdown",
   "metadata": {
    "deletable": false,
    "editable": false,
    "id": "SjYF6Ub9_Zct"
   },
   "source": [
    "## Предобработка данных\n",
    "Исправьте стиль в заголовках столбцов, исключите пропуски. Затем проверьте данные на дубликаты."
   ]
  },
  {
   "cell_type": "markdown",
   "metadata": {
    "deletable": false,
    "editable": false,
    "id": "dIaKXr29_Zct",
    "tags": [
     "start_task"
    ]
   },
   "source": [
    "### Стиль заголовков\n",
    "\n",
    "**Задание 6**\n",
    "\n",
    "Выведите на экран названия столбцов:"
   ]
  },
  {
   "cell_type": "code",
   "execution_count": 126,
   "metadata": {
    "deletable": false,
    "id": "oKOTdF_Q_Zct"
   },
   "outputs": [
    {
     "data": {
      "text/plain": [
       "Index(['  userID', 'Track', 'artist', 'genre', '  City  ', 'time', 'Day'], dtype='object')"
      ]
     },
     "execution_count": 126,
     "metadata": {},
     "output_type": "execute_result"
    }
   ],
   "source": [
    "df.columns"
   ]
  },
  {
   "cell_type": "markdown",
   "metadata": {
    "deletable": false,
    "editable": false,
    "id": "zj5534cv_Zct",
    "tags": [
     "start_task"
    ]
   },
   "source": [
    "**Задание 7**\n",
    "\n",
    "\n",
    "Приведите названия в соответствие с хорошим стилем:\n",
    "* несколько слов в названии запишите в «змеином_регистре»,\n",
    "* все символы сделайте строчными,\n",
    "* устраните пробелы.\n",
    "\n",
    "Для этого переименуйте колонки так:\n",
    "* `'  userID'` → `'user_id'`;\n",
    "* `'Track'` → `'track'`;\n",
    "* `'  City  '` → `'city'`;\n",
    "* `'Day'` → `'day'`."
   ]
  },
  {
   "cell_type": "code",
   "execution_count": 127,
   "metadata": {
    "deletable": false,
    "id": "ISlFqs5y_Zct"
   },
   "outputs": [],
   "source": [
    "df = df.rename(columns={'  userID': 'user_id', 'Track': 'track', '  City  ': 'city', 'Day': 'day'})\n"
   ]
  },
  {
   "cell_type": "markdown",
   "metadata": {
    "deletable": false,
    "editable": false,
    "id": "1dqbh00J_Zct",
    "tags": [
     "start_task"
    ]
   },
   "source": [
    "**Задание 8**\n",
    "\n",
    "\n",
    "Проверьте результат. Для этого ещё раз выведите на экран названия столбцов:"
   ]
  },
  {
   "cell_type": "code",
   "execution_count": 128,
   "metadata": {
    "deletable": false,
    "id": "d4NOAmTW_Zct"
   },
   "outputs": [
    {
     "data": {
      "text/plain": [
       "Index(['user_id', 'track', 'artist', 'genre', 'city', 'time', 'day'], dtype='object')"
      ]
     },
     "execution_count": 128,
     "metadata": {},
     "output_type": "execute_result"
    }
   ],
   "source": [
    "df.columns"
   ]
  },
  {
   "cell_type": "markdown",
   "metadata": {
    "deletable": false,
    "editable": false,
    "id": "5ISfbcfY_Zct",
    "tags": [
     "start_task"
    ]
   },
   "source": [
    "### Пропуски значений\n",
    "\n",
    "**Задание 9**\n",
    "\n",
    "Сначала посчитайте, сколько в таблице пропущенных значений. Для этого достаточно двух методов `pandas`:"
   ]
  },
  {
   "cell_type": "code",
   "execution_count": 129,
   "metadata": {
    "deletable": false,
    "id": "RskX29qr_Zct"
   },
   "outputs": [
    {
     "data": {
      "text/plain": [
       "user_id       0\n",
       "track      1231\n",
       "artist     7203\n",
       "genre      1198\n",
       "city          0\n",
       "time          0\n",
       "day           0\n",
       "dtype: int64"
      ]
     },
     "execution_count": 129,
     "metadata": {},
     "output_type": "execute_result"
    }
   ],
   "source": [
    "df.isna().sum()"
   ]
  },
  {
   "cell_type": "markdown",
   "metadata": {
    "deletable": false,
    "editable": false,
    "id": "qubhgnlO_Zct"
   },
   "source": [
    "Не все пропущенные значения влияют на исследование. Так в `track` и `artist` пропуски не важны для вашей работы. Достаточно заменить их явными обозначениями.\n",
    "\n",
    "Но пропуски в `genre` могут помешать сравнению музыкальных вкусов в Москве и Санкт-Петербурге. На практике было бы правильно установить причину пропусков и восстановить данные. Такой возможности нет в учебном проекте. Придётся:\n",
    "* заполнить и эти пропуски явными обозначениями,\n",
    "* оценить, насколько они повредят расчётам. "
   ]
  },
  {
   "cell_type": "markdown",
   "metadata": {
    "deletable": false,
    "editable": false,
    "id": "fSv2laPA_Zct",
    "tags": [
     "start_task"
    ]
   },
   "source": [
    "**Задание 10**\n",
    "\n",
    "Замените пропущенные значения в столбцах `track`, `artist` и `genre` на строку `'unknown'`. Для этого создайте список `columns_to_replace`, переберите его элементы циклом `for` и для каждого столбца выполните замену пропущенных значений:"
   ]
  },
  {
   "cell_type": "code",
   "execution_count": 130,
   "metadata": {
    "deletable": false,
    "id": "KplB5qWs_Zct"
   },
   "outputs": [],
   "source": [
    "columns_to_replace = ['track', 'artist', 'genre']\n",
    "for columns in columns_to_replace:\n",
    "    df[columns] = df[columns].fillna('unknown')"
   ]
  },
  {
   "cell_type": "markdown",
   "metadata": {
    "deletable": false,
    "editable": false,
    "id": "Ilsm-MZo_Zct",
    "tags": [
     "start_task"
    ]
   },
   "source": [
    "**Задание 11**\n",
    "\n",
    "Убедитесь, что в таблице не осталось пропусков. Для этого ещё раз посчитайте пропущенные значения."
   ]
  },
  {
   "cell_type": "code",
   "execution_count": 131,
   "metadata": {
    "deletable": false,
    "id": "Tq4nYRX4_Zct"
   },
   "outputs": [
    {
     "data": {
      "text/plain": [
       "user_id    0\n",
       "track      0\n",
       "artist     0\n",
       "genre      0\n",
       "city       0\n",
       "time       0\n",
       "day        0\n",
       "dtype: int64"
      ]
     },
     "execution_count": 131,
     "metadata": {},
     "output_type": "execute_result"
    }
   ],
   "source": [
    "df.isna().sum()"
   ]
  },
  {
   "cell_type": "markdown",
   "metadata": {
    "deletable": false,
    "editable": false,
    "id": "BWKRtBJ3_Zct",
    "tags": [
     "start_task"
    ]
   },
   "source": [
    "### Дубликаты\n",
    "\n",
    "**Задание 12**\n",
    "\n",
    "Посчитайте явные дубликаты в таблице одной командой:"
   ]
  },
  {
   "cell_type": "code",
   "execution_count": 132,
   "metadata": {
    "deletable": false,
    "id": "36eES_S0_Zct"
   },
   "outputs": [
    {
     "data": {
      "text/plain": [
       "3826"
      ]
     },
     "execution_count": 132,
     "metadata": {},
     "output_type": "execute_result"
    }
   ],
   "source": [
    "df.duplicated().sum()"
   ]
  },
  {
   "cell_type": "markdown",
   "metadata": {
    "deletable": false,
    "editable": false,
    "id": "Ot25h6XR_Zct",
    "tags": [
     "start_task"
    ]
   },
   "source": [
    "**Задание 13**\n",
    "\n",
    "Вызовите специальный метод `pandas`, чтобы удалить явные дубликаты:"
   ]
  },
  {
   "cell_type": "code",
   "execution_count": 133,
   "metadata": {
    "deletable": false,
    "id": "exFHq6tt_Zct"
   },
   "outputs": [],
   "source": [
    "df.drop_duplicates(inplace=True)"
   ]
  },
  {
   "cell_type": "markdown",
   "metadata": {
    "deletable": false,
    "editable": false,
    "id": "Im2YwBEG_Zct",
    "tags": [
     "start_task"
    ]
   },
   "source": [
    "**Задание 14**\n",
    "\n",
    "Ещё раз посчитайте явные дубликаты в таблице — убедитесь, что полностью от них избавились:"
   ]
  },
  {
   "cell_type": "code",
   "execution_count": 134,
   "metadata": {
    "deletable": false,
    "id": "-8PuNWQ0_Zct"
   },
   "outputs": [
    {
     "data": {
      "text/plain": [
       "0"
      ]
     },
     "execution_count": 134,
     "metadata": {},
     "output_type": "execute_result"
    }
   ],
   "source": [
    "df.duplicated().sum()"
   ]
  },
  {
   "cell_type": "markdown",
   "metadata": {
    "deletable": false,
    "editable": false,
    "id": "QlFBsxAr_Zct"
   },
   "source": [
    "Теперь избавьтесь от неявных дубликатов в колонке `genre`. Например, название одного и того же жанра может быть записано немного по-разному. Такие ошибки тоже повлияют на результат исследования."
   ]
  },
  {
   "cell_type": "markdown",
   "metadata": {
    "deletable": false,
    "editable": false,
    "id": "eSjWwsOh_Zct",
    "tags": [
     "start_task"
    ]
   },
   "source": [
    "**Задание 15**\n",
    "\n",
    "Выведите на экран список уникальных названий жанров, отсортированный в алфавитном порядке. Для этого:\n",
    "* извлеките нужный столбец датафрейма, \n",
    "* примените к нему метод сортировки,\n",
    "* для отсортированного столбца вызовите метод, который вернёт уникальные значения из столбца."
   ]
  },
  {
   "cell_type": "code",
   "execution_count": 135,
   "metadata": {
    "deletable": false,
    "id": "JIUcqzZN_Zct"
   },
   "outputs": [
    {
     "data": {
      "text/plain": [
       "array(['acid', 'acoustic', 'action', 'adult', 'africa', 'afrikaans',\n",
       "       'alternative', 'alternativepunk', 'ambient', 'americana',\n",
       "       'animated', 'anime', 'arabesk', 'arabic', 'arena',\n",
       "       'argentinetango', 'art', 'audiobook', 'author', 'avantgarde',\n",
       "       'axé', 'baile', 'balkan', 'beats', 'bigroom', 'black', 'bluegrass',\n",
       "       'blues', 'bollywood', 'bossa', 'brazilian', 'breakbeat', 'breaks',\n",
       "       'broadway', 'cantautori', 'cantopop', 'canzone', 'caribbean',\n",
       "       'caucasian', 'celtic', 'chamber', 'chanson', 'children', 'chill',\n",
       "       'chinese', 'choral', 'christian', 'christmas', 'classical',\n",
       "       'classicmetal', 'club', 'colombian', 'comedy', 'conjazz',\n",
       "       'contemporary', 'country', 'cuban', 'dance', 'dancehall',\n",
       "       'dancepop', 'dark', 'death', 'deep', 'deutschrock', 'deutschspr',\n",
       "       'dirty', 'disco', 'dnb', 'documentary', 'downbeat', 'downtempo',\n",
       "       'drum', 'dub', 'dubstep', 'eastern', 'easy', 'electronic',\n",
       "       'electropop', 'emo', 'entehno', 'epicmetal', 'estrada', 'ethnic',\n",
       "       'eurofolk', 'european', 'experimental', 'extrememetal', 'fado',\n",
       "       'fairytail', 'film', 'fitness', 'flamenco', 'folk', 'folklore',\n",
       "       'folkmetal', 'folkrock', 'folktronica', 'forró', 'frankreich',\n",
       "       'französisch', 'french', 'funk', 'future', 'gangsta', 'garage',\n",
       "       'german', 'ghazal', 'gitarre', 'glitch', 'gospel', 'gothic',\n",
       "       'grime', 'grunge', 'gypsy', 'handsup', \"hard'n'heavy\", 'hardcore',\n",
       "       'hardstyle', 'hardtechno', 'hip', 'hip-hop', 'hiphop',\n",
       "       'historisch', 'holiday', 'hop', 'horror', 'house', 'hymn', 'idm',\n",
       "       'independent', 'indian', 'indie', 'indipop', 'industrial',\n",
       "       'inspirational', 'instrumental', 'international', 'irish', 'jam',\n",
       "       'japanese', 'jazz', 'jewish', 'jpop', 'jungle', 'k-pop',\n",
       "       'karadeniz', 'karaoke', 'kayokyoku', 'korean', 'laiko', 'latin',\n",
       "       'latino', 'leftfield', 'local', 'lounge', 'loungeelectronic',\n",
       "       'lovers', 'malaysian', 'mandopop', 'marschmusik', 'meditative',\n",
       "       'mediterranean', 'melodic', 'metal', 'metalcore', 'mexican',\n",
       "       'middle', 'minimal', 'miscellaneous', 'modern', 'mood', 'mpb',\n",
       "       'muslim', 'native', 'neoklassik', 'neue', 'new', 'newage',\n",
       "       'newwave', 'nu', 'nujazz', 'numetal', 'oceania', 'old', 'opera',\n",
       "       'orchestral', 'other', 'piano', 'podcasts', 'pop', 'popdance',\n",
       "       'popelectronic', 'popeurodance', 'poprussian', 'post',\n",
       "       'posthardcore', 'postrock', 'power', 'progmetal', 'progressive',\n",
       "       'psychedelic', 'punjabi', 'punk', 'quebecois', 'ragga', 'ram',\n",
       "       'rancheras', 'rap', 'rave', 'reggae', 'reggaeton', 'regional',\n",
       "       'relax', 'religious', 'retro', 'rhythm', 'rnb', 'rnr', 'rock',\n",
       "       'rockabilly', 'rockalternative', 'rockindie', 'rockother',\n",
       "       'romance', 'roots', 'ruspop', 'rusrap', 'rusrock', 'russian',\n",
       "       'salsa', 'samba', 'scenic', 'schlager', 'self', 'sertanejo',\n",
       "       'shanson', 'shoegazing', 'showtunes', 'singer', 'ska', 'skarock',\n",
       "       'slow', 'smooth', 'soft', 'soul', 'soulful', 'sound', 'soundtrack',\n",
       "       'southern', 'specialty', 'speech', 'spiritual', 'sport',\n",
       "       'stonerrock', 'surf', 'swing', 'synthpop', 'synthrock',\n",
       "       'sängerportrait', 'tango', 'tanzorchester', 'taraftar', 'tatar',\n",
       "       'tech', 'techno', 'teen', 'thrash', 'top', 'traditional',\n",
       "       'tradjazz', 'trance', 'tribal', 'trip', 'triphop', 'tropical',\n",
       "       'türk', 'türkçe', 'ukrrock', 'unknown', 'urban', 'uzbek',\n",
       "       'variété', 'vi', 'videogame', 'vocal', 'western', 'world',\n",
       "       'worldbeat', 'ïîï', 'электроника'], dtype=object)"
      ]
     },
     "execution_count": 135,
     "metadata": {},
     "output_type": "execute_result"
    }
   ],
   "source": [
    "genre_list = df.sort_values(by='genre') #применение метода сортировки\n",
    "genre_list = genre_list['genre'].unique() #применение методадля вызова уникальных значенийй\n",
    "genre_list"
   ]
  },
  {
   "cell_type": "markdown",
   "metadata": {
    "deletable": false,
    "editable": false,
    "id": "qej-Qmuo_Zct",
    "tags": [
     "start_task"
    ]
   },
   "source": [
    "**Задание 16**\n",
    "\n",
    "Просмотрите список и найдите неявные дубликаты названия `hiphop`. Это могут быть названия с ошибками или альтернативные названия того же жанра.\n",
    "\n",
    "Вы увидите следующие неявные дубликаты:\n",
    "* *hip*,\n",
    "* *hop*,\n",
    "* *hip-hop*.\n",
    "\n",
    "Чтобы очистить от них таблицу используйте метод `replace()` с двумя аргументами: списком строк-дубликатов (включащий *hip*, *hop* и *hip-hop*) и строкой с правильным значением. Вам нужно исправить колонку `genre` в таблице `df`: заменить каждое значение из списка дубликатов на верное. Вместо `hip`, `hop` и `hip-hop` в таблице должно быть значение `hiphop`:"
   ]
  },
  {
   "cell_type": "code",
   "execution_count": 136,
   "metadata": {
    "deletable": false,
    "id": "ErNDkmns_Zct"
   },
   "outputs": [
    {
     "data": {
      "text/html": [
       "<div>\n",
       "<style scoped>\n",
       "    .dataframe tbody tr th:only-of-type {\n",
       "        vertical-align: middle;\n",
       "    }\n",
       "\n",
       "    .dataframe tbody tr th {\n",
       "        vertical-align: top;\n",
       "    }\n",
       "\n",
       "    .dataframe thead th {\n",
       "        text-align: right;\n",
       "    }\n",
       "</style>\n",
       "<table border=\"1\" class=\"dataframe\">\n",
       "  <thead>\n",
       "    <tr style=\"text-align: right;\">\n",
       "      <th></th>\n",
       "      <th>user_id</th>\n",
       "      <th>track</th>\n",
       "      <th>artist</th>\n",
       "      <th>genre</th>\n",
       "      <th>city</th>\n",
       "      <th>time</th>\n",
       "      <th>day</th>\n",
       "    </tr>\n",
       "  </thead>\n",
       "  <tbody>\n",
       "    <tr>\n",
       "      <th>0</th>\n",
       "      <td>FFB692EC</td>\n",
       "      <td>Kamigata To Boots</td>\n",
       "      <td>The Mass Missile</td>\n",
       "      <td>rock</td>\n",
       "      <td>Saint-Petersburg</td>\n",
       "      <td>20:28:33</td>\n",
       "      <td>Wednesday</td>\n",
       "    </tr>\n",
       "    <tr>\n",
       "      <th>1</th>\n",
       "      <td>55204538</td>\n",
       "      <td>Delayed Because of Accident</td>\n",
       "      <td>Andreas Rönnberg</td>\n",
       "      <td>rock</td>\n",
       "      <td>Moscow</td>\n",
       "      <td>14:07:09</td>\n",
       "      <td>Friday</td>\n",
       "    </tr>\n",
       "    <tr>\n",
       "      <th>2</th>\n",
       "      <td>20EC38</td>\n",
       "      <td>Funiculì funiculà</td>\n",
       "      <td>Mario Lanza</td>\n",
       "      <td>pop</td>\n",
       "      <td>Saint-Petersburg</td>\n",
       "      <td>20:58:07</td>\n",
       "      <td>Wednesday</td>\n",
       "    </tr>\n",
       "    <tr>\n",
       "      <th>3</th>\n",
       "      <td>A3DD03C9</td>\n",
       "      <td>Dragons in the Sunset</td>\n",
       "      <td>Fire + Ice</td>\n",
       "      <td>folk</td>\n",
       "      <td>Saint-Petersburg</td>\n",
       "      <td>08:37:09</td>\n",
       "      <td>Monday</td>\n",
       "    </tr>\n",
       "    <tr>\n",
       "      <th>4</th>\n",
       "      <td>E2DC1FAE</td>\n",
       "      <td>Soul People</td>\n",
       "      <td>Space Echo</td>\n",
       "      <td>dance</td>\n",
       "      <td>Moscow</td>\n",
       "      <td>08:34:34</td>\n",
       "      <td>Monday</td>\n",
       "    </tr>\n",
       "    <tr>\n",
       "      <th>...</th>\n",
       "      <td>...</td>\n",
       "      <td>...</td>\n",
       "      <td>...</td>\n",
       "      <td>...</td>\n",
       "      <td>...</td>\n",
       "      <td>...</td>\n",
       "      <td>...</td>\n",
       "    </tr>\n",
       "    <tr>\n",
       "      <th>65074</th>\n",
       "      <td>729CBB09</td>\n",
       "      <td>My Name</td>\n",
       "      <td>McLean</td>\n",
       "      <td>rnb</td>\n",
       "      <td>Moscow</td>\n",
       "      <td>13:32:28</td>\n",
       "      <td>Wednesday</td>\n",
       "    </tr>\n",
       "    <tr>\n",
       "      <th>65075</th>\n",
       "      <td>D08D4A55</td>\n",
       "      <td>Maybe One Day (feat. Black Spade)</td>\n",
       "      <td>Blu &amp; Exile</td>\n",
       "      <td>hiphop</td>\n",
       "      <td>Saint-Petersburg</td>\n",
       "      <td>10:00:00</td>\n",
       "      <td>Monday</td>\n",
       "    </tr>\n",
       "    <tr>\n",
       "      <th>65076</th>\n",
       "      <td>C5E3A0D5</td>\n",
       "      <td>Jalopiina</td>\n",
       "      <td>unknown</td>\n",
       "      <td>industrial</td>\n",
       "      <td>Moscow</td>\n",
       "      <td>20:09:26</td>\n",
       "      <td>Friday</td>\n",
       "    </tr>\n",
       "    <tr>\n",
       "      <th>65077</th>\n",
       "      <td>321D0506</td>\n",
       "      <td>Freight Train</td>\n",
       "      <td>Chas McDevitt</td>\n",
       "      <td>rock</td>\n",
       "      <td>Moscow</td>\n",
       "      <td>21:43:59</td>\n",
       "      <td>Friday</td>\n",
       "    </tr>\n",
       "    <tr>\n",
       "      <th>65078</th>\n",
       "      <td>3A64EF84</td>\n",
       "      <td>Tell Me Sweet Little Lies</td>\n",
       "      <td>Monica Lopez</td>\n",
       "      <td>country</td>\n",
       "      <td>Moscow</td>\n",
       "      <td>21:59:46</td>\n",
       "      <td>Friday</td>\n",
       "    </tr>\n",
       "  </tbody>\n",
       "</table>\n",
       "<p>61253 rows × 7 columns</p>\n",
       "</div>"
      ],
      "text/plain": [
       "        user_id                              track            artist  \\\n",
       "0      FFB692EC                  Kamigata To Boots  The Mass Missile   \n",
       "1      55204538        Delayed Because of Accident  Andreas Rönnberg   \n",
       "2        20EC38                  Funiculì funiculà       Mario Lanza   \n",
       "3      A3DD03C9              Dragons in the Sunset        Fire + Ice   \n",
       "4      E2DC1FAE                        Soul People        Space Echo   \n",
       "...         ...                                ...               ...   \n",
       "65074  729CBB09                            My Name            McLean   \n",
       "65075  D08D4A55  Maybe One Day (feat. Black Spade)       Blu & Exile   \n",
       "65076  C5E3A0D5                          Jalopiina           unknown   \n",
       "65077  321D0506                      Freight Train     Chas McDevitt   \n",
       "65078  3A64EF84          Tell Me Sweet Little Lies      Monica Lopez   \n",
       "\n",
       "            genre              city      time        day  \n",
       "0            rock  Saint-Petersburg  20:28:33  Wednesday  \n",
       "1            rock            Moscow  14:07:09     Friday  \n",
       "2             pop  Saint-Petersburg  20:58:07  Wednesday  \n",
       "3            folk  Saint-Petersburg  08:37:09     Monday  \n",
       "4           dance            Moscow  08:34:34     Monday  \n",
       "...           ...               ...       ...        ...  \n",
       "65074         rnb            Moscow  13:32:28  Wednesday  \n",
       "65075      hiphop  Saint-Petersburg  10:00:00     Monday  \n",
       "65076  industrial            Moscow  20:09:26     Friday  \n",
       "65077        rock            Moscow  21:43:59     Friday  \n",
       "65078     country            Moscow  21:59:46     Friday  \n",
       "\n",
       "[61253 rows x 7 columns]"
      ]
     },
     "execution_count": 136,
     "metadata": {},
     "output_type": "execute_result"
    }
   ],
   "source": [
    "df['genre'] = df['genre'].replace('hip', 'hiphop')\n",
    "df['genre'] = df['genre'].replace('hop', 'hiphop')\n",
    "df['genre'] = df['genre'].replace('hip-hop', 'hiphop')\n",
    "df"
   ]
  },
  {
   "cell_type": "markdown",
   "metadata": {
    "deletable": false,
    "editable": false,
    "id": "zQKF16_RG15m",
    "tags": [
     "start_task"
    ]
   },
   "source": [
    "**Задание 17**\n",
    "\n",
    "Проверьте, что заменили неправильные названия:\n",
    "\n",
    "*   hip\n",
    "*   hop\n",
    "*   hip-hop\n",
    "\n",
    "Выведите отсортированный список уникальных значений столбца `genre`:"
   ]
  },
  {
   "cell_type": "code",
   "execution_count": 137,
   "metadata": {
    "deletable": false,
    "id": "wvixALnFG15m"
   },
   "outputs": [
    {
     "data": {
      "text/plain": [
       "array(['acid', 'acoustic', 'action', 'adult', 'africa', 'afrikaans',\n",
       "       'alternative', 'alternativepunk', 'ambient', 'americana',\n",
       "       'animated', 'anime', 'arabesk', 'arabic', 'arena',\n",
       "       'argentinetango', 'art', 'audiobook', 'author', 'avantgarde',\n",
       "       'axé', 'baile', 'balkan', 'beats', 'bigroom', 'black', 'bluegrass',\n",
       "       'blues', 'bollywood', 'bossa', 'brazilian', 'breakbeat', 'breaks',\n",
       "       'broadway', 'cantautori', 'cantopop', 'canzone', 'caribbean',\n",
       "       'caucasian', 'celtic', 'chamber', 'chanson', 'children', 'chill',\n",
       "       'chinese', 'choral', 'christian', 'christmas', 'classical',\n",
       "       'classicmetal', 'club', 'colombian', 'comedy', 'conjazz',\n",
       "       'contemporary', 'country', 'cuban', 'dance', 'dancehall',\n",
       "       'dancepop', 'dark', 'death', 'deep', 'deutschrock', 'deutschspr',\n",
       "       'dirty', 'disco', 'dnb', 'documentary', 'downbeat', 'downtempo',\n",
       "       'drum', 'dub', 'dubstep', 'eastern', 'easy', 'electronic',\n",
       "       'electropop', 'emo', 'entehno', 'epicmetal', 'estrada', 'ethnic',\n",
       "       'eurofolk', 'european', 'experimental', 'extrememetal', 'fado',\n",
       "       'fairytail', 'film', 'fitness', 'flamenco', 'folk', 'folklore',\n",
       "       'folkmetal', 'folkrock', 'folktronica', 'forró', 'frankreich',\n",
       "       'französisch', 'french', 'funk', 'future', 'gangsta', 'garage',\n",
       "       'german', 'ghazal', 'gitarre', 'glitch', 'gospel', 'gothic',\n",
       "       'grime', 'grunge', 'gypsy', 'handsup', \"hard'n'heavy\", 'hardcore',\n",
       "       'hardstyle', 'hardtechno', 'hiphop', 'historisch', 'holiday',\n",
       "       'horror', 'house', 'hymn', 'idm', 'independent', 'indian', 'indie',\n",
       "       'indipop', 'industrial', 'inspirational', 'instrumental',\n",
       "       'international', 'irish', 'jam', 'japanese', 'jazz', 'jewish',\n",
       "       'jpop', 'jungle', 'k-pop', 'karadeniz', 'karaoke', 'kayokyoku',\n",
       "       'korean', 'laiko', 'latin', 'latino', 'leftfield', 'local',\n",
       "       'lounge', 'loungeelectronic', 'lovers', 'malaysian', 'mandopop',\n",
       "       'marschmusik', 'meditative', 'mediterranean', 'melodic', 'metal',\n",
       "       'metalcore', 'mexican', 'middle', 'minimal', 'miscellaneous',\n",
       "       'modern', 'mood', 'mpb', 'muslim', 'native', 'neoklassik', 'neue',\n",
       "       'new', 'newage', 'newwave', 'nu', 'nujazz', 'numetal', 'oceania',\n",
       "       'old', 'opera', 'orchestral', 'other', 'piano', 'podcasts', 'pop',\n",
       "       'popdance', 'popelectronic', 'popeurodance', 'poprussian', 'post',\n",
       "       'posthardcore', 'postrock', 'power', 'progmetal', 'progressive',\n",
       "       'psychedelic', 'punjabi', 'punk', 'quebecois', 'ragga', 'ram',\n",
       "       'rancheras', 'rap', 'rave', 'reggae', 'reggaeton', 'regional',\n",
       "       'relax', 'religious', 'retro', 'rhythm', 'rnb', 'rnr', 'rock',\n",
       "       'rockabilly', 'rockalternative', 'rockindie', 'rockother',\n",
       "       'romance', 'roots', 'ruspop', 'rusrap', 'rusrock', 'russian',\n",
       "       'salsa', 'samba', 'scenic', 'schlager', 'self', 'sertanejo',\n",
       "       'shanson', 'shoegazing', 'showtunes', 'singer', 'ska', 'skarock',\n",
       "       'slow', 'smooth', 'soft', 'soul', 'soulful', 'sound', 'soundtrack',\n",
       "       'southern', 'specialty', 'speech', 'spiritual', 'sport',\n",
       "       'stonerrock', 'surf', 'swing', 'synthpop', 'synthrock',\n",
       "       'sängerportrait', 'tango', 'tanzorchester', 'taraftar', 'tatar',\n",
       "       'tech', 'techno', 'teen', 'thrash', 'top', 'traditional',\n",
       "       'tradjazz', 'trance', 'tribal', 'trip', 'triphop', 'tropical',\n",
       "       'türk', 'türkçe', 'ukrrock', 'unknown', 'urban', 'uzbek',\n",
       "       'variété', 'vi', 'videogame', 'vocal', 'western', 'world',\n",
       "       'worldbeat', 'ïîï', 'электроника'], dtype=object)"
      ]
     },
     "execution_count": 137,
     "metadata": {},
     "output_type": "execute_result"
    }
   ],
   "source": [
    "genre_list = df.sort_values(by='genre') #применение метода сортировки\n",
    "genre_list = genre_list['genre'].unique() #применение методадля вызова уникальных значенийй\n",
    "genre_list"
   ]
  },
  {
   "cell_type": "markdown",
   "metadata": {
    "deletable": false,
    "editable": false,
    "id": "jz6a9-7HQUDd"
   },
   "source": [
    "**Выводы**\n",
    "\n",
    "Предобработка обнаружила три проблемы в данных:\n",
    "\n",
    "- нарушения в стиле заголовков,\n",
    "- пропущенные значения,\n",
    "- дубликаты — явные и неявные.\n",
    "\n",
    "Вы исправили заголовки, чтобы упростить работу с таблицей. Без дубликатов исследование станет более точным.\n",
    "\n",
    "Пропущенные значения вы заменили на `'unknown'`. Ещё предстоит увидеть, не повредят ли исследованию пропуски в колонке `genre`.\n",
    "\n",
    "Теперь можно перейти к проверке гипотез. "
   ]
  },
  {
   "cell_type": "markdown",
   "metadata": {
    "deletable": false,
    "editable": false,
    "id": "WttZHXH0SqKk"
   },
   "source": [
    "## Проверка гипотез"
   ]
  },
  {
   "cell_type": "markdown",
   "metadata": {
    "deletable": false,
    "editable": false,
    "id": "Im936VVi_Zcu"
   },
   "source": [
    "### Сравнение поведения пользователей двух столиц"
   ]
  },
  {
   "cell_type": "markdown",
   "metadata": {
    "deletable": false,
    "editable": false,
    "id": "nwt_MuaL_Zcu"
   },
   "source": [
    "Первая гипотеза утверждает, что пользователи по-разному слушают музыку в Москве и Санкт-Петербурге. Проверьте это предположение по данным о трёх днях недели — понедельнике, среде и пятнице. Для этого:\n",
    "\n",
    "* Разделите пользователей Москвы и Санкт-Петербурга\n",
    "* Сравните, сколько треков послушала каждая группа пользователей в понедельник, среду и пятницу.\n"
   ]
  },
  {
   "cell_type": "markdown",
   "metadata": {
    "deletable": false,
    "editable": false,
    "id": "8Dw_YMmT_Zcu",
    "tags": [
     "start_task"
    ]
   },
   "source": [
    "**Задание 18**\n",
    "\n",
    "Для тренировки сначала выполните каждый из расчётов по отдельности. \n",
    "\n",
    "Оцените активность пользователей в каждом городе. Сгруппируйте данные по городу и посчитайте прослушивания в каждой группе.\n",
    "\n"
   ]
  },
  {
   "cell_type": "code",
   "execution_count": 138,
   "metadata": {
    "deletable": false,
    "id": "0_Qs96oh_Zcu"
   },
   "outputs": [
    {
     "data": {
      "text/plain": [
       "city\n",
       "Moscow              42741\n",
       "Saint-Petersburg    18512\n",
       "Name: genre, dtype: int64"
      ]
     },
     "execution_count": 138,
     "metadata": {},
     "output_type": "execute_result"
    }
   ],
   "source": [
    "df.groupby('city')['genre'].count()"
   ]
  },
  {
   "cell_type": "markdown",
   "metadata": {
    "deletable": false,
    "editable": false,
    "id": "dzli3w8o_Zcu",
    "tags": [
     "start_task"
    ]
   },
   "source": [
    "В Москве прослушиваний больше, чем в Петербурге. Из этого не следует, что московские пользователи чаще слушают музыку. Просто самих пользователей в Москве больше.\n",
    "\n",
    "**Задание 19**\n",
    "\n",
    "Теперь сгруппируйте данные по дню недели и подсчитайте прослушивания в понедельник, среду и пятницу. Учтите, что в данных есть информация только о прослушиваниях только за эти дни.\n"
   ]
  },
  {
   "cell_type": "code",
   "execution_count": 139,
   "metadata": {
    "deletable": false,
    "id": "uZMKjiJz_Zcu"
   },
   "outputs": [
    {
     "data": {
      "text/plain": [
       "day\n",
       "Friday       21840\n",
       "Monday       21354\n",
       "Wednesday    18059\n",
       "Name: city, dtype: int64"
      ]
     },
     "execution_count": 139,
     "metadata": {},
     "output_type": "execute_result"
    }
   ],
   "source": [
    "df.groupby('day')['city'].count()"
   ]
  },
  {
   "cell_type": "markdown",
   "metadata": {
    "deletable": false,
    "editable": false,
    "id": "cC2tNrlL_Zcu"
   },
   "source": [
    "В среднем пользователи из двух городов менее активны по средам. Но картина может измениться, если рассмотреть каждый город в отдельности."
   ]
  },
  {
   "cell_type": "markdown",
   "metadata": {
    "deletable": false,
    "editable": false,
    "id": "POzs8bGa_Zcu",
    "tags": [
     "start_task"
    ]
   },
   "source": [
    "**Задание 20**\n",
    "\n",
    "\n",
    "Вы видели, как работает группировка по городу и по дням недели. Теперь напишите функцию, которая объединит два эти расчёта.\n",
    "\n",
    "Создайте функцию `number_tracks()`, которая посчитает прослушивания для заданного дня и города. Ей понадобятся два параметра:\n",
    "* день недели,\n",
    "* название города.\n",
    "\n",
    "В функции сохраните в переменную строки исходной таблицы, у которых значение:\n",
    "  * в колонке `day` равно параметру `day`,\n",
    "  * в колонке `city` равно параметру `city`.\n",
    "\n",
    "Для этого примените последовательную фильтрацию с логической индексацией (или сложные логические выражения в одну строку, если вы уже знакомы с ними).\n",
    "\n",
    "Затем посчитайте значения в столбце `user_id` получившейся таблицы. Результат сохраните в новую переменную. Верните эту переменную из функции."
   ]
  },
  {
   "cell_type": "code",
   "execution_count": 140,
   "metadata": {
    "deletable": false,
    "id": "Nz3GdQB1_Zcu"
   },
   "outputs": [],
   "source": [
    "def number_tracks(day, city): #объявляем функцию с двумя параметрами\n",
    "    track_list = df[(df['day']==day) & (df['city']==city)] #приравниваем значения столбцов к параметру\n",
    "    track_list_count = track_list['user_id'].count() #\n",
    "    return track_list_count"
   ]
  },
  {
   "cell_type": "markdown",
   "metadata": {
    "deletable": false,
    "editable": false,
    "id": "ytf7xFrFJQ2r",
    "tags": [
     "start_task"
    ]
   },
   "source": [
    "**Задание 21**\n",
    "\n",
    "Вызовите `number_tracks()` шесть раз, меняя значение параметров — так, чтобы получить данные для каждого города в каждый из трёх дней."
   ]
  },
  {
   "cell_type": "code",
   "execution_count": 141,
   "metadata": {
    "deletable": false,
    "id": "rJcRATNQ_Zcu"
   },
   "outputs": [
    {
     "data": {
      "text/plain": [
       "15740"
      ]
     },
     "execution_count": 141,
     "metadata": {},
     "output_type": "execute_result"
    }
   ],
   "source": [
    "number_tracks('Monday', 'Moscow')"
   ]
  },
  {
   "cell_type": "code",
   "execution_count": 142,
   "metadata": {
    "deletable": false,
    "id": "hq_ncZ5T_Zcu"
   },
   "outputs": [
    {
     "data": {
      "text/plain": [
       "5614"
      ]
     },
     "execution_count": 142,
     "metadata": {},
     "output_type": "execute_result"
    }
   ],
   "source": [
    "number_tracks('Monday', 'Saint-Petersburg')"
   ]
  },
  {
   "cell_type": "code",
   "execution_count": 143,
   "metadata": {
    "deletable": false,
    "id": "_NTy2VPU_Zcu"
   },
   "outputs": [
    {
     "data": {
      "text/plain": [
       "11056"
      ]
     },
     "execution_count": 143,
     "metadata": {},
     "output_type": "execute_result"
    }
   ],
   "source": [
    "number_tracks('Wednesday', 'Moscow')"
   ]
  },
  {
   "cell_type": "code",
   "execution_count": 144,
   "metadata": {
    "deletable": false,
    "id": "j2y3TAwo_Zcu"
   },
   "outputs": [
    {
     "data": {
      "text/plain": [
       "7003"
      ]
     },
     "execution_count": 144,
     "metadata": {},
     "output_type": "execute_result"
    }
   ],
   "source": [
    "number_tracks('Wednesday', 'Saint-Petersburg')"
   ]
  },
  {
   "cell_type": "code",
   "execution_count": 145,
   "metadata": {
    "deletable": false,
    "id": "vYDw5u_K_Zcu"
   },
   "outputs": [
    {
     "data": {
      "text/plain": [
       "15945"
      ]
     },
     "execution_count": 145,
     "metadata": {},
     "output_type": "execute_result"
    }
   ],
   "source": [
    "number_tracks('Friday', 'Moscow')"
   ]
  },
  {
   "cell_type": "code",
   "execution_count": 146,
   "metadata": {
    "deletable": false,
    "id": "8_yzFtW3_Zcu"
   },
   "outputs": [
    {
     "data": {
      "text/plain": [
       "5895"
      ]
     },
     "execution_count": 146,
     "metadata": {},
     "output_type": "execute_result"
    }
   ],
   "source": [
    "number_tracks('Friday', 'Saint-Petersburg')"
   ]
  },
  {
   "cell_type": "markdown",
   "metadata": {
    "deletable": false,
    "editable": false,
    "id": "7QXffbO-_Zcu",
    "tags": [
     "start_task"
    ]
   },
   "source": [
    "**Задание 22**\n",
    "\n",
    "Создайте c помощью конструктора `pd.DataFrame` таблицу, где\n",
    "* названия колонок — `['city', 'monday', 'wednesday', 'friday']`;\n",
    "* данные — результаты, которые вы получили с помощью `number_tracks`."
   ]
  },
  {
   "cell_type": "code",
   "execution_count": 147,
   "metadata": {
    "deletable": false,
    "id": "APAcLpOr_Zcu"
   },
   "outputs": [
    {
     "data": {
      "text/html": [
       "<div>\n",
       "<style scoped>\n",
       "    .dataframe tbody tr th:only-of-type {\n",
       "        vertical-align: middle;\n",
       "    }\n",
       "\n",
       "    .dataframe tbody tr th {\n",
       "        vertical-align: top;\n",
       "    }\n",
       "\n",
       "    .dataframe thead th {\n",
       "        text-align: right;\n",
       "    }\n",
       "</style>\n",
       "<table border=\"1\" class=\"dataframe\">\n",
       "  <thead>\n",
       "    <tr style=\"text-align: right;\">\n",
       "      <th></th>\n",
       "      <th>0</th>\n",
       "      <th>1</th>\n",
       "      <th>2</th>\n",
       "      <th>3</th>\n",
       "    </tr>\n",
       "  </thead>\n",
       "  <tbody>\n",
       "    <tr>\n",
       "      <th>0</th>\n",
       "      <td>Moscow</td>\n",
       "      <td>15740</td>\n",
       "      <td>11056</td>\n",
       "      <td>15945</td>\n",
       "    </tr>\n",
       "    <tr>\n",
       "      <th>1</th>\n",
       "      <td>Saint-Petersburg</td>\n",
       "      <td>5614</td>\n",
       "      <td>7003</td>\n",
       "      <td>5895</td>\n",
       "    </tr>\n",
       "  </tbody>\n",
       "</table>\n",
       "</div>"
      ],
      "text/plain": [
       "                  0      1      2      3\n",
       "0            Moscow  15740  11056  15945\n",
       "1  Saint-Petersburg   5614   7003   5895"
      ]
     },
     "execution_count": 147,
     "metadata": {},
     "output_type": "execute_result"
    }
   ],
   "source": [
    "info = pd.DataFrame(data=[['Moscow', '15740', '11056', '15945'], ['Saint-Petersburg', '5614', '7003', '5895']])\n",
    "info"
   ]
  },
  {
   "cell_type": "markdown",
   "metadata": {
    "deletable": false,
    "editable": false,
    "id": "-EgPIHYu_Zcu"
   },
   "source": [
    "**Выводы**\n",
    "\n",
    "Данные показывают разницу поведения пользователей:\n",
    "\n",
    "- В Москве пик прослушиваний приходится на понедельник и пятницу, а в среду заметен спад.\n",
    "- В Петербурге, наоборот, больше слушают музыку по средам. Активность в понедельник и пятницу здесь почти в равной мере уступает среде.\n",
    "\n",
    "Значит, данные говорят в пользу первой гипотезы."
   ]
  },
  {
   "cell_type": "markdown",
   "metadata": {
    "deletable": false,
    "editable": false,
    "id": "atZAxtq4_Zcu"
   },
   "source": [
    "### Музыка в начале и в конце недели"
   ]
  },
  {
   "cell_type": "markdown",
   "metadata": {
    "deletable": false,
    "editable": false,
    "id": "eXrQqXFH_Zcu"
   },
   "source": [
    "Согласно второй гипотезе, утром в понедельник в Москве преобладают одни жанры, а в Петербурге — другие. Так же и вечером пятницы преобладают разные жанры — в зависимости от города."
   ]
  },
  {
   "cell_type": "markdown",
   "metadata": {
    "deletable": false,
    "editable": false,
    "id": "S8UcW6Hw_Zcu",
    "tags": [
     "start_task"
    ]
   },
   "source": [
    "**Задание 23**\n",
    "\n",
    "Сохраните таблицы с данными в две переменные:\n",
    "* по Москве — в `moscow_general`;\n",
    "* по Санкт-Петербургу — в `spb_general`."
   ]
  },
  {
   "cell_type": "code",
   "execution_count": 148,
   "metadata": {
    "deletable": false,
    "id": "qeaFfM_P_Zcu"
   },
   "outputs": [],
   "source": [
    "moscow_general = df[df['city'] == 'Moscow']"
   ]
  },
  {
   "cell_type": "code",
   "execution_count": 149,
   "metadata": {
    "deletable": false,
    "id": "ORaVRKto_Zcu"
   },
   "outputs": [],
   "source": [
    "spb_general = df[df['city']== 'Saint-Petersburg']"
   ]
  },
  {
   "cell_type": "markdown",
   "metadata": {
    "deletable": false,
    "id": "MEJV-CX2_Zcu",
    "tags": [
     "start_task"
    ]
   },
   "source": [
    "**Задание 24**\n",
    "\n",
    "Создайте функцию `genre_weekday()` с четырьмя параметрами:\n",
    "* таблица (датафрейм) с данными,\n",
    "* день недели,\n",
    "* начальная временная метка в формате 'hh:mm', \n",
    "* последняя временная метка в формате 'hh:mm'.\n",
    "\n",
    "Функция должна вернуть информацию о топ-10 жанров тех треков, которые прослушивали в указанный день, в промежутке между двумя отметками времени."
   ]
  },
  {
   "cell_type": "code",
   "execution_count": 150,
   "metadata": {
    "deletable": false,
    "id": "laJT9BYl_Zcu"
   },
   "outputs": [],
   "source": [
    "def genre_weekday(df, day, time1, time2):\n",
    "    # последовательная фильтрация\n",
    "    # оставляем в genre_df только те строки df, у которых день равен day\n",
    "    genre_df = df[df['day']==day]\n",
    "    # оставляем в genre_df только те строки genre_df, у которых время меньше time2\n",
    "    genre_df = genre_df[genre_df['time']<time2]\n",
    "    # оставляем в genre_df только те строки genre_df, у которых время больше time1\n",
    "    genre_df = genre_df[genre_df['time']>time1]\n",
    "    # сгруппируем отфильтрованный датафрейм по столбцу с названиями жанров, возьмём столбец genre и посчитаем кол-во строк для каждого жанра методом count()\n",
    "    genre_df_grouped = genre_df.groupby('genre')['genre'].count()\n",
    "    # отсортируем результат по убыванию (чтобы в начале Series оказались самые популярные жанры)\n",
    "    genre_df_sorted = genre_df_grouped.sort_values(ascending = False)\n",
    "    # вернём Series с 10 самыми популярными жанрами в указанный отрезок времени заданного дня\n",
    "    return genre_df_sorted[:10]"
   ]
  },
  {
   "cell_type": "markdown",
   "metadata": {
    "deletable": false,
    "editable": false,
    "id": "la2s2_PF_Zcu",
    "tags": [
     "start_task"
    ]
   },
   "source": [
    "**Задание 25**\n",
    "\n",
    "\n",
    "Cравните результаты функции `genre_weekday()` для Москвы и Санкт-Петербурга в понедельник утром (с 7:00 до 11:00) и в пятницу вечером (с 17:00 до 23:00):"
   ]
  },
  {
   "cell_type": "code",
   "execution_count": 151,
   "metadata": {
    "deletable": false,
    "id": "yz7itPUQ_Zcu"
   },
   "outputs": [
    {
     "data": {
      "text/plain": [
       "genre\n",
       "pop            781\n",
       "dance          549\n",
       "electronic     480\n",
       "rock           474\n",
       "hiphop         286\n",
       "ruspop         186\n",
       "world          181\n",
       "rusrap         175\n",
       "alternative    164\n",
       "unknown        161\n",
       "Name: genre, dtype: int64"
      ]
     },
     "execution_count": 151,
     "metadata": {},
     "output_type": "execute_result"
    }
   ],
   "source": [
    "genre_weekday(moscow_general, 'Monday', '07:00', '11:00')"
   ]
  },
  {
   "cell_type": "code",
   "execution_count": 152,
   "metadata": {
    "deletable": false,
    "id": "kwUcHPdy_Zcu"
   },
   "outputs": [
    {
     "data": {
      "text/plain": [
       "genre\n",
       "pop            218\n",
       "dance          182\n",
       "rock           162\n",
       "electronic     147\n",
       "hiphop          80\n",
       "ruspop          64\n",
       "alternative     58\n",
       "rusrap          55\n",
       "jazz            44\n",
       "classical       40\n",
       "Name: genre, dtype: int64"
      ]
     },
     "execution_count": 152,
     "metadata": {},
     "output_type": "execute_result"
    }
   ],
   "source": [
    "genre_weekday(spb_general, 'Monday', '07:00', '11:00')"
   ]
  },
  {
   "cell_type": "code",
   "execution_count": 153,
   "metadata": {
    "deletable": false,
    "id": "EzXVRE1o_Zcu"
   },
   "outputs": [
    {
     "data": {
      "text/plain": [
       "genre\n",
       "pop            713\n",
       "rock           517\n",
       "dance          495\n",
       "electronic     482\n",
       "hiphop         273\n",
       "world          208\n",
       "ruspop         170\n",
       "alternative    163\n",
       "classical      163\n",
       "rusrap         142\n",
       "Name: genre, dtype: int64"
      ]
     },
     "execution_count": 153,
     "metadata": {},
     "output_type": "execute_result"
    }
   ],
   "source": [
    "genre_weekday(moscow_general, 'Friday', '17:00', '23:00')"
   ]
  },
  {
   "cell_type": "code",
   "execution_count": 154,
   "metadata": {
    "deletable": false,
    "id": "JZaEKu5v_Zcu"
   },
   "outputs": [
    {
     "data": {
      "text/plain": [
       "genre\n",
       "pop            256\n",
       "electronic     216\n",
       "rock           216\n",
       "dance          210\n",
       "hiphop          97\n",
       "alternative     63\n",
       "jazz            61\n",
       "classical       60\n",
       "rusrap          59\n",
       "world           54\n",
       "Name: genre, dtype: int64"
      ]
     },
     "execution_count": 154,
     "metadata": {},
     "output_type": "execute_result"
    }
   ],
   "source": [
    "genre_weekday(spb_general, 'Friday', '17:00', '23:00')"
   ]
  },
  {
   "cell_type": "markdown",
   "metadata": {
    "deletable": false,
    "editable": false,
    "id": "wrCe4MNX_Zcu"
   },
   "source": [
    "**Выводы**\n",
    "\n",
    "Если сравнить топ-10 жанров в понедельник утром, можно сделать такие выводы:\n",
    "\n",
    "1. В Москве и Петербурге слушают похожую музыку. Единственное отличие — в московский рейтинг вошёл жанр “world”, а в петербургский — джаз и классика.\n",
    "\n",
    "2. В Москве пропущенных значений оказалось так много, что значение `'unknown'` заняло десятое место среди самых популярных жанров. Значит, пропущенные значения занимают существенную долю в данных и угрожают достоверности исследования.\n",
    "\n",
    "Вечер пятницы не меняет эту картину. Некоторые жанры поднимаются немного выше, другие спускаются, но в целом топ-10 остаётся тем же самым.\n",
    "\n",
    "Таким образом, вторая гипотеза подтвердилась лишь частично:\n",
    "* Пользователи слушают похожую музыку в начале недели и в конце.\n",
    "* Разница между Москвой и Петербургом не слишком выражена. В Москве чаще слушают русскую популярную музыку, в Петербурге — джаз.\n",
    "\n",
    "Однако пропуски в данных ставят под сомнение этот результат. В Москве их так много, что рейтинг топ-10 мог бы выглядеть иначе, если бы не утерянные  данные о жанрах."
   ]
  },
  {
   "cell_type": "markdown",
   "metadata": {
    "deletable": false,
    "editable": false,
    "id": "JolODAqr_Zcu"
   },
   "source": [
    "### Жанровые предпочтения в Москве и Петербурге\n",
    "\n",
    "Гипотеза: Петербург — столица рэпа, музыку этого жанра там слушают чаще, чем в Москве.  А Москва — город контрастов, в котором, тем не менее, преобладает поп-музыка."
   ]
  },
  {
   "cell_type": "markdown",
   "metadata": {
    "deletable": false,
    "editable": false,
    "id": "DlegSvaT_Zcu",
    "tags": [
     "start_task"
    ]
   },
   "source": [
    "**Задание 26**\n",
    "\n",
    "Сгруппируйте таблицу `moscow_general` по жанру и посчитайте прослушивания треков каждого жанра методом `count()`. Затем отсортируйте результат в порядке убывания и сохраните его в таблице `moscow_genres`."
   ]
  },
  {
   "cell_type": "code",
   "execution_count": 159,
   "metadata": {
    "deletable": false,
    "id": "r19lIPke_Zcu"
   },
   "outputs": [],
   "source": [
    "moscow_genres = moscow_general.groupby('genre')['genre'].count().sort_values(ascending = False)"
   ]
  },
  {
   "cell_type": "markdown",
   "metadata": {
    "deletable": false,
    "editable": false,
    "id": "6kMuomxTiIr8",
    "tags": [
     "start_task"
    ]
   },
   "source": [
    "**Задание 27**\n",
    "\n",
    "Выведите на экран первые десять строк `moscow_genres`:"
   ]
  },
  {
   "cell_type": "code",
   "execution_count": 160,
   "metadata": {
    "deletable": false,
    "id": "WhCSooF8_Zcv"
   },
   "outputs": [
    {
     "data": {
      "text/plain": [
       "genre\n",
       "pop            5892\n",
       "dance          4435\n",
       "rock           3965\n",
       "electronic     3786\n",
       "hiphop         2096\n",
       "classical      1616\n",
       "world          1432\n",
       "alternative    1379\n",
       "ruspop         1372\n",
       "rusrap         1161\n",
       "Name: genre, dtype: int64"
      ]
     },
     "execution_count": 160,
     "metadata": {},
     "output_type": "execute_result"
    }
   ],
   "source": [
    "moscow_genres.head(10)"
   ]
  },
  {
   "cell_type": "markdown",
   "metadata": {
    "deletable": false,
    "editable": false,
    "id": "cnPG2vnN_Zcv",
    "tags": [
     "start_task"
    ]
   },
   "source": [
    "**Задание 28**\n",
    "\n",
    "\n",
    "Теперь повторите то же и для Петербурга.\n",
    "\n",
    "Сгруппируйте таблицу `spb_general` по жанру. Посчитайте прослушивания треков каждого жанра. Результат отсортируйте в порядке убывания и сохраните в таблице `spb_genres`:\n"
   ]
  },
  {
   "cell_type": "code",
   "execution_count": 161,
   "metadata": {
    "deletable": false,
    "id": "gluLIpE7_Zcv"
   },
   "outputs": [],
   "source": [
    "spb_genres = spb_general.groupby('genre')['genre'].count().sort_values(ascending = False)"
   ]
  },
  {
   "cell_type": "markdown",
   "metadata": {
    "deletable": false,
    "editable": false,
    "id": "5Doha_ODgyQ8",
    "tags": [
     "start_task"
    ]
   },
   "source": [
    "**Задание 29**\n",
    "\n",
    "Выведите на экран первые десять строк `spb_genres`:"
   ]
  },
  {
   "cell_type": "code",
   "execution_count": 162,
   "metadata": {
    "deletable": false,
    "id": "uaGJHjVU_Zcv"
   },
   "outputs": [
    {
     "data": {
      "text/plain": [
       "genre\n",
       "pop            2431\n",
       "dance          1932\n",
       "rock           1879\n",
       "electronic     1736\n",
       "hiphop          960\n",
       "alternative     649\n",
       "classical       646\n",
       "rusrap          564\n",
       "ruspop          538\n",
       "world           515\n",
       "Name: genre, dtype: int64"
      ]
     },
     "execution_count": 162,
     "metadata": {},
     "output_type": "execute_result"
    }
   ],
   "source": [
    "spb_genres.head(10)"
   ]
  },
  {
   "cell_type": "markdown",
   "metadata": {
    "deletable": false,
    "editable": false,
    "id": "RY51YJYu_Zcv"
   },
   "source": [
    "**Выводы**"
   ]
  },
  {
   "cell_type": "markdown",
   "metadata": {
    "deletable": false,
    "editable": false,
    "id": "nVhnJEm__Zcv"
   },
   "source": [
    "Гипотеза частично подтвердилась:\n",
    "* Поп-музыка — самый популярный жанр в Москве, как и предполагала гипотеза. Более того, в топ-10 жанров встречается близкий жанр — русская популярная музыка.\n",
    "* Вопреки ожиданиям, рэп одинаково популярен в Москве и Петербурге. \n"
   ]
  },
  {
   "cell_type": "markdown",
   "metadata": {
    "deletable": false,
    "editable": false,
    "id": "ykKQ0N65_Zcv"
   },
   "source": [
    "## Итоги исследования"
   ]
  },
  {
   "cell_type": "markdown",
   "metadata": {
    "deletable": false,
    "editable": false,
    "id": "tjUwbHb3_Zcv"
   },
   "source": [
    "Вы проверили три гипотезы и установили:\n",
    "\n",
    "1. День недели по-разному влияет на активность пользователей в Москве и Петербурге. \n",
    "\n",
    "Первая гипотеза полностью подтвердилась.\n",
    "\n",
    "2. Музыкальные предпочтения не сильно меняются в течение недели — будь то Москва или Петербург. Небольшие различия заметны в начале недели, по понедельникам:\n",
    "* в Москве слушают музыку жанра “world”,\n",
    "* в Петербурге — джаз и классику.\n",
    "\n",
    "Таким образом, вторая гипотеза подтвердилась лишь отчасти. Этот результат мог оказаться иным, если бы не пропуски в данных.\n",
    "\n",
    "3. Во вкусах пользователей Москвы и Петербурга больше общего чем различий. Вопреки ожиданиям, предпочтения жанров в Петербурге напоминают московские.\n",
    "\n",
    "Третья гипотеза не подтвердилась. Если различия в предпочтениях и существуют, на основной массе пользователей они незаметны.\n",
    "\n",
    "**На практике исследования содержат проверки статистических гипотез.**\n",
    "Из данных одного сервиса не всегда можно сделать вывод о всех жителях города.\n",
    "Проверки статистических гипотез покажут, насколько они достоверны, исходя из имеющихся данных. \n",
    "С методами проверок гипотез вы ещё познакомитесь в следующих темах."
   ]
  }
 ],
 "metadata": {
  "ExecuteTimeLog": [
   {
    "duration": 388,
    "start_time": "2023-05-17T08:02:03.584Z"
   },
   {
    "duration": 79,
    "start_time": "2023-05-17T08:10:22.688Z"
   },
   {
    "duration": 7,
    "start_time": "2023-05-17T08:10:34.107Z"
   },
   {
    "duration": 6,
    "start_time": "2023-05-17T08:10:54.550Z"
   },
   {
    "duration": 8,
    "start_time": "2023-05-17T08:13:31.505Z"
   },
   {
    "duration": 469,
    "start_time": "2023-05-17T08:13:36.597Z"
   },
   {
    "duration": 18,
    "start_time": "2023-05-17T08:13:39.592Z"
   },
   {
    "duration": 27,
    "start_time": "2023-05-17T08:13:46.524Z"
   },
   {
    "duration": 10,
    "start_time": "2023-05-17T08:20:31.185Z"
   },
   {
    "duration": 4,
    "start_time": "2023-05-17T08:22:56.559Z"
   },
   {
    "duration": 6,
    "start_time": "2023-05-17T08:28:59.848Z"
   },
   {
    "duration": 7,
    "start_time": "2023-05-17T08:29:25.042Z"
   },
   {
    "duration": 4,
    "start_time": "2023-05-17T08:30:35.932Z"
   },
   {
    "duration": 11,
    "start_time": "2023-05-17T08:35:13.657Z"
   },
   {
    "duration": 20,
    "start_time": "2023-05-17T08:35:42.666Z"
   },
   {
    "duration": 13,
    "start_time": "2023-05-17T08:40:21.032Z"
   },
   {
    "duration": 3,
    "start_time": "2023-05-17T08:41:48.051Z"
   },
   {
    "duration": 12,
    "start_time": "2023-05-17T08:41:58.347Z"
   },
   {
    "duration": 17,
    "start_time": "2023-05-17T08:43:25.927Z"
   },
   {
    "duration": 26,
    "start_time": "2023-05-17T08:48:02.032Z"
   },
   {
    "duration": 34,
    "start_time": "2023-05-17T08:48:27.268Z"
   },
   {
    "duration": 31,
    "start_time": "2023-05-17T08:55:26.157Z"
   },
   {
    "duration": 49,
    "start_time": "2023-05-17T08:56:21.032Z"
   },
   {
    "duration": 91,
    "start_time": "2023-05-17T11:56:01.101Z"
   },
   {
    "duration": 10,
    "start_time": "2023-05-17T11:56:19.788Z"
   },
   {
    "duration": 9,
    "start_time": "2023-05-17T11:56:27.409Z"
   },
   {
    "duration": 6,
    "start_time": "2023-05-17T11:57:53.892Z"
   },
   {
    "duration": 9,
    "start_time": "2023-05-17T11:58:41.188Z"
   },
   {
    "duration": 6,
    "start_time": "2023-05-17T11:58:58.723Z"
   },
   {
    "duration": 66,
    "start_time": "2023-05-17T12:41:12.380Z"
   },
   {
    "duration": 2,
    "start_time": "2023-05-17T12:41:58.216Z"
   },
   {
    "duration": 3,
    "start_time": "2023-05-17T12:42:43.119Z"
   },
   {
    "duration": 183,
    "start_time": "2023-05-17T12:42:44.208Z"
   },
   {
    "duration": 13,
    "start_time": "2023-05-17T12:42:45.500Z"
   },
   {
    "duration": 44,
    "start_time": "2023-05-17T12:42:47.100Z"
   },
   {
    "duration": 4,
    "start_time": "2023-05-17T12:42:49.503Z"
   },
   {
    "duration": 7,
    "start_time": "2023-05-17T12:42:52.121Z"
   },
   {
    "duration": 11,
    "start_time": "2023-05-17T12:42:53.618Z"
   },
   {
    "duration": 4,
    "start_time": "2023-05-17T12:42:59.979Z"
   },
   {
    "duration": 26,
    "start_time": "2023-05-17T12:43:01.300Z"
   },
   {
    "duration": 19,
    "start_time": "2023-05-17T12:43:03.442Z"
   },
   {
    "duration": 25,
    "start_time": "2023-05-17T12:43:04.856Z"
   },
   {
    "duration": 69,
    "start_time": "2023-05-17T12:43:06.402Z"
   },
   {
    "duration": 103,
    "start_time": "2023-05-17T12:45:59.148Z"
   },
   {
    "duration": 94,
    "start_time": "2023-05-17T12:46:07.147Z"
   },
   {
    "duration": 97,
    "start_time": "2023-05-17T12:47:29.321Z"
   },
   {
    "duration": 76,
    "start_time": "2023-05-17T12:48:03.610Z"
   },
   {
    "duration": 77,
    "start_time": "2023-05-17T12:48:40.637Z"
   },
   {
    "duration": 80,
    "start_time": "2023-05-17T12:49:24.855Z"
   },
   {
    "duration": 75,
    "start_time": "2023-05-17T12:49:29.366Z"
   },
   {
    "duration": 50,
    "start_time": "2023-05-18T10:00:22.300Z"
   },
   {
    "duration": 6,
    "start_time": "2023-05-18T10:00:32.161Z"
   },
   {
    "duration": 406,
    "start_time": "2023-05-18T10:00:47.954Z"
   },
   {
    "duration": 674,
    "start_time": "2023-05-18T10:00:48.362Z"
   },
   {
    "duration": 16,
    "start_time": "2023-05-18T10:00:49.038Z"
   },
   {
    "duration": 27,
    "start_time": "2023-05-18T10:00:49.056Z"
   },
   {
    "duration": 37,
    "start_time": "2023-05-18T10:00:49.086Z"
   },
   {
    "duration": 17,
    "start_time": "2023-05-18T10:00:49.125Z"
   },
   {
    "duration": 22,
    "start_time": "2023-05-18T10:00:49.143Z"
   },
   {
    "duration": 56,
    "start_time": "2023-05-18T10:00:49.167Z"
   },
   {
    "duration": 34,
    "start_time": "2023-05-18T10:00:49.226Z"
   },
   {
    "duration": 28,
    "start_time": "2023-05-18T10:00:49.261Z"
   },
   {
    "duration": 56,
    "start_time": "2023-05-18T10:00:49.292Z"
   },
   {
    "duration": 111,
    "start_time": "2023-05-18T10:00:49.350Z"
   },
   {
    "duration": 80,
    "start_time": "2023-05-18T10:00:49.463Z"
   },
   {
    "duration": 71,
    "start_time": "2023-05-18T10:00:49.547Z"
   },
   {
    "duration": 8,
    "start_time": "2023-05-18T10:00:49.619Z"
   },
   {
    "duration": 33,
    "start_time": "2023-05-18T10:00:49.628Z"
   },
   {
    "duration": 42,
    "start_time": "2023-05-18T10:00:49.663Z"
   },
   {
    "duration": 19,
    "start_time": "2023-05-18T10:00:49.707Z"
   },
   {
    "duration": 20,
    "start_time": "2023-05-18T10:00:49.727Z"
   },
   {
    "duration": 26,
    "start_time": "2023-05-18T10:00:49.749Z"
   },
   {
    "duration": 33,
    "start_time": "2023-05-18T10:00:49.778Z"
   },
   {
    "duration": 19,
    "start_time": "2023-05-18T10:00:49.813Z"
   },
   {
    "duration": 12,
    "start_time": "2023-05-18T10:00:49.834Z"
   },
   {
    "duration": 30,
    "start_time": "2023-05-18T10:00:49.848Z"
   },
   {
    "duration": 38,
    "start_time": "2023-05-18T10:00:49.880Z"
   },
   {
    "duration": 10,
    "start_time": "2023-05-18T10:00:49.920Z"
   },
   {
    "duration": 6,
    "start_time": "2023-05-18T10:00:49.932Z"
   },
   {
    "duration": 8,
    "start_time": "2023-05-18T10:00:49.939Z"
   },
   {
    "duration": 13,
    "start_time": "2023-05-18T10:00:49.949Z"
   },
   {
    "duration": 89,
    "start_time": "2023-05-18T10:00:49.964Z"
   },
   {
    "duration": 0,
    "start_time": "2023-05-18T10:00:50.055Z"
   },
   {
    "duration": 0,
    "start_time": "2023-05-18T10:00:50.057Z"
   },
   {
    "duration": 0,
    "start_time": "2023-05-18T10:00:50.058Z"
   },
   {
    "duration": 0,
    "start_time": "2023-05-18T10:00:50.059Z"
   },
   {
    "duration": 0,
    "start_time": "2023-05-18T10:00:50.061Z"
   },
   {
    "duration": 0,
    "start_time": "2023-05-18T10:00:50.062Z"
   },
   {
    "duration": 0,
    "start_time": "2023-05-18T10:00:50.063Z"
   },
   {
    "duration": 0,
    "start_time": "2023-05-18T10:00:50.064Z"
   },
   {
    "duration": 26,
    "start_time": "2023-05-18T10:11:52.716Z"
   },
   {
    "duration": 8,
    "start_time": "2023-05-18T10:12:41.704Z"
   },
   {
    "duration": 8,
    "start_time": "2023-05-18T10:13:01.142Z"
   },
   {
    "duration": 7,
    "start_time": "2023-05-18T10:15:55.505Z"
   },
   {
    "duration": 8,
    "start_time": "2023-05-18T10:16:23.722Z"
   },
   {
    "duration": 2,
    "start_time": "2023-05-18T10:26:06.863Z"
   },
   {
    "duration": 17,
    "start_time": "2023-05-18T10:28:32.394Z"
   },
   {
    "duration": 2,
    "start_time": "2023-05-18T10:29:02.602Z"
   },
   {
    "duration": 202,
    "start_time": "2023-05-18T10:29:02.609Z"
   },
   {
    "duration": 13,
    "start_time": "2023-05-18T10:29:02.813Z"
   },
   {
    "duration": 71,
    "start_time": "2023-05-18T10:29:02.827Z"
   },
   {
    "duration": 46,
    "start_time": "2023-05-18T10:29:02.903Z"
   },
   {
    "duration": 64,
    "start_time": "2023-05-18T10:29:02.951Z"
   },
   {
    "duration": 59,
    "start_time": "2023-05-18T10:29:03.017Z"
   },
   {
    "duration": 37,
    "start_time": "2023-05-18T10:29:03.078Z"
   },
   {
    "duration": 64,
    "start_time": "2023-05-18T10:29:03.117Z"
   },
   {
    "duration": 94,
    "start_time": "2023-05-18T10:29:03.183Z"
   },
   {
    "duration": 68,
    "start_time": "2023-05-18T10:29:03.279Z"
   },
   {
    "duration": 96,
    "start_time": "2023-05-18T10:29:03.348Z"
   },
   {
    "duration": 65,
    "start_time": "2023-05-18T10:29:03.446Z"
   },
   {
    "duration": 55,
    "start_time": "2023-05-18T10:29:03.513Z"
   },
   {
    "duration": 21,
    "start_time": "2023-05-18T10:29:03.569Z"
   },
   {
    "duration": 0,
    "start_time": "2023-05-18T10:29:03.591Z"
   },
   {
    "duration": 0,
    "start_time": "2023-05-18T10:29:03.591Z"
   },
   {
    "duration": 0,
    "start_time": "2023-05-18T10:29:03.592Z"
   },
   {
    "duration": 0,
    "start_time": "2023-05-18T10:29:03.592Z"
   },
   {
    "duration": 0,
    "start_time": "2023-05-18T10:29:03.593Z"
   },
   {
    "duration": 0,
    "start_time": "2023-05-18T10:29:03.593Z"
   },
   {
    "duration": 0,
    "start_time": "2023-05-18T10:29:03.594Z"
   },
   {
    "duration": 0,
    "start_time": "2023-05-18T10:29:03.594Z"
   },
   {
    "duration": 0,
    "start_time": "2023-05-18T10:29:03.595Z"
   },
   {
    "duration": 0,
    "start_time": "2023-05-18T10:29:03.595Z"
   },
   {
    "duration": 0,
    "start_time": "2023-05-18T10:29:03.596Z"
   },
   {
    "duration": 0,
    "start_time": "2023-05-18T10:29:03.596Z"
   },
   {
    "duration": 0,
    "start_time": "2023-05-18T10:29:03.597Z"
   },
   {
    "duration": 0,
    "start_time": "2023-05-18T10:29:03.597Z"
   },
   {
    "duration": 0,
    "start_time": "2023-05-18T10:29:03.598Z"
   },
   {
    "duration": 0,
    "start_time": "2023-05-18T10:29:03.604Z"
   },
   {
    "duration": 0,
    "start_time": "2023-05-18T10:29:03.604Z"
   },
   {
    "duration": 0,
    "start_time": "2023-05-18T10:29:03.605Z"
   },
   {
    "duration": 0,
    "start_time": "2023-05-18T10:29:03.605Z"
   },
   {
    "duration": 0,
    "start_time": "2023-05-18T10:29:03.606Z"
   },
   {
    "duration": 0,
    "start_time": "2023-05-18T10:29:03.607Z"
   },
   {
    "duration": 0,
    "start_time": "2023-05-18T10:29:03.608Z"
   },
   {
    "duration": 1,
    "start_time": "2023-05-18T10:29:03.610Z"
   },
   {
    "duration": 6,
    "start_time": "2023-05-18T10:29:46.569Z"
   },
   {
    "duration": 6,
    "start_time": "2023-05-18T10:29:51.300Z"
   },
   {
    "duration": 7,
    "start_time": "2023-05-18T10:30:12.819Z"
   },
   {
    "duration": 49,
    "start_time": "2023-05-18T10:33:35.384Z"
   },
   {
    "duration": 45,
    "start_time": "2023-05-18T10:34:00.800Z"
   },
   {
    "duration": 50,
    "start_time": "2023-05-18T10:34:07.477Z"
   },
   {
    "duration": 55,
    "start_time": "2023-05-18T10:36:15.400Z"
   },
   {
    "duration": 46,
    "start_time": "2023-05-18T10:36:41.116Z"
   },
   {
    "duration": 7,
    "start_time": "2023-05-18T10:38:38.155Z"
   },
   {
    "duration": 9,
    "start_time": "2023-05-18T10:39:52.854Z"
   },
   {
    "duration": 9,
    "start_time": "2023-05-18T10:40:01.605Z"
   },
   {
    "duration": 3,
    "start_time": "2023-05-18T10:40:22.909Z"
   },
   {
    "duration": 166,
    "start_time": "2023-05-18T10:40:22.915Z"
   },
   {
    "duration": 12,
    "start_time": "2023-05-18T10:40:23.082Z"
   },
   {
    "duration": 42,
    "start_time": "2023-05-18T10:40:23.096Z"
   },
   {
    "duration": 3,
    "start_time": "2023-05-18T10:40:23.148Z"
   },
   {
    "duration": 13,
    "start_time": "2023-05-18T10:40:23.153Z"
   },
   {
    "duration": 12,
    "start_time": "2023-05-18T10:40:23.168Z"
   },
   {
    "duration": 27,
    "start_time": "2023-05-18T10:40:23.182Z"
   },
   {
    "duration": 28,
    "start_time": "2023-05-18T10:40:23.211Z"
   },
   {
    "duration": 19,
    "start_time": "2023-05-18T10:40:23.241Z"
   },
   {
    "duration": 44,
    "start_time": "2023-05-18T10:40:23.262Z"
   },
   {
    "duration": 100,
    "start_time": "2023-05-18T10:40:23.308Z"
   },
   {
    "duration": 53,
    "start_time": "2023-05-18T10:40:23.409Z"
   },
   {
    "duration": 77,
    "start_time": "2023-05-18T10:40:23.465Z"
   },
   {
    "duration": 9,
    "start_time": "2023-05-18T10:40:23.544Z"
   },
   {
    "duration": 0,
    "start_time": "2023-05-18T10:40:23.555Z"
   },
   {
    "duration": 0,
    "start_time": "2023-05-18T10:40:23.556Z"
   },
   {
    "duration": 0,
    "start_time": "2023-05-18T10:40:23.557Z"
   },
   {
    "duration": 0,
    "start_time": "2023-05-18T10:40:23.558Z"
   },
   {
    "duration": 0,
    "start_time": "2023-05-18T10:40:23.560Z"
   },
   {
    "duration": 0,
    "start_time": "2023-05-18T10:40:23.561Z"
   },
   {
    "duration": 0,
    "start_time": "2023-05-18T10:40:23.562Z"
   },
   {
    "duration": 0,
    "start_time": "2023-05-18T10:40:23.563Z"
   },
   {
    "duration": 0,
    "start_time": "2023-05-18T10:40:23.565Z"
   },
   {
    "duration": 0,
    "start_time": "2023-05-18T10:40:23.566Z"
   },
   {
    "duration": 0,
    "start_time": "2023-05-18T10:40:23.585Z"
   },
   {
    "duration": 0,
    "start_time": "2023-05-18T10:40:23.585Z"
   },
   {
    "duration": 0,
    "start_time": "2023-05-18T10:40:23.589Z"
   },
   {
    "duration": 0,
    "start_time": "2023-05-18T10:40:23.590Z"
   },
   {
    "duration": 0,
    "start_time": "2023-05-18T10:40:23.592Z"
   },
   {
    "duration": 0,
    "start_time": "2023-05-18T10:40:23.593Z"
   },
   {
    "duration": 0,
    "start_time": "2023-05-18T10:40:23.594Z"
   },
   {
    "duration": 0,
    "start_time": "2023-05-18T10:40:23.595Z"
   },
   {
    "duration": 0,
    "start_time": "2023-05-18T10:40:23.595Z"
   },
   {
    "duration": 0,
    "start_time": "2023-05-18T10:40:23.596Z"
   },
   {
    "duration": 0,
    "start_time": "2023-05-18T10:40:23.597Z"
   },
   {
    "duration": 0,
    "start_time": "2023-05-18T10:40:23.602Z"
   },
   {
    "duration": 0,
    "start_time": "2023-05-18T10:40:23.603Z"
   },
   {
    "duration": 10,
    "start_time": "2023-05-18T10:40:50.367Z"
   },
   {
    "duration": 66,
    "start_time": "2023-05-18T10:41:11.906Z"
   },
   {
    "duration": 38,
    "start_time": "2023-05-18T10:42:11.606Z"
   },
   {
    "duration": 51,
    "start_time": "2023-05-18T10:42:27.266Z"
   },
   {
    "duration": 50,
    "start_time": "2023-05-18T10:43:29.754Z"
   },
   {
    "duration": 43,
    "start_time": "2023-05-18T10:43:41.398Z"
   },
   {
    "duration": 99,
    "start_time": "2023-05-18T10:47:46.522Z"
   },
   {
    "duration": 10,
    "start_time": "2023-05-18T10:48:39.373Z"
   },
   {
    "duration": 7,
    "start_time": "2023-05-18T10:48:45.517Z"
   },
   {
    "duration": 21,
    "start_time": "2023-05-18T10:49:00.049Z"
   },
   {
    "duration": 6,
    "start_time": "2023-05-18T10:49:10.880Z"
   },
   {
    "duration": 225,
    "start_time": "2023-05-18T10:49:10.888Z"
   },
   {
    "duration": 12,
    "start_time": "2023-05-18T10:49:11.115Z"
   },
   {
    "duration": 45,
    "start_time": "2023-05-18T10:49:11.129Z"
   },
   {
    "duration": 5,
    "start_time": "2023-05-18T10:49:11.192Z"
   },
   {
    "duration": 16,
    "start_time": "2023-05-18T10:49:11.199Z"
   },
   {
    "duration": 11,
    "start_time": "2023-05-18T10:49:11.217Z"
   },
   {
    "duration": 10,
    "start_time": "2023-05-18T10:49:11.230Z"
   },
   {
    "duration": 38,
    "start_time": "2023-05-18T10:49:11.242Z"
   },
   {
    "duration": 30,
    "start_time": "2023-05-18T10:49:11.282Z"
   },
   {
    "duration": 50,
    "start_time": "2023-05-18T10:49:11.314Z"
   },
   {
    "duration": 73,
    "start_time": "2023-05-18T10:49:11.365Z"
   },
   {
    "duration": 67,
    "start_time": "2023-05-18T10:49:11.440Z"
   },
   {
    "duration": 62,
    "start_time": "2023-05-18T10:49:11.511Z"
   },
   {
    "duration": 65,
    "start_time": "2023-05-18T10:49:11.574Z"
   },
   {
    "duration": 5,
    "start_time": "2023-05-18T10:49:11.640Z"
   },
   {
    "duration": 5,
    "start_time": "2023-05-18T10:49:11.647Z"
   },
   {
    "duration": 8,
    "start_time": "2023-05-18T10:49:11.653Z"
   },
   {
    "duration": 5,
    "start_time": "2023-05-18T10:49:11.663Z"
   },
   {
    "duration": 21,
    "start_time": "2023-05-18T10:49:11.670Z"
   },
   {
    "duration": 16,
    "start_time": "2023-05-18T10:49:11.701Z"
   },
   {
    "duration": 6,
    "start_time": "2023-05-18T10:49:11.719Z"
   },
   {
    "duration": 6,
    "start_time": "2023-05-18T10:49:11.727Z"
   },
   {
    "duration": 7,
    "start_time": "2023-05-18T10:49:11.734Z"
   },
   {
    "duration": 6,
    "start_time": "2023-05-18T10:49:11.743Z"
   },
   {
    "duration": 6,
    "start_time": "2023-05-18T10:49:11.750Z"
   },
   {
    "duration": 6,
    "start_time": "2023-05-18T10:49:11.757Z"
   },
   {
    "duration": 7,
    "start_time": "2023-05-18T10:49:11.764Z"
   },
   {
    "duration": 5,
    "start_time": "2023-05-18T10:49:11.773Z"
   },
   {
    "duration": 66,
    "start_time": "2023-05-18T10:49:11.780Z"
   },
   {
    "duration": 0,
    "start_time": "2023-05-18T10:49:11.848Z"
   },
   {
    "duration": 0,
    "start_time": "2023-05-18T10:49:11.849Z"
   },
   {
    "duration": 0,
    "start_time": "2023-05-18T10:49:11.851Z"
   },
   {
    "duration": 0,
    "start_time": "2023-05-18T10:49:11.852Z"
   },
   {
    "duration": 0,
    "start_time": "2023-05-18T10:49:11.852Z"
   },
   {
    "duration": 0,
    "start_time": "2023-05-18T10:49:11.853Z"
   },
   {
    "duration": 0,
    "start_time": "2023-05-18T10:49:11.854Z"
   },
   {
    "duration": 0,
    "start_time": "2023-05-18T10:49:11.855Z"
   },
   {
    "duration": 22,
    "start_time": "2023-05-18T10:52:42.805Z"
   },
   {
    "duration": 38,
    "start_time": "2023-05-18T10:52:47.595Z"
   },
   {
    "duration": 28,
    "start_time": "2023-05-18T10:53:08.007Z"
   },
   {
    "duration": 53,
    "start_time": "2023-05-18T10:54:00.900Z"
   },
   {
    "duration": 9,
    "start_time": "2023-05-18T10:56:55.152Z"
   },
   {
    "duration": 9,
    "start_time": "2023-05-18T10:56:58.102Z"
   },
   {
    "duration": 23,
    "start_time": "2023-05-18T10:57:20.777Z"
   },
   {
    "duration": 27,
    "start_time": "2023-05-18T10:59:03.696Z"
   },
   {
    "duration": 8,
    "start_time": "2023-05-18T11:00:11.504Z"
   },
   {
    "duration": 77,
    "start_time": "2023-05-19T07:00:25.442Z"
   },
   {
    "duration": 457,
    "start_time": "2023-05-19T07:00:30.851Z"
   },
   {
    "duration": 664,
    "start_time": "2023-05-19T07:00:31.311Z"
   },
   {
    "duration": 34,
    "start_time": "2023-05-19T07:00:31.977Z"
   },
   {
    "duration": 75,
    "start_time": "2023-05-19T07:00:32.013Z"
   },
   {
    "duration": 6,
    "start_time": "2023-05-19T07:00:32.092Z"
   },
   {
    "duration": 18,
    "start_time": "2023-05-19T07:00:32.099Z"
   },
   {
    "duration": 27,
    "start_time": "2023-05-19T07:00:32.119Z"
   },
   {
    "duration": 49,
    "start_time": "2023-05-19T07:00:32.149Z"
   },
   {
    "duration": 37,
    "start_time": "2023-05-19T07:00:32.200Z"
   },
   {
    "duration": 68,
    "start_time": "2023-05-19T07:00:32.239Z"
   },
   {
    "duration": 35,
    "start_time": "2023-05-19T07:00:32.309Z"
   },
   {
    "duration": 145,
    "start_time": "2023-05-19T07:00:32.345Z"
   },
   {
    "duration": 91,
    "start_time": "2023-05-19T07:00:32.502Z"
   },
   {
    "duration": 78,
    "start_time": "2023-05-19T07:00:32.597Z"
   },
   {
    "duration": 55,
    "start_time": "2023-05-19T07:00:32.677Z"
   },
   {
    "duration": 53,
    "start_time": "2023-05-19T07:00:32.733Z"
   },
   {
    "duration": 48,
    "start_time": "2023-05-19T07:00:32.796Z"
   },
   {
    "duration": 61,
    "start_time": "2023-05-19T07:00:32.846Z"
   },
   {
    "duration": 3,
    "start_time": "2023-05-19T07:00:32.909Z"
   },
   {
    "duration": 32,
    "start_time": "2023-05-19T07:00:32.914Z"
   },
   {
    "duration": 24,
    "start_time": "2023-05-19T07:00:32.948Z"
   },
   {
    "duration": 7,
    "start_time": "2023-05-19T07:00:32.974Z"
   },
   {
    "duration": 19,
    "start_time": "2023-05-19T07:00:32.983Z"
   },
   {
    "duration": 16,
    "start_time": "2023-05-19T07:00:33.005Z"
   },
   {
    "duration": 16,
    "start_time": "2023-05-19T07:00:33.023Z"
   },
   {
    "duration": 22,
    "start_time": "2023-05-19T07:00:33.041Z"
   },
   {
    "duration": 15,
    "start_time": "2023-05-19T07:00:33.064Z"
   },
   {
    "duration": 15,
    "start_time": "2023-05-19T07:00:33.081Z"
   },
   {
    "duration": 11,
    "start_time": "2023-05-19T07:00:33.097Z"
   },
   {
    "duration": 102,
    "start_time": "2023-05-19T07:00:33.110Z"
   },
   {
    "duration": 0,
    "start_time": "2023-05-19T07:00:33.214Z"
   },
   {
    "duration": 0,
    "start_time": "2023-05-19T07:00:33.215Z"
   },
   {
    "duration": 0,
    "start_time": "2023-05-19T07:00:33.216Z"
   },
   {
    "duration": 0,
    "start_time": "2023-05-19T07:00:33.217Z"
   },
   {
    "duration": 0,
    "start_time": "2023-05-19T07:00:33.218Z"
   },
   {
    "duration": 0,
    "start_time": "2023-05-19T07:00:33.220Z"
   },
   {
    "duration": 0,
    "start_time": "2023-05-19T07:00:33.221Z"
   },
   {
    "duration": 0,
    "start_time": "2023-05-19T07:00:33.222Z"
   },
   {
    "duration": 59,
    "start_time": "2023-05-19T07:02:04.418Z"
   },
   {
    "duration": 17,
    "start_time": "2023-05-19T07:03:31.909Z"
   },
   {
    "duration": 66,
    "start_time": "2023-05-19T07:06:03.730Z"
   },
   {
    "duration": 12,
    "start_time": "2023-05-19T07:06:38.713Z"
   },
   {
    "duration": 48,
    "start_time": "2023-05-19T07:07:18.903Z"
   },
   {
    "duration": 106,
    "start_time": "2023-05-19T07:07:38.101Z"
   },
   {
    "duration": 30,
    "start_time": "2023-05-19T07:07:47.555Z"
   },
   {
    "duration": 82,
    "start_time": "2023-05-19T08:11:50.125Z"
   },
   {
    "duration": 5,
    "start_time": "2023-05-19T08:12:47.395Z"
   },
   {
    "duration": 4,
    "start_time": "2023-05-19T08:15:30.509Z"
   },
   {
    "duration": 21,
    "start_time": "2023-05-19T08:26:55.228Z"
   },
   {
    "duration": 3,
    "start_time": "2023-05-19T08:27:00.035Z"
   },
   {
    "duration": 220,
    "start_time": "2023-05-19T08:27:00.040Z"
   },
   {
    "duration": 23,
    "start_time": "2023-05-19T08:27:00.262Z"
   },
   {
    "duration": 79,
    "start_time": "2023-05-19T08:27:00.288Z"
   },
   {
    "duration": 14,
    "start_time": "2023-05-19T08:27:00.377Z"
   },
   {
    "duration": 100,
    "start_time": "2023-05-19T08:27:00.393Z"
   },
   {
    "duration": 61,
    "start_time": "2023-05-19T08:27:00.495Z"
   },
   {
    "duration": 52,
    "start_time": "2023-05-19T08:27:00.561Z"
   },
   {
    "duration": 84,
    "start_time": "2023-05-19T08:27:00.615Z"
   },
   {
    "duration": 67,
    "start_time": "2023-05-19T08:27:00.703Z"
   },
   {
    "duration": 37,
    "start_time": "2023-05-19T08:27:00.774Z"
   },
   {
    "duration": 124,
    "start_time": "2023-05-19T08:27:00.813Z"
   },
   {
    "duration": 93,
    "start_time": "2023-05-19T08:27:00.939Z"
   },
   {
    "duration": 90,
    "start_time": "2023-05-19T08:27:01.034Z"
   },
   {
    "duration": 65,
    "start_time": "2023-05-19T08:27:01.126Z"
   },
   {
    "duration": 22,
    "start_time": "2023-05-19T08:27:01.193Z"
   },
   {
    "duration": 99,
    "start_time": "2023-05-19T08:27:01.217Z"
   },
   {
    "duration": 43,
    "start_time": "2023-05-19T08:27:01.318Z"
   },
   {
    "duration": 37,
    "start_time": "2023-05-19T08:27:01.363Z"
   },
   {
    "duration": 37,
    "start_time": "2023-05-19T08:27:01.402Z"
   },
   {
    "duration": 50,
    "start_time": "2023-05-19T08:27:01.441Z"
   },
   {
    "duration": 50,
    "start_time": "2023-05-19T08:27:01.493Z"
   },
   {
    "duration": 43,
    "start_time": "2023-05-19T08:27:01.546Z"
   },
   {
    "duration": 39,
    "start_time": "2023-05-19T08:27:01.591Z"
   },
   {
    "duration": 60,
    "start_time": "2023-05-19T08:27:01.632Z"
   },
   {
    "duration": 39,
    "start_time": "2023-05-19T08:27:01.693Z"
   },
   {
    "duration": 25,
    "start_time": "2023-05-19T08:27:01.734Z"
   },
   {
    "duration": 17,
    "start_time": "2023-05-19T08:27:01.764Z"
   },
   {
    "duration": 30,
    "start_time": "2023-05-19T08:27:01.783Z"
   },
   {
    "duration": 86,
    "start_time": "2023-05-19T08:27:01.815Z"
   },
   {
    "duration": 0,
    "start_time": "2023-05-19T08:27:01.902Z"
   },
   {
    "duration": 0,
    "start_time": "2023-05-19T08:27:01.904Z"
   },
   {
    "duration": 0,
    "start_time": "2023-05-19T08:27:01.905Z"
   },
   {
    "duration": 0,
    "start_time": "2023-05-19T08:27:01.906Z"
   },
   {
    "duration": 0,
    "start_time": "2023-05-19T08:27:01.907Z"
   },
   {
    "duration": 0,
    "start_time": "2023-05-19T08:27:01.908Z"
   },
   {
    "duration": 0,
    "start_time": "2023-05-19T08:27:01.909Z"
   },
   {
    "duration": 0,
    "start_time": "2023-05-19T08:27:01.910Z"
   },
   {
    "duration": 20,
    "start_time": "2023-05-19T08:29:45.853Z"
   },
   {
    "duration": 43,
    "start_time": "2023-05-21T07:27:04.302Z"
   },
   {
    "duration": 5,
    "start_time": "2023-05-21T07:28:09.572Z"
   },
   {
    "duration": 6,
    "start_time": "2023-05-21T07:29:45.202Z"
   },
   {
    "duration": 362,
    "start_time": "2023-05-21T07:29:57.349Z"
   },
   {
    "duration": 213,
    "start_time": "2023-05-21T07:29:57.713Z"
   },
   {
    "duration": 16,
    "start_time": "2023-05-21T07:29:57.927Z"
   },
   {
    "duration": 24,
    "start_time": "2023-05-21T07:29:57.944Z"
   },
   {
    "duration": 9,
    "start_time": "2023-05-21T07:29:57.970Z"
   },
   {
    "duration": 22,
    "start_time": "2023-05-21T07:29:57.980Z"
   },
   {
    "duration": 11,
    "start_time": "2023-05-21T07:29:58.003Z"
   },
   {
    "duration": 6,
    "start_time": "2023-05-21T07:29:58.015Z"
   },
   {
    "duration": 26,
    "start_time": "2023-05-21T07:29:58.023Z"
   },
   {
    "duration": 17,
    "start_time": "2023-05-21T07:29:58.050Z"
   },
   {
    "duration": 34,
    "start_time": "2023-05-21T07:29:58.068Z"
   },
   {
    "duration": 62,
    "start_time": "2023-05-21T07:29:58.104Z"
   },
   {
    "duration": 57,
    "start_time": "2023-05-21T07:29:58.167Z"
   },
   {
    "duration": 49,
    "start_time": "2023-05-21T07:29:58.227Z"
   },
   {
    "duration": 49,
    "start_time": "2023-05-21T07:29:58.278Z"
   },
   {
    "duration": 18,
    "start_time": "2023-05-21T07:29:58.328Z"
   },
   {
    "duration": 76,
    "start_time": "2023-05-21T07:29:58.347Z"
   },
   {
    "duration": 12,
    "start_time": "2023-05-21T07:29:58.426Z"
   },
   {
    "duration": 12,
    "start_time": "2023-05-21T07:29:58.439Z"
   },
   {
    "duration": 2,
    "start_time": "2023-05-21T07:29:58.453Z"
   },
   {
    "duration": 41,
    "start_time": "2023-05-21T07:29:58.457Z"
   },
   {
    "duration": 12,
    "start_time": "2023-05-21T07:29:58.499Z"
   },
   {
    "duration": 16,
    "start_time": "2023-05-21T07:29:58.512Z"
   },
   {
    "duration": 20,
    "start_time": "2023-05-21T07:29:58.529Z"
   },
   {
    "duration": 47,
    "start_time": "2023-05-21T07:29:58.550Z"
   },
   {
    "duration": 16,
    "start_time": "2023-05-21T07:29:58.599Z"
   },
   {
    "duration": 9,
    "start_time": "2023-05-21T07:29:58.616Z"
   },
   {
    "duration": 902,
    "start_time": "2023-05-21T07:29:58.627Z"
   },
   {
    "duration": 0,
    "start_time": "2023-05-21T07:29:59.530Z"
   },
   {
    "duration": 0,
    "start_time": "2023-05-21T07:29:59.531Z"
   },
   {
    "duration": 0,
    "start_time": "2023-05-21T07:29:59.532Z"
   },
   {
    "duration": 0,
    "start_time": "2023-05-21T07:29:59.533Z"
   },
   {
    "duration": 0,
    "start_time": "2023-05-21T07:29:59.533Z"
   },
   {
    "duration": 0,
    "start_time": "2023-05-21T07:29:59.534Z"
   },
   {
    "duration": 0,
    "start_time": "2023-05-21T07:29:59.535Z"
   },
   {
    "duration": 0,
    "start_time": "2023-05-21T07:29:59.536Z"
   },
   {
    "duration": 0,
    "start_time": "2023-05-21T07:29:59.537Z"
   },
   {
    "duration": 0,
    "start_time": "2023-05-21T07:29:59.538Z"
   },
   {
    "duration": 389,
    "start_time": "2023-05-21T07:31:06.873Z"
   },
   {
    "duration": 9,
    "start_time": "2023-05-21T07:32:22.160Z"
   },
   {
    "duration": 7,
    "start_time": "2023-05-21T07:32:49.508Z"
   },
   {
    "duration": 60,
    "start_time": "2023-05-21T08:00:41.783Z"
   },
   {
    "duration": 6,
    "start_time": "2023-05-21T08:01:41.892Z"
   },
   {
    "duration": 3,
    "start_time": "2023-05-21T08:09:02.016Z"
   },
   {
    "duration": 179,
    "start_time": "2023-05-21T08:09:02.021Z"
   },
   {
    "duration": 8,
    "start_time": "2023-05-21T08:09:02.202Z"
   },
   {
    "duration": 51,
    "start_time": "2023-05-21T08:09:02.212Z"
   },
   {
    "duration": 18,
    "start_time": "2023-05-21T08:09:02.265Z"
   },
   {
    "duration": 8,
    "start_time": "2023-05-21T08:09:02.285Z"
   },
   {
    "duration": 14,
    "start_time": "2023-05-21T08:09:02.294Z"
   },
   {
    "duration": 4,
    "start_time": "2023-05-21T08:09:02.309Z"
   },
   {
    "duration": 62,
    "start_time": "2023-05-21T08:09:02.314Z"
   },
   {
    "duration": 56,
    "start_time": "2023-05-21T08:09:02.377Z"
   },
   {
    "duration": 79,
    "start_time": "2023-05-21T08:09:02.436Z"
   },
   {
    "duration": 55,
    "start_time": "2023-05-21T08:09:02.516Z"
   },
   {
    "duration": 52,
    "start_time": "2023-05-21T08:09:02.572Z"
   },
   {
    "duration": 44,
    "start_time": "2023-05-21T08:09:02.626Z"
   },
   {
    "duration": 49,
    "start_time": "2023-05-21T08:09:02.672Z"
   },
   {
    "duration": 17,
    "start_time": "2023-05-21T08:09:02.722Z"
   },
   {
    "duration": 57,
    "start_time": "2023-05-21T08:09:02.740Z"
   },
   {
    "duration": 10,
    "start_time": "2023-05-21T08:09:02.798Z"
   },
   {
    "duration": 9,
    "start_time": "2023-05-21T08:09:02.809Z"
   },
   {
    "duration": 3,
    "start_time": "2023-05-21T08:09:02.819Z"
   },
   {
    "duration": 19,
    "start_time": "2023-05-21T08:09:02.823Z"
   },
   {
    "duration": 11,
    "start_time": "2023-05-21T08:09:02.843Z"
   },
   {
    "duration": 39,
    "start_time": "2023-05-21T08:09:02.855Z"
   },
   {
    "duration": 12,
    "start_time": "2023-05-21T08:09:02.895Z"
   },
   {
    "duration": 14,
    "start_time": "2023-05-21T08:09:02.908Z"
   },
   {
    "duration": 12,
    "start_time": "2023-05-21T08:09:02.924Z"
   },
   {
    "duration": 14,
    "start_time": "2023-05-21T08:09:02.938Z"
   },
   {
    "duration": 32,
    "start_time": "2023-05-21T08:09:02.953Z"
   },
   {
    "duration": 8,
    "start_time": "2023-05-21T08:09:02.988Z"
   },
   {
    "duration": 4,
    "start_time": "2023-05-21T08:09:02.998Z"
   },
   {
    "duration": 6,
    "start_time": "2023-05-21T08:09:03.004Z"
   },
   {
    "duration": 12,
    "start_time": "2023-05-21T08:09:03.011Z"
   },
   {
    "duration": 12,
    "start_time": "2023-05-21T08:09:03.024Z"
   },
   {
    "duration": 5,
    "start_time": "2023-05-21T08:09:03.037Z"
   },
   {
    "duration": 6,
    "start_time": "2023-05-21T08:09:03.043Z"
   },
   {
    "duration": 8,
    "start_time": "2023-05-21T08:09:03.050Z"
   },
   {
    "duration": 6,
    "start_time": "2023-05-21T08:09:03.059Z"
   },
   {
    "duration": 4,
    "start_time": "2023-05-21T08:09:03.066Z"
   },
   {
    "duration": 3,
    "start_time": "2023-05-21T08:09:54.699Z"
   },
   {
    "duration": 145,
    "start_time": "2023-05-21T08:09:54.703Z"
   },
   {
    "duration": 11,
    "start_time": "2023-05-21T08:09:54.850Z"
   },
   {
    "duration": 43,
    "start_time": "2023-05-21T08:09:54.863Z"
   },
   {
    "duration": 2,
    "start_time": "2023-05-21T08:09:54.909Z"
   },
   {
    "duration": 7,
    "start_time": "2023-05-21T08:09:54.913Z"
   },
   {
    "duration": 7,
    "start_time": "2023-05-21T08:09:54.922Z"
   },
   {
    "duration": 6,
    "start_time": "2023-05-21T08:09:54.931Z"
   },
   {
    "duration": 23,
    "start_time": "2023-05-21T08:09:54.939Z"
   },
   {
    "duration": 36,
    "start_time": "2023-05-21T08:09:54.964Z"
   },
   {
    "duration": 20,
    "start_time": "2023-05-21T08:09:55.003Z"
   },
   {
    "duration": 53,
    "start_time": "2023-05-21T08:09:55.024Z"
   },
   {
    "duration": 65,
    "start_time": "2023-05-21T08:09:55.084Z"
   },
   {
    "duration": 49,
    "start_time": "2023-05-21T08:09:55.150Z"
   },
   {
    "duration": 39,
    "start_time": "2023-05-21T08:09:55.201Z"
   },
   {
    "duration": 15,
    "start_time": "2023-05-21T08:09:55.242Z"
   },
   {
    "duration": 60,
    "start_time": "2023-05-21T08:09:55.258Z"
   },
   {
    "duration": 10,
    "start_time": "2023-05-21T08:09:55.319Z"
   },
   {
    "duration": 10,
    "start_time": "2023-05-21T08:09:55.330Z"
   },
   {
    "duration": 2,
    "start_time": "2023-05-21T08:09:55.341Z"
   },
   {
    "duration": 15,
    "start_time": "2023-05-21T08:09:55.344Z"
   },
   {
    "duration": 43,
    "start_time": "2023-05-21T08:09:55.360Z"
   },
   {
    "duration": 12,
    "start_time": "2023-05-21T08:09:55.404Z"
   },
   {
    "duration": 16,
    "start_time": "2023-05-21T08:09:55.417Z"
   },
   {
    "duration": 12,
    "start_time": "2023-05-21T08:09:55.434Z"
   },
   {
    "duration": 11,
    "start_time": "2023-05-21T08:09:55.447Z"
   },
   {
    "duration": 37,
    "start_time": "2023-05-21T08:09:55.459Z"
   },
   {
    "duration": 76,
    "start_time": "2023-05-21T08:09:55.498Z"
   },
   {
    "duration": 10,
    "start_time": "2023-05-21T08:09:55.577Z"
   },
   {
    "duration": 14,
    "start_time": "2023-05-21T08:09:55.588Z"
   },
   {
    "duration": 7,
    "start_time": "2023-05-21T08:09:55.604Z"
   },
   {
    "duration": 13,
    "start_time": "2023-05-21T08:09:55.612Z"
   },
   {
    "duration": 8,
    "start_time": "2023-05-21T08:09:55.626Z"
   },
   {
    "duration": 9,
    "start_time": "2023-05-21T08:09:55.636Z"
   },
   {
    "duration": 6,
    "start_time": "2023-05-21T08:09:55.647Z"
   },
   {
    "duration": 6,
    "start_time": "2023-05-21T08:09:55.655Z"
   },
   {
    "duration": 5,
    "start_time": "2023-05-21T08:09:55.662Z"
   },
   {
    "duration": 5,
    "start_time": "2023-05-21T08:09:55.668Z"
   },
   {
    "duration": 4,
    "start_time": "2023-05-21T08:14:30.326Z"
   },
   {
    "duration": 12,
    "start_time": "2023-05-21T08:23:03.013Z"
   },
   {
    "duration": 12,
    "start_time": "2023-05-21T08:24:11.928Z"
   },
   {
    "duration": 3,
    "start_time": "2023-05-21T08:26:03.827Z"
   },
   {
    "duration": 62,
    "start_time": "2023-05-21T08:26:15.118Z"
   },
   {
    "duration": 3,
    "start_time": "2023-05-21T08:26:30.077Z"
   },
   {
    "duration": 44,
    "start_time": "2023-05-21T08:28:08.968Z"
   },
   {
    "duration": 18,
    "start_time": "2023-05-21T08:29:09.168Z"
   },
   {
    "duration": 2,
    "start_time": "2023-05-21T08:30:44.320Z"
   },
   {
    "duration": 148,
    "start_time": "2023-05-21T08:30:44.323Z"
   },
   {
    "duration": 14,
    "start_time": "2023-05-21T08:30:44.473Z"
   },
   {
    "duration": 27,
    "start_time": "2023-05-21T08:30:44.488Z"
   },
   {
    "duration": 2,
    "start_time": "2023-05-21T08:30:44.516Z"
   },
   {
    "duration": 7,
    "start_time": "2023-05-21T08:30:44.519Z"
   },
   {
    "duration": 12,
    "start_time": "2023-05-21T08:30:44.528Z"
   },
   {
    "duration": 3,
    "start_time": "2023-05-21T08:30:44.541Z"
   },
   {
    "duration": 31,
    "start_time": "2023-05-21T08:30:44.545Z"
   },
   {
    "duration": 17,
    "start_time": "2023-05-21T08:30:44.577Z"
   },
   {
    "duration": 16,
    "start_time": "2023-05-21T08:30:44.596Z"
   },
   {
    "duration": 50,
    "start_time": "2023-05-21T08:30:44.614Z"
   },
   {
    "duration": 65,
    "start_time": "2023-05-21T08:30:44.666Z"
   },
   {
    "duration": 51,
    "start_time": "2023-05-21T08:30:44.734Z"
   },
   {
    "duration": 39,
    "start_time": "2023-05-21T08:30:44.786Z"
   },
   {
    "duration": 14,
    "start_time": "2023-05-21T08:30:44.827Z"
   },
   {
    "duration": 55,
    "start_time": "2023-05-21T08:30:44.842Z"
   },
   {
    "duration": 9,
    "start_time": "2023-05-21T08:30:44.898Z"
   },
   {
    "duration": 23,
    "start_time": "2023-05-21T08:30:44.909Z"
   },
   {
    "duration": 10,
    "start_time": "2023-05-21T08:30:44.933Z"
   },
   {
    "duration": 18,
    "start_time": "2023-05-21T08:30:44.944Z"
   },
   {
    "duration": 14,
    "start_time": "2023-05-21T08:30:44.963Z"
   },
   {
    "duration": 37,
    "start_time": "2023-05-21T08:30:44.978Z"
   },
   {
    "duration": 50,
    "start_time": "2023-05-21T08:30:45.016Z"
   },
   {
    "duration": 38,
    "start_time": "2023-05-21T08:30:45.068Z"
   },
   {
    "duration": 19,
    "start_time": "2023-05-21T08:30:45.107Z"
   },
   {
    "duration": 19,
    "start_time": "2023-05-21T08:30:45.127Z"
   },
   {
    "duration": 46,
    "start_time": "2023-05-21T08:30:45.147Z"
   },
   {
    "duration": 12,
    "start_time": "2023-05-21T08:30:45.194Z"
   },
   {
    "duration": 34,
    "start_time": "2023-05-21T08:30:45.207Z"
   },
   {
    "duration": 23,
    "start_time": "2023-05-21T08:30:45.243Z"
   },
   {
    "duration": 9,
    "start_time": "2023-05-21T08:30:45.267Z"
   },
   {
    "duration": 13,
    "start_time": "2023-05-21T08:30:45.277Z"
   },
   {
    "duration": 14,
    "start_time": "2023-05-21T08:30:45.292Z"
   },
   {
    "duration": 14,
    "start_time": "2023-05-21T08:30:45.308Z"
   },
   {
    "duration": 11,
    "start_time": "2023-05-21T08:30:45.323Z"
   },
   {
    "duration": 16,
    "start_time": "2023-05-21T08:30:45.335Z"
   },
   {
    "duration": 24,
    "start_time": "2023-05-21T08:30:45.352Z"
   },
   {
    "duration": 8,
    "start_time": "2023-05-21T08:43:27.681Z"
   },
   {
    "duration": 4,
    "start_time": "2023-05-21T08:43:31.060Z"
   },
   {
    "duration": 7,
    "start_time": "2023-05-21T08:47:05.994Z"
   },
   {
    "duration": 4,
    "start_time": "2023-05-21T08:47:07.956Z"
   }
  ],
  "colab": {
   "collapsed_sections": [
    "E0vqbgi9ay0H",
    "VUC88oWjTJw2"
   ],
   "provenance": []
  },
  "kernelspec": {
   "display_name": "Python 3 (ipykernel)",
   "language": "python",
   "name": "python3"
  },
  "language_info": {
   "codemirror_mode": {
    "name": "ipython",
    "version": 3
   },
   "file_extension": ".py",
   "mimetype": "text/x-python",
   "name": "python",
   "nbconvert_exporter": "python",
   "pygments_lexer": "ipython3",
   "version": "3.9.5"
  },
  "toc": {
   "base_numbering": 1,
   "nav_menu": {
    "height": "215px",
    "width": "403px"
   },
   "number_sections": true,
   "sideBar": true,
   "skip_h1_title": true,
   "title_cell": "Table of Contents",
   "title_sidebar": "Contents",
   "toc_cell": false,
   "toc_position": {
    "height": "calc(100% - 180px)",
    "left": "10px",
    "top": "150px",
    "width": "285.825px"
   },
   "toc_section_display": true,
   "toc_window_display": false
  }
 },
 "nbformat": 4,
 "nbformat_minor": 1
}
