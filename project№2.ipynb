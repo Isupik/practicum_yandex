{
 "cells": [
  {
   "cell_type": "markdown",
   "id": "aba6e713",
   "metadata": {},
   "source": [
    "# Сборный проект - 2"
   ]
  },
  {
   "cell_type": "markdown",
   "id": "91b5a4eb",
   "metadata": {},
   "source": [
    "**Описание проекта**\n",
    "\n",
    "Заказчик этого исследования — большая телекоммуникационная компания, которая оказывает услуги на территории всего СНГ. Перед компанией стоит задача определить текущий уровень потребительской лояльности, или NPS (от англ. Net Promoter Score), среди клиентов из России.\n",
    "\n",
    "Чтобы определить уровень лояльности, клиентам задавали классический вопрос: «Оцените по шкале от 1 до 10 вероятность того, что вы порекомендуете компанию друзьям и знакомым».\n",
    "\n",
    "Компания провела опрос и попросила вас подготовить дашборд с его итогами. Большую базу данных для такой задачи разворачивать не стали и выгрузили данные в SQLite.\n",
    "\n",
    "Чтобы оценить результаты опроса, оценки обычно делят на три группы:\n",
    "9-10 баллов — «cторонники» (англ. promoters);\n",
    "7-8 баллов — «нейтралы» (англ. passives);\n",
    "0-6 баллов — «критики» (англ. detractors).\n",
    "Итоговое значение NPS рассчитывается по формуле: % «сторонников» - % «критиков».\n",
    "\n",
    "Таким образом, значение этого показателя варьируется от -100% (когда все клиенты «критики») до 100% (когда все клиенты лояльны к сервису). Но это крайние случаи, которые редко встретишь на практике. \n",
    "\n",
    "Интерпретируя результаты NPS-опросов, следует также помнить, что само значение мало о чём говорит. Однако исследования показывают, что клиенты-сторонники полезны любому бизнесу. Они чаще других повторно совершают покупки, активнее тестируют обновления и приводят в сервис своих друзей и знакомых. Поэтому NPS остаётся одной из важнейших метрик бизнеса. "
   ]
  },
  {
   "cell_type": "code",
   "execution_count": 1,
   "id": "7bdf401a",
   "metadata": {},
   "outputs": [],
   "source": [
    "import os\n",
    "import pandas as pd\n",
    "import numpy as np\n",
    "\n",
    "from sqlalchemy import create_engine"
   ]
  },
  {
   "cell_type": "code",
   "execution_count": 2,
   "id": "0017f8e7",
   "metadata": {},
   "outputs": [],
   "source": [
    "path_to_db_local = 'telecomm_csi.db'\n",
    "path_to_db_platform = '/datasets/telecomm_csi.db'\n",
    "path_to_db = None\n",
    "\n",
    "if os.path.exists(path_to_db_local):\n",
    "    path_to_db = path_to_db_local\n",
    "elif os.path.exists(path_to_db_platform):\n",
    "    path_to_db = path_to_db_platform\n",
    "else:\n",
    "    raise Exception('Файл с базой данных SQLite не найден!')\n",
    "\n",
    "if path_to_db:\n",
    "    engine = create_engine(f'sqlite:///{path_to_db}', echo=False)"
   ]
  },
  {
   "cell_type": "markdown",
   "id": "75fea3af",
   "metadata": {},
   "source": [
    "Напишем запрос на выгрузку всех городов, для проверки их валидности."
   ]
  },
  {
   "cell_type": "code",
   "execution_count": 3,
   "id": "f45f0ff2",
   "metadata": {},
   "outputs": [],
   "source": [
    "query = \"\"\"\n",
    "SELECT city\n",
    "FROM location \n",
    "\"\"\""
   ]
  },
  {
   "cell_type": "markdown",
   "id": "afae03aa",
   "metadata": {},
   "source": [
    "Видим, что есть пять городов со слипшимися названиями - \"НабережныеЧелны, НижнийНовгород, НижнийТагил, РостовнаДону, СанктПетербург\".\n",
    "\n",
    "В главном запросе скоректируем названия этих городов"
   ]
  },
  {
   "cell_type": "code",
   "execution_count": 4,
   "id": "b877eb0e",
   "metadata": {},
   "outputs": [
    {
     "data": {
      "text/plain": [
       "{'Архангельск',\n",
       " 'Астрахань',\n",
       " 'Балашиха',\n",
       " 'Барнаул',\n",
       " 'Белгород',\n",
       " 'Брянск',\n",
       " 'Владивосток',\n",
       " 'Владимир',\n",
       " 'Волгоград',\n",
       " 'Волжский',\n",
       " 'Воронеж',\n",
       " 'Грозный',\n",
       " 'Екатеринбург',\n",
       " 'Иваново',\n",
       " 'Ижевск',\n",
       " 'Иркутск',\n",
       " 'Казань',\n",
       " 'Калининград',\n",
       " 'Калуга',\n",
       " 'Кемерово',\n",
       " 'Киров',\n",
       " 'Краснодар',\n",
       " 'Красноярск',\n",
       " 'Курск',\n",
       " 'Липецк',\n",
       " 'Магнитогорск',\n",
       " 'Махачкала',\n",
       " 'Москва',\n",
       " 'НабережныеЧелны',\n",
       " 'НижнийНовгород',\n",
       " 'НижнийТагил',\n",
       " 'Новокузнецк',\n",
       " 'Новосибирск',\n",
       " 'Омск',\n",
       " 'Оренбург',\n",
       " 'Пенза',\n",
       " 'Пермь',\n",
       " 'РостовнаДону',\n",
       " 'Рязань',\n",
       " 'Самара',\n",
       " 'СанктПетербург',\n",
       " 'Саранск',\n",
       " 'Саратов',\n",
       " 'Смоленск',\n",
       " 'Сочи',\n",
       " 'Ставрополь',\n",
       " 'Сургут',\n",
       " 'Тверь',\n",
       " 'Тольятти',\n",
       " 'Томск',\n",
       " 'Тула',\n",
       " 'Тюмень',\n",
       " 'УланУдэ',\n",
       " 'Ульяновск',\n",
       " 'Уфа',\n",
       " 'Хабаровск',\n",
       " 'Чебоксары',\n",
       " 'Челябинск',\n",
       " 'Череповец',\n",
       " 'Чита',\n",
       " 'Якутск',\n",
       " 'Ярославль'}"
      ]
     },
     "execution_count": 4,
     "metadata": {},
     "output_type": "execute_result"
    }
   ],
   "source": [
    "df = pd.read_sql(query, engine)\n",
    "set(df['city'])"
   ]
  },
  {
   "cell_type": "markdown",
   "id": "c74ed44b",
   "metadata": {},
   "source": [
    "Посмотрим на число записей в таблице user перед составлением витрины, для того чтобы убедиться, что все записи попали в нашу выборку."
   ]
  },
  {
   "cell_type": "code",
   "execution_count": 5,
   "id": "39d62794",
   "metadata": {},
   "outputs": [],
   "source": [
    "query = \"\"\"\n",
    "SELECT count(*)\n",
    "FROM user \n",
    "\"\"\""
   ]
  },
  {
   "cell_type": "markdown",
   "id": "c88f2488",
   "metadata": {},
   "source": [
    "Количество записей: 502493"
   ]
  },
  {
   "cell_type": "code",
   "execution_count": 6,
   "id": "a014459f",
   "metadata": {},
   "outputs": [
    {
     "data": {
      "text/html": [
       "<div>\n",
       "<style scoped>\n",
       "    .dataframe tbody tr th:only-of-type {\n",
       "        vertical-align: middle;\n",
       "    }\n",
       "\n",
       "    .dataframe tbody tr th {\n",
       "        vertical-align: top;\n",
       "    }\n",
       "\n",
       "    .dataframe thead th {\n",
       "        text-align: right;\n",
       "    }\n",
       "</style>\n",
       "<table border=\"1\" class=\"dataframe\">\n",
       "  <thead>\n",
       "    <tr style=\"text-align: right;\">\n",
       "      <th></th>\n",
       "      <th>count(*)</th>\n",
       "    </tr>\n",
       "  </thead>\n",
       "  <tbody>\n",
       "    <tr>\n",
       "      <th>0</th>\n",
       "      <td>502493</td>\n",
       "    </tr>\n",
       "  </tbody>\n",
       "</table>\n",
       "</div>"
      ],
      "text/plain": [
       "   count(*)\n",
       "0    502493"
      ]
     },
     "execution_count": 6,
     "metadata": {},
     "output_type": "execute_result"
    }
   ],
   "source": [
    "df = pd.read_sql(query, engine)\n",
    "df.head()"
   ]
  },
  {
   "cell_type": "code",
   "execution_count": 7,
   "id": "84ebad43",
   "metadata": {},
   "outputs": [],
   "source": [
    "query = \"\"\"\n",
    "SELECT u.user_id, \n",
    "    u.lt_day, \n",
    "    CASE\n",
    "        WHEN u.lt_day <= 365 THEN 'new'\n",
    "        ELSE 'old'\n",
    "    END AS is_new, \n",
    "    u.age, u.gender_segment, u.os_name, u.cpe_type_name, l.country, \n",
    "    CASE\n",
    "        WHEN l.city = 'РостовнаДону' THEN 'Ростов-на-Дону'\n",
    "        WHEN l.city = 'СанктПетербург' THEN 'Санкт-Петербург'\n",
    "        WHEN l.city = 'НабережныеЧелны' THEN 'Набережные Челны'\n",
    "        WHEN l.city = 'НижнийНовгород' THEN 'Нижний Новгород'\n",
    "        WHEN l.city = 'НижнийТагил' THEN 'Нижний Тагил'\n",
    "        ELSE l.city\n",
    "    END AS city, \n",
    "    SUBSTR(ag.title, 4) AS age_segment,  \n",
    "    SUBSTR(tr.title, 4) AS traffic_segment, \n",
    "    SUBSTR(li.title, 4) AS lifetime_segment, \n",
    "    u.nps_score, \n",
    "    CASE\n",
    "        WHEN u.nps_score >= 9 THEN 'cторонники'\n",
    "        WHEN u.nps_score >= 7 THEN 'нейтралы'\n",
    "        ELSE 'критики'\n",
    "    END AS nps_group\n",
    "FROM user u\n",
    "INNER JOIN location l ON u.location_id = l.location_id\n",
    "INNER JOIN age_segment ag ON u.age_gr_id = ag.age_gr_id\n",
    "INNER JOIN traffic_segment tr ON u.tr_gr_id = tr.tr_gr_id\n",
    "INNER JOIN lifetime_segment li ON u.lt_gr_id = li.lt_gr_id;\n",
    "\"\"\""
   ]
  },
  {
   "cell_type": "code",
   "execution_count": 8,
   "id": "3965faf2",
   "metadata": {},
   "outputs": [
    {
     "data": {
      "text/html": [
       "<div>\n",
       "<style scoped>\n",
       "    .dataframe tbody tr th:only-of-type {\n",
       "        vertical-align: middle;\n",
       "    }\n",
       "\n",
       "    .dataframe tbody tr th {\n",
       "        vertical-align: top;\n",
       "    }\n",
       "\n",
       "    .dataframe thead th {\n",
       "        text-align: right;\n",
       "    }\n",
       "</style>\n",
       "<table border=\"1\" class=\"dataframe\">\n",
       "  <thead>\n",
       "    <tr style=\"text-align: right;\">\n",
       "      <th></th>\n",
       "      <th>user_id</th>\n",
       "      <th>lt_day</th>\n",
       "      <th>is_new</th>\n",
       "      <th>age</th>\n",
       "      <th>gender_segment</th>\n",
       "      <th>os_name</th>\n",
       "      <th>cpe_type_name</th>\n",
       "      <th>country</th>\n",
       "      <th>city</th>\n",
       "      <th>age_segment</th>\n",
       "      <th>traffic_segment</th>\n",
       "      <th>lifetime_segment</th>\n",
       "      <th>nps_score</th>\n",
       "      <th>nps_group</th>\n",
       "    </tr>\n",
       "  </thead>\n",
       "  <tbody>\n",
       "    <tr>\n",
       "      <th>0</th>\n",
       "      <td>A001A2</td>\n",
       "      <td>2320</td>\n",
       "      <td>old</td>\n",
       "      <td>45.0</td>\n",
       "      <td>1.0</td>\n",
       "      <td>ANDROID</td>\n",
       "      <td>SMARTPHONE</td>\n",
       "      <td>Россия</td>\n",
       "      <td>Уфа</td>\n",
       "      <td>45-54</td>\n",
       "      <td>1-5</td>\n",
       "      <td>36+</td>\n",
       "      <td>10</td>\n",
       "      <td>cторонники</td>\n",
       "    </tr>\n",
       "    <tr>\n",
       "      <th>1</th>\n",
       "      <td>A001WF</td>\n",
       "      <td>2344</td>\n",
       "      <td>old</td>\n",
       "      <td>53.0</td>\n",
       "      <td>0.0</td>\n",
       "      <td>ANDROID</td>\n",
       "      <td>SMARTPHONE</td>\n",
       "      <td>Россия</td>\n",
       "      <td>Киров</td>\n",
       "      <td>45-54</td>\n",
       "      <td>1-5</td>\n",
       "      <td>36+</td>\n",
       "      <td>10</td>\n",
       "      <td>cторонники</td>\n",
       "    </tr>\n",
       "    <tr>\n",
       "      <th>2</th>\n",
       "      <td>A003Q7</td>\n",
       "      <td>467</td>\n",
       "      <td>old</td>\n",
       "      <td>57.0</td>\n",
       "      <td>0.0</td>\n",
       "      <td>ANDROID</td>\n",
       "      <td>SMARTPHONE</td>\n",
       "      <td>Россия</td>\n",
       "      <td>Москва</td>\n",
       "      <td>55-64</td>\n",
       "      <td>20-25</td>\n",
       "      <td>13-24</td>\n",
       "      <td>10</td>\n",
       "      <td>cторонники</td>\n",
       "    </tr>\n",
       "    <tr>\n",
       "      <th>3</th>\n",
       "      <td>A004TB</td>\n",
       "      <td>4190</td>\n",
       "      <td>old</td>\n",
       "      <td>44.0</td>\n",
       "      <td>1.0</td>\n",
       "      <td>IOS</td>\n",
       "      <td>SMARTPHONE</td>\n",
       "      <td>Россия</td>\n",
       "      <td>Ростов-на-Дону</td>\n",
       "      <td>35-44</td>\n",
       "      <td>0.1-1</td>\n",
       "      <td>36+</td>\n",
       "      <td>10</td>\n",
       "      <td>cторонники</td>\n",
       "    </tr>\n",
       "    <tr>\n",
       "      <th>4</th>\n",
       "      <td>A004XT</td>\n",
       "      <td>1163</td>\n",
       "      <td>old</td>\n",
       "      <td>24.0</td>\n",
       "      <td>0.0</td>\n",
       "      <td>ANDROID</td>\n",
       "      <td>SMARTPHONE</td>\n",
       "      <td>Россия</td>\n",
       "      <td>Рязань</td>\n",
       "      <td>16-24</td>\n",
       "      <td>5-10</td>\n",
       "      <td>36+</td>\n",
       "      <td>10</td>\n",
       "      <td>cторонники</td>\n",
       "    </tr>\n",
       "    <tr>\n",
       "      <th>5</th>\n",
       "      <td>A005O0</td>\n",
       "      <td>5501</td>\n",
       "      <td>old</td>\n",
       "      <td>42.0</td>\n",
       "      <td>1.0</td>\n",
       "      <td>ANDROID</td>\n",
       "      <td>SMARTPHONE</td>\n",
       "      <td>Россия</td>\n",
       "      <td>Омск</td>\n",
       "      <td>35-44</td>\n",
       "      <td>5-10</td>\n",
       "      <td>36+</td>\n",
       "      <td>6</td>\n",
       "      <td>критики</td>\n",
       "    </tr>\n",
       "    <tr>\n",
       "      <th>6</th>\n",
       "      <td>A0061R</td>\n",
       "      <td>1236</td>\n",
       "      <td>old</td>\n",
       "      <td>45.0</td>\n",
       "      <td>0.0</td>\n",
       "      <td>ANDROID</td>\n",
       "      <td>SMARTPHONE</td>\n",
       "      <td>Россия</td>\n",
       "      <td>Уфа</td>\n",
       "      <td>45-54</td>\n",
       "      <td>10-15</td>\n",
       "      <td>36+</td>\n",
       "      <td>10</td>\n",
       "      <td>cторонники</td>\n",
       "    </tr>\n",
       "    <tr>\n",
       "      <th>7</th>\n",
       "      <td>A009KS</td>\n",
       "      <td>313</td>\n",
       "      <td>new</td>\n",
       "      <td>35.0</td>\n",
       "      <td>0.0</td>\n",
       "      <td>ANDROID</td>\n",
       "      <td>SMARTPHONE</td>\n",
       "      <td>Россия</td>\n",
       "      <td>Москва</td>\n",
       "      <td>35-44</td>\n",
       "      <td>45-50</td>\n",
       "      <td>7-12</td>\n",
       "      <td>10</td>\n",
       "      <td>cторонники</td>\n",
       "    </tr>\n",
       "    <tr>\n",
       "      <th>8</th>\n",
       "      <td>A00AES</td>\n",
       "      <td>3238</td>\n",
       "      <td>old</td>\n",
       "      <td>36.0</td>\n",
       "      <td>1.0</td>\n",
       "      <td>ANDROID</td>\n",
       "      <td>SMARTPHONE</td>\n",
       "      <td>Россия</td>\n",
       "      <td>Санкт-Петербург</td>\n",
       "      <td>35-44</td>\n",
       "      <td>1-5</td>\n",
       "      <td>36+</td>\n",
       "      <td>10</td>\n",
       "      <td>cторонники</td>\n",
       "    </tr>\n",
       "    <tr>\n",
       "      <th>9</th>\n",
       "      <td>A00F70</td>\n",
       "      <td>4479</td>\n",
       "      <td>old</td>\n",
       "      <td>54.0</td>\n",
       "      <td>1.0</td>\n",
       "      <td>ANDROID</td>\n",
       "      <td>SMARTPHONE</td>\n",
       "      <td>Россия</td>\n",
       "      <td>Волгоград</td>\n",
       "      <td>45-54</td>\n",
       "      <td>15-20</td>\n",
       "      <td>36+</td>\n",
       "      <td>9</td>\n",
       "      <td>cторонники</td>\n",
       "    </tr>\n",
       "  </tbody>\n",
       "</table>\n",
       "</div>"
      ],
      "text/plain": [
       "  user_id  lt_day is_new   age  gender_segment  os_name cpe_type_name country  \\\n",
       "0  A001A2    2320    old  45.0             1.0  ANDROID    SMARTPHONE  Россия   \n",
       "1  A001WF    2344    old  53.0             0.0  ANDROID    SMARTPHONE  Россия   \n",
       "2  A003Q7     467    old  57.0             0.0  ANDROID    SMARTPHONE  Россия   \n",
       "3  A004TB    4190    old  44.0             1.0      IOS    SMARTPHONE  Россия   \n",
       "4  A004XT    1163    old  24.0             0.0  ANDROID    SMARTPHONE  Россия   \n",
       "5  A005O0    5501    old  42.0             1.0  ANDROID    SMARTPHONE  Россия   \n",
       "6  A0061R    1236    old  45.0             0.0  ANDROID    SMARTPHONE  Россия   \n",
       "7  A009KS     313    new  35.0             0.0  ANDROID    SMARTPHONE  Россия   \n",
       "8  A00AES    3238    old  36.0             1.0  ANDROID    SMARTPHONE  Россия   \n",
       "9  A00F70    4479    old  54.0             1.0  ANDROID    SMARTPHONE  Россия   \n",
       "\n",
       "              city age_segment traffic_segment lifetime_segment  nps_score  \\\n",
       "0              Уфа       45-54             1-5              36+         10   \n",
       "1            Киров       45-54             1-5              36+         10   \n",
       "2           Москва       55-64           20-25            13-24         10   \n",
       "3   Ростов-на-Дону       35-44           0.1-1              36+         10   \n",
       "4           Рязань       16-24            5-10              36+         10   \n",
       "5             Омск       35-44            5-10              36+          6   \n",
       "6              Уфа       45-54           10-15              36+         10   \n",
       "7           Москва       35-44           45-50             7-12         10   \n",
       "8  Санкт-Петербург       35-44             1-5              36+         10   \n",
       "9        Волгоград       45-54           15-20              36+          9   \n",
       "\n",
       "    nps_group  \n",
       "0  cторонники  \n",
       "1  cторонники  \n",
       "2  cторонники  \n",
       "3  cторонники  \n",
       "4  cторонники  \n",
       "5     критики  \n",
       "6  cторонники  \n",
       "7  cторонники  \n",
       "8  cторонники  \n",
       "9  cторонники  "
      ]
     },
     "execution_count": 8,
     "metadata": {},
     "output_type": "execute_result"
    }
   ],
   "source": [
    "df = pd.read_sql(query, engine)\n",
    "df.head(10)"
   ]
  },
  {
   "cell_type": "markdown",
   "id": "d6a35e2a",
   "metadata": {},
   "source": [
    "Количество записей также 502493"
   ]
  },
  {
   "cell_type": "code",
   "execution_count": 9,
   "id": "fd806e6a",
   "metadata": {},
   "outputs": [
    {
     "name": "stdout",
     "output_type": "stream",
     "text": [
      "<class 'pandas.core.frame.DataFrame'>\n",
      "RangeIndex: 502493 entries, 0 to 502492\n",
      "Data columns (total 14 columns):\n",
      " #   Column            Non-Null Count   Dtype  \n",
      "---  ------            --------------   -----  \n",
      " 0   user_id           502493 non-null  object \n",
      " 1   lt_day            502493 non-null  int64  \n",
      " 2   is_new            502493 non-null  object \n",
      " 3   age               501939 non-null  float64\n",
      " 4   gender_segment    501192 non-null  float64\n",
      " 5   os_name           502493 non-null  object \n",
      " 6   cpe_type_name     502493 non-null  object \n",
      " 7   country           502493 non-null  object \n",
      " 8   city              502493 non-null  object \n",
      " 9   age_segment       502493 non-null  object \n",
      " 10  traffic_segment   502493 non-null  object \n",
      " 11  lifetime_segment  502493 non-null  object \n",
      " 12  nps_score         502493 non-null  int64  \n",
      " 13  nps_group         502493 non-null  object \n",
      "dtypes: float64(2), int64(2), object(10)\n",
      "memory usage: 53.7+ MB\n"
     ]
    }
   ],
   "source": [
    "df.info()"
   ]
  },
  {
   "cell_type": "code",
   "execution_count": 10,
   "id": "9db04858",
   "metadata": {},
   "outputs": [],
   "source": [
    "df.to_csv('telecomm_csi_tableau.csv', index=False)"
   ]
  },
  {
   "cell_type": "markdown",
   "id": "0233e96f",
   "metadata": {},
   "source": [
    "**Создание дашборда в Tableau**"
   ]
  },
  {
   "cell_type": "markdown",
   "id": "b9d2dc25",
   "metadata": {},
   "source": [
    "https://public.tableau.com/app/profile/.36841714/viz/-2_16976652680360/sheet23?publish=yes"
   ]
  }
 ],
 "metadata": {
  "ExecuteTimeLog": [
   {
    "duration": 535,
    "start_time": "2023-10-18T19:14:55.529Z"
   },
   {
    "duration": 81,
    "start_time": "2023-10-18T19:14:59.464Z"
   },
   {
    "duration": 3,
    "start_time": "2023-10-18T19:15:21.689Z"
   },
   {
    "duration": 3604,
    "start_time": "2023-10-18T19:15:22.774Z"
   },
   {
    "duration": 3,
    "start_time": "2023-10-18T19:23:41.784Z"
   },
   {
    "duration": 772,
    "start_time": "2023-10-18T19:23:43.699Z"
   },
   {
    "duration": 3,
    "start_time": "2023-10-18T19:24:26.471Z"
   },
   {
    "duration": 3781,
    "start_time": "2023-10-18T19:24:28.302Z"
   },
   {
    "duration": 3,
    "start_time": "2023-10-18T19:26:43.907Z"
   },
   {
    "duration": 3948,
    "start_time": "2023-10-18T19:26:45.624Z"
   },
   {
    "duration": 4,
    "start_time": "2023-10-18T19:27:00.611Z"
   },
   {
    "duration": 3888,
    "start_time": "2023-10-18T19:27:09.838Z"
   },
   {
    "duration": 3,
    "start_time": "2023-10-18T19:27:23.786Z"
   },
   {
    "duration": 3990,
    "start_time": "2023-10-18T19:27:25.729Z"
   },
   {
    "duration": 3,
    "start_time": "2023-10-18T19:29:22.166Z"
   },
   {
    "duration": 778,
    "start_time": "2023-10-18T19:29:24.461Z"
   },
   {
    "duration": 3,
    "start_time": "2023-10-18T19:29:42.757Z"
   },
   {
    "duration": 3955,
    "start_time": "2023-10-18T19:29:44.486Z"
   },
   {
    "duration": 3,
    "start_time": "2023-10-18T19:31:05.882Z"
   },
   {
    "duration": 4178,
    "start_time": "2023-10-18T19:31:07.620Z"
   },
   {
    "duration": 4136,
    "start_time": "2023-10-18T19:33:36.531Z"
   },
   {
    "duration": 4217,
    "start_time": "2023-10-18T19:34:09.655Z"
   },
   {
    "duration": 3,
    "start_time": "2023-10-18T19:41:47.559Z"
   },
   {
    "duration": 4760,
    "start_time": "2023-10-18T19:41:49.038Z"
   },
   {
    "duration": 3,
    "start_time": "2023-10-18T19:57:30.099Z"
   },
   {
    "duration": 728,
    "start_time": "2023-10-18T19:57:31.624Z"
   },
   {
    "duration": 3,
    "start_time": "2023-10-18T19:58:03.818Z"
   },
   {
    "duration": 611,
    "start_time": "2023-10-18T19:58:04.827Z"
   },
   {
    "duration": 3,
    "start_time": "2023-10-18T19:58:24.320Z"
   },
   {
    "duration": 574,
    "start_time": "2023-10-18T19:58:27.160Z"
   },
   {
    "duration": 4,
    "start_time": "2023-10-18T19:58:37.718Z"
   },
   {
    "duration": 615,
    "start_time": "2023-10-18T19:58:39.226Z"
   },
   {
    "duration": 4,
    "start_time": "2023-10-18T19:59:23.386Z"
   },
   {
    "duration": 614,
    "start_time": "2023-10-18T19:59:24.465Z"
   },
   {
    "duration": 3,
    "start_time": "2023-10-18T19:59:45.568Z"
   },
   {
    "duration": 615,
    "start_time": "2023-10-18T19:59:47.412Z"
   },
   {
    "duration": 5,
    "start_time": "2023-10-18T20:00:11.053Z"
   },
   {
    "duration": 587,
    "start_time": "2023-10-18T20:00:12.243Z"
   },
   {
    "duration": 3,
    "start_time": "2023-10-18T20:00:45.096Z"
   },
   {
    "duration": 625,
    "start_time": "2023-10-18T20:00:46.862Z"
   },
   {
    "duration": 3,
    "start_time": "2023-10-18T20:01:42.073Z"
   },
   {
    "duration": 605,
    "start_time": "2023-10-18T20:01:42.859Z"
   },
   {
    "duration": 3,
    "start_time": "2023-10-18T20:02:08.603Z"
   },
   {
    "duration": 620,
    "start_time": "2023-10-18T20:02:09.333Z"
   },
   {
    "duration": 4,
    "start_time": "2023-10-18T20:02:56.199Z"
   },
   {
    "duration": 4,
    "start_time": "2023-10-18T20:02:56.985Z"
   },
   {
    "duration": 614,
    "start_time": "2023-10-18T20:03:04.809Z"
   },
   {
    "duration": 3,
    "start_time": "2023-10-18T20:03:14.089Z"
   },
   {
    "duration": 603,
    "start_time": "2023-10-18T20:03:14.797Z"
   },
   {
    "duration": 3,
    "start_time": "2023-10-18T20:04:35.471Z"
   },
   {
    "duration": 559,
    "start_time": "2023-10-18T20:04:36.649Z"
   },
   {
    "duration": 3,
    "start_time": "2023-10-18T20:04:48.399Z"
   },
   {
    "duration": 563,
    "start_time": "2023-10-18T20:04:49.890Z"
   },
   {
    "duration": 3,
    "start_time": "2023-10-18T20:04:58.997Z"
   },
   {
    "duration": 571,
    "start_time": "2023-10-18T20:05:00.555Z"
   },
   {
    "duration": 3,
    "start_time": "2023-10-18T20:06:47.824Z"
   },
   {
    "duration": 715,
    "start_time": "2023-10-18T20:06:51.165Z"
   },
   {
    "duration": 4,
    "start_time": "2023-10-18T20:06:59.233Z"
   },
   {
    "duration": 3,
    "start_time": "2023-10-18T20:07:00.759Z"
   },
   {
    "duration": 573,
    "start_time": "2023-10-18T20:07:02.351Z"
   },
   {
    "duration": 4,
    "start_time": "2023-10-18T20:07:11.434Z"
   },
   {
    "duration": 654,
    "start_time": "2023-10-18T20:07:17.654Z"
   },
   {
    "duration": 3,
    "start_time": "2023-10-18T20:08:36.368Z"
   },
   {
    "duration": 3410,
    "start_time": "2023-10-18T20:08:38.607Z"
   },
   {
    "duration": 2,
    "start_time": "2023-10-18T20:08:50.398Z"
   },
   {
    "duration": 3348,
    "start_time": "2023-10-18T20:08:55.375Z"
   },
   {
    "duration": 4,
    "start_time": "2023-10-18T20:09:24.203Z"
   },
   {
    "duration": 690,
    "start_time": "2023-10-18T20:09:26.753Z"
   },
   {
    "duration": 3,
    "start_time": "2023-10-18T20:09:41.462Z"
   },
   {
    "duration": 656,
    "start_time": "2023-10-18T20:09:43.395Z"
   },
   {
    "duration": 6,
    "start_time": "2023-10-18T20:09:54.130Z"
   },
   {
    "duration": 675,
    "start_time": "2023-10-18T20:09:56.169Z"
   },
   {
    "duration": 2,
    "start_time": "2023-10-18T20:10:00.801Z"
   },
   {
    "duration": 663,
    "start_time": "2023-10-18T20:10:02.887Z"
   },
   {
    "duration": 3,
    "start_time": "2023-10-18T20:10:08.283Z"
   },
   {
    "duration": 659,
    "start_time": "2023-10-18T20:10:11.725Z"
   },
   {
    "duration": 3,
    "start_time": "2023-10-18T20:10:15.398Z"
   },
   {
    "duration": 3380,
    "start_time": "2023-10-18T20:10:17.086Z"
   },
   {
    "duration": 4,
    "start_time": "2023-10-18T20:10:25.469Z"
   },
   {
    "duration": 3309,
    "start_time": "2023-10-18T20:10:27.587Z"
   },
   {
    "duration": 3,
    "start_time": "2023-10-18T20:11:05.094Z"
   },
   {
    "duration": 655,
    "start_time": "2023-10-18T20:11:05.873Z"
   },
   {
    "duration": 3,
    "start_time": "2023-10-18T20:11:27.654Z"
   },
   {
    "duration": 2,
    "start_time": "2023-10-18T20:11:35.109Z"
   },
   {
    "duration": 660,
    "start_time": "2023-10-18T20:11:37.701Z"
   },
   {
    "duration": 3,
    "start_time": "2023-10-18T20:11:43.200Z"
   },
   {
    "duration": 3331,
    "start_time": "2023-10-18T20:11:44.861Z"
   },
   {
    "duration": 3,
    "start_time": "2023-10-18T20:11:55.261Z"
   },
   {
    "duration": 1548,
    "start_time": "2023-10-18T20:11:56.991Z"
   },
   {
    "duration": 3,
    "start_time": "2023-10-18T20:12:10.257Z"
   },
   {
    "duration": 1418,
    "start_time": "2023-10-18T20:12:14.796Z"
   },
   {
    "duration": 4,
    "start_time": "2023-10-18T20:12:20.520Z"
   },
   {
    "duration": 674,
    "start_time": "2023-10-18T20:12:22.227Z"
   },
   {
    "duration": 3,
    "start_time": "2023-10-18T20:12:38.773Z"
   },
   {
    "duration": 4775,
    "start_time": "2023-10-18T20:12:40.697Z"
   },
   {
    "duration": 3,
    "start_time": "2023-10-18T20:13:15.399Z"
   },
   {
    "duration": 678,
    "start_time": "2023-10-18T20:13:17.237Z"
   },
   {
    "duration": 3,
    "start_time": "2023-10-18T20:13:47.185Z"
   },
   {
    "duration": 667,
    "start_time": "2023-10-18T20:13:49.795Z"
   },
   {
    "duration": 3,
    "start_time": "2023-10-18T20:13:59.768Z"
   },
   {
    "duration": 4968,
    "start_time": "2023-10-18T20:14:01.677Z"
   },
   {
    "duration": 3,
    "start_time": "2023-10-18T20:17:40.370Z"
   },
   {
    "duration": 530,
    "start_time": "2023-10-18T20:18:03.678Z"
   },
   {
    "duration": 90,
    "start_time": "2023-10-18T20:18:04.538Z"
   },
   {
    "duration": 3,
    "start_time": "2023-10-18T20:18:05.205Z"
   },
   {
    "duration": 5534,
    "start_time": "2023-10-18T20:18:07.100Z"
   },
   {
    "duration": 3,
    "start_time": "2023-10-18T20:18:28.881Z"
   },
   {
    "duration": 5034,
    "start_time": "2023-10-18T20:18:30.417Z"
   },
   {
    "duration": 4,
    "start_time": "2023-10-18T20:18:52.913Z"
   },
   {
    "duration": 5097,
    "start_time": "2023-10-18T20:18:54.437Z"
   },
   {
    "duration": 3,
    "start_time": "2023-10-18T20:19:13.664Z"
   },
   {
    "duration": 755,
    "start_time": "2023-10-18T20:19:15.205Z"
   },
   {
    "duration": 719,
    "start_time": "2023-10-18T20:19:17.915Z"
   },
   {
    "duration": 3,
    "start_time": "2023-10-18T20:19:33.419Z"
   },
   {
    "duration": 1609,
    "start_time": "2023-10-18T20:19:35.015Z"
   },
   {
    "duration": 75,
    "start_time": "2023-10-18T20:20:05.512Z"
   },
   {
    "duration": 52,
    "start_time": "2023-10-18T20:20:48.778Z"
   },
   {
    "duration": 56,
    "start_time": "2023-10-18T20:21:01.102Z"
   },
   {
    "duration": 53,
    "start_time": "2023-10-18T20:21:03.594Z"
   },
   {
    "duration": 56,
    "start_time": "2023-10-18T20:21:07.092Z"
   },
   {
    "duration": 59,
    "start_time": "2023-10-18T20:21:17.374Z"
   },
   {
    "duration": 56,
    "start_time": "2023-10-18T20:21:23.406Z"
   },
   {
    "duration": 66,
    "start_time": "2023-10-18T20:21:26.858Z"
   },
   {
    "duration": 57,
    "start_time": "2023-10-18T20:22:37.151Z"
   },
   {
    "duration": 61,
    "start_time": "2023-10-18T20:23:12.731Z"
   },
   {
    "duration": 57,
    "start_time": "2023-10-18T20:23:18.118Z"
   },
   {
    "duration": 58,
    "start_time": "2023-10-18T20:23:23.692Z"
   },
   {
    "duration": 60,
    "start_time": "2023-10-18T20:23:27.461Z"
   },
   {
    "duration": 55,
    "start_time": "2023-10-18T20:23:32.679Z"
   },
   {
    "duration": 57,
    "start_time": "2023-10-18T20:23:41.911Z"
   },
   {
    "duration": 57,
    "start_time": "2023-10-18T20:23:45.458Z"
   },
   {
    "duration": 1194,
    "start_time": "2023-10-18T20:23:54.380Z"
   },
   {
    "duration": 53,
    "start_time": "2023-10-18T20:23:59.951Z"
   },
   {
    "duration": 54,
    "start_time": "2023-10-18T20:24:05.265Z"
   },
   {
    "duration": 58,
    "start_time": "2023-10-18T20:24:10.874Z"
   },
   {
    "duration": 57,
    "start_time": "2023-10-18T20:24:20.454Z"
   },
   {
    "duration": 55,
    "start_time": "2023-10-18T20:24:23.475Z"
   },
   {
    "duration": 59,
    "start_time": "2023-10-18T20:24:25.258Z"
   },
   {
    "duration": 53,
    "start_time": "2023-10-18T20:24:27.455Z"
   },
   {
    "duration": 62,
    "start_time": "2023-10-18T20:25:39.073Z"
   },
   {
    "duration": 57,
    "start_time": "2023-10-18T20:25:48.439Z"
   },
   {
    "duration": 6,
    "start_time": "2023-10-18T20:26:30.600Z"
   },
   {
    "duration": 4,
    "start_time": "2023-10-18T20:26:34.965Z"
   },
   {
    "duration": 45,
    "start_time": "2023-10-18T20:26:50.559Z"
   },
   {
    "duration": 57,
    "start_time": "2023-10-18T20:27:03.438Z"
   },
   {
    "duration": 2,
    "start_time": "2023-10-18T20:28:47.827Z"
   },
   {
    "duration": 1887,
    "start_time": "2023-10-18T20:28:49.368Z"
   },
   {
    "duration": 2,
    "start_time": "2023-10-18T20:29:11.229Z"
   },
   {
    "duration": 581,
    "start_time": "2023-10-18T20:29:12.672Z"
   },
   {
    "duration": 3,
    "start_time": "2023-10-18T20:29:37.907Z"
   },
   {
    "duration": 5036,
    "start_time": "2023-10-18T20:29:40.092Z"
   },
   {
    "duration": 3,
    "start_time": "2023-10-18T20:30:49.609Z"
   },
   {
    "duration": 3,
    "start_time": "2023-10-18T20:30:53.000Z"
   },
   {
    "duration": 4968,
    "start_time": "2023-10-18T20:30:54.418Z"
   },
   {
    "duration": 5309,
    "start_time": "2023-10-18T20:31:02.651Z"
   },
   {
    "duration": 492,
    "start_time": "2023-10-18T20:34:08.705Z"
   },
   {
    "duration": 71,
    "start_time": "2023-10-18T20:34:09.200Z"
   },
   {
    "duration": 3,
    "start_time": "2023-10-18T20:34:09.272Z"
   },
   {
    "duration": 581,
    "start_time": "2023-10-18T20:34:09.276Z"
   },
   {
    "duration": 3,
    "start_time": "2023-10-18T20:34:09.858Z"
   },
   {
    "duration": 5337,
    "start_time": "2023-10-18T20:34:09.863Z"
   },
   {
    "duration": 4063,
    "start_time": "2023-10-18T20:34:15.202Z"
   },
   {
    "duration": 5230,
    "start_time": "2023-10-18T20:34:21.615Z"
   },
   {
    "duration": 5233,
    "start_time": "2023-10-18T20:34:30.687Z"
   },
   {
    "duration": 492,
    "start_time": "2023-10-18T20:34:41.626Z"
   },
   {
    "duration": 3,
    "start_time": "2023-10-18T20:35:33.417Z"
   },
   {
    "duration": 572,
    "start_time": "2023-10-18T20:35:39.904Z"
   },
   {
    "duration": 482,
    "start_time": "2023-10-18T20:37:44.580Z"
   },
   {
    "duration": 75,
    "start_time": "2023-10-18T20:37:45.064Z"
   },
   {
    "duration": 3,
    "start_time": "2023-10-18T20:37:45.141Z"
   },
   {
    "duration": 543,
    "start_time": "2023-10-18T20:37:45.146Z"
   },
   {
    "duration": 2,
    "start_time": "2023-10-18T20:37:45.691Z"
   },
   {
    "duration": 580,
    "start_time": "2023-10-18T20:37:45.695Z"
   },
   {
    "duration": 3,
    "start_time": "2023-10-18T20:37:46.277Z"
   },
   {
    "duration": 5400,
    "start_time": "2023-10-18T20:37:46.282Z"
   },
   {
    "duration": 495,
    "start_time": "2023-10-18T20:37:51.683Z"
   },
   {
    "duration": 4288,
    "start_time": "2023-10-18T20:37:52.180Z"
   },
   {
    "duration": 4598,
    "start_time": "2023-10-18T20:51:16.056Z"
   },
   {
    "duration": 513,
    "start_time": "2023-10-19T00:46:06.520Z"
   },
   {
    "duration": 84,
    "start_time": "2023-10-19T00:46:07.035Z"
   },
   {
    "duration": 2,
    "start_time": "2023-10-19T00:46:07.121Z"
   },
   {
    "duration": 577,
    "start_time": "2023-10-19T00:46:07.124Z"
   },
   {
    "duration": 2,
    "start_time": "2023-10-19T00:46:07.703Z"
   },
   {
    "duration": 611,
    "start_time": "2023-10-19T00:46:07.706Z"
   },
   {
    "duration": 3,
    "start_time": "2023-10-19T00:46:08.319Z"
   },
   {
    "duration": 5368,
    "start_time": "2023-10-19T00:46:08.323Z"
   },
   {
    "duration": 511,
    "start_time": "2023-10-19T00:46:13.693Z"
   },
   {
    "duration": 3828,
    "start_time": "2023-10-19T00:46:14.205Z"
   },
   {
    "duration": 594,
    "start_time": "2023-10-19T03:50:46.014Z"
   },
   {
    "duration": 11,
    "start_time": "2023-10-19T03:50:46.610Z"
   },
   {
    "duration": 3,
    "start_time": "2023-10-19T03:50:46.623Z"
   },
   {
    "duration": 1469,
    "start_time": "2023-10-19T03:50:46.628Z"
   },
   {
    "duration": 3,
    "start_time": "2023-10-19T03:50:48.099Z"
   },
   {
    "duration": 2118,
    "start_time": "2023-10-19T03:50:48.104Z"
   },
   {
    "duration": 4,
    "start_time": "2023-10-19T03:50:50.224Z"
   },
   {
    "duration": 6992,
    "start_time": "2023-10-19T03:50:50.230Z"
   },
   {
    "duration": 536,
    "start_time": "2023-10-19T03:50:57.224Z"
   },
   {
    "duration": 5057,
    "start_time": "2023-10-19T03:50:57.764Z"
   },
   {
    "duration": 596,
    "start_time": "2023-10-20T03:50:47.588Z"
   },
   {
    "duration": 20,
    "start_time": "2023-10-20T03:50:48.186Z"
   },
   {
    "duration": 4,
    "start_time": "2023-10-20T03:50:48.208Z"
   },
   {
    "duration": 1331,
    "start_time": "2023-10-20T03:50:48.214Z"
   },
   {
    "duration": 3,
    "start_time": "2023-10-20T03:50:49.548Z"
   },
   {
    "duration": 1231,
    "start_time": "2023-10-20T03:50:49.552Z"
   },
   {
    "duration": 2,
    "start_time": "2023-10-20T03:50:50.786Z"
   },
   {
    "duration": 6569,
    "start_time": "2023-10-20T03:50:50.790Z"
   },
   {
    "duration": 528,
    "start_time": "2023-10-20T03:50:57.361Z"
   },
   {
    "duration": 6182,
    "start_time": "2023-10-20T03:50:57.891Z"
   },
   {
    "duration": 661,
    "start_time": "2023-10-20T08:41:49.205Z"
   },
   {
    "duration": 94,
    "start_time": "2023-10-20T08:41:49.868Z"
   },
   {
    "duration": 3,
    "start_time": "2023-10-20T08:41:49.965Z"
   },
   {
    "duration": 576,
    "start_time": "2023-10-20T08:41:49.970Z"
   },
   {
    "duration": 3,
    "start_time": "2023-10-20T08:41:50.549Z"
   },
   {
    "duration": 1871,
    "start_time": "2023-10-20T08:41:50.558Z"
   },
   {
    "duration": 4,
    "start_time": "2023-10-20T08:41:52.431Z"
   },
   {
    "duration": 6454,
    "start_time": "2023-10-20T08:41:52.436Z"
   },
   {
    "duration": 571,
    "start_time": "2023-10-20T08:41:58.892Z"
   },
   {
    "duration": 7186,
    "start_time": "2023-10-20T08:41:59.465Z"
   },
   {
    "duration": 542,
    "start_time": "2024-02-05T07:21:19.373Z"
   },
   {
    "duration": 90,
    "start_time": "2024-02-05T07:21:19.917Z"
   },
   {
    "duration": 3,
    "start_time": "2024-02-05T07:21:20.009Z"
   },
   {
    "duration": 586,
    "start_time": "2024-02-05T07:21:20.014Z"
   },
   {
    "duration": 2,
    "start_time": "2024-02-05T07:21:20.603Z"
   },
   {
    "duration": 681,
    "start_time": "2024-02-05T07:21:20.607Z"
   },
   {
    "duration": 4,
    "start_time": "2024-02-05T07:21:21.289Z"
   },
   {
    "duration": 5224,
    "start_time": "2024-02-05T07:21:21.294Z"
   },
   {
    "duration": 444,
    "start_time": "2024-02-05T07:21:26.519Z"
   },
   {
    "duration": 4383,
    "start_time": "2024-02-05T07:21:26.965Z"
   }
  ],
  "kernelspec": {
   "display_name": "Python 3 (ipykernel)",
   "language": "python",
   "name": "python3"
  },
  "language_info": {
   "codemirror_mode": {
    "name": "ipython",
    "version": 3
   },
   "file_extension": ".py",
   "mimetype": "text/x-python",
   "name": "python",
   "nbconvert_exporter": "python",
   "pygments_lexer": "ipython3",
   "version": "3.11.5"
  },
  "toc": {
   "base_numbering": 1,
   "nav_menu": {},
   "number_sections": true,
   "sideBar": true,
   "skip_h1_title": true,
   "title_cell": "Table of Contents",
   "title_sidebar": "Contents",
   "toc_cell": false,
   "toc_position": {},
   "toc_section_display": true,
   "toc_window_display": false
  }
 },
 "nbformat": 4,
 "nbformat_minor": 5
}
