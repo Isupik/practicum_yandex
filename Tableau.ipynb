{
 "cells": [
  {
   "cell_type": "markdown",
   "id": "f3607024",
   "metadata": {},
   "source": [
    "# Самостоятельный проект"
   ]
  },
  {
   "cell_type": "markdown",
   "id": "313b8e88",
   "metadata": {},
   "source": [
    "**Описание проекта**\n",
    "\n",
    "TED (от англ. technology, education, design — «технологии, образование, дизайн») — некоммерческий фонд, который проводит популярные конференции. На них выступают специалисты из разных областей и читают лекции на актуальные социальные, культурные и научные темы.\n",
    "\n",
    "В разное время на TED-конференциях выступали математик Бенуа Мандельброт, теоретик искусственного интеллекта Марвин Минский, спортсменка Дана Ньяд и основатель Google Ларри Пейдж. В истории TED также были неоднозначные и даже скандальные выступления. Например, в 2010 году на конференции выступил Рэнди Пауэлл с рассказом о псевдонаучной «вихревой математике», а в 2014 году в конференции TEDMED участвовала Элизабет Холмс — основательница печально известного стартапа Theranos."
   ]
  },
  {
   "cell_type": "markdown",
   "id": "bd3297de",
   "metadata": {},
   "source": [
    "https://public.tableau.com/app/profile/.36841714/viz/_16972780835330/Story1?publish=yes"
   ]
  }
 ],
 "metadata": {
  "ExecuteTimeLog": [
   {
    "duration": 129,
    "start_time": "2023-10-16T20:05:54.604Z"
   },
   {
    "duration": 87,
    "start_time": "2023-10-17T19:24:56.110Z"
   },
   {
    "duration": 79,
    "start_time": "2023-10-17T19:25:22.782Z"
   }
  ],
  "kernelspec": {
   "display_name": "Python 3 (ipykernel)",
   "language": "python",
   "name": "python3"
  },
  "language_info": {
   "codemirror_mode": {
    "name": "ipython",
    "version": 3
   },
   "file_extension": ".py",
   "mimetype": "text/x-python",
   "name": "python",
   "nbconvert_exporter": "python",
   "pygments_lexer": "ipython3",
   "version": "3.11.5"
  },
  "toc": {
   "base_numbering": 1,
   "nav_menu": {},
   "number_sections": true,
   "sideBar": true,
   "skip_h1_title": true,
   "title_cell": "Table of Contents",
   "title_sidebar": "Contents",
   "toc_cell": false,
   "toc_position": {},
   "toc_section_display": true,
   "toc_window_display": false
  }
 },
 "nbformat": 4,
 "nbformat_minor": 5
}
