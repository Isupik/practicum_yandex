{
 "cells": [
  {
   "cell_type": "markdown",
   "id": "eeb9a56d",
   "metadata": {},
   "source": [
    "# Описание данных"
   ]
  },
  {
   "cell_type": "markdown",
   "id": "dcaaf0df",
   "metadata": {},
   "source": [
    "Проект состоит из двух частей:\n",
    "\n",
    "    В первой части вы решите несколько задач в SQL-тренажёре, чтобы закрепить пройденный материал.\n",
    "    Вторая часть проекта — аналитическая. Проверять задачи по-прежнему будет тренажёр. Однако мы рекомендуем самостоятельно анализировать полученные результаты и формулировать выводы.\n",
    "    \n",
    "Внимательно читайте условия. Формулировки задач в проекте приближены к реальной жизни. В работе часто встретятся такие формулировки: «рассчитать LTV за последние 30 дней», «отобразить самых активных покупателей» или даже «определить, почему в компании упали продажи».\n",
    "\n",
    "В самостоятельном проекте вы будете работать с базой данных StackOverflow — сервиса вопросов и ответов о программировании. StackOverflow похож на социальную сеть — пользователи сервиса задают вопросы, отвечают на посты, оставляют комментарии и ставят оценки другим ответам.\n",
    "\n",
    "Вы будете работать с версией базы, где хранятся данные о постах за 2008 год, но в таблицах вы найдёте информацию и о более поздних оценках, которые эти посты получили. "
   ]
  },
  {
   "cell_type": "markdown",
   "id": "6b5c1d25",
   "metadata": {},
   "source": [
    "### Изучите ER-диаграмму базы:"
   ]
  },
  {
   "cell_type": "markdown",
   "id": "7d25c2c6",
   "metadata": {},
   "source": [
    "![ER](https://pictures.s3.yandex.net/resources/Frame_353_1_1664969703.png)"
   ]
  },
  {
   "cell_type": "markdown",
   "id": "6894e16e",
   "metadata": {},
   "source": [
    "### Первая часть"
   ]
  },
  {
   "cell_type": "markdown",
   "id": "b094164f",
   "metadata": {},
   "source": [
    "**1. Найдите количество вопросов, которые набрали больше 300 очков или как минимум 100 раз были добавлены в «Закладки».**"
   ]
  },
  {
   "cell_type": "code",
   "execution_count": null,
   "id": "c24ba4ff",
   "metadata": {},
   "outputs": [],
   "source": [
    "SELECT COUNT(type)\n",
    "FROM stackoverflow.posts\n",
    "JOIN stackoverflow.post_types ON  stackoverflow.post_types.id = stackoverflow.posts.post_type_id \n",
    "WHERE type = 'Question' AND (score > 300 OR favorites_count >= 100)"
   ]
  },
  {
   "cell_type": "markdown",
   "id": "162bcfbf",
   "metadata": {},
   "source": [
    "**2. Сколько в среднем в день задавали вопросов с 1 по 18 ноября 2008 включительно? Результат округлите до целого числа.**"
   ]
  },
  {
   "cell_type": "code",
   "execution_count": null,
   "id": "7ef8113a",
   "metadata": {},
   "outputs": [],
   "source": [
    "SELECT ROUND(AVG(q.count_), 0)\n",
    "FROM (\n",
    "      SELECT COUNT(id) AS count_,\n",
    "             creation_date::date\n",
    "      FROM stackoverflow.posts\n",
    "      WHERE post_type_id = 1\n",
    "      GROUP BY creation_date::date\n",
    "      HAVING creation_date::date BETWEEN '2008-11-01' AND '2008-11-18') AS q;"
   ]
  },
  {
   "cell_type": "markdown",
   "id": "d091dc9c",
   "metadata": {},
   "source": [
    "**3. Сколько пользователей получили значки сразу в день регистрации? Выведите количество уникальных пользователей.**"
   ]
  },
  {
   "cell_type": "code",
   "execution_count": null,
   "id": "18ed7fce",
   "metadata": {},
   "outputs": [],
   "source": [
    "SELECT COUNT(DISTINCT b.user_id)\n",
    "FROM stackoverflow.badges AS b\n",
    "JOIN stackoverflow.users AS u ON u.id=b.user_id\n",
    "WHERE u.creation_date::date = b.creation_date::date"
   ]
  },
  {
   "cell_type": "markdown",
   "id": "a7c48993",
   "metadata": {},
   "source": [
    "**4. Сколько уникальных постов пользователя с именем Joel Coehoorn получили хотя бы один голос?**"
   ]
  },
  {
   "cell_type": "code",
   "execution_count": null,
   "id": "c4b0c0df",
   "metadata": {},
   "outputs": [],
   "source": [
    "SELECT COUNT(tabl_1.id)\n",
    "FROM (SELECT po.id\n",
    "      FROM stackoverflow.posts AS po\n",
    "      JOIN stackoverflow.votes AS v ON po.id=v.post_id\n",
    "      JOIN stackoverflow.users AS u ON po.user_id=u.id\n",
    "      WHERE u.display_name LIKE 'Joel Coehoorn' AND v.id >= 1\n",
    "      GROUP BY po.id) AS tabl_1;"
   ]
  },
  {
   "cell_type": "markdown",
   "id": "621f8a80",
   "metadata": {},
   "source": [
    "**5. Выгрузите все поля таблицы `vote_types`. Добавьте к таблице поле rank, в которое войдут номера записей в обратном порядке. Таблица должна быть отсортирована по полю `id`.**"
   ]
  },
  {
   "cell_type": "code",
   "execution_count": null,
   "id": "d6917e0c",
   "metadata": {},
   "outputs": [],
   "source": [
    "SELECT *,\n",
    "    ROW_NUMBER() OVER (ORDER BY vote_types.id DESC) AS rank\n",
    "FROM stackoverflow.vote_types\n",
    "ORDER BY vote_types.id "
   ]
  },
  {
   "cell_type": "markdown",
   "id": "086e2b70",
   "metadata": {},
   "source": [
    "**6. Отберите 10 пользователей, которые поставили больше всего голосов типа `Close`.** \n",
    "\n",
    "**Отобразите таблицу из двух полей:** \n",
    "* **идентификатором пользователя**\n",
    "* **количеством голосов.**\n",
    "\n",
    "**Отсортируйте данные сначала по убыванию количества голосов, потом по убыванию значения идентификатора пользователя.**"
   ]
  },
  {
   "cell_type": "code",
   "execution_count": null,
   "id": "76c8c900",
   "metadata": {},
   "outputs": [],
   "source": [
    "SELECT *\n",
    "FROM (SELECT v.user_id,\n",
    "             COUNT(vt.id) AS v_count\n",
    "      FROM stackoverflow.votes AS v\n",
    "      JOIN stackoverflow.vote_types AS vt ON vt.id=v.vote_type_id\n",
    "      WHERE vt.name LIKE 'Close'\n",
    "      GROUP BY v.user_id\n",
    "      ORDER BY v_count DESC\n",
    "      LIMIT 10) AS tabl_1\n",
    "ORDER BY tabl_1.v_count DESC, tabl_1.user_id DESC;"
   ]
  },
  {
   "cell_type": "markdown",
   "id": "474c87eb",
   "metadata": {},
   "source": [
    "**7. Отберите 10 пользователей по количеству значков, полученных в период с 15 ноября по 15 декабря 2008 года включительно.**\n",
    "\n",
    "**Отобразите несколько полей:**\n",
    "* **идентификатор пользователя;**\n",
    "* **число значков;**\n",
    "* **место в рейтинге — чем больше значков, тем выше рейтинг.**\n",
    "\n",
    "**Пользователям, которые набрали одинаковое количество значков, присвойте одно и то же место в рейтинге.**\n",
    "**Отсортируйте записи по количеству значков по убыванию, а затем по возрастанию значения идентификатора пользователя.**"
   ]
  },
  {
   "cell_type": "code",
   "execution_count": null,
   "id": "25cc5bbb",
   "metadata": {},
   "outputs": [],
   "source": [
    "SELECT *,\n",
    "      DENSE_RANK() OVER (ORDER BY table_1.b_count DESC) AS rating\n",
    "FROM (SELECT user_id,\n",
    "             COUNT(id) AS b_count\n",
    "      FROM stackoverflow.badges\n",
    "      WHERE creation_date::date BETWEEN '2008-11-15' AND '2008-12-15' \n",
    "      GROUP BY user_id\n",
    "      ORDER BY b_count DESC, user_id LIMIT 10) as table_1;"
   ]
  },
  {
   "cell_type": "markdown",
   "id": "01348afd",
   "metadata": {},
   "source": [
    "**8. Сколько в среднем очков получает пост каждого пользователя?**\n",
    "\n",
    "**Сформируйте таблицу из следующих полей:**\n",
    "* **заголовок поста;**\n",
    "* **идентификатор пользователя;**\n",
    "* **число очков поста;**\n",
    "* **среднее число очков пользователя за пост, округлённое до целого числа.**\n",
    "\n",
    "**Не учитывайте посты без заголовка, а также те, что набрали ноль очков.**"
   ]
  },
  {
   "cell_type": "code",
   "execution_count": null,
   "id": "d841ab95",
   "metadata": {},
   "outputs": [],
   "source": [
    "WITH table_1 AS (\n",
    "            SELECT ROUND(AVG(score)) AS avg_score,\n",
    "                   user_id\n",
    "            FROM stackoverflow.posts\n",
    "            WHERE title IS NOT NULL AND score != 0\n",
    "            GROUP BY user_id\n",
    ")\n",
    "\n",
    "SELECT po.title,\n",
    "       table_1.user_id,\n",
    "       po.score,\n",
    "       table_1.avg_score\n",
    "FROM table_1\n",
    "JOIN stackoverflow.posts AS po ON table_1.user_id=po.user_id\n",
    "WHERE po.title IS NOT NULL AND po.score != 0;"
   ]
  },
  {
   "cell_type": "markdown",
   "id": "c3c40375",
   "metadata": {},
   "source": [
    "**9. Отобразите заголовки постов, которые были написаны пользователями, получившими более 1000 значков. Посты без заголовков не должны попасть в список.**"
   ]
  },
  {
   "cell_type": "code",
   "execution_count": null,
   "id": "e6a99718",
   "metadata": {},
   "outputs": [],
   "source": [
    "SELECT title\n",
    "FROM stackoverflow.posts\n",
    "WHERE user_id IN (SELECT user_id\n",
    "                  FROM stackoverflow.badges\n",
    "                  GROUP BY user_id\n",
    "                  HAVING COUNT(id) >1000)\n",
    "              AND title IS NOT NULL;"
   ]
  },
  {
   "cell_type": "markdown",
   "id": "13b1930c",
   "metadata": {},
   "source": [
    "**10. Напишите запрос, который выгрузит данные о пользователях из Канады (англ. Canada). Разделите пользователей на три группы в зависимости от количества просмотров их профилей:**\n",
    "* **пользователям с числом просмотров больше либо равным 350 присвойте группу 1;**\n",
    "* **пользователям с числом просмотров меньше 350, но больше либо равно 100 — группу 2;**\n",
    "* **пользователям с числом просмотров меньше 100 — группу 3.**\n",
    "\n",
    "**Отобразите в итоговой таблице идентификатор пользователя, количество просмотров профиля и группу. Пользователи с количеством просмотров меньше либо равным нулю не должны войти в итоговую таблицу.**"
   ]
  },
  {
   "cell_type": "code",
   "execution_count": null,
   "id": "2426eba8",
   "metadata": {},
   "outputs": [],
   "source": [
    "SELECT id,\n",
    "       views,\n",
    "       CASE\n",
    "          WHEN views >= 350 THEN 1\n",
    "          WHEN views < 350 and views >= 100 THEN 2\n",
    "          WHEN views < 100 THEN 3\n",
    "       END AS group\n",
    "FROM stackoverflow.users\n",
    "WHERE location LIKE '%Canada%' AND views != 0;"
   ]
  },
  {
   "cell_type": "markdown",
   "id": "7369ce7c",
   "metadata": {},
   "source": [
    "**11. Дополните предыдущий запрос. Отобразите лидеров каждой группы — пользователей, которые набрали максимальное число просмотров в своей группе. Выведите поля с идентификатором пользователя, группой и количеством просмотров. Отсортируйте таблицу по убыванию просмотров, а затем по возрастанию значения идентификатора.**"
   ]
  },
  {
   "cell_type": "code",
   "execution_count": null,
   "id": "29128ffe",
   "metadata": {},
   "outputs": [],
   "source": [
    "WITH table_1 AS (SELECT ca.id,\n",
    "                    ca.views,\n",
    "                    ca.group,\n",
    "                    MAX(ca.views) OVER (PARTITION BY ca.group) AS max_   \n",
    "                 FROM (SELECT \n",
    "                           id,\n",
    "                           views,\n",
    "                           CASE\n",
    "                               WHEN views >= 350 THEN 1\n",
    "                               WHEN views < 350 and views >= 100 THEN 2\n",
    "                               WHEN views < 100 THEN 3\n",
    "                           END AS group\n",
    "                       FROM stackoverflow.users\n",
    "                       WHERE location LIKE '%Canada%' AND views != 0) AS ca\n",
    ")\n",
    "\n",
    "SELECT table_1.id, \n",
    "       table_1.views,  \n",
    "       table_1.group\n",
    "FROM table_1\n",
    "WHERE table_1.views = table_1.max_\n",
    "ORDER BY table_1.views DESC, table_1.id;"
   ]
  },
  {
   "cell_type": "markdown",
   "id": "a7808337",
   "metadata": {},
   "source": [
    "**12. Посчитайте ежедневный прирост новых пользователей в ноябре 2008 года. Сформируйте таблицу с полями:**\n",
    "* **номер дня;**\n",
    "* **число пользователей, зарегистрированных в этот день;**\n",
    "* **сумму пользователей с накоплением.**"
   ]
  },
  {
   "cell_type": "code",
   "execution_count": null,
   "id": "7d49d776",
   "metadata": {},
   "outputs": [],
   "source": [
    "SELECT *,\n",
    "       SUM(uc.count_reg) OVER (ORDER BY uc.days) as count_users\n",
    "FROM (SELECT EXTRACT(DAY FROM creation_date::date) AS days,\n",
    "             COUNT(id) AS count_reg\n",
    "      FROM stackoverflow.users\n",
    "      WHERE creation_date::date BETWEEN '2008-11-01' AND '2008-11-30'\n",
    "      GROUP BY EXTRACT(DAY FROM creation_date::date)\n",
    "      ) as uc;"
   ]
  },
  {
   "cell_type": "markdown",
   "id": "d0422f65",
   "metadata": {},
   "source": [
    "**13. Для каждого пользователя, который написал хотя бы один пост, найдите интервал между регистрацией и временем создания первого поста.**\n",
    "\n",
    "**Отобразите:**\n",
    "* **идентификатор пользователя;**\n",
    "* **разницу во времени между регистрацией и первым постом.**"
   ]
  },
  {
   "cell_type": "code",
   "execution_count": null,
   "id": "005ef916",
   "metadata": {},
   "outputs": [],
   "source": [
    "WITH table_1 AS (\n",
    "                SELECT \n",
    "                    DISTINCT user_id,\n",
    "                    MIN(creation_date) OVER (PARTITION BY user_id) AS min_dt      \n",
    "                FROM stackoverflow.posts\n",
    ")\n",
    "\n",
    "SELECT \n",
    "    table_1.user_id,\n",
    "    (table_1.min_dt - u.creation_date) AS diff\n",
    "FROM stackoverflow.users AS u \n",
    "JOIN table_1 ON u.id = table_1.user_id;"
   ]
  },
  {
   "cell_type": "markdown",
   "id": "23a65944",
   "metadata": {},
   "source": [
    "### Вторая часть"
   ]
  },
  {
   "cell_type": "markdown",
   "id": "c2387bac",
   "metadata": {},
   "source": [
    "**1. Выведите общую сумму просмотров у постов, опубликованных в каждый месяц 2008 года. Если данных за какой-либо месяц в базе нет, такой месяц можно пропустить. Результат отсортируйте по убыванию общего количества просмотров.**"
   ]
  },
  {
   "cell_type": "code",
   "execution_count": null,
   "id": "6215d2c2",
   "metadata": {},
   "outputs": [],
   "source": [
    "SELECT \n",
    "    DATE_TRUNC('month', creation_date)::date AS month_,\n",
    "    SUM(views_count) \n",
    "FROM stackoverflow.posts\n",
    "GROUP BY DATE_TRUNC('month', creation_date)\n",
    "ORDER BY SUM(views_count) DESC;"
   ]
  },
  {
   "cell_type": "markdown",
   "id": "938a52d0",
   "metadata": {},
   "source": [
    "**2. Выведите имена самых активных пользователей, которые в первый месяц после регистрации (включая день регистрации) дали больше 100 ответов. Вопросы, которые задавали пользователи, не учитывайте. Для каждого имени пользователя выведите количество уникальных значений `user_id`. Отсортируйте результат по полю с именами в лексикографическом порядке.**"
   ]
  },
  {
   "cell_type": "code",
   "execution_count": null,
   "id": "30a01326",
   "metadata": {},
   "outputs": [],
   "source": [
    "SELECT \n",
    "    u.display_name,\n",
    "    COUNT(DISTINCT po.user_id)\n",
    "FROM stackoverflow.posts AS po\n",
    "JOIN stackoverflow.users AS u ON po.user_id=u.id\n",
    "JOIN stackoverflow.post_types AS pt ON pt.id=po.post_type_id\n",
    "WHERE po.creation_date::date BETWEEN u.creation_date::date AND (u.creation_date::date + INTERVAL '1 month') \n",
    "    AND pt.type LIKE '%Answer%'\n",
    "GROUP BY u.display_name\n",
    "HAVING COUNT(po.id) > 100\n",
    "ORDER BY u.display_name;"
   ]
  },
  {
   "cell_type": "markdown",
   "id": "630e261c",
   "metadata": {},
   "source": [
    "**3. Выведите количество постов за 2008 год по месяцам. Отберите посты от пользователей, которые зарегистрировались в сентябре 2008 года и сделали хотя бы один пост в декабре того же года. Отсортируйте таблицу по значению месяца по убыванию.**"
   ]
  },
  {
   "cell_type": "code",
   "execution_count": null,
   "id": "80235506",
   "metadata": {},
   "outputs": [],
   "source": [
    "WITH table_1 AS (\n",
    "               SELECT \n",
    "                   u.id\n",
    "               FROM stackoverflow.posts AS po\n",
    "               JOIN stackoverflow.users AS u ON po.user_id=u.id\n",
    "               WHERE DATE_TRUNC('month', u.creation_date)::date = '2008-09-01' \n",
    "                     AND DATE_TRUNC('month', po.creation_date)::date = '2008-12-01'\n",
    "               GROUP BY u.id\n",
    "               HAVING COUNT(po.id) != 0\n",
    ")\n",
    "\n",
    "SELECT \n",
    "    COUNT(po.id),\n",
    "    DATE_TRUNC('month', po.creation_date)::date\n",
    "FROM stackoverflow.posts AS po\n",
    "WHERE po.user_id IN (SELECT * FROM table_1)\n",
    "      AND DATE_TRUNC('year', po.creation_date)::date = '2008-01-01'\n",
    "GROUP BY DATE_TRUNC('month', po.creation_date)::date\n",
    "ORDER BY DATE_TRUNC('month', po.creation_date)::date DESC;"
   ]
  },
  {
   "cell_type": "markdown",
   "id": "a7ae2e91",
   "metadata": {},
   "source": [
    "**4. Используя данные о постах, выведите несколько полей:**\n",
    "* **идентификатор пользователя, который написал пост;**\n",
    "* **дата создания поста;**\n",
    "* **количество просмотров у текущего поста;**\n",
    "* **сумма просмотров постов автора с накоплением.**\n",
    "\n",
    "**Данные в таблице должны быть отсортированы по возрастанию идентификаторов пользователей, а данные об одном и том же пользователе — по возрастанию даты создания поста.**"
   ]
  },
  {
   "cell_type": "code",
   "execution_count": null,
   "id": "d6673437",
   "metadata": {},
   "outputs": [],
   "source": [
    "SELECT \n",
    "    user_id,\n",
    "    creation_date,\n",
    "    views_count,\n",
    "    SUM(views_count) OVER (PARTITION BY user_id ORDER BY creation_date)\n",
    "FROM stackoverflow.posts \n",
    "ORDER BY user_id;"
   ]
  },
  {
   "cell_type": "markdown",
   "id": "7e28a4a0",
   "metadata": {},
   "source": [
    "**5. Сколько в среднем дней в период с 1 по 7 декабря 2008 года включительно пользователи взаимодействовали с платформой? Для каждого пользователя отберите дни, в которые он или она опубликовали хотя бы один пост. Нужно получить одно целое число — не забудьте округлить результат.**"
   ]
  },
  {
   "cell_type": "code",
   "execution_count": null,
   "id": "87b0d64c",
   "metadata": {},
   "outputs": [],
   "source": [
    "WITH table_1 AS (\n",
    "                SELECT \n",
    "                    user_id,\n",
    "                    COUNT(DISTINCT creation_date::date) AS count_\n",
    "                FROM stackoverflow.posts\n",
    "                WHERE creation_date::date BETWEEN '2008-12-01' AND '2008-12-07' \n",
    "                GROUP BY user_id\n",
    ")\n",
    "\n",
    "SELECT ROUND(AVG(table_1.count_))\n",
    "FROM table_1;"
   ]
  },
  {
   "cell_type": "markdown",
   "id": "a248a9b9",
   "metadata": {},
   "source": [
    "**6. На сколько процентов менялось количество постов ежемесячно с 1 сентября по 31 декабря 2008 года? Отобразите таблицу со следующими полями:**\n",
    "* **Номер месяца.**\n",
    "* **Количество постов за месяц.**\n",
    "* **Процент, который показывает, насколько изменилось количество постов в текущем месяце по сравнению с предыдущим.**\n",
    "\n",
    "**Если постов стало меньше, значение процента должно быть отрицательным, если больше — положительным. Округлите значение процента до двух знаков после запятой.\n",
    "Напомним, что при делении одного целого числа на другое в PostgreSQL в результате получится целое число, округлённое до ближайшего целого вниз. Чтобы этого избежать, переведите делимое в тип `numeric`.**"
   ]
  },
  {
   "cell_type": "code",
   "execution_count": null,
   "id": "8d555beb",
   "metadata": {},
   "outputs": [],
   "source": [
    "WITH table_1 AS (SELECT \n",
    "                     EXTRACT(MONTH FROM creation_date::date) AS month_,\n",
    "                     COUNT(DISTINCT id) AS count_   \n",
    "                 FROM stackoverflow.posts\n",
    "                 WHERE creation_date::date BETWEEN '2008-09-01' AND '2008-12-31'\n",
    "                 GROUP BY month_)\n",
    "\n",
    "SELECT *,\n",
    "       ROUND(((count_::numeric / LAG(count_) OVER (ORDER BY month_)) - 1) * 100, 2) AS user_growth\n",
    "FROM table_1;"
   ]
  },
  {
   "cell_type": "markdown",
   "id": "cbc081d5",
   "metadata": {},
   "source": [
    "**7. Найдите пользователя, который опубликовал больше всего постов за всё время с момента регистрации.**\n",
    "\n",
    "**Выведите данные его активности за октябрь 2008 года в таком виде:**\n",
    "* **номер недели;**\n",
    "* **дата и время последнего поста, опубликованного на этой неделе.**"
   ]
  },
  {
   "cell_type": "code",
   "execution_count": null,
   "id": "164b4993",
   "metadata": {},
   "outputs": [],
   "source": [
    "WITH table_1 AS (SELECT \n",
    "                     user_id,\n",
    "                     COUNT(DISTINCT id) AS cnt\n",
    "                 FROM stackoverflow.posts\n",
    "                 GROUP BY user_id\n",
    "                 ORDER BY cnt DESC\n",
    "                 LIMIT 1\n",
    "),\n",
    "\n",
    "      table_2 AS (SELECT \n",
    "                      po.user_id,\n",
    "                      po.creation_date,\n",
    "                      EXTRACT('week' FROM po.creation_date) AS week_number\n",
    "                  FROM stackoverflow.posts AS po\n",
    "                  JOIN table_1 ON table_1.user_id = po.user_id\n",
    "                  WHERE DATE_TRUNC('month', po.creation_date)::date = '2008-10-01')\n",
    "\n",
    "SELECT DISTINCT \n",
    "    week_number::numeric,\n",
    "    MAX(creation_date) OVER (PARTITION BY week_number) AS post_dt\n",
    "FROM table_2\n",
    "ORDER BY week_number;"
   ]
  }
 ],
 "metadata": {
  "kernelspec": {
   "display_name": "Python 3 (ipykernel)",
   "language": "python",
   "name": "python3"
  },
  "language_info": {
   "codemirror_mode": {
    "name": "ipython",
    "version": 3
   },
   "file_extension": ".py",
   "mimetype": "text/x-python",
   "name": "python",
   "nbconvert_exporter": "python",
   "pygments_lexer": "ipython3",
   "version": "3.11.5"
  }
 },
 "nbformat": 4,
 "nbformat_minor": 5
}
