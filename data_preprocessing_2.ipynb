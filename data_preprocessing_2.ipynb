{
 "cells": [
  {
   "cell_type": "markdown",
   "id": "748a99ab",
   "metadata": {},
   "source": [
    "## **Комментарий ревьюера**\n",
    "\n",
    "Привет 👋\n",
    "\n",
    "Меня зовут Валентин, и я буду проверять твой проект. Предлагаю сразу договориться общаться на «ты», если для тебя это не уместно, то дай, пожалуйста, знать, будем общаться на «вы».\n",
    "\n",
    "### **Краткое резюме по ревью**\n",
    "\n",
    "<div style=\"border-radius: 15px; box-shadow: 2px 2px 4px; border: 1px solid; background:Gainsboro; padding: 20px\">\n",
    "        \n",
    "Видны твои старания при работе над данным проектом. Большинство основных этапов в работе сделано хорошо:\n",
    "- есть много сильных и интересных алгоритмов 🤩\n",
    "- детально изучены многие тонкости данных\n",
    "- здорово сделана предобработка данных\n",
    "- качественно исследованы данные\n",
    "- сделано много верных промежуточных выводов, основанных на полученных данных\n",
    "\n",
    "Твоего внимания требует:\n",
    "- пересмотр вывода\n",
    "\n",
    "Я описал замечания в комментариях, которые помечены цветом(красным, желтым), после их доработки я смогу принять работу.\n",
    "    \n",
    "Спасибо тебе за твой труд! Я на все 100% уверен, что у тебя все получится, и с нетерпением буду ждать твою работу на повторное ревью 😉\n",
    "\n",
    "</div>\n",
    "\n",
    "### **PS:**\n",
    "\n",
    "Хочу поделиться дополнительным материалом, он бесплатный, но объемный(может уйти несколько месяцев):\n",
    "- У Тимофея Хирьянова есть [Плей-лист по алгоритмам на python](https://www.youtube.com/playlist?list=PLRDzFCPr95fK7tr47883DFUbm4GeOjjc0), это вроде просто видео-лекции, но в описании есть ссылка на лекции и практику, не стесняйся смотреть, преподаватель очень наглядно объясняет материал. На первых уроках задания могут показаться сложными, так как требует знания геометрии, не стесняйся проходить далее, будет проще)\n",
    "\n",
    "### **Правила оформления:**\n",
    "\n",
    "По ходу тетрадки ты найдешь комментарии к проекту, они будут в отдельных ячейках Markdown с заголовком «Комментарий ревьюера». Постарайся учесть эти комментарии для дальнейших проектов. Я использую заголовки в комментариях, они изменят твое оглавление. Но тебе будет удобно перемещаться от комментария к комментарию. А перед перемещением проекта в портфолио просто уберешь данные комментарии.\n",
    "\n",
    "Пожалуйста, **не перемещай, не изменяй и не удаляй мои комментарии**. Всё это поможет выполнить повторную проверку твоего проекта быстрее.\n",
    "\n",
    "Я буду красить комментарии цветом:\n",
    "\n",
    "<div class=\"alert alert-danger\"; style=\"border-left: 7px solid FireBrick\">\n",
    "<h4> ❌ <font color=\"FireBrick\">Комментарий ревьюера (красный)</font></h4>\n",
    "\n",
    "Такой комментарий нужно исправить обязательно, он критически влияет на удачное выполнение проекта.\n",
    "\n",
    "Также жду от тебя комментарии, где вкратце опишешь изменения, которые были внесены.\n",
    "</div>\n",
    "\n",
    "<div class=\"alert alert-warning\"; style=\"border-left: 7px solid Gold\">\n",
    "<h4> ⚠️ <font color=\"DarkGoldenRod\">Комментарий ревьюера (желтый)</font></h4>\n",
    "\n",
    "Такой комментарий является рекомендацией или советом. Можешь использовать их на своё усмотрение.\n",
    "    \n",
    "В случае изменений кода, опиши, пожалуйста, вкратце то, что изменилось. Если изменений не было, то просто опиши свои мысли на эту тему.\n",
    "</div>\n",
    "\n",
    "<div class=\"alert alert-success\"; style=\"border-left: 7px solid green\">\n",
    "<h4> ✔️ <font color=\"green\">Комментарий ревьюера (зеленый)</font></h4>\n",
    "\n",
    "Такой комментарий говорит о том, что было сделано что-то качественное и правильное 😃\n",
    "    \n",
    "Я не буду ждать твоего комментария, но буду ему очень рад 🤗\n",
    "</div>\n",
    "\n",
    "Чтобы мы были на одной волне, рекомендую общаться в том же стиле 😊 Твои ответы на мои комментарии будут подкрашиваться в синий цвет.\n",
    "\n",
    "Ниже я оформил образец для твоего удобства, тебе остается только добавить после моего комментария ячейку с типом **Markdown**, скопировать туда код(чтобы увидеть код дважды, кликни на ячейку) из образца и написать свои мысли по поводу комментария."
   ]
  },
  {
   "cell_type": "markdown",
   "id": "9d1b2662",
   "metadata": {},
   "source": [
    "<div class=\"alert alert-info\"; style=\"border-left: 7px solid SteelBlue\">\n",
    "<h5>🎓 <font color=\"SteelBlue\">Комментарий от студента (синий)</font></h5>    \n",
    "\n",
    "Напиши здесь свои мысли и идеи по поводу комментария ревьюера.\n",
    "\n",
    "</div>"
   ]
  },
  {
   "cell_type": "markdown",
   "id": "4746ed33",
   "metadata": {},
   "source": [
    "## **Комментарий ревьюера v2**\n",
    "\n",
    "### **Краткое резюме по ревью**\n",
    "<div style=\"border-radius: 15px; box-shadow: 2px 2px 4px; border: 1px solid; background:Gainsboro; padding: 20px\">\n",
    "\n",
    "Молодец, исправлено:\n",
    "- пересмотр вывода\n",
    "\n",
    "Спасибо тебе за твой труд! Я готов принять работу. Успехов в дальнейшем обучении!\n",
    "\n",
    "</div>"
   ]
  },
  {
   "cell_type": "markdown",
   "id": "386f2ae7",
   "metadata": {
    "deletable": false,
    "editable": false,
    "id": "386f2ae7"
   },
   "source": [
    "# Исследование надежности заемщиков\n"
   ]
  },
  {
   "cell_type": "markdown",
   "id": "ffe86f65",
   "metadata": {
    "deletable": false,
    "editable": false,
    "id": "ffe86f65"
   },
   "source": [
    "Во второй части проекта вы выполните шаги 3 и 4. Их вручную проверит ревьюер.\n",
    "Чтобы вам не пришлось писать код заново для шагов 1 и 2, мы добавили авторские решения в ячейки с кодом. \n",
    "\n"
   ]
  },
  {
   "cell_type": "markdown",
   "id": "26613308",
   "metadata": {
    "deletable": false,
    "editable": false,
    "id": "26613308"
   },
   "source": [
    "## Откройте таблицу и изучите общую информацию о данных"
   ]
  },
  {
   "cell_type": "markdown",
   "id": "3c9f838e",
   "metadata": {
    "deletable": false,
    "editable": false,
    "id": "3c9f838e"
   },
   "source": [
    "**Задание 1. Импортируйте библиотеку pandas. Считайте данные из csv-файла в датафрейм и сохраните в переменную `data`. Путь к файлу:**\n",
    "\n",
    "`/datasets/data.csv`"
   ]
  },
  {
   "cell_type": "markdown",
   "id": "3629f8e7",
   "metadata": {},
   "source": [
    "<div class=\"alert alert-warning\"; style=\"border-left: 7px solid Gold\">\n",
    "<h5> ⚠️ <font color=\"DarkGoldenRod\">Комментарий ревьюера (желтый)</font></h5>\n",
    "\n",
    "Я вижу, что ячейки в твоей тетрадке начинаются не с 1. Перед отправкой проекта стоит проверять работоспособность кода — это можно сделать, нажав на панели Jupiter Hub ``Kernel`` и ``Restart & Run All`` (см скриншот ниже).\n",
    "\n",
    "![](https://i.postimg.cc/yd19rYf6/Screenshot-428.png)\n",
    "\n",
    "</div>"
   ]
  },
  {
   "cell_type": "markdown",
   "id": "6ace79bf",
   "metadata": {},
   "source": [
    "<div class=\"alert alert-success\"; style=\"border-left: 7px solid green\">\n",
    "<h5> ✔️ <font color=\"green\">v2 Комментарий ревьюера (зеленый)</font></h5>\n",
    "\n",
    "✅ Верное исправление 👍\n",
    " \n",
    "</div>"
   ]
  },
  {
   "cell_type": "code",
   "execution_count": 1,
   "id": "77a68a90",
   "metadata": {
    "deletable": false,
    "id": "77a68a90"
   },
   "outputs": [],
   "source": [
    "import pandas as pd\n",
    "\n",
    "try:\n",
    "    data = pd.read_csv('/datasets/data.csv')\n",
    "except:\n",
    "    data = pd.read_csv('https://code.s3.yandex.net/datasets/data.csv')"
   ]
  },
  {
   "cell_type": "markdown",
   "id": "45365635",
   "metadata": {
    "deletable": false,
    "editable": false,
    "id": "45365635"
   },
   "source": [
    "**Задание 2. Выведите первые 20 строчек датафрейма `data` на экран.**"
   ]
  },
  {
   "cell_type": "code",
   "execution_count": 2,
   "id": "b0451a9a",
   "metadata": {
    "deletable": false,
    "id": "b0451a9a",
    "outputId": "1a8f3ef2-d323-4ec2-ddf7-89670b5944c4"
   },
   "outputs": [
    {
     "data": {
      "text/html": [
       "<div>\n",
       "<style scoped>\n",
       "    .dataframe tbody tr th:only-of-type {\n",
       "        vertical-align: middle;\n",
       "    }\n",
       "\n",
       "    .dataframe tbody tr th {\n",
       "        vertical-align: top;\n",
       "    }\n",
       "\n",
       "    .dataframe thead th {\n",
       "        text-align: right;\n",
       "    }\n",
       "</style>\n",
       "<table border=\"1\" class=\"dataframe\">\n",
       "  <thead>\n",
       "    <tr style=\"text-align: right;\">\n",
       "      <th></th>\n",
       "      <th>children</th>\n",
       "      <th>days_employed</th>\n",
       "      <th>dob_years</th>\n",
       "      <th>education</th>\n",
       "      <th>education_id</th>\n",
       "      <th>family_status</th>\n",
       "      <th>family_status_id</th>\n",
       "      <th>gender</th>\n",
       "      <th>income_type</th>\n",
       "      <th>debt</th>\n",
       "      <th>total_income</th>\n",
       "      <th>purpose</th>\n",
       "    </tr>\n",
       "  </thead>\n",
       "  <tbody>\n",
       "    <tr>\n",
       "      <th>0</th>\n",
       "      <td>1</td>\n",
       "      <td>-8437.673028</td>\n",
       "      <td>42</td>\n",
       "      <td>высшее</td>\n",
       "      <td>0</td>\n",
       "      <td>женат / замужем</td>\n",
       "      <td>0</td>\n",
       "      <td>F</td>\n",
       "      <td>сотрудник</td>\n",
       "      <td>0</td>\n",
       "      <td>253875.639453</td>\n",
       "      <td>покупка жилья</td>\n",
       "    </tr>\n",
       "    <tr>\n",
       "      <th>1</th>\n",
       "      <td>1</td>\n",
       "      <td>-4024.803754</td>\n",
       "      <td>36</td>\n",
       "      <td>среднее</td>\n",
       "      <td>1</td>\n",
       "      <td>женат / замужем</td>\n",
       "      <td>0</td>\n",
       "      <td>F</td>\n",
       "      <td>сотрудник</td>\n",
       "      <td>0</td>\n",
       "      <td>112080.014102</td>\n",
       "      <td>приобретение автомобиля</td>\n",
       "    </tr>\n",
       "    <tr>\n",
       "      <th>2</th>\n",
       "      <td>0</td>\n",
       "      <td>-5623.422610</td>\n",
       "      <td>33</td>\n",
       "      <td>Среднее</td>\n",
       "      <td>1</td>\n",
       "      <td>женат / замужем</td>\n",
       "      <td>0</td>\n",
       "      <td>M</td>\n",
       "      <td>сотрудник</td>\n",
       "      <td>0</td>\n",
       "      <td>145885.952297</td>\n",
       "      <td>покупка жилья</td>\n",
       "    </tr>\n",
       "    <tr>\n",
       "      <th>3</th>\n",
       "      <td>3</td>\n",
       "      <td>-4124.747207</td>\n",
       "      <td>32</td>\n",
       "      <td>среднее</td>\n",
       "      <td>1</td>\n",
       "      <td>женат / замужем</td>\n",
       "      <td>0</td>\n",
       "      <td>M</td>\n",
       "      <td>сотрудник</td>\n",
       "      <td>0</td>\n",
       "      <td>267628.550329</td>\n",
       "      <td>дополнительное образование</td>\n",
       "    </tr>\n",
       "    <tr>\n",
       "      <th>4</th>\n",
       "      <td>0</td>\n",
       "      <td>340266.072047</td>\n",
       "      <td>53</td>\n",
       "      <td>среднее</td>\n",
       "      <td>1</td>\n",
       "      <td>гражданский брак</td>\n",
       "      <td>1</td>\n",
       "      <td>F</td>\n",
       "      <td>пенсионер</td>\n",
       "      <td>0</td>\n",
       "      <td>158616.077870</td>\n",
       "      <td>сыграть свадьбу</td>\n",
       "    </tr>\n",
       "    <tr>\n",
       "      <th>5</th>\n",
       "      <td>0</td>\n",
       "      <td>-926.185831</td>\n",
       "      <td>27</td>\n",
       "      <td>высшее</td>\n",
       "      <td>0</td>\n",
       "      <td>гражданский брак</td>\n",
       "      <td>1</td>\n",
       "      <td>M</td>\n",
       "      <td>компаньон</td>\n",
       "      <td>0</td>\n",
       "      <td>255763.565419</td>\n",
       "      <td>покупка жилья</td>\n",
       "    </tr>\n",
       "    <tr>\n",
       "      <th>6</th>\n",
       "      <td>0</td>\n",
       "      <td>-2879.202052</td>\n",
       "      <td>43</td>\n",
       "      <td>высшее</td>\n",
       "      <td>0</td>\n",
       "      <td>женат / замужем</td>\n",
       "      <td>0</td>\n",
       "      <td>F</td>\n",
       "      <td>компаньон</td>\n",
       "      <td>0</td>\n",
       "      <td>240525.971920</td>\n",
       "      <td>операции с жильем</td>\n",
       "    </tr>\n",
       "    <tr>\n",
       "      <th>7</th>\n",
       "      <td>0</td>\n",
       "      <td>-152.779569</td>\n",
       "      <td>50</td>\n",
       "      <td>СРЕДНЕЕ</td>\n",
       "      <td>1</td>\n",
       "      <td>женат / замужем</td>\n",
       "      <td>0</td>\n",
       "      <td>M</td>\n",
       "      <td>сотрудник</td>\n",
       "      <td>0</td>\n",
       "      <td>135823.934197</td>\n",
       "      <td>образование</td>\n",
       "    </tr>\n",
       "    <tr>\n",
       "      <th>8</th>\n",
       "      <td>2</td>\n",
       "      <td>-6929.865299</td>\n",
       "      <td>35</td>\n",
       "      <td>ВЫСШЕЕ</td>\n",
       "      <td>0</td>\n",
       "      <td>гражданский брак</td>\n",
       "      <td>1</td>\n",
       "      <td>F</td>\n",
       "      <td>сотрудник</td>\n",
       "      <td>0</td>\n",
       "      <td>95856.832424</td>\n",
       "      <td>на проведение свадьбы</td>\n",
       "    </tr>\n",
       "    <tr>\n",
       "      <th>9</th>\n",
       "      <td>0</td>\n",
       "      <td>-2188.756445</td>\n",
       "      <td>41</td>\n",
       "      <td>среднее</td>\n",
       "      <td>1</td>\n",
       "      <td>женат / замужем</td>\n",
       "      <td>0</td>\n",
       "      <td>M</td>\n",
       "      <td>сотрудник</td>\n",
       "      <td>0</td>\n",
       "      <td>144425.938277</td>\n",
       "      <td>покупка жилья для семьи</td>\n",
       "    </tr>\n",
       "    <tr>\n",
       "      <th>10</th>\n",
       "      <td>2</td>\n",
       "      <td>-4171.483647</td>\n",
       "      <td>36</td>\n",
       "      <td>высшее</td>\n",
       "      <td>0</td>\n",
       "      <td>женат / замужем</td>\n",
       "      <td>0</td>\n",
       "      <td>M</td>\n",
       "      <td>компаньон</td>\n",
       "      <td>0</td>\n",
       "      <td>113943.491460</td>\n",
       "      <td>покупка недвижимости</td>\n",
       "    </tr>\n",
       "    <tr>\n",
       "      <th>11</th>\n",
       "      <td>0</td>\n",
       "      <td>-792.701887</td>\n",
       "      <td>40</td>\n",
       "      <td>среднее</td>\n",
       "      <td>1</td>\n",
       "      <td>женат / замужем</td>\n",
       "      <td>0</td>\n",
       "      <td>F</td>\n",
       "      <td>сотрудник</td>\n",
       "      <td>0</td>\n",
       "      <td>77069.234271</td>\n",
       "      <td>покупка коммерческой недвижимости</td>\n",
       "    </tr>\n",
       "    <tr>\n",
       "      <th>12</th>\n",
       "      <td>0</td>\n",
       "      <td>NaN</td>\n",
       "      <td>65</td>\n",
       "      <td>среднее</td>\n",
       "      <td>1</td>\n",
       "      <td>гражданский брак</td>\n",
       "      <td>1</td>\n",
       "      <td>M</td>\n",
       "      <td>пенсионер</td>\n",
       "      <td>0</td>\n",
       "      <td>NaN</td>\n",
       "      <td>сыграть свадьбу</td>\n",
       "    </tr>\n",
       "    <tr>\n",
       "      <th>13</th>\n",
       "      <td>0</td>\n",
       "      <td>-1846.641941</td>\n",
       "      <td>54</td>\n",
       "      <td>неоконченное высшее</td>\n",
       "      <td>2</td>\n",
       "      <td>женат / замужем</td>\n",
       "      <td>0</td>\n",
       "      <td>F</td>\n",
       "      <td>сотрудник</td>\n",
       "      <td>0</td>\n",
       "      <td>130458.228857</td>\n",
       "      <td>приобретение автомобиля</td>\n",
       "    </tr>\n",
       "    <tr>\n",
       "      <th>14</th>\n",
       "      <td>0</td>\n",
       "      <td>-1844.956182</td>\n",
       "      <td>56</td>\n",
       "      <td>высшее</td>\n",
       "      <td>0</td>\n",
       "      <td>гражданский брак</td>\n",
       "      <td>1</td>\n",
       "      <td>F</td>\n",
       "      <td>компаньон</td>\n",
       "      <td>1</td>\n",
       "      <td>165127.911772</td>\n",
       "      <td>покупка жилой недвижимости</td>\n",
       "    </tr>\n",
       "    <tr>\n",
       "      <th>15</th>\n",
       "      <td>1</td>\n",
       "      <td>-972.364419</td>\n",
       "      <td>26</td>\n",
       "      <td>среднее</td>\n",
       "      <td>1</td>\n",
       "      <td>женат / замужем</td>\n",
       "      <td>0</td>\n",
       "      <td>F</td>\n",
       "      <td>сотрудник</td>\n",
       "      <td>0</td>\n",
       "      <td>116820.904450</td>\n",
       "      <td>строительство собственной недвижимости</td>\n",
       "    </tr>\n",
       "    <tr>\n",
       "      <th>16</th>\n",
       "      <td>0</td>\n",
       "      <td>-1719.934226</td>\n",
       "      <td>35</td>\n",
       "      <td>среднее</td>\n",
       "      <td>1</td>\n",
       "      <td>женат / замужем</td>\n",
       "      <td>0</td>\n",
       "      <td>F</td>\n",
       "      <td>сотрудник</td>\n",
       "      <td>0</td>\n",
       "      <td>289202.704229</td>\n",
       "      <td>недвижимость</td>\n",
       "    </tr>\n",
       "    <tr>\n",
       "      <th>17</th>\n",
       "      <td>0</td>\n",
       "      <td>-2369.999720</td>\n",
       "      <td>33</td>\n",
       "      <td>высшее</td>\n",
       "      <td>0</td>\n",
       "      <td>гражданский брак</td>\n",
       "      <td>1</td>\n",
       "      <td>M</td>\n",
       "      <td>сотрудник</td>\n",
       "      <td>0</td>\n",
       "      <td>90410.586745</td>\n",
       "      <td>строительство недвижимости</td>\n",
       "    </tr>\n",
       "    <tr>\n",
       "      <th>18</th>\n",
       "      <td>0</td>\n",
       "      <td>400281.136913</td>\n",
       "      <td>53</td>\n",
       "      <td>среднее</td>\n",
       "      <td>1</td>\n",
       "      <td>вдовец / вдова</td>\n",
       "      <td>2</td>\n",
       "      <td>F</td>\n",
       "      <td>пенсионер</td>\n",
       "      <td>0</td>\n",
       "      <td>56823.777243</td>\n",
       "      <td>на покупку подержанного автомобиля</td>\n",
       "    </tr>\n",
       "    <tr>\n",
       "      <th>19</th>\n",
       "      <td>0</td>\n",
       "      <td>-10038.818549</td>\n",
       "      <td>48</td>\n",
       "      <td>СРЕДНЕЕ</td>\n",
       "      <td>1</td>\n",
       "      <td>в разводе</td>\n",
       "      <td>3</td>\n",
       "      <td>F</td>\n",
       "      <td>сотрудник</td>\n",
       "      <td>0</td>\n",
       "      <td>242831.107982</td>\n",
       "      <td>на покупку своего автомобиля</td>\n",
       "    </tr>\n",
       "  </tbody>\n",
       "</table>\n",
       "</div>"
      ],
      "text/plain": [
       "    children  days_employed  dob_years            education  education_id  \\\n",
       "0          1   -8437.673028         42               высшее             0   \n",
       "1          1   -4024.803754         36              среднее             1   \n",
       "2          0   -5623.422610         33              Среднее             1   \n",
       "3          3   -4124.747207         32              среднее             1   \n",
       "4          0  340266.072047         53              среднее             1   \n",
       "5          0    -926.185831         27               высшее             0   \n",
       "6          0   -2879.202052         43               высшее             0   \n",
       "7          0    -152.779569         50              СРЕДНЕЕ             1   \n",
       "8          2   -6929.865299         35               ВЫСШЕЕ             0   \n",
       "9          0   -2188.756445         41              среднее             1   \n",
       "10         2   -4171.483647         36               высшее             0   \n",
       "11         0    -792.701887         40              среднее             1   \n",
       "12         0            NaN         65              среднее             1   \n",
       "13         0   -1846.641941         54  неоконченное высшее             2   \n",
       "14         0   -1844.956182         56               высшее             0   \n",
       "15         1    -972.364419         26              среднее             1   \n",
       "16         0   -1719.934226         35              среднее             1   \n",
       "17         0   -2369.999720         33               высшее             0   \n",
       "18         0  400281.136913         53              среднее             1   \n",
       "19         0  -10038.818549         48              СРЕДНЕЕ             1   \n",
       "\n",
       "       family_status  family_status_id gender income_type  debt  \\\n",
       "0    женат / замужем                 0      F   сотрудник     0   \n",
       "1    женат / замужем                 0      F   сотрудник     0   \n",
       "2    женат / замужем                 0      M   сотрудник     0   \n",
       "3    женат / замужем                 0      M   сотрудник     0   \n",
       "4   гражданский брак                 1      F   пенсионер     0   \n",
       "5   гражданский брак                 1      M   компаньон     0   \n",
       "6    женат / замужем                 0      F   компаньон     0   \n",
       "7    женат / замужем                 0      M   сотрудник     0   \n",
       "8   гражданский брак                 1      F   сотрудник     0   \n",
       "9    женат / замужем                 0      M   сотрудник     0   \n",
       "10   женат / замужем                 0      M   компаньон     0   \n",
       "11   женат / замужем                 0      F   сотрудник     0   \n",
       "12  гражданский брак                 1      M   пенсионер     0   \n",
       "13   женат / замужем                 0      F   сотрудник     0   \n",
       "14  гражданский брак                 1      F   компаньон     1   \n",
       "15   женат / замужем                 0      F   сотрудник     0   \n",
       "16   женат / замужем                 0      F   сотрудник     0   \n",
       "17  гражданский брак                 1      M   сотрудник     0   \n",
       "18    вдовец / вдова                 2      F   пенсионер     0   \n",
       "19         в разводе                 3      F   сотрудник     0   \n",
       "\n",
       "     total_income                                 purpose  \n",
       "0   253875.639453                           покупка жилья  \n",
       "1   112080.014102                 приобретение автомобиля  \n",
       "2   145885.952297                           покупка жилья  \n",
       "3   267628.550329              дополнительное образование  \n",
       "4   158616.077870                         сыграть свадьбу  \n",
       "5   255763.565419                           покупка жилья  \n",
       "6   240525.971920                       операции с жильем  \n",
       "7   135823.934197                             образование  \n",
       "8    95856.832424                   на проведение свадьбы  \n",
       "9   144425.938277                 покупка жилья для семьи  \n",
       "10  113943.491460                    покупка недвижимости  \n",
       "11   77069.234271       покупка коммерческой недвижимости  \n",
       "12            NaN                         сыграть свадьбу  \n",
       "13  130458.228857                 приобретение автомобиля  \n",
       "14  165127.911772              покупка жилой недвижимости  \n",
       "15  116820.904450  строительство собственной недвижимости  \n",
       "16  289202.704229                            недвижимость  \n",
       "17   90410.586745              строительство недвижимости  \n",
       "18   56823.777243      на покупку подержанного автомобиля  \n",
       "19  242831.107982            на покупку своего автомобиля  "
      ]
     },
     "execution_count": 2,
     "metadata": {},
     "output_type": "execute_result"
    }
   ],
   "source": [
    "data.head(20)"
   ]
  },
  {
   "cell_type": "markdown",
   "id": "0ed8f27f",
   "metadata": {
    "deletable": false,
    "editable": false,
    "id": "0ed8f27f"
   },
   "source": [
    "**Задание 3. Выведите основную информацию о датафрейме с помощью метода `info()`.**"
   ]
  },
  {
   "cell_type": "code",
   "execution_count": 3,
   "id": "ab3f863b",
   "metadata": {
    "deletable": false,
    "id": "ab3f863b",
    "outputId": "15376089-8dad-46c9-b520-c05248d43158"
   },
   "outputs": [
    {
     "name": "stdout",
     "output_type": "stream",
     "text": [
      "<class 'pandas.core.frame.DataFrame'>\n",
      "RangeIndex: 21525 entries, 0 to 21524\n",
      "Data columns (total 12 columns):\n",
      " #   Column            Non-Null Count  Dtype  \n",
      "---  ------            --------------  -----  \n",
      " 0   children          21525 non-null  int64  \n",
      " 1   days_employed     19351 non-null  float64\n",
      " 2   dob_years         21525 non-null  int64  \n",
      " 3   education         21525 non-null  object \n",
      " 4   education_id      21525 non-null  int64  \n",
      " 5   family_status     21525 non-null  object \n",
      " 6   family_status_id  21525 non-null  int64  \n",
      " 7   gender            21525 non-null  object \n",
      " 8   income_type       21525 non-null  object \n",
      " 9   debt              21525 non-null  int64  \n",
      " 10  total_income      19351 non-null  float64\n",
      " 11  purpose           21525 non-null  object \n",
      "dtypes: float64(2), int64(5), object(5)\n",
      "memory usage: 2.0+ MB\n"
     ]
    }
   ],
   "source": [
    "data.info()"
   ]
  },
  {
   "cell_type": "markdown",
   "id": "60e3e22d",
   "metadata": {
    "deletable": false,
    "editable": false,
    "id": "60e3e22d"
   },
   "source": [
    "## Предобработка данных"
   ]
  },
  {
   "cell_type": "markdown",
   "id": "03dc170c",
   "metadata": {
    "deletable": false,
    "editable": false,
    "id": "03dc170c"
   },
   "source": [
    "### Удаление пропусков"
   ]
  },
  {
   "cell_type": "markdown",
   "id": "a4f54eef",
   "metadata": {
    "deletable": false,
    "editable": false,
    "id": "a4f54eef"
   },
   "source": [
    "**Задание 4. Выведите количество пропущенных значений для каждого столбца. Используйте комбинацию двух методов.**"
   ]
  },
  {
   "cell_type": "code",
   "execution_count": 4,
   "id": "2dc372b2",
   "metadata": {
    "deletable": false,
    "id": "2dc372b2",
    "outputId": "81f4d817-781c-465c-ed15-91ce4446810d"
   },
   "outputs": [
    {
     "data": {
      "text/plain": [
       "children               0\n",
       "days_employed       2174\n",
       "dob_years              0\n",
       "education              0\n",
       "education_id           0\n",
       "family_status          0\n",
       "family_status_id       0\n",
       "gender                 0\n",
       "income_type            0\n",
       "debt                   0\n",
       "total_income        2174\n",
       "purpose                0\n",
       "dtype: int64"
      ]
     },
     "execution_count": 4,
     "metadata": {},
     "output_type": "execute_result"
    }
   ],
   "source": [
    "data.isna().sum()"
   ]
  },
  {
   "cell_type": "markdown",
   "id": "14f011b1",
   "metadata": {
    "deletable": false,
    "editable": false,
    "id": "14f011b1"
   },
   "source": [
    "**Задание 5. В двух столбцах есть пропущенные значения. Один из них — `days_employed`. Пропуски в этом столбце вы обработаете на следующем этапе. Другой столбец с пропущенными значениями — `total_income` — хранит данные о доходах. На сумму дохода сильнее всего влияет тип занятости, поэтому заполнить пропуски в этом столбце нужно медианным значением по каждому типу из столбца `income_type`. Например, у человека с типом занятости `сотрудник` пропуск в столбце `total_income` должен быть заполнен медианным доходом среди всех записей с тем же типом.**"
   ]
  },
  {
   "cell_type": "code",
   "execution_count": 5,
   "id": "bdabfb6e",
   "metadata": {
    "deletable": false,
    "id": "bdabfb6e"
   },
   "outputs": [],
   "source": [
    "for t in data['income_type'].unique():\n",
    "    data.loc[(data['income_type'] == t) & (data['total_income'].isna()), 'total_income'] = \\\n",
    "    data.loc[(data['income_type'] == t), 'total_income'].median()"
   ]
  },
  {
   "cell_type": "markdown",
   "id": "5be34059",
   "metadata": {
    "deletable": false,
    "editable": false,
    "id": "5be34059"
   },
   "source": [
    "### Обработка аномальных значений"
   ]
  },
  {
   "cell_type": "markdown",
   "id": "a87606cb",
   "metadata": {
    "deletable": false,
    "editable": false,
    "id": "a87606cb"
   },
   "source": [
    "**Задание 6. В данных могут встречаться артефакты (аномалии) — значения, которые не отражают действительность и появились по какой-то ошибке. таким артефактом будет отрицательное количество дней трудового стажа в столбце `days_employed`. Для реальных данных это нормально. Обработайте значения в этом столбце: замените все отрицательные значения положительными с помощью метода `abs()`.**"
   ]
  },
  {
   "cell_type": "code",
   "execution_count": 6,
   "id": "020c46cc",
   "metadata": {
    "deletable": false,
    "id": "020c46cc"
   },
   "outputs": [],
   "source": [
    "data['days_employed'] = data['days_employed'].abs()"
   ]
  },
  {
   "cell_type": "markdown",
   "id": "45538a3a",
   "metadata": {
    "deletable": false,
    "editable": false,
    "id": "45538a3a"
   },
   "source": [
    "**Задание 7. Для каждого типа занятости выведите медианное значение трудового стажа `days_employed` в днях.**"
   ]
  },
  {
   "cell_type": "code",
   "execution_count": 7,
   "id": "cd3e6328",
   "metadata": {
    "deletable": false,
    "id": "cd3e6328",
    "outputId": "801ef80e-522b-4668-f34e-565af7432bcf"
   },
   "outputs": [
    {
     "data": {
      "text/plain": [
       "income_type\n",
       "безработный        366413.652744\n",
       "в декрете            3296.759962\n",
       "госслужащий          2689.368353\n",
       "компаньон            1547.382223\n",
       "пенсионер          365213.306266\n",
       "предприниматель       520.848083\n",
       "сотрудник            1574.202821\n",
       "студент               578.751554\n",
       "Name: days_employed, dtype: float64"
      ]
     },
     "execution_count": 7,
     "metadata": {},
     "output_type": "execute_result"
    }
   ],
   "source": [
    "data.groupby('income_type')['days_employed'].agg('median')"
   ]
  },
  {
   "cell_type": "markdown",
   "id": "90c5f058",
   "metadata": {
    "deletable": false,
    "editable": false,
    "id": "90c5f058"
   },
   "source": [
    "У двух типов (безработные и пенсионеры) получатся аномально большие значения. Исправить такие значения сложно, поэтому оставьте их как есть."
   ]
  },
  {
   "cell_type": "markdown",
   "id": "9652e50d",
   "metadata": {
    "deletable": false,
    "editable": false,
    "id": "9652e50d"
   },
   "source": [
    "**Задание 8. Выведите перечень уникальных значений столбца `children`.**"
   ]
  },
  {
   "cell_type": "code",
   "execution_count": 8,
   "id": "dbb37b8e",
   "metadata": {
    "deletable": false,
    "id": "dbb37b8e",
    "outputId": "6975b15c-7f95-4697-d16d-a0c79b657b03"
   },
   "outputs": [
    {
     "data": {
      "text/plain": [
       "array([ 1,  0,  3,  2, -1,  4, 20,  5])"
      ]
     },
     "execution_count": 8,
     "metadata": {},
     "output_type": "execute_result"
    }
   ],
   "source": [
    "data['children'].unique()"
   ]
  },
  {
   "cell_type": "markdown",
   "id": "2b8b0715",
   "metadata": {
    "deletable": false,
    "editable": false,
    "id": "2b8b0715"
   },
   "source": [
    "**Задание 9. В столбце `children` есть два аномальных значения. Удалите строки, в которых встречаются такие аномальные значения из датафрейма `data`.**"
   ]
  },
  {
   "cell_type": "code",
   "execution_count": 9,
   "id": "20009df8",
   "metadata": {
    "deletable": false,
    "id": "20009df8"
   },
   "outputs": [],
   "source": [
    "data = data[(data['children'] != -1) & (data['children'] != 20)]"
   ]
  },
  {
   "cell_type": "markdown",
   "id": "8c6ac9f1",
   "metadata": {
    "deletable": false,
    "editable": false,
    "id": "8c6ac9f1"
   },
   "source": [
    "**Задание 10. Ещё раз выведите перечень уникальных значений столбца `children`, чтобы убедиться, что артефакты удалены.**"
   ]
  },
  {
   "cell_type": "code",
   "execution_count": 10,
   "id": "07337b81",
   "metadata": {
    "deletable": false,
    "id": "07337b81",
    "outputId": "b2097101-d49d-44d9-901b-32a65c9463d1"
   },
   "outputs": [
    {
     "data": {
      "text/plain": [
       "array([1, 0, 3, 2, 4, 5])"
      ]
     },
     "execution_count": 10,
     "metadata": {},
     "output_type": "execute_result"
    }
   ],
   "source": [
    "data['children'].unique()"
   ]
  },
  {
   "cell_type": "markdown",
   "id": "ee3f52d4",
   "metadata": {
    "deletable": false,
    "editable": false,
    "id": "ee3f52d4"
   },
   "source": [
    "### Удаление пропусков (продолжение)"
   ]
  },
  {
   "cell_type": "markdown",
   "id": "a700b0e4",
   "metadata": {
    "deletable": false,
    "editable": false,
    "id": "a700b0e4"
   },
   "source": [
    "**Задание 11. Заполните пропуски в столбце `days_employed` медианными значениями по каждого типа занятости `income_type`.**"
   ]
  },
  {
   "cell_type": "code",
   "execution_count": 11,
   "id": "61946b83",
   "metadata": {
    "deletable": false,
    "id": "61946b83"
   },
   "outputs": [],
   "source": [
    "for t in data['income_type'].unique():\n",
    "    data.loc[(data['income_type'] == t) & (data['days_employed'].isna()), 'days_employed'] = \\\n",
    "    data.loc[(data['income_type'] == t), 'days_employed'].median()"
   ]
  },
  {
   "cell_type": "markdown",
   "id": "550dcd9b",
   "metadata": {
    "deletable": false,
    "editable": false,
    "id": "550dcd9b"
   },
   "source": [
    "**Задание 12. Убедитесь, что все пропуски заполнены. Проверьте себя и ещё раз выведите количество пропущенных значений для каждого столбца с помощью двух методов.**"
   ]
  },
  {
   "cell_type": "code",
   "execution_count": 12,
   "id": "937c7014",
   "metadata": {
    "deletable": false,
    "id": "937c7014",
    "outputId": "8da1e4e1-358e-4e87-98c9-f261bce0a7b2"
   },
   "outputs": [
    {
     "data": {
      "text/plain": [
       "children            0\n",
       "days_employed       0\n",
       "dob_years           0\n",
       "education           0\n",
       "education_id        0\n",
       "family_status       0\n",
       "family_status_id    0\n",
       "gender              0\n",
       "income_type         0\n",
       "debt                0\n",
       "total_income        0\n",
       "purpose             0\n",
       "dtype: int64"
      ]
     },
     "execution_count": 12,
     "metadata": {},
     "output_type": "execute_result"
    }
   ],
   "source": [
    "data.isna().sum()"
   ]
  },
  {
   "cell_type": "markdown",
   "id": "d522e295",
   "metadata": {
    "deletable": false,
    "editable": false,
    "id": "d522e295"
   },
   "source": [
    "### Изменение типов данных"
   ]
  },
  {
   "cell_type": "markdown",
   "id": "c229c581",
   "metadata": {
    "deletable": false,
    "editable": false,
    "id": "c229c581"
   },
   "source": [
    "**Задание 13. Замените вещественный тип данных в столбце `total_income` на целочисленный с помощью метода `astype()`.**"
   ]
  },
  {
   "cell_type": "code",
   "execution_count": 13,
   "id": "31036462",
   "metadata": {
    "deletable": false,
    "id": "31036462"
   },
   "outputs": [],
   "source": [
    "data['total_income'] = data['total_income'].astype(int)"
   ]
  },
  {
   "cell_type": "markdown",
   "id": "b8e3d1d9",
   "metadata": {
    "deletable": false,
    "editable": false,
    "id": "b8e3d1d9"
   },
   "source": [
    "### Обработка дубликатов"
   ]
  },
  {
   "cell_type": "markdown",
   "id": "9be53c49",
   "metadata": {
    "deletable": false,
    "editable": false,
    "id": "9be53c49"
   },
   "source": [
    "**Задание 14. Обработайте неявные дубликаты в столбце `education`. В этом столбце есть одни и те же значения, но записанные по-разному: с использованием заглавных и строчных букв. Приведите их к нижнему регистру.**"
   ]
  },
  {
   "cell_type": "code",
   "execution_count": 14,
   "id": "d89e73e1",
   "metadata": {
    "deletable": false,
    "id": "d89e73e1"
   },
   "outputs": [],
   "source": [
    "data['education'] = data['education'].str.lower()"
   ]
  },
  {
   "cell_type": "markdown",
   "id": "01d4500e",
   "metadata": {
    "deletable": false,
    "editable": false,
    "id": "01d4500e"
   },
   "source": [
    "**Задание 15. Выведите на экран количество строк-дубликатов в данных. Если такие строки присутствуют, удалите их.**"
   ]
  },
  {
   "cell_type": "code",
   "execution_count": 15,
   "id": "e10efb23",
   "metadata": {
    "deletable": false,
    "id": "e10efb23",
    "outputId": "9684deba-1934-42d1-99e1-cda61740f822"
   },
   "outputs": [
    {
     "data": {
      "text/plain": [
       "71"
      ]
     },
     "execution_count": 15,
     "metadata": {},
     "output_type": "execute_result"
    }
   ],
   "source": [
    "data.duplicated().sum()"
   ]
  },
  {
   "cell_type": "code",
   "execution_count": 16,
   "id": "df853f20",
   "metadata": {
    "deletable": false,
    "id": "df853f20"
   },
   "outputs": [],
   "source": [
    "data = data.drop_duplicates()"
   ]
  },
  {
   "cell_type": "markdown",
   "id": "627be38f",
   "metadata": {
    "deletable": false,
    "editable": false,
    "id": "627be38f"
   },
   "source": [
    "### Категоризация данных"
   ]
  },
  {
   "cell_type": "markdown",
   "id": "4684c3e0",
   "metadata": {
    "deletable": false,
    "editable": false,
    "id": "4684c3e0"
   },
   "source": [
    "**Задание 16. На основании диапазонов, указанных ниже, создайте в датафрейме `data` столбец `total_income_category` с категориями:**\n",
    "\n",
    "- 0–30000 — `'E'`;\n",
    "- 30001–50000 — `'D'`;\n",
    "- 50001–200000 — `'C'`;\n",
    "- 200001–1000000 — `'B'`;\n",
    "- 1000001 и выше — `'A'`.\n",
    "\n",
    "\n",
    "**Например, кредитополучателю с доходом 25000 нужно назначить категорию `'E'`, а клиенту, получающему 235000, — `'B'`. Используйте собственную функцию с именем `categorize_income()` и метод `apply()`.**"
   ]
  },
  {
   "cell_type": "code",
   "execution_count": 17,
   "id": "78965238",
   "metadata": {
    "deletable": false,
    "id": "78965238"
   },
   "outputs": [],
   "source": [
    "def categorize_income(income):\n",
    "    try:\n",
    "        if 0 <= income <= 30000:\n",
    "            return 'E'\n",
    "        elif 30001 <= income <= 50000:\n",
    "            return 'D'\n",
    "        elif 50001 <= income <= 200000:\n",
    "            return 'C'\n",
    "        elif 200001 <= income <= 1000000:\n",
    "            return 'B'\n",
    "        elif income >= 1000001:\n",
    "            return 'A'\n",
    "    except:\n",
    "        pass"
   ]
  },
  {
   "cell_type": "code",
   "execution_count": 18,
   "id": "0980ada1",
   "metadata": {
    "deletable": false,
    "id": "0980ada1"
   },
   "outputs": [],
   "source": [
    "data['total_income_category'] = data['total_income'].apply(categorize_income)"
   ]
  },
  {
   "cell_type": "markdown",
   "id": "9917bba0",
   "metadata": {
    "deletable": false,
    "editable": false,
    "id": "9917bba0"
   },
   "source": [
    "**Задание 17. Выведите на экран перечень уникальных целей взятия кредита из столбца `purpose`.**"
   ]
  },
  {
   "cell_type": "code",
   "execution_count": 19,
   "id": "ee07b65e",
   "metadata": {
    "deletable": false,
    "id": "ee07b65e",
    "outputId": "673c12d9-7d7e-4ae0-9812-c622c89dd244"
   },
   "outputs": [
    {
     "data": {
      "text/plain": [
       "array(['покупка жилья', 'приобретение автомобиля',\n",
       "       'дополнительное образование', 'сыграть свадьбу',\n",
       "       'операции с жильем', 'образование', 'на проведение свадьбы',\n",
       "       'покупка жилья для семьи', 'покупка недвижимости',\n",
       "       'покупка коммерческой недвижимости', 'покупка жилой недвижимости',\n",
       "       'строительство собственной недвижимости', 'недвижимость',\n",
       "       'строительство недвижимости', 'на покупку подержанного автомобиля',\n",
       "       'на покупку своего автомобиля',\n",
       "       'операции с коммерческой недвижимостью',\n",
       "       'строительство жилой недвижимости', 'жилье',\n",
       "       'операции со своей недвижимостью', 'автомобили',\n",
       "       'заняться образованием', 'сделка с подержанным автомобилем',\n",
       "       'получение образования', 'автомобиль', 'свадьба',\n",
       "       'получение дополнительного образования', 'покупка своего жилья',\n",
       "       'операции с недвижимостью', 'получение высшего образования',\n",
       "       'свой автомобиль', 'сделка с автомобилем',\n",
       "       'профильное образование', 'высшее образование',\n",
       "       'покупка жилья для сдачи', 'на покупку автомобиля', 'ремонт жилью',\n",
       "       'заняться высшим образованием'], dtype=object)"
      ]
     },
     "execution_count": 19,
     "metadata": {},
     "output_type": "execute_result"
    }
   ],
   "source": [
    "data['purpose'].unique()"
   ]
  },
  {
   "cell_type": "markdown",
   "id": "52b79d56",
   "metadata": {
    "deletable": false,
    "editable": false,
    "id": "52b79d56"
   },
   "source": [
    "**Задание 18. Создайте функцию, которая на основании данных из столбца `purpose` сформирует новый столбец `purpose_category`, в который войдут следующие категории:**\n",
    "\n",
    "- `'операции с автомобилем'`,\n",
    "- `'операции с недвижимостью'`,\n",
    "- `'проведение свадьбы'`,\n",
    "- `'получение образования'`.\n",
    "\n",
    "**Например, если в столбце `purpose` находится подстрока `'на покупку автомобиля'`, то в столбце `purpose_category` должна появиться строка `'операции с автомобилем'`.**\n",
    "\n",
    "**Используйте собственную функцию с именем `categorize_purpose()` и метод `apply()`. Изучите данные в столбце `purpose` и определите, какие подстроки помогут вам правильно определить категорию.**"
   ]
  },
  {
   "cell_type": "code",
   "execution_count": 20,
   "id": "be41da5d",
   "metadata": {
    "deletable": false,
    "id": "be41da5d"
   },
   "outputs": [],
   "source": [
    "def categorize_purpose(row):\n",
    "    try:\n",
    "        if 'автом' in row:\n",
    "            return 'операции с автомобилем'\n",
    "        elif 'жил' in row or 'недвиж' in row:\n",
    "            return 'операции с недвижимостью'\n",
    "        elif 'свад' in row:\n",
    "            return 'проведение свадьбы'\n",
    "        elif 'образов' in row:\n",
    "            return 'получение образования'\n",
    "    except:\n",
    "        return 'нет категории'"
   ]
  },
  {
   "cell_type": "code",
   "execution_count": 21,
   "id": "94c4a19a",
   "metadata": {
    "deletable": false,
    "id": "94c4a19a"
   },
   "outputs": [],
   "source": [
    "data['purpose_category'] = data['purpose'].apply(categorize_purpose)"
   ]
  },
  {
   "cell_type": "markdown",
   "id": "3d596c34",
   "metadata": {
    "deletable": false,
    "editable": false,
    "id": "3d596c34"
   },
   "source": [
    "### Шаг 3. Исследуйте данные и ответьте на вопросы"
   ]
  },
  {
   "cell_type": "markdown",
   "id": "648db036",
   "metadata": {
    "deletable": false,
    "editable": false,
    "id": "648db036"
   },
   "source": [
    "#### 3.1 Есть ли зависимость между количеством детей и возвратом кредита в срок?"
   ]
  },
  {
   "cell_type": "code",
   "execution_count": 22,
   "id": "7fcff25e",
   "metadata": {
    "deletable": false,
    "id": "7fcff25e"
   },
   "outputs": [
    {
     "data": {
      "text/html": [
       "<div>\n",
       "<style scoped>\n",
       "    .dataframe tbody tr th:only-of-type {\n",
       "        vertical-align: middle;\n",
       "    }\n",
       "\n",
       "    .dataframe tbody tr th {\n",
       "        vertical-align: top;\n",
       "    }\n",
       "\n",
       "    .dataframe thead th {\n",
       "        text-align: right;\n",
       "    }\n",
       "</style>\n",
       "<table border=\"1\" class=\"dataframe\">\n",
       "  <thead>\n",
       "    <tr style=\"text-align: right;\">\n",
       "      <th></th>\n",
       "      <th>debt</th>\n",
       "    </tr>\n",
       "    <tr>\n",
       "      <th>children</th>\n",
       "      <th></th>\n",
       "    </tr>\n",
       "  </thead>\n",
       "  <tbody>\n",
       "    <tr>\n",
       "      <th>0</th>\n",
       "      <td>1063</td>\n",
       "    </tr>\n",
       "    <tr>\n",
       "      <th>1</th>\n",
       "      <td>444</td>\n",
       "    </tr>\n",
       "    <tr>\n",
       "      <th>2</th>\n",
       "      <td>194</td>\n",
       "    </tr>\n",
       "    <tr>\n",
       "      <th>3</th>\n",
       "      <td>27</td>\n",
       "    </tr>\n",
       "    <tr>\n",
       "      <th>4</th>\n",
       "      <td>4</td>\n",
       "    </tr>\n",
       "    <tr>\n",
       "      <th>5</th>\n",
       "      <td>0</td>\n",
       "    </tr>\n",
       "  </tbody>\n",
       "</table>\n",
       "</div>"
      ],
      "text/plain": [
       "          debt\n",
       "children      \n",
       "0         1063\n",
       "1          444\n",
       "2          194\n",
       "3           27\n",
       "4            4\n",
       "5            0"
      ]
     },
     "execution_count": 22,
     "metadata": {},
     "output_type": "execute_result"
    }
   ],
   "source": [
    "data.groupby('children')[['debt']].sum() #находим кол-во должников по кол-ву 'children'"
   ]
  },
  {
   "cell_type": "code",
   "execution_count": 23,
   "id": "2a78ac92",
   "metadata": {},
   "outputs": [
    {
     "data": {
      "text/html": [
       "<div>\n",
       "<style scoped>\n",
       "    .dataframe tbody tr th:only-of-type {\n",
       "        vertical-align: middle;\n",
       "    }\n",
       "\n",
       "    .dataframe tbody tr th {\n",
       "        vertical-align: top;\n",
       "    }\n",
       "\n",
       "    .dataframe thead th {\n",
       "        text-align: right;\n",
       "    }\n",
       "</style>\n",
       "<table border=\"1\" class=\"dataframe\">\n",
       "  <thead>\n",
       "    <tr style=\"text-align: right;\">\n",
       "      <th></th>\n",
       "      <th>debt</th>\n",
       "    </tr>\n",
       "    <tr>\n",
       "      <th>children</th>\n",
       "      <th></th>\n",
       "    </tr>\n",
       "  </thead>\n",
       "  <tbody>\n",
       "    <tr>\n",
       "      <th>0</th>\n",
       "      <td>14091</td>\n",
       "    </tr>\n",
       "    <tr>\n",
       "      <th>1</th>\n",
       "      <td>4808</td>\n",
       "    </tr>\n",
       "    <tr>\n",
       "      <th>2</th>\n",
       "      <td>2052</td>\n",
       "    </tr>\n",
       "    <tr>\n",
       "      <th>3</th>\n",
       "      <td>330</td>\n",
       "    </tr>\n",
       "    <tr>\n",
       "      <th>4</th>\n",
       "      <td>41</td>\n",
       "    </tr>\n",
       "    <tr>\n",
       "      <th>5</th>\n",
       "      <td>9</td>\n",
       "    </tr>\n",
       "  </tbody>\n",
       "</table>\n",
       "</div>"
      ],
      "text/plain": [
       "           debt\n",
       "children       \n",
       "0         14091\n",
       "1          4808\n",
       "2          2052\n",
       "3           330\n",
       "4            41\n",
       "5             9"
      ]
     },
     "execution_count": 23,
     "metadata": {},
     "output_type": "execute_result"
    }
   ],
   "source": [
    "data.groupby('children')[['debt']].count() #находим общее кол-во по каждой группе 'children'"
   ]
  },
  {
   "cell_type": "code",
   "execution_count": 24,
   "id": "46af91c6",
   "metadata": {},
   "outputs": [
    {
     "data": {
      "text/html": [
       "<div>\n",
       "<style scoped>\n",
       "    .dataframe tbody tr th:only-of-type {\n",
       "        vertical-align: middle;\n",
       "    }\n",
       "\n",
       "    .dataframe tbody tr th {\n",
       "        vertical-align: top;\n",
       "    }\n",
       "\n",
       "    .dataframe thead th {\n",
       "        text-align: right;\n",
       "    }\n",
       "</style>\n",
       "<table border=\"1\" class=\"dataframe\">\n",
       "  <thead>\n",
       "    <tr style=\"text-align: right;\">\n",
       "      <th></th>\n",
       "      <th>debt</th>\n",
       "    </tr>\n",
       "    <tr>\n",
       "      <th>children</th>\n",
       "      <th></th>\n",
       "    </tr>\n",
       "  </thead>\n",
       "  <tbody>\n",
       "    <tr>\n",
       "      <th>0</th>\n",
       "      <td>0.075438</td>\n",
       "    </tr>\n",
       "    <tr>\n",
       "      <th>1</th>\n",
       "      <td>0.092346</td>\n",
       "    </tr>\n",
       "    <tr>\n",
       "      <th>2</th>\n",
       "      <td>0.094542</td>\n",
       "    </tr>\n",
       "    <tr>\n",
       "      <th>3</th>\n",
       "      <td>0.081818</td>\n",
       "    </tr>\n",
       "    <tr>\n",
       "      <th>4</th>\n",
       "      <td>0.097561</td>\n",
       "    </tr>\n",
       "    <tr>\n",
       "      <th>5</th>\n",
       "      <td>0.000000</td>\n",
       "    </tr>\n",
       "  </tbody>\n",
       "</table>\n",
       "</div>"
      ],
      "text/plain": [
       "              debt\n",
       "children          \n",
       "0         0.075438\n",
       "1         0.092346\n",
       "2         0.094542\n",
       "3         0.081818\n",
       "4         0.097561\n",
       "5         0.000000"
      ]
     },
     "execution_count": 24,
     "metadata": {},
     "output_type": "execute_result"
    }
   ],
   "source": [
    "data.groupby('children')[['debt']].sum() / data.groupby('children')[['debt']].count() # конверсия "
   ]
  },
  {
   "cell_type": "markdown",
   "id": "66fecae6",
   "metadata": {},
   "source": [
    "<div class=\"alert alert-success\"; style=\"border-left: 7px solid green\">\n",
    "<h5> ✔️ <font color=\"green\">Комментарий ревьюера (зеленый)</font></h5>\n",
    "\n",
    "Да, у заемщиков с детьми больше вероятность просрочки\n",
    "\n",
    "</div>"
   ]
  },
  {
   "cell_type": "markdown",
   "id": "2eb9088e",
   "metadata": {
    "deletable": false,
    "id": "2eb9088e"
   },
   "source": [
    "**Вывод:** \n",
    "debt — имел ли задолженность по возврату кредитов.\n",
    "Заемщики без детей выплачивают кредиты исправнее, чем заемщики с детьми. Больше всего должников среди клиентов у которых 4 ребенка. Клиентов с 5 детьми можно не брать в расчет, так как нет данных о должниках (слишком маленькая выборка для анализа)."
   ]
  },
  {
   "cell_type": "markdown",
   "id": "74c9b3a7",
   "metadata": {
    "deletable": false,
    "editable": false,
    "id": "74c9b3a7"
   },
   "source": [
    "#### 3.2 Есть ли зависимость между семейным положением и возвратом кредита в срок?"
   ]
  },
  {
   "cell_type": "code",
   "execution_count": 25,
   "id": "8098ab3b",
   "metadata": {
    "deletable": false,
    "id": "8098ab3b"
   },
   "outputs": [
    {
     "data": {
      "text/html": [
       "<div>\n",
       "<style scoped>\n",
       "    .dataframe tbody tr th:only-of-type {\n",
       "        vertical-align: middle;\n",
       "    }\n",
       "\n",
       "    .dataframe tbody tr th {\n",
       "        vertical-align: top;\n",
       "    }\n",
       "\n",
       "    .dataframe thead th {\n",
       "        text-align: right;\n",
       "    }\n",
       "</style>\n",
       "<table border=\"1\" class=\"dataframe\">\n",
       "  <thead>\n",
       "    <tr style=\"text-align: right;\">\n",
       "      <th></th>\n",
       "      <th>debt</th>\n",
       "    </tr>\n",
       "    <tr>\n",
       "      <th>family_status</th>\n",
       "      <th></th>\n",
       "    </tr>\n",
       "  </thead>\n",
       "  <tbody>\n",
       "    <tr>\n",
       "      <th>Не женат / не замужем</th>\n",
       "      <td>273</td>\n",
       "    </tr>\n",
       "    <tr>\n",
       "      <th>в разводе</th>\n",
       "      <td>84</td>\n",
       "    </tr>\n",
       "    <tr>\n",
       "      <th>вдовец / вдова</th>\n",
       "      <td>63</td>\n",
       "    </tr>\n",
       "    <tr>\n",
       "      <th>гражданский брак</th>\n",
       "      <td>385</td>\n",
       "    </tr>\n",
       "    <tr>\n",
       "      <th>женат / замужем</th>\n",
       "      <td>927</td>\n",
       "    </tr>\n",
       "  </tbody>\n",
       "</table>\n",
       "</div>"
      ],
      "text/plain": [
       "                       debt\n",
       "family_status              \n",
       "Не женат / не замужем   273\n",
       "в разводе                84\n",
       "вдовец / вдова           63\n",
       "гражданский брак        385\n",
       "женат / замужем         927"
      ]
     },
     "execution_count": 25,
     "metadata": {},
     "output_type": "execute_result"
    }
   ],
   "source": [
    "data.groupby('family_status')[['debt']].sum() #находим кол-во должников по столбцу 'family_status'"
   ]
  },
  {
   "cell_type": "code",
   "execution_count": 26,
   "id": "cca8fadd",
   "metadata": {},
   "outputs": [
    {
     "data": {
      "text/html": [
       "<div>\n",
       "<style scoped>\n",
       "    .dataframe tbody tr th:only-of-type {\n",
       "        vertical-align: middle;\n",
       "    }\n",
       "\n",
       "    .dataframe tbody tr th {\n",
       "        vertical-align: top;\n",
       "    }\n",
       "\n",
       "    .dataframe thead th {\n",
       "        text-align: right;\n",
       "    }\n",
       "</style>\n",
       "<table border=\"1\" class=\"dataframe\">\n",
       "  <thead>\n",
       "    <tr style=\"text-align: right;\">\n",
       "      <th></th>\n",
       "      <th>debt</th>\n",
       "    </tr>\n",
       "    <tr>\n",
       "      <th>family_status</th>\n",
       "      <th></th>\n",
       "    </tr>\n",
       "  </thead>\n",
       "  <tbody>\n",
       "    <tr>\n",
       "      <th>Не женат / не замужем</th>\n",
       "      <td>2796</td>\n",
       "    </tr>\n",
       "    <tr>\n",
       "      <th>в разводе</th>\n",
       "      <td>1189</td>\n",
       "    </tr>\n",
       "    <tr>\n",
       "      <th>вдовец / вдова</th>\n",
       "      <td>951</td>\n",
       "    </tr>\n",
       "    <tr>\n",
       "      <th>гражданский брак</th>\n",
       "      <td>4134</td>\n",
       "    </tr>\n",
       "    <tr>\n",
       "      <th>женат / замужем</th>\n",
       "      <td>12261</td>\n",
       "    </tr>\n",
       "  </tbody>\n",
       "</table>\n",
       "</div>"
      ],
      "text/plain": [
       "                        debt\n",
       "family_status               \n",
       "Не женат / не замужем   2796\n",
       "в разводе               1189\n",
       "вдовец / вдова           951\n",
       "гражданский брак        4134\n",
       "женат / замужем        12261"
      ]
     },
     "execution_count": 26,
     "metadata": {},
     "output_type": "execute_result"
    }
   ],
   "source": [
    "data.groupby('family_status')[['debt']].count() #находим общее кол-во по каждой группе 'family_status'"
   ]
  },
  {
   "cell_type": "code",
   "execution_count": 27,
   "id": "fbe97d89",
   "metadata": {},
   "outputs": [
    {
     "data": {
      "text/html": [
       "<div>\n",
       "<style scoped>\n",
       "    .dataframe tbody tr th:only-of-type {\n",
       "        vertical-align: middle;\n",
       "    }\n",
       "\n",
       "    .dataframe tbody tr th {\n",
       "        vertical-align: top;\n",
       "    }\n",
       "\n",
       "    .dataframe thead th {\n",
       "        text-align: right;\n",
       "    }\n",
       "</style>\n",
       "<table border=\"1\" class=\"dataframe\">\n",
       "  <thead>\n",
       "    <tr style=\"text-align: right;\">\n",
       "      <th></th>\n",
       "      <th>debt</th>\n",
       "    </tr>\n",
       "    <tr>\n",
       "      <th>family_status</th>\n",
       "      <th></th>\n",
       "    </tr>\n",
       "  </thead>\n",
       "  <tbody>\n",
       "    <tr>\n",
       "      <th>Не женат / не замужем</th>\n",
       "      <td>0.097639</td>\n",
       "    </tr>\n",
       "    <tr>\n",
       "      <th>в разводе</th>\n",
       "      <td>0.070648</td>\n",
       "    </tr>\n",
       "    <tr>\n",
       "      <th>вдовец / вдова</th>\n",
       "      <td>0.066246</td>\n",
       "    </tr>\n",
       "    <tr>\n",
       "      <th>гражданский брак</th>\n",
       "      <td>0.093130</td>\n",
       "    </tr>\n",
       "    <tr>\n",
       "      <th>женат / замужем</th>\n",
       "      <td>0.075606</td>\n",
       "    </tr>\n",
       "  </tbody>\n",
       "</table>\n",
       "</div>"
      ],
      "text/plain": [
       "                           debt\n",
       "family_status                  \n",
       "Не женат / не замужем  0.097639\n",
       "в разводе              0.070648\n",
       "вдовец / вдова         0.066246\n",
       "гражданский брак       0.093130\n",
       "женат / замужем        0.075606"
      ]
     },
     "execution_count": 27,
     "metadata": {},
     "output_type": "execute_result"
    }
   ],
   "source": [
    "data.groupby('family_status')[['debt']].sum() / data.groupby('family_status')[['debt']].count() #конверсия "
   ]
  },
  {
   "cell_type": "markdown",
   "id": "dd3dd744",
   "metadata": {},
   "source": [
    "<div class=\"alert alert-success\"; style=\"border-left: 7px solid green\">\n",
    "<h5> ✔️ <font color=\"green\">Комментарий ревьюера (зеленый)</font></h5>\n",
    "\n",
    "Правильно, заемщики состоящие или состоявшие в браке реже допускают просрочку\n",
    "\n",
    "</div>"
   ]
  },
  {
   "cell_type": "markdown",
   "id": "c389ca63",
   "metadata": {
    "deletable": false,
    "id": "c389ca63"
   },
   "source": [
    "**Вывод:** Больший процент должников в категориии \"не женат/не замужем\" и в категории \"гражданский брак\". По статистике в категории \"вдовец/вдова\" меньше всего должников."
   ]
  },
  {
   "cell_type": "markdown",
   "id": "9529de68",
   "metadata": {
    "deletable": false,
    "editable": false,
    "id": "9529de68"
   },
   "source": [
    "#### 3.3 Есть ли зависимость между уровнем дохода и возвратом кредита в срок?"
   ]
  },
  {
   "cell_type": "code",
   "execution_count": 28,
   "id": "8787f44a",
   "metadata": {
    "deletable": false,
    "id": "8787f44a"
   },
   "outputs": [
    {
     "data": {
      "text/html": [
       "<div>\n",
       "<style scoped>\n",
       "    .dataframe tbody tr th:only-of-type {\n",
       "        vertical-align: middle;\n",
       "    }\n",
       "\n",
       "    .dataframe tbody tr th {\n",
       "        vertical-align: top;\n",
       "    }\n",
       "\n",
       "    .dataframe thead th {\n",
       "        text-align: right;\n",
       "    }\n",
       "</style>\n",
       "<table border=\"1\" class=\"dataframe\">\n",
       "  <thead>\n",
       "    <tr style=\"text-align: right;\">\n",
       "      <th></th>\n",
       "      <th>debt</th>\n",
       "    </tr>\n",
       "    <tr>\n",
       "      <th>total_income_category</th>\n",
       "      <th></th>\n",
       "    </tr>\n",
       "  </thead>\n",
       "  <tbody>\n",
       "    <tr>\n",
       "      <th>A</th>\n",
       "      <td>2</td>\n",
       "    </tr>\n",
       "    <tr>\n",
       "      <th>B</th>\n",
       "      <td>354</td>\n",
       "    </tr>\n",
       "    <tr>\n",
       "      <th>C</th>\n",
       "      <td>1353</td>\n",
       "    </tr>\n",
       "    <tr>\n",
       "      <th>D</th>\n",
       "      <td>21</td>\n",
       "    </tr>\n",
       "    <tr>\n",
       "      <th>E</th>\n",
       "      <td>2</td>\n",
       "    </tr>\n",
       "  </tbody>\n",
       "</table>\n",
       "</div>"
      ],
      "text/plain": [
       "                       debt\n",
       "total_income_category      \n",
       "A                         2\n",
       "B                       354\n",
       "C                      1353\n",
       "D                        21\n",
       "E                         2"
      ]
     },
     "execution_count": 28,
     "metadata": {},
     "output_type": "execute_result"
    }
   ],
   "source": [
    "data.groupby('total_income_category')[['debt']].sum() #находим кол-во должников по столбцу 'total_income_category'"
   ]
  },
  {
   "cell_type": "code",
   "execution_count": 29,
   "id": "c1fd42af",
   "metadata": {},
   "outputs": [
    {
     "data": {
      "text/html": [
       "<div>\n",
       "<style scoped>\n",
       "    .dataframe tbody tr th:only-of-type {\n",
       "        vertical-align: middle;\n",
       "    }\n",
       "\n",
       "    .dataframe tbody tr th {\n",
       "        vertical-align: top;\n",
       "    }\n",
       "\n",
       "    .dataframe thead th {\n",
       "        text-align: right;\n",
       "    }\n",
       "</style>\n",
       "<table border=\"1\" class=\"dataframe\">\n",
       "  <thead>\n",
       "    <tr style=\"text-align: right;\">\n",
       "      <th></th>\n",
       "      <th>debt</th>\n",
       "    </tr>\n",
       "    <tr>\n",
       "      <th>total_income_category</th>\n",
       "      <th></th>\n",
       "    </tr>\n",
       "  </thead>\n",
       "  <tbody>\n",
       "    <tr>\n",
       "      <th>A</th>\n",
       "      <td>25</td>\n",
       "    </tr>\n",
       "    <tr>\n",
       "      <th>B</th>\n",
       "      <td>5014</td>\n",
       "    </tr>\n",
       "    <tr>\n",
       "      <th>C</th>\n",
       "      <td>15921</td>\n",
       "    </tr>\n",
       "    <tr>\n",
       "      <th>D</th>\n",
       "      <td>349</td>\n",
       "    </tr>\n",
       "    <tr>\n",
       "      <th>E</th>\n",
       "      <td>22</td>\n",
       "    </tr>\n",
       "  </tbody>\n",
       "</table>\n",
       "</div>"
      ],
      "text/plain": [
       "                        debt\n",
       "total_income_category       \n",
       "A                         25\n",
       "B                       5014\n",
       "C                      15921\n",
       "D                        349\n",
       "E                         22"
      ]
     },
     "execution_count": 29,
     "metadata": {},
     "output_type": "execute_result"
    }
   ],
   "source": [
    "data.groupby('total_income_category')[['debt']].count() #находим общее кол-во по каждой группе 'total_income_category'"
   ]
  },
  {
   "cell_type": "code",
   "execution_count": 30,
   "id": "57c31bf6",
   "metadata": {},
   "outputs": [
    {
     "data": {
      "text/html": [
       "<div>\n",
       "<style scoped>\n",
       "    .dataframe tbody tr th:only-of-type {\n",
       "        vertical-align: middle;\n",
       "    }\n",
       "\n",
       "    .dataframe tbody tr th {\n",
       "        vertical-align: top;\n",
       "    }\n",
       "\n",
       "    .dataframe thead th {\n",
       "        text-align: right;\n",
       "    }\n",
       "</style>\n",
       "<table border=\"1\" class=\"dataframe\">\n",
       "  <thead>\n",
       "    <tr style=\"text-align: right;\">\n",
       "      <th></th>\n",
       "      <th>debt</th>\n",
       "    </tr>\n",
       "    <tr>\n",
       "      <th>total_income_category</th>\n",
       "      <th></th>\n",
       "    </tr>\n",
       "  </thead>\n",
       "  <tbody>\n",
       "    <tr>\n",
       "      <th>A</th>\n",
       "      <td>0.080000</td>\n",
       "    </tr>\n",
       "    <tr>\n",
       "      <th>B</th>\n",
       "      <td>0.070602</td>\n",
       "    </tr>\n",
       "    <tr>\n",
       "      <th>C</th>\n",
       "      <td>0.084982</td>\n",
       "    </tr>\n",
       "    <tr>\n",
       "      <th>D</th>\n",
       "      <td>0.060172</td>\n",
       "    </tr>\n",
       "    <tr>\n",
       "      <th>E</th>\n",
       "      <td>0.090909</td>\n",
       "    </tr>\n",
       "  </tbody>\n",
       "</table>\n",
       "</div>"
      ],
      "text/plain": [
       "                           debt\n",
       "total_income_category          \n",
       "A                      0.080000\n",
       "B                      0.070602\n",
       "C                      0.084982\n",
       "D                      0.060172\n",
       "E                      0.090909"
      ]
     },
     "execution_count": 30,
     "metadata": {},
     "output_type": "execute_result"
    }
   ],
   "source": [
    "data.groupby('total_income_category')[['debt']].sum() / data.groupby('total_income_category')[['debt']].count() #конверсия"
   ]
  },
  {
   "cell_type": "markdown",
   "id": "2cf93240",
   "metadata": {},
   "source": [
    "<div class=\"alert alert-success\"; style=\"border-left: 7px solid green\">\n",
    "<h5> ✔️ <font color=\"green\">Комментарий ревьюера (зеленый)</font></h5>\n",
    "\n",
    "Спасибо за интересные наблюдения, на малочисленные категории заемщиков(А, D, E) ориентироваться не стоит, поэтому можно предположить, что более состоятельный клиент - более надежный\n",
    "\n",
    "</div>"
   ]
  },
  {
   "cell_type": "markdown",
   "id": "6dd14b57",
   "metadata": {
    "deletable": false,
    "id": "6dd14b57"
   },
   "source": [
    "**Вывод:** Клиенты с доходами категории C являются большими должниками. Клиенты с категориями A и E имеют слишком мало данных, посравнению с другими категориями."
   ]
  },
  {
   "cell_type": "markdown",
   "id": "1dcc9b12",
   "metadata": {
    "deletable": false,
    "editable": false,
    "id": "1dcc9b12"
   },
   "source": [
    "#### 3.4 Как разные цели кредита влияют на его возврат в срок?"
   ]
  },
  {
   "cell_type": "code",
   "execution_count": 31,
   "id": "c602bc8b",
   "metadata": {
    "deletable": false,
    "id": "c602bc8b"
   },
   "outputs": [
    {
     "data": {
      "text/html": [
       "<div>\n",
       "<style scoped>\n",
       "    .dataframe tbody tr th:only-of-type {\n",
       "        vertical-align: middle;\n",
       "    }\n",
       "\n",
       "    .dataframe tbody tr th {\n",
       "        vertical-align: top;\n",
       "    }\n",
       "\n",
       "    .dataframe thead th {\n",
       "        text-align: right;\n",
       "    }\n",
       "</style>\n",
       "<table border=\"1\" class=\"dataframe\">\n",
       "  <thead>\n",
       "    <tr style=\"text-align: right;\">\n",
       "      <th></th>\n",
       "      <th>debt</th>\n",
       "    </tr>\n",
       "    <tr>\n",
       "      <th>purpose_category</th>\n",
       "      <th></th>\n",
       "    </tr>\n",
       "  </thead>\n",
       "  <tbody>\n",
       "    <tr>\n",
       "      <th>операции с автомобилем</th>\n",
       "      <td>400</td>\n",
       "    </tr>\n",
       "    <tr>\n",
       "      <th>операции с недвижимостью</th>\n",
       "      <td>780</td>\n",
       "    </tr>\n",
       "    <tr>\n",
       "      <th>получение образования</th>\n",
       "      <td>369</td>\n",
       "    </tr>\n",
       "    <tr>\n",
       "      <th>проведение свадьбы</th>\n",
       "      <td>183</td>\n",
       "    </tr>\n",
       "  </tbody>\n",
       "</table>\n",
       "</div>"
      ],
      "text/plain": [
       "                          debt\n",
       "purpose_category              \n",
       "операции с автомобилем     400\n",
       "операции с недвижимостью   780\n",
       "получение образования      369\n",
       "проведение свадьбы         183"
      ]
     },
     "execution_count": 31,
     "metadata": {},
     "output_type": "execute_result"
    }
   ],
   "source": [
    "data.groupby('purpose_category')[['debt']].sum() #находим кол-во должников по столбцу 'purpose_category'"
   ]
  },
  {
   "cell_type": "code",
   "execution_count": 32,
   "id": "73e43faf",
   "metadata": {},
   "outputs": [
    {
     "data": {
      "text/html": [
       "<div>\n",
       "<style scoped>\n",
       "    .dataframe tbody tr th:only-of-type {\n",
       "        vertical-align: middle;\n",
       "    }\n",
       "\n",
       "    .dataframe tbody tr th {\n",
       "        vertical-align: top;\n",
       "    }\n",
       "\n",
       "    .dataframe thead th {\n",
       "        text-align: right;\n",
       "    }\n",
       "</style>\n",
       "<table border=\"1\" class=\"dataframe\">\n",
       "  <thead>\n",
       "    <tr style=\"text-align: right;\">\n",
       "      <th></th>\n",
       "      <th>debt</th>\n",
       "    </tr>\n",
       "    <tr>\n",
       "      <th>purpose_category</th>\n",
       "      <th></th>\n",
       "    </tr>\n",
       "  </thead>\n",
       "  <tbody>\n",
       "    <tr>\n",
       "      <th>операции с автомобилем</th>\n",
       "      <td>4279</td>\n",
       "    </tr>\n",
       "    <tr>\n",
       "      <th>операции с недвижимостью</th>\n",
       "      <td>10751</td>\n",
       "    </tr>\n",
       "    <tr>\n",
       "      <th>получение образования</th>\n",
       "      <td>3988</td>\n",
       "    </tr>\n",
       "    <tr>\n",
       "      <th>проведение свадьбы</th>\n",
       "      <td>2313</td>\n",
       "    </tr>\n",
       "  </tbody>\n",
       "</table>\n",
       "</div>"
      ],
      "text/plain": [
       "                           debt\n",
       "purpose_category               \n",
       "операции с автомобилем     4279\n",
       "операции с недвижимостью  10751\n",
       "получение образования      3988\n",
       "проведение свадьбы         2313"
      ]
     },
     "execution_count": 32,
     "metadata": {},
     "output_type": "execute_result"
    }
   ],
   "source": [
    "data.groupby('purpose_category')[['debt']].count() #находим общее кол-во по каждой группе 'purpose_category'"
   ]
  },
  {
   "cell_type": "code",
   "execution_count": 33,
   "id": "ddcedd5a",
   "metadata": {},
   "outputs": [
    {
     "data": {
      "text/html": [
       "<div>\n",
       "<style scoped>\n",
       "    .dataframe tbody tr th:only-of-type {\n",
       "        vertical-align: middle;\n",
       "    }\n",
       "\n",
       "    .dataframe tbody tr th {\n",
       "        vertical-align: top;\n",
       "    }\n",
       "\n",
       "    .dataframe thead th {\n",
       "        text-align: right;\n",
       "    }\n",
       "</style>\n",
       "<table border=\"1\" class=\"dataframe\">\n",
       "  <thead>\n",
       "    <tr style=\"text-align: right;\">\n",
       "      <th></th>\n",
       "      <th>debt</th>\n",
       "    </tr>\n",
       "    <tr>\n",
       "      <th>purpose_category</th>\n",
       "      <th></th>\n",
       "    </tr>\n",
       "  </thead>\n",
       "  <tbody>\n",
       "    <tr>\n",
       "      <th>операции с автомобилем</th>\n",
       "      <td>0.093480</td>\n",
       "    </tr>\n",
       "    <tr>\n",
       "      <th>операции с недвижимостью</th>\n",
       "      <td>0.072551</td>\n",
       "    </tr>\n",
       "    <tr>\n",
       "      <th>получение образования</th>\n",
       "      <td>0.092528</td>\n",
       "    </tr>\n",
       "    <tr>\n",
       "      <th>проведение свадьбы</th>\n",
       "      <td>0.079118</td>\n",
       "    </tr>\n",
       "  </tbody>\n",
       "</table>\n",
       "</div>"
      ],
      "text/plain": [
       "                              debt\n",
       "purpose_category                  \n",
       "операции с автомобилем    0.093480\n",
       "операции с недвижимостью  0.072551\n",
       "получение образования     0.092528\n",
       "проведение свадьбы        0.079118"
      ]
     },
     "execution_count": 33,
     "metadata": {},
     "output_type": "execute_result"
    }
   ],
   "source": [
    "data.groupby('purpose_category')[['debt']].sum() / data.groupby('purpose_category')[['debt']].count() #конверсия"
   ]
  },
  {
   "cell_type": "markdown",
   "id": "66bf7533",
   "metadata": {},
   "source": [
    "<div class=\"alert alert-success\"; style=\"border-left: 7px solid green\">\n",
    "<h5> ✔️ <font color=\"green\">Комментарий ревьюера (зеленый)</font></h5>\n",
    "\n",
    "Хорошее обоснование, ипотечники являются самой обширной категорией и самой добросовестной\n",
    "\n",
    "</div>"
   ]
  },
  {
   "cell_type": "markdown",
   "id": "cf05ed63",
   "metadata": {
    "deletable": false,
    "id": "cf05ed63"
   },
   "source": [
    "**Вывод:**  Клиенты, которые берут кредит на \"операцию с автомобилем\" имеют больший процент задолженности. Недалеко ушли клиенты с категорией \"получение образования\""
   ]
  },
  {
   "cell_type": "markdown",
   "id": "46c1f10b",
   "metadata": {
    "deletable": false,
    "editable": false,
    "id": "46c1f10b"
   },
   "source": [
    "#### 3.5 Приведите возможные причины появления пропусков в исходных данных."
   ]
  },
  {
   "cell_type": "markdown",
   "id": "3697d2a9",
   "metadata": {
    "deletable": false,
    "id": "3697d2a9"
   },
   "source": [
    "*Ответ:* Пропуски были в двух столбцах days_emploeed и total_income. То есть трудовой стаж и заработная плата. \n",
    "\n",
    "Если посмотреть на код \"data[data['days_employed'].isnull()]\" до выполнения операций предобработки, то можно заметить, где есть пустое значение в первом столбце, то есть и во втором столбце. \n",
    "\n",
    "Можно предположить, что это не ошибка в данных. А эти люди не работают или не работают официально и из-за этого у них нет трудового стажа и зарплаты. Либо эти люди просто не предоставляли данные о стаже и зп."
   ]
  },
  {
   "cell_type": "markdown",
   "id": "c99401f1",
   "metadata": {},
   "source": [
    "<div class=\"alert alert-warning\"; style=\"border-left: 7px solid Gold\">\n",
    "<h5> ⚠️ <font color=\"DarkGoldenRod\">Комментарий ревьюера (желтый)</font></h5>\n",
    "\n",
    "Помимо человеческого фактора, что еще может стать причиной пропусков?\n",
    "\n",
    "</div>"
   ]
  },
  {
   "cell_type": "markdown",
   "id": "d585bd57",
   "metadata": {},
   "source": [
    "<div class=\"alert alert-info\"; style=\"border-left: 7px solid SteelBlue\">\n",
    "<h5>🎓 <font color=\"SteelBlue\">Комментарий от студента (синий)</font></h5>    \n",
    "\n",
    "Возможно, причиной пропусков также является сбор работы DataFrame при выгрузке данных или сбой в работе при внесении данных.\n",
    "    \n",
    "\n",
    "</div>"
   ]
  },
  {
   "cell_type": "markdown",
   "id": "b2f0da3c",
   "metadata": {},
   "source": [
    "<div class=\"alert alert-success\"; style=\"border-left: 7px solid green\">\n",
    "<h5> ✔️ <font color=\"green\">v2 Комментарий ревьюера (зеленый)</font></h5>\n",
    "\n",
    "✅ Да, основные причины — технические ошибки и человеческий фактор 👍\n",
    " \n",
    "</div>"
   ]
  },
  {
   "cell_type": "markdown",
   "id": "3137d257",
   "metadata": {
    "deletable": false,
    "editable": false,
    "id": "3137d257"
   },
   "source": [
    "#### 3.6 Объясните, почему заполнить пропуски медианным значением — лучшее решение для количественных переменных."
   ]
  },
  {
   "cell_type": "markdown",
   "id": "cf40012a",
   "metadata": {
    "deletable": false,
    "id": "cf40012a"
   },
   "source": [
    "*Ответ:* При медианном значении не вносим искажения в общую статистику по данным, усредняя значение в строке"
   ]
  },
  {
   "cell_type": "markdown",
   "id": "90706941",
   "metadata": {},
   "source": [
    "<div class=\"alert alert-success\"; style=\"border-left: 7px solid green\">\n",
    "<h5> ✔️ <font color=\"green\">Комментарий ревьюера (зеленый)</font></h5>\n",
    "\n",
    "Верно, медиана в отличие от среднего значения, менее чувствительна к выбросам, среднее значение смещается в сторону выбросов.\n",
    "\n",
    "</div>"
   ]
  },
  {
   "cell_type": "markdown",
   "id": "57bc304e",
   "metadata": {
    "deletable": false,
    "editable": false,
    "id": "57bc304e"
   },
   "source": [
    "### Шаг 4: общий вывод."
   ]
  },
  {
   "cell_type": "markdown",
   "id": "1ab75d1c",
   "metadata": {
    "deletable": false,
    "id": "1ab75d1c"
   },
   "source": [
    "В рамках анализа были проверены следующие гипотезы:\n",
    "\n",
    "Есть ли зависимость между количеством детей и возвратом кредита в срок?\n",
    "\n",
    "В рамках данного исследования не удалось оценить группы клиентов с 4 и 5 детьми - выборка оказалась слишком малой для анализа.\n",
    "Категория клиентов без детей оказалась самой многочисленной и процент задержек по кредиту самый низкий. Самый высокий процент задержек по оплатам оказался у клиентов с двумя детьми.\n",
    "\n",
    "Есть ли зависимость между семейным положением и возвратом кредита в срок?\n",
    "\n",
    "По результатам проверки данной гипотезы выявлена следующая закономерность - меньше всего просрочек по кредитам у вдов/вдовцев, больше всего у клиентов, не состоящих в отношениях. Самой массовой категорией являются клиенты в браке.\n",
    "\n",
    "Есть ли зависимость между уровнем дохода и возвратом кредита в срок?\n",
    "\n",
    "По результатам проверки данной гипотезы выявлена следующая закономерность - меньше всего просрочек по кредитам у клиентов с категорией A, больше всего у клиентов с категорией C.\n",
    "\n",
    "Как разные цели кредита влияют на его возврат в срок?\n",
    "\n",
    "По результатам проверки данной гипотезы выявлена следующая закономерность - меньше всего просрочек по кредитам по займам на недвижимость, больше всего по займам на автомобиль. Самой массовой категорией являются займы на недвижимость.\n"
   ]
  },
  {
   "cell_type": "markdown",
   "id": "77671b19",
   "metadata": {},
   "source": [
    "<div class=\"alert alert-danger\"; style=\"border-left: 7px solid FireBrick\">\n",
    "<h5> ❌ <font color=\"FireBrick\">Комментарий ревьюера (красный)</font></h5>\n",
    "\n",
    "В общем выводе хочется тезисно видеть все промежуточные выводы с цифрами. Это очень важно, поскольку топ-менеджеры, в большинстве своем, смотрят сразу сюда и только сюда...\n",
    "\n",
    "Тут важно обратиться к целям, которые были озвучены в самом начале и ответить на все вопросы. Важно оформить все тезисно и с цифрами. Еще важно описать все промежуточные выводы, которых не прописано в целях.\n",
    "Вкратце структура такая:\n",
    "- как были предобработаны данные(тут важно написать про изменения, если заполнялись пропуски или преобразовывались строки)\n",
    "- пройдись по целям и ответь на вопросы\n",
    "- добавь промежуточные выводы, которые считаешь нужным отметить\n",
    "\n",
    "Еще очень важно помнить, для кого ты делаешь проект, в зависимости от этого нужно сделать определенные акценты. В данном случае проект учебный, поэтому нужно ориентироваться по описанию.\n",
    "\n",
    "Для красивого оформления можешь воспользоваться [Кратким руководством по Маркдауну](https://paulradzkov.com/2014/markdown_cheatsheet/).\n",
    "    \n",
    "\n",
    "</div>"
   ]
  },
  {
   "cell_type": "markdown",
   "id": "be4dbecc",
   "metadata": {},
   "source": [
    "<div class=\"alert alert-info\"; style=\"border-left: 7px solid SteelBlue\">\n",
    "<h5>🎓 <font color=\"SteelBlue\">Комментарий от студента (синий)</font></h5>    \n",
    "\n",
    "**В рамках анализа были проверены следующие гипотезы:**   \n",
    "\n",
    "***Есть ли зависимость между количеством детей и возвратом кредита в срок?***  \n",
    "\n",
    "В рамках данного исследования не удалось оценить группы клиентов с 4 и 5 детьми - выборка оказалась слишком малой для анализа. Категория клиентов без детей оказалась самой многочисленной и процент задержек по кредиту самый низкий - **7,5%**. Самый высокий процент задержек по оплатам оказался у клиентов с двумя детьми - **9,4%**.  \n",
    "\n",
    "***Есть ли зависимость между семейным положением и возвратом кредита в срок?***\n",
    "\n",
    "По результатам проверки данной гипотезы выявлена следующая закономерность - меньше всего просрочек по кредитам у вдов/вдовцев это **6,6%**, больше всего у клиентов, не состоящих в отношениях - это **9,7%**. Самой массовой категорией являются клиенты в браке.\n",
    "\n",
    "***Есть ли зависимость между уровнем дохода и возвратом кредита в срок?***\n",
    "\n",
    "По результатам проверки данной гипотезы выявлена следующая закономерность - меньше всего просрочек по кредитам у клиентов с категорией C - **8,4%**.\n",
    "\n",
    "***Как разные цели кредита влияют на его возврат в срок?***\n",
    "    \n",
    "По результатам проверки данной гипотезы выявлена следующая закономерность - меньше всего просрочек по кредитам на недвижимость - **7,2%**, больше всего просрочек по кредитам на автомобиль - **9,3%**. Самой массовой категорией являются кредиты на недвижимость.\n",
    "    \n",
    "\n",
    "</div>"
   ]
  },
  {
   "cell_type": "markdown",
   "id": "f72015e5",
   "metadata": {},
   "source": [
    "<div class=\"alert alert-success\"; style=\"border-left: 7px solid green\">\n",
    "<h5> ✔️ <font color=\"green\">v2 Комментарий ревьюера (зеленый)</font></h5>\n",
    "\n",
    "✅ Спасибо, очень хороший и подробный общий вывод, которые содержит все промежуточные результаты 👍\n",
    " \n",
    "</div>"
   ]
  },
  {
   "cell_type": "markdown",
   "id": "2f5490e9",
   "metadata": {},
   "source": [
    "<div class=\"alert alert-info\"; style=\"border-left: 7px solid SteelBlue\">\n",
    "<h5>🎓 <font color=\"SteelBlue\">Комментарий от студента (синий)</font></h5>    \n",
    "\n",
    "***Какие были внесены изменения?***\n",
    "    \n",
    " * Я добавила ответ на пункт с комментарием **3.7.5.1**\n",
    " * Добавила цифры с итоговый вывод, для понимания процентного соотношения проделанной работы: пункт **3.8.0.1**\n",
    "    \n",
    "</div>"
   ]
  }
 ],
 "metadata": {
  "ExecuteTimeLog": [
   {
    "duration": 52,
    "start_time": "2023-07-04T07:31:58.575Z"
   },
   {
    "duration": 564,
    "start_time": "2023-07-04T07:32:21.292Z"
   },
   {
    "duration": 23,
    "start_time": "2023-07-04T07:32:21.858Z"
   },
   {
    "duration": 15,
    "start_time": "2023-07-04T07:32:21.882Z"
   },
   {
    "duration": 20,
    "start_time": "2023-07-04T07:32:21.899Z"
   },
   {
    "duration": 42,
    "start_time": "2023-07-04T07:32:21.922Z"
   },
   {
    "duration": 4,
    "start_time": "2023-07-04T07:32:21.966Z"
   },
   {
    "duration": 26,
    "start_time": "2023-07-04T07:32:21.972Z"
   },
   {
    "duration": 14,
    "start_time": "2023-07-04T07:32:22.001Z"
   },
   {
    "duration": 15,
    "start_time": "2023-07-04T07:32:22.017Z"
   },
   {
    "duration": 17,
    "start_time": "2023-07-04T07:32:22.033Z"
   },
   {
    "duration": 38,
    "start_time": "2023-07-04T07:32:22.052Z"
   },
   {
    "duration": 11,
    "start_time": "2023-07-04T07:32:22.092Z"
   },
   {
    "duration": 6,
    "start_time": "2023-07-04T07:32:22.113Z"
   },
   {
    "duration": 16,
    "start_time": "2023-07-04T07:32:22.121Z"
   },
   {
    "duration": 32,
    "start_time": "2023-07-04T07:32:22.139Z"
   },
   {
    "duration": 18,
    "start_time": "2023-07-04T07:32:22.172Z"
   },
   {
    "duration": 6,
    "start_time": "2023-07-04T07:32:22.192Z"
   },
   {
    "duration": 29,
    "start_time": "2023-07-04T07:32:22.200Z"
   },
   {
    "duration": 33,
    "start_time": "2023-07-04T07:32:22.231Z"
   },
   {
    "duration": 32,
    "start_time": "2023-07-04T07:32:22.266Z"
   },
   {
    "duration": 41,
    "start_time": "2023-07-04T07:32:22.300Z"
   },
   {
    "duration": 14,
    "start_time": "2023-07-04T07:32:22.343Z"
   },
   {
    "duration": 15,
    "start_time": "2023-07-04T07:32:22.359Z"
   },
   {
    "duration": 9,
    "start_time": "2023-07-04T07:32:22.376Z"
   },
   {
    "duration": 11,
    "start_time": "2023-07-04T07:32:22.387Z"
   },
   {
    "duration": 7,
    "start_time": "2023-07-04T07:32:37.664Z"
   },
   {
    "duration": 30,
    "start_time": "2023-07-04T07:33:07.553Z"
   },
   {
    "duration": 9,
    "start_time": "2023-07-04T07:33:11.616Z"
   },
   {
    "duration": 11,
    "start_time": "2023-07-04T07:35:08.292Z"
   },
   {
    "duration": 7,
    "start_time": "2023-07-04T07:35:35.546Z"
   },
   {
    "duration": 8,
    "start_time": "2023-07-04T07:36:03.975Z"
   },
   {
    "duration": 7,
    "start_time": "2023-07-04T07:38:40.314Z"
   },
   {
    "duration": 7,
    "start_time": "2023-07-04T07:38:49.038Z"
   },
   {
    "duration": 7,
    "start_time": "2023-07-04T07:39:06.431Z"
   },
   {
    "duration": 6,
    "start_time": "2023-07-04T07:39:10.960Z"
   },
   {
    "duration": 11,
    "start_time": "2023-07-04T07:56:40.512Z"
   },
   {
    "duration": 9,
    "start_time": "2023-07-04T07:57:19.047Z"
   },
   {
    "duration": 24,
    "start_time": "2023-07-04T07:58:15.837Z"
   },
   {
    "duration": 20,
    "start_time": "2023-07-04T07:59:13.540Z"
   },
   {
    "duration": 15,
    "start_time": "2023-07-04T07:59:40.728Z"
   },
   {
    "duration": 9,
    "start_time": "2023-07-04T07:59:42.576Z"
   },
   {
    "duration": 9,
    "start_time": "2023-07-04T08:03:30.804Z"
   },
   {
    "duration": 9,
    "start_time": "2023-07-04T08:03:44.331Z"
   },
   {
    "duration": 10,
    "start_time": "2023-07-04T08:06:09.187Z"
   },
   {
    "duration": 9,
    "start_time": "2023-07-04T08:06:16.693Z"
   },
   {
    "duration": 18,
    "start_time": "2023-07-04T08:06:31.826Z"
   },
   {
    "duration": 12,
    "start_time": "2023-07-04T08:06:44.431Z"
   },
   {
    "duration": 10,
    "start_time": "2023-07-04T08:07:28.501Z"
   },
   {
    "duration": 9,
    "start_time": "2023-07-04T08:07:31.551Z"
   },
   {
    "duration": 12,
    "start_time": "2023-07-04T08:07:32.165Z"
   },
   {
    "duration": 11,
    "start_time": "2023-07-04T08:09:19.540Z"
   },
   {
    "duration": 10,
    "start_time": "2023-07-04T08:09:21.083Z"
   },
   {
    "duration": 11,
    "start_time": "2023-07-04T08:12:46.146Z"
   },
   {
    "duration": 10,
    "start_time": "2023-07-04T08:13:44.337Z"
   },
   {
    "duration": 14,
    "start_time": "2023-07-04T08:14:58.236Z"
   },
   {
    "duration": 13,
    "start_time": "2023-07-04T08:21:41.724Z"
   },
   {
    "duration": 10,
    "start_time": "2023-07-04T08:23:33.963Z"
   },
   {
    "duration": 15,
    "start_time": "2023-07-04T08:23:41.886Z"
   },
   {
    "duration": 13,
    "start_time": "2023-07-04T08:24:32.256Z"
   },
   {
    "duration": 17,
    "start_time": "2023-07-04T08:25:44.724Z"
   },
   {
    "duration": 15,
    "start_time": "2023-07-04T08:48:43.498Z"
   },
   {
    "duration": 71,
    "start_time": "2023-07-04T08:48:54.352Z"
   },
   {
    "duration": 28,
    "start_time": "2023-07-04T08:48:59.295Z"
   },
   {
    "duration": 27,
    "start_time": "2023-07-04T08:49:13.899Z"
   },
   {
    "duration": 7,
    "start_time": "2023-07-04T08:49:28.455Z"
   },
   {
    "duration": 41,
    "start_time": "2023-07-04T08:49:39.594Z"
   },
   {
    "duration": 67,
    "start_time": "2023-07-04T08:50:04.009Z"
   },
   {
    "duration": 15,
    "start_time": "2023-07-04T08:50:04.078Z"
   },
   {
    "duration": 62,
    "start_time": "2023-07-04T08:50:04.094Z"
   },
   {
    "duration": 34,
    "start_time": "2023-07-04T08:50:04.158Z"
   },
   {
    "duration": 127,
    "start_time": "2023-07-04T08:50:04.194Z"
   },
   {
    "duration": 7,
    "start_time": "2023-07-04T08:50:04.324Z"
   },
   {
    "duration": 22,
    "start_time": "2023-07-04T08:50:04.334Z"
   },
   {
    "duration": 17,
    "start_time": "2023-07-04T08:50:04.358Z"
   },
   {
    "duration": 9,
    "start_time": "2023-07-04T08:50:04.376Z"
   },
   {
    "duration": 7,
    "start_time": "2023-07-04T08:50:04.388Z"
   },
   {
    "duration": 47,
    "start_time": "2023-07-04T08:50:04.397Z"
   },
   {
    "duration": 9,
    "start_time": "2023-07-04T08:50:04.445Z"
   },
   {
    "duration": 7,
    "start_time": "2023-07-04T08:50:04.455Z"
   },
   {
    "duration": 17,
    "start_time": "2023-07-04T08:50:04.463Z"
   },
   {
    "duration": 21,
    "start_time": "2023-07-04T08:50:04.482Z"
   },
   {
    "duration": 24,
    "start_time": "2023-07-04T08:50:04.513Z"
   },
   {
    "duration": 3,
    "start_time": "2023-07-04T08:50:04.539Z"
   },
   {
    "duration": 21,
    "start_time": "2023-07-04T08:50:04.543Z"
   },
   {
    "duration": 11,
    "start_time": "2023-07-04T08:50:04.565Z"
   },
   {
    "duration": 7,
    "start_time": "2023-07-04T08:50:04.578Z"
   },
   {
    "duration": 23,
    "start_time": "2023-07-04T08:50:04.587Z"
   },
   {
    "duration": 25,
    "start_time": "2023-07-04T08:50:04.611Z"
   },
   {
    "duration": 22,
    "start_time": "2023-07-04T08:50:04.638Z"
   },
   {
    "duration": 18,
    "start_time": "2023-07-04T08:50:04.661Z"
   },
   {
    "duration": 19,
    "start_time": "2023-07-04T08:50:04.680Z"
   },
   {
    "duration": 25,
    "start_time": "2023-07-04T08:50:04.701Z"
   },
   {
    "duration": 34,
    "start_time": "2023-07-04T08:50:04.727Z"
   },
   {
    "duration": 10,
    "start_time": "2023-07-04T08:50:04.764Z"
   },
   {
    "duration": 12,
    "start_time": "2023-07-04T08:50:04.776Z"
   },
   {
    "duration": 30,
    "start_time": "2023-07-04T08:50:04.789Z"
   },
   {
    "duration": 17,
    "start_time": "2023-07-04T08:50:04.820Z"
   },
   {
    "duration": 10,
    "start_time": "2023-07-04T08:50:04.839Z"
   },
   {
    "duration": 41,
    "start_time": "2023-07-04T08:50:04.851Z"
   },
   {
    "duration": 456,
    "start_time": "2023-07-04T10:47:52.497Z"
   },
   {
    "duration": 25,
    "start_time": "2023-07-04T10:47:52.955Z"
   },
   {
    "duration": 17,
    "start_time": "2023-07-04T10:47:52.981Z"
   },
   {
    "duration": 17,
    "start_time": "2023-07-04T10:47:53.000Z"
   },
   {
    "duration": 74,
    "start_time": "2023-07-04T10:47:53.020Z"
   },
   {
    "duration": 4,
    "start_time": "2023-07-04T10:47:53.096Z"
   },
   {
    "duration": 20,
    "start_time": "2023-07-04T10:47:53.101Z"
   },
   {
    "duration": 12,
    "start_time": "2023-07-04T10:47:53.123Z"
   },
   {
    "duration": 22,
    "start_time": "2023-07-04T10:47:53.137Z"
   },
   {
    "duration": 6,
    "start_time": "2023-07-04T10:47:53.161Z"
   },
   {
    "duration": 38,
    "start_time": "2023-07-04T10:47:53.168Z"
   },
   {
    "duration": 11,
    "start_time": "2023-07-04T10:47:53.208Z"
   },
   {
    "duration": 24,
    "start_time": "2023-07-04T10:47:53.220Z"
   },
   {
    "duration": 28,
    "start_time": "2023-07-04T10:47:53.247Z"
   },
   {
    "duration": 32,
    "start_time": "2023-07-04T10:47:53.277Z"
   },
   {
    "duration": 18,
    "start_time": "2023-07-04T10:47:53.310Z"
   },
   {
    "duration": 7,
    "start_time": "2023-07-04T10:47:53.330Z"
   },
   {
    "duration": 42,
    "start_time": "2023-07-04T10:47:53.339Z"
   },
   {
    "duration": 17,
    "start_time": "2023-07-04T10:47:53.382Z"
   },
   {
    "duration": 16,
    "start_time": "2023-07-04T10:47:53.400Z"
   },
   {
    "duration": 29,
    "start_time": "2023-07-04T10:47:53.418Z"
   },
   {
    "duration": 59,
    "start_time": "2023-07-04T10:47:53.449Z"
   },
   {
    "duration": 41,
    "start_time": "2023-07-04T10:47:53.509Z"
   },
   {
    "duration": 23,
    "start_time": "2023-07-04T10:47:53.552Z"
   },
   {
    "duration": 10,
    "start_time": "2023-07-04T10:47:53.577Z"
   },
   {
    "duration": 11,
    "start_time": "2023-07-04T10:47:53.589Z"
   },
   {
    "duration": 19,
    "start_time": "2023-07-04T10:47:53.601Z"
   },
   {
    "duration": 23,
    "start_time": "2023-07-04T10:47:53.622Z"
   },
   {
    "duration": 22,
    "start_time": "2023-07-04T10:47:53.647Z"
   },
   {
    "duration": 21,
    "start_time": "2023-07-04T10:47:53.670Z"
   },
   {
    "duration": 11,
    "start_time": "2023-07-04T10:47:53.693Z"
   },
   {
    "duration": 11,
    "start_time": "2023-07-04T10:47:53.705Z"
   },
   {
    "duration": 42,
    "start_time": "2023-07-04T10:47:53.718Z"
   },
   {
    "duration": 90,
    "start_time": "2023-07-04T11:09:56.939Z"
   },
   {
    "duration": 92,
    "start_time": "2023-07-04T11:42:00.738Z"
   },
   {
    "duration": 542,
    "start_time": "2023-07-04T11:46:55.971Z"
   },
   {
    "duration": 24,
    "start_time": "2023-07-04T11:46:56.515Z"
   },
   {
    "duration": 19,
    "start_time": "2023-07-04T11:46:56.541Z"
   },
   {
    "duration": 14,
    "start_time": "2023-07-04T11:46:56.562Z"
   },
   {
    "duration": 34,
    "start_time": "2023-07-04T11:46:56.578Z"
   },
   {
    "duration": 4,
    "start_time": "2023-07-04T11:46:56.613Z"
   },
   {
    "duration": 16,
    "start_time": "2023-07-04T11:46:56.618Z"
   },
   {
    "duration": 25,
    "start_time": "2023-07-04T11:46:56.635Z"
   },
   {
    "duration": 15,
    "start_time": "2023-07-04T11:46:56.662Z"
   },
   {
    "duration": 4,
    "start_time": "2023-07-04T11:46:56.679Z"
   },
   {
    "duration": 34,
    "start_time": "2023-07-04T11:46:56.685Z"
   },
   {
    "duration": 39,
    "start_time": "2023-07-04T11:46:56.721Z"
   },
   {
    "duration": 4,
    "start_time": "2023-07-04T11:46:56.762Z"
   },
   {
    "duration": 17,
    "start_time": "2023-07-04T11:46:56.770Z"
   },
   {
    "duration": 25,
    "start_time": "2023-07-04T11:46:56.788Z"
   },
   {
    "duration": 16,
    "start_time": "2023-07-04T11:46:56.814Z"
   },
   {
    "duration": 5,
    "start_time": "2023-07-04T11:46:56.856Z"
   },
   {
    "duration": 14,
    "start_time": "2023-07-04T11:46:56.862Z"
   },
   {
    "duration": 14,
    "start_time": "2023-07-04T11:46:56.878Z"
   },
   {
    "duration": 7,
    "start_time": "2023-07-04T11:46:56.893Z"
   },
   {
    "duration": 10,
    "start_time": "2023-07-04T11:46:56.901Z"
   },
   {
    "duration": 13,
    "start_time": "2023-07-04T11:46:56.913Z"
   },
   {
    "duration": 37,
    "start_time": "2023-07-04T11:46:56.927Z"
   },
   {
    "duration": 13,
    "start_time": "2023-07-04T11:46:56.965Z"
   },
   {
    "duration": 9,
    "start_time": "2023-07-04T11:46:56.980Z"
   },
   {
    "duration": 8,
    "start_time": "2023-07-04T11:46:56.991Z"
   },
   {
    "duration": 13,
    "start_time": "2023-07-04T11:46:57.001Z"
   },
   {
    "duration": 51,
    "start_time": "2023-07-04T11:46:57.015Z"
   },
   {
    "duration": 14,
    "start_time": "2023-07-04T11:46:57.067Z"
   },
   {
    "duration": 26,
    "start_time": "2023-07-04T11:46:57.083Z"
   },
   {
    "duration": 11,
    "start_time": "2023-07-04T11:46:57.111Z"
   },
   {
    "duration": 34,
    "start_time": "2023-07-04T11:46:57.123Z"
   },
   {
    "duration": 19,
    "start_time": "2023-07-04T11:46:57.159Z"
   },
   {
    "duration": 517,
    "start_time": "2023-07-04T11:47:55.256Z"
   },
   {
    "duration": 22,
    "start_time": "2023-07-04T11:47:55.775Z"
   },
   {
    "duration": 14,
    "start_time": "2023-07-04T11:47:55.799Z"
   },
   {
    "duration": 9,
    "start_time": "2023-07-04T11:47:55.815Z"
   },
   {
    "duration": 64,
    "start_time": "2023-07-04T11:47:55.826Z"
   },
   {
    "duration": 3,
    "start_time": "2023-07-04T11:47:55.892Z"
   },
   {
    "duration": 16,
    "start_time": "2023-07-04T11:47:55.897Z"
   },
   {
    "duration": 4,
    "start_time": "2023-07-04T11:47:55.915Z"
   },
   {
    "duration": 19,
    "start_time": "2023-07-04T11:47:55.921Z"
   },
   {
    "duration": 25,
    "start_time": "2023-07-04T11:47:55.944Z"
   },
   {
    "duration": 38,
    "start_time": "2023-07-04T11:47:55.970Z"
   },
   {
    "duration": 10,
    "start_time": "2023-07-04T11:47:56.010Z"
   },
   {
    "duration": 12,
    "start_time": "2023-07-04T11:47:56.022Z"
   },
   {
    "duration": 39,
    "start_time": "2023-07-04T11:47:56.036Z"
   },
   {
    "duration": 33,
    "start_time": "2023-07-04T11:47:56.077Z"
   },
   {
    "duration": 18,
    "start_time": "2023-07-04T11:47:56.111Z"
   },
   {
    "duration": 10,
    "start_time": "2023-07-04T11:47:56.131Z"
   },
   {
    "duration": 32,
    "start_time": "2023-07-04T11:47:56.143Z"
   },
   {
    "duration": 15,
    "start_time": "2023-07-04T11:47:56.177Z"
   },
   {
    "duration": 4,
    "start_time": "2023-07-04T11:47:56.194Z"
   },
   {
    "duration": 12,
    "start_time": "2023-07-04T11:47:56.200Z"
   },
   {
    "duration": 15,
    "start_time": "2023-07-04T11:47:56.214Z"
   },
   {
    "duration": 8,
    "start_time": "2023-07-04T11:47:56.230Z"
   },
   {
    "duration": 38,
    "start_time": "2023-07-04T11:47:56.239Z"
   },
   {
    "duration": 10,
    "start_time": "2023-07-04T11:47:56.278Z"
   },
   {
    "duration": 11,
    "start_time": "2023-07-04T11:47:56.290Z"
   },
   {
    "duration": 16,
    "start_time": "2023-07-04T11:47:56.303Z"
   },
   {
    "duration": 44,
    "start_time": "2023-07-04T11:47:56.324Z"
   },
   {
    "duration": 17,
    "start_time": "2023-07-04T11:47:56.370Z"
   },
   {
    "duration": 22,
    "start_time": "2023-07-04T11:47:56.388Z"
   },
   {
    "duration": 11,
    "start_time": "2023-07-04T11:47:56.412Z"
   },
   {
    "duration": 39,
    "start_time": "2023-07-04T11:47:56.424Z"
   },
   {
    "duration": 16,
    "start_time": "2023-07-04T11:47:56.467Z"
   },
   {
    "duration": 474,
    "start_time": "2023-07-04T12:45:20.314Z"
   },
   {
    "duration": 22,
    "start_time": "2023-07-04T12:45:20.790Z"
   },
   {
    "duration": 18,
    "start_time": "2023-07-04T12:45:20.814Z"
   },
   {
    "duration": 9,
    "start_time": "2023-07-04T12:45:20.833Z"
   },
   {
    "duration": 35,
    "start_time": "2023-07-04T12:45:20.860Z"
   },
   {
    "duration": 3,
    "start_time": "2023-07-04T12:45:20.897Z"
   },
   {
    "duration": 13,
    "start_time": "2023-07-04T12:45:20.902Z"
   },
   {
    "duration": 5,
    "start_time": "2023-07-04T12:45:20.917Z"
   },
   {
    "duration": 13,
    "start_time": "2023-07-04T12:45:20.923Z"
   },
   {
    "duration": 27,
    "start_time": "2023-07-04T12:45:20.938Z"
   },
   {
    "duration": 46,
    "start_time": "2023-07-04T12:45:20.967Z"
   },
   {
    "duration": 10,
    "start_time": "2023-07-04T12:45:21.015Z"
   },
   {
    "duration": 6,
    "start_time": "2023-07-04T12:45:21.027Z"
   },
   {
    "duration": 25,
    "start_time": "2023-07-04T12:45:21.036Z"
   },
   {
    "duration": 34,
    "start_time": "2023-07-04T12:45:21.062Z"
   },
   {
    "duration": 17,
    "start_time": "2023-07-04T12:45:21.098Z"
   },
   {
    "duration": 3,
    "start_time": "2023-07-04T12:45:21.117Z"
   },
   {
    "duration": 12,
    "start_time": "2023-07-04T12:45:21.122Z"
   },
   {
    "duration": 6,
    "start_time": "2023-07-04T12:45:21.136Z"
   },
   {
    "duration": 17,
    "start_time": "2023-07-04T12:45:21.143Z"
   },
   {
    "duration": 31,
    "start_time": "2023-07-04T12:45:21.162Z"
   },
   {
    "duration": 25,
    "start_time": "2023-07-04T12:45:21.195Z"
   },
   {
    "duration": 7,
    "start_time": "2023-07-04T12:45:21.222Z"
   },
   {
    "duration": 15,
    "start_time": "2023-07-04T12:45:21.231Z"
   },
   {
    "duration": 20,
    "start_time": "2023-07-04T12:45:21.248Z"
   },
   {
    "duration": 13,
    "start_time": "2023-07-04T12:45:21.270Z"
   },
   {
    "duration": 15,
    "start_time": "2023-07-04T12:45:21.284Z"
   },
   {
    "duration": 9,
    "start_time": "2023-07-04T12:45:21.301Z"
   },
   {
    "duration": 9,
    "start_time": "2023-07-04T12:45:21.311Z"
   },
   {
    "duration": 45,
    "start_time": "2023-07-04T12:45:21.322Z"
   },
   {
    "duration": 11,
    "start_time": "2023-07-04T12:45:21.369Z"
   },
   {
    "duration": 13,
    "start_time": "2023-07-04T12:45:21.382Z"
   },
   {
    "duration": 25,
    "start_time": "2023-07-04T12:45:21.396Z"
   }
  ],
  "colab": {
   "provenance": []
  },
  "kernelspec": {
   "display_name": "Python 3 (ipykernel)",
   "language": "python",
   "name": "python3"
  },
  "language_info": {
   "codemirror_mode": {
    "name": "ipython",
    "version": 3
   },
   "file_extension": ".py",
   "mimetype": "text/x-python",
   "name": "python",
   "nbconvert_exporter": "python",
   "pygments_lexer": "ipython3",
   "version": "3.9.5"
  },
  "toc": {
   "base_numbering": 1,
   "nav_menu": {},
   "number_sections": true,
   "sideBar": true,
   "skip_h1_title": true,
   "title_cell": "Table of Contents",
   "title_sidebar": "Contents",
   "toc_cell": false,
   "toc_position": {
    "height": "335.429px",
    "left": "370px",
    "top": "266.143px",
    "width": "291.5px"
   },
   "toc_section_display": true,
   "toc_window_display": true
  }
 },
 "nbformat": 4,
 "nbformat_minor": 5
}
